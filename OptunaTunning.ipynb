{
 "cells": [
  {
   "cell_type": "markdown",
   "id": "ad9c08d0-f1cb-4ee6-809b-3fd65500ff03",
   "metadata": {},
   "source": [
    "# Optuna framework for pyJedAI fine-tunning"
   ]
  },
  {
   "cell_type": "code",
   "execution_count": 2,
   "id": "a716763f-c7ab-42a9-9a68-01c6aea0e33f",
   "metadata": {},
   "outputs": [],
   "source": [
    "import plotly.express as px\n",
    "import logging\n",
    "import sys\n",
    "import optuna\n",
    "import plotly\n",
    "import os\n",
    "import sys\n",
    "import pandas as pd\n",
    "%load_ext autoreload\n",
    "%autoreload 2\n",
    "%reload_ext autoreload\n",
    "from optuna.visualization import *"
   ]
  },
  {
   "cell_type": "code",
   "execution_count": 4,
   "id": "f2c3b71f-3ad7-43d2-b2ed-bd30fe6741ce",
   "metadata": {},
   "outputs": [],
   "source": [
    "db_name = \"pyjedai\"\n",
    "title = \"Test\"\n",
    "storage_name = \"sqlite:///{}.db\".format(db_name)\n",
    "study_name = title  # Unique identifier of the study."
   ]
  },
  {
   "cell_type": "code",
   "execution_count": null,
   "id": "55542ebe-5644-4241-879e-2a5e554be641",
   "metadata": {},
   "outputs": [],
   "source": [
    "'''\n",
    " OPTUNA objective function\n",
    "'''\n",
    "def objective(trial):\n",
    "    \n",
    "    if CHAR_TOKENIZATION == True:\n",
    "        max_num_of_clusters = trial.suggest_int(\"max_num_of_clusters\", 100, int(dataset.shape[0]/2)) \n",
    "        max_dissimilarity_distance = trial.suggest_float(\"max_dissimilarity_distance\", 0.05, 0.95)\n",
    "    else:\n",
    "        max_num_of_clusters = trial.suggest_int(\"max_num_of_clusters\", 100, int(dataset.shape[0]/2)) \n",
    "        max_dissimilarity_distance = trial.suggest_float(\"max_dissimilarity_distance\", 0.05, 0.95)\n",
    "\n",
    "    \n",
    "    # -- WTA algorithm\n",
    "    window_size = trial.suggest_int(\"window_size\", 5, 100) \n",
    "    number_of_permutations= trial.suggest_int(\"number_of_permutations\", 1, 5) \n",
    "    \n",
    "    # -- Similarity evaluation\n",
    "    # similarity_vectors = trial.suggest_categorical(\"similarity_vectors\", [\"initial\"])\n",
    "    similarity_vectors = \"initial\"\n",
    "    similarity_threshold = trial.suggest_float(\"similarity_threshold\", 0.45, 0.75)\n",
    "    # metric = trial.suggest_categorical(\"metric\",[\"kendal\", \"spearman\"]) \n",
    "\n",
    "    return recall"
   ]
  },
  {
   "cell_type": "code",
   "execution_count": null,
   "id": "0b09050d-941a-49e0-8474-5842a8102f36",
   "metadata": {},
   "outputs": [],
   "source": [
    "study_name = title  # Unique identifier of the study.\n",
    "study = optuna.create_study(directions=[\"maximize\"], study_name=study_name, storage=storage_name, load_if_exists=True)\n",
    "print(\"Optuna trials starting\")\n",
    "study.optimize(objective, n_trials=num_of_trials, show_progress_bar=True)\n",
    "print(\"Optuna trials finished\")"
   ]
  }
 ],
 "metadata": {
  "kernelspec": {
   "display_name": "Python 3",
   "language": "python",
   "name": "python3"
  },
  "language_info": {
   "codemirror_mode": {
    "name": "ipython",
    "version": 3
   },
   "file_extension": ".py",
   "mimetype": "text/x-python",
   "name": "python",
   "nbconvert_exporter": "python",
   "pygments_lexer": "ipython3",
   "version": "3.10.5"
  }
 },
 "nbformat": 4,
 "nbformat_minor": 5
}
