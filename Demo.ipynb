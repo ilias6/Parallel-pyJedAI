{
 "cells": [
  {
   "cell_type": "markdown",
   "id": "594b36f3-1d24-426b-8c72-5e25a05ded65",
   "metadata": {},
   "source": [
    "<div align=\"center\"> \n",
    "    <br><br>\n",
    "<img src=\"https://raw.githubusercontent.com/Nikoletos-K/pyJedAI/main/documentation/pyjedai.logo.drawio.png?raw=true\" alt=\"drawing\" width=\"400\"/>\n",
    "<br><br>\n",
    "</div>\n",
    "<hr>\n",
    "In this notebook we present the pyJedAI approach. pyJedAI is a an end-to-end and an upcoming python framework for Entity Resolution that will be a manual of the Entity Resolution. Its usages will outperform other state-of-the-art ER frameworks as it's easy-to-use and highly optimized as it is consisted from other established python libraries (i.e pandas, networkX, ..).\n",
    "\n",
    "<!-- The bellow figure depicts pyJedAIs structure. -->\n",
    "<!-- <div align=\"center\"> \n",
    "<img src=\"https://github.com/Nikoletos-K/pyJedAI/blob/main/documentation/pyJedAIarchitecture.png?raw=true\" alt=\"drawing\" width=\"800\"/>\n",
    "</div> -->"
   ]
  },
  {
   "cell_type": "markdown",
   "id": "64dc1f28-c9c2-40b2-a50b-b0bcffe405e1",
   "metadata": {},
   "source": [
    "# Reading the dataset "
   ]
  },
  {
   "cell_type": "markdown",
   "id": "73f47dcf-8628-4fe8-bdbc-3122fb94bcba",
   "metadata": {},
   "source": [
    "# Creating workflow using pyjedai methods"
   ]
  },
  {
   "cell_type": "markdown",
   "id": "22f983ad-bd24-496c-a85f-1ef206fbdbef",
   "metadata": {},
   "source": [
    "# Evaluation and detailed reporting"
   ]
  },
  {
   "cell_type": "markdown",
   "id": "cf9a959c-1cb0-416f-8a59-e1d7122de047",
   "metadata": {},
   "source": [
    "# Visualization"
   ]
  },
  {
   "cell_type": "markdown",
   "id": "a638c614-dcca-4a7f-880e-3c09388b3e63",
   "metadata": {},
   "source": [
    "# Creating & Experimenting with specific workflow"
   ]
  },
  {
   "cell_type": "markdown",
   "id": "5c6fcab1-85d4-434d-8239-78a68048f272",
   "metadata": {},
   "source": [
    "<hr>\n",
    "<div align=\"right\">\n",
    "K. Nikoletos, G. Papadakis & M. Koubarakis\n",
    "</div>\n",
    "<div align=\"right\">\n",
    "<a href=\"https://github.com/Nikoletos-K/pyJedAI/blob/main/LICENSE\">Apache License 2.0</a>\n",
    "</div>"
   ]
  }
 ],
 "metadata": {
  "kernelspec": {
   "display_name": "Python 3",
   "language": "python",
   "name": "python3"
  },
  "language_info": {
   "codemirror_mode": {
    "name": "ipython",
    "version": 3
   },
   "file_extension": ".py",
   "mimetype": "text/x-python",
   "name": "python",
   "nbconvert_exporter": "python",
   "pygments_lexer": "ipython3",
   "version": "3.10.5"
  }
 },
 "nbformat": 4,
 "nbformat_minor": 5
}
