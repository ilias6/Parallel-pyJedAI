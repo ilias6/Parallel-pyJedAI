{
 "cells": [
  {
   "attachments": {
    "dbe204b8-2097-4734-9d9a-060e931f1bc9.png": {
     "image/png": "[encoded data removed]"
    }
   },
   "cell_type": "markdown",
   "id": "ad9c08d0-f1cb-4ee6-809b-3fd65500ff03",
   "metadata": {
    "jp-MarkdownHeadingCollapsed": true,
    "tags": []
   },
   "source": [
    "<table>\n",
    "<tr>\n",
    "<td>  <img  src=\"https://raw.githubusercontent.com/Nikoletos-K/pyJedAI/main/documentation/pyjedai.logo.drawio.png?raw=true \"style=\"width: 300px;padding: 40px\"/>\n",
    "</td>\n",
    "<td> <img src=\"attachment:dbe204b8-2097-4734-9d9a-060e931f1bc9.png\" style=\"width: 250px;\"/> </td>\n",
    "</tr></table>\n",
    "\n",
    "# pyJedAI optimization with Optuna"
   ]
  },
  {
   "cell_type": "code",
   "execution_count": 1,
   "id": "a716763f-c7ab-42a9-9a68-01c6aea0e33f",
   "metadata": {},
   "outputs": [],
   "source": [
    "import plotly.express as px\n",
    "import logging\n",
    "import sys\n",
    "import optuna\n",
    "import plotly\n",
    "import os\n",
    "import sys\n",
    "import pandas as pd\n",
    "%load_ext autoreload\n",
    "%autoreload 2\n",
    "%reload_ext autoreload\n",
    "from optuna.visualization import *\n",
    "\n",
    "import plotly.io as pio\n",
    "import plotly.express as px\n",
    "\n",
    "pio.templates.default = \"plotly_white\""
   ]
  },
  {
   "cell_type": "markdown",
   "id": "c1574ad5-d9f6-464c-aff7-4f7b4dc4bc91",
   "metadata": {},
   "source": [
    "## Data Reading"
   ]
  },
  {
   "cell_type": "code",
   "execution_count": 2,
   "id": "79fc339f-ee27-4d37-93c5-827789c6fc48",
   "metadata": {},
   "outputs": [],
   "source": [
    "from pyjedai.datamodel import Data\n",
    "\n",
    "data = Data(\n",
    "    dataset_1=pd.read_csv(\"./data/D2/abt.csv\", sep='|', engine='python', na_filter=False).astype(str),\n",
    "    attributes_1=['id','name','description'],\n",
    "    id_column_name_1='id',\n",
    "    dataset_2=pd.read_csv(\"./data/D2/buy.csv\", sep='|', engine='python', na_filter=False).astype(str),\n",
    "    attributes_2=['id','name','description'],\n",
    "    id_column_name_2='id',\n",
    "    ground_truth=pd.read_csv(\"./data/D2/gt.csv\", sep='|', engine='python'),\n",
    ")\n",
    "\n",
    "data.process()"
   ]
  },
  {
   "cell_type": "markdown",
   "id": "747702f2-f730-45a7-a920-d0670696f818",
   "metadata": {},
   "source": [
    "## WorkFlow"
   ]
  },
  {
   "cell_type": "code",
   "execution_count": 3,
   "id": "9df60410-c0ba-41aa-ae4b-61ec21262173",
   "metadata": {},
   "outputs": [],
   "source": [
    "from pyjedai.workflow import WorkFlow, compare_workflows\n",
    "from pyjedai.block_building import StandardBlocking, QGramsBlocking, ExtendedQGramsBlocking, SuffixArraysBlocking, ExtendedSuffixArraysBlocking\n",
    "from pyjedai.block_cleaning import BlockFiltering, BlockPurging\n",
    "from pyjedai.comparison_cleaning import WeightedEdgePruning, WeightedNodePruning, CardinalityEdgePruning, CardinalityNodePruning, BLAST, ReciprocalCardinalityNodePruning, ReciprocalWeightedNodePruning, ComparisonPropagation\n",
    "from pyjedai.matching import EntityMatching\n",
    "from pyjedai.clustering import ConnectedComponentsClustering"
   ]
  },
  {
   "cell_type": "code",
   "execution_count": 4,
   "id": "f2c3b71f-3ad7-43d2-b2ed-bd30fe6741ce",
   "metadata": {},
   "outputs": [],
   "source": [
    "db_name = \"pyjedai\"\n",
    "title = \"Test\"\n",
    "storage_name = \"sqlite:///{}.db\".format(db_name)\n",
    "study_name = title  # Unique identifier of the study."
   ]
  },
  {
   "cell_type": "code",
   "execution_count": 7,
   "id": "55542ebe-5644-4241-879e-2a5e554be641",
   "metadata": {},
   "outputs": [],
   "source": [
    "'''\n",
    " OPTUNA objective function\n",
    "'''\n",
    "def objective(trial):\n",
    "    \n",
    "    w = WorkFlow(\n",
    "        block_building = dict(\n",
    "            method=QGramsBlocking, \n",
    "            params=dict(qgrams=trial.suggest_int(\"qgrams\", 3, 10)),\n",
    "            attributes_1=['name'],\n",
    "            attributes_2=['name']\n",
    "        ),\n",
    "        block_cleaning = [\n",
    "            dict(\n",
    "                method=BlockPurging,\n",
    "                params=dict(smoothing_factor=1.025)\n",
    "            ),\n",
    "            dict(\n",
    "                method=BlockFiltering, \n",
    "                params=dict(\n",
    "                    ratio = trial.suggest_float(\"ratio\", 0.7, 0.95)\n",
    "                )\n",
    "            )\n",
    "        ],\n",
    "        comparison_cleaning = dict(method=CardinalityEdgePruning),\n",
    "            entity_matching = dict(\n",
    "            method=EntityMatching, \n",
    "            metric='sorensen_dice',\n",
    "            similarity_threshold= trial.suggest_float(\"similarity_threshold\", 0.05, 0.9),\n",
    "            attributes = ['description', 'name']\n",
    "        ),\n",
    "        clustering = dict(method=ConnectedComponentsClustering),\n",
    "        name=\"Worflow-Test\"\n",
    "    )\n",
    "    w.run(data, verbose=False)\n",
    "    f1, precision, recall = w.get_final_scores()\n",
    "    \n",
    "    return recall"
   ]
  },
  {
   "cell_type": "code",
   "execution_count": 8,
   "id": "0b09050d-941a-49e0-8474-5842a8102f36",
   "metadata": {},
   "outputs": [
    {
     "name": "stderr",
     "output_type": "stream",
     "text": [
      "\u001b[32m[I 2022-09-26 12:55:34,332]\u001b[0m Using an existing study with name 'Test' instead of creating a new one.\u001b[0m\n"
     ]
    },
    {
     "name": "stdout",
     "output_type": "stream",
     "text": [
      "Optuna trials starting\n"
     ]
    },
    {
     "data": {
      "application/vnd.jupyter.widget-view+json": {
       "model_id": "600615d12ff640aea0762e27f8f32df5",
       "version_major": 2,
       "version_minor": 0
      },
      "text/plain": [
       "  0%|          | 0/30 [00:00<?, ?it/s]"
      ]
     },
     "metadata": {},
     "output_type": "display_data"
    },
    {
     "name": "stdout",
     "output_type": "stream",
     "text": [
      "\u001b[32m[I 2022-09-26 12:55:38,611]\u001b[0m Trial 1 finished with value: 92.84386617100373 and parameters: {'qgrams': 8, 'ratio': 0.7414379755554323, 'similarity_threshold': 0.23707474956225438}. Best is trial 1 with value: 92.84386617100373.\u001b[0m\n",
      "\u001b[32m[I 2022-09-26 12:55:46,779]\u001b[0m Trial 2 finished with value: 99.53531598513011 and parameters: {'qgrams': 5, 'ratio': 0.7467879975268619, 'similarity_threshold': 0.25482080793573436}. Best is trial 2 with value: 99.53531598513011.\u001b[0m\n",
      "\u001b[32m[I 2022-09-26 12:55:50,652]\u001b[0m Trial 3 finished with value: 92.84386617100373 and parameters: {'qgrams': 9, 'ratio': 0.7392219839705335, 'similarity_threshold': 0.07648544734229666}. Best is trial 2 with value: 99.53531598513011.\u001b[0m\n",
      "\u001b[32m[I 2022-09-26 12:55:55,499]\u001b[0m Trial 4 finished with value: 94.23791821561338 and parameters: {'qgrams': 8, 'ratio': 0.8434811532901894, 'similarity_threshold': 0.14754855534959702}. Best is trial 2 with value: 99.53531598513011.\u001b[0m\n",
      "\u001b[32m[I 2022-09-26 12:55:59,645]\u001b[0m Trial 5 finished with value: 92.84386617100373 and parameters: {'qgrams': 9, 'ratio': 0.7776256504069884, 'similarity_threshold': 0.7701167333432803}. Best is trial 2 with value: 99.53531598513011.\u001b[0m\n",
      "\u001b[32m[I 2022-09-26 12:56:11,793]\u001b[0m Trial 6 finished with value: 99.81412639405205 and parameters: {'qgrams': 4, 'ratio': 0.8456543365921544, 'similarity_threshold': 0.5793718929588719}. Best is trial 6 with value: 99.81412639405205.\u001b[0m\n",
      "\u001b[32m[I 2022-09-26 12:56:16,295]\u001b[0m Trial 7 finished with value: 93.68029739776952 and parameters: {'qgrams': 8, 'ratio': 0.7756363065503524, 'similarity_threshold': 0.1937185865873296}. Best is trial 6 with value: 99.81412639405205.\u001b[0m\n",
      "\u001b[32m[I 2022-09-26 12:56:27,934]\u001b[0m Trial 8 finished with value: 100.0 and parameters: {'qgrams': 4, 'ratio': 0.7921641784649474, 'similarity_threshold': 0.3345974909866971}. Best is trial 8 with value: 100.0.\u001b[0m\n",
      "\u001b[32m[I 2022-09-26 12:56:32,770]\u001b[0m Trial 9 finished with value: 94.42379182156134 and parameters: {'qgrams': 9, 'ratio': 0.9361978437377838, 'similarity_threshold': 0.8515078136803562}. Best is trial 8 with value: 100.0.\u001b[0m\n",
      "\u001b[32m[I 2022-09-26 12:56:51,392]\u001b[0m Trial 10 finished with value: 99.81412639405205 and parameters: {'qgrams': 3, 'ratio': 0.9231244928522114, 'similarity_threshold': 0.47953165261653674}. Best is trial 8 with value: 100.0.\u001b[0m\n",
      "\u001b[32m[I 2022-09-26 12:56:58,640]\u001b[0m Trial 11 finished with value: 98.23420074349443 and parameters: {'qgrams': 6, 'ratio': 0.8873598636171932, 'similarity_threshold': 0.3938858973638495}. Best is trial 8 with value: 100.0.\u001b[0m\n",
      "\u001b[32m[I 2022-09-26 12:57:15,450]\u001b[0m Trial 12 finished with value: 99.81412639405205 and parameters: {'qgrams': 3, 'ratio': 0.8429440666909159, 'similarity_threshold': 0.6086262718777351}. Best is trial 8 with value: 100.0.\u001b[0m\n",
      "\u001b[32m[I 2022-09-26 12:57:24,201]\u001b[0m Trial 13 finished with value: 99.72118959107806 and parameters: {'qgrams': 5, 'ratio': 0.8112085375665766, 'similarity_threshold': 0.5873486757462769}. Best is trial 8 with value: 100.0.\u001b[0m\n",
      "\u001b[32m[I 2022-09-26 12:57:36,855]\u001b[0m Trial 14 finished with value: 99.90706319702602 and parameters: {'qgrams': 4, 'ratio': 0.8776207188915855, 'similarity_threshold': 0.39203194038218997}. Best is trial 8 with value: 100.0.\u001b[0m\n",
      "\u001b[32m[I 2022-09-26 12:57:46,128]\u001b[0m Trial 15 finished with value: 99.62825278810409 and parameters: {'qgrams': 5, 'ratio': 0.8791136743594475, 'similarity_threshold': 0.35536059915083573}. Best is trial 8 with value: 100.0.\u001b[0m\n",
      "\u001b[32m[I 2022-09-26 12:57:55,951]\u001b[0m Trial 16 finished with value: 100.0 and parameters: {'qgrams': 4, 'ratio': 0.7056580328744441, 'similarity_threshold': 0.3624885132027461}. Best is trial 8 with value: 100.0.\u001b[0m\n",
      "\u001b[32m[I 2022-09-26 12:58:01,662]\u001b[0m Trial 17 finished with value: 98.97769516728626 and parameters: {'qgrams': 6, 'ratio': 0.7103719376554507, 'similarity_threshold': 0.2998861525037098}. Best is trial 8 with value: 100.0.\u001b[0m\n",
      "\u001b[32m[I 2022-09-26 12:58:11,537]\u001b[0m Trial 18 finished with value: 99.90706319702602 and parameters: {'qgrams': 4, 'ratio': 0.7103892775279381, 'similarity_threshold': 0.5038471735383805}. Best is trial 8 with value: 100.0.\u001b[0m\n",
      "\u001b[32m[I 2022-09-26 12:58:16,899]\u001b[0m Trial 19 finished with value: 97.58364312267658 and parameters: {'qgrams': 7, 'ratio': 0.7953716169619958, 'similarity_threshold': 0.07228314997572372}. Best is trial 8 with value: 100.0.\u001b[0m\n",
      "\u001b[32m[I 2022-09-26 12:58:32,138]\u001b[0m Trial 20 finished with value: 99.81412639405205 and parameters: {'qgrams': 3, 'ratio': 0.7678166106649995, 'similarity_threshold': 0.6878161091520107}. Best is trial 8 with value: 100.0.\u001b[0m\n",
      "\u001b[32m[I 2022-09-26 12:58:42,761]\u001b[0m Trial 21 finished with value: 100.0 and parameters: {'qgrams': 4, 'ratio': 0.7252296764104763, 'similarity_threshold': 0.32148795483026643}. Best is trial 8 with value: 100.0.\u001b[0m\n",
      "\u001b[32m[I 2022-09-26 12:58:53,171]\u001b[0m Trial 22 finished with value: 100.0 and parameters: {'qgrams': 4, 'ratio': 0.7056675823905588, 'similarity_threshold': 0.32884317755065007}. Best is trial 8 with value: 100.0.\u001b[0m\n",
      "\u001b[32m[I 2022-09-26 12:59:02,111]\u001b[0m Trial 23 finished with value: 99.72118959107806 and parameters: {'qgrams': 5, 'ratio': 0.7028625671911362, 'similarity_threshold': 0.4423729879530886}. Best is trial 8 with value: 100.0.\u001b[0m\n",
      "\u001b[32m[I 2022-09-26 12:59:21,154]\u001b[0m Trial 24 finished with value: 99.81412639405205 and parameters: {'qgrams': 3, 'ratio': 0.7343320252992127, 'similarity_threshold': 0.2801806014476496}. Best is trial 8 with value: 100.0.\u001b[0m\n",
      "\u001b[32m[I 2022-09-26 12:59:28,168]\u001b[0m Trial 25 finished with value: 98.69888475836431 and parameters: {'qgrams': 6, 'ratio': 0.7228841947011309, 'similarity_threshold': 0.16251726711057746}. Best is trial 8 with value: 100.0.\u001b[0m\n",
      "\u001b[32m[I 2022-09-26 12:59:42,836]\u001b[0m Trial 26 finished with value: 100.0 and parameters: {'qgrams': 4, 'ratio': 0.760685402178839, 'similarity_threshold': 0.5207270093402492}. Best is trial 8 with value: 100.0.\u001b[0m\n",
      "\u001b[32m[I 2022-09-26 12:59:47,161]\u001b[0m Trial 27 finished with value: 91.35687732342006 and parameters: {'qgrams': 10, 'ratio': 0.7550503622148175, 'similarity_threshold': 0.5291410942923843}. Best is trial 8 with value: 100.0.\u001b[0m\n",
      "\u001b[32m[I 2022-09-26 12:59:58,746]\u001b[0m Trial 28 finished with value: 99.62825278810409 and parameters: {'qgrams': 5, 'ratio': 0.7601622371715521, 'similarity_threshold': 0.6717805822653361}. Best is trial 8 with value: 100.0.\u001b[0m\n",
      "\u001b[32m[I 2022-09-26 13:00:05,790]\u001b[0m Trial 29 finished with value: 95.817843866171 and parameters: {'qgrams': 7, 'ratio': 0.7252322546360453, 'similarity_threshold': 0.43715534558521674}. Best is trial 8 with value: 100.0.\u001b[0m\n",
      "\u001b[32m[I 2022-09-26 13:00:18,296]\u001b[0m Trial 30 finished with value: 100.0 and parameters: {'qgrams': 4, 'ratio': 0.7270137935580071, 'similarity_threshold': 0.22929819584043487}. Best is trial 8 with value: 100.0.\u001b[0m\n",
      "Optuna trials finished\n"
     ]
    }
   ],
   "source": [
    "study_name = title  # Unique identifier of the study.\n",
    "num_of_trials = 30\n",
    "study = optuna.create_study(\n",
    "    directions=[\"maximize\"],\n",
    "    study_name=study_name,\n",
    "    storage=storage_name,\n",
    "    load_if_exists=True\n",
    ")\n",
    "print(\"Optuna trials starting\")\n",
    "study.optimize(\n",
    "    objective, \n",
    "    n_trials=num_of_trials, \n",
    "    show_progress_bar=True\n",
    ")\n",
    "print(\"Optuna trials finished\")"
   ]
  },
  {
   "cell_type": "markdown",
   "id": "fcf454a7-6ec1-443e-8516-b96f2cfb0518",
   "metadata": {},
   "source": [
    "# Optuna Visualizations"
   ]
  },
  {
   "cell_type": "code",
   "execution_count": null,
   "id": "3227e81f-d039-4996-ac0c-310fee943a32",
   "metadata": {},
   "outputs": [],
   "source": [
    "study.trials_dataframe(attrs=(\"number\", \"value\", \"params\", \"state\"))"
   ]
  },
  {
   "cell_type": "code",
   "execution_count": null,
   "id": "44f26a57-6e7f-4b1a-b0ec-8e736cc70479",
   "metadata": {},
   "outputs": [],
   "source": [
    "fig = plot_optimization_history(study)\n",
    "fig.show()"
   ]
  },
  {
   "cell_type": "code",
   "execution_count": null,
   "id": "58d82f65-7658-4b48-bc49-d4d627d92cc4",
   "metadata": {},
   "outputs": [],
   "source": [
    "fig = plot_parallel_coordinate(study)\n",
    "fig.show()"
   ]
  },
  {
   "cell_type": "code",
   "execution_count": null,
   "id": "2ae740cd-fd37-4d95-b5ac-1cfceeed325d",
   "metadata": {},
   "outputs": [],
   "source": [
    "fig = plot_parallel_coordinate(study, params=[\"qgrams\"])\n",
    "fig.show()"
   ]
  },
  {
   "cell_type": "code",
   "execution_count": null,
   "id": "5454baf8-1efb-4e39-8d3d-e3dfb40fb564",
   "metadata": {},
   "outputs": [],
   "source": [
    "fig = plot_contour(study)\n",
    "fig.show()"
   ]
  },
  {
   "cell_type": "code",
   "execution_count": null,
   "id": "db47b2af-ab28-43d1-8cd8-07934fe1fb86",
   "metadata": {},
   "outputs": [],
   "source": [
    "fig = plot_contour(study, params=[\"qgrams\", \"ratio\"])\n",
    "fig.show()"
   ]
  },
  {
   "cell_type": "code",
   "execution_count": null,
   "id": "fa9ec80c-88a5-44dd-bcb6-2b231febc730",
   "metadata": {},
   "outputs": [],
   "source": [
    "fig = plot_slice(study,  params=[\"qgrams\", \"ratio\"])\n",
    "fig.show()"
   ]
  },
  {
   "cell_type": "code",
   "execution_count": null,
   "id": "4c59473e-7e65-4f89-a850-3a287805db97",
   "metadata": {},
   "outputs": [],
   "source": [
    "fig = plot_slice(study,  params=[\"qgrams\", \"ratio\"])\n",
    "fig.show()"
   ]
  },
  {
   "cell_type": "code",
   "execution_count": null,
   "id": "c0d58d0b-8fc7-4513-9d25-c1bf2976e8ed",
   "metadata": {},
   "outputs": [],
   "source": [
    "fig = plot_param_importances(study)\n",
    "fig.show()"
   ]
  },
  {
   "cell_type": "code",
   "execution_count": null,
   "id": "18eaa19d-a495-4cdb-8f0e-b0bb4c59fb98",
   "metadata": {},
   "outputs": [],
   "source": [
    "fig = plot_edf(study)\n",
    "fig.show()"
   ]
  },
  {
   "cell_type": "code",
   "execution_count": null,
   "id": "a8d969a2-9a81-475f-84f9-efd497123d23",
   "metadata": {},
   "outputs": [],
   "source": [
    "fig = optuna.visualization.plot_param_importances(\n",
    "    study, target=lambda t: t.duration.total_seconds(), target_name=\"duration\"\n",
    ")\n",
    "fig.show()"
   ]
  }
 ],
 "metadata": {
  "kernelspec": {
   "display_name": "Python 3",
   "language": "python",
   "name": "python3"
  },
  "language_info": {
   "codemirror_mode": {
    "name": "ipython",
    "version": 3
   },
   "file_extension": ".py",
   "mimetype": "text/x-python",
   "name": "python",
   "nbconvert_exporter": "python",
   "pygments_lexer": "ipython3",
   "version": "3.10.5"
  }
 },
 "nbformat": 4,
 "nbformat_minor": 5
}
