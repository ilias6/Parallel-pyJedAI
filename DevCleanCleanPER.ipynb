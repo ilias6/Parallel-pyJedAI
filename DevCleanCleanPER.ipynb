{
 "cells": [
  {
   "cell_type": "markdown",
   "id": "96ec678e-b20c-4213-8616-542010f46342",
   "metadata": {
    "id": "96ec678e-b20c-4213-8616-542010f46342"
   },
   "source": [
    "<div align=\"center\"> \n",
    "    <hr>\n",
    "  <font size=\"6\"><b>Dev | Clean-Clean Entity Resolution Notebook</b> </font>\n",
    "   <hr>\n",
    "</div>"
   ]
  },
  {
   "cell_type": "code",
   "execution_count": 1,
   "id": "eed013bf-c351-43a3-b600-9b35a6adfd83",
   "metadata": {
    "id": "eed013bf-c351-43a3-b600-9b35a6adfd83",
    "outputId": "12c5b800-6a74-4236-f570-489f6e49b896"
   },
   "outputs": [
    {
     "name": "stdout",
     "output_type": "stream",
     "text": [
      "Python 3.9.16\n"
     ]
    }
   ],
   "source": [
    "!python --version"
   ]
  },
  {
   "cell_type": "code",
   "execution_count": 2,
   "id": "6db50d83-51d8-4c95-9f27-30ef867338f2",
   "metadata": {
    "id": "6db50d83-51d8-4c95-9f27-30ef867338f2"
   },
   "outputs": [],
   "source": [
    "import os\n",
    "import sys\n",
    "import pandas as pd\n",
    "import networkx\n",
    "from networkx import draw, Graph\n",
    "%load_ext autoreload\n",
    "%autoreload 2\n",
    "%reload_ext autoreload\n",
    "from pyjedai.utils import (\n",
    "    text_cleaning_method,\n",
    "    print_clusters,\n",
    "    print_blocks,\n",
    "    print_candidate_pairs\n",
    ")\n",
    "from pyjedai.evaluation import Evaluation, write\n",
    "from pyjedai.datamodel import Data\n",
    "d1 = pd.read_csv(\"data/ccer/D2/abt.csv\", sep='|', engine='python', na_filter=False).astype(str)\n",
    "d2 = pd.read_csv(\"data/ccer/D2/buy.csv\", sep='|', engine='python', na_filter=False).astype(str)\n",
    "gt = pd.read_csv(\"data/ccer/D2/gt.csv\", sep='|', engine='python')\n",
    "\n",
    "data = Data(\n",
    "    dataset_1=d1,\n",
    "    attributes_1=['id','name','description'],\n",
    "    id_column_name_1='id',\n",
    "    dataset_2=d2,\n",
    "    attributes_2=['id','name','description'],\n",
    "    id_column_name_2='id',\n",
    "    ground_truth=gt,\n",
    ")"
   ]
  },
  {
   "cell_type": "markdown",
   "id": "9c068252-4a69-405a-a320-c2875ec08ea5",
   "metadata": {
    "id": "9c068252-4a69-405a-a320-c2875ec08ea5"
   },
   "source": [
    "# Block Building"
   ]
  },
  {
   "cell_type": "code",
   "execution_count": 3,
   "id": "9c1b6213-a218-40cf-bc72-801b77d28da9",
   "metadata": {
    "id": "9c1b6213-a218-40cf-bc72-801b77d28da9",
    "outputId": "fb15cf52-52b1-44fe-ee67-86246a115671"
   },
   "outputs": [
    {
     "name": "stderr",
     "output_type": "stream",
     "text": [
      "/home/conda/miniconda3/envs/pyjedai-progressive/lib/python3.9/site-packages/tqdm/auto.py:21: TqdmWarning: IProgress not found. Please update jupyter and ipywidgets. See https://ipywidgets.readthedocs.io/en/stable/user_install.html\n",
      "  from .autonotebook import tqdm as notebook_tqdm\n"
     ]
    }
   ],
   "source": [
    "from pyjedai.block_building import (\n",
    "    StandardBlocking,\n",
    "    QGramsBlocking,\n",
    "    ExtendedQGramsBlocking,\n",
    "    SuffixArraysBlocking,\n",
    "    ExtendedSuffixArraysBlocking,\n",
    ")"
   ]
  },
  {
   "cell_type": "code",
   "execution_count": 4,
   "id": "9741f0c4-6250-455f-9c88-b8dc61ab7d4d",
   "metadata": {
    "colab": {
     "referenced_widgets": [
      "e5ca547f5b2c4e11bc69e2002b40f12a"
     ]
    },
    "id": "9741f0c4-6250-455f-9c88-b8dc61ab7d4d",
    "outputId": "5b9c2a5e-a24f-41a9-d2a1-db9e4aa9477c"
   },
   "outputs": [
    {
     "name": "stderr",
     "output_type": "stream",
     "text": [
      "Q-Grams Blocking: 100%|██████████| 2152/2152 [00:00<00:00, 41072.17it/s]\n"
     ]
    }
   ],
   "source": [
    "qgb = QGramsBlocking(qgrams=6)\n",
    "blocks = qgb.build_blocks(data, attributes_1=['name'], attributes_2=['name'])"
   ]
  },
  {
   "cell_type": "code",
   "execution_count": 5,
   "id": "b0ac846d-0f13-4b90-b4c8-688054ed7ffe",
   "metadata": {
    "id": "b0ac846d-0f13-4b90-b4c8-688054ed7ffe",
    "outputId": "d012ea80-a6f3-47a0-b515-9d1ecc09722b"
   },
   "outputs": [
    {
     "name": "stdout",
     "output_type": "stream",
     "text": [
      "***************************************************************************************************************************\n",
      "                                         Μethod:  Q-Grams Blocking\n",
      "***************************************************************************************************************************\n",
      "Method name: Q-Grams Blocking\n",
      "Parameters: \n",
      "\tQ-Gramms: 6\n",
      "Runtime: 0.0535 seconds\n",
      "───────────────────────────────────────────────────────────────────────────────────────────────────────────────────────────\n",
      "Performance:\n",
      "\tPrecision:      0.32% \n",
      "\tRecall:        99.91%\n",
      "\tF1-score:       0.63%\n",
      "───────────────────────────────────────────────────────────────────────────────────────────────────────────────────────────\n",
      "Classification report:\n",
      "\tTrue positives: 1075\n",
      "\tFalse positives: 337743\n",
      "\tTrue negatives: 820032\n",
      "\tFalse negatives: 1\n",
      "\tTotal comparisons: 338818\n",
      "───────────────────────────────────────────────────────────────────────────────────────────────────────────────────────────\n"
     ]
    },
    {
     "data": {
      "text/plain": [
       "{'Precision %': 0.3172794833804579,\n",
       " 'Recall %': 99.90706319702602,\n",
       " 'F1 %': 0.6325501479873138,\n",
       " 'True Positives': 1075,\n",
       " 'False Positives': 337743,\n",
       " 'True Negatives': 820032,\n",
       " 'False Negatives': 1}"
      ]
     },
     "execution_count": 5,
     "metadata": {},
     "output_type": "execute_result"
    }
   ],
   "source": [
    "qgb.evaluate(blocks, with_classification_report=True)"
   ]
  },
  {
   "cell_type": "markdown",
   "id": "9f9e77d5-c906-431a-bdc7-68dc9c00cc31",
   "metadata": {
    "id": "9f9e77d5-c906-431a-bdc7-68dc9c00cc31",
    "tags": []
   },
   "source": [
    "# Block Cleaning"
   ]
  },
  {
   "cell_type": "code",
   "execution_count": 6,
   "id": "9c2c0e42-485a-444e-9161-975f30d21a02",
   "metadata": {
    "id": "9c2c0e42-485a-444e-9161-975f30d21a02"
   },
   "outputs": [],
   "source": [
    "from pyjedai.block_cleaning import BlockFiltering"
   ]
  },
  {
   "cell_type": "code",
   "execution_count": 7,
   "id": "bf5c20ac-b16a-484d-82b0-61ecb9e7f3ea",
   "metadata": {
    "colab": {
     "referenced_widgets": [
      "82126f3fa6614991b1a1b304b0e4b173"
     ]
    },
    "id": "bf5c20ac-b16a-484d-82b0-61ecb9e7f3ea",
    "outputId": "9ec893a5-b254-42af-e3e0-76660c7711c2"
   },
   "outputs": [
    {
     "name": "stderr",
     "output_type": "stream",
     "text": [
      "Block Filtering: 100%|██████████| 3/3 [00:00<00:00, 44.23it/s]\n"
     ]
    }
   ],
   "source": [
    "bf = BlockFiltering(ratio=0.8)\n",
    "filtered_blocks = bf.process(blocks, data, tqdm_disable=False)"
   ]
  },
  {
   "cell_type": "markdown",
   "id": "9cd12048-bd0c-4571-ba70-488d46afcdd6",
   "metadata": {
    "id": "9cd12048-bd0c-4571-ba70-488d46afcdd6"
   },
   "source": [
    "# Comparison Cleaning\n"
   ]
  },
  {
   "cell_type": "code",
   "execution_count": 8,
   "id": "725426e2-0af8-4295-baff-92653c841fdd",
   "metadata": {
    "id": "725426e2-0af8-4295-baff-92653c841fdd"
   },
   "outputs": [],
   "source": [
    "from pyjedai.block_cleaning import BlockPurging"
   ]
  },
  {
   "cell_type": "code",
   "execution_count": 9,
   "id": "7997b2b6-9629-44f0-a66d-5bc4fea28fb6",
   "metadata": {
    "colab": {
     "referenced_widgets": [
      "d26977056627458aae5e892b4f9ecf46"
     ]
    },
    "id": "7997b2b6-9629-44f0-a66d-5bc4fea28fb6",
    "outputId": "c5128160-aef0-4f2d-e6c1-9f887e6df274"
   },
   "outputs": [
    {
     "name": "stderr",
     "output_type": "stream",
     "text": [
      "Block Purging: 100%|██████████| 4808/4808 [00:00<00:00, 597765.40it/s]\n"
     ]
    }
   ],
   "source": [
    "cbbp = BlockPurging()\n",
    "cleaned_blocks = cbbp.process(filtered_blocks, data, tqdm_disable=False)"
   ]
  },
  {
   "cell_type": "code",
   "execution_count": 10,
   "id": "d8842b00-8765-449f-bdb7-f9b2206e91c7",
   "metadata": {
    "id": "d8842b00-8765-449f-bdb7-f9b2206e91c7",
    "outputId": "6dab98df-2ff0-472c-ecc1-4b964d4c4d56",
    "scrolled": true
   },
   "outputs": [
    {
     "name": "stdout",
     "output_type": "stream",
     "text": [
      "***************************************************************************************************************************\n",
      "                                         Μethod:  Block Purging\n",
      "***************************************************************************************************************************\n",
      "Method name: Block Purging\n",
      "Parameters: \n",
      "\tSmoothing factor: 1.025\n",
      "\tMax Comparisons per Block: 4142.0\n",
      "Runtime: 0.0091 seconds\n",
      "───────────────────────────────────────────────────────────────────────────────────────────────────────────────────────────\n",
      "Performance:\n",
      "\tPrecision:      0.80% \n",
      "\tRecall:        98.61%\n",
      "\tF1-score:       1.59%\n",
      "───────────────────────────────────────────────────────────────────────────────────────────────────────────────────────────\n",
      "Classification report:\n",
      "\tTrue positives: 1061\n",
      "\tFalse positives: 131047\n",
      "\tTrue negatives: 1026714\n",
      "\tFalse negatives: 15\n",
      "\tTotal comparisons: 132108\n",
      "───────────────────────────────────────────────────────────────────────────────────────────────────────────────────────────\n"
     ]
    },
    {
     "data": {
      "text/plain": [
       "{'Precision %': 0.8031307717927757,\n",
       " 'Recall %': 98.60594795539033,\n",
       " 'F1 %': 1.5932844786160503,\n",
       " 'True Positives': 1061,\n",
       " 'False Positives': 131047,\n",
       " 'True Negatives': 1026714,\n",
       " 'False Negatives': 15}"
      ]
     },
     "execution_count": 10,
     "metadata": {},
     "output_type": "execute_result"
    }
   ],
   "source": [
    "cbbp.evaluate(cleaned_blocks, with_classification_report=True)"
   ]
  },
  {
   "cell_type": "markdown",
   "id": "015d655f",
   "metadata": {
    "id": "5R3oRpiRV0BK"
   },
   "source": [
    "# Progressive Entity Matching\n",
    "\n",
    "Applies Entity Matching to a subset of candidate pairs based on prioritization scheme."
   ]
  },
  {
   "cell_type": "code",
   "execution_count": 12,
   "id": "3fc2aa0d",
   "metadata": {
    "id": "jks9SXw-WcP7"
   },
   "outputs": [
    {
     "name": "stdout",
     "output_type": "stream",
     "text": [
      "Created embeddings directory at: /home/jm/pyJedAI/pyJedAI-Dev/.embeddings\n"
     ]
    }
   ],
   "source": [
    "from pyjedai.prioritization import (\n",
    "    GlobalTopPM,\n",
    "    LocalTopPM,\n",
    "    EmbeddingsNNBPM,\n",
    "    GlobalPSNM,\n",
    "    LocalPSNM,\n",
    "    RandomPM,\n",
    "    PESM,\n",
    "    WhooshPM\n",
    ")"
   ]
  },
  {
   "cell_type": "code",
   "execution_count": 215,
   "id": "Rr3tA9FKWck4",
   "metadata": {
    "id": "Rr3tA9FKWck4"
   },
   "outputs": [
    {
     "name": "stdout",
     "output_type": "stream",
     "text": [
      "CPU times: user 2.72 s, sys: 12 ms, total: 2.73 s\n",
      "Wall time: 2.75 s\n"
     ]
    }
   ],
   "source": [
    "%%time\n",
    "ltpm = LocalTopPM(\n",
    "    budget = 5000,\n",
    "    w_scheme = 'X2',\n",
    "    metric='dice',\n",
    "    similarity_threshold=0.1,\n",
    "    attributes = ['description', 'name']\n",
    ")\n",
    "\n",
    "ltpm_pairs_graph = ltpm.predict(cleaned_blocks, data, tqdm_disable=True, emit_all_tps_stop=False)"
   ]
  },
  {
   "cell_type": "code",
   "execution_count": 216,
   "id": "2fe07185",
   "metadata": {},
   "outputs": [
    {
     "name": "stdout",
     "output_type": "stream",
     "text": [
      "CPU times: user 1.43 s, sys: 11.9 ms, total: 1.44 s\n",
      "Wall time: 1.45 s\n"
     ]
    }
   ],
   "source": [
    "%%time\n",
    "gtpm = GlobalTopPM(\n",
    "    budget = 5000,\n",
    "    w_scheme = 'X2',\n",
    "    metric='dice',\n",
    "    similarity_threshold=0.1,\n",
    "    attributes = ['description', 'name']\n",
    ")\n",
    "\n",
    "gtpm_pairs_graph = gtpm.predict(cleaned_blocks, data, tqdm_disable=True, emit_all_tps_stop=False)"
   ]
  },
  {
   "cell_type": "code",
   "execution_count": 217,
   "id": "f52ce205",
   "metadata": {},
   "outputs": [
    {
     "name": "stdout",
     "output_type": "stream",
     "text": [
      "CPU times: user 348 ms, sys: 4.01 ms, total: 352 ms\n",
      "Wall time: 353 ms\n"
     ]
    }
   ],
   "source": [
    "%%time\n",
    "gpsnm = GlobalPSNM(\n",
    "    budget = 5000,\n",
    "    pwScheme = 'ID',\n",
    "    metric='dice',\n",
    "    similarity_threshold=0.1,\n",
    "    attributes = ['description', 'name']\n",
    ")\n",
    "\n",
    "gpsnm_pairs_graph = gpsnm.predict(cleaned_blocks, data, tqdm_disable=True, emit_all_tps_stop=False)"
   ]
  },
  {
   "cell_type": "code",
   "execution_count": 218,
   "id": "b9f43bd4",
   "metadata": {},
   "outputs": [
    {
     "name": "stdout",
     "output_type": "stream",
     "text": [
      "CPU times: user 57.9 ms, sys: 3.97 ms, total: 61.9 ms\n",
      "Wall time: 60.5 ms\n"
     ]
    }
   ],
   "source": [
    "%%time\n",
    "lpsnm = LocalPSNM(\n",
    "    budget = 5000,\n",
    "    pwScheme = 'ID',\n",
    "    metric='dice',\n",
    "    similarity_threshold=0.1,\n",
    "    attributes = ['description', 'name']\n",
    ")\n",
    "\n",
    "lpsnm_pairs_graph = lpsnm.predict(cleaned_blocks, data, tqdm_disable=True, emit_all_tps_stop=False)"
   ]
  },
  {
   "cell_type": "code",
   "execution_count": 18,
   "id": "910f0bf1",
   "metadata": {},
   "outputs": [
    {
     "name": "stderr",
     "output_type": "stream",
     "text": [
      "Embeddings-NN Block Building [sminilm, faiss]: 100%|██████████| 2152/2152 [00:00<00:00, 49960.10it/s]"
     ]
    },
    {
     "name": "stdout",
     "output_type": "stream",
     "text": [
      "Device selected:  cuda\n",
      "Loading embeddings from file...\n",
      "Loading file:  /home/jm/pyJedAI/pyJedAI-Dev/.embeddings/sminilm_d1.npy\n",
      "Loading file:  /home/jm/pyJedAI/pyJedAI-Dev/.embeddings/sminilm_d2.npy\n",
      "Loading embeddings from file finished\n",
      "Saving embeddings...\n",
      "CPU times: user 199 ms, sys: 8.63 ms, total: 207 ms\n",
      "Wall time: 49.2 ms\n"
     ]
    },
    {
     "name": "stderr",
     "output_type": "stream",
     "text": [
      "\n"
     ]
    }
   ],
   "source": [
    "%%time\n",
    "ennbpm = EmbeddingsNNBPM(\n",
    "    budget = 30000,\n",
    "    vectorizer = 'sminilm',\n",
    "    similarity_search = 'faiss',\n",
    "    metric = 'dice',\n",
    "    tokenizer = 'white_space_tokenizer',\n",
    "    similarity_threshold = 0.1\n",
    ")\n",
    "ennbpm_pairs_graph = ennbpm.predict(data, tqdm_disable=True, method='HB', emit_all_tps_stop=False)"
   ]
  },
  {
   "cell_type": "code",
   "execution_count": 220,
   "id": "e6717828",
   "metadata": {},
   "outputs": [
    {
     "name": "stdout",
     "output_type": "stream",
     "text": [
      "CPU times: user 36.2 ms, sys: 3 µs, total: 36.2 ms\n",
      "Wall time: 35.7 ms\n"
     ]
    }
   ],
   "source": [
    "%%time\n",
    "rpm = RandomPM(\n",
    "    budget = 5000,\n",
    "    metric='dice',\n",
    "    similarity_threshold=0.1,\n",
    "    attributes = ['description', 'name']\n",
    ")\n",
    "\n",
    "rpm_pairs_graph = rpm.predict(cleaned_blocks, data, tqdm_disable=True)"
   ]
  },
  {
   "cell_type": "code",
   "execution_count": 221,
   "id": "c88c1ba9",
   "metadata": {},
   "outputs": [
    {
     "name": "stdout",
     "output_type": "stream",
     "text": [
      "CPU times: user 5.28 s, sys: 7.93 ms, total: 5.29 s\n",
      "Wall time: 5.29 s\n"
     ]
    }
   ],
   "source": [
    "%%time\n",
    "pesm = PESM(\n",
    "    budget = 5000,\n",
    "    w_scheme = 'X2',\n",
    "    metric='dice',\n",
    "    similarity_threshold=0.1,\n",
    "    attributes = ['description', 'name']\n",
    ")\n",
    "\n",
    "pesm_pairs_graph = pesm.predict(cleaned_blocks, data, tqdm_disable=True, method='BFS', emit_all_tps_stop=False)"
   ]
  },
  {
   "cell_type": "code",
   "execution_count": 225,
   "id": "8f1e1979",
   "metadata": {},
   "outputs": [
    {
     "name": "stdout",
     "output_type": "stream",
     "text": [
      "Applying TF-IDF Similarity Function\n",
      "CPU times: user 7.47 s, sys: 35.9 ms, total: 7.51 s\n",
      "Wall time: 7.55 s\n"
     ]
    }
   ],
   "source": [
    "%%time\n",
    "whpm = WhooshPM(\n",
    "    budget = 5000,\n",
    "    metric='TF-IDF',\n",
    "    similarity_threshold=0.1,\n",
    "    attributes = ['description', 'name']\n",
    ")\n",
    "\n",
    "whpm_graph = whpm.predict(cleaned_blocks, data, tqdm_disable=True, method='BFS', emit_all_tps_stop=False)"
   ]
  },
  {
   "cell_type": "code",
   "execution_count": 19,
   "id": "0d8fbfd9",
   "metadata": {},
   "outputs": [],
   "source": [
    "matchers_data = []\n",
    "\n",
    "matchers_data.append((\"Random\", rpm))\n",
    "matchers_data.append((\"Local Top\", ltpm))\n",
    "matchers_data.append((\"Global Top\", gtpm))\n",
    "matchers_data.append((\"GSN\", gpsnm))\n",
    "matchers_data.append((\"ES-BFS\", pesm))\n",
    "matchers_data.append((\"ENNBPM-HB\", ennbpm))\n",
    "matchers_data.append((\"WHOOSH-BFS\", whpm))"
   ]
  },
  {
   "cell_type": "code",
   "execution_count": 20,
   "id": "33f4105b",
   "metadata": {
    "scrolled": true
   },
   "outputs": [
    {
     "data": {
      "image/png": "[encoded data removed]",
      "text/plain": [
       "<Figure size 720x432 with 1 Axes>"
      ]
     },
     "metadata": {},
     "output_type": "display_data"
    },
    {
     "name": "stdout",
     "output_type": "stream",
     "text": [
      "CPU times: user 134 ms, sys: 63.2 ms, total: 197 ms\n",
      "Wall time: 99.1 ms\n"
     ]
    }
   ],
   "source": [
    "%%time\n",
    "progressive_matchers_evaluator = Evaluation(data)\n",
    "progressive_matchers_evaluator.evaluate_auc_roc(matchers_data = matchers_data, proportional = False)"
   ]
  },
  {
   "cell_type": "code",
   "execution_count": 230,
   "id": "e01cb0e5",
   "metadata": {},
   "outputs": [
    {
     "name": "stdout",
     "output_type": "stream",
     "text": [
      "Total Emissions: 5000\n",
      "Cumulative Recall: 0.8894052044609665\n",
      "Normalized AUC: 0.7003106813581504\n"
     ]
    }
   ],
   "source": [
    "# After supplying the progressive matchers to AUC ROC evaluation\n",
    "# You can easily retrieve information about the method's performance using corresponding functions\n",
    "# You can get the total number of emissions, the final cumulative recall and the normalized AUC\n",
    "\n",
    "# Example for Entity Scheduling with BFS Method:\n",
    "print(f'Total Emissions: {pesm.get_total_emissions()}')\n",
    "print(f'Cumulative Recall: {pesm.get_cumulative_recall()}')\n",
    "print(f'Normalized AUC: {pesm.get_normalized_auc()}')"
   ]
  }
 ],
 "metadata": {
  "colab": {
   "provenance": []
  },
  "kernelspec": {
   "display_name": "Python 3",
   "language": "python",
   "name": "python3"
  },
  "language_info": {
   "codemirror_mode": {
    "name": "ipython",
    "version": 3
   },
   "file_extension": ".py",
   "mimetype": "text/x-python",
   "name": "python",
   "nbconvert_exporter": "python",
   "pygments_lexer": "ipython3",
   "version": "3.9.16"
  },
  "vscode": {
   "interpreter": {
    "hash": "916dbcbb3f70747c44a77c7bcd40155683ae19c65e1c03b4aa3499c5328201f1"
   }
  }
 },
 "nbformat": 4,
 "nbformat_minor": 5
}
