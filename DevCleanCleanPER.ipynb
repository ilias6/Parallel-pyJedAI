{
 "cells": [
  {
   "cell_type": "markdown",
   "id": "96ec678e-b20c-4213-8616-542010f46342",
   "metadata": {
    "id": "96ec678e-b20c-4213-8616-542010f46342"
   },
   "source": [
    "<div align=\"center\"> \n",
    "    <hr>\n",
    "  <font size=\"6\"><b>Dev | Clean-Clean Entity Resolution Notebook</b> </font>\n",
    "   <hr>\n",
    "</div>"
   ]
  },
  {
   "cell_type": "code",
   "execution_count": 97,
   "id": "eed013bf-c351-43a3-b600-9b35a6adfd83",
   "metadata": {
    "id": "eed013bf-c351-43a3-b600-9b35a6adfd83",
    "outputId": "12c5b800-6a74-4236-f570-489f6e49b896"
   },
   "outputs": [
    {
     "name": "stdout",
     "output_type": "stream",
     "text": [
      "Python 3.10.9\r\n"
     ]
    }
   ],
   "source": [
    "!python --version"
   ]
  },
  {
   "cell_type": "code",
   "execution_count": 98,
   "id": "6db50d83-51d8-4c95-9f27-30ef867338f2",
   "metadata": {
    "id": "6db50d83-51d8-4c95-9f27-30ef867338f2"
   },
   "outputs": [
    {
     "name": "stdout",
     "output_type": "stream",
     "text": [
      "The autoreload extension is already loaded. To reload it, use:\n",
      "  %reload_ext autoreload\n"
     ]
    }
   ],
   "source": [
    "import os\n",
    "import sys\n",
    "import pandas as pd\n",
    "import networkx\n",
    "from networkx import draw, Graph\n",
    "%load_ext autoreload\n",
    "%autoreload 2\n",
    "%reload_ext autoreload\n",
    "from pyjedai.utils import (\n",
    "    text_cleaning_method,\n",
    "    print_clusters,\n",
    "    print_blocks,\n",
    "    print_candidate_pairs\n",
    ")\n",
    "from pyjedai.evaluation import Evaluation, write\n",
    "from pyjedai.datamodel import Data\n",
    "d1 = pd.read_csv(\"./data/test/ccer/abt_100.csv\", sep='|', engine='python', na_filter=False).astype(str)\n",
    "d2 = pd.read_csv(\"./data/test/ccer/buy_100.csv\", sep='|', engine='python', na_filter=False).astype(str)\n",
    "gt = pd.read_csv(\"./data/test/ccer/gt_100.csv\", sep='|', engine='python')\n",
    "\n",
    "data = Data(\n",
    "    dataset_1=d1,\n",
    "    attributes_1=['id','name','description'],\n",
    "    id_column_name_1='id',\n",
    "    dataset_2=d2,\n",
    "    attributes_2=['id','name','description'],\n",
    "    id_column_name_2='id',\n",
    "    ground_truth=gt,\n",
    ")"
   ]
  },
  {
   "cell_type": "markdown",
   "id": "9c068252-4a69-405a-a320-c2875ec08ea5",
   "metadata": {
    "id": "9c068252-4a69-405a-a320-c2875ec08ea5"
   },
   "source": [
    "# Block Building"
   ]
  },
  {
   "cell_type": "code",
   "execution_count": 99,
   "id": "9c1b6213-a218-40cf-bc72-801b77d28da9",
   "metadata": {
    "id": "9c1b6213-a218-40cf-bc72-801b77d28da9",
    "outputId": "fb15cf52-52b1-44fe-ee67-86246a115671"
   },
   "outputs": [],
   "source": [
    "from pyjedai.block_building import (\n",
    "    StandardBlocking,\n",
    "    QGramsBlocking,\n",
    "    ExtendedQGramsBlocking,\n",
    "    SuffixArraysBlocking,\n",
    "    ExtendedSuffixArraysBlocking,\n",
    ")"
   ]
  },
  {
   "cell_type": "code",
   "execution_count": 100,
   "id": "9741f0c4-6250-455f-9c88-b8dc61ab7d4d",
   "metadata": {
    "colab": {
     "referenced_widgets": [
      "e5ca547f5b2c4e11bc69e2002b40f12a"
     ]
    },
    "id": "9741f0c4-6250-455f-9c88-b8dc61ab7d4d",
    "outputId": "5b9c2a5e-a24f-41a9-d2a1-db9e4aa9477c"
   },
   "outputs": [
    {
     "data": {
      "application/vnd.jupyter.widget-view+json": {
       "model_id": "f7791dc0d33948deae1f798c3b45af49",
       "version_major": 2,
       "version_minor": 0
      },
      "text/plain": [
       "Q-Grams Blocking:   0%|          | 0/200 [00:00<?, ?it/s]"
      ]
     },
     "metadata": {},
     "output_type": "display_data"
    }
   ],
   "source": [
    "qgb = QGramsBlocking(qgrams=6)\n",
    "blocks = qgb.build_blocks(data, attributes_1=['name'], attributes_2=['name'])"
   ]
  },
  {
   "cell_type": "code",
   "execution_count": 101,
   "id": "b0ac846d-0f13-4b90-b4c8-688054ed7ffe",
   "metadata": {
    "id": "b0ac846d-0f13-4b90-b4c8-688054ed7ffe",
    "outputId": "d012ea80-a6f3-47a0-b515-9d1ecc09722b"
   },
   "outputs": [
    {
     "name": "stdout",
     "output_type": "stream",
     "text": [
      "***************************************************************************************************************************\n",
      "                                         Μethod:  Q-Grams Blocking\n",
      "***************************************************************************************************************************\n",
      "Method name: Q-Grams Blocking\n",
      "Parameters: \n",
      "\tQ-Gramms: 6\n",
      "Runtime: 0.0159 seconds\n",
      "───────────────────────────────────────────────────────────────────────────────────────────────────────────────────────────\n",
      "Performance:\n",
      "\tPrecision:      1.78% \n",
      "\tRecall:       100.00%\n",
      "\tF1-score:       3.51%\n",
      "───────────────────────────────────────────────────────────────────────────────────────────────────────────────────────────\n",
      "Classification report:\n",
      "\tTrue positives: 49\n",
      "\tFalse positives: 2697\n",
      "\tTrue negatives: 7303\n",
      "\tFalse negatives: 0\n",
      "\tTotal comparisons: 2746\n",
      "───────────────────────────────────────────────────────────────────────────────────────────────────────────────────────────\n"
     ]
    },
    {
     "data": {
      "text/plain": [
       "{'Precision %': 1.7844136926438456,\n",
       " 'Recall %': 100.0,\n",
       " 'F1 %': 3.5062611806797856,\n",
       " 'True Positives': 49,\n",
       " 'False Positives': 2697,\n",
       " 'True Negatives': 7303,\n",
       " 'False Negatives': 0}"
      ]
     },
     "execution_count": 101,
     "metadata": {},
     "output_type": "execute_result"
    }
   ],
   "source": [
    "qgb.evaluate(blocks, with_classification_report=True)"
   ]
  },
  {
   "cell_type": "markdown",
   "id": "9f9e77d5-c906-431a-bdc7-68dc9c00cc31",
   "metadata": {
    "id": "9f9e77d5-c906-431a-bdc7-68dc9c00cc31",
    "tags": []
   },
   "source": [
    "# Block Cleaning"
   ]
  },
  {
   "cell_type": "code",
   "execution_count": 102,
   "id": "9c2c0e42-485a-444e-9161-975f30d21a02",
   "metadata": {
    "id": "9c2c0e42-485a-444e-9161-975f30d21a02"
   },
   "outputs": [],
   "source": [
    "from pyjedai.block_cleaning import BlockFiltering"
   ]
  },
  {
   "cell_type": "code",
   "execution_count": 103,
   "id": "bf5c20ac-b16a-484d-82b0-61ecb9e7f3ea",
   "metadata": {
    "colab": {
     "referenced_widgets": [
      "82126f3fa6614991b1a1b304b0e4b173"
     ]
    },
    "id": "bf5c20ac-b16a-484d-82b0-61ecb9e7f3ea",
    "outputId": "9ec893a5-b254-42af-e3e0-76660c7711c2"
   },
   "outputs": [
    {
     "data": {
      "application/vnd.jupyter.widget-view+json": {
       "model_id": "37f4a18e173f4c05af095141160ced8e",
       "version_major": 2,
       "version_minor": 0
      },
      "text/plain": [
       "Block Filtering:   0%|          | 0/3 [00:00<?, ?it/s]"
      ]
     },
     "metadata": {},
     "output_type": "display_data"
    }
   ],
   "source": [
    "bf = BlockFiltering(ratio=0.8)\n",
    "filtered_blocks = bf.process(blocks, data, tqdm_disable=False)"
   ]
  },
  {
   "cell_type": "markdown",
   "id": "9cd12048-bd0c-4571-ba70-488d46afcdd6",
   "metadata": {
    "id": "9cd12048-bd0c-4571-ba70-488d46afcdd6"
   },
   "source": [
    "# Comparison Cleaning\n"
   ]
  },
  {
   "cell_type": "code",
   "execution_count": 104,
   "id": "725426e2-0af8-4295-baff-92653c841fdd",
   "metadata": {
    "id": "725426e2-0af8-4295-baff-92653c841fdd"
   },
   "outputs": [],
   "source": [
    "from pyjedai.block_cleaning import BlockPurging"
   ]
  },
  {
   "cell_type": "code",
   "execution_count": 105,
   "id": "7997b2b6-9629-44f0-a66d-5bc4fea28fb6",
   "metadata": {
    "colab": {
     "referenced_widgets": [
      "d26977056627458aae5e892b4f9ecf46"
     ]
    },
    "id": "7997b2b6-9629-44f0-a66d-5bc4fea28fb6",
    "outputId": "c5128160-aef0-4f2d-e6c1-9f887e6df274"
   },
   "outputs": [
    {
     "data": {
      "application/vnd.jupyter.widget-view+json": {
       "model_id": "f2482664b57a4f7294176b8f232faab6",
       "version_major": 2,
       "version_minor": 0
      },
      "text/plain": [
       "Block Purging:   0%|          | 0/372 [00:00<?, ?it/s]"
      ]
     },
     "metadata": {},
     "output_type": "display_data"
    }
   ],
   "source": [
    "cbbp = BlockPurging()\n",
    "cleaned_blocks = cbbp.process(filtered_blocks, data, tqdm_disable=False)"
   ]
  },
  {
   "cell_type": "code",
   "execution_count": 106,
   "id": "d8842b00-8765-449f-bdb7-f9b2206e91c7",
   "metadata": {
    "id": "d8842b00-8765-449f-bdb7-f9b2206e91c7",
    "outputId": "6dab98df-2ff0-472c-ecc1-4b964d4c4d56"
   },
   "outputs": [
    {
     "name": "stdout",
     "output_type": "stream",
     "text": [
      "***************************************************************************************************************************\n",
      "                                         Μethod:  Block Purging\n",
      "***************************************************************************************************************************\n",
      "Method name: Block Purging\n",
      "Parameters: \n",
      "\tSmoothing factor: 1.025\n",
      "\tMax Comparisons per Block: 25.0\n",
      "Runtime: 0.0078 seconds\n",
      "───────────────────────────────────────────────────────────────────────────────────────────────────────────────────────────\n",
      "Performance:\n",
      "\tPrecision:      6.06% \n",
      "\tRecall:        87.76%\n",
      "\tF1-score:      11.35%\n",
      "───────────────────────────────────────────────────────────────────────────────────────────────────────────────────────────\n",
      "Classification report:\n",
      "\tTrue positives: 43\n",
      "\tFalse positives: 666\n",
      "\tTrue negatives: 9328\n",
      "\tFalse negatives: 6\n",
      "\tTotal comparisons: 709\n",
      "───────────────────────────────────────────────────────────────────────────────────────────────────────────────────────────\n"
     ]
    },
    {
     "data": {
      "text/plain": [
       "{'Precision %': 6.064880112834979,\n",
       " 'Recall %': 87.75510204081633,\n",
       " 'F1 %': 11.345646437994723,\n",
       " 'True Positives': 43,\n",
       " 'False Positives': 666,\n",
       " 'True Negatives': 9328,\n",
       " 'False Negatives': 6}"
      ]
     },
     "execution_count": 106,
     "metadata": {},
     "output_type": "execute_result"
    }
   ],
   "source": [
    "cbbp.evaluate(cleaned_blocks, with_classification_report=True)"
   ]
  },
  {
   "cell_type": "markdown",
   "id": "5R3oRpiRV0BK",
   "metadata": {
    "id": "5R3oRpiRV0BK"
   },
   "source": [
    "# Progressive Entity Matching\n",
    "\n",
    "Applies Entity Matching to a subset of candidate pairs based on prioritization scheme."
   ]
  },
  {
   "cell_type": "code",
   "execution_count": 107,
   "id": "jks9SXw-WcP7",
   "metadata": {
    "id": "jks9SXw-WcP7"
   },
   "outputs": [],
   "source": [
    "from pyjedai.prioritization import (\n",
    "    GlobalTopPM,\n",
    "    LocalTopPM,\n",
    "    EmbeddingsNNBPM,\n",
    "    GlobalPSNM,\n",
    "    LocalPSNM,\n",
    "    RandomPM,\n",
    "    PESM\n",
    ")"
   ]
  },
  {
   "cell_type": "code",
   "execution_count": 108,
   "id": "Rr3tA9FKWck4",
   "metadata": {
    "id": "Rr3tA9FKWck4"
   },
   "outputs": [
    {
     "name": "stdout",
     "output_type": "stream",
     "text": [
      "CPU times: user 19 ms, sys: 68 µs, total: 19 ms\n",
      "Wall time: 19 ms\n"
     ]
    }
   ],
   "source": [
    "%%time\n",
    "LTPM = LocalTopPM(\n",
    "    budget = 1000,\n",
    "    w_scheme = 'X2',\n",
    "    metric='dice',\n",
    "    similarity_threshold=0.1,\n",
    "    attributes = ['description', 'name']\n",
    ")\n",
    "\n",
    "ltpm_pairs_graph = LTPM.predict(cleaned_blocks, data, tqdm_disable=True)"
   ]
  },
  {
   "cell_type": "code",
   "execution_count": 109,
   "id": "2fe07185",
   "metadata": {},
   "outputs": [
    {
     "name": "stdout",
     "output_type": "stream",
     "text": [
      "CPU times: user 9.08 ms, sys: 25 µs, total: 9.1 ms\n",
      "Wall time: 9.08 ms\n"
     ]
    }
   ],
   "source": [
    "%%time\n",
    "GTPM = GlobalTopPM(\n",
    "    budget = 1000,\n",
    "    w_scheme = 'X2',\n",
    "    metric='dice',\n",
    "    similarity_threshold=0.1,\n",
    "    attributes = ['description', 'name']\n",
    ")\n",
    "\n",
    "gtpm_pairs_graph = GTPM.predict(cleaned_blocks, data, tqdm_disable=True)"
   ]
  },
  {
   "cell_type": "code",
   "execution_count": 110,
   "id": "f52ce205",
   "metadata": {},
   "outputs": [
    {
     "name": "stdout",
     "output_type": "stream",
     "text": [
      "CPU times: user 13 ms, sys: 0 ns, total: 13 ms\n",
      "Wall time: 13 ms\n"
     ]
    }
   ],
   "source": [
    "%%time\n",
    "GPSNM = GlobalPSNM(\n",
    "    budget = 1000,\n",
    "    pwScheme = 'ID',\n",
    "    metric='dice',\n",
    "    similarity_threshold=0.1,\n",
    "    attributes = ['description', 'name']\n",
    ")\n",
    "\n",
    "gpsnm_pairs_graph = GPSNM.predict(cleaned_blocks, data, tqdm_disable=True)"
   ]
  },
  {
   "cell_type": "code",
   "execution_count": 111,
   "id": "b9f43bd4",
   "metadata": {},
   "outputs": [
    {
     "name": "stdout",
     "output_type": "stream",
     "text": [
      "CPU times: user 5.7 ms, sys: 40 µs, total: 5.74 ms\n",
      "Wall time: 5.72 ms\n"
     ]
    }
   ],
   "source": [
    "%%time\n",
    "LPSNM = LocalPSNM(\n",
    "    budget = 1000,\n",
    "    pwScheme = 'ID',\n",
    "    metric='dice',\n",
    "    similarity_threshold=0.1,\n",
    "    attributes = ['description', 'name']\n",
    ")\n",
    "\n",
    "lpsnm_pairs_graph = LPSNM.predict(cleaned_blocks, data, tqdm_disable=True)"
   ]
  },
  {
   "cell_type": "code",
   "execution_count": 119,
   "id": "910f0bf1",
   "metadata": {},
   "outputs": [
    {
     "data": {
      "application/vnd.jupyter.widget-view+json": {
       "model_id": "59cc8ddb84d3490180d9beb1cdd6f4b3",
       "version_major": 2,
       "version_minor": 0
      },
      "text/plain": [
       "Embeddings-NN Block Building [roberta, faiss]:   0%|          | 0/200 [00:00<?, ?it/s]"
      ]
     },
     "metadata": {},
     "output_type": "display_data"
    },
    {
     "name": "stdout",
     "output_type": "stream",
     "text": [
      "Device selected:  cpu\n",
      "Loading embeddings from file...\n",
      "Loading file:  .embeddings/d1_1.npy\n",
      "Embeddings not found. Creating new ones.\n"
     ]
    },
    {
     "ename": "ValueError",
     "evalue": "Embeddings not found.",
     "output_type": "error",
     "traceback": [
      "\u001b[0;31m---------------------------------------------------------------------------\u001b[0m",
      "\u001b[0;31mFileNotFoundError\u001b[0m                         Traceback (most recent call last)",
      "File \u001b[0;32m~/Desktop/Research/AI_Team/Active Repos/pyJedAI-Dev/pyjedai/vector_based_blocking.py:186\u001b[0m, in \u001b[0;36mEmbeddingsNNBlockBuilding.build_blocks\u001b[0;34m(self, data, vector_size, num_of_clusters, top_k, max_word_embeddings_size, attributes_1, attributes_2, return_vectors, tqdm_disable, save_embeddings, load_embeddings_if_exist, with_entity_matching, input_cleaned_blocks)\u001b[0m\n\u001b[1;32m    185\u001b[0m \u001b[38;5;28mprint\u001b[39m(\u001b[38;5;124m\"\u001b[39m\u001b[38;5;124mLoading file: \u001b[39m\u001b[38;5;124m\"\u001b[39m, p1)\n\u001b[0;32m--> 186\u001b[0m \u001b[38;5;28mself\u001b[39m\u001b[38;5;241m.\u001b[39mvectors_1 \u001b[38;5;241m=\u001b[39m vectors_1 \u001b[38;5;241m=\u001b[39m \u001b[43mnp\u001b[49m\u001b[38;5;241;43m.\u001b[39;49m\u001b[43mload\u001b[49m\u001b[43m(\u001b[49m\u001b[43mp1\u001b[49m\u001b[43m)\u001b[49m\n\u001b[1;32m    187\u001b[0m \u001b[38;5;28mself\u001b[39m\u001b[38;5;241m.\u001b[39mvectors_1 \u001b[38;5;241m=\u001b[39m vectors_1 \u001b[38;5;241m=\u001b[39m [vectors_1[x] \u001b[38;5;28;01mfor\u001b[39;00m x \u001b[38;5;129;01min\u001b[39;00m \u001b[38;5;28mself\u001b[39m\u001b[38;5;241m.\u001b[39m_d1_valid_indices]\n",
      "File \u001b[0;32m~/anaconda3/envs/pyJedAI/lib/python3.10/site-packages/numpy/lib/npyio.py:405\u001b[0m, in \u001b[0;36mload\u001b[0;34m(file, mmap_mode, allow_pickle, fix_imports, encoding, max_header_size)\u001b[0m\n\u001b[1;32m    404\u001b[0m \u001b[38;5;28;01melse\u001b[39;00m:\n\u001b[0;32m--> 405\u001b[0m     fid \u001b[38;5;241m=\u001b[39m stack\u001b[38;5;241m.\u001b[39menter_context(\u001b[38;5;28;43mopen\u001b[39;49m\u001b[43m(\u001b[49m\u001b[43mos_fspath\u001b[49m\u001b[43m(\u001b[49m\u001b[43mfile\u001b[49m\u001b[43m)\u001b[49m\u001b[43m,\u001b[49m\u001b[43m \u001b[49m\u001b[38;5;124;43m\"\u001b[39;49m\u001b[38;5;124;43mrb\u001b[39;49m\u001b[38;5;124;43m\"\u001b[39;49m\u001b[43m)\u001b[49m)\n\u001b[1;32m    406\u001b[0m     own_fid \u001b[38;5;241m=\u001b[39m \u001b[38;5;28;01mTrue\u001b[39;00m\n",
      "\u001b[0;31mFileNotFoundError\u001b[0m: [Errno 2] No such file or directory: '.embeddings/d1_1.npy'",
      "\nDuring handling of the above exception, another exception occurred:\n",
      "\u001b[0;31mValueError\u001b[0m                                Traceback (most recent call last)",
      "File \u001b[0;32m<timed exec>:10\u001b[0m\n",
      "File \u001b[0;32m~/Desktop/Research/AI_Team/Active Repos/pyJedAI-Dev/pyjedai/prioritization.py:165\u001b[0m, in \u001b[0;36mProgressiveMatching.predict\u001b[0;34m(self, blocks, data, comparison_cleaner, tqdm_disable)\u001b[0m\n\u001b[1;32m    161\u001b[0m \u001b[38;5;28mself\u001b[39m\u001b[38;5;241m.\u001b[39m_progress_bar \u001b[38;5;241m=\u001b[39m tqdm(total\u001b[38;5;241m=\u001b[39m\u001b[38;5;28mlen\u001b[39m(blocks),\n\u001b[1;32m    162\u001b[0m                         desc\u001b[38;5;241m=\u001b[39m\u001b[38;5;28mself\u001b[39m\u001b[38;5;241m.\u001b[39m_method_name\u001b[38;5;241m+\u001b[39m\u001b[38;5;124m\"\u001b[39m\u001b[38;5;124m (\u001b[39m\u001b[38;5;124m\"\u001b[39m\u001b[38;5;241m+\u001b[39m\u001b[38;5;28mself\u001b[39m\u001b[38;5;241m.\u001b[39mmetric\u001b[38;5;241m+\u001b[39m\u001b[38;5;124m\"\u001b[39m\u001b[38;5;124m)\u001b[39m\u001b[38;5;124m\"\u001b[39m,\n\u001b[1;32m    163\u001b[0m                         disable\u001b[38;5;241m=\u001b[39m\u001b[38;5;28mself\u001b[39m\u001b[38;5;241m.\u001b[39mtqdm_disable)\n\u001b[1;32m    164\u001b[0m \u001b[38;5;28;01mif\u001b[39;00m \u001b[38;5;124m'\u001b[39m\u001b[38;5;124mBlock\u001b[39m\u001b[38;5;124m'\u001b[39m \u001b[38;5;129;01min\u001b[39;00m \u001b[38;5;28mstr\u001b[39m(\u001b[38;5;28mtype\u001b[39m(all_blocks[\u001b[38;5;241m0\u001b[39m])):\n\u001b[0;32m--> 165\u001b[0m     \u001b[38;5;28;43mself\u001b[39;49m\u001b[38;5;241;43m.\u001b[39;49m\u001b[43m_predict_raw_blocks\u001b[49m\u001b[43m(\u001b[49m\u001b[43mblocks\u001b[49m\u001b[43m)\u001b[49m\n\u001b[1;32m    166\u001b[0m \u001b[38;5;28;01melif\u001b[39;00m \u001b[38;5;28misinstance\u001b[39m(all_blocks[\u001b[38;5;241m0\u001b[39m], \u001b[38;5;28mset\u001b[39m):\n\u001b[1;32m    167\u001b[0m     \u001b[38;5;28;01mif\u001b[39;00m(\u001b[38;5;28mself\u001b[39m\u001b[38;5;241m.\u001b[39m_comparison_cleaner \u001b[38;5;241m==\u001b[39m \u001b[38;5;28;01mNone\u001b[39;00m):\n",
      "File \u001b[0;32m~/Desktop/Research/AI_Team/Active Repos/pyJedAI-Dev/pyjedai/prioritization.py:446\u001b[0m, in \u001b[0;36mEmbeddingsNNBPM._predict_raw_blocks\u001b[0;34m(self, blocks)\u001b[0m\n\u001b[1;32m    444\u001b[0m \u001b[38;5;28;01mdef\u001b[39;00m \u001b[38;5;21m_predict_raw_blocks\u001b[39m(\u001b[38;5;28mself\u001b[39m, blocks: \u001b[38;5;28mdict\u001b[39m) \u001b[38;5;241m-\u001b[39m\u001b[38;5;241m>\u001b[39m \u001b[38;5;28;01mNone\u001b[39;00m:\n\u001b[1;32m    445\u001b[0m     \u001b[38;5;28mself\u001b[39m\u001b[38;5;241m.\u001b[39mennbb : EmbeddingsNNBlockBuilding \u001b[38;5;241m=\u001b[39m EmbeddingsNNBlockBuilding(\u001b[38;5;28mself\u001b[39m\u001b[38;5;241m.\u001b[39m_vectorizer, \u001b[38;5;28mself\u001b[39m\u001b[38;5;241m.\u001b[39m_similarity_search)\n\u001b[0;32m--> 446\u001b[0m     \u001b[38;5;28mself\u001b[39m\u001b[38;5;241m.\u001b[39mfinal_blocks \u001b[38;5;241m=\u001b[39m \u001b[38;5;28;43mself\u001b[39;49m\u001b[38;5;241;43m.\u001b[39;49m\u001b[43mennbb\u001b[49m\u001b[38;5;241;43m.\u001b[39;49m\u001b[43mbuild_blocks\u001b[49m\u001b[43m(\u001b[49m\u001b[43mdata\u001b[49m\u001b[43m \u001b[49m\u001b[38;5;241;43m=\u001b[39;49m\u001b[43m \u001b[49m\u001b[38;5;28;43mself\u001b[39;49m\u001b[38;5;241;43m.\u001b[39;49m\u001b[43mdata\u001b[49m\u001b[43m,\u001b[49m\n\u001b[1;32m    447\u001b[0m \u001b[43m                 \u001b[49m\u001b[43mnum_of_clusters\u001b[49m\u001b[43m \u001b[49m\u001b[38;5;241;43m=\u001b[39;49m\u001b[43m \u001b[49m\u001b[38;5;28;43mself\u001b[39;49m\u001b[38;5;241;43m.\u001b[39;49m\u001b[43m_num_of_clusters\u001b[49m\u001b[43m,\u001b[49m\n\u001b[1;32m    448\u001b[0m \u001b[43m                 \u001b[49m\u001b[43mtop_k\u001b[49m\u001b[43m \u001b[49m\u001b[38;5;241;43m=\u001b[39;49m\u001b[43m \u001b[49m\u001b[38;5;28;43mint\u001b[39;49m\u001b[43m(\u001b[49m\u001b[38;5;28;43mmax\u001b[39;49m\u001b[43m(\u001b[49m\u001b[38;5;241;43m1\u001b[39;49m\u001b[43m,\u001b[49m\u001b[43m \u001b[49m\u001b[38;5;28;43mint\u001b[39;49m\u001b[43m(\u001b[49m\u001b[38;5;28;43mself\u001b[39;49m\u001b[38;5;241;43m.\u001b[39;49m\u001b[43m_budget\u001b[49m\u001b[43m \u001b[49m\u001b[38;5;241;43m/\u001b[39;49m\u001b[43m \u001b[49m\u001b[38;5;28;43mself\u001b[39;49m\u001b[38;5;241;43m.\u001b[39;49m\u001b[43mdata\u001b[49m\u001b[38;5;241;43m.\u001b[39;49m\u001b[43mnum_of_entities\u001b[49m\u001b[43m)\u001b[49m\u001b[43m \u001b[49m\u001b[38;5;241;43m+\u001b[39;49m\u001b[43m \u001b[49m\u001b[43m(\u001b[49m\u001b[38;5;28;43mself\u001b[39;49m\u001b[38;5;241;43m.\u001b[39;49m\u001b[43m_budget\u001b[49m\u001b[43m \u001b[49m\u001b[38;5;241;43m%\u001b[39;49m\u001b[43m \u001b[49m\u001b[38;5;28;43mself\u001b[39;49m\u001b[38;5;241;43m.\u001b[39;49m\u001b[43mdata\u001b[49m\u001b[38;5;241;43m.\u001b[39;49m\u001b[43mnum_of_entities\u001b[49m\u001b[43m \u001b[49m\u001b[38;5;241;43m>\u001b[39;49m\u001b[43m \u001b[49m\u001b[38;5;241;43m0\u001b[39;49m\u001b[43m)\u001b[49m\u001b[43m)\u001b[49m\u001b[43m)\u001b[49m\u001b[43m,\u001b[49m\n\u001b[1;32m    449\u001b[0m \u001b[43m                 \u001b[49m\u001b[43mreturn_vectors\u001b[49m\u001b[43m \u001b[49m\u001b[38;5;241;43m=\u001b[39;49m\u001b[43m \u001b[49m\u001b[38;5;28;43;01mFalse\u001b[39;49;00m\u001b[43m,\u001b[49m\n\u001b[1;32m    450\u001b[0m \u001b[43m                 \u001b[49m\u001b[43mtqdm_disable\u001b[49m\u001b[43m \u001b[49m\u001b[38;5;241;43m=\u001b[39;49m\u001b[43m \u001b[49m\u001b[38;5;28;43;01mFalse\u001b[39;49;00m\u001b[43m,\u001b[49m\n\u001b[1;32m    451\u001b[0m \u001b[43m                 \u001b[49m\u001b[43msave_embeddings\u001b[49m\u001b[43m \u001b[49m\u001b[38;5;241;43m=\u001b[39;49m\u001b[43m \u001b[49m\u001b[38;5;28;43;01mTrue\u001b[39;49;00m\u001b[43m,\u001b[49m\n\u001b[1;32m    452\u001b[0m \u001b[43m                 \u001b[49m\u001b[43mload_embeddings_if_exist\u001b[49m\u001b[43m \u001b[49m\u001b[38;5;241;43m=\u001b[39;49m\u001b[43m \u001b[49m\u001b[38;5;28;43;01mTrue\u001b[39;49;00m\u001b[43m,\u001b[49m\n\u001b[1;32m    453\u001b[0m \u001b[43m                 \u001b[49m\u001b[43mwith_entity_matching\u001b[49m\u001b[43m \u001b[49m\u001b[38;5;241;43m=\u001b[39;49m\u001b[43m \u001b[49m\u001b[38;5;28;43;01mFalse\u001b[39;49;00m\u001b[43m,\u001b[49m\n\u001b[1;32m    454\u001b[0m \u001b[43m                 \u001b[49m\u001b[43minput_cleaned_blocks\u001b[49m\u001b[43m \u001b[49m\u001b[38;5;241;43m=\u001b[39;49m\u001b[43m \u001b[49m\u001b[43mblocks\u001b[49m\u001b[43m)\u001b[49m\n\u001b[1;32m    456\u001b[0m     \u001b[38;5;28mself\u001b[39m\u001b[38;5;241m.\u001b[39mscores \u001b[38;5;241m=\u001b[39m \u001b[38;5;28mself\u001b[39m\u001b[38;5;241m.\u001b[39mennbb\u001b[38;5;241m.\u001b[39mdistances\n\u001b[1;32m    457\u001b[0m     \u001b[38;5;28mself\u001b[39m\u001b[38;5;241m.\u001b[39mneighbors \u001b[38;5;241m=\u001b[39m \u001b[38;5;28mself\u001b[39m\u001b[38;5;241m.\u001b[39mennbb\u001b[38;5;241m.\u001b[39mneighbors\n",
      "File \u001b[0;32m~/Desktop/Research/AI_Team/Active Repos/pyJedAI-Dev/pyjedai/vector_based_blocking.py:200\u001b[0m, in \u001b[0;36mEmbeddingsNNBlockBuilding.build_blocks\u001b[0;34m(self, data, vector_size, num_of_clusters, top_k, max_word_embeddings_size, attributes_1, attributes_2, return_vectors, tqdm_disable, save_embeddings, load_embeddings_if_exist, with_entity_matching, input_cleaned_blocks)\u001b[0m\n\u001b[1;32m    198\u001b[0m     elif self.vectorizer in ['smpnet', 'st5', 'sent_glove', 'sdistilroberta', 'sminilm']:\n\u001b[1;32m    199\u001b[0m         vectors_1, vectors_2 = self._create_pretrained_sentence_embeddings()\n\u001b[0;32m--> 200\u001b[0m     else:\n\u001b[1;32m    201\u001b[0m         raise AttributeError(\"Not available vectorizer\")\n\u001b[1;32m    203\u001b[0m if save_embeddings:\n",
      "\u001b[0;31mValueError\u001b[0m: Embeddings not found."
     ]
    }
   ],
   "source": [
    "%%time\n",
    "ENNBPM = EmbeddingsNNBPM(\n",
    "    budget = 1000,\n",
    "    vectorizer = 'roberta',\n",
    "    similarity_search = 'faiss',\n",
    "    emission= 'avg',\n",
    "    metric = 'dice',\n",
    "    tokenizer = 'white_space_tokenizer',\n",
    "    similarity_threshold = 0.1\n",
    ")\n",
    "ennbpm_pairs_graph = ENNBPM.predict(cleaned_blocks, data, tqdm_disable=True)"
   ]
  },
  {
   "cell_type": "code",
   "execution_count": 113,
   "id": "e6717828",
   "metadata": {},
   "outputs": [
    {
     "name": "stdout",
     "output_type": "stream",
     "text": [
      "CPU times: user 866 µs, sys: 21 µs, total: 887 µs\n",
      "Wall time: 890 µs\n"
     ]
    }
   ],
   "source": [
    "%%time\n",
    "rpm = RandomPM(\n",
    "    budget = 1000,\n",
    "    metric='dice',\n",
    "    similarity_threshold=0.1,\n",
    "    attributes = ['description', 'name']\n",
    ")\n",
    "\n",
    "rpm_pairs_graph = rpm.predict(cleaned_blocks, data, tqdm_disable=True)"
   ]
  },
  {
   "cell_type": "code",
   "execution_count": 114,
   "id": "c88c1ba9",
   "metadata": {},
   "outputs": [
    {
     "name": "stdout",
     "output_type": "stream",
     "text": [
      "CPU times: user 36.8 ms, sys: 0 ns, total: 36.8 ms\n",
      "Wall time: 36.5 ms\n"
     ]
    }
   ],
   "source": [
    "%%time\n",
    "pesm = PESM(\n",
    "    budget = 1000,\n",
    "    w_scheme = 'X2',\n",
    "    metric='dice',\n",
    "    similarity_threshold=0.1,\n",
    "    attributes = ['description', 'name']\n",
    ")\n",
    "\n",
    "pesm_pairs_graph = pesm.predict(cleaned_blocks, data, tqdm_disable=True)"
   ]
  },
  {
   "cell_type": "code",
   "execution_count": 115,
   "id": "4684a057",
   "metadata": {},
   "outputs": [],
   "source": [
    "def reverse(id1, id2):\n",
    "    if(id1 > id2):\n",
    "        return (id2, id1)\n",
    "    else:\n",
    "        return (id1, id2)\n",
    "\n",
    "def get_duplicates(tuple_list):\n",
    "    count = 0\n",
    "    seen_pairs = set()\n",
    "    duplicates = []\n",
    "    \n",
    "    for item in tuple_list:\n",
    "        weight, id1, id2 = item\n",
    "        pair = reverse(id1, id2)\n",
    "        \n",
    "        if pair in seen_pairs:\n",
    "            dupl.append(pair)\n",
    "        else:\n",
    "            seen_pairs.add(pair)\n",
    "    \n",
    "    return duplicates"
   ]
  },
  {
   "cell_type": "code",
   "execution_count": 116,
   "id": "0d8fbfd9",
   "metadata": {},
   "outputs": [],
   "source": [
    "# some progressive methods don't allow for comparison storage within graph\n",
    "# it changes the order of the emitted pairs\n",
    "methods_prediction_data = []\n",
    "\n",
    "# ltpm_pairs_graph.edges = sorted(ltpm_pairs_graph.edges(data=True), key=lambda x: x[2]['weight'], reverse=True)\n",
    "# gtpm_pairs_graph.edges = sorted(gtpm_pairs_graph.edges(data=True), key=lambda x: x[2]['weight'], reverse=True)\n",
    "\n",
    "# ltpm_pairs_graph.edges = [edge[:2] for edge in ltpm_pairs_graph.edges]\n",
    "# gtpm_pairs_graph.edges = [edge[:2] for edge in gtpm_pairs_graph.edges]\n",
    "\n",
    "\n",
    "# ltpm_pairs_graph\n",
    "# gtpm_pairs_graph\n",
    "# rpm_pairs_graph\n",
    "# gpsnm_pairs_graph\n",
    "# lpsnm_pairs_graph\n",
    "# pesm_pairs_graph\n",
    "\n",
    "methods_prediction_data.append((\"Random\", [edge for edge in rpm_pairs_graph.edges]))\n",
    "methods_prediction_data.append((\"Local Top\", [edge[:2] for edge in ltpm_pairs_graph.edges]))\n",
    "methods_prediction_data.append((\"Global Top\", [edge[:2] for edge in gtpm_pairs_graph.edges]))\n",
    "methods_prediction_data.append((\"GSN\", gpsnm_pairs_graph))\n",
    "methods_prediction_data.append((\"LSN\", lpsnm_pairs_graph))\n",
    "methods_prediction_data.append((\"ES\", pesm_pairs_graph))\n",
    "\n",
    "\n",
    "# methods_prediction_data.append((\"Random\", list([edge[:2] for edge in rpm_pairs_graph.edges])))\n",
    "# methods_prediction_data.append((\"Entity Esch\", list(edge[1:] for edge in pesm_pairs_graph)))\n",
    "# methods_prediction_data.append((\"Global Sorted Neighborhood\", gpsnm_pairs_graph))\n",
    "# methods_prediction_data.append((\"Local Sorted Neighborhood\", lpsnm_pairs_graph))\n",
    "# methods_prediction_data.append((\"Embedding BNN\", list(ennbpm_pairs_graph)))"
   ]
  },
  {
   "cell_type": "code",
   "execution_count": 117,
   "id": "33f4105b",
   "metadata": {
    "scrolled": true
   },
   "outputs": [
    {
     "name": "stdout",
     "output_type": "stream",
     "text": [
      "{'0': 0, '1': 1, '2': 2, '3': 3, '4': 4, '5': 5, '6': 6, '7': 7, '8': 8, '9': 9, '10': 10, '11': 11, '12': 12, '13': 13, '14': 14, '15': 15, '16': 16, '17': 17, '18': 18, '19': 19, '20': 20, '21': 21, '22': 22, '23': 23, '24': 24, '25': 25, '26': 26, '27': 27, '28': 28, '29': 29, '30': 30, '31': 31, '32': 32, '33': 33, '34': 34, '35': 35, '36': 36, '37': 37, '38': 38, '39': 39, '40': 40, '41': 41, '42': 42, '43': 43, '44': 44, '45': 45, '46': 46, '47': 47, '48': 48, '49': 49, '50': 50, '51': 51, '52': 52, '53': 53, '54': 54, '55': 55, '56': 56, '57': 57, '58': 58, '59': 59, '60': 60, '61': 61, '62': 62, '63': 63, '64': 64, '65': 65, '66': 66, '67': 67, '68': 68, '69': 69, '70': 70, '71': 71, '72': 72, '73': 73, '74': 74, '75': 75, '76': 76, '77': 77, '78': 78, '79': 79, '80': 80, '81': 81, '82': 82, '83': 83, '84': 84, '85': 85, '86': 86, '87': 87, '88': 88, '89': 89, '90': 90, '91': 91, '92': 92, '93': 93, '94': 94, '95': 95, '96': 96, '97': 97, '98': 98, '99': 99}\n",
      "{'0': 100, '1': 101, '2': 102, '3': 103, '4': 104, '5': 105, '6': 106, '7': 107, '8': 108, '9': 109, '10': 110, '11': 111, '12': 112, '13': 113, '14': 114, '15': 115, '16': 116, '17': 117, '18': 118, '19': 119, '20': 120, '21': 121, '22': 122, '23': 123, '24': 124, '25': 125, '26': 126, '27': 127, '28': 128, '29': 129, '30': 130, '31': 131, '32': 132, '33': 133, '34': 134, '35': 135, '36': 136, '37': 137, '38': 138, '39': 139, '40': 140, '41': 141, '42': 142, '43': 143, '44': 144, '45': 145, '46': 146, '47': 147, '48': 148, '49': 149, '50': 150, '51': 151, '52': 152, '53': 153, '54': 154, '55': 155, '56': 156, '57': 157, '58': 158, '59': 159, '60': 160, '61': 161, '62': 162, '63': 163, '64': 164, '65': 165, '66': 166, '67': 167, '68': 168, '69': 169, '70': 170, '71': 171, '72': 172, '73': 173, '74': 174, '75': 175, '76': 176, '77': 177, '78': 178, '79': 179, '80': 180, '81': 181, '82': 182, '83': 183, '84': 184, '85': 185, '86': 186, '87': 187, '88': 188, '89': 189, '90': 190, '91': 191, '92': 192, '93': 193, '94': 194, '95': 195, '96': 196, '97': 197, '98': 198, '99': 199}\n",
      "{0: '0', 1: '1', 2: '2', 3: '3', 4: '4', 5: '5', 6: '6', 7: '7', 8: '8', 9: '9', 10: '10', 11: '11', 12: '12', 13: '13', 14: '14', 15: '15', 16: '16', 17: '17', 18: '18', 19: '19', 20: '20', 21: '21', 22: '22', 23: '23', 24: '24', 25: '25', 26: '26', 27: '27', 28: '28', 29: '29', 30: '30', 31: '31', 32: '32', 33: '33', 34: '34', 35: '35', 36: '36', 37: '37', 38: '38', 39: '39', 40: '40', 41: '41', 42: '42', 43: '43', 44: '44', 45: '45', 46: '46', 47: '47', 48: '48', 49: '49', 50: '50', 51: '51', 52: '52', 53: '53', 54: '54', 55: '55', 56: '56', 57: '57', 58: '58', 59: '59', 60: '60', 61: '61', 62: '62', 63: '63', 64: '64', 65: '65', 66: '66', 67: '67', 68: '68', 69: '69', 70: '70', 71: '71', 72: '72', 73: '73', 74: '74', 75: '75', 76: '76', 77: '77', 78: '78', 79: '79', 80: '80', 81: '81', 82: '82', 83: '83', 84: '84', 85: '85', 86: '86', 87: '87', 88: '88', 89: '89', 90: '90', 91: '91', 92: '92', 93: '93', 94: '94', 95: '95', 96: '96', 97: '97', 98: '98', 99: '99'}\n",
      "{100: '0', 101: '1', 102: '2', 103: '3', 104: '4', 105: '5', 106: '6', 107: '7', 108: '8', 109: '9', 110: '10', 111: '11', 112: '12', 113: '13', 114: '14', 115: '15', 116: '16', 117: '17', 118: '18', 119: '19', 120: '20', 121: '21', 122: '22', 123: '23', 124: '24', 125: '25', 126: '26', 127: '27', 128: '28', 129: '29', 130: '30', 131: '31', 132: '32', 133: '33', 134: '34', 135: '35', 136: '36', 137: '37', 138: '38', 139: '39', 140: '40', 141: '41', 142: '42', 143: '43', 144: '44', 145: '45', 146: '46', 147: '47', 148: '48', 149: '49', 150: '50', 151: '51', 152: '52', 153: '53', 154: '54', 155: '55', 156: '56', 157: '57', 158: '58', 159: '59', 160: '60', 161: '61', 162: '62', 163: '63', 164: '64', 165: '65', 166: '66', 167: '67', 168: '68', 169: '69', 170: '70', 171: '71', 172: '72', 173: '73', 174: '74', 175: '75', 176: '76', 177: '77', 178: '78', 179: '79', 180: '80', 181: '81', 182: '82', 183: '83', 184: '84', 185: '85', 186: '86', 187: '87', 188: '88', 189: '89', 190: '90', 191: '91', 192: '92', 193: '93', 194: '94', 195: '95', 196: '96', 197: '97', 198: '98', 199: '99'}\n",
      "{'0': 0, '1': 1, '2': 2, '3': 3, '4': 4, '5': 5, '6': 6, '7': 7, '8': 8, '9': 9, '10': 10, '11': 11, '12': 12, '13': 13, '14': 14, '15': 15, '16': 16, '17': 17, '18': 18, '19': 19, '20': 20, '21': 21, '22': 22, '23': 23, '24': 24, '25': 25, '26': 26, '27': 27, '28': 28, '29': 29, '30': 30, '31': 31, '32': 32, '33': 33, '34': 34, '35': 35, '36': 36, '37': 37, '38': 38, '39': 39, '40': 40, '41': 41, '42': 42, '43': 43, '44': 44, '45': 45, '46': 46, '47': 47, '48': 48, '49': 49, '50': 50, '51': 51, '52': 52, '53': 53, '54': 54, '55': 55, '56': 56, '57': 57, '58': 58, '59': 59, '60': 60, '61': 61, '62': 62, '63': 63, '64': 64, '65': 65, '66': 66, '67': 67, '68': 68, '69': 69, '70': 70, '71': 71, '72': 72, '73': 73, '74': 74, '75': 75, '76': 76, '77': 77, '78': 78, '79': 79, '80': 80, '81': 81, '82': 82, '83': 83, '84': 84, '85': 85, '86': 86, '87': 87, '88': 88, '89': 89, '90': 90, '91': 91, '92': 92, '93': 93, '94': 94, '95': 95, '96': 96, '97': 97, '98': 98, '99': 99}\n",
      "{'0': 100, '1': 101, '2': 102, '3': 103, '4': 104, '5': 105, '6': 106, '7': 107, '8': 108, '9': 109, '10': 110, '11': 111, '12': 112, '13': 113, '14': 114, '15': 115, '16': 116, '17': 117, '18': 118, '19': 119, '20': 120, '21': 121, '22': 122, '23': 123, '24': 124, '25': 125, '26': 126, '27': 127, '28': 128, '29': 129, '30': 130, '31': 131, '32': 132, '33': 133, '34': 134, '35': 135, '36': 136, '37': 137, '38': 138, '39': 139, '40': 140, '41': 141, '42': 142, '43': 143, '44': 144, '45': 145, '46': 146, '47': 147, '48': 148, '49': 149, '50': 150, '51': 151, '52': 152, '53': 153, '54': 154, '55': 155, '56': 156, '57': 157, '58': 158, '59': 159, '60': 160, '61': 161, '62': 162, '63': 163, '64': 164, '65': 165, '66': 166, '67': 167, '68': 168, '69': 169, '70': 170, '71': 171, '72': 172, '73': 173, '74': 174, '75': 175, '76': 176, '77': 177, '78': 178, '79': 179, '80': 180, '81': 181, '82': 182, '83': 183, '84': 184, '85': 185, '86': 186, '87': 187, '88': 188, '89': 189, '90': 190, '91': 191, '92': 192, '93': 193, '94': 194, '95': 195, '96': 196, '97': 197, '98': 198, '99': 199}\n",
      "{0: '0', 1: '1', 2: '2', 3: '3', 4: '4', 5: '5', 6: '6', 7: '7', 8: '8', 9: '9', 10: '10', 11: '11', 12: '12', 13: '13', 14: '14', 15: '15', 16: '16', 17: '17', 18: '18', 19: '19', 20: '20', 21: '21', 22: '22', 23: '23', 24: '24', 25: '25', 26: '26', 27: '27', 28: '28', 29: '29', 30: '30', 31: '31', 32: '32', 33: '33', 34: '34', 35: '35', 36: '36', 37: '37', 38: '38', 39: '39', 40: '40', 41: '41', 42: '42', 43: '43', 44: '44', 45: '45', 46: '46', 47: '47', 48: '48', 49: '49', 50: '50', 51: '51', 52: '52', 53: '53', 54: '54', 55: '55', 56: '56', 57: '57', 58: '58', 59: '59', 60: '60', 61: '61', 62: '62', 63: '63', 64: '64', 65: '65', 66: '66', 67: '67', 68: '68', 69: '69', 70: '70', 71: '71', 72: '72', 73: '73', 74: '74', 75: '75', 76: '76', 77: '77', 78: '78', 79: '79', 80: '80', 81: '81', 82: '82', 83: '83', 84: '84', 85: '85', 86: '86', 87: '87', 88: '88', 89: '89', 90: '90', 91: '91', 92: '92', 93: '93', 94: '94', 95: '95', 96: '96', 97: '97', 98: '98', 99: '99'}\n",
      "{100: '0', 101: '1', 102: '2', 103: '3', 104: '4', 105: '5', 106: '6', 107: '7', 108: '8', 109: '9', 110: '10', 111: '11', 112: '12', 113: '13', 114: '14', 115: '15', 116: '16', 117: '17', 118: '18', 119: '19', 120: '20', 121: '21', 122: '22', 123: '23', 124: '24', 125: '25', 126: '26', 127: '27', 128: '28', 129: '29', 130: '30', 131: '31', 132: '32', 133: '33', 134: '34', 135: '35', 136: '36', 137: '37', 138: '38', 139: '39', 140: '40', 141: '41', 142: '42', 143: '43', 144: '44', 145: '45', 146: '46', 147: '47', 148: '48', 149: '49', 150: '50', 151: '51', 152: '52', 153: '53', 154: '54', 155: '55', 156: '56', 157: '57', 158: '58', 159: '59', 160: '60', 161: '61', 162: '62', 163: '63', 164: '64', 165: '65', 166: '66', 167: '67', 168: '68', 169: '69', 170: '70', 171: '71', 172: '72', 173: '73', 174: '74', 175: '75', 176: '76', 177: '77', 178: '78', 179: '79', 180: '80', 181: '81', 182: '82', 183: '83', 184: '84', 185: '85', 186: '86', 187: '87', 188: '88', 189: '89', 190: '90', 191: '91', 192: '92', 193: '93', 194: '94', 195: '95', 196: '96', 197: '97', 198: '98', 199: '99'}\n",
      "{'0': 0, '1': 1, '2': 2, '3': 3, '4': 4, '5': 5, '6': 6, '7': 7, '8': 8, '9': 9, '10': 10, '11': 11, '12': 12, '13': 13, '14': 14, '15': 15, '16': 16, '17': 17, '18': 18, '19': 19, '20': 20, '21': 21, '22': 22, '23': 23, '24': 24, '25': 25, '26': 26, '27': 27, '28': 28, '29': 29, '30': 30, '31': 31, '32': 32, '33': 33, '34': 34, '35': 35, '36': 36, '37': 37, '38': 38, '39': 39, '40': 40, '41': 41, '42': 42, '43': 43, '44': 44, '45': 45, '46': 46, '47': 47, '48': 48, '49': 49, '50': 50, '51': 51, '52': 52, '53': 53, '54': 54, '55': 55, '56': 56, '57': 57, '58': 58, '59': 59, '60': 60, '61': 61, '62': 62, '63': 63, '64': 64, '65': 65, '66': 66, '67': 67, '68': 68, '69': 69, '70': 70, '71': 71, '72': 72, '73': 73, '74': 74, '75': 75, '76': 76, '77': 77, '78': 78, '79': 79, '80': 80, '81': 81, '82': 82, '83': 83, '84': 84, '85': 85, '86': 86, '87': 87, '88': 88, '89': 89, '90': 90, '91': 91, '92': 92, '93': 93, '94': 94, '95': 95, '96': 96, '97': 97, '98': 98, '99': 99}\n",
      "{'0': 100, '1': 101, '2': 102, '3': 103, '4': 104, '5': 105, '6': 106, '7': 107, '8': 108, '9': 109, '10': 110, '11': 111, '12': 112, '13': 113, '14': 114, '15': 115, '16': 116, '17': 117, '18': 118, '19': 119, '20': 120, '21': 121, '22': 122, '23': 123, '24': 124, '25': 125, '26': 126, '27': 127, '28': 128, '29': 129, '30': 130, '31': 131, '32': 132, '33': 133, '34': 134, '35': 135, '36': 136, '37': 137, '38': 138, '39': 139, '40': 140, '41': 141, '42': 142, '43': 143, '44': 144, '45': 145, '46': 146, '47': 147, '48': 148, '49': 149, '50': 150, '51': 151, '52': 152, '53': 153, '54': 154, '55': 155, '56': 156, '57': 157, '58': 158, '59': 159, '60': 160, '61': 161, '62': 162, '63': 163, '64': 164, '65': 165, '66': 166, '67': 167, '68': 168, '69': 169, '70': 170, '71': 171, '72': 172, '73': 173, '74': 174, '75': 175, '76': 176, '77': 177, '78': 178, '79': 179, '80': 180, '81': 181, '82': 182, '83': 183, '84': 184, '85': 185, '86': 186, '87': 187, '88': 188, '89': 189, '90': 190, '91': 191, '92': 192, '93': 193, '94': 194, '95': 195, '96': 196, '97': 197, '98': 198, '99': 199}\n",
      "{0: '0', 1: '1', 2: '2', 3: '3', 4: '4', 5: '5', 6: '6', 7: '7', 8: '8', 9: '9', 10: '10', 11: '11', 12: '12', 13: '13', 14: '14', 15: '15', 16: '16', 17: '17', 18: '18', 19: '19', 20: '20', 21: '21', 22: '22', 23: '23', 24: '24', 25: '25', 26: '26', 27: '27', 28: '28', 29: '29', 30: '30', 31: '31', 32: '32', 33: '33', 34: '34', 35: '35', 36: '36', 37: '37', 38: '38', 39: '39', 40: '40', 41: '41', 42: '42', 43: '43', 44: '44', 45: '45', 46: '46', 47: '47', 48: '48', 49: '49', 50: '50', 51: '51', 52: '52', 53: '53', 54: '54', 55: '55', 56: '56', 57: '57', 58: '58', 59: '59', 60: '60', 61: '61', 62: '62', 63: '63', 64: '64', 65: '65', 66: '66', 67: '67', 68: '68', 69: '69', 70: '70', 71: '71', 72: '72', 73: '73', 74: '74', 75: '75', 76: '76', 77: '77', 78: '78', 79: '79', 80: '80', 81: '81', 82: '82', 83: '83', 84: '84', 85: '85', 86: '86', 87: '87', 88: '88', 89: '89', 90: '90', 91: '91', 92: '92', 93: '93', 94: '94', 95: '95', 96: '96', 97: '97', 98: '98', 99: '99'}\n",
      "{100: '0', 101: '1', 102: '2', 103: '3', 104: '4', 105: '5', 106: '6', 107: '7', 108: '8', 109: '9', 110: '10', 111: '11', 112: '12', 113: '13', 114: '14', 115: '15', 116: '16', 117: '17', 118: '18', 119: '19', 120: '20', 121: '21', 122: '22', 123: '23', 124: '24', 125: '25', 126: '26', 127: '27', 128: '28', 129: '29', 130: '30', 131: '31', 132: '32', 133: '33', 134: '34', 135: '35', 136: '36', 137: '37', 138: '38', 139: '39', 140: '40', 141: '41', 142: '42', 143: '43', 144: '44', 145: '45', 146: '46', 147: '47', 148: '48', 149: '49', 150: '50', 151: '51', 152: '52', 153: '53', 154: '54', 155: '55', 156: '56', 157: '57', 158: '58', 159: '59', 160: '60', 161: '61', 162: '62', 163: '63', 164: '64', 165: '65', 166: '66', 167: '67', 168: '68', 169: '69', 170: '70', 171: '71', 172: '72', 173: '73', 174: '74', 175: '75', 176: '76', 177: '77', 178: '78', 179: '79', 180: '80', 181: '81', 182: '82', 183: '83', 184: '84', 185: '85', 186: '86', 187: '87', 188: '88', 189: '89', 190: '90', 191: '91', 192: '92', 193: '93', 194: '94', 195: '95', 196: '96', 197: '97', 198: '98', 199: '99'}\n",
      "{'0': 0, '1': 1, '2': 2, '3': 3, '4': 4, '5': 5, '6': 6, '7': 7, '8': 8, '9': 9, '10': 10, '11': 11, '12': 12, '13': 13, '14': 14, '15': 15, '16': 16, '17': 17, '18': 18, '19': 19, '20': 20, '21': 21, '22': 22, '23': 23, '24': 24, '25': 25, '26': 26, '27': 27, '28': 28, '29': 29, '30': 30, '31': 31, '32': 32, '33': 33, '34': 34, '35': 35, '36': 36, '37': 37, '38': 38, '39': 39, '40': 40, '41': 41, '42': 42, '43': 43, '44': 44, '45': 45, '46': 46, '47': 47, '48': 48, '49': 49, '50': 50, '51': 51, '52': 52, '53': 53, '54': 54, '55': 55, '56': 56, '57': 57, '58': 58, '59': 59, '60': 60, '61': 61, '62': 62, '63': 63, '64': 64, '65': 65, '66': 66, '67': 67, '68': 68, '69': 69, '70': 70, '71': 71, '72': 72, '73': 73, '74': 74, '75': 75, '76': 76, '77': 77, '78': 78, '79': 79, '80': 80, '81': 81, '82': 82, '83': 83, '84': 84, '85': 85, '86': 86, '87': 87, '88': 88, '89': 89, '90': 90, '91': 91, '92': 92, '93': 93, '94': 94, '95': 95, '96': 96, '97': 97, '98': 98, '99': 99}\n",
      "{'0': 100, '1': 101, '2': 102, '3': 103, '4': 104, '5': 105, '6': 106, '7': 107, '8': 108, '9': 109, '10': 110, '11': 111, '12': 112, '13': 113, '14': 114, '15': 115, '16': 116, '17': 117, '18': 118, '19': 119, '20': 120, '21': 121, '22': 122, '23': 123, '24': 124, '25': 125, '26': 126, '27': 127, '28': 128, '29': 129, '30': 130, '31': 131, '32': 132, '33': 133, '34': 134, '35': 135, '36': 136, '37': 137, '38': 138, '39': 139, '40': 140, '41': 141, '42': 142, '43': 143, '44': 144, '45': 145, '46': 146, '47': 147, '48': 148, '49': 149, '50': 150, '51': 151, '52': 152, '53': 153, '54': 154, '55': 155, '56': 156, '57': 157, '58': 158, '59': 159, '60': 160, '61': 161, '62': 162, '63': 163, '64': 164, '65': 165, '66': 166, '67': 167, '68': 168, '69': 169, '70': 170, '71': 171, '72': 172, '73': 173, '74': 174, '75': 175, '76': 176, '77': 177, '78': 178, '79': 179, '80': 180, '81': 181, '82': 182, '83': 183, '84': 184, '85': 185, '86': 186, '87': 187, '88': 188, '89': 189, '90': 190, '91': 191, '92': 192, '93': 193, '94': 194, '95': 195, '96': 196, '97': 197, '98': 198, '99': 199}\n",
      "{0: '0', 1: '1', 2: '2', 3: '3', 4: '4', 5: '5', 6: '6', 7: '7', 8: '8', 9: '9', 10: '10', 11: '11', 12: '12', 13: '13', 14: '14', 15: '15', 16: '16', 17: '17', 18: '18', 19: '19', 20: '20', 21: '21', 22: '22', 23: '23', 24: '24', 25: '25', 26: '26', 27: '27', 28: '28', 29: '29', 30: '30', 31: '31', 32: '32', 33: '33', 34: '34', 35: '35', 36: '36', 37: '37', 38: '38', 39: '39', 40: '40', 41: '41', 42: '42', 43: '43', 44: '44', 45: '45', 46: '46', 47: '47', 48: '48', 49: '49', 50: '50', 51: '51', 52: '52', 53: '53', 54: '54', 55: '55', 56: '56', 57: '57', 58: '58', 59: '59', 60: '60', 61: '61', 62: '62', 63: '63', 64: '64', 65: '65', 66: '66', 67: '67', 68: '68', 69: '69', 70: '70', 71: '71', 72: '72', 73: '73', 74: '74', 75: '75', 76: '76', 77: '77', 78: '78', 79: '79', 80: '80', 81: '81', 82: '82', 83: '83', 84: '84', 85: '85', 86: '86', 87: '87', 88: '88', 89: '89', 90: '90', 91: '91', 92: '92', 93: '93', 94: '94', 95: '95', 96: '96', 97: '97', 98: '98', 99: '99'}\n",
      "{100: '0', 101: '1', 102: '2', 103: '3', 104: '4', 105: '5', 106: '6', 107: '7', 108: '8', 109: '9', 110: '10', 111: '11', 112: '12', 113: '13', 114: '14', 115: '15', 116: '16', 117: '17', 118: '18', 119: '19', 120: '20', 121: '21', 122: '22', 123: '23', 124: '24', 125: '25', 126: '26', 127: '27', 128: '28', 129: '29', 130: '30', 131: '31', 132: '32', 133: '33', 134: '34', 135: '35', 136: '36', 137: '37', 138: '38', 139: '39', 140: '40', 141: '41', 142: '42', 143: '43', 144: '44', 145: '45', 146: '46', 147: '47', 148: '48', 149: '49', 150: '50', 151: '51', 152: '52', 153: '53', 154: '54', 155: '55', 156: '56', 157: '57', 158: '58', 159: '59', 160: '60', 161: '61', 162: '62', 163: '63', 164: '64', 165: '65', 166: '66', 167: '67', 168: '68', 169: '69', 170: '70', 171: '71', 172: '72', 173: '73', 174: '74', 175: '75', 176: '76', 177: '77', 178: '78', 179: '79', 180: '80', 181: '81', 182: '82', 183: '83', 184: '84', 185: '85', 186: '86', 187: '87', 188: '88', 189: '89', 190: '90', 191: '91', 192: '92', 193: '93', 194: '94', 195: '95', 196: '96', 197: '97', 198: '98', 199: '99'}\n",
      "{'0': 0, '1': 1, '2': 2, '3': 3, '4': 4, '5': 5, '6': 6, '7': 7, '8': 8, '9': 9, '10': 10, '11': 11, '12': 12, '13': 13, '14': 14, '15': 15, '16': 16, '17': 17, '18': 18, '19': 19, '20': 20, '21': 21, '22': 22, '23': 23, '24': 24, '25': 25, '26': 26, '27': 27, '28': 28, '29': 29, '30': 30, '31': 31, '32': 32, '33': 33, '34': 34, '35': 35, '36': 36, '37': 37, '38': 38, '39': 39, '40': 40, '41': 41, '42': 42, '43': 43, '44': 44, '45': 45, '46': 46, '47': 47, '48': 48, '49': 49, '50': 50, '51': 51, '52': 52, '53': 53, '54': 54, '55': 55, '56': 56, '57': 57, '58': 58, '59': 59, '60': 60, '61': 61, '62': 62, '63': 63, '64': 64, '65': 65, '66': 66, '67': 67, '68': 68, '69': 69, '70': 70, '71': 71, '72': 72, '73': 73, '74': 74, '75': 75, '76': 76, '77': 77, '78': 78, '79': 79, '80': 80, '81': 81, '82': 82, '83': 83, '84': 84, '85': 85, '86': 86, '87': 87, '88': 88, '89': 89, '90': 90, '91': 91, '92': 92, '93': 93, '94': 94, '95': 95, '96': 96, '97': 97, '98': 98, '99': 99}\n",
      "{'0': 100, '1': 101, '2': 102, '3': 103, '4': 104, '5': 105, '6': 106, '7': 107, '8': 108, '9': 109, '10': 110, '11': 111, '12': 112, '13': 113, '14': 114, '15': 115, '16': 116, '17': 117, '18': 118, '19': 119, '20': 120, '21': 121, '22': 122, '23': 123, '24': 124, '25': 125, '26': 126, '27': 127, '28': 128, '29': 129, '30': 130, '31': 131, '32': 132, '33': 133, '34': 134, '35': 135, '36': 136, '37': 137, '38': 138, '39': 139, '40': 140, '41': 141, '42': 142, '43': 143, '44': 144, '45': 145, '46': 146, '47': 147, '48': 148, '49': 149, '50': 150, '51': 151, '52': 152, '53': 153, '54': 154, '55': 155, '56': 156, '57': 157, '58': 158, '59': 159, '60': 160, '61': 161, '62': 162, '63': 163, '64': 164, '65': 165, '66': 166, '67': 167, '68': 168, '69': 169, '70': 170, '71': 171, '72': 172, '73': 173, '74': 174, '75': 175, '76': 176, '77': 177, '78': 178, '79': 179, '80': 180, '81': 181, '82': 182, '83': 183, '84': 184, '85': 185, '86': 186, '87': 187, '88': 188, '89': 189, '90': 190, '91': 191, '92': 192, '93': 193, '94': 194, '95': 195, '96': 196, '97': 197, '98': 198, '99': 199}\n",
      "{0: '0', 1: '1', 2: '2', 3: '3', 4: '4', 5: '5', 6: '6', 7: '7', 8: '8', 9: '9', 10: '10', 11: '11', 12: '12', 13: '13', 14: '14', 15: '15', 16: '16', 17: '17', 18: '18', 19: '19', 20: '20', 21: '21', 22: '22', 23: '23', 24: '24', 25: '25', 26: '26', 27: '27', 28: '28', 29: '29', 30: '30', 31: '31', 32: '32', 33: '33', 34: '34', 35: '35', 36: '36', 37: '37', 38: '38', 39: '39', 40: '40', 41: '41', 42: '42', 43: '43', 44: '44', 45: '45', 46: '46', 47: '47', 48: '48', 49: '49', 50: '50', 51: '51', 52: '52', 53: '53', 54: '54', 55: '55', 56: '56', 57: '57', 58: '58', 59: '59', 60: '60', 61: '61', 62: '62', 63: '63', 64: '64', 65: '65', 66: '66', 67: '67', 68: '68', 69: '69', 70: '70', 71: '71', 72: '72', 73: '73', 74: '74', 75: '75', 76: '76', 77: '77', 78: '78', 79: '79', 80: '80', 81: '81', 82: '82', 83: '83', 84: '84', 85: '85', 86: '86', 87: '87', 88: '88', 89: '89', 90: '90', 91: '91', 92: '92', 93: '93', 94: '94', 95: '95', 96: '96', 97: '97', 98: '98', 99: '99'}\n",
      "{100: '0', 101: '1', 102: '2', 103: '3', 104: '4', 105: '5', 106: '6', 107: '7', 108: '8', 109: '9', 110: '10', 111: '11', 112: '12', 113: '13', 114: '14', 115: '15', 116: '16', 117: '17', 118: '18', 119: '19', 120: '20', 121: '21', 122: '22', 123: '23', 124: '24', 125: '25', 126: '26', 127: '27', 128: '28', 129: '29', 130: '30', 131: '31', 132: '32', 133: '33', 134: '34', 135: '35', 136: '36', 137: '37', 138: '38', 139: '39', 140: '40', 141: '41', 142: '42', 143: '43', 144: '44', 145: '45', 146: '46', 147: '47', 148: '48', 149: '49', 150: '50', 151: '51', 152: '52', 153: '53', 154: '54', 155: '55', 156: '56', 157: '57', 158: '58', 159: '59', 160: '60', 161: '61', 162: '62', 163: '63', 164: '64', 165: '65', 166: '66', 167: '67', 168: '68', 169: '69', 170: '70', 171: '71', 172: '72', 173: '73', 174: '74', 175: '75', 176: '76', 177: '77', 178: '78', 179: '79', 180: '80', 181: '81', 182: '82', 183: '83', 184: '84', 185: '85', 186: '86', 187: '87', 188: '88', 189: '89', 190: '90', 191: '91', 192: '92', 193: '93', 194: '94', 195: '95', 196: '96', 197: '97', 198: '98', 199: '99'}\n",
      "{'0': 0, '1': 1, '2': 2, '3': 3, '4': 4, '5': 5, '6': 6, '7': 7, '8': 8, '9': 9, '10': 10, '11': 11, '12': 12, '13': 13, '14': 14, '15': 15, '16': 16, '17': 17, '18': 18, '19': 19, '20': 20, '21': 21, '22': 22, '23': 23, '24': 24, '25': 25, '26': 26, '27': 27, '28': 28, '29': 29, '30': 30, '31': 31, '32': 32, '33': 33, '34': 34, '35': 35, '36': 36, '37': 37, '38': 38, '39': 39, '40': 40, '41': 41, '42': 42, '43': 43, '44': 44, '45': 45, '46': 46, '47': 47, '48': 48, '49': 49, '50': 50, '51': 51, '52': 52, '53': 53, '54': 54, '55': 55, '56': 56, '57': 57, '58': 58, '59': 59, '60': 60, '61': 61, '62': 62, '63': 63, '64': 64, '65': 65, '66': 66, '67': 67, '68': 68, '69': 69, '70': 70, '71': 71, '72': 72, '73': 73, '74': 74, '75': 75, '76': 76, '77': 77, '78': 78, '79': 79, '80': 80, '81': 81, '82': 82, '83': 83, '84': 84, '85': 85, '86': 86, '87': 87, '88': 88, '89': 89, '90': 90, '91': 91, '92': 92, '93': 93, '94': 94, '95': 95, '96': 96, '97': 97, '98': 98, '99': 99}\n",
      "{'0': 100, '1': 101, '2': 102, '3': 103, '4': 104, '5': 105, '6': 106, '7': 107, '8': 108, '9': 109, '10': 110, '11': 111, '12': 112, '13': 113, '14': 114, '15': 115, '16': 116, '17': 117, '18': 118, '19': 119, '20': 120, '21': 121, '22': 122, '23': 123, '24': 124, '25': 125, '26': 126, '27': 127, '28': 128, '29': 129, '30': 130, '31': 131, '32': 132, '33': 133, '34': 134, '35': 135, '36': 136, '37': 137, '38': 138, '39': 139, '40': 140, '41': 141, '42': 142, '43': 143, '44': 144, '45': 145, '46': 146, '47': 147, '48': 148, '49': 149, '50': 150, '51': 151, '52': 152, '53': 153, '54': 154, '55': 155, '56': 156, '57': 157, '58': 158, '59': 159, '60': 160, '61': 161, '62': 162, '63': 163, '64': 164, '65': 165, '66': 166, '67': 167, '68': 168, '69': 169, '70': 170, '71': 171, '72': 172, '73': 173, '74': 174, '75': 175, '76': 176, '77': 177, '78': 178, '79': 179, '80': 180, '81': 181, '82': 182, '83': 183, '84': 184, '85': 185, '86': 186, '87': 187, '88': 188, '89': 189, '90': 190, '91': 191, '92': 192, '93': 193, '94': 194, '95': 195, '96': 196, '97': 197, '98': 198, '99': 199}\n",
      "{0: '0', 1: '1', 2: '2', 3: '3', 4: '4', 5: '5', 6: '6', 7: '7', 8: '8', 9: '9', 10: '10', 11: '11', 12: '12', 13: '13', 14: '14', 15: '15', 16: '16', 17: '17', 18: '18', 19: '19', 20: '20', 21: '21', 22: '22', 23: '23', 24: '24', 25: '25', 26: '26', 27: '27', 28: '28', 29: '29', 30: '30', 31: '31', 32: '32', 33: '33', 34: '34', 35: '35', 36: '36', 37: '37', 38: '38', 39: '39', 40: '40', 41: '41', 42: '42', 43: '43', 44: '44', 45: '45', 46: '46', 47: '47', 48: '48', 49: '49', 50: '50', 51: '51', 52: '52', 53: '53', 54: '54', 55: '55', 56: '56', 57: '57', 58: '58', 59: '59', 60: '60', 61: '61', 62: '62', 63: '63', 64: '64', 65: '65', 66: '66', 67: '67', 68: '68', 69: '69', 70: '70', 71: '71', 72: '72', 73: '73', 74: '74', 75: '75', 76: '76', 77: '77', 78: '78', 79: '79', 80: '80', 81: '81', 82: '82', 83: '83', 84: '84', 85: '85', 86: '86', 87: '87', 88: '88', 89: '89', 90: '90', 91: '91', 92: '92', 93: '93', 94: '94', 95: '95', 96: '96', 97: '97', 98: '98', 99: '99'}\n",
      "{100: '0', 101: '1', 102: '2', 103: '3', 104: '4', 105: '5', 106: '6', 107: '7', 108: '8', 109: '9', 110: '10', 111: '11', 112: '12', 113: '13', 114: '14', 115: '15', 116: '16', 117: '17', 118: '18', 119: '19', 120: '20', 121: '21', 122: '22', 123: '23', 124: '24', 125: '25', 126: '26', 127: '27', 128: '28', 129: '29', 130: '30', 131: '31', 132: '32', 133: '33', 134: '34', 135: '35', 136: '36', 137: '37', 138: '38', 139: '39', 140: '40', 141: '41', 142: '42', 143: '43', 144: '44', 145: '45', 146: '46', 147: '47', 148: '48', 149: '49', 150: '50', 151: '51', 152: '52', 153: '53', 154: '54', 155: '55', 156: '56', 157: '57', 158: '58', 159: '59', 160: '60', 161: '61', 162: '62', 163: '63', 164: '64', 165: '65', 166: '66', 167: '67', 168: '68', 169: '69', 170: '70', 171: '71', 172: '72', 173: '73', 174: '74', 175: '75', 176: '76', 177: '77', 178: '78', 179: '79', 180: '80', 181: '81', 182: '82', 183: '83', 184: '84', 185: '85', 186: '86', 187: '87', 188: '88', 189: '89', 190: '90', 191: '91', 192: '92', 193: '93', 194: '94', 195: '95', 196: '96', 197: '97', 198: '98', 199: '99'}\n"
     ]
    },
    {
     "data": {
      "image/png": "[encoded data removed]",
      "text/plain": [
       "<Figure size 1000x600 with 1 Axes>"
      ]
     },
     "metadata": {},
     "output_type": "display_data"
    },
    {
     "name": "stdout",
     "output_type": "stream",
     "text": [
      "CPU times: user 262 ms, sys: 8.05 ms, total: 270 ms\n",
      "Wall time: 309 ms\n"
     ]
    }
   ],
   "source": [
    "%%time\n",
    "GPSNM.evaluate_auc_roc(methods_prediction_data = methods_prediction_data, proportional = False)"
   ]
  },
  {
   "cell_type": "markdown",
   "id": "93b72120-4578-4d5c-a408-a24ee78bf6cb",
   "metadata": {
    "id": "93b72120-4578-4d5c-a408-a24ee78bf6cb"
   },
   "source": [
    "# Entity Clustering\n",
    "\n",
    "It takes as input the similarity graph produced by Entity Matching and partitions it into a set of equivalence clusters, with every cluster corresponding to a distinct real-world object."
   ]
  },
  {
   "cell_type": "code",
   "execution_count": null,
   "id": "500d2ef7-7017-4dba-bbea-acdba8abf5b7",
   "metadata": {
    "id": "500d2ef7-7017-4dba-bbea-acdba8abf5b7"
   },
   "outputs": [],
   "source": [
    "from pyjedai.clustering import ConnectedComponentsClustering, UniqueMappingClustering"
   ]
  },
  {
   "cell_type": "code",
   "execution_count": null,
   "id": "aebd9329-3a4b-48c9-bd05-c7bd4aed3ca9",
   "metadata": {
    "id": "aebd9329-3a4b-48c9-bd05-c7bd4aed3ca9"
   },
   "outputs": [],
   "source": [
    "ccc = ConnectedComponentsClustering()\n",
    "clusters = ccc.process(pairs_graph, data)"
   ]
  },
  {
   "cell_type": "code",
   "execution_count": null,
   "id": "00bc2e82-9bc1-4119-b8cb-4a1c18afee19",
   "metadata": {
    "id": "00bc2e82-9bc1-4119-b8cb-4a1c18afee19",
    "outputId": "bdfc8426-bafa-4df5-da8e-0a36e6d4551f"
   },
   "outputs": [],
   "source": [
    "ccc.evaluate(clusters, with_classification_report=True)"
   ]
  },
  {
   "cell_type": "code",
   "execution_count": null,
   "id": "6f8efe1d-b981-4fba-b5cf-2b28fb189ee2",
   "metadata": {
    "id": "6f8efe1d-b981-4fba-b5cf-2b28fb189ee2"
   },
   "outputs": [],
   "source": [
    "from pyjedai.clustering import ConnectedComponentsClustering, UniqueMappingClustering\n",
    "umc = UniqueMappingClustering()\n",
    "clusters = umc.process(pairs_graph, data)"
   ]
  },
  {
   "cell_type": "code",
   "execution_count": null,
   "id": "57bf85f5-296c-4f26-b760-d29da4adbba6",
   "metadata": {
    "id": "57bf85f5-296c-4f26-b760-d29da4adbba6",
    "outputId": "a960068c-a086-4364-86f1-57db903d758d"
   },
   "outputs": [],
   "source": [
    "umc.evaluate(clusters, with_classification_report=True)"
   ]
  }
 ],
 "metadata": {
  "colab": {
   "provenance": []
  },
  "kernelspec": {
   "display_name": "Python 3 (ipykernel)",
   "language": "python",
   "name": "python3"
  },
  "language_info": {
   "codemirror_mode": {
    "name": "ipython",
    "version": 3
   },
   "file_extension": ".py",
   "mimetype": "text/x-python",
   "name": "python",
   "nbconvert_exporter": "python",
   "pygments_lexer": "ipython3",
   "version": "3.10.9"
  },
  "vscode": {
   "interpreter": {
    "hash": "916dbcbb3f70747c44a77c7bcd40155683ae19c65e1c03b4aa3499c5328201f1"
   }
  }
 },
 "nbformat": 4,
 "nbformat_minor": 5
}
