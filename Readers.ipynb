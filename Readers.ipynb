{
 "cells": [
  {
   "cell_type": "markdown",
   "id": "812c32ec-a4c7-4e62-b185-ef729d8e909f",
   "metadata": {},
   "source": [
    "# pyJedAI Data Reading examples\n",
    "\n",
    "pyJedAI needs as input a pandas.DataFrame. In this notebook we provide some examples of data reading and transformation to DataFrame."
   ]
  },
  {
   "cell_type": "code",
   "execution_count": 1,
   "id": "86fd9820-c878-415f-a33c-735c22991f99",
   "metadata": {},
   "outputs": [],
   "source": [
    "import pandas as pd"
   ]
  },
  {
   "cell_type": "markdown",
   "id": "b7ceb258-c9f5-4b10-a631-3bb6cebcbf06",
   "metadata": {
    "jp-MarkdownHeadingCollapsed": true,
    "tags": []
   },
   "source": [
    "# CSV Reader\n",
    "\n",
    "Dataset example: CORA"
   ]
  },
  {
   "cell_type": "code",
   "execution_count": 2,
   "id": "46ecf65d-6dd0-4c90-aafd-944155d4ec06",
   "metadata": {},
   "outputs": [],
   "source": [
    "d1 = pd.read_csv(\"./data/cora/cora.csv\", sep='|')\n",
    "gt = pd.read_csv(\"./data/cora/cora_gt.csv\", sep='|', header=None)"
   ]
  },
  {
   "cell_type": "code",
   "execution_count": null,
   "id": "068b9de0-4847-464c-8d9d-ebeaedc51c1c",
   "metadata": {},
   "outputs": [
    {
     "data": {
      "text/html": [
       "<div>\n",
       "<style scoped>\n",
       "    .dataframe tbody tr th:only-of-type {\n",
       "        vertical-align: middle;\n",
       "    }\n",
       "\n",
       "    .dataframe tbody tr th {\n",
       "        vertical-align: top;\n",
       "    }\n",
       "\n",
       "    .dataframe thead th {\n",
       "        text-align: right;\n",
       "    }\n",
       "</style>\n",
       "<table border=\"1\" class=\"dataframe\">\n",
       "  <thead>\n",
       "    <tr style=\"text-align: right;\">\n",
       "      <th></th>\n",
       "      <th>Entity Id</th>\n",
       "      <th>address</th>\n",
       "      <th>author</th>\n",
       "      <th>editor</th>\n",
       "      <th>institution</th>\n",
       "      <th>month</th>\n",
       "      <th>note</th>\n",
       "      <th>pages</th>\n",
       "      <th>publisher</th>\n",
       "      <th>title</th>\n",
       "      <th>venue</th>\n",
       "      <th>volume</th>\n",
       "      <th>year</th>\n",
       "      <th>Unnamed: 13</th>\n",
       "    </tr>\n",
       "  </thead>\n",
       "  <tbody>\n",
       "    <tr>\n",
       "      <th>0</th>\n",
       "      <td>0</td>\n",
       "      <td>los alamitos, ca:</td>\n",
       "      <td>p. auer, n. cesa-bianchi, y. freund, and r. e....</td>\n",
       "      <td>NaN</td>\n",
       "      <td>NaN</td>\n",
       "      <td>NaN</td>\n",
       "      <td>NaN</td>\n",
       "      <td>pp. 322-331.</td>\n",
       "      <td>ieee computer society press,</td>\n",
       "      <td>'gambling in a rigged casino: the adversarial ...</td>\n",
       "      <td>in proc. 36th annual symposium on foundations ...</td>\n",
       "      <td>NaN</td>\n",
       "      <td>1995,</td>\n",
       "      <td>NaN</td>\n",
       "    </tr>\n",
       "    <tr>\n",
       "      <th>1</th>\n",
       "      <td>1</td>\n",
       "      <td>NaN</td>\n",
       "      <td>a. blum, m. furst, m. j. kearns, and richard j...</td>\n",
       "      <td>NaN</td>\n",
       "      <td>NaN</td>\n",
       "      <td>NaN</td>\n",
       "      <td>NaN</td>\n",
       "      <td>pages 24.1-24.10,</td>\n",
       "      <td>NaN</td>\n",
       "      <td>cryptographic primitives based on hard learnin...</td>\n",
       "      <td>in pre-proceedings of crypto '93,</td>\n",
       "      <td>NaN</td>\n",
       "      <td>1993.</td>\n",
       "      <td>NaN</td>\n",
       "    </tr>\n",
       "    <tr>\n",
       "      <th>2</th>\n",
       "      <td>2</td>\n",
       "      <td>NaN</td>\n",
       "      <td>avrim blum, merrick furst, michael kearns, and...</td>\n",
       "      <td>NaN</td>\n",
       "      <td>NaN</td>\n",
       "      <td>NaN</td>\n",
       "      <td>NaN</td>\n",
       "      <td>pages 24.1-24.10,</td>\n",
       "      <td>NaN</td>\n",
       "      <td>cryptographic primitives based on hard learnin...</td>\n",
       "      <td>in pre-proceedings of crypto '93,</td>\n",
       "      <td>NaN</td>\n",
       "      <td>1993.</td>\n",
       "      <td>NaN</td>\n",
       "    </tr>\n",
       "  </tbody>\n",
       "</table>\n",
       "</div>"
      ],
      "text/plain": [
       "   Entity Id            address  \\\n",
       "0          0  los alamitos, ca:   \n",
       "1          1                NaN   \n",
       "2          2                NaN   \n",
       "\n",
       "                                              author editor institution month  \\\n",
       "0  p. auer, n. cesa-bianchi, y. freund, and r. e....    NaN         NaN   NaN   \n",
       "1  a. blum, m. furst, m. j. kearns, and richard j...    NaN         NaN   NaN   \n",
       "2  avrim blum, merrick furst, michael kearns, and...    NaN         NaN   NaN   \n",
       "\n",
       "  note              pages                     publisher  \\\n",
       "0  NaN       pp. 322-331.  ieee computer society press,   \n",
       "1  NaN  pages 24.1-24.10,                           NaN   \n",
       "2  NaN  pages 24.1-24.10,                           NaN   \n",
       "\n",
       "                                               title  \\\n",
       "0  'gambling in a rigged casino: the adversarial ...   \n",
       "1  cryptographic primitives based on hard learnin...   \n",
       "2  cryptographic primitives based on hard learnin...   \n",
       "\n",
       "                                               venue volume   year  \\\n",
       "0  in proc. 36th annual symposium on foundations ...    NaN  1995,   \n",
       "1                  in pre-proceedings of crypto '93,    NaN  1993.   \n",
       "2                  in pre-proceedings of crypto '93,    NaN  1993.   \n",
       "\n",
       "   Unnamed: 13  \n",
       "0          NaN  \n",
       "1          NaN  \n",
       "2          NaN  "
      ]
     },
     "execution_count": 5,
     "metadata": {},
     "output_type": "execute_result"
    }
   ],
   "source": [
    "d1.head(1)"
   ]
  },
  {
   "cell_type": "markdown",
   "id": "21f538d8-c6be-4ac5-b8f2-e6af10e9708c",
   "metadata": {
    "jp-MarkdownHeadingCollapsed": true,
    "tags": []
   },
   "source": [
    "# JSON Reader"
   ]
  },
  {
   "cell_type": "code",
   "execution_count": 14,
   "id": "9b686608-b220-43ac-acf1-f3eb5046935e",
   "metadata": {},
   "outputs": [],
   "source": [
    "d1 = pd.read_json(\"./data/cora/cora.json\")\n",
    "gt = pd.read_json(\"./data/cora/cora_gt.json\")"
   ]
  },
  {
   "cell_type": "code",
   "execution_count": 15,
   "id": "7c19d6c0-6dcc-4dc8-8a22-1e1a9bbfeb7d",
   "metadata": {},
   "outputs": [
    {
     "data": {
      "text/html": [
       "<div>\n",
       "<style scoped>\n",
       "    .dataframe tbody tr th:only-of-type {\n",
       "        vertical-align: middle;\n",
       "    }\n",
       "\n",
       "    .dataframe tbody tr th {\n",
       "        vertical-align: top;\n",
       "    }\n",
       "\n",
       "    .dataframe thead th {\n",
       "        text-align: right;\n",
       "    }\n",
       "</style>\n",
       "<table border=\"1\" class=\"dataframe\">\n",
       "  <thead>\n",
       "    <tr style=\"text-align: right;\">\n",
       "      <th></th>\n",
       "      <th>Entity Id</th>\n",
       "      <th>address</th>\n",
       "      <th>author</th>\n",
       "      <th>editor</th>\n",
       "      <th>institution</th>\n",
       "      <th>month</th>\n",
       "      <th>note</th>\n",
       "      <th>pages</th>\n",
       "      <th>publisher</th>\n",
       "      <th>title</th>\n",
       "      <th>venue</th>\n",
       "      <th>volume</th>\n",
       "      <th>year</th>\n",
       "      <th>Unnamed: 13</th>\n",
       "    </tr>\n",
       "  </thead>\n",
       "  <tbody>\n",
       "    <tr>\n",
       "      <th>0</th>\n",
       "      <td>0</td>\n",
       "      <td>los alamitos, ca:</td>\n",
       "      <td>p. auer, n. cesa-bianchi, y. freund, and r. e....</td>\n",
       "      <td>None</td>\n",
       "      <td>None</td>\n",
       "      <td>None</td>\n",
       "      <td>None</td>\n",
       "      <td>pp. 322-331.</td>\n",
       "      <td>ieee computer society press,</td>\n",
       "      <td>'gambling in a rigged casino: the adversarial ...</td>\n",
       "      <td>in proc. 36th annual symposium on foundations ...</td>\n",
       "      <td>None</td>\n",
       "      <td>1995,</td>\n",
       "      <td>NaN</td>\n",
       "    </tr>\n",
       "    <tr>\n",
       "      <th>1</th>\n",
       "      <td>1</td>\n",
       "      <td>None</td>\n",
       "      <td>a. blum, m. furst, m. j. kearns, and richard j...</td>\n",
       "      <td>None</td>\n",
       "      <td>None</td>\n",
       "      <td>None</td>\n",
       "      <td>None</td>\n",
       "      <td>pages 24.1-24.10,</td>\n",
       "      <td>None</td>\n",
       "      <td>cryptographic primitives based on hard learnin...</td>\n",
       "      <td>in pre-proceedings of crypto '93,</td>\n",
       "      <td>None</td>\n",
       "      <td>1993.</td>\n",
       "      <td>NaN</td>\n",
       "    </tr>\n",
       "    <tr>\n",
       "      <th>2</th>\n",
       "      <td>2</td>\n",
       "      <td>None</td>\n",
       "      <td>avrim blum, merrick furst, michael kearns, and...</td>\n",
       "      <td>None</td>\n",
       "      <td>None</td>\n",
       "      <td>None</td>\n",
       "      <td>None</td>\n",
       "      <td>pages 24.1-24.10,</td>\n",
       "      <td>None</td>\n",
       "      <td>cryptographic primitives based on hard learnin...</td>\n",
       "      <td>in pre-proceedings of crypto '93,</td>\n",
       "      <td>None</td>\n",
       "      <td>1993.</td>\n",
       "      <td>NaN</td>\n",
       "    </tr>\n",
       "  </tbody>\n",
       "</table>\n",
       "</div>"
      ],
      "text/plain": [
       "   Entity Id            address  \\\n",
       "0          0  los alamitos, ca:   \n",
       "1          1               None   \n",
       "2          2               None   \n",
       "\n",
       "                                              author editor institution month  \\\n",
       "0  p. auer, n. cesa-bianchi, y. freund, and r. e....   None        None  None   \n",
       "1  a. blum, m. furst, m. j. kearns, and richard j...   None        None  None   \n",
       "2  avrim blum, merrick furst, michael kearns, and...   None        None  None   \n",
       "\n",
       "   note              pages                     publisher  \\\n",
       "0  None       pp. 322-331.  ieee computer society press,   \n",
       "1  None  pages 24.1-24.10,                          None   \n",
       "2  None  pages 24.1-24.10,                          None   \n",
       "\n",
       "                                               title  \\\n",
       "0  'gambling in a rigged casino: the adversarial ...   \n",
       "1  cryptographic primitives based on hard learnin...   \n",
       "2  cryptographic primitives based on hard learnin...   \n",
       "\n",
       "                                               venue volume   year  \\\n",
       "0  in proc. 36th annual symposium on foundations ...   None  1995,   \n",
       "1                  in pre-proceedings of crypto '93,   None  1993.   \n",
       "2                  in pre-proceedings of crypto '93,   None  1993.   \n",
       "\n",
       "   Unnamed: 13  \n",
       "0          NaN  \n",
       "1          NaN  \n",
       "2          NaN  "
      ]
     },
     "execution_count": 15,
     "metadata": {},
     "output_type": "execute_result"
    }
   ],
   "source": [
    "d1.head(1)"
   ]
  },
  {
   "cell_type": "markdown",
   "id": "5b0e88a7-da53-402d-9033-9409508c4657",
   "metadata": {
    "jp-MarkdownHeadingCollapsed": true,
    "tags": []
   },
   "source": [
    "# Excel Reader"
   ]
  },
  {
   "cell_type": "code",
   "execution_count": 7,
   "id": "ee000ec0-e6d1-470b-9bd2-63849ac7526d",
   "metadata": {},
   "outputs": [],
   "source": [
    "d1 = pd.read_excel(\"./data/cora/cora.xlsx\")\n",
    "gt = pd.read_excel(\"./data/cora/cora_gt.xlsx\")"
   ]
  },
  {
   "cell_type": "code",
   "execution_count": 8,
   "id": "fccdc4f6-1a6a-410c-bcac-1c48909633ea",
   "metadata": {},
   "outputs": [
    {
     "data": {
      "text/html": [
       "<div>\n",
       "<style scoped>\n",
       "    .dataframe tbody tr th:only-of-type {\n",
       "        vertical-align: middle;\n",
       "    }\n",
       "\n",
       "    .dataframe tbody tr th {\n",
       "        vertical-align: top;\n",
       "    }\n",
       "\n",
       "    .dataframe thead th {\n",
       "        text-align: right;\n",
       "    }\n",
       "</style>\n",
       "<table border=\"1\" class=\"dataframe\">\n",
       "  <thead>\n",
       "    <tr style=\"text-align: right;\">\n",
       "      <th></th>\n",
       "      <th>Unnamed: 0</th>\n",
       "      <th>Entity Id</th>\n",
       "      <th>address</th>\n",
       "      <th>author</th>\n",
       "      <th>editor</th>\n",
       "      <th>institution</th>\n",
       "      <th>month</th>\n",
       "      <th>note</th>\n",
       "      <th>pages</th>\n",
       "      <th>publisher</th>\n",
       "      <th>title</th>\n",
       "      <th>venue</th>\n",
       "      <th>volume</th>\n",
       "      <th>year</th>\n",
       "      <th>Unnamed: 13</th>\n",
       "    </tr>\n",
       "  </thead>\n",
       "  <tbody>\n",
       "    <tr>\n",
       "      <th>0</th>\n",
       "      <td>0</td>\n",
       "      <td>0</td>\n",
       "      <td>los alamitos, ca:</td>\n",
       "      <td>p. auer, n. cesa-bianchi, y. freund, and r. e....</td>\n",
       "      <td>NaN</td>\n",
       "      <td>NaN</td>\n",
       "      <td>NaN</td>\n",
       "      <td>NaN</td>\n",
       "      <td>pp. 322-331.</td>\n",
       "      <td>ieee computer society press,</td>\n",
       "      <td>'gambling in a rigged casino: the adversarial ...</td>\n",
       "      <td>in proc. 36th annual symposium on foundations ...</td>\n",
       "      <td>NaN</td>\n",
       "      <td>1995,</td>\n",
       "      <td>NaN</td>\n",
       "    </tr>\n",
       "  </tbody>\n",
       "</table>\n",
       "</div>"
      ],
      "text/plain": [
       "   Unnamed: 0  Entity Id            address  \\\n",
       "0           0          0  los alamitos, ca:   \n",
       "\n",
       "                                              author editor institution month  \\\n",
       "0  p. auer, n. cesa-bianchi, y. freund, and r. e....    NaN         NaN   NaN   \n",
       "\n",
       "  note         pages                     publisher  \\\n",
       "0  NaN  pp. 322-331.  ieee computer society press,   \n",
       "\n",
       "                                               title  \\\n",
       "0  'gambling in a rigged casino: the adversarial ...   \n",
       "\n",
       "                                               venue volume   year  \\\n",
       "0  in proc. 36th annual symposium on foundations ...    NaN  1995,   \n",
       "\n",
       "   Unnamed: 13  \n",
       "0          NaN  "
      ]
     },
     "execution_count": 8,
     "metadata": {},
     "output_type": "execute_result"
    }
   ],
   "source": [
    "d1.head(1)"
   ]
  },
  {
   "cell_type": "markdown",
   "id": "b50e04fa-4985-41dd-a941-4fbd48aaacf5",
   "metadata": {
    "tags": []
   },
   "source": [
    "# RDF/OWL Reader"
   ]
  },
  {
   "cell_type": "code",
   "execution_count": null,
   "id": "f696607e-9c41-419b-8267-6ee2a5d93736",
   "metadata": {},
   "outputs": [],
   "source": [
    "import rdfpandas as rfd\n",
    "import pandas as pd\n",
    "import rdflib\n",
    "\n",
    "g1 = rdflib.Graph()\n",
    "g1.parse('d1.ttl', format = 'ttl')\n",
    "g_gt = rdflib.Graph()\n",
    "g_gt.parse('d1.ttl', format = 'ttl')\n",
    "\n",
    "d1 = rfd.graph.to_dataframe(g1)\n",
    "gt = rfd.graph.to_dataframe(g_gt)"
   ]
  },
  {
   "cell_type": "markdown",
   "id": "f6c904d6-2c48-40f1-8315-7f16f3a34997",
   "metadata": {
    "tags": []
   },
   "source": [
    "# Relational DBs Reader"
   ]
  },
  {
   "cell_type": "code",
   "execution_count": null,
   "id": "42a442a9-18fe-480c-a184-31a52583e630",
   "metadata": {},
   "outputs": [],
   "source": []
  },
  {
   "cell_type": "markdown",
   "id": "3baad4a6-5ceb-491a-8802-1df1bbb0853e",
   "metadata": {
    "tags": []
   },
   "source": [
    "# SPARKQL Reader"
   ]
  },
  {
   "cell_type": "code",
   "execution_count": null,
   "id": "1c4d82f6-35f5-4581-87be-533c63264bc7",
   "metadata": {},
   "outputs": [],
   "source": []
  }
 ],
 "metadata": {
  "kernelspec": {
   "display_name": "Python 3",
   "language": "python",
   "name": "python3"
  },
  "language_info": {
   "codemirror_mode": {
    "name": "ipython",
    "version": 3
   },
   "file_extension": ".py",
   "mimetype": "text/x-python",
   "name": "python",
   "nbconvert_exporter": "python",
   "pygments_lexer": "ipython3",
   "version": "3.10.5"
  }
 },
 "nbformat": 4,
 "nbformat_minor": 5
}
