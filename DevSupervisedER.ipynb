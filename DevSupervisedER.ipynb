{
 "cells": [
  {
   "cell_type": "markdown",
   "id": "30728426-53c7-4ba6-ba3b-5c6f38ddf2cf",
   "metadata": {},
   "source": [
    "<div align=\"center\"> \n",
    "    <hr>\n",
    "  <font size=\"6\"><b>Dev | Supervised with DL and pyTorch Embeddings ER Notebook</b> </font>\n",
    "   <hr>\n",
    "</div>"
   ]
  },
  {
   "cell_type": "code",
   "execution_count": 21,
   "id": "b5376258-f87b-4738-8ecd-6ab28584a4b0",
   "metadata": {},
   "outputs": [
    {
     "name": "stdout",
     "output_type": "stream",
     "text": [
      "The autoreload extension is already loaded. To reload it, use:\n",
      "  %reload_ext autoreload\n"
     ]
    }
   ],
   "source": [
    "import os\n",
    "import sys\n",
    "import pandas as pd\n",
    "import networkx\n",
    "from networkx import draw, Graph\n",
    "%load_ext autoreload\n",
    "%autoreload 2\n",
    "%reload_ext autoreload\n",
    "from pyjedai.utils import (\n",
    "    text_cleaning_method,\n",
    "    print_clusters,\n",
    "    print_blocks,\n",
    "    print_candidate_pairs\n",
    ")\n",
    "from pyjedai.evaluation import Evaluation, write\n",
    "from pyjedai.datamodel import Data\n",
    "d1 = pd.read_csv(\"./data/ccer/D2/abt.csv\", sep='|', engine='python', na_filter=False).astype(str)\n",
    "d2 = pd.read_csv(\"./data/ccer/D2/buy.csv\", sep='|', engine='python', na_filter=False).astype(str)\n",
    "gt = pd.read_csv(\"./data/ccer/D2/gt.csv\", sep='|', engine='python')\n",
    "\n",
    "data = Data(\n",
    "    dataset_1=d1,\n",
    "    id_column_name_1='id',\n",
    "    dataset_2=d2,\n",
    "    id_column_name_2='id',\n",
    "    ground_truth=gt,\n",
    ")"
   ]
  },
  {
   "cell_type": "code",
   "execution_count": 22,
   "id": "b0329939-dcac-4d9c-b265-9463fdb4ff3a",
   "metadata": {},
   "outputs": [
    {
     "data": {
      "text/html": [
       "<div>\n",
       "<style scoped>\n",
       "    .dataframe tbody tr th:only-of-type {\n",
       "        vertical-align: middle;\n",
       "    }\n",
       "\n",
       "    .dataframe tbody tr th {\n",
       "        vertical-align: top;\n",
       "    }\n",
       "\n",
       "    .dataframe thead th {\n",
       "        text-align: right;\n",
       "    }\n",
       "</style>\n",
       "<table border=\"1\" class=\"dataframe\">\n",
       "  <thead>\n",
       "    <tr style=\"text-align: right;\">\n",
       "      <th></th>\n",
       "      <th>id</th>\n",
       "      <th>name</th>\n",
       "      <th>description</th>\n",
       "      <th>price</th>\n",
       "    </tr>\n",
       "  </thead>\n",
       "  <tbody>\n",
       "    <tr>\n",
       "      <th>0</th>\n",
       "      <td>0</td>\n",
       "      <td>Sony Turntable - PSLX350H</td>\n",
       "      <td>Sony Turntable - PSLX350H/ Belt Drive System/ ...</td>\n",
       "      <td></td>\n",
       "    </tr>\n",
       "    <tr>\n",
       "      <th>1</th>\n",
       "      <td>1</td>\n",
       "      <td>Bose Acoustimass 5 Series III Speaker System -...</td>\n",
       "      <td>Bose Acoustimass 5 Series III Speaker System -...</td>\n",
       "      <td>399</td>\n",
       "    </tr>\n",
       "    <tr>\n",
       "      <th>2</th>\n",
       "      <td>2</td>\n",
       "      <td>Sony Switcher - SBV40S</td>\n",
       "      <td>Sony Switcher - SBV40S/ Eliminates Disconnecti...</td>\n",
       "      <td>49</td>\n",
       "    </tr>\n",
       "    <tr>\n",
       "      <th>3</th>\n",
       "      <td>3</td>\n",
       "      <td>Sony 5 Disc CD Player - CDPCE375</td>\n",
       "      <td>Sony 5 Disc CD Player- CDPCE375/ 5 Disc Change...</td>\n",
       "      <td></td>\n",
       "    </tr>\n",
       "    <tr>\n",
       "      <th>4</th>\n",
       "      <td>4</td>\n",
       "      <td>Bose 27028 161 Bookshelf Pair Speakers In Whit...</td>\n",
       "      <td>Bose 161 Bookshelf Speakers In White - 161WH/ ...</td>\n",
       "      <td>158</td>\n",
       "    </tr>\n",
       "    <tr>\n",
       "      <th>...</th>\n",
       "      <td>...</td>\n",
       "      <td>...</td>\n",
       "      <td>...</td>\n",
       "      <td>...</td>\n",
       "    </tr>\n",
       "    <tr>\n",
       "      <th>2147</th>\n",
       "      <td>1071</td>\n",
       "      <td>Sony VAIO FW378J/B Notebook - VGNFW378J/B</td>\n",
       "      <td>Intel Centrino 2 Core 2 Duo P8600 2.4GHz - 16....</td>\n",
       "      <td></td>\n",
       "    </tr>\n",
       "    <tr>\n",
       "      <th>2148</th>\n",
       "      <td>1072</td>\n",
       "      <td>Sennheiser CX380 Sennheiser CX 380 Sport II Gr...</td>\n",
       "      <td></td>\n",
       "      <td></td>\n",
       "    </tr>\n",
       "    <tr>\n",
       "      <th>2149</th>\n",
       "      <td>1073</td>\n",
       "      <td>IWORK 09 RETAIL-INT DVD - MB942Z/A</td>\n",
       "      <td></td>\n",
       "      <td></td>\n",
       "    </tr>\n",
       "    <tr>\n",
       "      <th>2150</th>\n",
       "      <td>1074</td>\n",
       "      <td>IWORK 09 FAMILY PACK-INT DVD - MB943Z/A</td>\n",
       "      <td></td>\n",
       "      <td></td>\n",
       "    </tr>\n",
       "    <tr>\n",
       "      <th>2151</th>\n",
       "      <td>1075</td>\n",
       "      <td>CASE MATE CARBON FIBER IPHONE 3G CASE BLACK - ...</td>\n",
       "      <td></td>\n",
       "      <td>28.08</td>\n",
       "    </tr>\n",
       "  </tbody>\n",
       "</table>\n",
       "<p>2152 rows × 4 columns</p>\n",
       "</div>"
      ],
      "text/plain": [
       "        id                                               name  \\\n",
       "0        0                          Sony Turntable - PSLX350H   \n",
       "1        1  Bose Acoustimass 5 Series III Speaker System -...   \n",
       "2        2                             Sony Switcher - SBV40S   \n",
       "3        3                   Sony 5 Disc CD Player - CDPCE375   \n",
       "4        4  Bose 27028 161 Bookshelf Pair Speakers In Whit...   \n",
       "...    ...                                                ...   \n",
       "2147  1071          Sony VAIO FW378J/B Notebook - VGNFW378J/B   \n",
       "2148  1072  Sennheiser CX380 Sennheiser CX 380 Sport II Gr...   \n",
       "2149  1073                 IWORK 09 RETAIL-INT DVD - MB942Z/A   \n",
       "2150  1074            IWORK 09 FAMILY PACK-INT DVD - MB943Z/A   \n",
       "2151  1075  CASE MATE CARBON FIBER IPHONE 3G CASE BLACK - ...   \n",
       "\n",
       "                                            description  price  \n",
       "0     Sony Turntable - PSLX350H/ Belt Drive System/ ...         \n",
       "1     Bose Acoustimass 5 Series III Speaker System -...    399  \n",
       "2     Sony Switcher - SBV40S/ Eliminates Disconnecti...     49  \n",
       "3     Sony 5 Disc CD Player- CDPCE375/ 5 Disc Change...         \n",
       "4     Bose 161 Bookshelf Speakers In White - 161WH/ ...    158  \n",
       "...                                                 ...    ...  \n",
       "2147  Intel Centrino 2 Core 2 Duo P8600 2.4GHz - 16....         \n",
       "2148                                                            \n",
       "2149                                                            \n",
       "2150                                                            \n",
       "2151                                                     28.08  \n",
       "\n",
       "[2152 rows x 4 columns]"
      ]
     },
     "execution_count": 22,
     "metadata": {},
     "output_type": "execute_result"
    }
   ],
   "source": [
    "data.entities"
   ]
  },
  {
   "cell_type": "markdown",
   "id": "ff026fd7-f760-4bda-8e61-e378f004b5af",
   "metadata": {},
   "source": [
    "# Block Building"
   ]
  },
  {
   "cell_type": "code",
   "execution_count": 23,
   "id": "c72dca95-52f9-4363-a431-a28f6306505b",
   "metadata": {},
   "outputs": [],
   "source": [
    "from pyjedai.block_building import (\n",
    "    StandardBlocking,\n",
    "    QGramsBlocking,\n",
    "    ExtendedQGramsBlocking,\n",
    "    SuffixArraysBlocking,\n",
    "    ExtendedSuffixArraysBlocking,\n",
    ")\n",
    "\n",
    "from pyjedai.vector_based_blocking import EmbeddingsNNBlockBuilding"
   ]
  },
  {
   "cell_type": "code",
   "execution_count": 24,
   "id": "a0bfebb5-8875-47e3-befb-dc5e4ab1ca06",
   "metadata": {},
   "outputs": [
    {
     "data": {
      "application/vnd.jupyter.widget-view+json": {
       "model_id": "650e07d227594228aaf17edfe83d3374",
       "version_major": 2,
       "version_minor": 0
      },
      "text/plain": [
       "Standard Blocking:   0%|          | 0/2152 [00:00<?, ?it/s]"
      ]
     },
     "metadata": {},
     "output_type": "display_data"
    }
   ],
   "source": [
    "qgb = StandardBlocking()\n",
    "blocks = qgb.build_blocks(data)"
   ]
  },
  {
   "cell_type": "code",
   "execution_count": 25,
   "id": "82ccadd6-4e13-4f50-a736-8b506e2f1893",
   "metadata": {},
   "outputs": [
    {
     "name": "stdout",
     "output_type": "stream",
     "text": [
      "Method name: Standard Blocking\n",
      "Method info: Creates one block for every token in the attribute values of at least two entities.\n",
      "Parameters: Parameter-Free method\n",
      "Attributes from D1:\n",
      "\tid, name, description, price\n",
      "Attributes from D2:\n",
      "\tid, name, description, price\n",
      "Runtime: 0.3812 seconds\n"
     ]
    }
   ],
   "source": [
    "qgb.report()"
   ]
  },
  {
   "cell_type": "code",
   "execution_count": 26,
   "id": "dee611cd-aea5-4d78-aaf7-5829a7e81906",
   "metadata": {},
   "outputs": [
    {
     "name": "stdout",
     "output_type": "stream",
     "text": [
      " Standard Blocking Evaluation \n",
      "---\n",
      "Method name: Standard Blocking\n",
      "Parameters: \n",
      "Runtime: 0.3812 seconds\n",
      "Scores:\n",
      "\tPrecision:      0.12% \n",
      "\tRecall:        99.81%\n",
      "\tF1-score:       0.24%\n",
      "---\n"
     ]
    }
   ],
   "source": [
    "e = Evaluation(data)\n",
    "e.report(blocks, qgb.method_configuration())"
   ]
  },
  {
   "cell_type": "markdown",
   "id": "2d233e5c-e849-4477-b277-8b590aa0a7cc",
   "metadata": {},
   "source": [
    "# Comparison Cleaning\n"
   ]
  },
  {
   "cell_type": "code",
   "execution_count": 27,
   "id": "3ab9af67-5f1f-456d-8106-4440e3dcc9fa",
   "metadata": {},
   "outputs": [],
   "source": [
    "from pyjedai.block_cleaning import BlockPurging"
   ]
  },
  {
   "cell_type": "code",
   "execution_count": 28,
   "id": "28fba20e-072f-47ff-9a6a-3d6401f1a883",
   "metadata": {},
   "outputs": [
    {
     "data": {
      "application/vnd.jupyter.widget-view+json": {
       "model_id": "b525e395eb164773b695e401fb8d4135",
       "version_major": 2,
       "version_minor": 0
      },
      "text/plain": [
       "Block Purging:   0%|          | 0/4264 [00:00<?, ?it/s]"
      ]
     },
     "metadata": {},
     "output_type": "display_data"
    }
   ],
   "source": [
    "cbbp = BlockPurging()\n",
    "cleaned_blocks = cbbp.process(blocks, data, tqdm_disable=False)"
   ]
  },
  {
   "cell_type": "code",
   "execution_count": 29,
   "id": "ae320628-0475-42c9-8d85-970a11567987",
   "metadata": {},
   "outputs": [
    {
     "name": "stdout",
     "output_type": "stream",
     "text": [
      "Method name: Block Purging\n",
      "Method info: Discards the blocks exceeding a certain number of comparisons.\n",
      "Parameters: \n",
      "\tSmoothing factor: 1.025\n",
      "\tMax Comparisons per Block: 13920.0\n",
      "Runtime: 0.0991 seconds\n"
     ]
    }
   ],
   "source": [
    "cbbp.report()"
   ]
  },
  {
   "cell_type": "code",
   "execution_count": 30,
   "id": "e51e9c21-0a97-4dfb-939f-96dfde0aada7",
   "metadata": {},
   "outputs": [
    {
     "name": "stdout",
     "output_type": "stream",
     "text": [
      " Block Purging Evaluation \n",
      "---\n",
      "Method name: Block Purging\n",
      "Parameters: \n",
      "\tSmoothing factor: 1.025\n",
      "\tMax Comparisons per Block: 13920.0\n",
      "Runtime: 0.0991 seconds\n",
      "Scores:\n",
      "\tPrecision:      0.12% \n",
      "\tRecall:        99.81%\n",
      "\tF1-score:       0.24%\n",
      "---\n"
     ]
    }
   ],
   "source": [
    "e = Evaluation(data)\n",
    "e.report(cleaned_blocks, cbbp.method_configuration())"
   ]
  },
  {
   "cell_type": "markdown",
   "id": "c589be69-3e67-44d1-969f-c090f6dff532",
   "metadata": {},
   "source": [
    "## Meta Blocking"
   ]
  },
  {
   "cell_type": "code",
   "execution_count": 31,
   "id": "5c961599-8115-40b9-afe9-3116c43bba79",
   "metadata": {},
   "outputs": [],
   "source": [
    "from pyjedai.comparison_cleaning import (\n",
    "    WeightedEdgePruning,\n",
    "    WeightedNodePruning,\n",
    "    CardinalityEdgePruning,\n",
    "    CardinalityNodePruning,\n",
    "    BLAST,\n",
    "    ReciprocalCardinalityNodePruning,\n",
    "    ReciprocalWeightedNodePruning,\n",
    "    ComparisonPropagation\n",
    ")"
   ]
  },
  {
   "cell_type": "code",
   "execution_count": 32,
   "id": "f4609837-7818-4daf-aa09-d1e4f7c97784",
   "metadata": {},
   "outputs": [],
   "source": [
    "wep = CardinalityEdgePruning(weighting_scheme='X2')\n",
    "candidate_pairs_blocks = wep.process(cleaned_blocks, data, tqdm_disable=True)"
   ]
  },
  {
   "cell_type": "code",
   "execution_count": 33,
   "id": "81c84e00-f8ff-43cd-a558-675c87c0f9cd",
   "metadata": {},
   "outputs": [
    {
     "name": "stdout",
     "output_type": "stream",
     "text": [
      " Cardinality Edge Pruning Evaluation \n",
      "---\n",
      "Method name: Cardinality Edge Pruning\n",
      "Parameters: \n",
      "\tNode centric: False\n",
      "\tWeighting scheme: X2\n",
      "Runtime: 62.4234 seconds\n",
      "Scores:\n",
      "\tPrecision:      5.05% \n",
      "\tRecall:        96.28%\n",
      "\tF1-score:       9.60%\n",
      "---\n"
     ]
    }
   ],
   "source": [
    "Evaluation(data).report(candidate_pairs_blocks, wep.method_configuration())"
   ]
  },
  {
   "cell_type": "code",
   "execution_count": 34,
   "id": "58c53fa3-0529-4135-b9b9-8dde9c8d6db7",
   "metadata": {},
   "outputs": [],
   "source": [
    "# print(candidate_pairs_blocks)"
   ]
  },
  {
   "cell_type": "markdown",
   "id": "c6ef5df6-022c-404c-a9a4-ba88fb32d243",
   "metadata": {},
   "source": [
    "# Supervised DL method for matching based on the candidate pairs\n",
    "\n",
    "Candidate pairs are in form (dictionary): \n",
    "\n",
    "> entity_id_1 -> set(entity_id_x, entity_id_y, entity_id_z)\n",
    "\n",
    "- __The split process:__ Given a ratio (0.6 + 0.2 + 0.2 = 1.0) all candiadtes will be splited into train, test, validation accordingly, by concatinating each entity attribute into a lowercase string. For example 60% of comparisons will be used for training, 20% for testing and 20% for validation by using pyTorch.\n",
    "- After the concatenation each string entity will be transformed into an embedding using pre-trained word and sentence embeddings.\n",
    "- The next step will be to create the vocabulary and afterwords train the model. The model will produce a vector of similarities ?? and this vector will be used to determine if a pair of comparison is a match or not"
   ]
  },
  {
   "cell_type": "markdown",
   "id": "5eb04971-bffb-4dba-9e44-ee4620aac728",
   "metadata": {},
   "source": [
    "## Data preparation for train, test, validation"
   ]
  },
  {
   "cell_type": "code",
   "execution_count": 35,
   "id": "d5cab792-51cc-4ffb-acaf-b0a87078e127",
   "metadata": {},
   "outputs": [
    {
     "name": "stdout",
     "output_type": "stream",
     "text": [
      "Requirement already satisfied: tensorboardX in c:\\users\\nikol\\anaconda3\\envs\\pyjedai391\\lib\\site-packages (2.5.1)\n",
      "Requirement already satisfied: protobuf<=3.20.1,>=3.8.0 in c:\\users\\nikol\\anaconda3\\envs\\pyjedai391\\lib\\site-packages (from tensorboardX) (3.20.1)\n",
      "Requirement already satisfied: numpy in c:\\users\\nikol\\anaconda3\\envs\\pyjedai391\\lib\\site-packages (from tensorboardX) (1.22.4)\n"
     ]
    }
   ],
   "source": [
    "!pip install tensorboardX"
   ]
  },
  {
   "cell_type": "code",
   "execution_count": 36,
   "id": "53cfa1da-717b-4b5b-9209-ff6232909a2d",
   "metadata": {},
   "outputs": [],
   "source": [
    "from pyjedai.supervised_techniques import PretrainedSupervisedER"
   ]
  },
  {
   "cell_type": "markdown",
   "id": "a9aae33c-707b-46d6-9080-14e4cacd1646",
   "metadata": {},
   "source": [
    "## Pytorch using BERT-like models and pre-trained word and sentence embeddings"
   ]
  },
  {
   "cell_type": "code",
   "execution_count": 37,
   "id": "c4d88feb-a079-40c8-992d-eba9c82374f5",
   "metadata": {},
   "outputs": [],
   "source": [
    "pser = PretrainedSupervisedER(model_type='roberta', model_name='roberta-base')"
   ]
  },
  {
   "cell_type": "code",
   "execution_count": null,
   "id": "416e84a2-7362-4e0c-bd33-8151a0ac4bbe",
   "metadata": {
    "tags": [
     "main"
    ]
   },
   "outputs": [
    {
     "name": "stdout",
     "output_type": "stream",
     "text": [
      "Training with 2 labels: ['0', '1']\n",
      "1074\n",
      "1074\n",
      "4621422\n",
      "Ratio of true positives to true negatives:  0.00046479200557750407\n",
      "Ratio of true positives to all pairs:  1.0\n",
      "#pairs_count:  1074 \n",
      "#diff_pairs:  1074\n",
      "0  ->  644\n",
      "0  ->  644\n",
      "644  ->  858\n",
      "644  ->  858\n",
      "859  ->  1074\n",
      "859  ->  1074\n",
      "Total:  2146\n",
      "Initialized roberta-model\n",
      "Loaded 1288 training examples\n",
      "Built optimizer: AdamW (\n",
      "Parameter Group 0\n",
      "    betas: (0.9, 0.999)\n",
      "    correct_bias: True\n",
      "    eps: 1e-08\n",
      "    initial_lr: 2e-05\n",
      "    lr: 2e-05\n",
      "    weight_decay: 0.0\n",
      "\n",
      "Parameter Group 1\n",
      "    betas: (0.9, 0.999)\n",
      "    correct_bias: True\n",
      "    eps: 1e-08\n",
      "    initial_lr: 2e-05\n",
      "    lr: 2e-05\n",
      "    weight_decay: 0.0\n",
      ")\n",
      "Loaded and initialized evaluation examples 430\n"
     ]
    },
    {
     "name": "stderr",
     "output_type": "stream",
     "text": [
      "Evaluating: 100%|████████████████████████████████████████████████████| 27/27 [07:50<00:00, 17.43s/it]\n",
      "C:\\Users\\nikol\\AppData\\Local\\Programs\\Python\\Python310\\lib\\site-packages\\sklearn\\metrics\\_classification.py:1334: UndefinedMetricWarning: Precision and F-score are ill-defined and being set to 0.0 in labels with no predicted samples. Use `zero_division` parameter to control this behavior.\n",
      "  _warn_prf(average, modifier, msg_start, len(result))\n",
      "C:\\Users\\nikol\\AppData\\Local\\Programs\\Python\\Python310\\lib\\site-packages\\sklearn\\metrics\\_classification.py:1334: UndefinedMetricWarning: Precision and F-score are ill-defined and being set to 0.0 in labels with no predicted samples. Use `zero_division` parameter to control this behavior.\n",
      "  _warn_prf(average, modifier, msg_start, len(result))\n",
      "C:\\Users\\nikol\\AppData\\Local\\Programs\\Python\\Python310\\lib\\site-packages\\sklearn\\metrics\\_classification.py:1334: UndefinedMetricWarning: Precision and F-score are ill-defined and being set to 0.0 in labels with no predicted samples. Use `zero_division` parameter to control this behavior.\n",
      "  _warn_prf(average, modifier, msg_start, len(result))\n"
     ]
    },
    {
     "name": "stdout",
     "output_type": "stream",
     "text": [
      "***** Eval results after epoch -1 *****\n",
      "eval_loss: 0.6967910793092515\n",
      "f1_score: 0.6666666666666666\n",
      "simple_accuracy: 0.5\n"
     ]
    },
    {
     "name": "stderr",
     "output_type": "stream",
     "text": [
      "Epoch:   0%|                                                                  | 0/15 [00:00<?, ?it/s]\n",
      "Iteration:   0%|                                                              | 0/81 [00:00<?, ?it/s]\u001b[AC:\\Users\\nikol\\AppData\\Local\\Programs\\Python\\Python310\\lib\\site-packages\\torch\\optim\\lr_scheduler.py:249: UserWarning: To get the last learning rate computed by the scheduler, please use `get_last_lr()`.\n",
      "  warnings.warn(\"To get the last learning rate computed by the scheduler, \"\n",
      "\n",
      "Iteration:   1%|▋                                                   | 1/81 [01:22<1:50:29, 82.87s/it]\u001b[A\n",
      "Iteration:   2%|█▎                                                  | 2/81 [03:00<2:00:34, 91.57s/it]\u001b[A\n",
      "Iteration:   4%|█▉                                                  | 3/81 [04:19<1:51:21, 85.66s/it]\u001b[A"
     ]
    }
   ],
   "source": [
    "pser.fit(blocks, data)"
   ]
  },
  {
   "cell_type": "code",
   "execution_count": null,
   "id": "fc3b3c51-cca7-4fe6-9049-7c6fe54f4063",
   "metadata": {},
   "outputs": [],
   "source": [
    "from pyjedai.utils import print_blocks\n",
    "\n",
    "print_blocks(blocks, False)"
   ]
  },
  {
   "cell_type": "code",
   "execution_count": null,
   "id": "23cc7e0d-b688-4ddb-97f3-6e724405be93",
   "metadata": {},
   "outputs": [],
   "source": [
    "data.dataset_1"
   ]
  },
  {
   "cell_type": "code",
   "execution_count": null,
   "id": "c0d1e630-5ebc-4bd4-8c15-510fae8c8dc2",
   "metadata": {},
   "outputs": [],
   "source": [
    "# print(data.ground_truth['D1']==741)\n",
    "data.ground_truth.sort_values(by=['D1'])"
   ]
  },
  {
   "cell_type": "code",
   "execution_count": null,
   "id": "46723678-8262-4cad-b9ee-1bb180b9477a",
   "metadata": {},
   "outputs": [],
   "source": [
    "data._ids_mapping_1"
   ]
  }
 ],
 "metadata": {
  "kernelspec": {
   "display_name": "Python 3 (ipykernel)",
   "language": "python",
   "name": "python3"
  },
  "language_info": {
   "codemirror_mode": {
    "name": "ipython",
    "version": 3
   },
   "file_extension": ".py",
   "mimetype": "text/x-python",
   "name": "python",
   "nbconvert_exporter": "python",
   "pygments_lexer": "ipython3",
   "version": "3.7.6"
  }
 },
 "nbformat": 4,
 "nbformat_minor": 5
}
