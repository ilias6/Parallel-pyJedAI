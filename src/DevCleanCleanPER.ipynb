{
 "cells": [
  {
   "cell_type": "markdown",
   "id": "96ec678e-b20c-4213-8616-542010f46342",
   "metadata": {
    "id": "96ec678e-b20c-4213-8616-542010f46342"
   },
   "source": [
    "<div align=\"center\"> \n",
    "    <hr>\n",
    "  <font size=\"6\"><b>Dev | Clean-Clean Entity Resolution Notebook</b> </font>\n",
    "   <hr>\n",
    "</div>"
   ]
  },
  {
   "cell_type": "code",
   "execution_count": 17,
   "id": "eed013bf-c351-43a3-b600-9b35a6adfd83",
   "metadata": {
    "id": "eed013bf-c351-43a3-b600-9b35a6adfd83",
    "outputId": "12c5b800-6a74-4236-f570-489f6e49b896"
   },
   "outputs": [
    {
     "name": "stdout",
     "output_type": "stream",
     "text": [
      "Python 3.9.16\n"
     ]
    }
   ],
   "source": [
    "!python --version"
   ]
  },
  {
   "cell_type": "code",
   "execution_count": 18,
   "id": "9e8b0c94-3b0b-4094-bfee-eab154ef9e9b",
   "metadata": {},
   "outputs": [
    {
     "ename": "ImportError",
     "evalue": "attempted relative import with no known parent package",
     "output_type": "error",
     "traceback": [
      "\u001b[0;31m---------------------------------------------------------------------------\u001b[0m",
      "\u001b[0;31mImportError\u001b[0m                               Traceback (most recent call last)",
      "Cell \u001b[0;32mIn[18], line 8\u001b[0m\n\u001b[1;32m      6\u001b[0m \u001b[38;5;28;01mimport\u001b[39;00m \u001b[38;5;21;01mjson\u001b[39;00m\n\u001b[1;32m      7\u001b[0m \u001b[38;5;28;01mfrom\u001b[39;00m \u001b[38;5;21;01mitertools\u001b[39;00m \u001b[38;5;28;01mimport\u001b[39;00m product\n\u001b[0;32m----> 8\u001b[0m \u001b[38;5;28;01mfrom\u001b[39;00m \u001b[38;5;21;01m.\u001b[39;00m\u001b[38;5;21;01mpyjedai\u001b[39;00m\u001b[38;5;21;01m.\u001b[39;00m\u001b[38;5;21;01mutils\u001b[39;00m \u001b[38;5;28;01mimport\u001b[39;00m to_path\n\u001b[1;32m      9\u001b[0m \u001b[38;5;28;01mfrom\u001b[39;00m \u001b[38;5;21;01m.\u001b[39;00m\u001b[38;5;21;01mpyjedai\u001b[39;00m\u001b[38;5;21;01m.\u001b[39;00m\u001b[38;5;21;01mdatamodel\u001b[39;00m \u001b[38;5;28;01mimport\u001b[39;00m Data\n\u001b[1;32m     10\u001b[0m \u001b[38;5;28;01mfrom\u001b[39;00m \u001b[38;5;21;01m.\u001b[39;00m\u001b[38;5;21;01mpyjedai\u001b[39;00m\u001b[38;5;21;01m.\u001b[39;00m\u001b[38;5;21;01mworkflow\u001b[39;00m \u001b[38;5;28;01mimport\u001b[39;00m ProgressiveWorkFlow\n",
      "\u001b[0;31mImportError\u001b[0m: attempted relative import with no known parent package"
     ]
    }
   ],
   "source": [
    "import time\n",
    "import os\n",
    "import sys\n",
    "import pandas as pd\n",
    "import numpy as np\n",
    "import json\n",
    "from itertools import product\n",
    "from .pyjedai.utils import to_path\n",
    "from .pyjedai.datamodel import Data\n",
    "from .pyjedai.workflow import ProgressiveWorkFlow\n",
    "from .pyjedai.utils import values_given, get_multiples, necessary_dfs_supplied, store_workflow_results, pretty_print_workflow\n",
    "from .pyjedai.block_building import (\n",
    "    StandardBlocking,\n",
    "    QGramsBlocking,\n",
    "    ExtendedQGramsBlocking,\n",
    "    SuffixArraysBlocking,\n",
    "    ExtendedSuffixArraysBlocking)\n",
    "                                   \n",
    "from .pyjedai.block_cleaning import (\n",
    "    BlockFiltering,\n",
    "    BlockPurging)                         \n",
    "from .pyjedai.comparison_cleaning import (\n",
    "    WeightedEdgePruning, \n",
    "    WeightedNodePruning,\n",
    "    CardinalityEdgePruning,\n",
    "    CardinalityNodePruning, \n",
    "    BLAST,\n",
    "    ReciprocalCardinalityNodePruning,\n",
    "    ReciprocalWeightedNodePruning,\n",
    "    ComparisonPropagation)                                   \n",
    "from .pyjedai.prioritization import (\n",
    "    GlobalTopPM, \n",
    "    LocalTopPM, \n",
    "    EmbeddingsNNBPM, \n",
    "    GlobalPSNM, \n",
    "    LocalPSNM, \n",
    "    PESM, \n",
    "    WhooshPM,\n",
    "    class_references)\n",
    "from .pyjedai.evaluation import Evaluation\n",
    "\n",
    "#-EDIT-THOSE-#\n",
    "\n",
    "# parameters native to the pyjedai progressive workflow\n",
    "# don't edit, unless new parameters were added to the workflow\n",
    "VALID_WORKFLOW_PARAMETERS = ['matcher',\n",
    "                            'algorithm',\n",
    "                            'number_of_nearest_neighbors',\n",
    "                            'indexing',\n",
    "                            'similarity_function',\n",
    "                            'language_model',\n",
    "                            'tokenizer',\n",
    "                            'weighting_scheme',\n",
    "                            'window_size']\n",
    "# path of the configuration file\n",
    "CONFIG_FILE_PATH = to_path('~/pyJedAI/pyJedAI-Dev/script-configs/per_experiments.json')\n",
    "# which configuration from the json file should be used in current experiment  \n",
    "EXPERIMENT_NAME = 'vector-based-debug-test'\n",
    "# path at which the results will be stored within a json file\n",
    "RESULTS_STORE_PATH = to_path('~/pyJedAI/pyJedAI-Dev/scirpts-results/' + EXPERIMENT_NAME + '.json')\n",
    "# results should be stored in the predefined path\n",
    "STORE_RESULTS = True\n",
    "# AUC calculation and ROC visualization after execution\n",
    "VISUALIZE_RESULTS = True\n",
    "# workflow arguments and execution info should be printed in terminal once executed\n",
    "PRINT_WORKFLOWS = True\n",
    "# identifier column names for source and target datasets\n",
    "D1_ID = 'id'\n",
    "D2_ID = 'id'\n",
    "\n",
    "##############                          \n",
    "                                   \n",
    "with open(CONFIG_FILE_PATH) as file:\n",
    "    config = json.load(file)\n",
    "    \n",
    "config = config[EXPERIMENT_NAME]\n",
    "workflow_config = {k: v for k, v in config.items() if(values_given(config, k) and k in VALID_WORKFLOW_PARAMETERS)}\n",
    "workflow_parameters = list(workflow_config.keys())\n",
    "workflow_values = list(workflow_config.values())\n",
    "workflow_combinations = list(product(*workflow_values))\n",
    "\n",
    "if(not necessary_dfs_supplied(config)):\n",
    "    raise ValueError(\"Different number of source, target dataset and ground truth paths!\")\n",
    "\n",
    "datasets_info = list(zip(config['source_dataset_path'], config['target_dataset_path'], config['ground_truth_path']))\n",
    "\n",
    "\n",
    "results = dict()\n",
    "execution_count : int = 0\n",
    "\n",
    "for id, dataset_info in enumerate(datasets_info):\n",
    "    dataset_id = id + 1\n",
    "    d1_path, d2_path, gt_path = dataset_info\n",
    "    dataset_name = config['dataset_name'][id] if(values_given(config, 'dataset_name') and len(config['dataset_name']) > id) else (\"D\" + str(dataset_id))\n",
    "    \n",
    "    d1 = pd.read_csv(to_path(d1_path), sep='|', engine='python', na_filter=False).astype(str)\n",
    "    d2 = pd.read_csv(to_path(d2_path), sep='|', engine='python', na_filter=False).astype(str)\n",
    "    gt = pd.read_csv(to_path(gt_path), sep='|', engine='python')\n",
    "\n",
    "    d1_attributes = config['d1_attributes'][id] if values_given(config, 'd1_attributes') else d1.columns.tolist()\n",
    "    d2_attributes = config['d2_attributes'][id] if values_given(config, 'd2_attributes') else d2.columns.tolist()\n",
    "\n",
    "    data = Data(\n",
    "        dataset_1=d1,\n",
    "        attributes_1=['id','name','description'],\n",
    "        id_column_name_1=D1_ID,\n",
    "        dataset_2=d2,\n",
    "        attributes_2=['id','name','description'],\n",
    "        id_column_name_2=D2_ID,\n",
    "        ground_truth=gt,\n",
    "    )\n",
    "    \n",
    "    true_positives_number = len(gt)\n",
    "    budgets = config['budget'] if values_given(config, 'budget') else get_multiples(true_positives_number, 10)\n",
    "        \n",
    "    for budget in budgets:\n",
    "        for workflow_combination in workflow_combinations:\n",
    "            workflow_arguments = dict(zip(workflow_parameters, workflow_combination))\n",
    "            workflow_arguments['budget'] = budget\n",
    "            workflow_arguments['dataset'] = dataset_name\n",
    "            \n",
    "\n",
    "            print(f\"#### WORKFLOW {execution_count} ####\")\n",
    "            current_workflow = ProgressiveWorkFlow()\n",
    "            current_workflow.run(data=data, **workflow_arguments)            \n",
    "            current_workflow_info : dict =  store_workflow_results(results=results,current_workflow=current_workflow,workflow_arguments=workflow_arguments)\n",
    "            execution_count += 1\n",
    "            \n",
    "            if(PRINT_WORKFLOWS):\n",
    "                pretty_print_workflow(current_workflow_info)\n",
    "            \n",
    "evaluator = Evaluation(data)\n",
    "if(VISUALIZE_RESULTS):\n",
    "    evaluator.visualize_results_roc(results=results)        \n",
    "                     \n",
    "if(STORE_RESULTS):\n",
    "    with open(RESULTS_STORE_PATH, 'w') as file:\n",
    "        json.dump(results, file, indent=4)  "
   ]
  },
  {
   "cell_type": "code",
   "execution_count": 2,
   "id": "6db50d83-51d8-4c95-9f27-30ef867338f2",
   "metadata": {
    "id": "6db50d83-51d8-4c95-9f27-30ef867338f2"
   },
   "outputs": [
    {
     "name": "stderr",
     "output_type": "stream",
     "text": [
      "[nltk_data] Downloading package stopwords to /home/jm/nltk_data...\n",
      "[nltk_data]   Package stopwords is already up-to-date!\n"
     ]
    }
   ],
   "source": [
    "import os\n",
    "import sys\n",
    "import pandas as pd\n",
    "import networkx\n",
    "from networkx import draw, Graph\n",
    "%load_ext autoreload\n",
    "%autoreload 2\n",
    "%reload_ext autoreload\n",
    "from pyjedai.utils import (\n",
    "    text_cleaning_method,\n",
    "    print_clusters,\n",
    "    print_blocks,\n",
    "    print_candidate_pairs\n",
    ")\n",
    "from pyjedai.evaluation import Evaluation, write\n",
    "from pyjedai.datamodel import Data\n",
    "d1 = pd.read_csv(\"../data/ccer/D2/abt.csv\", sep='|', engine='python', na_filter=False).astype(str)\n",
    "d2 = pd.read_csv(\"../data/ccer/D2/buy.csv\", sep='|', engine='python', na_filter=False).astype(str)\n",
    "gt = pd.read_csv(\"../data/ccer/D2/gt.csv\", sep='|', engine='python')\n",
    "\n",
    "data = Data(\n",
    "    dataset_1=d1,\n",
    "    attributes_1=['id','name','description'],\n",
    "    id_column_name_1='id',\n",
    "    dataset_2=d2,\n",
    "    attributes_2=['id','name','description'],\n",
    "    id_column_name_2='id',\n",
    "    ground_truth=gt,\n",
    ")"
   ]
  },
  {
   "cell_type": "markdown",
   "id": "9c068252-4a69-405a-a320-c2875ec08ea5",
   "metadata": {
    "id": "9c068252-4a69-405a-a320-c2875ec08ea5"
   },
   "source": [
    "# Block Building"
   ]
  },
  {
   "cell_type": "code",
   "execution_count": 3,
   "id": "9c1b6213-a218-40cf-bc72-801b77d28da9",
   "metadata": {
    "id": "9c1b6213-a218-40cf-bc72-801b77d28da9",
    "outputId": "fb15cf52-52b1-44fe-ee67-86246a115671"
   },
   "outputs": [
    {
     "name": "stderr",
     "output_type": "stream",
     "text": [
      "/home/conda/miniconda3/envs/pyjedai-progressive/lib/python3.9/site-packages/tqdm/auto.py:21: TqdmWarning: IProgress not found. Please update jupyter and ipywidgets. See https://ipywidgets.readthedocs.io/en/stable/user_install.html\n",
      "  from .autonotebook import tqdm as notebook_tqdm\n"
     ]
    }
   ],
   "source": [
    "from pyjedai.block_building import (\n",
    "    StandardBlocking,\n",
    "    QGramsBlocking,\n",
    "    ExtendedQGramsBlocking,\n",
    "    SuffixArraysBlocking,\n",
    "    ExtendedSuffixArraysBlocking\n",
    ")"
   ]
  },
  {
   "cell_type": "code",
   "execution_count": 4,
   "id": "9741f0c4-6250-455f-9c88-b8dc61ab7d4d",
   "metadata": {
    "colab": {
     "referenced_widgets": [
      "e5ca547f5b2c4e11bc69e2002b40f12a"
     ]
    },
    "id": "9741f0c4-6250-455f-9c88-b8dc61ab7d4d",
    "outputId": "5b9c2a5e-a24f-41a9-d2a1-db9e4aa9477c"
   },
   "outputs": [
    {
     "name": "stderr",
     "output_type": "stream",
     "text": [
      "Q-Grams Blocking: 100%|██████████| 2152/2152 [00:00<00:00, 24119.24it/s]\n"
     ]
    }
   ],
   "source": [
    "qgb = QGramsBlocking(qgrams=6)\n",
    "blocks = qgb.build_blocks(data, attributes_1=['name'], attributes_2=['name'])"
   ]
  },
  {
   "cell_type": "code",
   "execution_count": 5,
   "id": "b0ac846d-0f13-4b90-b4c8-688054ed7ffe",
   "metadata": {
    "id": "b0ac846d-0f13-4b90-b4c8-688054ed7ffe",
    "outputId": "d012ea80-a6f3-47a0-b515-9d1ecc09722b"
   },
   "outputs": [
    {
     "name": "stdout",
     "output_type": "stream",
     "text": [
      "***************************************************************************************************************************\n",
      "                                         Μethod:  Q-Grams Blocking\n",
      "***************************************************************************************************************************\n",
      "Method name: Q-Grams Blocking\n",
      "Parameters: \n",
      "\tQ-Gramms: 6\n",
      "Runtime: 0.0900 seconds\n",
      "───────────────────────────────────────────────────────────────────────────────────────────────────────────────────────────\n",
      "Performance:\n",
      "\tPrecision:      0.32% \n",
      "\tRecall:        99.91%\n",
      "\tF1-score:       0.63%\n",
      "───────────────────────────────────────────────────────────────────────────────────────────────────────────────────────────\n",
      "Classification report:\n",
      "\tTrue positives: 1075\n",
      "\tFalse positives: 337743\n",
      "\tTrue negatives: 820032\n",
      "\tFalse negatives: 1\n",
      "\tTotal comparisons: 338818\n",
      "───────────────────────────────────────────────────────────────────────────────────────────────────────────────────────────\n"
     ]
    },
    {
     "data": {
      "text/plain": [
       "{'Precision %': 0.3172794833804579,\n",
       " 'Recall %': 99.90706319702602,\n",
       " 'F1 %': 0.6325501479873138,\n",
       " 'True Positives': 1075,\n",
       " 'False Positives': 337743,\n",
       " 'True Negatives': 820032,\n",
       " 'False Negatives': 1}"
      ]
     },
     "execution_count": 5,
     "metadata": {},
     "output_type": "execute_result"
    }
   ],
   "source": [
    "qgb.evaluate(blocks, with_classification_report=True)"
   ]
  },
  {
   "cell_type": "markdown",
   "id": "9f9e77d5-c906-431a-bdc7-68dc9c00cc31",
   "metadata": {
    "id": "9f9e77d5-c906-431a-bdc7-68dc9c00cc31",
    "tags": []
   },
   "source": [
    "# Block Cleaning"
   ]
  },
  {
   "cell_type": "code",
   "execution_count": 6,
   "id": "9c2c0e42-485a-444e-9161-975f30d21a02",
   "metadata": {
    "id": "9c2c0e42-485a-444e-9161-975f30d21a02"
   },
   "outputs": [],
   "source": [
    "from pyjedai.block_cleaning import BlockFiltering"
   ]
  },
  {
   "cell_type": "code",
   "execution_count": 7,
   "id": "bf5c20ac-b16a-484d-82b0-61ecb9e7f3ea",
   "metadata": {
    "colab": {
     "referenced_widgets": [
      "82126f3fa6614991b1a1b304b0e4b173"
     ]
    },
    "id": "bf5c20ac-b16a-484d-82b0-61ecb9e7f3ea",
    "outputId": "9ec893a5-b254-42af-e3e0-76660c7711c2"
   },
   "outputs": [
    {
     "name": "stderr",
     "output_type": "stream",
     "text": [
      "Block Filtering: 100%|██████████| 3/3 [00:00<00:00, 63.43it/s]\n"
     ]
    }
   ],
   "source": [
    "bf = BlockFiltering(ratio=0.8)\n",
    "filtered_blocks = bf.process(blocks, data, tqdm_disable=False)"
   ]
  },
  {
   "cell_type": "markdown",
   "id": "9cd12048-bd0c-4571-ba70-488d46afcdd6",
   "metadata": {
    "id": "9cd12048-bd0c-4571-ba70-488d46afcdd6"
   },
   "source": [
    "# Comparison Cleaning\n"
   ]
  },
  {
   "cell_type": "code",
   "execution_count": 8,
   "id": "725426e2-0af8-4295-baff-92653c841fdd",
   "metadata": {
    "id": "725426e2-0af8-4295-baff-92653c841fdd"
   },
   "outputs": [],
   "source": [
    "from pyjedai.block_cleaning import BlockPurging"
   ]
  },
  {
   "cell_type": "code",
   "execution_count": 9,
   "id": "7997b2b6-9629-44f0-a66d-5bc4fea28fb6",
   "metadata": {
    "colab": {
     "referenced_widgets": [
      "d26977056627458aae5e892b4f9ecf46"
     ]
    },
    "id": "7997b2b6-9629-44f0-a66d-5bc4fea28fb6",
    "outputId": "c5128160-aef0-4f2d-e6c1-9f887e6df274"
   },
   "outputs": [
    {
     "name": "stderr",
     "output_type": "stream",
     "text": [
      "Block Purging: 100%|██████████| 6216/6216 [00:00<00:00, 436750.04it/s]\n"
     ]
    }
   ],
   "source": [
    "cbbp = BlockPurging()\n",
    "cleaned_blocks = cbbp.process(filtered_blocks, data, tqdm_disable=False)"
   ]
  },
  {
   "cell_type": "code",
   "execution_count": 10,
   "id": "d8842b00-8765-449f-bdb7-f9b2206e91c7",
   "metadata": {
    "id": "d8842b00-8765-449f-bdb7-f9b2206e91c7",
    "outputId": "6dab98df-2ff0-472c-ecc1-4b964d4c4d56",
    "scrolled": true
   },
   "outputs": [
    {
     "name": "stdout",
     "output_type": "stream",
     "text": [
      "***************************************************************************************************************************\n",
      "                                         Μethod:  Block Purging\n",
      "***************************************************************************************************************************\n",
      "Method name: Block Purging\n",
      "Parameters: \n",
      "\tSmoothing factor: 1.025\n",
      "\tMax Comparisons per Block: 2491.0\n",
      "Runtime: 0.0152 seconds\n",
      "───────────────────────────────────────────────────────────────────────────────────────────────────────────────────────────\n",
      "Performance:\n",
      "\tPrecision:      1.13% \n",
      "\tRecall:        99.54%\n",
      "\tF1-score:       2.24%\n",
      "───────────────────────────────────────────────────────────────────────────────────────────────────────────────────────────\n",
      "Classification report:\n",
      "\tTrue positives: 1071\n",
      "\tFalse positives: 93348\n",
      "\tTrue negatives: 1064423\n",
      "\tFalse negatives: 5\n",
      "\tTotal comparisons: 94419\n",
      "───────────────────────────────────────────────────────────────────────────────────────────────────────────────────────────\n"
     ]
    },
    {
     "data": {
      "text/plain": [
       "{'Precision %': 1.1343055952721381,\n",
       " 'Recall %': 99.53531598513011,\n",
       " 'F1 %': 2.2430493743127915,\n",
       " 'True Positives': 1071,\n",
       " 'False Positives': 93348,\n",
       " 'True Negatives': 1064423,\n",
       " 'False Negatives': 5}"
      ]
     },
     "execution_count": 10,
     "metadata": {},
     "output_type": "execute_result"
    }
   ],
   "source": [
    "cbbp.evaluate(cleaned_blocks, with_classification_report=True)"
   ]
  },
  {
   "cell_type": "markdown",
   "id": "015d655f",
   "metadata": {
    "id": "5R3oRpiRV0BK"
   },
   "source": [
    "# Progressive Entity Matching\n",
    "\n",
    "Applies Entity Matching to a subset of candidate pairs based on prioritization scheme."
   ]
  },
  {
   "cell_type": "code",
   "execution_count": 11,
   "id": "3fc2aa0d",
   "metadata": {
    "id": "jks9SXw-WcP7"
   },
   "outputs": [],
   "source": [
    "from pyjedai.prioritization import (\n",
    "    GlobalTopPM,\n",
    "    LocalTopPM,\n",
    "    EmbeddingsNNBPM,\n",
    "    GlobalPSNM,\n",
    "    LocalPSNM,\n",
    "    RandomPM,\n",
    "    PESM,\n",
    "    WhooshPM\n",
    ")"
   ]
  },
  {
   "cell_type": "code",
   "execution_count": 12,
   "id": "Rr3tA9FKWck4",
   "metadata": {
    "id": "Rr3tA9FKWck4"
   },
   "outputs": [
    {
     "name": "stdout",
     "output_type": "stream",
     "text": [
      "CPU times: user 1.11 s, sys: 19.1 ms, total: 1.13 s\n",
      "Wall time: 1.12 s\n"
     ]
    }
   ],
   "source": [
    "%%time\n",
    "inorder_ltpm = LocalTopPM(\n",
    "    weighting_scheme = 'X2',\n",
    "    similarity_function='dice',\n",
    "    similarity_threshold=0.1,\n",
    "    attributes = ['description', 'name']\n",
    ")\n",
    "\n",
    "inorder_ltpm_pairs = inorder_ltpm.predict(data, cleaned_blocks, budget = 5000, algorithm='HB', indexing='inorder', tqdm_disable=True, emit_all_tps_stop=False)"
   ]
  },
  {
   "cell_type": "code",
   "execution_count": 29,
   "id": "8d65e4f6-c852-4edc-a5d9-d6e70d67e002",
   "metadata": {
    "scrolled": true
   },
   "outputs": [
    {
     "name": "stdout",
     "output_type": "stream",
     "text": [
      "CPU times: user 1.17 s, sys: 0 ns, total: 1.17 s\n",
      "Wall time: 1.17 s\n"
     ]
    }
   ],
   "source": [
    "%%time\n",
    "reverse_ltpm = LocalTopPM(\n",
    "    weighting_scheme = 'X2',\n",
    "    similarity_function='dice',\n",
    "    number_of_nearest_neighbors=10,\n",
    "    similarity_threshold=0.1,\n",
    "    attributes = ['description', 'name']\n",
    ")\n",
    "\n",
    "reverse_ltpm_pairs = reverse_ltpm.predict(data, cleaned_blocks, budget = 5000, algorithm='HB', indexing='reverse', tqdm_disable=True, emit_all_tps_stop=False)"
   ]
  },
  {
   "cell_type": "code",
   "execution_count": 30,
   "id": "2addfe85-51a3-4747-aa8f-dedd4527744e",
   "metadata": {
    "id": "Rr3tA9FKWck4"
   },
   "outputs": [
    {
     "name": "stdout",
     "output_type": "stream",
     "text": [
      "CPU times: user 2.02 s, sys: 0 ns, total: 2.02 s\n",
      "Wall time: 2.02 s\n"
     ]
    }
   ],
   "source": [
    "%%time\n",
    "bilateral_ltpm = LocalTopPM(\n",
    "    weighting_scheme = 'X2',\n",
    "    similarity_function='dice',\n",
    "    number_of_nearest_neighbors=10,\n",
    "    similarity_threshold=0.1,\n",
    "    attributes = ['description', 'name']\n",
    ")\n",
    "\n",
    "bilateral_ltpm_pairs = bilateral_ltpm.predict(data, cleaned_blocks, budget = 5000, algorithm='HB', indexing='bilateral', tqdm_disable=True, emit_all_tps_stop=False)"
   ]
  },
  {
   "cell_type": "code",
   "execution_count": 47,
   "id": "2fe07185",
   "metadata": {},
   "outputs": [
    {
     "ename": "TypeError",
     "evalue": "__init__() got an unexpected keyword argument 'w_scheme'",
     "output_type": "error",
     "traceback": [
      "\u001b[0;31m---------------------------------------------------------------------------\u001b[0m",
      "\u001b[0;31mTypeError\u001b[0m                                 Traceback (most recent call last)",
      "File \u001b[0;32m<timed exec>:1\u001b[0m\n",
      "\u001b[0;31mTypeError\u001b[0m: __init__() got an unexpected keyword argument 'w_scheme'"
     ]
    }
   ],
   "source": [
    "%%time\n",
    "gtpm = GlobalTopPM(\n",
    "    weighting_scheme = 'X2',\n",
    "    similarity_function='dice',\n",
    "    number_of_nearest_neighbors=10,\n",
    "    similarity_threshold=0.1,\n",
    "    attributes = ['description', 'name']\n",
    ")\n",
    "\n",
    "bilateral_ltpm_pairs = bilateral_ltpm.predict(data, cleaned_blocks, budget = 5000, algorithm='HB', indexing='inorder', tqdm_disable=True, emit_all_tps_stop=False)"
   ]
  },
  {
   "cell_type": "code",
   "execution_count": 15,
   "id": "f52ce205",
   "metadata": {},
   "outputs": [
    {
     "ename": "NameError",
     "evalue": "name 'GlobalPSNM' is not defined",
     "output_type": "error",
     "traceback": [
      "\u001b[0;31m---------------------------------------------------------------------------\u001b[0m",
      "\u001b[0;31mNameError\u001b[0m                                 Traceback (most recent call last)",
      "File \u001b[0;32m<timed exec>:1\u001b[0m\n",
      "\u001b[0;31mNameError\u001b[0m: name 'GlobalPSNM' is not defined"
     ]
    }
   ],
   "source": [
    "%%time\n",
    "gpsnm = GlobalPSNM(\n",
    "    weighting_scheme = 'ID',\n",
    "    similarity_function='dice',\n",
    "    similarity_threshold=0.1,\n",
    "    attributes = ['description', 'name']\n",
    ")\n",
    "\n",
    "gpsnm_pairs_graph = gpsnm.predict(data, cleaned_blocks, budget = 5000, algorithm='HB', tqdm_disable=True, emit_all_tps_stop=False)"
   ]
  },
  {
   "cell_type": "code",
   "execution_count": 16,
   "id": "b9f43bd4",
   "metadata": {},
   "outputs": [
    {
     "ename": "NameError",
     "evalue": "name 'LocalPSNM' is not defined",
     "output_type": "error",
     "traceback": [
      "\u001b[0;31m---------------------------------------------------------------------------\u001b[0m",
      "\u001b[0;31mNameError\u001b[0m                                 Traceback (most recent call last)",
      "File \u001b[0;32m<timed exec>:1\u001b[0m\n",
      "\u001b[0;31mNameError\u001b[0m: name 'LocalPSNM' is not defined"
     ]
    }
   ],
   "source": [
    "%%time\n",
    "lpsnm = LocalPSNM(\n",
    "    weighting_scheme = 'ID',\n",
    "    similarity_function='dice',\n",
    "    similarity_threshold=0.1,\n",
    "    attributes = ['description', 'name']\n",
    ")\n",
    "\n",
    "lpsnm_pairs_graph = lpsnm.predict(data, cleaned_blocks, budget = 5000, algorithm='HB', tqdm_disable=True, emit_all_tps_stop=False)"
   ]
  },
  {
   "cell_type": "code",
   "execution_count": 17,
   "id": "910f0bf1",
   "metadata": {},
   "outputs": [
    {
     "ename": "NameError",
     "evalue": "name 'EmbeddingsNNBPM' is not defined",
     "output_type": "error",
     "traceback": [
      "\u001b[0;31m---------------------------------------------------------------------------\u001b[0m",
      "\u001b[0;31mNameError\u001b[0m                                 Traceback (most recent call last)",
      "File \u001b[0;32m<timed exec>:1\u001b[0m\n",
      "\u001b[0;31mNameError\u001b[0m: name 'EmbeddingsNNBPM' is not defined"
     ]
    }
   ],
   "source": [
    "%%time\n",
    "ennbpm = EmbeddingsNNBPM(\n",
    "    language model = 'sminilm',\n",
    "    similarity_search = 'faiss',\n",
    "    similarity_function = 'dice',\n",
    "    tokenizer = 'white_space_tokenizer',\n",
    "    similarity_threshold = 0.1\n",
    ")\n",
    "ennbpm_pairs_graph = ennbpm.predict(data, cleaned_blocks, budget = 5000, algorithm='HB', tqdm_disable=True, emit_all_tps_stop=False)"
   ]
  },
  {
   "cell_type": "code",
   "execution_count": 18,
   "id": "e6717828",
   "metadata": {},
   "outputs": [
    {
     "ename": "NameError",
     "evalue": "name 'RandomPM' is not defined",
     "output_type": "error",
     "traceback": [
      "\u001b[0;31m---------------------------------------------------------------------------\u001b[0m",
      "\u001b[0;31mNameError\u001b[0m                                 Traceback (most recent call last)",
      "File \u001b[0;32m<timed exec>:1\u001b[0m\n",
      "\u001b[0;31mNameError\u001b[0m: name 'RandomPM' is not defined"
     ]
    }
   ],
   "source": [
    "%%time\n",
    "rpm = RandomPM(\n",
    "    similarity_function='dice',\n",
    "    similarity_threshold=0.1,\n",
    "    attributes = ['description', 'name']\n",
    ")\n",
    "\n",
    "rpm_pairs_graph = rpm.predict(data, cleaned_blocks, budget = 5000, algorithm='HB', tqdm_disable=True, emit_all_tps_stop=False)"
   ]
  },
  {
   "cell_type": "code",
   "execution_count": 221,
   "id": "c88c1ba9",
   "metadata": {},
   "outputs": [
    {
     "name": "stdout",
     "output_type": "stream",
     "text": [
      "CPU times: user 5.28 s, sys: 7.93 ms, total: 5.29 s\n",
      "Wall time: 5.29 s\n"
     ]
    }
   ],
   "source": [
    "%%time\n",
    "pesm = PESM(\n",
    "    weighting_scheme = 'X2',\n",
    "    similarity_function='dice',\n",
    "    similarity_threshold=0.1,\n",
    "    attributes = ['description', 'name']\n",
    ")\n",
    "\n",
    "pesm_pairs_graph = pesm.predict(data, cleaned_blocks, budget = 5000, algorithm='HB', tqdm_disable=True, emit_all_tps_stop=False)"
   ]
  },
  {
   "cell_type": "code",
   "execution_count": 225,
   "id": "8f1e1979",
   "metadata": {},
   "outputs": [
    {
     "name": "stdout",
     "output_type": "stream",
     "text": [
      "Applying TF-IDF Similarity Function\n",
      "CPU times: user 7.47 s, sys: 35.9 ms, total: 7.51 s\n",
      "Wall time: 7.55 s\n"
     ]
    }
   ],
   "source": [
    "%%time\n",
    "whpm = WhooshPM(\n",
    "    similarity_function='TF-IDF',\n",
    "    similarity_threshold=0.1,\n",
    "    attributes = ['description', 'name']\n",
    ")\n",
    "\n",
    "whpm_graph = whpm.predict(data, cleaned_blocks, budget = 5000, algorithm='HB', tqdm_disable=True, emit_all_tps_stop=False)"
   ]
  },
  {
   "cell_type": "code",
   "execution_count": 20,
   "id": "0d8fbfd9",
   "metadata": {},
   "outputs": [],
   "source": [
    "matchers_data = []\n",
    "\n",
    "# matchers_data.append((\"Random\", rpm))\n",
    "# matchers_data.append((\"Local Top\", ltpm))\n",
    "# matchers_data.append((\"Global Top\", gtpm))\n",
    "# matchers_data.append((\"GSN\", gpsnm))\n",
    "# matchers_data.append((\"ES-BFS\", pesm))\n",
    "# matchers_data.append((\"ENNBPM-HB\", ennbpm))\n",
    "# matchers_data.append((\"WHOOSH-BFS\", whpm))\n",
    "matchers_data.append((\"Inorder LTPM\", inorder_ltpm))\n",
    "matchers_data.append((\"Reverse LTPM\", test_workflow.progressive_matcher))\n",
    "# matchers_data.append((\"Bilateral LTPM\", bilateral_ltpm))\n"
   ]
  },
  {
   "cell_type": "code",
   "execution_count": 21,
   "id": "33f4105b",
   "metadata": {
    "scrolled": true
   },
   "outputs": [
    {
     "name": "stdout",
     "output_type": "stream",
     "text": [
      "TPS checked: None\n",
      "TPS checked: None\n"
     ]
    },
    {
     "data": {
      "image/png": "[encoded data removed]",
      "text/plain": [
       "<Figure size 720x432 with 1 Axes>"
      ]
     },
     "metadata": {},
     "output_type": "display_data"
    },
    {
     "name": "stdout",
     "output_type": "stream",
     "text": [
      "CPU times: user 125 ms, sys: 104 ms, total: 229 ms\n",
      "Wall time: 110 ms\n"
     ]
    }
   ],
   "source": [
    "%%time\n",
    "progressive_matchers_evaluator = Evaluation(data)\n",
    "progressive_matchers_evaluator.evaluate_auc_roc(matchers_data = matchers_data, proportional = False)"
   ]
  },
  {
   "cell_type": "code",
   "execution_count": 18,
   "id": "91324f76-24db-4d14-954c-469b249756f9",
   "metadata": {},
   "outputs": [
    {
     "name": "stderr",
     "output_type": "stream",
     "text": [
      "Global Top Progressive Matching (dice):   0%|          | 0/3019 [09:21<?, ?it/s]"
     ]
    },
    {
     "name": "stdout",
     "output_type": "stream",
     "text": [
      "{'similarity_function': 'dice', 'number_of_nearest_neighbors': 10}\n",
      "{'indexing': 'reverse'}\n"
     ]
    },
    {
     "name": "stderr",
     "output_type": "stream",
     "text": [
      "\n",
      "Global Top Progressive Matching (dice):   0%|          | 0/3019 [00:09<?, ?it/s]\n"
     ]
    }
   ],
   "source": [
    "from pyjedai.workflow import ProgressiveWorkFlow\n",
    "\n",
    "test_workflow = ProgressiveWorkFlow()\n",
    "test_workflow.run(matcher=LocalTopPM, algorithm='HB', data=data, number_of_nearest_neighbors=10, indexing='reverse', similarity_function='dice')"
   ]
  },
  {
   "cell_type": "code",
   "execution_count": null,
   "id": "8e48f06a-6d05-4f13-8069-126878e8f39e",
   "metadata": {},
   "outputs": [],
   "source": [
    "test_workflow._progr"
   ]
  },
  {
   "cell_type": "code",
   "execution_count": 15,
   "id": "e01cb0e5",
   "metadata": {},
   "outputs": [
    {
     "ename": "NameError",
     "evalue": "name 'pesm' is not defined",
     "output_type": "error",
     "traceback": [
      "\u001b[0;31m---------------------------------------------------------------------------\u001b[0m",
      "\u001b[0;31mNameError\u001b[0m                                 Traceback (most recent call last)",
      "Cell \u001b[0;32mIn[15], line 6\u001b[0m\n\u001b[1;32m      1\u001b[0m \u001b[38;5;66;03m# After supplying the progressive matchers to AUC ROC evaluation\u001b[39;00m\n\u001b[1;32m      2\u001b[0m \u001b[38;5;66;03m# You can easily retrieve information about the method's performance using corresponding functions\u001b[39;00m\n\u001b[1;32m      3\u001b[0m \u001b[38;5;66;03m# You can get the total number of emissions, the final cumulative recall and the normalized AUC\u001b[39;00m\n\u001b[1;32m      4\u001b[0m \n\u001b[1;32m      5\u001b[0m \u001b[38;5;66;03m# Example for Entity Scheduling with BFS Method:\u001b[39;00m\n\u001b[0;32m----> 6\u001b[0m \u001b[38;5;28mprint\u001b[39m(\u001b[38;5;124mf\u001b[39m\u001b[38;5;124m'\u001b[39m\u001b[38;5;124mTotal Emissions: \u001b[39m\u001b[38;5;132;01m{\u001b[39;00m\u001b[43mpesm\u001b[49m\u001b[38;5;241m.\u001b[39mget_total_emissions()\u001b[38;5;132;01m}\u001b[39;00m\u001b[38;5;124m'\u001b[39m)\n\u001b[1;32m      7\u001b[0m \u001b[38;5;28mprint\u001b[39m(\u001b[38;5;124mf\u001b[39m\u001b[38;5;124m'\u001b[39m\u001b[38;5;124mCumulative Recall: \u001b[39m\u001b[38;5;132;01m{\u001b[39;00mpesm\u001b[38;5;241m.\u001b[39mget_cumulative_recall()\u001b[38;5;132;01m}\u001b[39;00m\u001b[38;5;124m'\u001b[39m)\n\u001b[1;32m      8\u001b[0m \u001b[38;5;28mprint\u001b[39m(\u001b[38;5;124mf\u001b[39m\u001b[38;5;124m'\u001b[39m\u001b[38;5;124mNormalized AUC: \u001b[39m\u001b[38;5;132;01m{\u001b[39;00mpesm\u001b[38;5;241m.\u001b[39mget_normalized_auc()\u001b[38;5;132;01m}\u001b[39;00m\u001b[38;5;124m'\u001b[39m)\n",
      "\u001b[0;31mNameError\u001b[0m: name 'pesm' is not defined"
     ]
    }
   ],
   "source": [
    "# After supplying the progressive matchers to AUC ROC evaluation\n",
    "# You can easily retrieve information about the method's performance using corresponding functions\n",
    "# You can get the total number of emissions, the final cumulative recall and the normalized AUC\n",
    "\n",
    "# Example for Entity Scheduling with BFS Method:\n",
    "print(f'Total Emissions: {pesm.get_total_emissions()}')\n",
    "print(f'Cumulative Recall: {pesm.get_cumulative_recall()}')\n",
    "print(f'Normalized AUC: {pesm.get_normalized_auc()}')"
   ]
  },
  {
   "cell_type": "code",
   "execution_count": 18,
   "id": "f52edb4a-5471-4ab5-8496-df7bfd1c2df9",
   "metadata": {},
   "outputs": [
    {
     "name": "stdout",
     "output_type": "stream",
     "text": [
      "Total Emissions: 106443\n",
      "Cumulative Recall: 1.0\n",
      "Normalized AUC: 0.8425875763167529\n"
     ]
    }
   ],
   "source": [
    "print(f'Total Emissions: {ennbpm.get_total_emissions()}')\n",
    "print(f'Cumulative Recall: {ennbpm.get_cumulative_recall()}')\n",
    "print(f'Normalized AUC: {ennbpm.get_normalized_auc()}')"
   ]
  },
  {
   "cell_type": "code",
   "execution_count": 172,
   "id": "9ba97f43-1903-49e2-b85d-65988eaebc43",
   "metadata": {},
   "outputs": [
    {
     "name": "stdout",
     "output_type": "stream",
     "text": [
      "Total Emissions: 106117\n",
      "Cumulative Recall: 0.9990706319702602\n",
      "Normalized AUC: 0.8208217202276312\n"
     ]
    }
   ],
   "source": [
    "print(f'Total Emissions: {ennbpm.get_total_emissions()}')\n",
    "print(f'Cumulative Recall: {ennbpm.get_cumulative_recall()}')\n",
    "print(f'Normalized AUC: {ennbpm.get_normalized_auc()}')"
   ]
  },
  {
   "cell_type": "code",
   "execution_count": 6,
   "id": "d2805201-764b-4cc8-a967-fe7a0bd1599b",
   "metadata": {},
   "outputs": [
    {
     "ename": "SyntaxError",
     "evalue": "invalid syntax (workflow.py, line 362)",
     "output_type": "error",
     "traceback": [
      "Traceback \u001b[0;36m(most recent call last)\u001b[0m:\n",
      "\u001b[0m  File \u001b[1;32m/home/conda/miniconda3/envs/pyjedai-progressive/lib/python3.9/site-packages/IPython/core/interactiveshell.py:3508\u001b[0m in \u001b[1;35mrun_code\u001b[0m\n    exec(code_obj, self.user_global_ns, self.user_ns)\u001b[0m\n",
      "\u001b[0;36m  Cell \u001b[0;32mIn[6], line 1\u001b[0;36m\n\u001b[0;31m    from pyjedai.workflow import ProgressiveWorkFlow\u001b[0;36m\n",
      "\u001b[0;36m  File \u001b[0;32m~/pyJedAI/pyJedAI-Dev/src/pyjedai/workflow.py:362\u001b[0;36m\u001b[0m\n\u001b[0;31m    matcher_arguments**\u001b[0m\n\u001b[0m                     ^\u001b[0m\n\u001b[0;31mSyntaxError\u001b[0m\u001b[0;31m:\u001b[0m invalid syntax\n"
     ]
    }
   ],
   "source": [
    "from pyjedai.workflow import ProgressiveWorkFlow"
   ]
  },
  {
   "cell_type": "code",
   "execution_count": null,
   "id": "f90bf85d-6744-4fa4-b333-78deb8bb6689",
   "metadata": {},
   "outputs": [],
   "source": []
  }
 ],
 "metadata": {
  "colab": {
   "provenance": []
  },
  "kernelspec": {
   "display_name": "Python 3",
   "language": "python",
   "name": "python3"
  },
  "language_info": {
   "codemirror_mode": {
    "name": "ipython",
    "version": 3
   },
   "file_extension": ".py",
   "mimetype": "text/x-python",
   "name": "python",
   "nbconvert_exporter": "python",
   "pygments_lexer": "ipython3",
   "version": "3.9.16"
  },
  "vscode": {
   "interpreter": {
    "hash": "916dbcbb3f70747c44a77c7bcd40155683ae19c65e1c03b4aa3499c5328201f1"
   }
  }
 },
 "nbformat": 4,
 "nbformat_minor": 5
}
