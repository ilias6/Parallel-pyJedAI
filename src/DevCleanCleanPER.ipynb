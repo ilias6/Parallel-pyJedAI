{
 "cells": [
  {
   "cell_type": "markdown",
   "id": "96ec678e-b20c-4213-8616-542010f46342",
   "metadata": {
    "id": "96ec678e-b20c-4213-8616-542010f46342"
   },
   "source": [
    "<div align=\"center\"> \n",
    "    <hr>\n",
    "  <font size=\"6\"><b>Dev | Clean-Clean Entity Resolution Notebook</b> </font>\n",
    "   <hr>\n",
    "</div>"
   ]
  },
  {
   "cell_type": "code",
   "execution_count": 1,
   "id": "eed013bf-c351-43a3-b600-9b35a6adfd83",
   "metadata": {
    "id": "eed013bf-c351-43a3-b600-9b35a6adfd83",
    "outputId": "12c5b800-6a74-4236-f570-489f6e49b896"
   },
   "outputs": [
    {
     "name": "stdout",
     "output_type": "stream",
     "text": [
      "Python 3.9.16\n"
     ]
    }
   ],
   "source": [
    "!python --version"
   ]
  },
  {
   "cell_type": "code",
   "execution_count": 4,
   "id": "34ae38b7-0ec9-4aa5-bbee-c3e0fddc8a7d",
   "metadata": {},
   "outputs": [],
   "source": [
    "import time\n",
    "import os\n",
    "import sys\n",
    "import pandas as pd\n",
    "import json\n",
    "from pyjedai.datamodel import Data\n",
    "from pyjedai.workflow import PYJEDAIWorkFlow, compare_workflows, ProgressiveWorkFlow\n",
    "from pyjedai.block_building import StandardBlocking, QGramsBlocking, ExtendedQGramsBlocking, SuffixArraysBlocking, ExtendedSuffixArraysBlocking\n",
    "from pyjedai.block_cleaning import BlockFiltering, BlockPurging\n",
    "from pyjedai.comparison_cleaning import WeightedEdgePruning, WeightedNodePruning, CardinalityEdgePruning, CardinalityNodePruning, BLAST, ReciprocalCardinalityNodePruning, ReciprocalWeightedNodePruning, ComparisonPropagation\n",
    "from pyjedai.utils import to_path, necessary_dfs_supplied, values_given\n",
    "#-EDIT-THOSE-#\n",
    "# path of the configuration file\n",
    "CONFIG_FILE_PATH = to_path('~/pyJedAI/pyJedAI-Dev/script-configs/per_experiments.json')\n",
    "# which configuration from the json file should be used in the current experiment  \n",
    "EXPERIMENT_NAME = 'gsn-test-multiple-iterations'\n",
    "# path at which the results will be stored within a json file\n",
    "RESULTS_STORE_PATH = to_path('~/pyJedAI/pyJedAI-Dev/script-results/' + EXPERIMENT_NAME + '.json')\n",
    "# number of the current dataset\n",
    "dataset_id = 2\n",
    "id = 0\n",
    "##############                          \n",
    "                                   \n",
    "with open(CONFIG_FILE_PATH) as file:\n",
    "    config = json.load(file)\n",
    "    \n",
    "config = config[EXPERIMENT_NAME]\n",
    "if(not necessary_dfs_supplied(config)):\n",
    "    raise ValueError(\"Different number of source, target dataset and ground truth paths!\")\n",
    "\n",
    "d1_path = config['source_dataset_path'][id]\n",
    "d2_path = config['target_dataset_path'][id]\n",
    "gt_path = config['ground_truth_path'][id]\n",
    "dataset_name = config['dataset_name'][id] if(values_given(config, 'dataset_name') and len(config['dataset_name']) > id) else (\"D\" + str(dataset_id))\n",
    "\n",
    "d1 = pd.read_csv(to_path(d1_path), sep='|', engine='python', na_filter=False).astype(str)\n",
    "d2 = pd.read_csv(to_path(d2_path), sep='|', engine='python', na_filter=False).astype(str)\n",
    "gt = pd.read_csv(to_path(gt_path), sep='|', engine='python')\n",
    "\n",
    "d1_attributes = config['d1_attributes'][id] if values_given(config, 'd1_attributes') else d1.columns.tolist()\n",
    "d2_attributes = config['d2_attributes'][id] if values_given(config, 'd2_attributes') else d2.columns.tolist()\n",
    "\n",
    "data = Data(\n",
    "    dataset_1=d1,\n",
    "    attributes_1=d1_attributes,\n",
    "    id_column_name_1='id',\n",
    "    dataset_2=d2,\n",
    "    attributes_2=d2_attributes,\n",
    "    id_column_name_2='id',\n",
    "    ground_truth=gt,\n",
    ")"
   ]
  },
  {
   "cell_type": "code",
   "execution_count": 6,
   "id": "bffaeeb3-79a3-4e49-b8e7-3084153b5da6",
   "metadata": {},
   "outputs": [
    {
     "name": "stdout",
     "output_type": "stream",
     "text": [
      "        matcher algorithm indexing weighting_scheme  window_size  budget  \\\n",
      "0    GlobalPSNM       TOP  inorder              ACF            3      49   \n",
      "1    GlobalPSNM       TOP  inorder              ACF            3      49   \n",
      "2    GlobalPSNM       TOP  inorder              ACF            3      49   \n",
      "3    GlobalPSNM       TOP  inorder              ACF           10      49   \n",
      "4    GlobalPSNM       TOP  inorder              ACF           10      49   \n",
      "..          ...       ...      ...              ...          ...     ...   \n",
      "475  GlobalPSNM        HB  inorder               ID            3     490   \n",
      "476  GlobalPSNM        HB  inorder               ID            3     490   \n",
      "477  GlobalPSNM        HB  inorder               ID           10     490   \n",
      "478  GlobalPSNM        HB  inorder               ID           10     490   \n",
      "479  GlobalPSNM        HB  inorder               ID           10     490   \n",
      "\n",
      "    dataset  total_candidates  total_emissions      time  \\\n",
      "0      D100                49               49  0.133153   \n",
      "1      D100                49               49  0.047642   \n",
      "2      D100                49               49  0.047260   \n",
      "3      D100                49               49  0.066594   \n",
      "4      D100                49               49  0.144686   \n",
      "..      ...               ...              ...       ...   \n",
      "475    D100               490              490  0.050160   \n",
      "476    D100               490              490  0.133788   \n",
      "477    D100               490              490  0.071269   \n",
      "478    D100               490              490  0.071609   \n",
      "479    D100               490              490  0.070422   \n",
      "\n",
      "                                     name       auc    recall  \n",
      "0    17805fd2-f5e2-4ec4-8d3a-c04cdabcaab1  0.313878  0.530612  \n",
      "1    bc4666d8-1a2d-4f97-83aa-556c8ddd630d  0.322449  0.551020  \n",
      "2    3deae5e7-3636-4ea2-bff7-6d2ec0270f3d  0.295918  0.612245  \n",
      "3    69a6b198-8823-4cd8-b4df-3c5b5ad8da18  0.247347  0.489796  \n",
      "4    8a066457-5324-42c4-a954-e39154936869  0.242857  0.428571  \n",
      "..                                    ...       ...       ...  \n",
      "475  0ca999e6-4630-4194-9620-9dae6862030a  0.720894  0.816327  \n",
      "476  1e9ac234-cb09-4b6e-9918-01f2cababb5f  0.712956  0.795918  \n",
      "477  6ed0acb6-a62e-451c-96a3-0c5cba547888  0.708425  0.775510  \n",
      "478  9f163bd0-9924-452e-96ec-f86ec17b0d0c  0.701234  0.755102  \n",
      "479  21fa1bad-9a34-4377-9af1-d26a415d4502  0.715782  0.775510  \n",
      "\n",
      "[480 rows x 13 columns]\n"
     ]
    }
   ],
   "source": [
    "df = pd.read_csv(\"../script-results/gsn-test-multiple-iterations.csv\")\n",
    "print(df)"
   ]
  },
  {
   "cell_type": "markdown",
   "id": "9c068252-4a69-405a-a320-c2875ec08ea5",
   "metadata": {
    "id": "9c068252-4a69-405a-a320-c2875ec08ea5"
   },
   "source": [
    "# Block Building"
   ]
  },
  {
   "cell_type": "code",
   "execution_count": 3,
   "id": "9c1b6213-a218-40cf-bc72-801b77d28da9",
   "metadata": {
    "id": "9c1b6213-a218-40cf-bc72-801b77d28da9",
    "outputId": "fb15cf52-52b1-44fe-ee67-86246a115671"
   },
   "outputs": [],
   "source": [
    "from pyjedai.block_building import (\n",
    "    StandardBlocking,\n",
    "    QGramsBlocking,\n",
    "    ExtendedQGramsBlocking,\n",
    "    SuffixArraysBlocking,\n",
    "    ExtendedSuffixArraysBlocking\n",
    ")"
   ]
  },
  {
   "cell_type": "code",
   "execution_count": 4,
   "id": "9741f0c4-6250-455f-9c88-b8dc61ab7d4d",
   "metadata": {
    "colab": {
     "referenced_widgets": [
      "e5ca547f5b2c4e11bc69e2002b40f12a"
     ]
    },
    "id": "9741f0c4-6250-455f-9c88-b8dc61ab7d4d",
    "outputId": "5b9c2a5e-a24f-41a9-d2a1-db9e4aa9477c"
   },
   "outputs": [
    {
     "name": "stderr",
     "output_type": "stream",
     "text": [
      "Q-Grams Blocking: 100%|██████████| 200/200 [00:00<00:00, 33557.12it/s]\n"
     ]
    }
   ],
   "source": [
    "qgb = QGramsBlocking(qgrams=6)\n",
    "blocks = qgb.build_blocks(data, attributes_1=['name'], attributes_2=['name'])"
   ]
  },
  {
   "cell_type": "code",
   "execution_count": 5,
   "id": "b0ac846d-0f13-4b90-b4c8-688054ed7ffe",
   "metadata": {
    "id": "b0ac846d-0f13-4b90-b4c8-688054ed7ffe",
    "outputId": "d012ea80-a6f3-47a0-b515-9d1ecc09722b"
   },
   "outputs": [
    {
     "name": "stdout",
     "output_type": "stream",
     "text": [
      "***************************************************************************************************************************\n",
      "                                         Μethod:  Q-Grams Blocking\n",
      "***************************************************************************************************************************\n",
      "Method name: Q-Grams Blocking\n",
      "Parameters: \n",
      "\tQ-Gramms: 6\n",
      "Runtime: 0.0499 seconds\n",
      "───────────────────────────────────────────────────────────────────────────────────────────────────────────────────────────\n",
      "Performance:\n",
      "\tPrecision:      0.32% \n",
      "\tRecall:        99.91%\n",
      "\tF1-score:       0.63%\n",
      "───────────────────────────────────────────────────────────────────────────────────────────────────────────────────────────\n",
      "Classification report:\n",
      "\tTrue positives: 1075\n",
      "\tFalse positives: 337743\n",
      "\tTrue negatives: 820032\n",
      "\tFalse negatives: 1\n",
      "\tTotal comparisons: 338818\n",
      "───────────────────────────────────────────────────────────────────────────────────────────────────────────────────────────\n"
     ]
    },
    {
     "data": {
      "text/plain": [
       "{'Precision %': 0.3172794833804579,\n",
       " 'Recall %': 99.90706319702602,\n",
       " 'F1 %': 0.6325501479873138,\n",
       " 'True Positives': 1075,\n",
       " 'False Positives': 337743,\n",
       " 'True Negatives': 820032,\n",
       " 'False Negatives': 1}"
      ]
     },
     "execution_count": 5,
     "metadata": {},
     "output_type": "execute_result"
    }
   ],
   "source": [
    "qgb.evaluate(blocks, with_classification_report=True)"
   ]
  },
  {
   "cell_type": "markdown",
   "id": "9f9e77d5-c906-431a-bdc7-68dc9c00cc31",
   "metadata": {
    "id": "9f9e77d5-c906-431a-bdc7-68dc9c00cc31",
    "tags": []
   },
   "source": [
    "# Block Cleaning"
   ]
  },
  {
   "cell_type": "code",
   "execution_count": 6,
   "id": "9c2c0e42-485a-444e-9161-975f30d21a02",
   "metadata": {
    "id": "9c2c0e42-485a-444e-9161-975f30d21a02"
   },
   "outputs": [],
   "source": [
    "from pyjedai.block_cleaning import BlockFiltering"
   ]
  },
  {
   "cell_type": "code",
   "execution_count": 7,
   "id": "bf5c20ac-b16a-484d-82b0-61ecb9e7f3ea",
   "metadata": {
    "colab": {
     "referenced_widgets": [
      "82126f3fa6614991b1a1b304b0e4b173"
     ]
    },
    "id": "bf5c20ac-b16a-484d-82b0-61ecb9e7f3ea",
    "outputId": "9ec893a5-b254-42af-e3e0-76660c7711c2"
   },
   "outputs": [
    {
     "name": "stderr",
     "output_type": "stream",
     "text": [
      "Block Filtering: 100%|██████████| 3/3 [00:00<00:00, 21.27it/s]\n"
     ]
    }
   ],
   "source": [
    "bf = BlockFiltering(ratio=0.8)\n",
    "filtered_blocks = bf.process(blocks, data, tqdm_disable=False)"
   ]
  },
  {
   "cell_type": "markdown",
   "id": "9cd12048-bd0c-4571-ba70-488d46afcdd6",
   "metadata": {
    "id": "9cd12048-bd0c-4571-ba70-488d46afcdd6"
   },
   "source": [
    "# Comparison Cleaning\n"
   ]
  },
  {
   "cell_type": "code",
   "execution_count": 8,
   "id": "725426e2-0af8-4295-baff-92653c841fdd",
   "metadata": {
    "id": "725426e2-0af8-4295-baff-92653c841fdd"
   },
   "outputs": [],
   "source": [
    "from pyjedai.block_cleaning import BlockPurging"
   ]
  },
  {
   "cell_type": "code",
   "execution_count": 9,
   "id": "7997b2b6-9629-44f0-a66d-5bc4fea28fb6",
   "metadata": {
    "colab": {
     "referenced_widgets": [
      "d26977056627458aae5e892b4f9ecf46"
     ]
    },
    "id": "7997b2b6-9629-44f0-a66d-5bc4fea28fb6",
    "outputId": "c5128160-aef0-4f2d-e6c1-9f887e6df274"
   },
   "outputs": [
    {
     "name": "stderr",
     "output_type": "stream",
     "text": [
      "Block Purging: 100%|██████████| 6216/6216 [00:00<00:00, 463259.72it/s]\n"
     ]
    }
   ],
   "source": [
    "cbbp = BlockPurging()\n",
    "cleaned_blocks = cbbp.process(filtered_blocks, data, tqdm_disable=False)"
   ]
  },
  {
   "cell_type": "code",
   "execution_count": 10,
   "id": "d8842b00-8765-449f-bdb7-f9b2206e91c7",
   "metadata": {
    "id": "d8842b00-8765-449f-bdb7-f9b2206e91c7",
    "outputId": "6dab98df-2ff0-472c-ecc1-4b964d4c4d56",
    "scrolled": true
   },
   "outputs": [
    {
     "name": "stdout",
     "output_type": "stream",
     "text": [
      "***************************************************************************************************************************\n",
      "                                         Μethod:  Block Purging\n",
      "***************************************************************************************************************************\n",
      "Method name: Block Purging\n",
      "Parameters: \n",
      "\tSmoothing factor: 1.025\n",
      "\tMax Comparisons per Block: 2491.0\n",
      "Runtime: 0.0145 seconds\n",
      "───────────────────────────────────────────────────────────────────────────────────────────────────────────────────────────\n",
      "Performance:\n",
      "\tPrecision:      1.13% \n",
      "\tRecall:        99.54%\n",
      "\tF1-score:       2.24%\n",
      "───────────────────────────────────────────────────────────────────────────────────────────────────────────────────────────\n",
      "Classification report:\n",
      "\tTrue positives: 1071\n",
      "\tFalse positives: 93330\n",
      "\tTrue negatives: 1064441\n",
      "\tFalse negatives: 5\n",
      "\tTotal comparisons: 94401\n",
      "───────────────────────────────────────────────────────────────────────────────────────────────────────────────────────────\n"
     ]
    },
    {
     "data": {
      "text/plain": [
       "{'Precision %': 1.1345218800648298,\n",
       " 'Recall %': 99.53531598513011,\n",
       " 'F1 %': 2.2434722498612234,\n",
       " 'True Positives': 1071,\n",
       " 'False Positives': 93330,\n",
       " 'True Negatives': 1064441,\n",
       " 'False Negatives': 5}"
      ]
     },
     "execution_count": 10,
     "metadata": {},
     "output_type": "execute_result"
    }
   ],
   "source": [
    "cbbp.evaluate(cleaned_blocks, with_classification_report=True)"
   ]
  },
  {
   "cell_type": "markdown",
   "id": "015d655f",
   "metadata": {
    "id": "5R3oRpiRV0BK"
   },
   "source": [
    "# Progressive Entity Matching\n",
    "\n",
    "Applies Entity Matching to a subset of candidate pairs based on prioritization scheme."
   ]
  },
  {
   "cell_type": "code",
   "execution_count": 11,
   "id": "3fc2aa0d",
   "metadata": {
    "id": "jks9SXw-WcP7"
   },
   "outputs": [],
   "source": [
    "from pyjedai.prioritization import (\n",
    "    GlobalTopPM,\n",
    "    LocalTopPM,\n",
    "    EmbeddingsNNBPM,\n",
    "    GlobalPSNM,\n",
    "    LocalPSNM,\n",
    "    RandomPM,\n",
    "    PESM,\n",
    "    WhooshPM\n",
    ")"
   ]
  },
  {
   "cell_type": "code",
   "execution_count": 62,
   "id": "91324f76-24db-4d14-954c-469b249756f9",
   "metadata": {
    "scrolled": true
   },
   "outputs": [
    {
     "name": "stdout",
     "output_type": "stream",
     "text": [
      "{'weighting_scheme': 'ID', 'window_size': 3}\n",
      "{'budget': 10000, 'algorithm': 'HB', 'indexing': 'bilateral', 'emit_all_tps_stop': True}\n",
      "dice\n"
     ]
    },
    {
     "name": "stderr",
     "output_type": "stream",
     "text": [
      "Global Progressive Sorted Neighborhood Matching (dice):   0%|          | 0/297 [00:00<?, ?it/s]\n"
     ]
    }
   ],
   "source": [
    "from pyjedai.evaluation import Evaluation\n",
    "\n",
    "test_workflow_1 = ProgressiveWorkFlow()\n",
    "test_workflow_1.run(data=data, budget=10000, matcher='GlobalPSNM', weighting_scheme='ID', emit_all_tps_stop=True, window_size=3, algorithm='HB', indexing='bilateral')"
   ]
  },
  {
   "cell_type": "code",
   "execution_count": 63,
   "id": "a484ab21-3c21-4084-a6d6-6c3ad96865d3",
   "metadata": {},
   "outputs": [
    {
     "name": "stdout",
     "output_type": "stream",
     "text": [
      "{'weighting_scheme': 'ID', 'window_size': 3}\n",
      "{'budget': 10000, 'algorithm': 'HB', 'indexing': 'bilateral', 'emit_all_tps_stop': True}\n",
      "dice\n"
     ]
    },
    {
     "name": "stderr",
     "output_type": "stream",
     "text": [
      "Global Progressive Sorted Neighborhood Matching (dice):   0%|          | 0/297 [00:00<?, ?it/s]\n"
     ]
    }
   ],
   "source": [
    "test_workflow_2 = ProgressiveWorkFlow()\n",
    "test_workflow_2.run(data=data, budget=10000, matcher='LocalPSNM', weighting_scheme='ID', emit_all_tps_stop=True, window_size=3, algorithm='HB', indexing='bilateral')"
   ]
  },
  {
   "cell_type": "code",
   "execution_count": 66,
   "id": "0d8fbfd9",
   "metadata": {},
   "outputs": [],
   "source": [
    "matchers = []\n",
    "matchers.append(test_workflow_1.progressive_matcher)\n",
    "matchers.append(test_workflow_2.progressive_matcher)\n"
   ]
  },
  {
   "cell_type": "code",
   "execution_count": 67,
   "id": "33f4105b",
   "metadata": {
    "scrolled": true
   },
   "outputs": [
    {
     "data": {
      "image/png": "[encoded data removed]",
      "text/plain": [
       "<Figure size 720x432 with 1 Axes>"
      ]
     },
     "metadata": {},
     "output_type": "display_data"
    },
    {
     "name": "stdout",
     "output_type": "stream",
     "text": [
      "CPU times: user 122 ms, sys: 84.8 ms, total: 207 ms\n",
      "Wall time: 87.2 ms\n"
     ]
    }
   ],
   "source": [
    "%%time\n",
    "progressive_matchers_evaluator = Evaluation(data)\n",
    "progressive_matchers_evaluator.evaluate_auc_roc(matchers = matchers, proportional = False)"
   ]
  },
  {
   "cell_type": "code",
   "execution_count": 49,
   "id": "e01cb0e5",
   "metadata": {},
   "outputs": [
    {
     "name": "stdout",
     "output_type": "stream",
     "text": [
      "Total Emissions: 1175\n",
      "Cumulative Recall: 0.9183673469387755\n",
      "Normalized AUC: 0.7160037484381623\n"
     ]
    }
   ],
   "source": [
    "print(f'Total Emissions: {test_workflow_1.progressive_matcher.get_total_emissions()}')\n",
    "print(f'Cumulative Recall: {test_workflow_1.progressive_matcher.get_cumulative_recall()}')\n",
    "print(f'Normalized AUC: {test_workflow_1.progressive_matcher.get_normalized_auc()}')"
   ]
  },
  {
   "cell_type": "code",
   "execution_count": 38,
   "id": "3a5c2fc7-7316-4eac-ba14-b1dcdc156505",
   "metadata": {},
   "outputs": [
    {
     "name": "stdout",
     "output_type": "stream",
     "text": [
      "Total Emissions: 5471\n",
      "Cumulative Recall: 1.0\n",
      "Normalized AUC: 0.6283342284282062\n"
     ]
    }
   ],
   "source": [
    "print(f'Total Emissions: {test_workflow_2.progressive_matcher.get_total_emissions()}')\n",
    "print(f'Cumulative Recall: {test_workflow_2.progressive_matcher.get_cumulative_recall()}')\n",
    "print(f'Normalized AUC: {test_workflow_2.progressive_matcher.get_normalized_auc()}')"
   ]
  }
 ],
 "metadata": {
  "colab": {
   "provenance": []
  },
  "kernelspec": {
   "display_name": "Python 3",
   "language": "python",
   "name": "python3"
  },
  "language_info": {
   "codemirror_mode": {
    "name": "ipython",
    "version": 3
   },
   "file_extension": ".py",
   "mimetype": "text/x-python",
   "name": "python",
   "nbconvert_exporter": "python",
   "pygments_lexer": "ipython3",
   "version": "3.9.16"
  },
  "vscode": {
   "interpreter": {
    "hash": "916dbcbb3f70747c44a77c7bcd40155683ae19c65e1c03b4aa3499c5328201f1"
   }
  }
 },
 "nbformat": 4,
 "nbformat_minor": 5
}
