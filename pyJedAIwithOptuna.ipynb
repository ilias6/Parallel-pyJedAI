{
 "cells": [
  {
   "cell_type": "markdown",
   "id": "ad9c08d0-f1cb-4ee6-809b-3fd65500ff03",
   "metadata": {},
   "source": [
    "# Optuna framework for pyJedAI fine-tunning"
   ]
  }
 ],
 "metadata": {
  "kernelspec": {
   "display_name": "Python 3",
   "language": "python",
   "name": "python3"
  },
  "language_info": {
   "codemirror_mode": {
    "name": "ipython",
    "version": 3
   },
   "file_extension": ".py",
   "mimetype": "text/x-python",
   "name": "python",
   "nbconvert_exporter": "python",
   "pygments_lexer": "ipython3",
   "version": "3.10.5"
  }
 },
 "nbformat": 4,
 "nbformat_minor": 5
}
