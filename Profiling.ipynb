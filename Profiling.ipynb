{
 "cells": [
  {
   "cell_type": "code",
   "execution_count": 2,
   "id": "72da39fb-f821-40df-a71c-276628891dff",
   "metadata": {},
   "outputs": [
    {
     "name": "stdout",
     "output_type": "stream",
     "text": [
      "Requirement already satisfied: snakeviz in c:\\users\\nikol\\anaconda3\\envs\\pyjedai391\\lib\\site-packages (2.1.1)\n",
      "Requirement already satisfied: tornado>=2.0 in c:\\users\\nikol\\anaconda3\\envs\\pyjedai391\\lib\\site-packages (from snakeviz) (6.2)\n"
     ]
    }
   ],
   "source": [
    "!pip install snakeviz\n",
    "%load_ext autoreload\n",
    "%autoreload 2\n",
    "%reload_ext autoreload"
   ]
  },
  {
   "cell_type": "code",
   "execution_count": null,
   "id": "2d1811b7-ebfb-4f7d-b8dd-938254220739",
   "metadata": {},
   "outputs": [],
   "source": [
    "!python --version"
   ]
  },
  {
   "cell_type": "markdown",
   "id": "a9fc9e6d-b338-4045-9405-e89ae1688259",
   "metadata": {},
   "source": [
    "# cProfile metrics\n",
    "\n",
    "---\n",
    "\n",
    "- __ncalls:__ Shows the number of calls made\n",
    "- __tottime:__ Total time taken by the given function. Note that the time made in calls to sub-functions are excluded.\n",
    "- __percall:__ Total time / No of calls. ( remainder is left out )\n",
    "- __cumtime:__ Unlike tottime, this includes time spent in this and all subfunctions that the higher-level function calls. It is most useful and is accurate for recursive functions.\n",
    "- The percall following cumtime is calculated as the quotient of cumtime divided by primitive calls. The primitive calls include all the calls that were not included through recursion.\n",
    "\n",
    "---\n",
    "\n"
   ]
  },
  {
   "cell_type": "code",
   "execution_count": 1,
   "id": "8da1715f-dfdd-4d27-8e45-5d36a12f5f00",
   "metadata": {},
   "outputs": [
    {
     "data": {
      "application/vnd.jupyter.widget-view+json": {
       "model_id": "bad96e4717c241dfb9dced73fb4d4191",
       "version_major": 2,
       "version_minor": 0
      },
      "text/plain": [
       "Standard Blocking:   0%|          | 0/10000 [00:00<?, ?it/s]"
      ]
     },
     "metadata": {},
     "output_type": "display_data"
    },
    {
     "data": {
      "application/vnd.jupyter.widget-view+json": {
       "model_id": "6adad9e25c8d4db4b3e92cabbf7420f5",
       "version_major": 2,
       "version_minor": 0
      },
      "text/plain": [
       "Block Filtering:   0%|          | 0/3 [00:00<?, ?it/s]"
      ]
     },
     "metadata": {},
     "output_type": "display_data"
    },
    {
     "data": {
      "application/vnd.jupyter.widget-view+json": {
       "model_id": "65ca352e29bc4b4d80355fef83c87596",
       "version_major": 2,
       "version_minor": 0
      },
      "text/plain": [
       "Cardinality Edge Pruning:   0%|          | 0/10000 [00:00<?, ?it/s]"
      ]
     },
     "metadata": {},
     "output_type": "display_data"
    },
    {
     "name": "stdout",
     "output_type": "stream",
     "text": [
      " \n",
      "*** Profile stats marshalled to file 'C:\\\\Users\\\\nikol\\\\AppData\\\\Local\\\\Temp\\\\tmp4jwby769'. \n",
      "Embedding SnakeViz in this document...\n"
     ]
    },
    {
     "data": {
      "text/html": [
       "\n",
       "<iframe id='snakeviz-788ac308-5474-11ed-9d9b-4074e08dca88' frameborder=0 seamless width='100%' height='1000'></iframe>\n",
       "<script>document.getElementById(\"snakeviz-788ac308-5474-11ed-9d9b-4074e08dca88\").setAttribute(\"src\", \"http://\" + document.location.hostname + \":8080/snakeviz/C%3A%5CUsers%5Cnikol%5CAppData%5CLocal%5CTemp%5Ctmp4jwby769\")</script>\n"
      ],
      "text/plain": [
       "<IPython.core.display.HTML object>"
      ]
     },
     "metadata": {},
     "output_type": "display_data"
    }
   ],
   "source": [
    "import os\n",
    "import sys\n",
    "import pandas as pd\n",
    "import cProfile\n",
    "import pstats\n",
    "import time\n",
    "\n",
    "from pyjedai.datamodel import Data\n",
    "data = Data(\n",
    "    dataset_1=pd.read_csv(\"./data/der/synthetic/D1-10K/X.csv\", sep='|', engine='python', na_filter=False).astype(str),\n",
    "    attributes_1=['Id', 'given_name', 'surname', 'date_of_birth', 'address_1',\n",
    "       'address_2', 'street_number', 'postcode', 'soc_sec_id', 'suburb',\n",
    "       'phone_number', 'state', 'age'],\n",
    "    id_column_name_1='Id',\n",
    "    ground_truth=pd.read_csv(\"./data/der/synthetic/D1-10K/GT.csv\", sep='|', engine='python'),\n",
    ")\n",
    "\n",
    "from pyjedai.workflow import WorkFlow, compare_workflows\n",
    "from pyjedai.block_building import StandardBlocking, QGramsBlocking, ExtendedQGramsBlocking, SuffixArraysBlocking, ExtendedSuffixArraysBlocking\n",
    "from pyjedai.block_cleaning import BlockFiltering, BlockPurging\n",
    "from pyjedai.comparison_cleaning import WeightedEdgePruning, WeightedNodePruning, CardinalityEdgePruning, CardinalityNodePruning, BLAST, ReciprocalCardinalityNodePruning, ReciprocalWeightedNodePruning, ComparisonPropagation\n",
    "from pyjedai.matching import EntityMatching\n",
    "from pyjedai.clustering import ConnectedComponentsClustering\n",
    "from pyjedai.block_building import (\n",
    "    StandardBlocking,\n",
    "    QGramsBlocking,\n",
    "    ExtendedQGramsBlocking,\n",
    "    SuffixArraysBlocking,\n",
    "    ExtendedSuffixArraysBlocking,\n",
    ")\n",
    "\n",
    "# %reload_ext snakeviz\n",
    "# %snakeviz \n",
    "\n",
    "from pyjedai.vector_based_blocking import EmbeddingsNNBlockBuilding\n",
    "\n",
    "# t1 = time.process_time()\n",
    "# %reload_ext snakeviz\n",
    "# %snakeviz  \n",
    "qgb = StandardBlocking()\n",
    "blocks = qgb.build_blocks(data, attributes_1=['Id', 'given_name', 'surname', 'date_of_birth', 'address_1', 'address_2', 'street_number', 'postcode', 'soc_sec_id', 'suburb', 'phone_number', 'state', 'age'])\n",
    "# t2 = time.process_time() - t1\n",
    "# print(t2)\n",
    "\n",
    "bf = BlockFiltering(ratio=0.8)\n",
    "filtered_blocks = bf.process(blocks, data, tqdm_disable=False)\n",
    "# cbbp = BlockPurging()\n",
    "# cleaned_blocks = cbbp.process(filtered_blocks, data, tqdm_disable=False)\n",
    "wep = CardinalityEdgePruning(weighting_scheme='EJS')\n",
    "%reload_ext snakeviz\n",
    "%snakeviz candidate_pairs_blocks = wep.process(filtered_blocks, data, tqdm_disable=False)\n",
    "\n",
    "# EM = EntityMatching()\n",
    "\n",
    "# pairs_graph = EM.predict(candidate_pairs_blocks, data, tqdm_disable=True)\n",
    "# ccc = ConnectedComponentsClustering()\n",
    "# clusters = ccc.process(pairs_graph)"
   ]
  },
  {
   "cell_type": "code",
   "execution_count": null,
   "id": "2e26543f-7159-4ae4-9d4d-4fc747b993fa",
   "metadata": {},
   "outputs": [],
   "source": [
    "from pyjedai.utils import print_blocks\n",
    "print_blocks(qgb.blocks, data.is_dirty_er)"
   ]
  },
  {
   "cell_type": "code",
   "execution_count": 39,
   "id": "bb3db92f-9043-41a4-a322-8a06e5a21486",
   "metadata": {},
   "outputs": [
    {
     "name": "stdout",
     "output_type": "stream",
     "text": [
      "#  Evaluation \n",
      "---\n",
      "Scores:\n",
      "\tPrecision:     17.31% \n",
      "\tRecall:        96.24%\n",
      "\tF1-score:      29.35%\n",
      "Classification report:\n",
      "\tTrue positives: 8378\n",
      "\tFalse positives: 40015\n",
      "\tTrue negatives: 49954658\n",
      "\tFalse negatives: 327\n",
      "\tTotal comparisons: 48393\n",
      "---\n"
     ]
    }
   ],
   "source": [
    "from pyjedai.evaluation import Evaluation, write\n",
    "Evaluation(data).report(candidate_pairs_blocks)"
   ]
  },
  {
   "cell_type": "code",
   "execution_count": null,
   "id": "591a480a-2be4-45cc-a3e3-3592f10c25b7",
   "metadata": {},
   "outputs": [],
   "source": [
    "data.entities_d1.values.tolist()[0]"
   ]
  }
 ],
 "metadata": {
  "kernelspec": {
   "display_name": "Python 3 (ipykernel)",
   "language": "python",
   "name": "python3"
  },
  "language_info": {
   "codemirror_mode": {
    "name": "ipython",
    "version": 3
   },
   "file_extension": ".py",
   "mimetype": "text/x-python",
   "name": "python",
   "nbconvert_exporter": "python",
   "pygments_lexer": "ipython3",
   "version": "3.10.5"
  }
 },
 "nbformat": 4,
 "nbformat_minor": 5
}
