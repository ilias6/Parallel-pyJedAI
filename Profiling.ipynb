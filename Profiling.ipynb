{
 "cells": [
  {
   "cell_type": "code",
   "execution_count": null,
   "id": "72da39fb-f821-40df-a71c-276628891dff",
   "metadata": {},
   "outputs": [],
   "source": [
    "!pip install snakeviz"
   ]
  },
  {
   "cell_type": "markdown",
   "id": "a9fc9e6d-b338-4045-9405-e89ae1688259",
   "metadata": {},
   "source": [
    "# cProfile metrics\n",
    "- __ncalls:__ Shows the number of calls made\n",
    "- __tottime:__ Total time taken by the given function. Note that the time made in calls to sub-functions are excluded.\n",
    "- __percall:__ Total time / No of calls. ( remainder is left out )\n",
    "- __cumtime:__ Unlike tottime, this includes time spent in this and all subfunctions that the higher-level function calls. It is most useful and is accurate for recursive functions.\n",
    "- The percall following cumtime is calculated as the quotient of cumtime divided by primitive calls. The primitive calls include all the calls that were not included through recursion."
   ]
  },
  {
   "cell_type": "code",
   "execution_count": 50,
   "id": "8da1715f-dfdd-4d27-8e45-5d36a12f5f00",
   "metadata": {},
   "outputs": [
    {
     "data": {
      "application/vnd.jupyter.widget-view+json": {
       "model_id": "54e7e851104143c6a56dccdcfefe7389",
       "version_major": 2,
       "version_minor": 0
      },
      "text/plain": [
       "Standard Blocking:   0%|          | 0/2152 [00:00<?, ?it/s]"
      ]
     },
     "metadata": {},
     "output_type": "display_data"
    },
    {
     "name": "stdout",
     "output_type": "stream",
     "text": [
      " \n",
      "*** Profile stats marshalled to file 'C:\\\\Users\\\\nikol\\\\AppData\\\\Local\\\\Temp\\\\tmpd2zub12i'. \n",
      "Embedding SnakeViz in this document...\n"
     ]
    },
    {
     "data": {
      "text/html": [
       "\n",
       "<iframe id='snakeviz-a6c443ea-4647-11ed-b71c-4074e08dca88' frameborder=0 seamless width='100%' height='1000'></iframe>\n",
       "<script>document.getElementById(\"snakeviz-a6c443ea-4647-11ed-b71c-4074e08dca88\").setAttribute(\"src\", \"http://\" + document.location.hostname + \":8080/snakeviz/C%3A%5CUsers%5Cnikol%5CAppData%5CLocal%5CTemp%5Ctmpd2zub12i\")</script>\n"
      ],
      "text/plain": [
       "<IPython.core.display.HTML object>"
      ]
     },
     "metadata": {},
     "output_type": "display_data"
    },
    {
     "name": "stdout",
     "output_type": "stream",
     "text": [
      "0.25\n"
     ]
    }
   ],
   "source": [
    "import os\n",
    "import sys\n",
    "import pandas as pd\n",
    "import cProfile\n",
    "import pstats\n",
    "import time\n",
    "\n",
    "from pyjedai.datamodel import Data\n",
    "data = Data(\n",
    "    dataset_1=pd.read_csv(\"./data/D2/abt.csv\", sep='|', engine='python', na_filter=False).astype(str),\n",
    "    attributes_1=['id','name','description'],\n",
    "    id_column_name_1='id',\n",
    "    dataset_2=pd.read_csv(\"./data/D2/buy.csv\", sep='|', engine='python', na_filter=False).astype(str),\n",
    "    attributes_2=['id','name','description'],\n",
    "    id_column_name_2='id',\n",
    "    ground_truth=pd.read_csv(\"./data/D2/gt.csv\", sep='|', engine='python'),\n",
    ")\n",
    "data.process()\n",
    "from pyjedai.workflow import WorkFlow, compare_workflows\n",
    "from pyjedai.block_building import StandardBlocking, QGramsBlocking, ExtendedQGramsBlocking, SuffixArraysBlocking, ExtendedSuffixArraysBlocking\n",
    "from pyjedai.block_cleaning import BlockFiltering, BlockPurging\n",
    "from pyjedai.comparison_cleaning import WeightedEdgePruning, WeightedNodePruning, CardinalityEdgePruning, CardinalityNodePruning, BLAST, ReciprocalCardinalityNodePruning, ReciprocalWeightedNodePruning, ComparisonPropagation\n",
    "from pyjedai.matching import EntityMatching\n",
    "from pyjedai.clustering import ConnectedComponentsClustering\n",
    "from pyjedai.block_building import (\n",
    "    StandardBlocking,\n",
    "    QGramsBlocking,\n",
    "    ExtendedQGramsBlocking,\n",
    "    SuffixArraysBlocking,\n",
    "    ExtendedSuffixArraysBlocking,\n",
    ")\n",
    "\n",
    "# %reload_ext snakeviz\n",
    "# %snakeviz \n",
    "\n",
    "from pyjedai.vector_based_blocking import EmbeddingsNNBlockBuilding\n",
    "\n",
    "qgb = StandardBlocking()\n",
    "\n",
    "t1 = time.process_time()\n",
    "%reload_ext snakeviz\n",
    "%snakeviz blocks = qgb.build_blocks(data, attributes_1=['name'])\n",
    "t2 = time.process_time() - t1\n",
    "print(t2)\n",
    "\n",
    "# bf = BlockFiltering(ratio=0.8)\n",
    "# filtered_blocks = bf.process(blocks, data, tqdm_disable=False)\n",
    "# cbbp = BlockPurging()\n",
    "# cleaned_blocks = cbbp.process(filtered_blocks, data, tqdm_disable=False)\n",
    "# wep = CardinalityEdgePruning(weighting_scheme='X2')\n",
    "# candidate_pairs_blocks = wep.process(filtered_blocks, data, tqdm_disable=True)\n",
    "# EM = EntityMatching(\n",
    "#     metric='sorensen_dice',\n",
    "#     similarity_threshold=0.5,\n",
    "#     attributes = ['description', 'name']\n",
    "# )\n",
    "\n",
    "# pairs_graph = EM.predict(candidate_pairs_blocks, data, tqdm_disable=True)\n",
    "# ccc = ConnectedComponentsClustering()\n",
    "# clusters = ccc.process(pairs_graph)"
   ]
  },
  {
   "cell_type": "code",
   "execution_count": 51,
   "id": "695b8cfd-17e1-461b-903b-cbbf126eda62",
   "metadata": {},
   "outputs": [
    {
     "data": {
      "text/plain": [
       "['id', 'name', 'description', 'price']"
      ]
     },
     "execution_count": 51,
     "metadata": {},
     "output_type": "execute_result"
    }
   ],
   "source": [
    "data.dataset_1.columns.values.tolist()"
   ]
  },
  {
   "cell_type": "code",
   "execution_count": 54,
   "id": "c1c33935-4dec-40ad-bded-9ae13ba258a8",
   "metadata": {},
   "outputs": [
    {
     "data": {
      "text/plain": [
       "[]"
      ]
     },
     "execution_count": 54,
     "metadata": {},
     "output_type": "execute_result"
    }
   ],
   "source": [
    "df = pd.DataFrame()\n",
    "df.columns.values.tolist()"
   ]
  }
 ],
 "metadata": {
  "kernelspec": {
   "display_name": "Python 3 (ipykernel)",
   "language": "python",
   "name": "python3"
  },
  "language_info": {
   "codemirror_mode": {
    "name": "ipython",
    "version": 3
   },
   "file_extension": ".py",
   "mimetype": "text/x-python",
   "name": "python",
   "nbconvert_exporter": "python",
   "pygments_lexer": "ipython3",
   "version": "3.10.5"
  }
 },
 "nbformat": 4,
 "nbformat_minor": 5
}
