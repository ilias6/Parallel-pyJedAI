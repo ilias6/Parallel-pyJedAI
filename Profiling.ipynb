{
 "cells": [
  {
   "cell_type": "code",
   "execution_count": null,
   "id": "72da39fb-f821-40df-a71c-276628891dff",
   "metadata": {},
   "outputs": [],
   "source": [
    "!pip install snakeviz\n",
    "%load_ext autoreload\n",
    "%autoreload 2\n",
    "%reload_ext autoreload"
   ]
  },
  {
   "cell_type": "markdown",
   "id": "a9fc9e6d-b338-4045-9405-e89ae1688259",
   "metadata": {},
   "source": [
    "# cProfile metrics\n",
    "- __ncalls:__ Shows the number of calls made\n",
    "- __tottime:__ Total time taken by the given function. Note that the time made in calls to sub-functions are excluded.\n",
    "- __percall:__ Total time / No of calls. ( remainder is left out )\n",
    "- __cumtime:__ Unlike tottime, this includes time spent in this and all subfunctions that the higher-level function calls. It is most useful and is accurate for recursive functions.\n",
    "- The percall following cumtime is calculated as the quotient of cumtime divided by primitive calls. The primitive calls include all the calls that were not included through recursion."
   ]
  },
  {
   "cell_type": "code",
   "execution_count": 135,
   "id": "81f91870-ac5e-4eb7-b564-866bddd3d751",
   "metadata": {},
   "outputs": [],
   "source": [
    "df = pd.read_csv(\"./data/big/1M.csv\", sep='|', engine='python', na_filter=False).astype(str)"
   ]
  },
  {
   "cell_type": "code",
   "execution_count": 136,
   "id": "e1570798-00b4-45e1-94a1-72fe205e4f41",
   "metadata": {},
   "outputs": [
    {
     "data": {
      "text/plain": [
       "Index(['Id', 'given_name', 'surname', 'date_of_birth', 'address_1',\n",
       "       'address_2', 'street_number', 'postcode', 'soc_sec_id', 'suburb',\n",
       "       'phone_number', 'state', 'age'],\n",
       "      dtype='object')"
      ]
     },
     "execution_count": 136,
     "metadata": {},
     "output_type": "execute_result"
    }
   ],
   "source": [
    "df.columns"
   ]
  },
  {
   "cell_type": "code",
   "execution_count": 141,
   "id": "8da1715f-dfdd-4d27-8e45-5d36a12f5f00",
   "metadata": {},
   "outputs": [
    {
     "data": {
      "application/vnd.jupyter.widget-view+json": {
       "model_id": "e25c950efe684235aa306d2d24182527",
       "version_major": 2,
       "version_minor": 0
      },
      "text/plain": [
       "Standard Blocking:   0%|          | 0/1000000 [00:00<?, ?it/s]"
      ]
     },
     "metadata": {},
     "output_type": "display_data"
    },
    {
     "name": "stdout",
     "output_type": "stream",
     "text": [
      " \n",
      "*** Profile stats marshalled to file 'C:\\\\Users\\\\nikol\\\\AppData\\\\Local\\\\Temp\\\\tmpe21xcs92'. \n",
      "Embedding SnakeViz in this document...\n"
     ]
    },
    {
     "data": {
      "text/html": [
       "\n",
       "<iframe id='snakeviz-ffa03693-48b3-11ed-8765-4074e08dca88' frameborder=0 seamless width='100%' height='1000'></iframe>\n",
       "<script>document.getElementById(\"snakeviz-ffa03693-48b3-11ed-8765-4074e08dca88\").setAttribute(\"src\", \"http://\" + document.location.hostname + \":8080/snakeviz/C%3A%5CUsers%5Cnikol%5CAppData%5CLocal%5CTemp%5Ctmpe21xcs92\")</script>\n"
      ],
      "text/plain": [
       "<IPython.core.display.HTML object>"
      ]
     },
     "metadata": {},
     "output_type": "display_data"
    },
    {
     "name": "stdout",
     "output_type": "stream",
     "text": [
      "102.78125\n"
     ]
    }
   ],
   "source": [
    "import os\n",
    "import sys\n",
    "import pandas as pd\n",
    "import cProfile\n",
    "import pstats\n",
    "import time\n",
    "\n",
    "from pyjedai.datamodel import Data\n",
    "data = Data(\n",
    "    dataset_1=pd.read_csv(\"./data/big/1M.csv\", sep='|', engine='python', na_filter=False).astype(str),\n",
    "    attributes_1=['Id', 'given_name', 'surname', 'date_of_birth', 'address_1',\n",
    "       'address_2', 'street_number', 'postcode', 'soc_sec_id', 'suburb',\n",
    "       'phone_number', 'state', 'age'],\n",
    "    id_column_name_1='Id',\n",
    "    ground_truth=pd.read_csv(\"./data/big/1Mduplicates.csv\", sep='|', engine='python'),\n",
    ")\n",
    "\n",
    "from pyjedai.workflow import WorkFlow, compare_workflows\n",
    "from pyjedai.block_building import StandardBlocking, QGramsBlocking, ExtendedQGramsBlocking, SuffixArraysBlocking, ExtendedSuffixArraysBlocking\n",
    "from pyjedai.block_cleaning import BlockFiltering, BlockPurging\n",
    "from pyjedai.comparison_cleaning import WeightedEdgePruning, WeightedNodePruning, CardinalityEdgePruning, CardinalityNodePruning, BLAST, ReciprocalCardinalityNodePruning, ReciprocalWeightedNodePruning, ComparisonPropagation\n",
    "from pyjedai.matching import EntityMatching\n",
    "from pyjedai.clustering import ConnectedComponentsClustering\n",
    "from pyjedai.block_building import (\n",
    "    StandardBlocking,\n",
    "    QGramsBlocking,\n",
    "    ExtendedQGramsBlocking,\n",
    "    SuffixArraysBlocking,\n",
    "    ExtendedSuffixArraysBlocking,\n",
    ")\n",
    "\n",
    "# %reload_ext snakeviz\n",
    "# %snakeviz \n",
    "\n",
    "from pyjedai.vector_based_blocking import EmbeddingsNNBlockBuilding\n",
    "\n",
    "qgb = StandardBlocking()\n",
    "\n",
    "t1 = time.process_time()\n",
    "# %reload_ext snakeviz\n",
    "# %snakeviz  \n",
    "%reload_ext snakeviz\n",
    "%snakeviz blocks = qgb.build_blocks(data, attributes_1=['Id', 'given_name', 'surname', 'date_of_birth', 'address_1', 'address_2', 'street_number', 'postcode', 'soc_sec_id', 'suburb', 'phone_number', 'state', 'age'])\n",
    "t2 = time.process_time() - t1\n",
    "print(t2)\n",
    "\n",
    "# bf = BlockFiltering(ratio=0.8)\n",
    "# filtered_blocks = bf.process(blocks, data, tqdm_disable=False)\n",
    "# cbbp = BlockPurging()\n",
    "# cleaned_blocks = cbbp.process(filtered_blocks, data, tqdm_disable=False)\n",
    "# wep = CardinalityEdgePruning(weighting_scheme='X2')\n",
    "# candidate_pairs_blocks = wep.process(filtered_blocks, data, tqdm_disable=True)\n",
    "# EM = EntityMatching(\n",
    "#     metric='sorensen_dice',\n",
    "#     similarity_threshold=0.5,\n",
    "#     attributes = ['description', 'name']\n",
    "# )\n",
    "\n",
    "# pairs_graph = EM.predict(candidate_pairs_blocks, data, tqdm_disable=True)\n",
    "# ccc = ConnectedComponentsClustering()\n",
    "# clusters = ccc.process(pairs_graph)"
   ]
  },
  {
   "cell_type": "code",
   "execution_count": null,
   "id": "a1d36122-786a-4b36-8cf2-b8178bfb7408",
   "metadata": {},
   "outputs": [],
   "source": [
    "qgb.blocks"
   ]
  },
  {
   "cell_type": "code",
   "execution_count": null,
   "id": "2e26543f-7159-4ae4-9d4d-4fc747b993fa",
   "metadata": {},
   "outputs": [],
   "source": [
    "from pyjedai.utils import print_blocks\n",
    "print_blocks(qgb.blocks, data.is_dirty_er)"
   ]
  },
  {
   "cell_type": "code",
   "execution_count": 125,
   "id": "bb3db92f-9043-41a4-a322-8a06e5a21486",
   "metadata": {},
   "outputs": [
    {
     "name": "stdout",
     "output_type": "stream",
     "text": [
      "#  Evaluation \n",
      "---\n",
      "Scores:\n",
      "\tPrecision:      0.45% \n",
      "\tRecall:        99.54%\n",
      "\tF1-score:       0.90%\n",
      "Classification report:\n",
      "\tTrue positives: 1071\n",
      "\tFalse positives: 236447\n",
      "\tTrue negatives: 921324\n",
      "\tFalse negatives: 5\n",
      "\tTotal comparisons: 237518\n",
      "---\n"
     ]
    }
   ],
   "source": [
    "from pyjedai.evaluation import Evaluation, write\n",
    "Evaluation(data).report(blocks)"
   ]
  },
  {
   "cell_type": "code",
   "execution_count": 7,
   "id": "591a480a-2be4-45cc-a3e3-3592f10c25b7",
   "metadata": {},
   "outputs": [
    {
     "data": {
      "text/plain": [
       "'0 Sony Turntable - PSLX350H Sony Turntable - PSLX350H/ Belt Drive System/ 33-1/3 and 45 RPM Speeds/ Servo Speed Control/ Supplied Moving Magnet Phono Cartridge/ Bonded Diamond Stylus/ Static Balance Tonearm/ Pitch Control'"
      ]
     },
     "execution_count": 7,
     "metadata": {},
     "output_type": "execute_result"
    }
   ],
   "source": [
    "data.entities_d1.values.tolist()[0]"
   ]
  }
 ],
 "metadata": {
  "kernelspec": {
   "display_name": "Python 3 (ipykernel)",
   "language": "python",
   "name": "python3"
  },
  "language_info": {
   "codemirror_mode": {
    "name": "ipython",
    "version": 3
   },
   "file_extension": ".py",
   "mimetype": "text/x-python",
   "name": "python",
   "nbconvert_exporter": "python",
   "pygments_lexer": "ipython3",
   "version": "3.10.5"
  }
 },
 "nbformat": 4,
 "nbformat_minor": 5
}
