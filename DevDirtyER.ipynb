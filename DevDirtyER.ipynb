{
 "cells": [
  {
   "cell_type": "markdown",
   "id": "96ec678e-b20c-4213-8616-542010f46342",
   "metadata": {},
   "source": [
    "<div align=\"center\"> \n",
    "    <hr>\n",
    "  <font size=\"6\"><b>Dev | Dirty Entity Resolution Notebook</b> </font>\n",
    "   <hr>\n",
    "</div>"
   ]
  },
  {
   "cell_type": "code",
   "execution_count": 1,
   "id": "6db50d83-51d8-4c95-9f27-30ef867338f2",
   "metadata": {},
   "outputs": [],
   "source": [
    "import os\n",
    "import sys\n",
    "import pandas as pd\n",
    "import networkx\n",
    "from networkx import (\n",
    "    draw,\n",
    "    DiGraph,\n",
    "    Graph,\n",
    ")\n",
    "\n",
    "%load_ext autoreload\n",
    "%autoreload 2\n",
    "%reload_ext autoreload\n",
    "from pyjedai.utils import print_clusters, print_blocks, print_candidate_pairs\n",
    "from pyjedai.evaluation import Evaluation\n",
    "from pyjedai.datamodel import Data\n",
    "\n",
    "d1 = pd.read_csv(\"./data/der/cora/cora.csv\", sep='|')\n",
    "gt = pd.read_csv(\"./data/der/cora/cora_gt.csv\", sep='|', header=None)\n",
    "attr = ['Entity Id','author', 'title']\n",
    "data = Data(\n",
    "    dataset_1=d1,\n",
    "    id_column_name_1='Entity Id',\n",
    "    ground_truth=gt,\n",
    "    attributes_1=attr\n",
    ")"
   ]
  },
  {
   "cell_type": "markdown",
   "id": "9c068252-4a69-405a-a320-c2875ec08ea5",
   "metadata": {},
   "source": [
    "### Block Building"
   ]
  },
  {
   "cell_type": "code",
   "execution_count": 2,
   "id": "9c1b6213-a218-40cf-bc72-801b77d28da9",
   "metadata": {},
   "outputs": [
    {
     "name": "stderr",
     "output_type": "stream",
     "text": [
      "C:\\Users\\nikol\\Desktop\\GitHub\\pyJedAI-Dev\\pyjedai\\block_building.py:12: TqdmExperimentalWarning: Using `tqdm.autonotebook.tqdm` in notebook mode. Use `tqdm.tqdm` instead to force console mode (e.g. in jupyter console)\n",
      "  from tqdm.autonotebook import tqdm\n"
     ]
    }
   ],
   "source": [
    "from pyjedai.block_building import (\n",
    "    StandardBlocking,\n",
    "    QGramsBlocking,\n",
    "    SuffixArraysBlocking,\n",
    "    ExtendedSuffixArraysBlocking,\n",
    "    ExtendedQGramsBlocking\n",
    ")"
   ]
  },
  {
   "cell_type": "code",
   "execution_count": 4,
   "id": "0bdf52b8-7385-4b18-b1d5-1546bd2ef32f",
   "metadata": {},
   "outputs": [
    {
     "data": {
      "application/vnd.jupyter.widget-view+json": {
       "model_id": "4208f88df74a4a3babc2784f5ccb4d4c",
       "version_major": 2,
       "version_minor": 0
      },
      "text/plain": [
       "Standard Blocking:   0%|          | 0/1295 [00:00<?, ?it/s]"
      ]
     },
     "metadata": {},
     "output_type": "display_data"
    }
   ],
   "source": [
    "blocks = StandardBlocking().build_blocks(data)"
   ]
  },
  {
   "cell_type": "code",
   "execution_count": 6,
   "id": "9741f0c4-6250-455f-9c88-b8dc61ab7d4d",
   "metadata": {},
   "outputs": [
    {
     "data": {
      "application/vnd.jupyter.widget-view+json": {
       "model_id": "ef0c40d3381d479d9ee267b4270d1ff4",
       "version_major": 2,
       "version_minor": 0
      },
      "text/plain": [
       "Q-Grams Blocking:   0%|          | 0/1295 [00:00<?, ?it/s]"
      ]
     },
     "metadata": {},
     "output_type": "display_data"
    }
   ],
   "source": [
    "blocks = QGramsBlocking(\n",
    "    qgrams=2\n",
    ").build_blocks(data)"
   ]
  },
  {
   "cell_type": "code",
   "execution_count": 7,
   "id": "7ee34038-1352-440e-8c34-98c5cf036523",
   "metadata": {},
   "outputs": [
    {
     "data": {
      "application/vnd.jupyter.widget-view+json": {
       "model_id": "0c0848c5ce4b49b3abe924c88bf57de5",
       "version_major": 2,
       "version_minor": 0
      },
      "text/plain": [
       "Suffix Arrays Blocking:   0%|          | 0/1295 [00:00<?, ?it/s]"
      ]
     },
     "metadata": {},
     "output_type": "display_data"
    }
   ],
   "source": [
    "blocks = SuffixArraysBlocking(\n",
    "    suffix_length=2\n",
    ").build_blocks(data)"
   ]
  },
  {
   "cell_type": "code",
   "execution_count": 8,
   "id": "dc5feb7c-5e1b-4b86-8fa3-e0513115225b",
   "metadata": {},
   "outputs": [
    {
     "data": {
      "application/vnd.jupyter.widget-view+json": {
       "model_id": "d09f3383b1da4f3e94e3bf62467238f3",
       "version_major": 2,
       "version_minor": 0
      },
      "text/plain": [
       "Extended Suffix Arrays Blocking:   0%|          | 0/1295 [00:00<?, ?it/s]"
      ]
     },
     "metadata": {},
     "output_type": "display_data"
    }
   ],
   "source": [
    "blocks = ExtendedSuffixArraysBlocking(\n",
    "    suffix_length=2\n",
    ").build_blocks(data)"
   ]
  },
  {
   "cell_type": "code",
   "execution_count": 9,
   "id": "b0ac846d-0f13-4b90-b4c8-688054ed7ffe",
   "metadata": {},
   "outputs": [
    {
     "ename": "AttributeError",
     "evalue": "'Evaluation' object has no attribute 'precision'",
     "output_type": "error",
     "traceback": [
      "\u001b[1;31m---------------------------------------------------------------------------\u001b[0m",
      "\u001b[1;31mAttributeError\u001b[0m                            Traceback (most recent call last)",
      "\u001b[1;32m~\\AppData\\Local\\Temp/ipykernel_1148/3273427899.py\u001b[0m in \u001b[0;36m<module>\u001b[1;34m\u001b[0m\n\u001b[1;32m----> 1\u001b[1;33m \u001b[0mEvaluation\u001b[0m\u001b[1;33m(\u001b[0m\u001b[0mdata\u001b[0m\u001b[1;33m)\u001b[0m\u001b[1;33m.\u001b[0m\u001b[0mreport\u001b[0m\u001b[1;33m(\u001b[0m\u001b[0mblocks\u001b[0m\u001b[1;33m)\u001b[0m\u001b[1;33m\u001b[0m\u001b[1;33m\u001b[0m\u001b[0m\n\u001b[0m",
      "\u001b[1;32m~\\Desktop\\GitHub\\pyJedAI-Dev\\pyjedai\\evaluation.py\u001b[0m in \u001b[0;36mreport\u001b[1;34m(self, configuration, export_to_df, export_to_dict, with_classification_report, verbose)\u001b[0m\n\u001b[0;32m    110\u001b[0m \u001b[1;33m\u001b[0m\u001b[0m\n\u001b[0;32m    111\u001b[0m         results_dict = {\n\u001b[1;32m--> 112\u001b[1;33m                 \u001b[1;34m'Precision %'\u001b[0m\u001b[1;33m:\u001b[0m \u001b[0mself\u001b[0m\u001b[1;33m.\u001b[0m\u001b[0mprecision\u001b[0m\u001b[1;33m*\u001b[0m\u001b[1;36m100\u001b[0m\u001b[1;33m,\u001b[0m\u001b[1;33m\u001b[0m\u001b[1;33m\u001b[0m\u001b[0m\n\u001b[0m\u001b[0;32m    113\u001b[0m                 \u001b[1;34m'Recall %'\u001b[0m\u001b[1;33m:\u001b[0m \u001b[0mself\u001b[0m\u001b[1;33m.\u001b[0m\u001b[0mrecall\u001b[0m\u001b[1;33m*\u001b[0m\u001b[1;36m100\u001b[0m\u001b[1;33m,\u001b[0m\u001b[1;33m\u001b[0m\u001b[1;33m\u001b[0m\u001b[0m\n\u001b[0;32m    114\u001b[0m                 \u001b[1;34m'F1 %'\u001b[0m\u001b[1;33m:\u001b[0m \u001b[0mself\u001b[0m\u001b[1;33m.\u001b[0m\u001b[0mf1\u001b[0m\u001b[1;33m*\u001b[0m\u001b[1;36m100\u001b[0m\u001b[1;33m,\u001b[0m\u001b[1;33m\u001b[0m\u001b[1;33m\u001b[0m\u001b[0m\n",
      "\u001b[1;31mAttributeError\u001b[0m: 'Evaluation' object has no attribute 'precision'"
     ]
    }
   ],
   "source": [
    "Evaluation(data).report(blocks)"
   ]
  },
  {
   "cell_type": "markdown",
   "id": "709a3dfe-688e-4b94-834a-cb1f9f47a5f2",
   "metadata": {
    "tags": []
   },
   "source": [
    "#### EmbeddingsNNBlockBuilding"
   ]
  },
  {
   "cell_type": "code",
   "execution_count": null,
   "id": "3664fae2-7e65-4294-8709-3096d856fe08",
   "metadata": {},
   "outputs": [],
   "source": [
    "from pyjedai.vector_based_blocking import EmbeddingsNNBlockBuilding\n",
    "\n",
    "emb = EmbeddingsNNBlockBuilding(\n",
    "    vectorizer='bert',\n",
    "    similarity_search='faiss'\n",
    ")\n",
    "blocks = emb.build_blocks(data)"
   ]
  },
  {
   "cell_type": "code",
   "execution_count": null,
   "id": "fea99e9a-6a4e-4acd-8035-aa4432c448fb",
   "metadata": {},
   "outputs": [],
   "source": [
    "Evaluation(data).report(blocks, emb.method_configuration())"
   ]
  },
  {
   "cell_type": "markdown",
   "id": "9f9e77d5-c906-431a-bdc7-68dc9c00cc31",
   "metadata": {},
   "source": [
    "### Block Cleaning"
   ]
  },
  {
   "cell_type": "code",
   "execution_count": 10,
   "id": "9c2c0e42-485a-444e-9161-975f30d21a02",
   "metadata": {},
   "outputs": [],
   "source": [
    "from pyjedai.block_cleaning import (\n",
    "    BlockFiltering\n",
    ")"
   ]
  },
  {
   "cell_type": "code",
   "execution_count": 13,
   "id": "bf5c20ac-b16a-484d-82b0-61ecb9e7f3ea",
   "metadata": {},
   "outputs": [
    {
     "data": {
      "application/vnd.jupyter.widget-view+json": {
       "model_id": "dd05846941704e009f42937fa7e531fe",
       "version_major": 2,
       "version_minor": 0
      },
      "text/plain": [
       "Block Filtering:   0%|          | 0/3 [00:00<?, ?it/s]"
      ]
     },
     "metadata": {},
     "output_type": "display_data"
    }
   ],
   "source": [
    "filtered_blocks = BlockFiltering(\n",
    "    ratio=0.9\n",
    ").process(blocks, data)"
   ]
  },
  {
   "cell_type": "code",
   "execution_count": 14,
   "id": "25fd0be0-91c3-4d0b-b596-c66dccba3c79",
   "metadata": {},
   "outputs": [
    {
     "name": "stdout",
     "output_type": "stream",
     "text": [
      "#  Evaluation \n",
      "---\n",
      "Scores:\n",
      "\tPrecision:      0.13% \n",
      "\tRecall:       100.00%\n",
      "\tF1-score:       0.26%\n",
      "---\n"
     ]
    }
   ],
   "source": [
    "Evaluation(data).report(filtered_blocks)"
   ]
  },
  {
   "cell_type": "markdown",
   "id": "9cd12048-bd0c-4571-ba70-488d46afcdd6",
   "metadata": {},
   "source": [
    "### Comparison Cleaning - Meta Blocking"
   ]
  },
  {
   "cell_type": "code",
   "execution_count": 15,
   "id": "7248d75f-215f-4efd-97f4-a2c9b969b9fc",
   "metadata": {},
   "outputs": [],
   "source": [
    "from pyjedai.block_cleaning import (\n",
    "    BlockPurging\n",
    ")"
   ]
  },
  {
   "cell_type": "code",
   "execution_count": 16,
   "id": "a16bf7a0-180a-494b-8a0b-6a94d9c60deb",
   "metadata": {},
   "outputs": [
    {
     "data": {
      "application/vnd.jupyter.widget-view+json": {
       "model_id": "ad0ec8d4780b477989717c4e1271399c",
       "version_major": 2,
       "version_minor": 0
      },
      "text/plain": [
       "Block Purging:   0%|          | 0/834 [00:00<?, ?it/s]"
      ]
     },
     "metadata": {},
     "output_type": "display_data"
    }
   ],
   "source": [
    "cleaned_blocks = BlockPurging(\n",
    "    smoothing_factor=0.008\n",
    ").process(blocks, data)"
   ]
  },
  {
   "cell_type": "code",
   "execution_count": 17,
   "id": "8d408a88-9386-4d40-80f5-6b089bc6ad4b",
   "metadata": {},
   "outputs": [
    {
     "name": "stdout",
     "output_type": "stream",
     "text": [
      "#  Evaluation \n",
      "---\n",
      "Scores:\n",
      "\tPrecision:      0.10% \n",
      "\tRecall:       100.00%\n",
      "\tF1-score:       0.20%\n",
      "---\n"
     ]
    }
   ],
   "source": [
    "Evaluation(data).report(cleaned_blocks)"
   ]
  },
  {
   "cell_type": "code",
   "execution_count": 18,
   "id": "1f7d75f3-6bed-482d-a572-c3b4927236a5",
   "metadata": {},
   "outputs": [],
   "source": [
    "from pyjedai.comparison_cleaning import (\n",
    "    WeightedEdgePruning,\n",
    "    WeightedNodePruning,\n",
    "    CardinalityEdgePruning,\n",
    "    CardinalityNodePruning,\n",
    "    BLAST,\n",
    "    ReciprocalCardinalityNodePruning,\n",
    "    # ReciprocalCardinalityWeightPruning,\n",
    "    ComparisonPropagation\n",
    ")"
   ]
  },
  {
   "cell_type": "code",
   "execution_count": 19,
   "id": "c92e0ca3-5591-4620-b3f4-012a23637416",
   "metadata": {},
   "outputs": [
    {
     "data": {
      "application/vnd.jupyter.widget-view+json": {
       "model_id": "221e68f99906425fbbeb97ed79298d49",
       "version_major": 2,
       "version_minor": 0
      },
      "text/plain": [
       "Weighted Edge Pruning:   0%|          | 0/1295 [00:00<?, ?it/s]"
      ]
     },
     "metadata": {},
     "output_type": "display_data"
    }
   ],
   "source": [
    "candidate_pairs_blocks = WeightedEdgePruning(\n",
    "    weighting_scheme='CBS'\n",
    ").process(filtered_blocks, data, entity_index)"
   ]
  },
  {
   "cell_type": "code",
   "execution_count": 20,
   "id": "d88c39fa-2f9b-4216-8048-4fb0ef8048bb",
   "metadata": {},
   "outputs": [
    {
     "data": {
      "application/vnd.jupyter.widget-view+json": {
       "model_id": "9a486239e29a417eb4f0d4c50f807bf6",
       "version_major": 2,
       "version_minor": 0
      },
      "text/plain": [
       "Weighted Node Pruning:   0%|          | 0/1295 [00:00<?, ?it/s]"
      ]
     },
     "metadata": {},
     "output_type": "display_data"
    }
   ],
   "source": [
    "candidate_pairs_blocks = WeightedNodePruning(\n",
    "    weighting_scheme='CBS'\n",
    ").process(filtered_blocks, data, entity_index)\n",
    "\n",
    "# In one case valid entities set is empty and crushed / what to do in this case, Java doesnt handle it"
   ]
  },
  {
   "cell_type": "code",
   "execution_count": 21,
   "id": "08e8523b-27a5-4c1c-a01c-3c30c0da6783",
   "metadata": {},
   "outputs": [
    {
     "data": {
      "application/vnd.jupyter.widget-view+json": {
       "model_id": "3f435b1c93cc47c78b78ba4336af662f",
       "version_major": 2,
       "version_minor": 0
      },
      "text/plain": [
       "Cardinality Edge Pruning:   0%|          | 0/1295 [00:00<?, ?it/s]"
      ]
     },
     "metadata": {},
     "output_type": "display_data"
    }
   ],
   "source": [
    "candidate_pairs_blocks = CardinalityEdgePruning(\n",
    "    weighting_scheme='CBS'\n",
    ").process(filtered_blocks, data, entity_index)\n",
    "\n",
    "# In one case valid entities set is empty and crushed / what to do in this case, Java doesnt handle it"
   ]
  },
  {
   "cell_type": "code",
   "execution_count": 22,
   "id": "1acd815d-afcc-4ef9-82d9-9a240680af48",
   "metadata": {},
   "outputs": [
    {
     "data": {
      "application/vnd.jupyter.widget-view+json": {
       "model_id": "63ae7d19f7d2473aade2bfb2da00ec01",
       "version_major": 2,
       "version_minor": 0
      },
      "text/plain": [
       "Cardinality Node Pruning:   0%|          | 0/1295 [00:00<?, ?it/s]"
      ]
     },
     "metadata": {},
     "output_type": "display_data"
    }
   ],
   "source": [
    "candidate_pairs_blocks = CardinalityNodePruning(\n",
    "    weighting_scheme='JS'\n",
    ").process(filtered_blocks, data, entity_index)\n",
    "\n",
    "# In one case valid entities set is empty and crushed / what to do in this case, Java doesnt handle it"
   ]
  },
  {
   "cell_type": "code",
   "execution_count": 23,
   "id": "29743f1a-626d-4ee2-be70-b14afddb5a1e",
   "metadata": {},
   "outputs": [
    {
     "data": {
      "application/vnd.jupyter.widget-view+json": {
       "model_id": "91cb1b4491a04d8d8550c0e3a243dea9",
       "version_major": 2,
       "version_minor": 0
      },
      "text/plain": [
       "BLAST:   0%|          | 0/1295 [00:00<?, ?it/s]"
      ]
     },
     "metadata": {},
     "output_type": "display_data"
    }
   ],
   "source": [
    "candidate_pairs_blocks = BLAST(\n",
    "    weighting_scheme='JS'\n",
    ").process(filtered_blocks, data, entity_index)\n",
    "\n",
    "# In one case valid entities set is empty and crushed / what to do in this case, Java doesnt handle it"
   ]
  },
  {
   "cell_type": "code",
   "execution_count": 24,
   "id": "c65ea488-bcfd-4207-b0eb-9e7e2bb29a97",
   "metadata": {},
   "outputs": [
    {
     "data": {
      "application/vnd.jupyter.widget-view+json": {
       "model_id": "93b0119cb1bb4f04a2ca048fcc81250e",
       "version_major": 2,
       "version_minor": 0
      },
      "text/plain": [
       "Reciprocal Cardinality Node Pruning:   0%|          | 0/1295 [00:00<?, ?it/s]"
      ]
     },
     "metadata": {},
     "output_type": "display_data"
    }
   ],
   "source": [
    "candidate_pairs_blocks = ReciprocalCardinalityNodePruning(\n",
    "    weighting_scheme='JS'\n",
    ").process(filtered_blocks, data, entity_index)\n",
    "\n",
    "# In one case valid entities set is empty and crushed / what to do in this case, Java doesnt handle it"
   ]
  },
  {
   "cell_type": "code",
   "execution_count": 25,
   "id": "5b68b549-ddca-4bba-9b00-b11150fe04f5",
   "metadata": {},
   "outputs": [
    {
     "data": {
      "application/vnd.jupyter.widget-view+json": {
       "model_id": "8ffc49827c2444dda4484a4e5d2c1907",
       "version_major": 2,
       "version_minor": 0
      },
      "text/plain": [
       "Comparison Propagation:   0%|          | 0/1295 [00:00<?, ?it/s]"
      ]
     },
     "metadata": {},
     "output_type": "display_data"
    }
   ],
   "source": [
    "candidate_pairs_blocks = ComparisonPropagation().process(blocks, data)\n",
    "\n",
    "# In one case valid entities set is empty and crushed / what to do in this case, Java doesnt handle it"
   ]
  },
  {
   "cell_type": "code",
   "execution_count": 26,
   "id": "f469e387-e135-4945-b97f-da14d391c6b1",
   "metadata": {},
   "outputs": [
    {
     "name": "stdout",
     "output_type": "stream",
     "text": [
      "#  Evaluation \n",
      "---\n",
      "Scores:\n",
      "\tPrecision:     14.80% \n",
      "\tRecall:        48.14%\n",
      "\tF1-score:      22.64%\n",
      "Classification report:\n",
      "\tTrue positives: 8273\n",
      "\tFalse positives: 47632\n",
      "\tTrue negatives: 781322\n",
      "\tFalse negatives: 8911\n",
      "\tTotal comparisons: 55905\n",
      "---\n"
     ]
    }
   ],
   "source": [
    "Evaluation(data).report(candidate_pairs_blocks)"
   ]
  },
  {
   "cell_type": "markdown",
   "id": "6aeff39a-b51b-4166-a55b-f8452ec258a7",
   "metadata": {},
   "source": [
    "### Entity Matching"
   ]
  },
  {
   "cell_type": "code",
   "execution_count": 20,
   "id": "f479d967-8bac-4870-99bd-68c01e75747b",
   "metadata": {},
   "outputs": [],
   "source": [
    "from pyjedai.matching import EntityMatching"
   ]
  },
  {
   "cell_type": "code",
   "execution_count": 21,
   "id": "ae7b1e6a-e937-44fe-bfe5-34696ea1156c",
   "metadata": {},
   "outputs": [],
   "source": [
    "attr = ['author', 'title']\n",
    "# or with weights\n",
    "attr = {\n",
    "    'author' : 0.6,\n",
    "    'title' : 0.4\n",
    "}\n",
    "\n",
    "EM = EntityMatching(\n",
    "    metric='jaccard', \n",
    "    similarity_threshold=0.5\n",
    "    # embedings=None, # gensim\n",
    "    # attributes=attr,\n",
    "    # qgram=2 # for ngram metric or jaccard\n",
    ")\n",
    "\n",
    "# pairs_graph = EM.predict(blocks, data)"
   ]
  },
  {
   "cell_type": "code",
   "execution_count": null,
   "id": "1c571fc2-08ad-468e-bc25-9e86ad475557",
   "metadata": {},
   "outputs": [],
   "source": [
    "pairs_graph = EM.predict(filtered_blocks, data)"
   ]
  },
  {
   "cell_type": "code",
   "execution_count": 23,
   "id": "bcb37bf3-1da1-4830-9659-41cf85a536a9",
   "metadata": {},
   "outputs": [
    {
     "data": {
      "application/vnd.jupyter.widget-view+json": {
       "model_id": "b1932ecd28ad4f8ba78fb5f54f384339",
       "version_major": 2,
       "version_minor": 0
      },
      "text/plain": [
       "Entity Matching (jaccard):   0%|          | 0/1294 [00:00<?, ?it/s]"
      ]
     },
     "metadata": {},
     "output_type": "display_data"
    }
   ],
   "source": [
    "attr = {\n",
    "    'author' : 0.6, \n",
    "    'title' : 0.4\n",
    "}\n",
    "\n",
    "EM = EntityMatching(\n",
    "    metric='jaccard', \n",
    "    similarity_threshold=0.5\n",
    "    # embedings=None, # gensim\n",
    "    # attributes=attr,\n",
    "    # qgram=2 # for ngram metric or jaccard\n",
    ")\n",
    "\n",
    "pairs_graph = EM.predict(candidate_pairs_blocks, data)"
   ]
  },
  {
   "cell_type": "code",
   "execution_count": null,
   "id": "4d606bfc-3265-4042-93f3-22a1117c4886",
   "metadata": {},
   "outputs": [],
   "source": [
    "draw(pairs_graph)"
   ]
  },
  {
   "cell_type": "code",
   "execution_count": null,
   "id": "00bc2e82-9bc1-4119-b8cb-4a1c18afee19",
   "metadata": {},
   "outputs": [],
   "source": [
    "e = Evaluation(data)\n",
    "e.report(pairs_graph)"
   ]
  },
  {
   "cell_type": "markdown",
   "id": "93b72120-4578-4d5c-a408-a24ee78bf6cb",
   "metadata": {},
   "source": [
    "### Entity Clustering"
   ]
  },
  {
   "cell_type": "code",
   "execution_count": 24,
   "id": "500d2ef7-7017-4dba-bbea-acdba8abf5b7",
   "metadata": {},
   "outputs": [],
   "source": [
    "from pyjedai.clustering import ConnectedComponentsClustering, UniqueMappingClustering"
   ]
  },
  {
   "cell_type": "code",
   "execution_count": 25,
   "id": "aebd9329-3a4b-48c9-bd05-c7bd4aed3ca9",
   "metadata": {},
   "outputs": [],
   "source": [
    "clusters = UniqueMappingClustering().process(pairs_graph)"
   ]
  },
  {
   "cell_type": "code",
   "execution_count": null,
   "id": "acd9efb2-11bb-4c59-9899-554c0af457a7",
   "metadata": {},
   "outputs": [],
   "source": [
    "clusters = ConnectedComponentsClustering().process(pairs_graph)"
   ]
  },
  {
   "cell_type": "code",
   "execution_count": 26,
   "id": "3d2aa574",
   "metadata": {},
   "outputs": [
    {
     "name": "stdout",
     "output_type": "stream",
     "text": [
      "#  Evaluation \n",
      "---\n",
      "Scores:\n",
      "\tPrecision:     97.41% \n",
      "\tRecall:        34.82%\n",
      "\tF1-score:      51.31%\n",
      "---\n"
     ]
    }
   ],
   "source": [
    "e = Evaluation(data)\n",
    "e.report(pairs_graph)"
   ]
  },
  {
   "cell_type": "markdown",
   "id": "7b11070f-7787-43f3-a050-730aea4b45d4",
   "metadata": {
    "tags": []
   },
   "source": [
    "# WorkFlow 2"
   ]
  },
  {
   "cell_type": "markdown",
   "id": "b3eedb4c-b86f-4f98-abf2-9d6f7d0271c5",
   "metadata": {},
   "source": [
    "### Similarity Joins"
   ]
  },
  {
   "cell_type": "code",
   "execution_count": 14,
   "id": "afd97b7e-4bf8-4256-b9fc-a301e413e834",
   "metadata": {},
   "outputs": [],
   "source": [
    "from pyjedai.joins import SchemaAgnosticΕJoin, TopKSchemaAgnosticJoin"
   ]
  },
  {
   "cell_type": "code",
   "execution_count": 18,
   "id": "7bc8ba43-b059-4839-8958-0b31fab95e46",
   "metadata": {},
   "outputs": [
    {
     "data": {
      "application/vnd.jupyter.widget-view+json": {
       "model_id": "0e459c1628de4640a5230d78db154ce3",
       "version_major": 2,
       "version_minor": 0
      },
      "text/plain": [
       "SchemaAgnostic-E Join (jaccard):   0%|          | 0/2590 [00:00<?, ?it/s]"
      ]
     },
     "metadata": {},
     "output_type": "display_data"
    }
   ],
   "source": [
    "SAEJ = SchemaAgnosticΕJoin(\n",
    "    similarity_threshold = 0.5,\n",
    "    metric = 'jaccard',\n",
    "    tokenization = 'qgrams_multiset',\n",
    "    qgrams = 2\n",
    ")\n",
    "g = SAEJ.fit(data)"
   ]
  },
  {
   "cell_type": "code",
   "execution_count": 12,
   "id": "22dadb82-0615-4738-8308-7435cee871ee",
   "metadata": {},
   "outputs": [
    {
     "data": {
      "text/plain": [
       "<networkx.classes.graph.Graph at 0x2b1398ad570>"
      ]
     },
     "execution_count": 12,
     "metadata": {},
     "output_type": "execute_result"
    }
   ],
   "source": [
    "g"
   ]
  },
  {
   "cell_type": "code",
   "execution_count": 19,
   "id": "8fe34c67-4679-4279-8e7e-35437783ecf3",
   "metadata": {},
   "outputs": [
    {
     "name": "stdout",
     "output_type": "stream",
     "text": [
      "***************************************************************************************************************************\n",
      "                                         Μethod:  SchemaAgnostic-E Join\n",
      "***************************************************************************************************************************\n",
      "Method name: SchemaAgnostic-E Join\n",
      "Parameters: \n",
      "\tsimilarity_threshold: 0.5\n",
      "\tmetric: jaccard\n",
      "\ttokenization: qgrams_multiset\n",
      "\tqgrams: 2\n",
      "Runtime: 43.8202 seconds\n",
      "───────────────────────────────────────────────────────────────────────────────────────────────────────────────────────────\n",
      "Performance:\n",
      "\tPrecision:     65.80% \n",
      "\tRecall:        93.03%\n",
      "\tF1-score:      77.08%\n",
      "───────────────────────────────────────────────────────────────────────────────────────────────────────────────────────────\n",
      "Classification report:\n",
      "\tTrue positives: 15987\n",
      "\tFalse positives: 8311\n",
      "\tTrue negatives: 828357\n",
      "\tFalse negatives: 1197\n",
      "\tTotal comparisons: 24298\n",
      "───────────────────────────────────────────────────────────────────────────────────────────────────────────────────────────\n"
     ]
    }
   ],
   "source": [
    "SAEJ.evaluate(g, with_classification_report=True)"
   ]
  },
  {
   "cell_type": "code",
   "execution_count": 22,
   "id": "27c7bc36-c39b-4bab-a728-971195763728",
   "metadata": {
    "tags": []
   },
   "outputs": [
    {
     "data": {
      "application/vnd.jupyter.widget-view+json": {
       "model_id": "e41e097a01154288bb100962c96cf0dd",
       "version_major": 2,
       "version_minor": 0
      },
      "text/plain": [
       "Top-K Schema Agnostic Join (jaccard):   0%|          | 0/2590 [00:00<?, ?it/s]"
      ]
     },
     "metadata": {},
     "output_type": "display_data"
    }
   ],
   "source": [
    "TSAJ = TopKSchemaAgnosticJoin(\n",
    "    K=20,\n",
    "    metric = 'jaccard',\n",
    "    tokenization = 'qgrams',\n",
    "    qgrams = 3\n",
    ")\n",
    "g = TSAJ.fit(data)"
   ]
  },
  {
   "cell_type": "code",
   "execution_count": 23,
   "id": "e1061a7a-9ccb-41ec-8bdf-42412d4d249c",
   "metadata": {},
   "outputs": [
    {
     "data": {
      "image/png": "[encoded data removed]",
      "text/plain": [
       "<Figure size 432x288 with 1 Axes>"
      ]
     },
     "metadata": {},
     "output_type": "display_data"
    }
   ],
   "source": [
    "draw(g)"
   ]
  },
  {
   "cell_type": "code",
   "execution_count": 24,
   "id": "a4c57244-0c98-4598-8ae2-06cdd0c48385",
   "metadata": {},
   "outputs": [
    {
     "name": "stdout",
     "output_type": "stream",
     "text": [
      "***************************************************************************************************************************\n",
      "                                         Μethod:  Top-K Schema Agnostic Join\n",
      "***************************************************************************************************************************\n",
      "Method name: Top-K Schema Agnostic Join\n",
      "Parameters: \n",
      "\tsimilarity_threshold: 0.25547445255474455\n",
      "\tK: 20\n",
      "\tmetric: jaccard\n",
      "\ttokenization: qgrams\n",
      "\tqgrams: 3\n",
      "Runtime: 39.3262 seconds\n",
      "───────────────────────────────────────────────────────────────────────────────────────────────────────────────────────────\n",
      "Performance:\n",
      "\tPrecision:     58.34% \n",
      "\tRecall:        63.75%\n",
      "\tF1-score:      60.92%\n",
      "───────────────────────────────────────────────────────────────────────────────────────────────────────────────────────────\n",
      "Classification report:\n",
      "\tTrue positives: 10954\n",
      "\tFalse positives: 7822\n",
      "\tTrue negatives: 823813\n",
      "\tFalse negatives: 6230\n",
      "\tTotal comparisons: 18776\n",
      "───────────────────────────────────────────────────────────────────────────────────────────────────────────────────────────\n"
     ]
    }
   ],
   "source": [
    "TSAJ.evaluate(g, with_classification_report=True)"
   ]
  },
  {
   "cell_type": "markdown",
   "id": "e686ba55-cbbe-4133-8256-fa5339e70720",
   "metadata": {},
   "source": [
    "### Entity Clustering"
   ]
  },
  {
   "cell_type": "code",
   "execution_count": 27,
   "id": "e48627ef-0be6-45dd-b3ba-863818eadbfb",
   "metadata": {},
   "outputs": [],
   "source": [
    "from pyjedai.clustering import ConnectedComponentsClustering"
   ]
  },
  {
   "cell_type": "code",
   "execution_count": 29,
   "id": "a9d5a28d-79f0-479f-b154-f5f7e3661897",
   "metadata": {},
   "outputs": [],
   "source": [
    "CCC = ConnectedComponentsClustering()\n",
    "clusters = CCC.process(g, data)"
   ]
  },
  {
   "cell_type": "code",
   "execution_count": 30,
   "id": "f95539fe-2569-4569-8929-2f4220f14157",
   "metadata": {},
   "outputs": [
    {
     "name": "stdout",
     "output_type": "stream",
     "text": [
      "***************************************************************************************************************************\n",
      "                                         Μethod:  Connected Components Clustering\n",
      "***************************************************************************************************************************\n",
      "Method name: Connected Components Clustering\n",
      "Parameters: \n",
      "Runtime: 0.0030 seconds\n",
      "───────────────────────────────────────────────────────────────────────────────────────────────────────────────────────────\n",
      "Performance:\n",
      "\tPrecision:      2.05% \n",
      "\tRecall:       100.00%\n",
      "\tF1-score:       4.02%\n",
      "───────────────────────────────────────────────────────────────────────────────────────────────────────────────────────────\n"
     ]
    }
   ],
   "source": [
    "CCC.evaluate(clusters)"
   ]
  }
 ],
 "metadata": {
  "kernelspec": {
   "display_name": "Python 3 (ipykernel)",
   "language": "python",
   "name": "python3"
  },
  "language_info": {
   "codemirror_mode": {
    "name": "ipython",
    "version": 3
   },
   "file_extension": ".py",
   "mimetype": "text/x-python",
   "name": "python",
   "nbconvert_exporter": "python",
   "pygments_lexer": "ipython3",
   "version": "3.10.5"
  },
  "vscode": {
   "interpreter": {
    "hash": "824e5f4123a1a5b690f910010b2896a5dc6379151ca1c56e0c0465c15ebbd094"
   }
  }
 },
 "nbformat": 4,
 "nbformat_minor": 5
}
