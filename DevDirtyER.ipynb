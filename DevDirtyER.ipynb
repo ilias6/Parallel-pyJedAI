{
 "cells": [
  {
   "cell_type": "markdown",
   "id": "96ec678e-b20c-4213-8616-542010f46342",
   "metadata": {},
   "source": [
    "<div align=\"center\"> \n",
    "    <hr>\n",
    "  <font size=\"6\"><b>Dev | Dirty Entity Resolution Notebook</b> </font>\n",
    "   <hr>\n",
    "</div>"
   ]
  },
  {
   "cell_type": "code",
   "execution_count": 4,
   "id": "6db50d83-51d8-4c95-9f27-30ef867338f2",
   "metadata": {},
   "outputs": [],
   "source": [
    "import os\n",
    "import sys\n",
    "import pandas as pd\n",
    "import networkx\n",
    "from networkx import (\n",
    "    draw,\n",
    "    DiGraph,\n",
    "    Graph,\n",
    ")\n",
    "\n",
    "%load_ext autoreload\n",
    "%autoreload 2\n",
    "%reload_ext autoreload\n",
    "from pyjedai.utils import print_clusters, print_blocks, print_candidate_pairs\n",
    "from pyjedai.evaluation import Evaluation\n",
    "from pyjedai.datamodel import Data\n",
    "\n",
    "d1 = pd.read_csv(\"./data/der/cora/cora.csv\", sep='|')\n",
    "gt = pd.read_csv(\"./data/der/cora/cora_gt.csv\", sep='|', header=None)\n",
    "attr = ['Entity Id','author', 'title']\n",
    "data = Data(\n",
    "    dataset_1=d1,\n",
    "    id_column_name_1='Entity Id',\n",
    "    ground_truth=gt,\n",
    "    attributes_1=attr\n",
    ")"
   ]
  },
  {
   "cell_type": "markdown",
   "id": "9c068252-4a69-405a-a320-c2875ec08ea5",
   "metadata": {},
   "source": [
    "### Block Building"
   ]
  },
  {
   "cell_type": "code",
   "execution_count": 5,
   "id": "9c1b6213-a218-40cf-bc72-801b77d28da9",
   "metadata": {},
   "outputs": [],
   "source": [
    "from pyjedai.block_building import (\n",
    "    StandardBlocking,\n",
    "    QGramsBlocking,\n",
    "    SuffixArraysBlocking,\n",
    "    ExtendedSuffixArraysBlocking,\n",
    "    ExtendedQGramsBlocking\n",
    ")"
   ]
  },
  {
   "cell_type": "code",
   "execution_count": 6,
   "id": "0bdf52b8-7385-4b18-b1d5-1546bd2ef32f",
   "metadata": {},
   "outputs": [
    {
     "data": {
      "application/vnd.jupyter.widget-view+json": {
       "model_id": "16841fef14b447649ebb7f2d202f3367",
       "version_major": 2,
       "version_minor": 0
      },
      "text/plain": [
       "Standard Blocking:   0%|          | 0/1295 [00:00<?, ?it/s]"
      ]
     },
     "metadata": {},
     "output_type": "display_data"
    }
   ],
   "source": [
    "blocks = StandardBlocking().build_blocks(data)"
   ]
  },
  {
   "cell_type": "markdown",
   "id": "709a3dfe-688e-4b94-834a-cb1f9f47a5f2",
   "metadata": {
    "tags": []
   },
   "source": [
    "#### EmbeddingsNNBlockBuilding"
   ]
  },
  {
   "cell_type": "code",
   "execution_count": null,
   "id": "3664fae2-7e65-4294-8709-3096d856fe08",
   "metadata": {},
   "outputs": [],
   "source": [
    "from pyjedai.vector_based_blocking import EmbeddingsNNBlockBuilding\n",
    "\n",
    "emb = EmbeddingsNNBlockBuilding(\n",
    "    vectorizer='bert',\n",
    "    similarity_search='faiss'\n",
    ")\n",
    "blocks = emb.build_blocks(data)"
   ]
  },
  {
   "cell_type": "code",
   "execution_count": null,
   "id": "fea99e9a-6a4e-4acd-8035-aa4432c448fb",
   "metadata": {},
   "outputs": [],
   "source": [
    "emb.evaluate(blocks)"
   ]
  },
  {
   "cell_type": "markdown",
   "id": "9f9e77d5-c906-431a-bdc7-68dc9c00cc31",
   "metadata": {},
   "source": [
    "### Block Cleaning"
   ]
  },
  {
   "cell_type": "code",
   "execution_count": 11,
   "id": "9c2c0e42-485a-444e-9161-975f30d21a02",
   "metadata": {},
   "outputs": [],
   "source": [
    "from pyjedai.block_cleaning import BlockFiltering"
   ]
  },
  {
   "cell_type": "code",
   "execution_count": 12,
   "id": "bf5c20ac-b16a-484d-82b0-61ecb9e7f3ea",
   "metadata": {},
   "outputs": [
    {
     "data": {
      "application/vnd.jupyter.widget-view+json": {
       "model_id": "560212ee317b452fb5c9fa54abc7f16e",
       "version_major": 2,
       "version_minor": 0
      },
      "text/plain": [
       "Block Filtering:   0%|          | 0/3 [00:00<?, ?it/s]"
      ]
     },
     "metadata": {},
     "output_type": "display_data"
    }
   ],
   "source": [
    "bf = BlockFiltering(ratio=0.9)\n",
    "filtered_blocks = bf.process(blocks, data)"
   ]
  },
  {
   "cell_type": "code",
   "execution_count": 13,
   "id": "25fd0be0-91c3-4d0b-b596-c66dccba3c79",
   "metadata": {},
   "outputs": [
    {
     "name": "stdout",
     "output_type": "stream",
     "text": [
      "***************************************************************************************************************************\n",
      "                                         Μethod:  Block Filtering\n",
      "***************************************************************************************************************************\n",
      "Method name: Block Filtering\n",
      "Parameters: \n",
      "\tRatio: 0.9\n",
      "Runtime: 0.0486 seconds\n",
      "───────────────────────────────────────────────────────────────────────────────────────────────────────────────────────────\n",
      "Performance:\n",
      "\tPrecision:      0.69% \n",
      "\tRecall:        99.99%\n",
      "\tF1-score:       1.37%\n",
      "───────────────────────────────────────────────────────────────────────────────────────────────────────────────────────────\n",
      "Classification report:\n",
      "\tTrue positives: 17183\n",
      "\tFalse positives: 2482992\n",
      "\tTrue negatives: -1645128\n",
      "\tFalse negatives: 1\n",
      "\tTotal comparisons: 2500175\n",
      "───────────────────────────────────────────────────────────────────────────────────────────────────────────────────────────\n"
     ]
    },
    {
     "data": {
      "text/plain": [
       "{'Precision %': 0.6872718909676323,\n",
       " 'Recall %': 99.99418063314711,\n",
       " 'F1 %': 1.3651608689900807,\n",
       " 'True Positives': 17183,\n",
       " 'False Positives': 2482992.0,\n",
       " 'True Negatives': -1645128.0,\n",
       " 'False Negatives': 1}"
      ]
     },
     "execution_count": 13,
     "metadata": {},
     "output_type": "execute_result"
    }
   ],
   "source": [
    "bf.evaluate(filtered_blocks, with_classification_report=True)"
   ]
  },
  {
   "cell_type": "markdown",
   "id": "9cd12048-bd0c-4571-ba70-488d46afcdd6",
   "metadata": {},
   "source": [
    "### Comparison Cleaning - Meta Blocking"
   ]
  },
  {
   "cell_type": "code",
   "execution_count": 14,
   "id": "7248d75f-215f-4efd-97f4-a2c9b969b9fc",
   "metadata": {},
   "outputs": [],
   "source": [
    "from pyjedai.block_cleaning import BlockPurging"
   ]
  },
  {
   "cell_type": "code",
   "execution_count": 15,
   "id": "a16bf7a0-180a-494b-8a0b-6a94d9c60deb",
   "metadata": {},
   "outputs": [
    {
     "data": {
      "application/vnd.jupyter.widget-view+json": {
       "model_id": "a88b9eedb24a412080305a31f8de4650",
       "version_major": 2,
       "version_minor": 0
      },
      "text/plain": [
       "Block Purging:   0%|          | 0/850 [00:00<?, ?it/s]"
      ]
     },
     "metadata": {},
     "output_type": "display_data"
    }
   ],
   "source": [
    "bp = BlockPurging(\n",
    "    smoothing_factor=0.008\n",
    ")\n",
    "cleaned_blocks = bp.process(blocks, data)"
   ]
  },
  {
   "cell_type": "code",
   "execution_count": 16,
   "id": "8d408a88-9386-4d40-80f5-6b089bc6ad4b",
   "metadata": {},
   "outputs": [
    {
     "name": "stdout",
     "output_type": "stream",
     "text": [
      "***************************************************************************************************************************\n",
      "                                         Μethod:  Block Purging\n",
      "***************************************************************************************************************************\n",
      "Method name: Block Purging\n",
      "Parameters: \n",
      "\tSmoothing factor: 0.008\n",
      "\tMax Comparisons per Block: 6.0\n",
      "Runtime: 0.0211 seconds\n",
      "───────────────────────────────────────────────────────────────────────────────────────────────────────────────────────────\n",
      "Performance:\n",
      "\tPrecision:     33.88% \n",
      "\tRecall:         0.61%\n",
      "\tF1-score:       1.19%\n",
      "───────────────────────────────────────────────────────────────────────────────────────────────────────────────────────────\n"
     ]
    },
    {
     "data": {
      "text/plain": [
       "{'Precision %': 33.876221498371336,\n",
       " 'Recall %': 0.6052141527001862,\n",
       " 'F1 %': 1.189183008404322,\n",
       " 'True Positives': 104,\n",
       " 'False Positives': 203.0,\n",
       " 'True Negatives': 820582.0,\n",
       " 'False Negatives': 17080}"
      ]
     },
     "execution_count": 16,
     "metadata": {},
     "output_type": "execute_result"
    }
   ],
   "source": [
    "bp.evaluate(cleaned_blocks)"
   ]
  },
  {
   "cell_type": "code",
   "execution_count": 17,
   "id": "1f7d75f3-6bed-482d-a572-c3b4927236a5",
   "metadata": {},
   "outputs": [],
   "source": [
    "from pyjedai.comparison_cleaning import (\n",
    "    WeightedEdgePruning,\n",
    "    WeightedNodePruning,\n",
    "    CardinalityEdgePruning,\n",
    "    CardinalityNodePruning,\n",
    "    BLAST,\n",
    "    ReciprocalCardinalityNodePruning,\n",
    "    # ReciprocalCardinalityWeightPruning,\n",
    "    ComparisonPropagation\n",
    ")"
   ]
  },
  {
   "cell_type": "code",
   "execution_count": 18,
   "id": "c92e0ca3-5591-4620-b3f4-012a23637416",
   "metadata": {},
   "outputs": [
    {
     "data": {
      "application/vnd.jupyter.widget-view+json": {
       "model_id": "c51b9001f31e4cadb63775c9d58dd4c2",
       "version_major": 2,
       "version_minor": 0
      },
      "text/plain": [
       "Weighted Edge Pruning:   0%|          | 0/1295 [00:00<?, ?it/s]"
      ]
     },
     "metadata": {},
     "output_type": "display_data"
    }
   ],
   "source": [
    "wep = WeightedEdgePruning(weighting_scheme='CBS')\n",
    "candidate_pairs_blocks = wep.process(filtered_blocks, data)"
   ]
  },
  {
   "cell_type": "code",
   "execution_count": 19,
   "id": "f469e387-e135-4945-b97f-da14d391c6b1",
   "metadata": {},
   "outputs": [
    {
     "name": "stdout",
     "output_type": "stream",
     "text": [
      "***************************************************************************************************************************\n",
      "                                         Μethod:  Weighted Edge Pruning\n",
      "***************************************************************************************************************************\n",
      "Method name: Weighted Edge Pruning\n",
      "Parameters: \n",
      "\tNode centric: False\n",
      "\tWeighting scheme: CBS\n",
      "Runtime: 7.0857 seconds\n",
      "───────────────────────────────────────────────────────────────────────────────────────────────────────────────────────────\n",
      "Performance:\n",
      "\tPrecision:      6.13% \n",
      "\tRecall:        98.53%\n",
      "\tF1-score:      11.53%\n",
      "───────────────────────────────────────────────────────────────────────────────────────────────────────────────────────────\n"
     ]
    },
    {
     "data": {
      "text/plain": [
       "{'Precision %': 6.1260524573318325,\n",
       " 'Recall %': 98.52770018621973,\n",
       " 'F1 %': 11.534910972506566,\n",
       " 'True Positives': 16931,\n",
       " 'False Positives': 259446,\n",
       " 'True Negatives': 578166.0,\n",
       " 'False Negatives': 253}"
      ]
     },
     "execution_count": 19,
     "metadata": {},
     "output_type": "execute_result"
    }
   ],
   "source": [
    "wep.evaluate(candidate_pairs_blocks)"
   ]
  },
  {
   "cell_type": "markdown",
   "id": "6aeff39a-b51b-4166-a55b-f8452ec258a7",
   "metadata": {},
   "source": [
    "### Entity Matching"
   ]
  },
  {
   "cell_type": "code",
   "execution_count": 20,
   "id": "f479d967-8bac-4870-99bd-68c01e75747b",
   "metadata": {},
   "outputs": [],
   "source": [
    "from pyjedai.matching import EntityMatching"
   ]
  },
  {
   "cell_type": "code",
   "execution_count": 21,
   "id": "ae7b1e6a-e937-44fe-bfe5-34696ea1156c",
   "metadata": {},
   "outputs": [],
   "source": [
    "attr = ['author', 'title']\n",
    "# or with weights\n",
    "attr = {\n",
    "    'author' : 0.6,\n",
    "    'title' : 0.4\n",
    "}\n",
    "\n",
    "EM = EntityMatching(\n",
    "    metric='jaccard', \n",
    "    similarity_threshold=0.5\n",
    "    # embedings=None, # gensim\n",
    "    # attributes=attr,\n",
    "    # qgram=2 # for ngram metric or jaccard\n",
    ")\n",
    "\n",
    "# pairs_graph = EM.predict(blocks, data)"
   ]
  },
  {
   "cell_type": "code",
   "execution_count": null,
   "id": "1c571fc2-08ad-468e-bc25-9e86ad475557",
   "metadata": {},
   "outputs": [],
   "source": [
    "pairs_graph = EM.predict(filtered_blocks, data)"
   ]
  },
  {
   "cell_type": "code",
   "execution_count": 23,
   "id": "bcb37bf3-1da1-4830-9659-41cf85a536a9",
   "metadata": {},
   "outputs": [
    {
     "data": {
      "application/vnd.jupyter.widget-view+json": {
       "model_id": "4fc805656aa14e43ae380f2c45c0dfbb",
       "version_major": 2,
       "version_minor": 0
      },
      "text/plain": [
       "Entity Matching (jaccard):   0%|          | 0/1282 [00:00<?, ?it/s]"
      ]
     },
     "metadata": {},
     "output_type": "display_data"
    }
   ],
   "source": [
    "attr = {\n",
    "    'author' : 0.6, \n",
    "    'title' : 0.4\n",
    "}\n",
    "\n",
    "EM = EntityMatching(\n",
    "    metric='jaccard', \n",
    "    similarity_threshold=0.5\n",
    "    # embedings=None, # gensim\n",
    "    # attributes=attr,\n",
    "    # qgram=2 # for ngram metric or jaccard\n",
    ")\n",
    "\n",
    "pairs_graph = EM.predict(candidate_pairs_blocks, data)"
   ]
  },
  {
   "cell_type": "code",
   "execution_count": 24,
   "id": "4d606bfc-3265-4042-93f3-22a1117c4886",
   "metadata": {},
   "outputs": [
    {
     "data": {
      "image/png": "[encoded data removed]",
      "text/plain": [
       "<Figure size 432x288 with 1 Axes>"
      ]
     },
     "metadata": {},
     "output_type": "display_data"
    }
   ],
   "source": [
    "draw(pairs_graph)"
   ]
  },
  {
   "cell_type": "code",
   "execution_count": 25,
   "id": "00bc2e82-9bc1-4119-b8cb-4a1c18afee19",
   "metadata": {},
   "outputs": [
    {
     "name": "stdout",
     "output_type": "stream",
     "text": [
      "***************************************************************************************************************************\n",
      "                                         Μethod:  Entity Matching\n",
      "***************************************************************************************************************************\n",
      "Method name: Entity Matching\n",
      "Parameters: \n",
      "\tMetric: jaccard\n",
      "\tEmbeddings: None\n",
      "\tAttributes: None\n",
      "\tSimilarity threshold: 0.5\n",
      "Runtime: 122.7382 seconds\n",
      "───────────────────────────────────────────────────────────────────────────────────────────────────────────────────────────\n",
      "Performance:\n",
      "\tPrecision:     97.41% \n",
      "\tRecall:        34.82%\n",
      "\tF1-score:      51.31%\n",
      "───────────────────────────────────────────────────────────────────────────────────────────────────────────────────────────\n"
     ]
    },
    {
     "data": {
      "text/plain": [
       "{'Precision %': 97.41168810027673,\n",
       " 'Recall %': 34.82309124767225,\n",
       " 'F1 %': 51.3053543104557,\n",
       " 'True Positives': 5984,\n",
       " 'False Positives': 159,\n",
       " 'True Negatives': 826506.0,\n",
       " 'False Negatives': 11200}"
      ]
     },
     "execution_count": 25,
     "metadata": {},
     "output_type": "execute_result"
    }
   ],
   "source": [
    "EM.evaluate(pairs_graph)"
   ]
  },
  {
   "cell_type": "markdown",
   "id": "93b72120-4578-4d5c-a408-a24ee78bf6cb",
   "metadata": {},
   "source": [
    "### Entity Clustering"
   ]
  },
  {
   "cell_type": "code",
   "execution_count": 38,
   "id": "500d2ef7-7017-4dba-bbea-acdba8abf5b7",
   "metadata": {},
   "outputs": [],
   "source": [
    "from pyjedai.clustering import ConnectedComponentsClustering, UniqueMappingClustering"
   ]
  },
  {
   "cell_type": "code",
   "execution_count": 47,
   "id": "aebd9329-3a4b-48c9-bd05-c7bd4aed3ca9",
   "metadata": {},
   "outputs": [
    {
     "name": "stdout",
     "output_type": "stream",
     "text": [
      "Unique Mapping Clustering can only be performed in Clean-Clean Entity Resolution.\n"
     ]
    }
   ],
   "source": [
    "UMC = UniqueMappingClustering()\n",
    "clusters = UMC.process(pairs_graph, data)"
   ]
  },
  {
   "cell_type": "code",
   "execution_count": 45,
   "id": "acd9efb2-11bb-4c59-9899-554c0af457a7",
   "metadata": {},
   "outputs": [],
   "source": [
    "CCC = ConnectedComponentsClustering()\n",
    "clusters = CCC.process(pairs_graph, data)"
   ]
  },
  {
   "cell_type": "code",
   "execution_count": 46,
   "id": "3d2aa574",
   "metadata": {},
   "outputs": [
    {
     "name": "stdout",
     "output_type": "stream",
     "text": [
      "***************************************************************************************************************************\n",
      "                                         Μethod:  Connected Components Clustering\n",
      "***************************************************************************************************************************\n",
      "Method name: Connected Components Clustering\n",
      "Parameters: \n",
      "Runtime: 0.0025 seconds\n",
      "───────────────────────────────────────────────────────────────────────────────────────────────────────────────────────────\n",
      "Performance:\n",
      "\tPrecision:     74.63% \n",
      "\tRecall:        70.94%\n",
      "\tF1-score:      72.74%\n",
      "───────────────────────────────────────────────────────────────────────────────────────────────────────────────────────────\n"
     ]
    },
    {
     "data": {
      "text/plain": [
       "{'Precision %': 74.63116008570555,\n",
       " 'Recall %': 70.94390130353817,\n",
       " 'F1 %': 72.74083355708704,\n",
       " 'True Positives': 12191,\n",
       " 'False Positives': 4144.0,\n",
       " 'True Negatives': 828728.0,\n",
       " 'False Negatives': 4993}"
      ]
     },
     "execution_count": 46,
     "metadata": {},
     "output_type": "execute_result"
    }
   ],
   "source": [
    "CCC.evaluate(clusters)"
   ]
  },
  {
   "cell_type": "markdown",
   "id": "7b11070f-7787-43f3-a050-730aea4b45d4",
   "metadata": {
    "tags": []
   },
   "source": [
    "# WorkFlow 2"
   ]
  },
  {
   "cell_type": "markdown",
   "id": "b3eedb4c-b86f-4f98-abf2-9d6f7d0271c5",
   "metadata": {},
   "source": [
    "### Similarity Joins"
   ]
  },
  {
   "cell_type": "code",
   "execution_count": 48,
   "id": "afd97b7e-4bf8-4256-b9fc-a301e413e834",
   "metadata": {},
   "outputs": [],
   "source": [
    "from pyjedai.joins import ΕJoin, TopKJoin"
   ]
  },
  {
   "cell_type": "code",
   "execution_count": 49,
   "id": "7bc8ba43-b059-4839-8958-0b31fab95e46",
   "metadata": {},
   "outputs": [
    {
     "data": {
      "application/vnd.jupyter.widget-view+json": {
       "model_id": "6e368e568603405db35ece5696df1cc7",
       "version_major": 2,
       "version_minor": 0
      },
      "text/plain": [
       "SchemaAgnostic-E Join (jaccard):   0%|          | 0/2590 [00:00<?, ?it/s]"
      ]
     },
     "metadata": {},
     "output_type": "display_data"
    }
   ],
   "source": [
    "SAEJ = ΕJoin(\n",
    "    similarity_threshold = 0.5,\n",
    "    metric = 'jaccard',\n",
    "    tokenization = 'qgrams_multiset',\n",
    "    qgrams = 2\n",
    ")\n",
    "g = SAEJ.fit(data)"
   ]
  },
  {
   "cell_type": "code",
   "execution_count": 50,
   "id": "22dadb82-0615-4738-8308-7435cee871ee",
   "metadata": {},
   "outputs": [
    {
     "data": {
      "text/plain": [
       "<networkx.classes.graph.Graph at 0x2d3d1e7d0c8>"
      ]
     },
     "execution_count": 50,
     "metadata": {},
     "output_type": "execute_result"
    }
   ],
   "source": [
    "g"
   ]
  },
  {
   "cell_type": "code",
   "execution_count": 51,
   "id": "8fe34c67-4679-4279-8e7e-35437783ecf3",
   "metadata": {},
   "outputs": [
    {
     "name": "stdout",
     "output_type": "stream",
     "text": [
      "***************************************************************************************************************************\n",
      "                                         Μethod:  SchemaAgnostic-E Join\n",
      "***************************************************************************************************************************\n",
      "Method name: SchemaAgnostic-E Join\n",
      "Parameters: \n",
      "\tsimilarity_threshold: 0.5\n",
      "\tmetric: jaccard\n",
      "\ttokenization: qgrams_multiset\n",
      "\tqgrams: 2\n",
      "Runtime: 55.8686 seconds\n",
      "───────────────────────────────────────────────────────────────────────────────────────────────────────────────────────────\n",
      "Performance:\n",
      "\tPrecision:     65.80% \n",
      "\tRecall:        93.03%\n",
      "\tF1-score:      77.08%\n",
      "───────────────────────────────────────────────────────────────────────────────────────────────────────────────────────────\n",
      "Classification report:\n",
      "\tTrue positives: 15987\n",
      "\tFalse positives: 8311\n",
      "\tTrue negatives: 828357\n",
      "\tFalse negatives: 1197\n",
      "\tTotal comparisons: 24298\n",
      "───────────────────────────────────────────────────────────────────────────────────────────────────────────────────────────\n"
     ]
    },
    {
     "data": {
      "text/plain": [
       "{'Precision %': 65.79553872746729,\n",
       " 'Recall %': 93.03421787709497,\n",
       " 'F1 %': 77.07921508124006,\n",
       " 'True Positives': 15987,\n",
       " 'False Positives': 8311,\n",
       " 'True Negatives': 828357.0,\n",
       " 'False Negatives': 1197}"
      ]
     },
     "execution_count": 51,
     "metadata": {},
     "output_type": "execute_result"
    }
   ],
   "source": [
    "SAEJ.evaluate(g, with_classification_report=True)"
   ]
  },
  {
   "cell_type": "code",
   "execution_count": 53,
   "id": "27c7bc36-c39b-4bab-a728-971195763728",
   "metadata": {
    "tags": []
   },
   "outputs": [
    {
     "data": {
      "application/vnd.jupyter.widget-view+json": {
       "model_id": "22e9e98c74ce4348b501b40d9980b75a",
       "version_major": 2,
       "version_minor": 0
      },
      "text/plain": [
       "Top-K Schema Agnostic Join (jaccard):   0%|          | 0/2590 [00:00<?, ?it/s]"
      ]
     },
     "metadata": {},
     "output_type": "display_data"
    }
   ],
   "source": [
    "TSAJ = TopKJoin(\n",
    "    K=20,\n",
    "    metric = 'jaccard',\n",
    "    tokenization = 'qgrams',\n",
    "    qgrams = 3\n",
    ")\n",
    "g = TSAJ.fit(data)"
   ]
  },
  {
   "cell_type": "code",
   "execution_count": 54,
   "id": "e1061a7a-9ccb-41ec-8bdf-42412d4d249c",
   "metadata": {},
   "outputs": [
    {
     "data": {
      "image/png": "[encoded data removed]",
      "text/plain": [
       "<Figure size 432x288 with 1 Axes>"
      ]
     },
     "metadata": {},
     "output_type": "display_data"
    }
   ],
   "source": [
    "draw(g)"
   ]
  },
  {
   "cell_type": "code",
   "execution_count": 55,
   "id": "a4c57244-0c98-4598-8ae2-06cdd0c48385",
   "metadata": {},
   "outputs": [
    {
     "name": "stdout",
     "output_type": "stream",
     "text": [
      "***************************************************************************************************************************\n",
      "                                         Μethod:  Top-K Schema Agnostic Join\n",
      "***************************************************************************************************************************\n",
      "Method name: Top-K Schema Agnostic Join\n",
      "Parameters: \n",
      "\tsimilarity_threshold: 0.25547445255474455\n",
      "\tK: 20\n",
      "\tmetric: jaccard\n",
      "\ttokenization: qgrams\n",
      "\tqgrams: 3\n",
      "Runtime: 43.3768 seconds\n",
      "───────────────────────────────────────────────────────────────────────────────────────────────────────────────────────────\n",
      "Performance:\n",
      "\tPrecision:     58.34% \n",
      "\tRecall:        63.75%\n",
      "\tF1-score:      60.92%\n",
      "───────────────────────────────────────────────────────────────────────────────────────────────────────────────────────────\n",
      "Classification report:\n",
      "\tTrue positives: 10954\n",
      "\tFalse positives: 7822\n",
      "\tTrue negatives: 823813\n",
      "\tFalse negatives: 6230\n",
      "\tTotal comparisons: 18776\n",
      "───────────────────────────────────────────────────────────────────────────────────────────────────────────────────────────\n"
     ]
    },
    {
     "data": {
      "text/plain": [
       "{'Precision %': 58.340434597358325,\n",
       " 'Recall %': 63.74534450651769,\n",
       " 'F1 %': 60.923248053392655,\n",
       " 'True Positives': 10954,\n",
       " 'False Positives': 7822,\n",
       " 'True Negatives': 823813.0,\n",
       " 'False Negatives': 6230}"
      ]
     },
     "execution_count": 55,
     "metadata": {},
     "output_type": "execute_result"
    }
   ],
   "source": [
    "TSAJ.evaluate(g, with_classification_report=True)"
   ]
  },
  {
   "cell_type": "markdown",
   "id": "e686ba55-cbbe-4133-8256-fa5339e70720",
   "metadata": {},
   "source": [
    "### Entity Clustering"
   ]
  },
  {
   "cell_type": "code",
   "execution_count": 56,
   "id": "e48627ef-0be6-45dd-b3ba-863818eadbfb",
   "metadata": {},
   "outputs": [],
   "source": [
    "from pyjedai.clustering import ConnectedComponentsClustering"
   ]
  },
  {
   "cell_type": "code",
   "execution_count": 57,
   "id": "a9d5a28d-79f0-479f-b154-f5f7e3661897",
   "metadata": {},
   "outputs": [],
   "source": [
    "CCC = ConnectedComponentsClustering()\n",
    "clusters = CCC.process(g, data)"
   ]
  },
  {
   "cell_type": "code",
   "execution_count": 58,
   "id": "f95539fe-2569-4569-8929-2f4220f14157",
   "metadata": {},
   "outputs": [
    {
     "name": "stdout",
     "output_type": "stream",
     "text": [
      "***************************************************************************************************************************\n",
      "                                         Μethod:  Connected Components Clustering\n",
      "***************************************************************************************************************************\n",
      "Method name: Connected Components Clustering\n",
      "Parameters: \n",
      "Runtime: 0.0040 seconds\n",
      "───────────────────────────────────────────────────────────────────────────────────────────────────────────────────────────\n",
      "Performance:\n",
      "\tPrecision:      2.05% \n",
      "\tRecall:       100.00%\n",
      "\tF1-score:       4.02%\n",
      "───────────────────────────────────────────────────────────────────────────────────────────────────────────────────────────\n"
     ]
    },
    {
     "data": {
      "text/plain": [
       "{'Precision %': 2.050927058655034,\n",
       " 'Recall %': 100.0,\n",
       " 'F1 %': 4.019418770152353,\n",
       " 'True Positives': 17184,\n",
       " 'False Positives': 820681.0,\n",
       " 'True Negatives': 17184.0,\n",
       " 'False Negatives': 0}"
      ]
     },
     "execution_count": 58,
     "metadata": {},
     "output_type": "execute_result"
    }
   ],
   "source": [
    "CCC.evaluate(clusters)"
   ]
  }
 ],
 "metadata": {
  "kernelspec": {
   "display_name": "Python 3 (ipykernel)",
   "language": "python",
   "name": "python3"
  },
  "language_info": {
   "codemirror_mode": {
    "name": "ipython",
    "version": 3
   },
   "file_extension": ".py",
   "mimetype": "text/x-python",
   "name": "python",
   "nbconvert_exporter": "python",
   "pygments_lexer": "ipython3",
   "version": "3.7.6"
  },
  "vscode": {
   "interpreter": {
    "hash": "824e5f4123a1a5b690f910010b2896a5dc6379151ca1c56e0c0465c15ebbd094"
   }
  }
 },
 "nbformat": 4,
 "nbformat_minor": 5
}
