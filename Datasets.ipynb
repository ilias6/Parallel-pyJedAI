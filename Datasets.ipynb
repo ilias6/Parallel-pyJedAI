{
 "cells": [
  {
   "cell_type": "markdown",
   "id": "4a4ff0ee-35dc-45d2-8112-34dfa4b7cdc8",
   "metadata": {},
   "source": [
    "<div align=\"center\"> \n",
    "    <hr>\n",
    "  <font size=\"6\"><b>Dev | Experiments</b> </font>\n",
    "   <hr>\n",
    "</div>"
   ]
  },
  {
   "cell_type": "markdown",
   "id": "5d7e7a30-db45-4726-95a6-62ea4ae75cfa",
   "metadata": {
    "jp-MarkdownHeadingCollapsed": true,
    "tags": []
   },
   "source": [
    "# Clean-Clean"
   ]
  },
  {
   "cell_type": "markdown",
   "id": "dc827bbb-00a8-4f61-8cb5-27813e26d1f6",
   "metadata": {},
   "source": [
    "## ABT/BUY"
   ]
  },
  {
   "cell_type": "code",
   "execution_count": null,
   "id": "e5c22ae0-1620-4083-b6db-58817cd66075",
   "metadata": {},
   "outputs": [],
   "source": []
  },
  {
   "cell_type": "code",
   "execution_count": null,
   "id": "cd9ab0b1-f169-49bb-b413-3652890c1ae8",
   "metadata": {},
   "outputs": [],
   "source": []
  },
  {
   "cell_type": "code",
   "execution_count": null,
   "id": "b74ee0a0-c895-42ea-8284-e497de9b35d3",
   "metadata": {},
   "outputs": [],
   "source": []
  },
  {
   "cell_type": "code",
   "execution_count": null,
   "id": "e8e3581b-58c6-4173-9b05-ee7c66666e5d",
   "metadata": {},
   "outputs": [],
   "source": []
  },
  {
   "cell_type": "code",
   "execution_count": null,
   "id": "6add3042-d635-4b35-8b94-1a1bb05be1b1",
   "metadata": {},
   "outputs": [],
   "source": []
  },
  {
   "cell_type": "markdown",
   "id": "fa78f6da-b55e-4132-9d7b-ff4e62441247",
   "metadata": {},
   "source": [
    "# Dirty "
   ]
  },
  {
   "cell_type": "markdown",
   "id": "cd9aa947-3ec8-4277-82a5-cc1630ad440f",
   "metadata": {},
   "source": [
    "## 1M"
   ]
  },
  {
   "cell_type": "code",
   "execution_count": null,
   "id": "578d4694-a10c-4238-95be-3e780a1123ac",
   "metadata": {},
   "outputs": [],
   "source": []
  },
  {
   "cell_type": "code",
   "execution_count": null,
   "id": "b7cb4fd5-c29b-426d-9253-92f8b348ea97",
   "metadata": {},
   "outputs": [],
   "source": []
  },
  {
   "cell_type": "code",
   "execution_count": null,
   "id": "ed009f16-27fc-4f65-aa71-c27ab6d8091a",
   "metadata": {},
   "outputs": [],
   "source": []
  }
 ],
 "metadata": {
  "kernelspec": {
   "display_name": "Python 3 (ipykernel)",
   "language": "python",
   "name": "python3"
  },
  "language_info": {
   "codemirror_mode": {
    "name": "ipython",
    "version": 3
   },
   "file_extension": ".py",
   "mimetype": "text/x-python",
   "name": "python",
   "nbconvert_exporter": "python",
   "pygments_lexer": "ipython3",
   "version": "3.10.5"
  }
 },
 "nbformat": 4,
 "nbformat_minor": 5
}
