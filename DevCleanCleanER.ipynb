{
 "cells": [
  {
   "cell_type": "markdown",
   "id": "96ec678e-b20c-4213-8616-542010f46342",
   "metadata": {},
   "source": [
    "<div align=\"center\"> \n",
    "    <hr>\n",
    "  <font size=\"6\"><b>Dev | Clean-Clean Entity Resolution Notebook</b> </font>\n",
    "   <hr>\n",
    "</div>"
   ]
  },
  {
   "cell_type": "code",
   "execution_count": null,
   "id": "eed013bf-c351-43a3-b600-9b35a6adfd83",
   "metadata": {},
   "outputs": [],
   "source": [
    "!python --version"
   ]
  },
  {
   "cell_type": "code",
   "execution_count": 3,
   "id": "6db50d83-51d8-4c95-9f27-30ef867338f2",
   "metadata": {},
   "outputs": [
    {
     "name": "stdout",
     "output_type": "stream",
     "text": [
      "The autoreload extension is already loaded. To reload it, use:\n",
      "  %reload_ext autoreload\n"
     ]
    }
   ],
   "source": [
    "import os\n",
    "import sys\n",
    "import pandas as pd\n",
    "import networkx\n",
    "from networkx import draw, Graph\n",
    "%load_ext autoreload\n",
    "%autoreload 2\n",
    "%reload_ext autoreload\n",
    "from pyjedai.utils import (\n",
    "    text_cleaning_method,\n",
    "    print_clusters,\n",
    "    print_blocks,\n",
    "    print_candidate_pairs\n",
    ")\n",
    "from pyjedai.evaluation import Evaluation, write\n",
    "from pyjedai.datamodel import Data\n",
    "d1 = pd.read_csv(\"./data/ccer/D2/abt.csv\", sep='|', engine='python', na_filter=False).astype(str)\n",
    "d2 = pd.read_csv(\"./data/ccer/D2/buy.csv\", sep='|', engine='python', na_filter=False).astype(str)\n",
    "gt = pd.read_csv(\"./data/ccer/D2/gt.csv\", sep='|', engine='python')\n",
    "\n",
    "data = Data(\n",
    "    dataset_1=d1,\n",
    "    attributes_1=['id','name','description'],\n",
    "    id_column_name_1='id',\n",
    "    dataset_2=d2,\n",
    "    attributes_2=['id','name','description'],\n",
    "    id_column_name_2='id',\n",
    "    ground_truth=gt,\n",
    ")"
   ]
  },
  {
   "cell_type": "markdown",
   "id": "9c068252-4a69-405a-a320-c2875ec08ea5",
   "metadata": {},
   "source": [
    "# Block Building"
   ]
  },
  {
   "cell_type": "code",
   "execution_count": 3,
   "id": "9c1b6213-a218-40cf-bc72-801b77d28da9",
   "metadata": {},
   "outputs": [],
   "source": [
    "from pyjedai.block_building import (\n",
    "    StandardBlocking,\n",
    "    QGramsBlocking,\n",
    "    ExtendedQGramsBlocking,\n",
    "    SuffixArraysBlocking,\n",
    "    ExtendedSuffixArraysBlocking,\n",
    ")\n",
    "\n",
    "from pyjedai.vector_based_blocking import EmbeddingsNNBlockBuilding"
   ]
  },
  {
   "cell_type": "code",
   "execution_count": 4,
   "id": "9741f0c4-6250-455f-9c88-b8dc61ab7d4d",
   "metadata": {},
   "outputs": [
    {
     "data": {
      "application/vnd.jupyter.widget-view+json": {
       "model_id": "d0fb70e9bb4b4bf49b055f870d887c82",
       "version_major": 2,
       "version_minor": 0
      },
      "text/plain": [
       "Suffix Arrays Blocking:   0%|          | 0/2152 [00:00<?, ?it/s]"
      ]
     },
     "metadata": {},
     "output_type": "display_data"
    }
   ],
   "source": [
    "qgb = SuffixArraysBlocking()\n",
    "blocks = qgb.build_blocks(data, attributes_1=['name'], attributes_2=['name'])"
   ]
  },
  {
   "cell_type": "code",
   "execution_count": 5,
   "id": "d2d9ae46-28fa-4438-87b7-ba901c75bd99",
   "metadata": {},
   "outputs": [
    {
     "name": "stdout",
     "output_type": "stream",
     "text": [
      "Method name: Suffix Arrays Blocking\n",
      "Method info: Creates one block for every suffix that appears in the attribute value tokens of at least two entities.\n",
      "Parameters: \n",
      "\tSuffix length: 6\n",
      "\tMaximum Block Size: 53\n",
      "Attributes from D1:\n",
      "\tname\n",
      "Attributes from D2:\n",
      "\tname\n",
      "Runtime: 0.1585 seconds\n"
     ]
    }
   ],
   "source": [
    "qgb.report()"
   ]
  },
  {
   "cell_type": "code",
   "execution_count": 6,
   "id": "b0ac846d-0f13-4b90-b4c8-688054ed7ffe",
   "metadata": {},
   "outputs": [
    {
     "name": "stdout",
     "output_type": "stream",
     "text": [
      "# Suffix Arrays Blocking Evaluation \n",
      "---\n",
      "Method name: Suffix Arrays Blocking\n",
      "Parameters: \n",
      "\tSuffix length: 6\n",
      "\tMaximum Block Size: 53\n",
      "Runtime: 0.1585 seconds\n",
      "Scores:\n",
      "\tPrecision:      1.41% \n",
      "\tRecall:        97.03%\n",
      "\tF1-score:       2.78%\n",
      "Classification report:\n",
      "\tTrue positives: 1044\n",
      "\tFalse positives: 73021\n",
      "\tTrue negatives: 1084723\n",
      "\tFalse negatives: 32\n",
      "\tTotal comparisons: 74065\n",
      "---\n"
     ]
    }
   ],
   "source": [
    "e = Evaluation(data)\n",
    "e.report(blocks, qgb.method_configuration())"
   ]
  },
  {
   "cell_type": "markdown",
   "id": "22db13c8-7a5a-40e9-9280-fe28b1b6353f",
   "metadata": {},
   "source": [
    "#### EmbeddingsNNBlockBuilding"
   ]
  },
  {
   "cell_type": "code",
   "execution_count": 8,
   "id": "b25e2601-a871-41dd-a48c-bf72382d0f13",
   "metadata": {},
   "outputs": [
    {
     "data": {
      "application/vnd.jupyter.widget-view+json": {
       "model_id": "fe337fa17aaf4893b3df680364840089",
       "version_major": 2,
       "version_minor": 0
      },
      "text/plain": [
       "Embeddings-NN Block Building:   0%|          | 0/2152 [00:00<?, ?it/s]"
      ]
     },
     "metadata": {},
     "output_type": "display_data"
    }
   ],
   "source": [
    "emb = EmbeddingsNNBlockBuilding(\n",
    "    vectorizer='bert',\n",
    "    similarity_search='faiss'\n",
    ")\n",
    "blocks = emb.build_blocks(data)"
   ]
  },
  {
   "cell_type": "code",
   "execution_count": null,
   "id": "72d16ae4-bc13-460f-a215-ac85016ded22",
   "metadata": {},
   "outputs": [],
   "source": [
    "Evaluation(data).report(blocks, emb.method_configuration())"
   ]
  },
  {
   "cell_type": "markdown",
   "id": "9f9e77d5-c906-431a-bdc7-68dc9c00cc31",
   "metadata": {
    "tags": []
   },
   "source": [
    "# Block Cleaning"
   ]
  },
  {
   "cell_type": "code",
   "execution_count": 7,
   "id": "9c2c0e42-485a-444e-9161-975f30d21a02",
   "metadata": {},
   "outputs": [],
   "source": [
    "from pyjedai.block_cleaning import BlockFiltering"
   ]
  },
  {
   "cell_type": "code",
   "execution_count": 8,
   "id": "bf5c20ac-b16a-484d-82b0-61ecb9e7f3ea",
   "metadata": {},
   "outputs": [
    {
     "data": {
      "application/vnd.jupyter.widget-view+json": {
       "model_id": "f94f87b3f8ea4c7595779a866d2a2081",
       "version_major": 2,
       "version_minor": 0
      },
      "text/plain": [
       "Block Filtering:   0%|          | 0/3 [00:00<?, ?it/s]"
      ]
     },
     "metadata": {},
     "output_type": "display_data"
    }
   ],
   "source": [
    "bf = BlockFiltering(ratio=0.8)\n",
    "filtered_blocks = bf.process(blocks, data, tqdm_disable=False)"
   ]
  },
  {
   "cell_type": "code",
   "execution_count": 9,
   "id": "25fd0be0-91c3-4d0b-b596-c66dccba3c79",
   "metadata": {},
   "outputs": [
    {
     "name": "stdout",
     "output_type": "stream",
     "text": [
      "# Block Filtering Evaluation \n",
      "---\n",
      "Method name: Block Filtering\n",
      "Parameters: \n",
      "\tRatio: 0.8\n",
      "Runtime: 0.0356 seconds\n",
      "Scores:\n",
      "\tPrecision:      2.80% \n",
      "\tRecall:        94.52%\n",
      "\tF1-score:       5.45%\n",
      "Classification report:\n",
      "\tTrue positives: 1017\n",
      "\tFalse positives: 35257\n",
      "\tTrue negatives: 1122460\n",
      "\tFalse negatives: 59\n",
      "\tTotal comparisons: 36274\n",
      "---\n"
     ]
    }
   ],
   "source": [
    "Evaluation(data).report(filtered_blocks, bf.method_configuration())"
   ]
  },
  {
   "cell_type": "markdown",
   "id": "9cd12048-bd0c-4571-ba70-488d46afcdd6",
   "metadata": {},
   "source": [
    "# Comparison Cleaning\n"
   ]
  },
  {
   "cell_type": "code",
   "execution_count": 10,
   "id": "725426e2-0af8-4295-baff-92653c841fdd",
   "metadata": {},
   "outputs": [],
   "source": [
    "from pyjedai.block_cleaning import BlockPurging"
   ]
  },
  {
   "cell_type": "code",
   "execution_count": 11,
   "id": "7997b2b6-9629-44f0-a66d-5bc4fea28fb6",
   "metadata": {},
   "outputs": [
    {
     "data": {
      "application/vnd.jupyter.widget-view+json": {
       "model_id": "e81c89bbf2cc4c1ab1f4ab010872d7df",
       "version_major": 2,
       "version_minor": 0
      },
      "text/plain": [
       "Block Purging:   0%|          | 0/100 [00:00<?, ?it/s]"
      ]
     },
     "metadata": {},
     "output_type": "display_data"
    }
   ],
   "source": [
    "cbbp = BlockPurging()\n",
    "cleaned_blocks = cbbp.process(filtered_blocks, data, tqdm_disable=False)"
   ]
  },
  {
   "cell_type": "code",
   "execution_count": 12,
   "id": "d8842b00-8765-449f-bdb7-f9b2206e91c7",
   "metadata": {},
   "outputs": [
    {
     "name": "stdout",
     "output_type": "stream",
     "text": [
      "Method name: Block Purging\n",
      "Method info: Discards the blocks exceeding a certain number of comparisons.\n",
      "Parameters: \n",
      "\tSmoothing factor: 1.025\n",
      "\tMax Comparisons per Block: 420.0\n",
      "Runtime: 0.0335 seconds\n"
     ]
    }
   ],
   "source": [
    "cbbp.report()"
   ]
  },
  {
   "cell_type": "code",
   "execution_count": 31,
   "id": "bfbef308-2ae0-4a2b-aec4-1bac09e426a1",
   "metadata": {},
   "outputs": [
    {
     "name": "stdout",
     "output_type": "stream",
     "text": [
      "# Block Purging Evaluation \n",
      "---\n",
      "Method name: Block Purging\n",
      "Parameters: \n",
      "\tSmoothing factor: 1.025\n",
      "\tMax Comparisons per Block: 1935.0\n",
      "Runtime: 0.0457 seconds\n",
      "Scores:\n",
      "\tPrecision:      1.49% \n",
      "\tRecall:        98.33%\n",
      "\tF1-score:       2.93%\n",
      "Classification report:\n",
      "\tTrue positives: 1058\n",
      "\tFalse positives: 70121\n",
      "\tTrue negatives: 1087637\n",
      "\tFalse negatives: 18\n",
      "\tTotal comparisons: 71179\n",
      "---\n"
     ]
    }
   ],
   "source": [
    "e = Evaluation(data)\n",
    "e.report(cleaned_blocks, cbbp.method_configuration())"
   ]
  },
  {
   "cell_type": "markdown",
   "id": "4920ae72-7ad6-42aa-932b-aaae20ace85a",
   "metadata": {},
   "source": [
    "## Meta Blocking"
   ]
  },
  {
   "cell_type": "code",
   "execution_count": 13,
   "id": "1f7d75f3-6bed-482d-a572-c3b4927236a5",
   "metadata": {},
   "outputs": [],
   "source": [
    "from pyjedai.comparison_cleaning import (\n",
    "    WeightedEdgePruning,\n",
    "    WeightedNodePruning,\n",
    "    CardinalityEdgePruning,\n",
    "    CardinalityNodePruning,\n",
    "    BLAST,\n",
    "    ReciprocalCardinalityNodePruning,\n",
    "    ReciprocalWeightedNodePruning,\n",
    "    ComparisonPropagation\n",
    ")"
   ]
  },
  {
   "cell_type": "code",
   "execution_count": 14,
   "id": "c92e0ca3-5591-4620-b3f4-012a23637416",
   "metadata": {},
   "outputs": [],
   "source": [
    "wep = CardinalityEdgePruning(weighting_scheme='X2')\n",
    "candidate_pairs_blocks = wep.process(filtered_blocks, data, tqdm_disable=True)"
   ]
  },
  {
   "cell_type": "code",
   "execution_count": 15,
   "id": "f469e387-e135-4945-b97f-da14d391c6b1",
   "metadata": {},
   "outputs": [
    {
     "name": "stdout",
     "output_type": "stream",
     "text": [
      "# Cardinality Edge Pruning Evaluation \n",
      "---\n",
      "Method name: Cardinality Edge Pruning\n",
      "Parameters: \n",
      "\tNode centric: False\n",
      "\tWeighting scheme: X2\n",
      "Runtime: 0.5406 seconds\n",
      "Scores:\n",
      "\tPrecision:     13.44% \n",
      "\tRecall:        89.13%\n",
      "\tF1-score:      23.35%\n",
      "Classification report:\n",
      "\tTrue positives: 959\n",
      "\tFalse positives: 6179\n",
      "\tTrue negatives: 1151480\n",
      "\tFalse negatives: 117\n",
      "\tTotal comparisons: 7138\n",
      "---\n"
     ]
    }
   ],
   "source": [
    "Evaluation(data).report(candidate_pairs_blocks, wep.method_configuration())"
   ]
  },
  {
   "cell_type": "markdown",
   "id": "6aeff39a-b51b-4166-a55b-f8452ec258a7",
   "metadata": {},
   "source": [
    "# Entity Matching\n",
    "\n",
    "It compares pairs of entity profiles, associating every pair with a similarity in [0,1]. Its output comprises the similarity graph, i.e., an undirected, weighted graph where the nodes correspond to entities and the edges connect pairs of compared entities."
   ]
  },
  {
   "cell_type": "code",
   "execution_count": 16,
   "id": "f479d967-8bac-4870-99bd-68c01e75747b",
   "metadata": {},
   "outputs": [],
   "source": [
    "from pyjedai.matching import EntityMatching"
   ]
  },
  {
   "cell_type": "code",
   "execution_count": 17,
   "id": "ae7b1e6a-e937-44fe-bfe5-34696ea1156c",
   "metadata": {},
   "outputs": [],
   "source": [
    "EM = EntityMatching(\n",
    "    metric='sorensen_dice',\n",
    "    similarity_threshold=0.5,\n",
    "    attributes = ['description', 'name']\n",
    ")\n",
    "\n",
    "pairs_graph = EM.predict(candidate_pairs_blocks, data, tqdm_disable=True)"
   ]
  },
  {
   "cell_type": "code",
   "execution_count": 27,
   "id": "ec19e96b-80f7-4833-a8d2-2191d3340ae6",
   "metadata": {},
   "outputs": [],
   "source": [
    "# pairs = write(pairs_graph, data)"
   ]
  },
  {
   "cell_type": "code",
   "execution_count": 28,
   "id": "4d606bfc-3265-4042-93f3-22a1117c4886",
   "metadata": {},
   "outputs": [
    {
     "data": {
      "image/png": "[encoded data removed]",
      "text/plain": [
       "<Figure size 432x288 with 1 Axes>"
      ]
     },
     "metadata": {},
     "output_type": "display_data"
    }
   ],
   "source": [
    "draw(pairs_graph)"
   ]
  },
  {
   "cell_type": "code",
   "execution_count": 29,
   "id": "4a2a5f4a-6ffa-4c16-ae49-ff4fec4c467d",
   "metadata": {},
   "outputs": [
    {
     "name": "stdout",
     "output_type": "stream",
     "text": [
      "# Entity Matching Evaluation \n",
      "---\n",
      "Method name: Entity Matching\n",
      "Parameters: \n",
      "\tMetric: sorensen_dice\n",
      "\tEmbeddings: None\n",
      "\tAttributes: ['description', 'name']\n",
      "\tSimilarity threshold: 0.5\n",
      "Runtime: 15.4608 seconds\n",
      "Scores:\n",
      "\tPrecision:      2.78% \n",
      "\tRecall:        23.33%\n",
      "\tF1-score:       4.97%\n",
      "Classification report:\n",
      "\tTrue positives: 251\n",
      "\tFalse positives: 8764\n",
      "\tTrue negatives: 1148187\n",
      "\tFalse negatives: 825\n",
      "\tTotal comparisons: 9015\n",
      "---\n"
     ]
    }
   ],
   "source": [
    "Evaluation(data).report(pairs_graph, EM.method_configuration())"
   ]
  },
  {
   "cell_type": "markdown",
   "id": "93b72120-4578-4d5c-a408-a24ee78bf6cb",
   "metadata": {},
   "source": [
    "# Entity Clustering\n",
    "\n",
    "It takes as input the similarity graph produced by Entity Matching and partitions it into a set of equivalence clusters, with every cluster corresponding to a distinct real-world object."
   ]
  },
  {
   "cell_type": "code",
   "execution_count": 30,
   "id": "500d2ef7-7017-4dba-bbea-acdba8abf5b7",
   "metadata": {},
   "outputs": [],
   "source": [
    "from pyjedai.clustering import ConnectedComponentsClustering"
   ]
  },
  {
   "cell_type": "code",
   "execution_count": 31,
   "id": "aebd9329-3a4b-48c9-bd05-c7bd4aed3ca9",
   "metadata": {},
   "outputs": [],
   "source": [
    "ccc = ConnectedComponentsClustering()\n",
    "clusters = ccc.process(pairs_graph)"
   ]
  },
  {
   "cell_type": "code",
   "execution_count": 32,
   "id": "5b52a534-691a-48be-b5e9-c073dc04b154",
   "metadata": {},
   "outputs": [
    {
     "name": "stdout",
     "output_type": "stream",
     "text": [
      "Method name: Connected Components Clustering\n",
      "Method info: Gets equivalence clusters from the transitive closure of the similarity graph.\n",
      "Runtime: 0.0072 seconds\n"
     ]
    }
   ],
   "source": [
    "ccc.report()"
   ]
  },
  {
   "cell_type": "code",
   "execution_count": 33,
   "id": "00bc2e82-9bc1-4119-b8cb-4a1c18afee19",
   "metadata": {},
   "outputs": [
    {
     "name": "stdout",
     "output_type": "stream",
     "text": [
      "#  Evaluation \n",
      "---\n",
      "Scores:\n",
      "\tPrecision:      0.10% \n",
      "\tRecall:        88.66%\n",
      "\tF1-score:       0.20%\n",
      "Classification report:\n",
      "\tTrue positives: 954\n",
      "\tFalse positives: 970235\n",
      "\tTrue negatives: 187419\n",
      "\tFalse negatives: 122\n",
      "\tTotal comparisons: 971189\n",
      "---\n"
     ]
    }
   ],
   "source": [
    "Evaluation(data).report(clusters)"
   ]
  },
  {
   "cell_type": "code",
   "execution_count": 34,
   "id": "074019c0-4b30-4270-a0c2-680149e0a345",
   "metadata": {
    "tags": []
   },
   "outputs": [
    {
     "data": {
      "image/png": "[encoded data removed]",
      "text/plain": [
       "<Figure size 432x288 with 2 Axes>"
      ]
     },
     "metadata": {
      "needs_background": "light"
     },
     "output_type": "display_data"
    }
   ],
   "source": [
    "e.confusion_matrix()"
   ]
  },
  {
   "cell_type": "code",
   "execution_count": null,
   "id": "6f8efe1d-b981-4fba-b5cf-2b28fb189ee2",
   "metadata": {},
   "outputs": [],
   "source": []
  }
 ],
 "metadata": {
  "kernelspec": {
   "display_name": "Python 3 (ipykernel)",
   "language": "python",
   "name": "python3"
  },
  "language_info": {
   "codemirror_mode": {
    "name": "ipython",
    "version": 3
   },
   "file_extension": ".py",
   "mimetype": "text/x-python",
   "name": "python",
   "nbconvert_exporter": "python",
   "pygments_lexer": "ipython3",
   "version": "3.10.5"
  }
 },
 "nbformat": 4,
 "nbformat_minor": 5
}
