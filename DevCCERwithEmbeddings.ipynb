{
 "cells": [
  {
   "cell_type": "markdown",
   "id": "96ec678e-b20c-4213-8616-542010f46342",
   "metadata": {},
   "source": [
    "<div align=\"center\"> \n",
    "    <hr>\n",
    "  <font size=\"6\"><b>Dev | Clean-Clean Entity Resolution Notebook <br>with pre-trained embeddings and FAISS</b> </font>\n",
    "   <hr>\n",
    "</div>"
   ]
  },
  {
   "cell_type": "code",
   "execution_count": 1,
   "id": "eed013bf-c351-43a3-b600-9b35a6adfd83",
   "metadata": {},
   "outputs": [
    {
     "name": "stdout",
     "output_type": "stream",
     "text": [
      "Python 3.9.1\n"
     ]
    }
   ],
   "source": [
    "!python --version"
   ]
  },
  {
   "cell_type": "code",
   "execution_count": 23,
   "id": "6db50d83-51d8-4c95-9f27-30ef867338f2",
   "metadata": {},
   "outputs": [
    {
     "name": "stdout",
     "output_type": "stream",
     "text": [
      "The autoreload extension is already loaded. To reload it, use:\n",
      "  %reload_ext autoreload\n"
     ]
    }
   ],
   "source": [
    "import os\n",
    "import sys\n",
    "import pandas as pd\n",
    "import networkx\n",
    "from networkx import draw, Graph\n",
    "%load_ext autoreload\n",
    "%autoreload 2\n",
    "%reload_ext autoreload\n",
    "from pyjedai.utils import (\n",
    "    text_cleaning_method,\n",
    "    print_clusters,\n",
    "    print_blocks,\n",
    "    print_candidate_pairs\n",
    ")\n",
    "from pyjedai.evaluation import Evaluation, write\n",
    "from pyjedai.datamodel import Data\n",
    "d1 = pd.read_csv(\"./data/test/ccer/abt_100.csv\", sep='|', engine='python', na_filter=False).astype(str)\n",
    "d2 = pd.read_csv(\"./data/test/ccer/buy_100.csv\", sep='|', engine='python', na_filter=False).astype(str)\n",
    "gt = pd.read_csv(\"./data/test/ccer/gt_100.csv\", sep='|', engine='python')\n",
    "\n",
    "# d1 = pd.read_csv(\"./data/ccer/D2/abt.csv\", sep='|', engine='python', na_filter=False).astype(str)\n",
    "# d2 = pd.read_csv(\"./data/ccer/D2/buy.csv\", sep='|', engine='python', na_filter=False).astype(str)\n",
    "# gt = pd.read_csv(\"./data/ccer/D2/gt.csv\", sep='|', engine='python')\n",
    "\n",
    "\n",
    "data = Data(dataset_1=d1,\n",
    "            # attributes_1=['id','name','description'],\n",
    "            id_column_name_1='id',\n",
    "            dataset_2=d2,\n",
    "            # attributes_2=['id','name','description'],\n",
    "            id_column_name_2='id',\n",
    "            ground_truth=gt)"
   ]
  },
  {
   "cell_type": "markdown",
   "id": "9c068252-4a69-405a-a320-c2875ec08ea5",
   "metadata": {},
   "source": [
    "# Block Building\n",
    "\n",
    "## FAISS\n",
    "\n",
    "faiss.IndexIVFFlat is an implementation of an inverted file index with coarse quantization. This index is used to efficiently search for nearest neighbors of a query vector in a large dataset of vectors. Here's a brief explanation of the parameters used in this index:\n",
    "\n",
    "- `d`: The dimension of the input vectors. Each input vector should have d elements.\n",
    "- `nlist`: The number of cells (or clusters) to divide the dataset into. This determines the number of inverted lists in the index, and hence the maximum number of vectors that can be stored in the index. Larger values of nlist will generally result in more accurate search results, but may also increase the memory requirements of the index and the time required to perform searches.\n",
    "- `quantizer`: An instance of a quantizer object that is used to compress the vectors before they are added to the index. The quantizer object should implement a train method that learns the quantization function from a set of input vectors, and a compress method that compresses a vector into an integer code. FAISS provides several built-in quantizer objects, such as IndexFlatL2 and IndexScalarQuantizer.\n",
    "- `metric`: The distance metric used to measure the similarity between vectors. The metric should be one of the strings defined in the faiss.METRIC_TYPES list, such as \"l2\" for Euclidean distance or \"ip\" for inner product.\n",
    "- `nprobe`: The number of cells (or clusters) to search during a query. This parameter determines the tradeoff between accuracy and speed during searches. Larger values of nprobe will generally result in more accurate search results, but may also increase the time required to perform searches.\n",
    "\n"
   ]
  },
  {
   "cell_type": "code",
   "execution_count": 38,
   "id": "9c1b6213-a218-40cf-bc72-801b77d28da9",
   "metadata": {},
   "outputs": [],
   "source": [
    "from pyjedai.vector_based_blocking import EmbeddingsNNBlockBuilding"
   ]
  },
  {
   "cell_type": "code",
   "execution_count": 39,
   "id": "b25e2601-a871-41dd-a48c-bf72382d0f13",
   "metadata": {},
   "outputs": [
    {
     "data": {
      "application/vnd.jupyter.widget-view+json": {
       "model_id": "7a86544ae671437899adfcc82d1f5e72",
       "version_major": 2,
       "version_minor": 0
      },
      "text/plain": [
       "Embeddings-NN Block Building [word2vec, faiss]:   0%|          | 0/200 [00:00<?, ?it/s]"
      ]
     },
     "metadata": {},
     "output_type": "display_data"
    },
    {
     "name": "stdout",
     "output_type": "stream",
     "text": [
      "Device selected:  cpu\n"
     ]
    }
   ],
   "source": [
    "emb = EmbeddingsNNBlockBuilding(vectorizer='word2vec',\n",
    "                                similarity_search='faiss')\n",
    "blocks = emb.build_blocks(data, top_k=100, num_of_clusters=1)\n",
    "\n"
   ]
  },
  {
   "cell_type": "code",
   "execution_count": 40,
   "id": "72d16ae4-bc13-460f-a215-ac85016ded22",
   "metadata": {},
   "outputs": [
    {
     "name": "stderr",
     "output_type": "stream",
     "text": [
      "[autoreload of pyjedai.vector_based_blocking failed: Traceback (most recent call last):\n",
      "  File \"C:\\Users\\nikol\\AppData\\Roaming\\Python\\Python310\\site-packages\\IPython\\extensions\\autoreload.py\", line 245, in check\n",
      "    superreload(m, reload, self.old_objects)\n",
      "  File \"C:\\Users\\nikol\\AppData\\Roaming\\Python\\Python310\\site-packages\\IPython\\extensions\\autoreload.py\", line 394, in superreload\n",
      "    module = reload(module)\n",
      "  File \"C:\\Users\\nikol\\AppData\\Local\\Programs\\Python\\Python310\\lib\\imp.py\", line 315, in reload\n",
      "    return importlib.reload(module)\n",
      "  File \"C:\\Users\\nikol\\AppData\\Local\\Programs\\Python\\Python310\\lib\\importlib\\__init__.py\", line 169, in reload\n",
      "    _bootstrap._exec(spec, module)\n",
      "  File \"<frozen importlib._bootstrap>\", line 619, in _exec\n",
      "  File \"<frozen importlib._bootstrap_external>\", line 879, in exec_module\n",
      "  File \"<frozen importlib._bootstrap_external>\", line 1017, in get_code\n",
      "  File \"<frozen importlib._bootstrap_external>\", line 947, in source_to_code\n",
      "  File \"<frozen importlib._bootstrap>\", line 241, in _call_with_frames_removed\n",
      "  File \"C:\\Users\\nikol\\Desktop\\GitHub\\pyJedAI-Dev\\pyjedai\\vector_based_blocking.py\", line 264\n",
      "    <<<<<<< Updated upstream\n",
      "    ^^\n",
      "SyntaxError: invalid syntax\n",
      "]\n",
      "[autoreload of pyjedai.vector_based_blocking failed: Traceback (most recent call last):\n",
      "  File \"C:\\Users\\nikol\\AppData\\Roaming\\Python\\Python310\\site-packages\\IPython\\extensions\\autoreload.py\", line 245, in check\n",
      "    superreload(m, reload, self.old_objects)\n",
      "  File \"C:\\Users\\nikol\\AppData\\Roaming\\Python\\Python310\\site-packages\\IPython\\extensions\\autoreload.py\", line 394, in superreload\n",
      "    module = reload(module)\n",
      "  File \"C:\\Users\\nikol\\AppData\\Local\\Programs\\Python\\Python310\\lib\\imp.py\", line 315, in reload\n",
      "    return importlib.reload(module)\n",
      "  File \"C:\\Users\\nikol\\AppData\\Local\\Programs\\Python\\Python310\\lib\\importlib\\__init__.py\", line 169, in reload\n",
      "    _bootstrap._exec(spec, module)\n",
      "  File \"<frozen importlib._bootstrap>\", line 619, in _exec\n",
      "  File \"<frozen importlib._bootstrap_external>\", line 879, in exec_module\n",
      "  File \"<frozen importlib._bootstrap_external>\", line 1017, in get_code\n",
      "  File \"<frozen importlib._bootstrap_external>\", line 947, in source_to_code\n",
      "  File \"<frozen importlib._bootstrap>\", line 241, in _call_with_frames_removed\n",
      "  File \"C:\\Users\\nikol\\Desktop\\GitHub\\pyJedAI-Dev\\pyjedai\\vector_based_blocking.py\", line 264\n",
      "    <<<<<<< Updated upstream\n",
      "    ^^\n",
      "SyntaxError: invalid syntax\n",
      "]\n"
     ]
    },
    {
     "name": "stdout",
     "output_type": "stream",
     "text": [
      "***************************************************************************************************************************\n",
      "                                         Μethod:  Embeddings-NN Block Building\n",
      "***************************************************************************************************************************\n",
      "Method name: Embeddings-NN Block Building\n",
      "Parameters: \n",
      "\tVectorizer: word2vec\n",
      "\tSimilarity-Search: faiss\n",
      "\tTop-K: 100\n",
      "\tVector size: 300\n",
      "Runtime: 92.6175 seconds\n",
      "───────────────────────────────────────────────────────────────────────────────────────────────────────────────────────────\n",
      "Performance:\n",
      "\tPrecision:      0.49% \n",
      "\tRecall:       100.00%\n",
      "\tF1-score:       0.98%\n",
      "───────────────────────────────────────────────────────────────────────────────────────────────────────────────────────────\n",
      "Classification report:\n",
      "\tTrue positives: 49\n",
      "\tFalse positives: 9951\n",
      "\tTrue negatives: 49\n",
      "\tFalse negatives: 0\n",
      "\tTotal comparisons: 10000\n",
      "───────────────────────────────────────────────────────────────────────────────────────────────────────────────────────────\n",
      "Statistics:\n",
      " FAISS:\n",
      "\tNumber of entries in each list:  1\n",
      "\tIndices shape returned after search: (100, 100)\n",
      "───────────────────────────────────────────────────────────────────────────────────────────────────────────────────────────\n"
     ]
    },
    {
     "name": "stderr",
     "output_type": "stream",
     "text": [
      "[autoreload of pyjedai.vector_based_blocking failed: Traceback (most recent call last):\n",
      "  File \"C:\\Users\\nikol\\AppData\\Roaming\\Python\\Python310\\site-packages\\IPython\\extensions\\autoreload.py\", line 245, in check\n",
      "    superreload(m, reload, self.old_objects)\n",
      "  File \"C:\\Users\\nikol\\AppData\\Roaming\\Python\\Python310\\site-packages\\IPython\\extensions\\autoreload.py\", line 394, in superreload\n",
      "    module = reload(module)\n",
      "  File \"C:\\Users\\nikol\\AppData\\Local\\Programs\\Python\\Python310\\lib\\imp.py\", line 315, in reload\n",
      "    return importlib.reload(module)\n",
      "  File \"C:\\Users\\nikol\\AppData\\Local\\Programs\\Python\\Python310\\lib\\importlib\\__init__.py\", line 169, in reload\n",
      "    _bootstrap._exec(spec, module)\n",
      "  File \"<frozen importlib._bootstrap>\", line 619, in _exec\n",
      "  File \"<frozen importlib._bootstrap_external>\", line 879, in exec_module\n",
      "  File \"<frozen importlib._bootstrap_external>\", line 1017, in get_code\n",
      "  File \"<frozen importlib._bootstrap_external>\", line 947, in source_to_code\n",
      "  File \"<frozen importlib._bootstrap>\", line 241, in _call_with_frames_removed\n",
      "  File \"C:\\Users\\nikol\\Desktop\\GitHub\\pyJedAI-Dev\\pyjedai\\vector_based_blocking.py\", line 264\n",
      "    <<<<<<< Updated upstream\n",
      "    ^^\n",
      "SyntaxError: invalid syntax\n",
      "]\n"
     ]
    },
    {
     "data": {
      "text/plain": [
       "{'Precision %': 0.49,\n",
       " 'Recall %': 100.0,\n",
       " 'F1 %': 0.9752214150661758,\n",
       " 'True Positives': 49,\n",
       " 'False Positives': 9951,\n",
       " 'True Negatives': 49,\n",
       " 'False Negatives': 0}"
      ]
     },
     "execution_count": 40,
     "metadata": {},
     "output_type": "execute_result"
    }
   ],
   "source": [
    "emb.evaluate(blocks, with_classification_report=True, with_stats=True)"
   ]
  },
  {
   "cell_type": "markdown",
   "id": "6aeff39a-b51b-4166-a55b-f8452ec258a7",
   "metadata": {},
   "source": [
    "# Entity Matching"
   ]
  },
  {
   "cell_type": "code",
   "execution_count": 105,
   "id": "f479d967-8bac-4870-99bd-68c01e75747b",
   "metadata": {},
   "outputs": [],
   "source": [
    "from pyjedai.matching import EntityMatching"
   ]
  },
  {
   "cell_type": "code",
   "execution_count": 116,
   "id": "ae7b1e6a-e937-44fe-bfe5-34696ea1156c",
   "metadata": {},
   "outputs": [],
   "source": [
    "EM = EntityMatching(metric='cosine_vector_similarity',\n",
    "                    similarity_threshold=0)\n",
    "\n",
    "pairs_graph = EM.predict(blocks,\n",
    "                         data,\n",
    "                         tqdm_disable=True,\n",
    "                         vectors_d1=emb.vectors_1,\n",
    "                         vectors_d2=emb.vectors_2)"
   ]
  },
  {
   "cell_type": "code",
   "execution_count": 120,
   "id": "4d606bfc-3265-4042-93f3-22a1117c4886",
   "metadata": {},
   "outputs": [
    {
     "data": {
      "image/png": "[encoded data removed]",
      "text/plain": [
       "<Figure size 640x480 with 1 Axes>"
      ]
     },
     "metadata": {},
     "output_type": "display_data"
    }
   ],
   "source": [
    "draw(pairs_graph)"
   ]
  },
  {
   "cell_type": "code",
   "execution_count": 121,
   "id": "4a2a5f4a-6ffa-4c16-ae49-ff4fec4c467d",
   "metadata": {},
   "outputs": [
    {
     "name": "stdout",
     "output_type": "stream",
     "text": [
      "***************************************************************************************************************************\n",
      "                                         Μethod:  Entity Matching\n",
      "***************************************************************************************************************************\n",
      "Method name: Entity Matching\n",
      "Parameters: \n",
      "\tMetric: cosine_vector_similarity\n",
      "\tAttributes: None\n",
      "\tSimilarity threshold: 0\n",
      "Runtime: 9.1126 seconds\n",
      "───────────────────────────────────────────────────────────────────────────────────────────────────────────────────────────\n",
      "Performance:\n",
      "\tPrecision:      0.95% \n",
      "\tRecall:        61.06%\n",
      "\tF1-score:       1.87%\n",
      "───────────────────────────────────────────────────────────────────────────────────────────────────────────────────────────\n"
     ]
    },
    {
     "data": {
      "text/plain": [
       "{'Precision %': 0.9484899231968587,\n",
       " 'Recall %': 61.05947955390335,\n",
       " 'F1 %': 1.8679631525076765,\n",
       " 'True Positives': 657,\n",
       " 'False Positives': 68611,\n",
       " 'True Negatives': 1088746,\n",
       " 'False Negatives': 419}"
      ]
     },
     "execution_count": 121,
     "metadata": {},
     "output_type": "execute_result"
    }
   ],
   "source": [
    "EM.evaluate(pairs_graph)"
   ]
  },
  {
   "cell_type": "code",
   "execution_count": 122,
   "id": "a12b2b98-72e4-4933-975c-e15023fa801a",
   "metadata": {},
   "outputs": [
    {
     "name": "stdout",
     "output_type": "stream",
     "text": [
      "Distribution-% of predicted scores:  [0.0, 0.011549344574695386, 0.3291563203788185, 1.20113183576832, 5.5956574464399145, 18.011202864237454, 28.473465380839635, 29.37864526188139, 15.965525206444534, 0.7276087082058094]\n"
     ]
    },
    {
     "data": {
      "image/png": "[encoded data removed]",
      "text/plain": [
       "<Figure size 1000x600 with 1 Axes>"
      ]
     },
     "metadata": {},
     "output_type": "display_data"
    }
   ],
   "source": [
    "EM.plot_distribution_of_scores()"
   ]
  },
  {
   "cell_type": "markdown",
   "id": "93b72120-4578-4d5c-a408-a24ee78bf6cb",
   "metadata": {},
   "source": [
    "# Entity Clustering"
   ]
  },
  {
   "cell_type": "code",
   "execution_count": 129,
   "id": "500d2ef7-7017-4dba-bbea-acdba8abf5b7",
   "metadata": {},
   "outputs": [],
   "source": [
    "from pyjedai.clustering import ConnectedComponentsClustering, UniqueMappingClustering"
   ]
  },
  {
   "cell_type": "code",
   "execution_count": 130,
   "id": "aebd9329-3a4b-48c9-bd05-c7bd4aed3ca9",
   "metadata": {},
   "outputs": [
    {
     "name": "stdout",
     "output_type": "stream",
     "text": [
      "[{1025, 1026, 1527, 1029, 1544, 1036, 1549, 1041, 1553, 1052, 2084, 1062, 1063, 1064, 557, 1075, 1076, 1077, 1078, 1080, 2106, 1084, 1085, 1086, 1087, 1089, 1093, 1095, 584, 76, 1100, 1101, 1102, 596, 100, 615, 2151, 106, 116, 121, 1157, 134, 137, 654, 1167, 1169, 1179, 160, 1185, 1709, 192, 194, 1237, 1244, 1245, 227, 233, 248, 1275, 778, 783, 288, 295, 1334, 824, 312, 825, 828, 1341, 831, 834, 1346, 1874, 344, 860, 861, 869, 358, 365, 371, 373, 1413, 1414, 397, 403, 406, 407, 410, 411, 1440, 1456, 434, 953, 1982, 453, 461, 477, 1503, 998, 491, 1515, 505, 1010, 1013, 1014, 1015, 1016, 1017, 1018, 1020, 1021, 1022, 1023}, {522, 523, 1039, 2080, 2081, 1576, 558, 559, 565, 566, 567, 1079, 568, 569, 571, 2102, 2104, 578, 579, 580, 581, 582, 583, 1090, 2123, 590, 591, 2126, 1617, 1620, 1621, 1622, 1623, 600, 601, 1624, 1625, 1626, 1627, 2137, 607, 608, 2138, 610, 1639, 616, 617, 619, 1653, 1654, 1655, 1656, 634, 637, 648, 649, 650, 651, 652, 653, 1170, 1686, 665, 672, 673, 675, 678, 680, 681, 682, 1710, 1711, 1713, 1715, 693, 1721, 1722, 1724, 1727, 705, 1730, 707, 708, 1731, 1732, 1739, 719, 1744, 721, 1745, 723, 1747, 1750, 1751, 1753, 1754, 1755, 1756, 1757, 734, 735, 1758, 1759, 738, 739, 1760, 1761, 742, 743, 744, 749, 750, 751, 753, 1777, 755, 1782, 759, 765, 1791, 1794, 1806, 1808, 801, 802, 827, 829, 1866, 844, 846, 850, 855, 1897, 874, 1899, 876, 878, 1902, 1903, 1904, 378, 895, 1939, 408, 921, 1945, 1946, 924, 1955, 932, 1956, 1957, 1959, 1960, 1962, 939, 940, 1976, 1977, 1981, 459, 978, 981, 2007, 985, 986, 987, 990, 991, 495, 497, 498, 499, 500, 1012, 502, 503, 504, 501, 506, 507, 1526}, {128, 260, 1293, 657, 658, 659, 660, 1045, 661, 1685, 1560, 284, 1692, 1567, 1568, 1188, 1196, 1582, 311, 1081, 1338, 1091, 2115, 1733, 1734, 1735, 1736, 1868, 1869, 1103, 1104, 1360, 338, 851, 1361, 1363, 1494, 1499, 1501, 2142, 1894, 999, 1513, 1514, 1004, 1401, 1404, 1405, 127}, {776, 392, 1034, 922, 1311, 292, 1192, 431, 432, 433, 53, 1082, 955, 956, 957, 958, 2111, 1345, 1475, 196, 1476, 198, 1477, 1995, 1615, 1871, 348, 1376, 239, 2034, 2035}, {512, 513, 514, 515, 3, 2048, 2049, 1538, 2056, 1033, 1540, 2050, 12, 13, 524, 2060, 1046, 22, 26, 539, 540, 1562, 546, 547, 35, 549, 2082, 551, 552, 1571, 1066, 555, 44, 556, 2087, 1577, 560, 561, 562, 563, 564, 2097, 2098, 2100, 2101, 1594, 1083, 572, 1595, 1596, 63, 1597, 2109, 2112, 2113, 2117, 2118, 1610, 1099, 1611, 589, 1612, 1613, 1614, 2127, 2128, 1106, 1618, 1619, 86, 1109, 88, 2131, 2132, 2135, 1114, 1628, 1634, 1636, 1125, 2150, 2149, 1127, 1640, 1129, 1641, 620, 1642, 1643, 1644, 624, 1134, 1645, 1138, 1141, 1657, 1658, 1659, 1660, 1661, 1662, 1663, 1664, 1665, 1674, 1675, 1676, 1677, 1171, 1687, 1178, 157, 158, 1182, 1695, 1195, 1707, 1199, 1202, 1203, 1714, 1205, 1716, 1720, 1728, 1729, 1219, 711, 713, 1738, 1228, 205, 722, 2044, 736, 1762, 230, 1260, 1772, 1773, 752, 2083, 1267, 1268, 757, 1779, 1270, 1272, 1273, 1274, 1784, 252, 1276, 1786, 1278, 1788, 257, 1280, 1283, 1796, 773, 1799, 1801, 1802, 1803, 1294, 1809, 1812, 1302, 1814, 1815, 1817, 1820, 1823, 800, 1312, 1824, 1825, 1826, 1317, 808, 310, 1336, 1339, 1347, 325, 1864, 1865, 1358, 1870, 1370, 1377, 1892, 1893, 1895, 1896, 1385, 1898, 1900, 1901, 1395, 1909, 891, 1403, 1915, 1917, 1919, 1411, 1923, 1924, 1927, 904, 1928, 1422, 1423, 1940, 1942, 1943, 1944, 1948, 1950, 1951, 1952, 1953, 1442, 1954, 1958, 1448, 1449, 1450, 427, 1961, 1968, 1969, 1970, 1973, 950, 1974, 1975, 1465, 1468, 1983, 1984, 1985, 962, 1986, 966, 974, 2001, 2002, 1495, 2008, 473, 1497, 2010, 1502, 2014, 2015, 1505, 2016, 1512, 492, 2031, 2032, 2033, 2043, 508, 509, 510, 511}, {2, 5, 1032, 1545, 1548, 525, 526, 1554, 1530, 1047, 541, 542, 543, 544, 545, 1565, 1061, 2086, 40, 1067, 2094, 2095, 1073, 1593, 2107, 1598, 1088, 577, 1092, 2121, 1098, 2122, 2124, 2125, 79, 1105, 2130, 85, 1631, 1632, 609, 101, 618, 1130, 1131, 623, 112, 630, 1144, 1145, 635, 125, 638, 644, 1672, 655, 1181, 159, 1186, 166, 1191, 1193, 1194, 684, 692, 1209, 1217, 706, 1222, 1737, 202, 204, 1229, 1748, 216, 731, 219, 1247, 238, 1262, 1263, 1264, 1774, 1780, 1269, 1785, 1277, 1279, 769, 770, 258, 1281, 1793, 1797, 1800, 265, 779, 1804, 1810, 275, 1811, 1813, 790, 1816, 283, 1821, 286, 1310, 1822, 1314, 1315, 809, 810, 303, 1329, 306, 307, 313, 314, 315, 316, 319, 1857, 1858, 324, 1349, 330, 1355, 1356, 1357, 1867, 852, 853, 856, 859, 347, 354, 1890, 870, 872, 368, 374, 1910, 889, 1916, 384, 1925, 1926, 394, 920, 1947, 1436, 1949, 414, 1439, 1441, 423, 1447, 937, 1963, 1452, 1453, 1454, 1455, 1964, 1457, 1965, 435, 437, 1470, 1482, 1483, 462, 1486, 2003, 470, 471, 472, 1498, 2011, 1504, 2019, 1000, 1529, 2042, 1531, 1532, 1533}, {527, 528, 529, 530, 531, 1043, 1048, 2074, 38, 1581, 52, 54, 1590, 2103, 59, 69, 1094, 1096, 2120, 2129, 1107, 1630, 1647, 1136, 1137, 1649, 1140, 1142, 1154, 141, 142, 143, 1680, 1190, 168, 1201, 178, 179, 199, 1225, 1742, 208, 1746, 1241, 218, 1242, 1246, 1265, 243, 244, 1781, 261, 1798, 794, 795, 796, 1309, 799, 806, 1318, 1323, 1331, 1332, 1337, 1366, 1368, 1384, 364, 1400, 1408, 402, 1429, 1438, 415, 420, 934, 429, 1458, 1460, 1462, 1467, 1469, 1472, 1988, 965, 2009, 993, 2018, 1507, 1005, 1009, 1524, 2047}, {1159, 1160, 1161, 1162, 1163, 1164, 1165, 1172, 1173, 662, 1174, 1175, 25, 666, 1176, 1305, 1437, 1328, 1344, 1604, 1097, 2000, 90, 91, 92, 93, 94, 95, 96, 2146, 2024, 2025, 2026, 109, 110, 2029}, {2051, 1030, 1031, 2057, 1550, 1551, 2063, 2064, 2065, 2066, 2067, 2068, 2069, 535, 2070, 2071, 1050, 2072, 1564, 2075, 2076, 2077, 1060, 1065, 2090, 2091, 2092, 2093, 47, 48, 1583, 1584, 1586, 1591, 58, 2116, 1616, 1108, 597, 2141, 2147, 1156, 138, 155, 670, 1187, 165, 1200, 1712, 1210, 1238, 1253, 1254, 746, 1261, 1776, 1792, 259, 771, 772, 782, 1807, 816, 817, 320, 1856, 322, 326, 1863, 335, 341, 857, 858, 866, 363, 884, 887, 1911, 1914, 379, 1402, 1918, 1920, 905, 907, 908, 909, 910, 911, 912, 913, 914, 915, 916, 405, 404, 917, 918, 919, 923, 1435, 925, 926, 927, 928, 929, 930, 931, 1451, 1967, 945, 946, 947, 948, 951, 1463, 445, 447, 959, 1471, 395, 1989, 1991, 1480, 969, 970, 971, 1481, 1992, 975, 976, 977, 979, 2004, 1493, 2005, 983, 984, 1496, 2006, 484, 2023, 1516, 493, 2030, 496, 1522, 1011, 2036, 2037, 2038}, {9, 10, 11, 1547, 532, 533, 534, 32, 2088, 1578, 1579, 1580, 593, 1110, 1111, 2136, 1120, 613, 614, 1126, 1132, 1133, 120, 122, 642, 643, 133, 656, 145, 146, 147, 663, 152, 664, 1690, 1696, 1697, 1698, 1699, 1700, 1701, 1702, 1703, 1704, 1705, 698, 1211, 1212, 1213, 190, 191, 1214, 1215, 1220, 1249, 1250, 1252, 747, 754, 250, 762, 1787, 256, 775, 784, 787, 276, 279, 280, 1818, 1819, 293, 811, 328, 329, 333, 334, 336, 1371, 1372, 1373, 1374, 1891, 1383, 383, 1407, 1410, 390, 400, 426, 938, 1459, 954, 2012, 994, 1006, 1525}, {516, 517, 2058, 2059, 1053, 34, 2085, 1068, 2099, 574, 2110, 1609, 78, 592, 598, 1112, 89, 611, 99, 102, 103, 104, 118, 1679, 153, 163, 169, 171, 177, 180, 181, 1204, 1206, 184, 1207, 1208, 200, 203, 1743, 1235, 1239, 1240, 225, 226, 741, 748, 241, 251, 764, 253, 1282, 1289, 1292, 274, 791, 1308, 797, 291, 805, 1320, 1321, 1855, 1348, 1875, 1367, 350, 1375, 867, 868, 1381, 1396, 1912, 1406, 1415, 1431, 416, 417, 418, 419, 949, 961, 968, 458, 1508, 1509, 1510, 1523, 1534}, {640, 0, 1409, 1541, 1542, 1146, 8, 393, 1037, 14, 15, 1038, 21, 150, 1049, 287, 2089, 812, 813, 814, 815, 818, 819, 1074, 1340, 189, 1603, 1365, 599, 1113, 1629, 1764, 1765, 1766, 1767, 1768, 489, 105, 875, 1769, 1770, 1771, 240, 1521, 1778, 631, 1913, 890, 636, 639}, {1536, 1, 1537, 4, 19, 20, 27, 28, 29, 30, 1059, 1587, 1588, 70, 585, 81, 1115, 1117, 606, 1119, 97, 1123, 2148, 625, 626, 627, 114, 629, 119, 633, 1666, 1667, 132, 1668, 156, 162, 686, 1198, 182, 186, 1723, 193, 1223, 1224, 1226, 1227, 1230, 724, 725, 214, 237, 264, 785, 273, 789, 277, 1303, 1304, 282, 1330, 821, 339, 340, 1364, 346, 361, 873, 366, 883, 398, 1464, 448, 1473, 1474, 963, 464, 466, 467, 988, 2013, 1535}, {1543, 1042, 24, 1051, 1054, 554, 1070, 1072, 50, 570, 60, 62, 64, 65, 80, 87, 1116, 1118, 1633, 1121, 1122, 612, 1124, 1128, 1135, 115, 1139, 1147, 1148, 1149, 1150, 1151, 1155, 1166, 1678, 1168, 154, 164, 1189, 167, 170, 174, 175, 176, 201, 1231, 1232, 1233, 726, 1752, 1763, 1255, 1256, 756, 766, 1805, 281, 321, 1352, 1353, 1359, 337, 1369, 352, 1889, 1378, 1379, 1380, 1382, 359, 399, 425, 430, 446, 960, 1478, 1479, 1511}, {1027, 1539, 2052, 518, 519, 520, 521, 2053, 2054, 2055, 2061, 1561, 538, 2073, 2078, 1055, 1056, 2079, 1569, 1570, 1572, 1573, 1574, 1575, 1592, 2105, 573, 575, 576, 1599, 1600, 1601, 1602, 1605, 1606, 1607, 1608, 2119, 594, 595, 2139, 1637, 1638, 622, 111, 1646, 1648, 1650, 1651, 1652, 1143, 1669, 1670, 1671, 1673, 1683, 148, 667, 1691, 1180, 1693, 1694, 683, 172, 685, 1708, 1717, 1718, 1719, 1725, 1726, 703, 1248, 745, 1271, 1790, 1795, 777, 786, 788, 798, 1319, 1322, 1333, 823, 1852, 1853, 1342, 1854, 838, 854, 342, 345, 862, 863, 865, 871, 360, 879, 880, 1905, 882, 370, 1907, 885, 886, 897, 898, 899, 900, 901, 902, 1935, 1427, 1941, 1430, 933, 935, 936, 941, 942, 943, 944, 1966, 1971, 1972, 438, 439, 441, 442, 443, 444, 1466, 449, 450, 451, 452, 1987, 454, 455, 456, 457, 1990, 1993, 1994, 1484, 1485, 463, 1996, 465, 1997, 1998, 980, 468, 982, 469, 1999, 475, 476, 989, 478, 479, 992, 480, 481, 483, 995, 997, 485, 486, 488, 996, 490, 482, 2021, 2022, 494, 2027, 1008, 2028, 2039, 2040, 2041}, {7, 16, 18, 1557, 1558, 1559, 1058, 548, 37, 36, 41, 42, 43, 1585, 61, 71, 72, 75, 77, 2134, 603, 604, 605, 2140, 2145, 113, 117, 632, 1152, 1153, 144, 149, 671, 1183, 1184, 674, 687, 688, 691, 694, 695, 696, 697, 187, 700, 701, 702, 1218, 709, 710, 712, 714, 715, 716, 717, 718, 720, 210, 211, 212, 213, 1234, 727, 1243, 1251, 228, 229, 740, 234, 235, 236, 247, 249, 1789, 1284, 1285, 1286, 1288, 266, 267, 268, 269, 270, 1290, 1291, 1296, 1300, 1301, 1306, 285, 289, 290, 1834, 1835, 1324, 1837, 1839, 308, 1343, 1860, 1861, 1350, 1862, 1354, 1872, 1873, 1387, 1391, 1392, 1393, 1394, 1908, 1397, 1398, 375, 1399, 1412, 1416, 1417, 1418, 1419, 1420, 1421, 1931, 1936, 1937, 1938, 1444, 1461, 440, 460, 474, 487, 1019}, {1028, 1158, 647, 792, 793, 668, 669, 1057, 803, 804, 173, 1589, 317, 830, 835, 836, 837, 839, 840, 841, 586, 587, 588, 973, 843, 847, 848, 849, 842, 845, 1740, 1741, 1487, 1876, 1877, 1878, 1879, 1880, 1881, 1882, 1883, 1884, 864, 1885, 1886, 1887, 1888, 357, 1506, 1001, 1003, 877, 621, 881, 124}, {1024, 641, 1921, 1922, 6, 774, 391, 136, 1287, 1035, 139, 1933, 1295, 1552, 17, 1297, 1298, 1299, 1426, 1432, 1177, 1433, 1434, 1307, 1563, 1313, 428, 45, 1326, 1327, 1838, 49, 309, 55, 183, 1335, 1980, 1216, 67, 68, 327, 73, 74, 207, 602, 220, 224, 2144, 2017, 355, 356, 231, 232, 1258, 1259, 1386, 1906, 254}, {1546, 2062, 1040, 1555, 1044, 1556, 23, 536, 537, 1566, 31, 33, 553, 1069, 1071, 2096, 56, 57, 2108, 2114, 82, 83, 84, 2143, 98, 1635, 108, 123, 126, 130, 131, 645, 646, 135, 1684, 151, 1688, 1689, 161, 676, 677, 679, 1706, 1197, 699, 704, 195, 197, 1221, 209, 1236, 1749, 215, 217, 737, 1257, 1775, 242, 1266, 758, 1783, 760, 761, 763, 767, 768, 262, 263, 278, 1316, 294, 807, 1840, 305, 1841, 820, 822, 826, 318, 832, 833, 323, 331, 332, 343, 349, 351, 353, 362, 367, 369, 372, 376, 377, 888, 892, 380, 382, 894, 896, 893, 381, 389, 903, 906, 1424, 401, 1428, 409, 412, 413, 421, 422, 424, 436, 952, 964, 967, 972, 1500, 2020, 1007, 1528}, {550, 39, 46, 51, 66, 2133, 107, 628, 129, 140, 1681, 1682, 689, 690, 185, 188, 206, 728, 729, 730, 732, 221, 222, 733, 223, 245, 246, 255, 780, 781, 271, 272, 1827, 1828, 1829, 1830, 1831, 1832, 1833, 296, 297, 298, 299, 300, 1325, 301, 302, 304, 1836, 1842, 1843, 1844, 1845, 1846, 1847, 1848, 1849, 1850, 1851, 1859, 1351, 1362, 1388, 1389, 1390, 385, 386, 387, 388, 1929, 1930, 396, 1932, 1934, 1425, 1443, 1445, 1446, 1978, 1979, 1488, 1489, 1490, 1491, 1492, 1002, 1517, 1518, 1519, 1520, 2045, 2046}]\n"
     ]
    }
   ],
   "source": [
    "ccc = ConnectedComponentsClustering()\n",
    "clusters = ccc.process(pairs_graph, data)"
   ]
  },
  {
   "cell_type": "code",
   "execution_count": 111,
   "id": "5b52a534-691a-48be-b5e9-c073dc04b154",
   "metadata": {},
   "outputs": [
    {
     "name": "stdout",
     "output_type": "stream",
     "text": [
      "Method name: Connected Components Clustering\n",
      "Method info: Gets equivalence clusters from the transitive closure of the similarity graph.\n",
      "Parameters:  None\n",
      "Runtime: 0.0160 seconds\n"
     ]
    }
   ],
   "source": [
    "ccc.report()"
   ]
  },
  {
   "cell_type": "code",
   "execution_count": 125,
   "id": "00bc2e82-9bc1-4119-b8cb-4a1c18afee19",
   "metadata": {},
   "outputs": [
    {
     "name": "stdout",
     "output_type": "stream",
     "text": [
      "***************************************************************************************************************************\n",
      "                                         Μethod:  Connected Components Clustering\n",
      "***************************************************************************************************************************\n",
      "Method name: Connected Components Clustering\n",
      "Parameters: \n",
      "Runtime: 0.4562 seconds\n",
      "───────────────────────────────────────────────────────────────────────────────────────────────────────────────────────────\n",
      "Performance:\n",
      "\tPrecision:      0.00% \n",
      "\tRecall:         0.00%\n",
      "\tF1-score:       0.00%\n",
      "───────────────────────────────────────────────────────────────────────────────────────────────────────────────────────────\n",
      "Classification report:\n",
      "\tTrue positives: 0\n",
      "\tFalse positives: 0\n",
      "\tTrue negatives: 0\n",
      "\tFalse negatives: 0\n",
      "\tTotal comparisons: 0\n",
      "───────────────────────────────────────────────────────────────────────────────────────────────────────────────────────────\n"
     ]
    },
    {
     "data": {
      "text/plain": [
       "{'Precision %': 0,\n",
       " 'Recall %': 0,\n",
       " 'F1 %': 0,\n",
       " 'True Positives': 0,\n",
       " 'False Positives': 0,\n",
       " 'True Negatives': 0,\n",
       " 'False Negatives': 0}"
      ]
     },
     "execution_count": 125,
     "metadata": {},
     "output_type": "execute_result"
    }
   ],
   "source": [
    "ccc.evaluate(clusters, with_classification_report=True)"
   ]
  },
  {
   "cell_type": "code",
   "execution_count": null,
   "id": "6f8efe1d-b981-4fba-b5cf-2b28fb189ee2",
   "metadata": {},
   "outputs": [],
   "source": [
    "from pyjedai.clustering import ConnectedComponentsClustering, UniqueMappingClustering\n",
    "umc = UniqueMappingClustering()\n",
    "clusters = umc.process(pairs_graph, data)"
   ]
  },
  {
   "cell_type": "code",
   "execution_count": null,
   "id": "57bf85f5-296c-4f26-b760-d29da4adbba6",
   "metadata": {},
   "outputs": [],
   "source": [
    "umc.evaluate(clusters, with_classification_report=True)"
   ]
  },
  {
   "cell_type": "code",
   "execution_count": null,
   "id": "72a6d97c-b211-4ad7-82f8-048b72b0104f",
   "metadata": {},
   "outputs": [],
   "source": []
  }
 ],
 "metadata": {
  "kernelspec": {
   "display_name": "Python 3 (ipykernel)",
   "language": "python",
   "name": "python3"
  },
  "language_info": {
   "codemirror_mode": {
    "name": "ipython",
    "version": 3
   },
   "file_extension": ".py",
   "mimetype": "text/x-python",
   "name": "python",
   "nbconvert_exporter": "python",
   "pygments_lexer": "ipython3",
   "version": "3.10.5"
  },
  "vscode": {
   "interpreter": {
    "hash": "824e5f4123a1a5b690f910010b2896a5dc6379151ca1c56e0c0465c15ebbd094"
   }
  }
 },
 "nbformat": 4,
 "nbformat_minor": 5
}
