{
 "cells": [
  {
   "cell_type": "markdown",
   "id": "96ec678e-b20c-4213-8616-542010f46342",
   "metadata": {},
   "source": [
    "<div align=\"center\"> \n",
    "    <hr>\n",
    "  <font size=\"6\"><b>Dev | Clean-Clean Entity Resolution Notebook <br>with pre-trained embeddings and FAISS</b> </font><br>\n",
    "    <font size=\"6\"><b>Abt - Buy</b> </font>\n",
    "   <hr>\n",
    "</div>"
   ]
  },
  {
   "cell_type": "code",
   "execution_count": 1,
   "id": "eed013bf-c351-43a3-b600-9b35a6adfd83",
   "metadata": {},
   "outputs": [
    {
     "name": "stdout",
     "output_type": "stream",
     "text": [
      "Python 3.9.1\n"
     ]
    }
   ],
   "source": [
    "!python --version"
   ]
  },
  {
   "cell_type": "code",
   "execution_count": 1,
   "id": "6db50d83-51d8-4c95-9f27-30ef867338f2",
   "metadata": {},
   "outputs": [],
   "source": [
    "import os\n",
    "import sys\n",
    "import pandas as pd\n",
    "import networkx\n",
    "from networkx import draw, Graph\n",
    "%load_ext autoreload\n",
    "%autoreload 2\n",
    "%reload_ext autoreload\n",
    "from pyjedai.utils import (\n",
    "    text_cleaning_method,\n",
    "    print_clusters,\n",
    "    print_blocks,\n",
    "    print_candidate_pairs\n",
    ")\n",
    "from pyjedai.evaluation import Evaluation, write\n",
    "from pyjedai.datamodel import Data\n",
    "d1 = pd.read_csv(\"./data/test/ccer/abt_100.csv\", sep='|', engine='python', na_filter=False).astype(str)\n",
    "d2 = pd.read_csv(\"./data/test/ccer/buy_100.csv\", sep='|', engine='python', na_filter=False).astype(str)\n",
    "gt = pd.read_csv(\"./data/test/ccer/gt_100.csv\", sep='|', engine='python')\n",
    "\n",
    "d1 = pd.read_csv(\"./data/ccer/D2/abt.csv\", sep='|', engine='python', na_filter=False).astype(str)\n",
    "d2 = pd.read_csv(\"./data/ccer/D2/buy.csv\", sep='|', engine='python', na_filter=False).astype(str)\n",
    "gt = pd.read_csv(\"./data/ccer/D2/gt.csv\", sep='|', engine='python')\n",
    "\n",
    "\n",
    "data = Data(dataset_1=d1,\n",
    "            # attributes_1=['id','name','description'],\n",
    "            id_column_name_1='id',\n",
    "            dataset_2=d2,\n",
    "            # attributes_2=['id','name','description'],\n",
    "            id_column_name_2='id',\n",
    "            ground_truth=gt)"
   ]
  },
  {
   "cell_type": "code",
   "execution_count": 3,
   "id": "87a21577-798e-4e8d-bf7d-8bb4d53abda2",
   "metadata": {},
   "outputs": [
    {
     "data": {
      "text/html": [
       "<div>\n",
       "<style scoped>\n",
       "    .dataframe tbody tr th:only-of-type {\n",
       "        vertical-align: middle;\n",
       "    }\n",
       "\n",
       "    .dataframe tbody tr th {\n",
       "        vertical-align: top;\n",
       "    }\n",
       "\n",
       "    .dataframe thead th {\n",
       "        text-align: right;\n",
       "    }\n",
       "</style>\n",
       "<table border=\"1\" class=\"dataframe\">\n",
       "  <thead>\n",
       "    <tr style=\"text-align: right;\">\n",
       "      <th></th>\n",
       "      <th>D1</th>\n",
       "      <th>D2</th>\n",
       "    </tr>\n",
       "  </thead>\n",
       "  <tbody>\n",
       "    <tr>\n",
       "      <th>0</th>\n",
       "      <td>206</td>\n",
       "      <td>216</td>\n",
       "    </tr>\n",
       "    <tr>\n",
       "      <th>1</th>\n",
       "      <td>60</td>\n",
       "      <td>46</td>\n",
       "    </tr>\n",
       "    <tr>\n",
       "      <th>2</th>\n",
       "      <td>182</td>\n",
       "      <td>160</td>\n",
       "    </tr>\n",
       "    <tr>\n",
       "      <th>3</th>\n",
       "      <td>428</td>\n",
       "      <td>223</td>\n",
       "    </tr>\n",
       "    <tr>\n",
       "      <th>4</th>\n",
       "      <td>816</td>\n",
       "      <td>789</td>\n",
       "    </tr>\n",
       "  </tbody>\n",
       "</table>\n",
       "</div>"
      ],
      "text/plain": [
       "    D1   D2\n",
       "0  206  216\n",
       "1   60   46\n",
       "2  182  160\n",
       "3  428  223\n",
       "4  816  789"
      ]
     },
     "execution_count": 3,
     "metadata": {},
     "output_type": "execute_result"
    }
   ],
   "source": [
    "gt.head(5)"
   ]
  },
  {
   "cell_type": "markdown",
   "id": "9c068252-4a69-405a-a320-c2875ec08ea5",
   "metadata": {},
   "source": [
    "# Block Building\n",
    "\n",
    "## FAISS\n",
    "\n",
    "faiss.IndexIVFFlat is an implementation of an inverted file index with coarse quantization. This index is used to efficiently search for nearest neighbors of a query vector in a large dataset of vectors. Here's a brief explanation of the parameters used in this index:\n",
    "\n",
    "- `d`: The dimension of the input vectors. Each input vector should have d elements.\n",
    "- `nlist`: The number of cells (or clusters) to divide the dataset into. This determines the number of inverted lists in the index, and hence the maximum number of vectors that can be stored in the index. Larger values of nlist will generally result in more accurate search results, but may also increase the memory requirements of the index and the time required to perform searches.\n",
    "- `quantizer`: An instance of a quantizer object that is used to compress the vectors before they are added to the index. The quantizer object should implement a train method that learns the quantization function from a set of input vectors, and a compress method that compresses a vector into an integer code. FAISS provides several built-in quantizer objects, such as IndexFlatL2 and IndexScalarQuantizer.\n",
    "- `metric`: The distance metric used to measure the similarity between vectors. The metric should be one of the strings defined in the faiss.METRIC_TYPES list, such as \"l2\" for Euclidean distance or \"ip\" for inner product.\n",
    "- `nprobe`: The number of cells (or clusters) to search during a query. This parameter determines the tradeoff between accuracy and speed during searches. Larger values of nprobe will generally result in more accurate search results, but may also increase the time required to perform searches.\n",
    "\n"
   ]
  },
  {
   "cell_type": "code",
   "execution_count": 2,
   "id": "9c1b6213-a218-40cf-bc72-801b77d28da9",
   "metadata": {},
   "outputs": [],
   "source": [
    "from pyjedai.vector_based_blocking import EmbeddingsNNBlockBuilding"
   ]
  },
  {
   "cell_type": "code",
   "execution_count": null,
   "id": "b25e2601-a871-41dd-a48c-bf72382d0f13",
   "metadata": {},
   "outputs": [],
   "source": [
    "emb = EmbeddingsNNBlockBuilding(vectorizer='st5',\n",
    "                                similarity_search='faiss')\n",
    "blocks = emb.build_blocks(data, top_k=15, num_of_clusters=15)"
   ]
  },
  {
   "cell_type": "code",
   "execution_count": 4,
   "id": "72d16ae4-bc13-460f-a215-ac85016ded22",
   "metadata": {},
   "outputs": [
    {
     "name": "stdout",
     "output_type": "stream",
     "text": [
      "***************************************************************************************************************************\n",
      "                                         Μethod:  Embeddings-NN Block Building\n",
      "***************************************************************************************************************************\n",
      "Method name: Embeddings-NN Block Building\n",
      "Parameters: \n",
      "\tVectorizer: st5\n",
      "\tSimilarity-Search: faiss\n",
      "\tTop-K: 10\n",
      "\tVector size: 768\n",
      "Runtime: 964.8962 seconds\n",
      "───────────────────────────────────────────────────────────────────────────────────────────────────────────────────────────\n",
      "Performance:\n",
      "\tPrecision:      4.53% \n",
      "\tRecall:        90.52%\n",
      "\tF1-score:       8.62%\n",
      "───────────────────────────────────────────────────────────────────────────────────────────────────────────────────────────\n",
      "Classification report:\n",
      "\tTrue positives: 974\n",
      "\tFalse positives: 20546\n",
      "\tTrue negatives: 1137128\n",
      "\tFalse negatives: 102\n",
      "\tTotal comparisons: 21520\n",
      "───────────────────────────────────────────────────────────────────────────────────────────────────────────────────────────\n",
      "Statistics:\n",
      " FAISS:\n",
      "\tNumber of entries in each list:  1\n",
      "\tIndices shape returned after search: (1076, 10)\n",
      "───────────────────────────────────────────────────────────────────────────────────────────────────────────────────────────\n"
     ]
    },
    {
     "data": {
      "text/plain": [
       "{'Precision %': 4.526022304832714,\n",
       " 'Recall %': 90.52044609665427,\n",
       " 'F1 %': 8.620994866348026,\n",
       " 'True Positives': 974,\n",
       " 'False Positives': 20546,\n",
       " 'True Negatives': 1137128,\n",
       " 'False Negatives': 102}"
      ]
     },
     "execution_count": 4,
     "metadata": {},
     "output_type": "execute_result"
    }
   ],
   "source": [
    "emb.evaluate(blocks, with_classification_report=True, with_stats=True)"
   ]
  },
  {
   "cell_type": "code",
   "execution_count": 41,
   "id": "4c395220-a8e5-47a3-a427-a4c4f194133b",
   "metadata": {},
   "outputs": [
    {
     "data": {
      "text/plain": [
       "[209, 370, 216, 487, 969]"
      ]
     },
     "execution_count": 41,
     "metadata": {},
     "output_type": "execute_result"
    }
   ],
   "source": [
    "[x-data.dataset_limit for x in blocks[206]]"
   ]
  },
  {
   "cell_type": "code",
   "execution_count": 46,
   "id": "7f92c000-86a8-462a-acc1-8617101fad14",
   "metadata": {},
   "outputs": [
    {
     "name": "stdout",
     "output_type": "stream",
     "text": [
      "[ 1285 ,  206 ] ->  0.73648095\n",
      "[ 1446 ,  206 ] ->  0.7940386\n",
      "[ 1292 ,  206 ] ->  0.7597258\n",
      "[ 1563 ,  206 ] ->  0.73150814\n",
      "[ 2045 ,  206 ] ->  0.7491209\n"
     ]
    }
   ],
   "source": [
    "from sklearn.metrics.pairwise import cosine_similarity\n",
    "from pyjedai.matching import cosine\n",
    "\n",
    "for x in blocks[206]:\n",
    "    print(\"[\", x, \", \", 206, \"] -> \", cosine(emb.vectors_1[206], emb.vectors_2[x-data.dataset_limit]))"
   ]
  },
  {
   "cell_type": "code",
   "execution_count": 48,
   "id": "18658d29-212f-42e0-afba-bac6df7a7002",
   "metadata": {},
   "outputs": [
    {
     "name": "stdout",
     "output_type": "stream",
     "text": [
      "[ 386 ,  216 ] ->  0.7565773\n",
      "[ 387 ,  216 ] ->  0.6908407\n",
      "[ 388 ,  216 ] ->  0.69259846\n",
      "[ 396 ,  216 ] ->  0.6922791\n",
      "[ 206 ,  216 ] ->  0.7597258\n",
      "[ 207 ,  216 ] ->  0.74999535\n",
      "[ 302 ,  216 ] ->  0.684751\n",
      "[ 246 ,  216 ] ->  0.68124056\n",
      "[ 730 ,  216 ] ->  0.6815381\n",
      "[ 602 ,  216 ] ->  0.68974364\n"
     ]
    }
   ],
   "source": [
    "from sklearn.metrics.pairwise import cosine_similarity\n",
    "from pyjedai.matching import cosine\n",
    "\n",
    "for x in blocks[216+data.dataset_limit]:\n",
    "    print(\"[\", x, \", \", 216, \"] -> \", cosine(emb.vectors_1[x], emb.vectors_2[216]))"
   ]
  },
  {
   "cell_type": "markdown",
   "id": "6aeff39a-b51b-4166-a55b-f8452ec258a7",
   "metadata": {},
   "source": [
    "# Entity Matching"
   ]
  },
  {
   "cell_type": "code",
   "execution_count": 49,
   "id": "f479d967-8bac-4870-99bd-68c01e75747b",
   "metadata": {},
   "outputs": [],
   "source": [
    "from pyjedai.matching import EntityMatching"
   ]
  },
  {
   "cell_type": "code",
   "execution_count": 50,
   "id": "ae7b1e6a-e937-44fe-bfe5-34696ea1156c",
   "metadata": {},
   "outputs": [],
   "source": [
    "EM = EntityMatching(metric='cosine_vector_similarity',\n",
    "                    similarity_threshold=0.0)\n",
    "\n",
    "pairs_graph = EM.predict(blocks,\n",
    "                         data,\n",
    "                         tqdm_disable=True,\n",
    "                         vectors_d1=emb.vectors_1,\n",
    "                         vectors_d2=emb.vectors_2)"
   ]
  },
  {
   "cell_type": "code",
   "execution_count": null,
   "id": "4d606bfc-3265-4042-93f3-22a1117c4886",
   "metadata": {},
   "outputs": [],
   "source": [
    "draw(pairs_graph)"
   ]
  },
  {
   "cell_type": "code",
   "execution_count": 51,
   "id": "4a2a5f4a-6ffa-4c16-ae49-ff4fec4c467d",
   "metadata": {},
   "outputs": [
    {
     "name": "stdout",
     "output_type": "stream",
     "text": [
      "***************************************************************************************************************************\n",
      "                                         Μethod:  Entity Matching\n",
      "***************************************************************************************************************************\n",
      "Method name: Entity Matching\n",
      "Parameters: \n",
      "\tTokenizer: white_space_tokenizer\n",
      "\tMetric: cosine_vector_similarity\n",
      "\tSimilarity Threshold: 0.0\n",
      "Runtime: 4.2149 seconds\n",
      "───────────────────────────────────────────────────────────────────────────────────────────────────────────────────────────\n",
      "Performance:\n",
      "\tPrecision:      9.05% \n",
      "\tRecall:        90.52%\n",
      "\tF1-score:      16.46%\n",
      "───────────────────────────────────────────────────────────────────────────────────────────────────────────────────────────\n"
     ]
    },
    {
     "data": {
      "text/plain": [
       "{'Precision %': 9.052044609665428,\n",
       " 'Recall %': 90.52044609665427,\n",
       " 'F1 %': 16.45826292666441,\n",
       " 'True Positives': 974,\n",
       " 'False Positives': 9786,\n",
       " 'True Negatives': 1147888,\n",
       " 'False Negatives': 102}"
      ]
     },
     "execution_count": 51,
     "metadata": {},
     "output_type": "execute_result"
    }
   ],
   "source": [
    "EM.evaluate(pairs_graph)"
   ]
  },
  {
   "cell_type": "code",
   "execution_count": 52,
   "id": "a12b2b98-72e4-4933-975c-e15023fa801a",
   "metadata": {},
   "outputs": [
    {
     "name": "stdout",
     "output_type": "stream",
     "text": [
      "Distribution-% of predicted scores:  [0.0, 0.0, 0.0, 0.0, 0.0, 0.13940520446096655, 14.804832713754648, 62.62081784386617, 22.304832713754646, 0.13011152416356878]\n"
     ]
    },
    {
     "data": {
      "image/png": "[encoded data removed]",
      "text/plain": [
       "<Figure size 720x432 with 1 Axes>"
      ]
     },
     "metadata": {
      "needs_background": "light"
     },
     "output_type": "display_data"
    }
   ],
   "source": [
    "EM.plot_distribution_of_scores()"
   ]
  },
  {
   "cell_type": "code",
   "execution_count": 67,
   "id": "b8787b76-4006-4714-b17c-4bca4dc28cad",
   "metadata": {},
   "outputs": [
    {
     "data": {
      "image/png": "[encoded data removed]",
      "text/plain": [
       "<Figure size 720x432 with 1 Axes>"
      ]
     },
     "metadata": {
      "needs_background": "light"
     },
     "output_type": "display_data"
    }
   ],
   "source": [
    "EM.plot_distribution_of_all_weights()"
   ]
  },
  {
   "cell_type": "code",
   "execution_count": 66,
   "id": "0e84de4d-5747-4a0a-ba5a-67c3f5ee539e",
   "metadata": {},
   "outputs": [
    {
     "name": "stdout",
     "output_type": "stream",
     "text": [
      "Distribution-% of predicted scores:  [0.0, 0.0, 0.0, 0.0, 0.0, 0.0, 3.4386617100371746, 47.11895910780669, 48.42007434944237, 1.0223048327137547]\n"
     ]
    },
    {
     "data": {
      "image/png": "[encoded data removed]",
      "text/plain": [
       "<Figure size 720x432 with 1 Axes>"
      ]
     },
     "metadata": {
      "needs_background": "light"
     },
     "output_type": "display_data"
    }
   ],
   "source": [
    "EM.plot_gt_distribution_of_scores()"
   ]
  },
  {
   "cell_type": "code",
   "execution_count": 18,
   "id": "9ca4c72f-dc7a-4bc8-908c-44896d7395b3",
   "metadata": {},
   "outputs": [
    {
     "data": {
      "text/plain": [
       "0.7566656857064222"
      ]
     },
     "execution_count": 18,
     "metadata": {},
     "output_type": "execute_result"
    }
   ],
   "source": [
    "EM.get_weights_avg()"
   ]
  },
  {
   "cell_type": "code",
   "execution_count": 65,
   "id": "94b6bb05-05a9-4411-9747-36c03e926f27",
   "metadata": {},
   "outputs": [
    {
     "data": {
      "text/plain": [
       "0.7545737624168396"
      ]
     },
     "execution_count": 65,
     "metadata": {},
     "output_type": "execute_result"
    }
   ],
   "source": [
    "EM.get_weights_median()"
   ]
  },
  {
   "cell_type": "code",
   "execution_count": 20,
   "id": "2db46067-465e-4af2-86fc-6eea81ba5504",
   "metadata": {},
   "outputs": [
    {
     "data": {
      "text/plain": [
       "0.05386847670494419"
      ]
     },
     "execution_count": 20,
     "metadata": {},
     "output_type": "execute_result"
    }
   ],
   "source": [
    "EM.get_weights_standard_deviation()"
   ]
  },
  {
   "cell_type": "markdown",
   "id": "93b72120-4578-4d5c-a408-a24ee78bf6cb",
   "metadata": {},
   "source": [
    "# Entity Clustering"
   ]
  },
  {
   "cell_type": "code",
   "execution_count": 53,
   "id": "500d2ef7-7017-4dba-bbea-acdba8abf5b7",
   "metadata": {},
   "outputs": [],
   "source": [
    "from pyjedai.clustering import ConnectedComponentsClustering, UniqueMappingClustering"
   ]
  },
  {
   "cell_type": "code",
   "execution_count": 54,
   "id": "aebd9329-3a4b-48c9-bd05-c7bd4aed3ca9",
   "metadata": {},
   "outputs": [],
   "source": [
    "ccc = UniqueMappingClustering()\n",
    "clusters = ccc.process(pairs_graph, data, similarity_threshold=0.9)"
   ]
  },
  {
   "cell_type": "code",
   "execution_count": 35,
   "id": "5b52a534-691a-48be-b5e9-c073dc04b154",
   "metadata": {},
   "outputs": [
    {
     "name": "stdout",
     "output_type": "stream",
     "text": [
      "Method name: Unique Mapping Clustering\n",
      "Method info: Prunes all edges with a weight lower than t, sorts the remaining ones indecreasing weight/similarity and iteratively forms a partition forthe top-weighted pair as long as none of its entities has alreadybeen matched to some other.\n",
      "Parameters:  None\n",
      "Runtime: 0.0326 seconds\n"
     ]
    }
   ],
   "source": [
    "ccc.report()"
   ]
  },
  {
   "cell_type": "code",
   "execution_count": 56,
   "id": "00bc2e82-9bc1-4119-b8cb-4a1c18afee19",
   "metadata": {},
   "outputs": [
    {
     "name": "stdout",
     "output_type": "stream",
     "text": [
      "***************************************************************************************************************************\n",
      "                                         Μethod:  Unique Mapping Clustering\n",
      "***************************************************************************************************************************\n",
      "Method name: Unique Mapping Clustering\n",
      "Parameters: \n",
      "Runtime: 0.0222 seconds\n",
      "───────────────────────────────────────────────────────────────────────────────────────────────────────────────────────────\n",
      "Performance:\n",
      "\tPrecision:     84.62% \n",
      "\tRecall:         1.02%\n",
      "\tF1-score:       2.02%\n",
      "───────────────────────────────────────────────────────────────────────────────────────────────────────────────────────────\n",
      "Classification report:\n",
      "\tTrue positives: 11\n",
      "\tFalse positives: 2\n",
      "\tTrue negatives: 1156709\n",
      "\tFalse negatives: 1065\n",
      "\tTotal comparisons: 13\n",
      "───────────────────────────────────────────────────────────────────────────────────────────────────────────────────────────\n"
     ]
    },
    {
     "data": {
      "text/plain": [
       "{'Precision %': 84.61538461538461,\n",
       " 'Recall %': 1.0223048327137547,\n",
       " 'F1 %': 2.0202020202020203,\n",
       " 'True Positives': 11,\n",
       " 'False Positives': 2,\n",
       " 'True Negatives': 1156709,\n",
       " 'False Negatives': 1065}"
      ]
     },
     "execution_count": 56,
     "metadata": {},
     "output_type": "execute_result"
    }
   ],
   "source": [
    "ccc.evaluate(clusters, with_classification_report=True)"
   ]
  }
 ],
 "metadata": {
  "kernelspec": {
   "display_name": "Python 3 (ipykernel)",
   "language": "python",
   "name": "python3"
  },
  "language_info": {
   "codemirror_mode": {
    "name": "ipython",
    "version": 3
   },
   "file_extension": ".py",
   "mimetype": "text/x-python",
   "name": "python",
   "nbconvert_exporter": "python",
   "pygments_lexer": "ipython3",
   "version": "3.10.5"
  },
  "vscode": {
   "interpreter": {
    "hash": "824e5f4123a1a5b690f910010b2896a5dc6379151ca1c56e0c0465c15ebbd094"
   }
  }
 },
 "nbformat": 4,
 "nbformat_minor": 5
}
