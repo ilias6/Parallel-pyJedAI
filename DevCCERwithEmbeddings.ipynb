{
 "cells": [
  {
   "cell_type": "markdown",
   "id": "96ec678e-b20c-4213-8616-542010f46342",
   "metadata": {},
   "source": [
    "<div align=\"center\"> \n",
    "    <hr>\n",
    "  <font size=\"6\"><b>Dev | Clean-Clean Entity Resolution Notebook <br>with pre-trained embeddings and FAISS</b> </font><br>\n",
    "    <font size=\"6\"><b>Abt - Buy</b> </font>\n",
    "   <hr>\n",
    "</div>"
   ]
  },
  {
   "cell_type": "code",
   "execution_count": 7,
   "id": "eed013bf-c351-43a3-b600-9b35a6adfd83",
   "metadata": {},
   "outputs": [
    {
     "name": "stdout",
     "output_type": "stream",
     "text": [
      "Python 3.9.1\n"
     ]
    }
   ],
   "source": [
    "!python --version"
   ]
  },
  {
   "cell_type": "code",
   "execution_count": 2,
   "id": "6db50d83-51d8-4c95-9f27-30ef867338f2",
   "metadata": {},
   "outputs": [
    {
     "name": "stdout",
     "output_type": "stream",
     "text": [
      "The autoreload extension is already loaded. To reload it, use:\n",
      "  %reload_ext autoreload\n"
     ]
    }
   ],
   "source": [
    "import os\n",
    "import sys\n",
    "import pandas as pd\n",
    "import networkx\n",
    "from networkx import draw, Graph\n",
    "%load_ext autoreload\n",
    "%autoreload 2\n",
    "%reload_ext autoreload\n",
    "from pyjedai.utils import (\n",
    "    text_cleaning_method,\n",
    "    print_clusters,\n",
    "    print_blocks,\n",
    "    print_candidate_pairs\n",
    ")\n",
    "from pyjedai.evaluation import Evaluation, write\n",
    "from pyjedai.datamodel import Data\n",
    "# d1 = pd.read_csv(\"./data/test/ccer/abt_100.csv\", sep='|', engine='python', na_filter=False).astype(str)\n",
    "# d2 = pd.read_csv(\"./data/test/ccer/buy_100.csv\", sep='|', engine='python', na_filter=False).astype(str)\n",
    "# gt = pd.read_csv(\"./data/test/ccer/gt_100.csv\", sep='|', engine='python')\n",
    "\n",
    "d1 = pd.read_csv(\"./data/ccer/D2/abt.csv\", sep='|', engine='python', na_filter=False).astype(str)\n",
    "d2 = pd.read_csv(\"./data/ccer/D2/buy.csv\", sep='|', engine='python', na_filter=False).astype(str)\n",
    "gt = pd.read_csv(\"./data/ccer/D2/gt.csv\", sep='|', engine='python')\n",
    "\n",
    "attr1 = d1.columns[1:].to_list()\n",
    "attr2 = d2.columns[1:].to_list()\n",
    "\n",
    "\n",
    "data = Data(dataset_1=d1,\n",
    "            attributes_1=attr1,\n",
    "            id_column_name_1='id',\n",
    "            dataset_2=d2,\n",
    "            attributes_2=attr2,\n",
    "            id_column_name_2='id',\n",
    "            ground_truth=gt)\n"
   ]
  },
  {
   "cell_type": "code",
   "execution_count": 3,
   "id": "e274f5cc-fe29-4ff8-adcc-535d77ca48aa",
   "metadata": {},
   "outputs": [
    {
     "data": {
      "text/html": [
       "<div>\n",
       "<style scoped>\n",
       "    .dataframe tbody tr th:only-of-type {\n",
       "        vertical-align: middle;\n",
       "    }\n",
       "\n",
       "    .dataframe tbody tr th {\n",
       "        vertical-align: top;\n",
       "    }\n",
       "\n",
       "    .dataframe thead th {\n",
       "        text-align: right;\n",
       "    }\n",
       "</style>\n",
       "<table border=\"1\" class=\"dataframe\">\n",
       "  <thead>\n",
       "    <tr style=\"text-align: right;\">\n",
       "      <th></th>\n",
       "      <th>id</th>\n",
       "      <th>name</th>\n",
       "      <th>description</th>\n",
       "      <th>price</th>\n",
       "    </tr>\n",
       "  </thead>\n",
       "  <tbody>\n",
       "    <tr>\n",
       "      <th>0</th>\n",
       "      <td>0</td>\n",
       "      <td>Sony Turntable - PSLX350H</td>\n",
       "      <td>Sony Turntable - PSLX350H/ Belt Drive System/ ...</td>\n",
       "      <td></td>\n",
       "    </tr>\n",
       "    <tr>\n",
       "      <th>1</th>\n",
       "      <td>1</td>\n",
       "      <td>Bose Acoustimass 5 Series III Speaker System -...</td>\n",
       "      <td>Bose Acoustimass 5 Series III Speaker System -...</td>\n",
       "      <td>399</td>\n",
       "    </tr>\n",
       "    <tr>\n",
       "      <th>2</th>\n",
       "      <td>2</td>\n",
       "      <td>Sony Switcher - SBV40S</td>\n",
       "      <td>Sony Switcher - SBV40S/ Eliminates Disconnecti...</td>\n",
       "      <td>49</td>\n",
       "    </tr>\n",
       "    <tr>\n",
       "      <th>3</th>\n",
       "      <td>3</td>\n",
       "      <td>Sony 5 Disc CD Player - CDPCE375</td>\n",
       "      <td>Sony 5 Disc CD Player- CDPCE375/ 5 Disc Change...</td>\n",
       "      <td></td>\n",
       "    </tr>\n",
       "    <tr>\n",
       "      <th>4</th>\n",
       "      <td>4</td>\n",
       "      <td>Bose 27028 161 Bookshelf Pair Speakers In Whit...</td>\n",
       "      <td>Bose 161 Bookshelf Speakers In White - 161WH/ ...</td>\n",
       "      <td>158</td>\n",
       "    </tr>\n",
       "    <tr>\n",
       "      <th>...</th>\n",
       "      <td>...</td>\n",
       "      <td>...</td>\n",
       "      <td>...</td>\n",
       "      <td>...</td>\n",
       "    </tr>\n",
       "    <tr>\n",
       "      <th>1071</th>\n",
       "      <td>1071</td>\n",
       "      <td>Logitech Cordless Desktop Wave Keyboard And Mo...</td>\n",
       "      <td>Logitech Cordless Desktop Wave Keyboard And Mo...</td>\n",
       "      <td>79</td>\n",
       "    </tr>\n",
       "    <tr>\n",
       "      <th>1072</th>\n",
       "      <td>1072</td>\n",
       "      <td>Mitsubishi DLP Black TV Stand - MBS73V</td>\n",
       "      <td>Mitsubishi DLP Black TV Stand - MBS73V/ Matchi...</td>\n",
       "      <td>549</td>\n",
       "    </tr>\n",
       "    <tr>\n",
       "      <th>1073</th>\n",
       "      <td>1073</td>\n",
       "      <td>Logitech Digital Precision PC Gaming Headset -...</td>\n",
       "      <td>Logitech Digital Precision PC Gaming Headset -...</td>\n",
       "      <td>49</td>\n",
       "    </tr>\n",
       "    <tr>\n",
       "      <th>1074</th>\n",
       "      <td>1074</td>\n",
       "      <td>Logitech 2.1 Multimedia Silver Speaker System ...</td>\n",
       "      <td>Logitech 2.1 Multimedia Silver Speaker System ...</td>\n",
       "      <td></td>\n",
       "    </tr>\n",
       "    <tr>\n",
       "      <th>1075</th>\n",
       "      <td>1075</td>\n",
       "      <td>Linksys Wireless-G Range Expander - WRE54G</td>\n",
       "      <td>Linksys Wireless-G Range Expander - WRE54G/ Su...</td>\n",
       "      <td>99</td>\n",
       "    </tr>\n",
       "  </tbody>\n",
       "</table>\n",
       "<p>1076 rows × 4 columns</p>\n",
       "</div>"
      ],
      "text/plain": [
       "        id                                               name  \\\n",
       "0        0                          Sony Turntable - PSLX350H   \n",
       "1        1  Bose Acoustimass 5 Series III Speaker System -...   \n",
       "2        2                             Sony Switcher - SBV40S   \n",
       "3        3                   Sony 5 Disc CD Player - CDPCE375   \n",
       "4        4  Bose 27028 161 Bookshelf Pair Speakers In Whit...   \n",
       "...    ...                                                ...   \n",
       "1071  1071  Logitech Cordless Desktop Wave Keyboard And Mo...   \n",
       "1072  1072             Mitsubishi DLP Black TV Stand - MBS73V   \n",
       "1073  1073  Logitech Digital Precision PC Gaming Headset -...   \n",
       "1074  1074  Logitech 2.1 Multimedia Silver Speaker System ...   \n",
       "1075  1075         Linksys Wireless-G Range Expander - WRE54G   \n",
       "\n",
       "                                            description price  \n",
       "0     Sony Turntable - PSLX350H/ Belt Drive System/ ...        \n",
       "1     Bose Acoustimass 5 Series III Speaker System -...   399  \n",
       "2     Sony Switcher - SBV40S/ Eliminates Disconnecti...    49  \n",
       "3     Sony 5 Disc CD Player- CDPCE375/ 5 Disc Change...        \n",
       "4     Bose 161 Bookshelf Speakers In White - 161WH/ ...   158  \n",
       "...                                                 ...   ...  \n",
       "1071  Logitech Cordless Desktop Wave Keyboard And Mo...    79  \n",
       "1072  Mitsubishi DLP Black TV Stand - MBS73V/ Matchi...   549  \n",
       "1073  Logitech Digital Precision PC Gaming Headset -...    49  \n",
       "1074  Logitech 2.1 Multimedia Silver Speaker System ...        \n",
       "1075  Linksys Wireless-G Range Expander - WRE54G/ Su...    99  \n",
       "\n",
       "[1076 rows x 4 columns]"
      ]
     },
     "execution_count": 3,
     "metadata": {},
     "output_type": "execute_result"
    }
   ],
   "source": [
    "d1"
   ]
  },
  {
   "cell_type": "code",
   "execution_count": 25,
   "id": "9d81feb3-60e5-48b4-a162-a15edbec19b5",
   "metadata": {},
   "outputs": [
    {
     "data": {
      "text/html": [
       "<div>\n",
       "<style scoped>\n",
       "    .dataframe tbody tr th:only-of-type {\n",
       "        vertical-align: middle;\n",
       "    }\n",
       "\n",
       "    .dataframe tbody tr th {\n",
       "        vertical-align: top;\n",
       "    }\n",
       "\n",
       "    .dataframe thead th {\n",
       "        text-align: right;\n",
       "    }\n",
       "</style>\n",
       "<table border=\"1\" class=\"dataframe\">\n",
       "  <thead>\n",
       "    <tr style=\"text-align: right;\">\n",
       "      <th></th>\n",
       "      <th>id</th>\n",
       "      <th>name</th>\n",
       "      <th>description</th>\n",
       "      <th>price</th>\n",
       "    </tr>\n",
       "  </thead>\n",
       "  <tbody>\n",
       "    <tr>\n",
       "      <th>0</th>\n",
       "      <td>0</td>\n",
       "      <td>Sony Turntable - PSLX350H</td>\n",
       "      <td>Sony Turntable - PSLX350H/ Belt Drive System/ ...</td>\n",
       "      <td></td>\n",
       "    </tr>\n",
       "    <tr>\n",
       "      <th>1</th>\n",
       "      <td>1</td>\n",
       "      <td>Bose Acoustimass 5 Series III Speaker System -...</td>\n",
       "      <td>Bose Acoustimass 5 Series III Speaker System -...</td>\n",
       "      <td>399</td>\n",
       "    </tr>\n",
       "    <tr>\n",
       "      <th>2</th>\n",
       "      <td>2</td>\n",
       "      <td>Sony Switcher - SBV40S</td>\n",
       "      <td>Sony Switcher - SBV40S/ Eliminates Disconnecti...</td>\n",
       "      <td>49</td>\n",
       "    </tr>\n",
       "    <tr>\n",
       "      <th>3</th>\n",
       "      <td>3</td>\n",
       "      <td>Sony 5 Disc CD Player - CDPCE375</td>\n",
       "      <td>Sony 5 Disc CD Player- CDPCE375/ 5 Disc Change...</td>\n",
       "      <td></td>\n",
       "    </tr>\n",
       "    <tr>\n",
       "      <th>4</th>\n",
       "      <td>4</td>\n",
       "      <td>Bose 27028 161 Bookshelf Pair Speakers In Whit...</td>\n",
       "      <td>Bose 161 Bookshelf Speakers In White - 161WH/ ...</td>\n",
       "      <td>158</td>\n",
       "    </tr>\n",
       "    <tr>\n",
       "      <th>...</th>\n",
       "      <td>...</td>\n",
       "      <td>...</td>\n",
       "      <td>...</td>\n",
       "      <td>...</td>\n",
       "    </tr>\n",
       "    <tr>\n",
       "      <th>1071</th>\n",
       "      <td>1071</td>\n",
       "      <td>Logitech Cordless Desktop Wave Keyboard And Mo...</td>\n",
       "      <td>Logitech Cordless Desktop Wave Keyboard And Mo...</td>\n",
       "      <td>79</td>\n",
       "    </tr>\n",
       "    <tr>\n",
       "      <th>1072</th>\n",
       "      <td>1072</td>\n",
       "      <td>Mitsubishi DLP Black TV Stand - MBS73V</td>\n",
       "      <td>Mitsubishi DLP Black TV Stand - MBS73V/ Matchi...</td>\n",
       "      <td>549</td>\n",
       "    </tr>\n",
       "    <tr>\n",
       "      <th>1073</th>\n",
       "      <td>1073</td>\n",
       "      <td>Logitech Digital Precision PC Gaming Headset -...</td>\n",
       "      <td>Logitech Digital Precision PC Gaming Headset -...</td>\n",
       "      <td>49</td>\n",
       "    </tr>\n",
       "    <tr>\n",
       "      <th>1074</th>\n",
       "      <td>1074</td>\n",
       "      <td>Logitech 2.1 Multimedia Silver Speaker System ...</td>\n",
       "      <td>Logitech 2.1 Multimedia Silver Speaker System ...</td>\n",
       "      <td></td>\n",
       "    </tr>\n",
       "    <tr>\n",
       "      <th>1075</th>\n",
       "      <td>1075</td>\n",
       "      <td>Linksys Wireless-G Range Expander - WRE54G</td>\n",
       "      <td>Linksys Wireless-G Range Expander - WRE54G/ Su...</td>\n",
       "      <td>99</td>\n",
       "    </tr>\n",
       "  </tbody>\n",
       "</table>\n",
       "<p>1076 rows × 4 columns</p>\n",
       "</div>"
      ],
      "text/plain": [
       "        id                                               name  \\\n",
       "0        0                          Sony Turntable - PSLX350H   \n",
       "1        1  Bose Acoustimass 5 Series III Speaker System -...   \n",
       "2        2                             Sony Switcher - SBV40S   \n",
       "3        3                   Sony 5 Disc CD Player - CDPCE375   \n",
       "4        4  Bose 27028 161 Bookshelf Pair Speakers In Whit...   \n",
       "...    ...                                                ...   \n",
       "1071  1071  Logitech Cordless Desktop Wave Keyboard And Mo...   \n",
       "1072  1072             Mitsubishi DLP Black TV Stand - MBS73V   \n",
       "1073  1073  Logitech Digital Precision PC Gaming Headset -...   \n",
       "1074  1074  Logitech 2.1 Multimedia Silver Speaker System ...   \n",
       "1075  1075         Linksys Wireless-G Range Expander - WRE54G   \n",
       "\n",
       "                                            description price  \n",
       "0     Sony Turntable - PSLX350H/ Belt Drive System/ ...        \n",
       "1     Bose Acoustimass 5 Series III Speaker System -...   399  \n",
       "2     Sony Switcher - SBV40S/ Eliminates Disconnecti...    49  \n",
       "3     Sony 5 Disc CD Player- CDPCE375/ 5 Disc Change...        \n",
       "4     Bose 161 Bookshelf Speakers In White - 161WH/ ...   158  \n",
       "...                                                 ...   ...  \n",
       "1071  Logitech Cordless Desktop Wave Keyboard And Mo...    79  \n",
       "1072  Mitsubishi DLP Black TV Stand - MBS73V/ Matchi...   549  \n",
       "1073  Logitech Digital Precision PC Gaming Headset -...    49  \n",
       "1074  Logitech 2.1 Multimedia Silver Speaker System ...        \n",
       "1075  Linksys Wireless-G Range Expander - WRE54G/ Su...    99  \n",
       "\n",
       "[1076 rows x 4 columns]"
      ]
     },
     "execution_count": 25,
     "metadata": {},
     "output_type": "execute_result"
    }
   ],
   "source": [
    "data.dataset_1"
   ]
  },
  {
   "cell_type": "code",
   "execution_count": 6,
   "id": "78fb618a-9870-4821-aa53-3abf7089ea76",
   "metadata": {},
   "outputs": [],
   "source": [
    "def _tokenize_entity(entity: str) -> str:\n",
    "        return entity.strip().lower()#' '.join(list(filter(None, re.split('[\\\\W_]', entity.lower()))))\n",
    "\n",
    "\n",
    "attributes_1=None\n",
    "\n",
    "entities_d1 = data.dataset_1[attributes_1 if attributes_1 else data.attributes_1] \\\n",
    "                    .apply(\" \".join, axis=1) \\\n",
    "                    .apply(_tokenize_entity) \\\n",
    "                    .values.tolist()"
   ]
  },
  {
   "cell_type": "code",
   "execution_count": 8,
   "id": "0578afd4-e899-4a72-ace6-4fec5a2ebd64",
   "metadata": {},
   "outputs": [
    {
     "data": {
      "text/plain": [
       "'sony turntable - pslx350h sony turntable - pslx350h/ belt drive system/ 33-1/3 and 45 rpm speeds/ servo speed control/ supplied moving magnet phono cartridge/ bonded diamond stylus/ static balance tonearm/ pitch control'"
      ]
     },
     "execution_count": 8,
     "metadata": {},
     "output_type": "execute_result"
    }
   ],
   "source": [
    "entities_d1[0]"
   ]
  },
  {
   "cell_type": "code",
   "execution_count": 11,
   "id": "796ec641-dd08-47ba-a3e8-7fa497251cdb",
   "metadata": {},
   "outputs": [],
   "source": [
    "td1 = d1[['id','name','description', 'price']]\n",
    "\n",
    "entities_d1 = td1[attributes_1 if attributes_1 else data.attributes_1] \\\n",
    "                    .apply(\" \".join, axis=1) \\\n",
    "                    .apply(_tokenize_entity) \\\n",
    "                    .values.tolist()"
   ]
  },
  {
   "cell_type": "code",
   "execution_count": 12,
   "id": "fe11f4ec-ce00-4ca1-a7b1-bb1d97a23a66",
   "metadata": {},
   "outputs": [
    {
     "data": {
      "text/plain": [
       "'sony turntable - pslx350h sony turntable - pslx350h/ belt drive system/ 33-1/3 and 45 rpm speeds/ servo speed control/ supplied moving magnet phono cartridge/ bonded diamond stylus/ static balance tonearm/ pitch control'"
      ]
     },
     "execution_count": 12,
     "metadata": {},
     "output_type": "execute_result"
    }
   ],
   "source": [
    "entities_d1[0]"
   ]
  },
  {
   "cell_type": "code",
   "execution_count": 4,
   "id": "87a21577-798e-4e8d-bf7d-8bb4d53abda2",
   "metadata": {},
   "outputs": [
    {
     "data": {
      "text/html": [
       "<div>\n",
       "<style scoped>\n",
       "    .dataframe tbody tr th:only-of-type {\n",
       "        vertical-align: middle;\n",
       "    }\n",
       "\n",
       "    .dataframe tbody tr th {\n",
       "        vertical-align: top;\n",
       "    }\n",
       "\n",
       "    .dataframe thead th {\n",
       "        text-align: right;\n",
       "    }\n",
       "</style>\n",
       "<table border=\"1\" class=\"dataframe\">\n",
       "  <thead>\n",
       "    <tr style=\"text-align: right;\">\n",
       "      <th></th>\n",
       "      <th>D1</th>\n",
       "      <th>D2</th>\n",
       "    </tr>\n",
       "  </thead>\n",
       "  <tbody>\n",
       "    <tr>\n",
       "      <th>0</th>\n",
       "      <td>206</td>\n",
       "      <td>216</td>\n",
       "    </tr>\n",
       "    <tr>\n",
       "      <th>1</th>\n",
       "      <td>60</td>\n",
       "      <td>46</td>\n",
       "    </tr>\n",
       "    <tr>\n",
       "      <th>2</th>\n",
       "      <td>182</td>\n",
       "      <td>160</td>\n",
       "    </tr>\n",
       "    <tr>\n",
       "      <th>3</th>\n",
       "      <td>428</td>\n",
       "      <td>223</td>\n",
       "    </tr>\n",
       "    <tr>\n",
       "      <th>4</th>\n",
       "      <td>816</td>\n",
       "      <td>789</td>\n",
       "    </tr>\n",
       "  </tbody>\n",
       "</table>\n",
       "</div>"
      ],
      "text/plain": [
       "    D1   D2\n",
       "0  206  216\n",
       "1   60   46\n",
       "2  182  160\n",
       "3  428  223\n",
       "4  816  789"
      ]
     },
     "execution_count": 4,
     "metadata": {},
     "output_type": "execute_result"
    }
   ],
   "source": [
    "gt.head(5)"
   ]
  },
  {
   "cell_type": "code",
   "execution_count": 15,
   "id": "fd9cf0bc-a2d9-4c28-945d-a327f4060056",
   "metadata": {},
   "outputs": [
    {
     "name": "stdout",
     "output_type": "stream",
     "text": [
      "['name', 'description', 'price']\n",
      "['name', 'description', 'price']\n"
     ]
    },
    {
     "data": {
      "text/html": [
       "<div>\n",
       "<style scoped>\n",
       "    .dataframe tbody tr th:only-of-type {\n",
       "        vertical-align: middle;\n",
       "    }\n",
       "\n",
       "    .dataframe tbody tr th {\n",
       "        vertical-align: top;\n",
       "    }\n",
       "\n",
       "    .dataframe thead th {\n",
       "        text-align: right;\n",
       "    }\n",
       "</style>\n",
       "<table border=\"1\" class=\"dataframe\">\n",
       "  <thead>\n",
       "    <tr style=\"text-align: right;\">\n",
       "      <th></th>\n",
       "      <th>name</th>\n",
       "      <th>description</th>\n",
       "      <th>price</th>\n",
       "    </tr>\n",
       "  </thead>\n",
       "  <tbody>\n",
       "    <tr>\n",
       "      <th>0</th>\n",
       "      <td>Sony Turntable - PSLX350H</td>\n",
       "      <td>Sony Turntable - PSLX350H/ Belt Drive System/ ...</td>\n",
       "      <td></td>\n",
       "    </tr>\n",
       "    <tr>\n",
       "      <th>1</th>\n",
       "      <td>Bose Acoustimass 5 Series III Speaker System -...</td>\n",
       "      <td>Bose Acoustimass 5 Series III Speaker System -...</td>\n",
       "      <td>399</td>\n",
       "    </tr>\n",
       "    <tr>\n",
       "      <th>2</th>\n",
       "      <td>Sony Switcher - SBV40S</td>\n",
       "      <td>Sony Switcher - SBV40S/ Eliminates Disconnecti...</td>\n",
       "      <td>49</td>\n",
       "    </tr>\n",
       "    <tr>\n",
       "      <th>3</th>\n",
       "      <td>Sony 5 Disc CD Player - CDPCE375</td>\n",
       "      <td>Sony 5 Disc CD Player- CDPCE375/ 5 Disc Change...</td>\n",
       "      <td></td>\n",
       "    </tr>\n",
       "    <tr>\n",
       "      <th>4</th>\n",
       "      <td>Bose 27028 161 Bookshelf Pair Speakers In Whit...</td>\n",
       "      <td>Bose 161 Bookshelf Speakers In White - 161WH/ ...</td>\n",
       "      <td>158</td>\n",
       "    </tr>\n",
       "    <tr>\n",
       "      <th>...</th>\n",
       "      <td>...</td>\n",
       "      <td>...</td>\n",
       "      <td>...</td>\n",
       "    </tr>\n",
       "    <tr>\n",
       "      <th>1071</th>\n",
       "      <td>Logitech Cordless Desktop Wave Keyboard And Mo...</td>\n",
       "      <td>Logitech Cordless Desktop Wave Keyboard And Mo...</td>\n",
       "      <td>79</td>\n",
       "    </tr>\n",
       "    <tr>\n",
       "      <th>1072</th>\n",
       "      <td>Mitsubishi DLP Black TV Stand - MBS73V</td>\n",
       "      <td>Mitsubishi DLP Black TV Stand - MBS73V/ Matchi...</td>\n",
       "      <td>549</td>\n",
       "    </tr>\n",
       "    <tr>\n",
       "      <th>1073</th>\n",
       "      <td>Logitech Digital Precision PC Gaming Headset -...</td>\n",
       "      <td>Logitech Digital Precision PC Gaming Headset -...</td>\n",
       "      <td>49</td>\n",
       "    </tr>\n",
       "    <tr>\n",
       "      <th>1074</th>\n",
       "      <td>Logitech 2.1 Multimedia Silver Speaker System ...</td>\n",
       "      <td>Logitech 2.1 Multimedia Silver Speaker System ...</td>\n",
       "      <td></td>\n",
       "    </tr>\n",
       "    <tr>\n",
       "      <th>1075</th>\n",
       "      <td>Linksys Wireless-G Range Expander - WRE54G</td>\n",
       "      <td>Linksys Wireless-G Range Expander - WRE54G/ Su...</td>\n",
       "      <td>99</td>\n",
       "    </tr>\n",
       "  </tbody>\n",
       "</table>\n",
       "<p>1076 rows × 3 columns</p>\n",
       "</div>"
      ],
      "text/plain": [
       "                                                   name  \\\n",
       "0                             Sony Turntable - PSLX350H   \n",
       "1     Bose Acoustimass 5 Series III Speaker System -...   \n",
       "2                                Sony Switcher - SBV40S   \n",
       "3                      Sony 5 Disc CD Player - CDPCE375   \n",
       "4     Bose 27028 161 Bookshelf Pair Speakers In Whit...   \n",
       "...                                                 ...   \n",
       "1071  Logitech Cordless Desktop Wave Keyboard And Mo...   \n",
       "1072             Mitsubishi DLP Black TV Stand - MBS73V   \n",
       "1073  Logitech Digital Precision PC Gaming Headset -...   \n",
       "1074  Logitech 2.1 Multimedia Silver Speaker System ...   \n",
       "1075         Linksys Wireless-G Range Expander - WRE54G   \n",
       "\n",
       "                                            description price  \n",
       "0     Sony Turntable - PSLX350H/ Belt Drive System/ ...        \n",
       "1     Bose Acoustimass 5 Series III Speaker System -...   399  \n",
       "2     Sony Switcher - SBV40S/ Eliminates Disconnecti...    49  \n",
       "3     Sony 5 Disc CD Player- CDPCE375/ 5 Disc Change...        \n",
       "4     Bose 161 Bookshelf Speakers In White - 161WH/ ...   158  \n",
       "...                                                 ...   ...  \n",
       "1071  Logitech Cordless Desktop Wave Keyboard And Mo...    79  \n",
       "1072  Mitsubishi DLP Black TV Stand - MBS73V/ Matchi...   549  \n",
       "1073  Logitech Digital Precision PC Gaming Headset -...    49  \n",
       "1074  Logitech 2.1 Multimedia Silver Speaker System ...        \n",
       "1075  Linksys Wireless-G Range Expander - WRE54G/ Su...    99  \n",
       "\n",
       "[1076 rows x 3 columns]"
      ]
     },
     "execution_count": 15,
     "metadata": {},
     "output_type": "execute_result"
    }
   ],
   "source": [
    "attr1 = d1.columns[1:].to_list()\n",
    "attr2 = d2.columns[1:].to_list()\n",
    "\n",
    "# attr1.remove('aggregate value')\n",
    "# attr2.remove('aggregate value')\n",
    "\n",
    "print(attr1)\n",
    "print(attr2)"
   ]
  },
  {
   "cell_type": "code",
   "execution_count": 19,
   "id": "801b3608-6516-4c26-9100-a17445f8902f",
   "metadata": {},
   "outputs": [
    {
     "data": {
      "text/plain": [
       "['id', 'name', 'description', 'price']"
      ]
     },
     "execution_count": 19,
     "metadata": {},
     "output_type": "execute_result"
    }
   ],
   "source": [
    "d1.columns.values.tolist()"
   ]
  },
  {
   "cell_type": "code",
   "execution_count": 16,
   "id": "dcf3dcc2-ebd8-4d3f-9bd6-e9d7b9c1d461",
   "metadata": {},
   "outputs": [
    {
     "data": {
      "text/html": [
       "<div>\n",
       "<style scoped>\n",
       "    .dataframe tbody tr th:only-of-type {\n",
       "        vertical-align: middle;\n",
       "    }\n",
       "\n",
       "    .dataframe tbody tr th {\n",
       "        vertical-align: top;\n",
       "    }\n",
       "\n",
       "    .dataframe thead th {\n",
       "        text-align: right;\n",
       "    }\n",
       "</style>\n",
       "<table border=\"1\" class=\"dataframe\">\n",
       "  <thead>\n",
       "    <tr style=\"text-align: right;\">\n",
       "      <th></th>\n",
       "      <th>name</th>\n",
       "      <th>description</th>\n",
       "      <th>price</th>\n",
       "    </tr>\n",
       "  </thead>\n",
       "  <tbody>\n",
       "    <tr>\n",
       "      <th>0</th>\n",
       "      <td>Sony Turntable - PSLX350H</td>\n",
       "      <td>Sony Turntable - PSLX350H/ Belt Drive System/ ...</td>\n",
       "      <td></td>\n",
       "    </tr>\n",
       "    <tr>\n",
       "      <th>1</th>\n",
       "      <td>Bose Acoustimass 5 Series III Speaker System -...</td>\n",
       "      <td>Bose Acoustimass 5 Series III Speaker System -...</td>\n",
       "      <td>399</td>\n",
       "    </tr>\n",
       "    <tr>\n",
       "      <th>2</th>\n",
       "      <td>Sony Switcher - SBV40S</td>\n",
       "      <td>Sony Switcher - SBV40S/ Eliminates Disconnecti...</td>\n",
       "      <td>49</td>\n",
       "    </tr>\n",
       "    <tr>\n",
       "      <th>3</th>\n",
       "      <td>Sony 5 Disc CD Player - CDPCE375</td>\n",
       "      <td>Sony 5 Disc CD Player- CDPCE375/ 5 Disc Change...</td>\n",
       "      <td></td>\n",
       "    </tr>\n",
       "    <tr>\n",
       "      <th>4</th>\n",
       "      <td>Bose 27028 161 Bookshelf Pair Speakers In Whit...</td>\n",
       "      <td>Bose 161 Bookshelf Speakers In White - 161WH/ ...</td>\n",
       "      <td>158</td>\n",
       "    </tr>\n",
       "    <tr>\n",
       "      <th>...</th>\n",
       "      <td>...</td>\n",
       "      <td>...</td>\n",
       "      <td>...</td>\n",
       "    </tr>\n",
       "    <tr>\n",
       "      <th>1071</th>\n",
       "      <td>Logitech Cordless Desktop Wave Keyboard And Mo...</td>\n",
       "      <td>Logitech Cordless Desktop Wave Keyboard And Mo...</td>\n",
       "      <td>79</td>\n",
       "    </tr>\n",
       "    <tr>\n",
       "      <th>1072</th>\n",
       "      <td>Mitsubishi DLP Black TV Stand - MBS73V</td>\n",
       "      <td>Mitsubishi DLP Black TV Stand - MBS73V/ Matchi...</td>\n",
       "      <td>549</td>\n",
       "    </tr>\n",
       "    <tr>\n",
       "      <th>1073</th>\n",
       "      <td>Logitech Digital Precision PC Gaming Headset -...</td>\n",
       "      <td>Logitech Digital Precision PC Gaming Headset -...</td>\n",
       "      <td>49</td>\n",
       "    </tr>\n",
       "    <tr>\n",
       "      <th>1074</th>\n",
       "      <td>Logitech 2.1 Multimedia Silver Speaker System ...</td>\n",
       "      <td>Logitech 2.1 Multimedia Silver Speaker System ...</td>\n",
       "      <td></td>\n",
       "    </tr>\n",
       "    <tr>\n",
       "      <th>1075</th>\n",
       "      <td>Linksys Wireless-G Range Expander - WRE54G</td>\n",
       "      <td>Linksys Wireless-G Range Expander - WRE54G/ Su...</td>\n",
       "      <td>99</td>\n",
       "    </tr>\n",
       "  </tbody>\n",
       "</table>\n",
       "<p>1076 rows × 3 columns</p>\n",
       "</div>"
      ],
      "text/plain": [
       "                                                   name  \\\n",
       "0                             Sony Turntable - PSLX350H   \n",
       "1     Bose Acoustimass 5 Series III Speaker System -...   \n",
       "2                                Sony Switcher - SBV40S   \n",
       "3                      Sony 5 Disc CD Player - CDPCE375   \n",
       "4     Bose 27028 161 Bookshelf Pair Speakers In Whit...   \n",
       "...                                                 ...   \n",
       "1071  Logitech Cordless Desktop Wave Keyboard And Mo...   \n",
       "1072             Mitsubishi DLP Black TV Stand - MBS73V   \n",
       "1073  Logitech Digital Precision PC Gaming Headset -...   \n",
       "1074  Logitech 2.1 Multimedia Silver Speaker System ...   \n",
       "1075         Linksys Wireless-G Range Expander - WRE54G   \n",
       "\n",
       "                                            description price  \n",
       "0     Sony Turntable - PSLX350H/ Belt Drive System/ ...        \n",
       "1     Bose Acoustimass 5 Series III Speaker System -...   399  \n",
       "2     Sony Switcher - SBV40S/ Eliminates Disconnecti...    49  \n",
       "3     Sony 5 Disc CD Player- CDPCE375/ 5 Disc Change...        \n",
       "4     Bose 161 Bookshelf Speakers In White - 161WH/ ...   158  \n",
       "...                                                 ...   ...  \n",
       "1071  Logitech Cordless Desktop Wave Keyboard And Mo...    79  \n",
       "1072  Mitsubishi DLP Black TV Stand - MBS73V/ Matchi...   549  \n",
       "1073  Logitech Digital Precision PC Gaming Headset -...    49  \n",
       "1074  Logitech 2.1 Multimedia Silver Speaker System ...        \n",
       "1075  Linksys Wireless-G Range Expander - WRE54G/ Su...    99  \n",
       "\n",
       "[1076 rows x 3 columns]"
      ]
     },
     "execution_count": 16,
     "metadata": {},
     "output_type": "execute_result"
    }
   ],
   "source": [
    "d1[attr1]"
   ]
  },
  {
   "cell_type": "markdown",
   "id": "9c068252-4a69-405a-a320-c2875ec08ea5",
   "metadata": {},
   "source": [
    "# Block Building\n",
    "\n",
    "## FAISS\n",
    "\n",
    "faiss.IndexIVFFlat is an implementation of an inverted file index with coarse quantization. This index is used to efficiently search for nearest neighbors of a query vector in a large dataset of vectors. Here's a brief explanation of the parameters used in this index:\n",
    "\n",
    "- `d`: The dimension of the input vectors. Each input vector should have d elements.\n",
    "- `nlist`: The number of cells (or clusters) to divide the dataset into. This determines the number of inverted lists in the index, and hence the maximum number of vectors that can be stored in the index. Larger values of nlist will generally result in more accurate search results, but may also increase the memory requirements of the index and the time required to perform searches.\n",
    "- `quantizer`: An instance of a quantizer object that is used to compress the vectors before they are added to the index. The quantizer object should implement a train method that learns the quantization function from a set of input vectors, and a compress method that compresses a vector into an integer code. FAISS provides several built-in quantizer objects, such as IndexFlatL2 and IndexScalarQuantizer.\n",
    "- `metric`: The distance metric used to measure the similarity between vectors. The metric should be one of the strings defined in the faiss.METRIC_TYPES list, such as \"l2\" for Euclidean distance or \"ip\" for inner product.\n",
    "- `nprobe`: The number of cells (or clusters) to search during a query. This parameter determines the tradeoff between accuracy and speed during searches. Larger values of nprobe will generally result in more accurate search results, but may also increase the time required to perform searches.\n",
    "\n"
   ]
  },
  {
   "cell_type": "code",
   "execution_count": 16,
   "id": "9c1b6213-a218-40cf-bc72-801b77d28da9",
   "metadata": {},
   "outputs": [],
   "source": [
    "from pyjedai.vector_based_blocking import EmbeddingsNNBlockBuilding"
   ]
  },
  {
   "cell_type": "code",
   "execution_count": 44,
   "id": "b25e2601-a871-41dd-a48c-bf72382d0f13",
   "metadata": {},
   "outputs": [
    {
     "name": "stdout",
     "output_type": "stream",
     "text": [
      "Building blocks via Embeddings-NN Block Building [sminilm, faiss]\n"
     ]
    },
    {
     "data": {
      "application/vnd.jupyter.widget-view+json": {
       "model_id": "56e68700f20346c493aa298ae25ba1ce",
       "version_major": 2,
       "version_minor": 0
      },
      "text/plain": [
       "Embeddings-NN Block Building [sminilm, faiss]:   0%|          | 0/2152 [00:00<?, ?it/s]"
      ]
     },
     "metadata": {},
     "output_type": "display_data"
    },
    {
     "name": "stdout",
     "output_type": "stream",
     "text": [
      "['name', 'description', 'price']\n",
      "['name', 'description', 'price']\n",
      "Device selected:  cpu\n",
      "Creating sentence embeddings...\n",
      "NORMALIZED\n",
      "NORMALIZED\n",
      "NORMALIZED\n"
     ]
    }
   ],
   "source": [
    "emb = EmbeddingsNNBlockBuilding(vectorizer='sminilm',\n",
    "                                similarity_search='faiss')\n",
    "blocks, g = emb.build_blocks(data, \n",
    "                          top_k=5,\n",
    "                            similarity_distance='cosine',\n",
    "                          load_embeddings_if_exist=False,\n",
    "                          save_embeddings=False,\n",
    "                          with_entity_matching=True)"
   ]
  },
  {
   "cell_type": "code",
   "execution_count": 45,
   "id": "c013adb6-b557-434d-a294-abc7198b4d0f",
   "metadata": {},
   "outputs": [
    {
     "name": "stdout",
     "output_type": "stream",
     "text": [
      "linksys etherfast ezxs88w ethernet switch - ezxs88w linksys etherfast 8-port 10/100 switch (new/workgroup)\n"
     ]
    }
   ],
   "source": [
    "# 1.\n",
    "import torch\n",
    "\n",
    "from sentence_transformers import SentenceTransformer\n",
    "from scipy import spatial, stats\n",
    "\n",
    "device = torch.device(\"cuda\" if torch.cuda.is_available() else \"cpu\")\n",
    "model = SentenceTransformer('all-MiniLM-L12-v2', device=device)\n",
    "\n",
    "e2 = 0\n",
    "print(emb._entities_d2[e2])\n",
    "encoded_2 = model.encode(emb._entities_d2[e2])\n",
    "\n",
    "res = []\n",
    "for e1 in range(0, len(emb._entities_d1)):\n",
    "    encoded_1 = model.encode(emb._entities_d1[e1])\n",
    "    sim_score = 1 - spatial.distance.cosine(encoded_1, encoded_2)\n",
    "    res.append((e1, sim_score))"
   ]
  },
  {
   "cell_type": "code",
   "execution_count": 46,
   "id": "cbce8c1d-ee3e-4676-8e53-fa1bff0a17ac",
   "metadata": {},
   "outputs": [
    {
     "name": "stdout",
     "output_type": "stream",
     "text": [
      "Brute-force:  [(1023, 0.7504152059555054), (1020, 0.6593941450119019), (1022, 0.6422648429870605), (134, 0.6380040049552917), (1021, 0.6196042895317078)]\n",
      "pyJedAI:      [(1023, 0.7504153), (1020, 0.6593942), (1022, 0.64226484), (134, 0.63800395), (1021, 0.6196043)]\n"
     ]
    }
   ],
   "source": [
    "# 2\n",
    "\n",
    "top_k = 5\n",
    "sorted_list = sorted(res, key=lambda x: x[1], reverse=True)\n",
    "print(\"Brute-force: \", sorted_list[:5])\n",
    "print(\"pyJedAI:     \",[(x,y) for x,y in zip(emb.neighbors[0][:top_k], emb.distances[0][:top_k])])"
   ]
  },
  {
   "cell_type": "code",
   "execution_count": 47,
   "id": "661ddf8a-537c-4935-a159-4cfb7bb2325a",
   "metadata": {},
   "outputs": [
    {
     "name": "stdout",
     "output_type": "stream",
     "text": [
      "***************************************************************************************************************************\n",
      "                                         Μethod:  Embeddings-NN Block Building\n",
      "***************************************************************************************************************************\n",
      "Method name: Embeddings-NN Block Building\n",
      "Parameters: \n",
      "\tVectorizer: sminilm\n",
      "\tSimilarity-Search: faiss\n",
      "\tTop-K: 5\n",
      "\tVector size: 384\n",
      "Runtime: 156.5100 seconds\n",
      "───────────────────────────────────────────────────────────────────────────────────────────────────────────────────────────\n",
      "Performance:\n",
      "\tPrecision:      9.38% \n",
      "\tRecall:        93.77%\n",
      "\tF1-score:      17.05%\n",
      "───────────────────────────────────────────────────────────────────────────────────────────────────────────────────────────\n",
      "Classification report:\n",
      "\tTrue positives: 1009\n",
      "\tFalse positives: 9751\n",
      "\tTrue negatives: 1147958\n",
      "\tFalse negatives: 67\n",
      "\tTotal comparisons: 10760\n",
      "───────────────────────────────────────────────────────────────────────────────────────────────────────────────────────────\n",
      "Statistics:\n",
      " FAISS:\n",
      "\tIndices shape returned after search: (1076, 5)\n",
      "───────────────────────────────────────────────────────────────────────────────────────────────────────────────────────────\n"
     ]
    },
    {
     "data": {
      "text/plain": [
       "{'Precision %': 9.37732342007435,\n",
       " 'Recall %': 93.77323420074349,\n",
       " 'F1 %': 17.049678945589726,\n",
       " 'True Positives': 1009,\n",
       " 'False Positives': 9751,\n",
       " 'True Negatives': 1147958,\n",
       " 'False Negatives': 67}"
      ]
     },
     "execution_count": 47,
     "metadata": {},
     "output_type": "execute_result"
    }
   ],
   "source": [
    "emb.evaluate(blocks, with_classification_report=True, with_stats=True)"
   ]
  },
  {
   "cell_type": "code",
   "execution_count": 7,
   "id": "72d16ae4-bc13-460f-a215-ac85016ded22",
   "metadata": {},
   "outputs": [
    {
     "name": "stdout",
     "output_type": "stream",
     "text": [
      "***************************************************************************************************************************\n",
      "                                         Μethod:  Embeddings-NN Block Building\n",
      "***************************************************************************************************************************\n",
      "Method name: Embeddings-NN Block Building\n",
      "Parameters: \n",
      "\tVectorizer: sminilm\n",
      "\tSimilarity-Search: faiss\n",
      "\tTop-K: 5\n",
      "\tVector size: 384\n",
      "Runtime: 32.8045 seconds\n",
      "───────────────────────────────────────────────────────────────────────────────────────────────────────────────────────────\n",
      "Performance:\n",
      "\tPrecision:      4.90% \n",
      "\tRecall:       100.00%\n",
      "\tF1-score:       9.34%\n",
      "───────────────────────────────────────────────────────────────────────────────────────────────────────────────────────────\n",
      "Classification report:\n",
      "\tTrue positives: 49\n",
      "\tFalse positives: 951\n",
      "\tTrue negatives: 9049\n",
      "\tFalse negatives: 0\n",
      "\tTotal comparisons: 1000\n",
      "───────────────────────────────────────────────────────────────────────────────────────────────────────────────────────────\n",
      "Statistics:\n",
      " FAISS:\n",
      "\tIndices shape returned after search: (100, 5)\n",
      "───────────────────────────────────────────────────────────────────────────────────────────────────────────────────────────\n"
     ]
    },
    {
     "data": {
      "text/plain": [
       "{'Precision %': 4.9,\n",
       " 'Recall %': 100.0,\n",
       " 'F1 %': 9.34223069590086,\n",
       " 'True Positives': 49,\n",
       " 'False Positives': 951,\n",
       " 'True Negatives': 9049,\n",
       " 'False Negatives': 0}"
      ]
     },
     "execution_count": 7,
     "metadata": {},
     "output_type": "execute_result"
    }
   ],
   "source": [
    "emb.evaluate(blocks, with_classification_report=True, with_stats=True)"
   ]
  },
  {
   "cell_type": "code",
   "execution_count": 7,
   "id": "4d226d89-ec5f-4e33-a491-5896cd12e2dd",
   "metadata": {},
   "outputs": [
    {
     "name": "stdout",
     "output_type": "stream",
     "text": [
      "***************************************************************************************************************************\n",
      "                                         Μethod:  Entity Matching\n",
      "***************************************************************************************************************************\n",
      "Method name: Entity Matching\n",
      "Parameters: \n",
      "\tTokenizer: white_space_tokenizer\n",
      "\tMetric: dice\n",
      "\tSimilarity Threshold: 0.0\n",
      "Runtime: 0.0000 seconds\n",
      "───────────────────────────────────────────────────────────────────────────────────────────────────────────────────────────\n",
      "Performance:\n",
      "\tPrecision:      2.38% \n",
      "\tRecall:        35.69%\n",
      "\tF1-score:       4.46%\n",
      "───────────────────────────────────────────────────────────────────────────────────────────────────────────────────────────\n"
     ]
    },
    {
     "data": {
      "text/plain": [
       "{'Precision %': 2.379182156133829,\n",
       " 'Recall %': 35.687732342007436,\n",
       " 'F1 %': 4.4609665427509295,\n",
       " 'True Positives': 384,\n",
       " 'False Positives': 15756,\n",
       " 'True Negatives': 1141328,\n",
       " 'False Negatives': 692}"
      ]
     },
     "execution_count": 7,
     "metadata": {},
     "output_type": "execute_result"
    }
   ],
   "source": [
    "from pyjedai.matching import EntityMatching\n",
    "\n",
    "EM = EntityMatching(similarity_threshold=0.0)\n",
    "EM.data = data\n",
    "EM.evaluate(g)"
   ]
  },
  {
   "cell_type": "markdown",
   "id": "6aeff39a-b51b-4166-a55b-f8452ec258a7",
   "metadata": {},
   "source": [
    "# Entity Matching"
   ]
  },
  {
   "cell_type": "code",
   "execution_count": 8,
   "id": "f479d967-8bac-4870-99bd-68c01e75747b",
   "metadata": {},
   "outputs": [],
   "source": [
    "from pyjedai.matching import EntityMatching"
   ]
  },
  {
   "cell_type": "code",
   "execution_count": 9,
   "id": "ae7b1e6a-e937-44fe-bfe5-34696ea1156c",
   "metadata": {},
   "outputs": [],
   "source": [
    "EM = EntityMatching(metric='cosine_vector_similarity',\n",
    "                    similarity_threshold=0.0)\n",
    "\n",
    "pairs_graph = EM.predict(blocks,\n",
    "                         data,\n",
    "                         tqdm_disable=True,\n",
    "                         vectors_d1=emb.vectors_1,\n",
    "                         vectors_d2=emb.vectors_2)"
   ]
  },
  {
   "cell_type": "code",
   "execution_count": 8,
   "id": "4d606bfc-3265-4042-93f3-22a1117c4886",
   "metadata": {},
   "outputs": [
    {
     "data": {
      "image/png": "[encoded data removed]",
      "text/plain": [
       "<Figure size 432x288 with 1 Axes>"
      ]
     },
     "metadata": {},
     "output_type": "display_data"
    }
   ],
   "source": [
    "draw(pairs_graph)"
   ]
  },
  {
   "cell_type": "code",
   "execution_count": 10,
   "id": "4a2a5f4a-6ffa-4c16-ae49-ff4fec4c467d",
   "metadata": {},
   "outputs": [
    {
     "name": "stdout",
     "output_type": "stream",
     "text": [
      "***************************************************************************************************************************\n",
      "                                         Μethod:  Entity Matching\n",
      "***************************************************************************************************************************\n",
      "Method name: Entity Matching\n",
      "Parameters: \n",
      "\tTokenizer: white_space_tokenizer\n",
      "\tMetric: cosine_vector_similarity\n",
      "\tSimilarity Threshold: 0.0\n",
      "Runtime: 9.9167 seconds\n",
      "───────────────────────────────────────────────────────────────────────────────────────────────────────────────────────────\n",
      "Performance:\n",
      "\tPrecision:      2.38% \n",
      "\tRecall:        35.69%\n",
      "\tF1-score:       4.46%\n",
      "───────────────────────────────────────────────────────────────────────────────────────────────────────────────────────────\n"
     ]
    },
    {
     "data": {
      "text/plain": [
       "{'Precision %': 2.379182156133829,\n",
       " 'Recall %': 35.687732342007436,\n",
       " 'F1 %': 4.4609665427509295,\n",
       " 'True Positives': 384,\n",
       " 'False Positives': 15756,\n",
       " 'True Negatives': 1141328,\n",
       " 'False Negatives': 692}"
      ]
     },
     "execution_count": 10,
     "metadata": {},
     "output_type": "execute_result"
    }
   ],
   "source": [
    "EM.evaluate(pairs_graph)"
   ]
  },
  {
   "cell_type": "code",
   "execution_count": 11,
   "id": "a12b2b98-72e4-4933-975c-e15023fa801a",
   "metadata": {},
   "outputs": [
    {
     "name": "stdout",
     "output_type": "stream",
     "text": [
      "Distribution-% of predicted scores:  [0.0, 0.0, 0.0, 0.0, 0.0, 0.0, 0.0, 2.775712515489467, 68.45724907063196, 28.767038413878566]\n"
     ]
    },
    {
     "data": {
      "image/png": "[encoded data removed]",
      "text/plain": [
       "<Figure size 720x432 with 1 Axes>"
      ]
     },
     "metadata": {
      "needs_background": "light"
     },
     "output_type": "display_data"
    }
   ],
   "source": [
    "EM.plot_distribution_of_scores()"
   ]
  },
  {
   "cell_type": "code",
   "execution_count": 12,
   "id": "b8787b76-4006-4714-b17c-4bca4dc28cad",
   "metadata": {},
   "outputs": [
    {
     "data": {
      "image/png": "[encoded data removed]",
      "text/plain": [
       "<Figure size 720x432 with 1 Axes>"
      ]
     },
     "metadata": {
      "needs_background": "light"
     },
     "output_type": "display_data"
    }
   ],
   "source": [
    "EM.plot_distribution_of_all_weights()"
   ]
  },
  {
   "cell_type": "code",
   "execution_count": 13,
   "id": "0e84de4d-5747-4a0a-ba5a-67c3f5ee539e",
   "metadata": {},
   "outputs": [
    {
     "name": "stdout",
     "output_type": "stream",
     "text": [
      "Distribution-% of predicted scores:  [0.0, 0.0, 0.0, 0.0, 0.0, 0.0, 0.37174721189591076, 3.62453531598513, 55.111524163568774, 40.89219330855018]\n"
     ]
    },
    {
     "data": {
      "image/png": "[encoded data removed]",
      "text/plain": [
       "<Figure size 720x432 with 1 Axes>"
      ]
     },
     "metadata": {
      "needs_background": "light"
     },
     "output_type": "display_data"
    }
   ],
   "source": [
    "EM.plot_gt_distribution_of_scores()"
   ]
  },
  {
   "cell_type": "code",
   "execution_count": 14,
   "id": "9ca4c72f-dc7a-4bc8-908c-44896d7395b3",
   "metadata": {},
   "outputs": [
    {
     "data": {
      "text/plain": [
       "0.8808228324078569"
      ]
     },
     "execution_count": 14,
     "metadata": {},
     "output_type": "execute_result"
    }
   ],
   "source": [
    "EM.get_weights_avg()"
   ]
  },
  {
   "cell_type": "code",
   "execution_count": 15,
   "id": "94b6bb05-05a9-4411-9747-36c03e926f27",
   "metadata": {},
   "outputs": [
    {
     "data": {
      "text/plain": [
       "0.86252517"
      ]
     },
     "execution_count": 15,
     "metadata": {},
     "output_type": "execute_result"
    }
   ],
   "source": [
    "EM.get_weights_median()"
   ]
  },
  {
   "cell_type": "code",
   "execution_count": 16,
   "id": "2db46067-465e-4af2-86fc-6eea81ba5504",
   "metadata": {},
   "outputs": [
    {
     "data": {
      "text/plain": [
       "0.03343073060295381"
      ]
     },
     "execution_count": 16,
     "metadata": {},
     "output_type": "execute_result"
    }
   ],
   "source": [
    "EM.get_weights_standard_deviation()"
   ]
  },
  {
   "cell_type": "markdown",
   "id": "93b72120-4578-4d5c-a408-a24ee78bf6cb",
   "metadata": {},
   "source": [
    "# Entity Clustering"
   ]
  },
  {
   "cell_type": "code",
   "execution_count": 20,
   "id": "500d2ef7-7017-4dba-bbea-acdba8abf5b7",
   "metadata": {},
   "outputs": [],
   "source": [
    "from pyjedai.clustering import ConnectedComponentsClustering, UniqueMappingClustering"
   ]
  },
  {
   "cell_type": "code",
   "execution_count": 27,
   "id": "aebd9329-3a4b-48c9-bd05-c7bd4aed3ca9",
   "metadata": {},
   "outputs": [],
   "source": [
    "ccc = UniqueMappingClustering()\n",
    "clusters = ccc.process(g, data, similarity_threshold=0.7)"
   ]
  },
  {
   "cell_type": "code",
   "execution_count": 28,
   "id": "22ced5c0-0e3c-4a09-a32a-19abbbe2e8d7",
   "metadata": {},
   "outputs": [
    {
     "name": "stdout",
     "output_type": "stream",
     "text": [
      "***************************************************************************************************************************\n",
      "                                         Μethod:  Unique Mapping Clustering\n",
      "***************************************************************************************************************************\n",
      "Method name: Unique Mapping Clustering\n",
      "Parameters: \n",
      "Runtime: 0.0396 seconds\n",
      "───────────────────────────────────────────────────────────────────────────────────────────────────────────────────────────\n",
      "Performance:\n",
      "\tPrecision:     82.78% \n",
      "\tRecall:        67.47%\n",
      "\tF1-score:      74.35%\n",
      "───────────────────────────────────────────────────────────────────────────────────────────────────────────────────────────\n",
      "Classification report:\n",
      "\tTrue positives: 726\n",
      "\tFalse positives: 151\n",
      "\tTrue negatives: 1157275\n",
      "\tFalse negatives: 350\n",
      "\tTotal comparisons: 877\n",
      "───────────────────────────────────────────────────────────────────────────────────────────────────────────────────────────\n"
     ]
    },
    {
     "data": {
      "text/plain": [
       "{'Precision %': 82.78221208665907,\n",
       " 'Recall %': 67.4721189591078,\n",
       " 'F1 %': 74.34715821812597,\n",
       " 'True Positives': 726,\n",
       " 'False Positives': 151,\n",
       " 'True Negatives': 1157275,\n",
       " 'False Negatives': 350}"
      ]
     },
     "execution_count": 28,
     "metadata": {},
     "output_type": "execute_result"
    }
   ],
   "source": [
    "ccc.evaluate(clusters, with_classification_report=True)"
   ]
  }
 ],
 "metadata": {
  "kernelspec": {
   "display_name": "Python 3 (ipykernel)",
   "language": "python",
   "name": "python3"
  },
  "language_info": {
   "codemirror_mode": {
    "name": "ipython",
    "version": 3
   },
   "file_extension": ".py",
   "mimetype": "text/x-python",
   "name": "python",
   "nbconvert_exporter": "python",
   "pygments_lexer": "ipython3",
   "version": "3.10.5"
  },
  "vscode": {
   "interpreter": {
    "hash": "824e5f4123a1a5b690f910010b2896a5dc6379151ca1c56e0c0465c15ebbd094"
   }
  }
 },
 "nbformat": 4,
 "nbformat_minor": 5
}
