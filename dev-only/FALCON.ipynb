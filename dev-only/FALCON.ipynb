{
 "cells": [
  {
   "cell_type": "code",
   "execution_count": null,
   "id": "dfb8112a-41b7-44fa-b80a-82e3b6d3fc9c",
   "metadata": {},
   "outputs": [],
   "source": [
    "%pip install --upgrade wheel\n",
    "%pip install --upgrade setuptools\n",
    "%pip install -U steem"
   ]
  },
  {
   "cell_type": "code",
   "execution_count": null,
   "id": "d17ecdad-a8e1-47c9-aa30-d204f10a5921",
   "metadata": {},
   "outputs": [],
   "source": [
    "%pip install falconn"
   ]
  },
  {
   "cell_type": "code",
   "execution_count": null,
   "id": "b4c637ff-20a2-4a28-ab07-64a280212518",
   "metadata": {},
   "outputs": [],
   "source": [
    "import falconn"
   ]
  }
 ],
 "metadata": {
  "kernelspec": {
   "display_name": "Python 3",
   "language": "python",
   "name": "python3"
  },
  "language_info": {
   "codemirror_mode": {
    "name": "ipython",
    "version": 3
   },
   "file_extension": ".py",
   "mimetype": "text/x-python",
   "name": "python",
   "nbconvert_exporter": "python",
   "pygments_lexer": "ipython3",
   "version": "3.10.5"
  },
  "vscode": {
   "interpreter": {
    "hash": "cac59bda82d2eee8acda0b767173e62dfe62cb7fb40b3eb8d3fb22b85c150c43"
   }
  }
 },
 "nbformat": 4,
 "nbformat_minor": 5
}
