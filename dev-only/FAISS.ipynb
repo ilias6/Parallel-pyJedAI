{
 "cells": [
  {
   "cell_type": "markdown",
   "id": "4efc798a-daa5-49c1-acb9-33538f4ff0f5",
   "metadata": {},
   "source": [
    "## Transform string dataset into vectors with SISTER"
   ]
  },
  {
   "cell_type": "code",
   "execution_count": 80,
   "id": "7899f156-5fa9-4537-b59e-eae07c00c0d0",
   "metadata": {},
   "outputs": [
    {
     "name": "stdout",
     "output_type": "stream",
     "text": [
      "Note: you may need to restart the kernel to use updated packages.Collecting sister\n",
      "  Using cached sister-0.2.2-py3-none-any.whl (5.3 kB)\n",
      "  Using cached sister-0.2.1-py3-none-any.whl (4.7 kB)\n",
      "  Using cached sister-0.1.10-py3-none-any.whl\n",
      "Requirement already satisfied: numpy in c:\\users\\nikol\\appdata\\local\\programs\\python\\python310\\lib\\site-packages (from sister) (1.22.4)\n",
      "Requirement already satisfied: gensim in c:\\users\\nikol\\appdata\\local\\programs\\python\\python310\\lib\\site-packages (from sister) (4.2.0)\n",
      "Requirement already satisfied: joblib in c:\\users\\nikol\\appdata\\local\\programs\\python\\python310\\lib\\site-packages (from sister) (1.1.0)\n",
      "Collecting fasttext\n",
      "  Using cached fasttext-0.9.2.tar.gz (68 kB)\n",
      "  Preparing metadata (setup.py): started\n",
      "  Preparing metadata (setup.py): finished with status 'done'\n",
      "Requirement already satisfied: Janome in c:\\users\\nikol\\appdata\\local\\programs\\python\\python310\\lib\\site-packages (from sister) (0.4.2)\n",
      "Requirement already satisfied: pybind11>=2.2 in c:\\users\\nikol\\appdata\\local\\programs\\python\\python310\\lib\\site-packages (from fasttext->sister) (2.10.0)\n",
      "Requirement already satisfied: setuptools>=0.7.0 in c:\\users\\nikol\\appdata\\local\\programs\\python\\python310\\lib\\site-packages (from fasttext->sister) (65.3.0)\n",
      "Requirement already satisfied: Cython==0.29.28 in c:\\users\\nikol\\appdata\\local\\programs\\python\\python310\\lib\\site-packages (from gensim->sister) (0.29.28)\n",
      "Requirement already satisfied: smart-open>=1.8.1 in c:\\users\\nikol\\appdata\\local\\programs\\python\\python310\\lib\\site-packages (from gensim->sister) (6.0.0)\n",
      "Requirement already satisfied: scipy>=0.18.1 in c:\\users\\nikol\\appdata\\local\\programs\\python\\python310\\lib\\site-packages (from gensim->sister) (1.8.1)\n",
      "Building wheels for collected packages: fasttext\n",
      "  Building wheel for fasttext (setup.py): started\n",
      "  Building wheel for fasttext (setup.py): finished with status 'error'\n",
      "  Running setup.py clean for fasttext\n",
      "Failed to build fasttext\n",
      "Installing collected packages: fasttext, sister\n",
      "  Running setup.py install for fasttext: started\n",
      "  Running setup.py install for fasttext: finished with status 'error'\n",
      "\n"
     ]
    },
    {
     "name": "stderr",
     "output_type": "stream",
     "text": [
      "  error: subprocess-exited-with-error\n",
      "  \n",
      "  python setup.py bdist_wheel did not run successfully.\n",
      "  exit code: 1\n",
      "  \n",
      "  [70 lines of output]\n",
      "  C:\\Users\\nikol\\AppData\\Local\\Programs\\Python\\Python310\\lib\\site-packages\\setuptools\\dist.py:771: UserWarning: Usage of dash-separated 'description-file' will not be supported in future versions. Please use the underscore name 'description_file' instead\n",
      "    warnings.warn(\n",
      "  running bdist_wheel\n",
      "  running build\n",
      "  running build_py\n",
      "  creating build\n",
      "  creating build\\lib.win-amd64-cpython-310\n",
      "  creating build\\lib.win-amd64-cpython-310\\fasttext\n",
      "  copying python\\fasttext_module\\fasttext\\FastText.py -> build\\lib.win-amd64-cpython-310\\fasttext\n",
      "  copying python\\fasttext_module\\fasttext\\__init__.py -> build\\lib.win-amd64-cpython-310\\fasttext\n",
      "  creating build\\lib.win-amd64-cpython-310\\fasttext\\util\n",
      "  copying python\\fasttext_module\\fasttext\\util\\util.py -> build\\lib.win-amd64-cpython-310\\fasttext\\util\n",
      "  copying python\\fasttext_module\\fasttext\\util\\__init__.py -> build\\lib.win-amd64-cpython-310\\fasttext\\util\n",
      "  creating build\\lib.win-amd64-cpython-310\\fasttext\\tests\n",
      "  copying python\\fasttext_module\\fasttext\\tests\\test_configurations.py -> build\\lib.win-amd64-cpython-310\\fasttext\\tests\n",
      "  copying python\\fasttext_module\\fasttext\\tests\\test_script.py -> build\\lib.win-amd64-cpython-310\\fasttext\\tests\n",
      "  copying python\\fasttext_module\\fasttext\\tests\\__init__.py -> build\\lib.win-amd64-cpython-310\\fasttext\\tests\n",
      "  running build_ext\n",
      "  building 'fasttext_pybind' extension\n",
      "  creating build\\temp.win-amd64-cpython-310\n",
      "  creating build\\temp.win-amd64-cpython-310\\Release\n",
      "  creating build\\temp.win-amd64-cpython-310\\Release\\python\n",
      "  creating build\\temp.win-amd64-cpython-310\\Release\\python\\fasttext_module\n",
      "  creating build\\temp.win-amd64-cpython-310\\Release\\python\\fasttext_module\\fasttext\n",
      "  creating build\\temp.win-amd64-cpython-310\\Release\\python\\fasttext_module\\fasttext\\pybind\n",
      "  creating build\\temp.win-amd64-cpython-310\\Release\\src\n",
      "  \"C:\\Program Files (x86)\\Microsoft Visual Studio\\2022\\BuildTools\\VC\\Tools\\MSVC\\14.33.31629\\bin\\HostX86\\x64\\cl.exe\" /c /nologo /O2 /W3 /GL /DNDEBUG /MD -IC:\\Users\\nikol\\AppData\\Local\\Programs\\Python\\Python310\\lib\\site-packages\\pybind11\\include -IC:\\Users\\nikol\\AppData\\Local\\Programs\\Python\\Python310\\lib\\site-packages\\pybind11\\include -Isrc -IC:\\Users\\nikol\\AppData\\Local\\Programs\\Python\\Python310\\include -IC:\\Users\\nikol\\AppData\\Local\\Programs\\Python\\Python310\\Include \"-IC:\\Program Files (x86)\\Microsoft Visual Studio\\2022\\BuildTools\\VC\\Tools\\MSVC\\14.33.31629\\include\" \"-IC:\\Program Files (x86)\\Microsoft Visual Studio\\2022\\BuildTools\\VC\\Auxiliary\\VS\\include\" \"-IC:\\Program Files (x86)\\Windows Kits\\10\\include\\10.0.19041.0\\ucrt\" \"-IC:\\Program Files (x86)\\Windows Kits\\10\\\\include\\10.0.19041.0\\\\um\" \"-IC:\\Program Files (x86)\\Windows Kits\\10\\\\include\\10.0.19041.0\\\\shared\" \"-IC:\\Program Files (x86)\\Windows Kits\\10\\\\include\\10.0.19041.0\\\\winrt\" \"-IC:\\Program Files (x86)\\Windows Kits\\10\\\\include\\10.0.19041.0\\\\cppwinrt\" /EHsc /Tppython/fasttext_module/fasttext/pybind/fasttext_pybind.cc /Fobuild\\temp.win-amd64-cpython-310\\Release\\python/fasttext_module/fasttext/pybind/fasttext_pybind.obj /EHsc /DVERSION_INFO=\\\\\\\"0.9.2\\\\\\\"\n",
      "  fasttext_pybind.cc\n",
      "  python/fasttext_module/fasttext/pybind/fasttext_pybind.cc(171): error C2065: 'ssize_t': undeclared identifier\n",
      "  python/fasttext_module/fasttext/pybind/fasttext_pybind.cc(171): error C2672: 'pybind11::init': no matching overloaded function found\n",
      "  C:\\Users\\nikol\\AppData\\Local\\Programs\\Python\\Python310\\lib\\site-packages\\pybind11\\include\\pybind11\\pybind11.h(1902): note: could be 'Ret pybind11::init(CFunc &&,AFunc &&)'\n",
      "  python/fasttext_module/fasttext/pybind/fasttext_pybind.cc(171): note: 'pybind11::init': invalid template argument for 'CFunc', type expected\n",
      "  C:\\Users\\nikol\\AppData\\Local\\Programs\\Python\\Python310\\lib\\site-packages\\pybind11\\include\\pybind11\\pybind11.h(1902): note: see declaration of 'pybind11::init'\n",
      "  C:\\Users\\nikol\\AppData\\Local\\Programs\\Python\\Python310\\lib\\site-packages\\pybind11\\include\\pybind11\\pybind11.h(1894): note: or       'Ret pybind11::init(Func &&)'\n",
      "  python/fasttext_module/fasttext/pybind/fasttext_pybind.cc(171): note: 'pybind11::init': invalid template argument for 'Func', type expected\n",
      "  C:\\Users\\nikol\\AppData\\Local\\Programs\\Python\\Python310\\lib\\site-packages\\pybind11\\include\\pybind11\\pybind11.h(1894): note: see declaration of 'pybind11::init'\n",
      "  C:\\Users\\nikol\\AppData\\Local\\Programs\\Python\\Python310\\lib\\site-packages\\pybind11\\include\\pybind11\\pybind11.h(1882): note: or       'pybind11::detail::initimpl::constructor<Args...> pybind11::init(void)'\n",
      "  python/fasttext_module/fasttext/pybind/fasttext_pybind.cc(171): note: 'pybind11::init': invalid template argument for 'Args', type expected\n",
      "  C:\\Users\\nikol\\AppData\\Local\\Programs\\Python\\Python310\\lib\\site-packages\\pybind11\\include\\pybind11\\pybind11.h(1882): note: see declaration of 'pybind11::init'\n",
      "  python/fasttext_module/fasttext/pybind/fasttext_pybind.cc(171): error C2672: 'pybind11::class_<fasttext::Vector>::def': no matching overloaded function found\n",
      "  C:\\Users\\nikol\\AppData\\Local\\Programs\\Python\\Python310\\lib\\site-packages\\pybind11\\include\\pybind11\\pybind11.h(1614): note: could be 'pybind11::class_<fasttext::Vector> &pybind11::class_<fasttext::Vector>::def(pybind11::detail::initimpl::pickle_factory<Args...> &&,const Extra &...)'\n",
      "  C:\\Users\\nikol\\AppData\\Local\\Programs\\Python\\Python310\\lib\\site-packages\\pybind11\\include\\pybind11\\pybind11.h(1608): note: or       'pybind11::class_<fasttext::Vector> &pybind11::class_<fasttext::Vector>::def(pybind11::detail::initimpl::factory<Args...> &&,const Extra &...)'\n",
      "  C:\\Users\\nikol\\AppData\\Local\\Programs\\Python\\Python310\\lib\\site-packages\\pybind11\\include\\pybind11\\pybind11.h(1601): note: or       'pybind11::class_<fasttext::Vector> &pybind11::class_<fasttext::Vector>::def(const pybind11::detail::initimpl::alias_constructor<Args...> &,const Extra &...)'\n",
      "  C:\\Users\\nikol\\AppData\\Local\\Programs\\Python\\Python310\\lib\\site-packages\\pybind11\\include\\pybind11\\pybind11.h(1594): note: or       'pybind11::class_<fasttext::Vector> &pybind11::class_<fasttext::Vector>::def(const pybind11::detail::initimpl::constructor<Args...> &,const Extra &...)'\n",
      "  C:\\Users\\nikol\\AppData\\Local\\Programs\\Python\\Python310\\lib\\site-packages\\pybind11\\include\\pybind11\\pybind11.h(1582): note: or       'pybind11::class_<fasttext::Vector> &pybind11::class_<fasttext::Vector>::def(const pybind11::detail::op_<id,ot,L,R> &,const Extra &...)'\n",
      "  C:\\Users\\nikol\\AppData\\Local\\Programs\\Python\\Python310\\lib\\site-packages\\pybind11\\include\\pybind11\\pybind11.h(1557): note: or       'pybind11::class_<fasttext::Vector> &pybind11::class_<fasttext::Vector>::def(const char *,Func &&,const Extra &...)'\n",
      "  python/fasttext_module/fasttext/pybind/fasttext_pybind.cc(171): note: 'pybind11::class_<fasttext::Vector> &pybind11::class_<fasttext::Vector>::def(const char *,Func &&,const Extra &...)': expects 3 arguments - 1 provided\n",
      "  C:\\Users\\nikol\\AppData\\Local\\Programs\\Python\\Python310\\lib\\site-packages\\pybind11\\include\\pybind11\\pybind11.h(1557): note: see declaration of 'pybind11::class_<fasttext::Vector>::def'\n",
      "  python/fasttext_module/fasttext/pybind/fasttext_pybind.cc(185): error C2065: 'ssize_t': undeclared identifier\n",
      "  python/fasttext_module/fasttext/pybind/fasttext_pybind.cc(185): error C2065: 'ssize_t': undeclared identifier\n",
      "  python/fasttext_module/fasttext/pybind/fasttext_pybind.cc(185): error C2672: 'pybind11::init': no matching overloaded function found\n",
      "  C:\\Users\\nikol\\AppData\\Local\\Programs\\Python\\Python310\\lib\\site-packages\\pybind11\\include\\pybind11\\pybind11.h(1902): note: could be 'Ret pybind11::init(CFunc &&,AFunc &&)'\n",
      "  python/fasttext_module/fasttext/pybind/fasttext_pybind.cc(185): note: 'pybind11::init': invalid template argument for 'CFunc', type expected\n",
      "  C:\\Users\\nikol\\AppData\\Local\\Programs\\Python\\Python310\\lib\\site-packages\\pybind11\\include\\pybind11\\pybind11.h(1902): note: see declaration of 'pybind11::init'\n",
      "  C:\\Users\\nikol\\AppData\\Local\\Programs\\Python\\Python310\\lib\\site-packages\\pybind11\\include\\pybind11\\pybind11.h(1894): note: or       'Ret pybind11::init(Func &&)'\n",
      "  python/fasttext_module/fasttext/pybind/fasttext_pybind.cc(185): note: 'pybind11::init': invalid template argument for 'Func', type expected\n",
      "  C:\\Users\\nikol\\AppData\\Local\\Programs\\Python\\Python310\\lib\\site-packages\\pybind11\\include\\pybind11\\pybind11.h(1894): note: see declaration of 'pybind11::init'\n",
      "  C:\\Users\\nikol\\AppData\\Local\\Programs\\Python\\Python310\\lib\\site-packages\\pybind11\\include\\pybind11\\pybind11.h(1882): note: or       'pybind11::detail::initimpl::constructor<Args...> pybind11::init(void)'\n",
      "  python/fasttext_module/fasttext/pybind/fasttext_pybind.cc(185): note: 'pybind11::init': invalid template argument for 'Args', type expected\n",
      "  C:\\Users\\nikol\\AppData\\Local\\Programs\\Python\\Python310\\lib\\site-packages\\pybind11\\include\\pybind11\\pybind11.h(1882): note: see declaration of 'pybind11::init'\n",
      "  python/fasttext_module/fasttext/pybind/fasttext_pybind.cc(185): error C2672: 'pybind11::class_<fasttext::DenseMatrix>::def': no matching overloaded function found\n",
      "  C:\\Users\\nikol\\AppData\\Local\\Programs\\Python\\Python310\\lib\\site-packages\\pybind11\\include\\pybind11\\pybind11.h(1614): note: could be 'pybind11::class_<fasttext::DenseMatrix> &pybind11::class_<fasttext::DenseMatrix>::def(pybind11::detail::initimpl::pickle_factory<Args...> &&,const Extra &...)'\n",
      "  C:\\Users\\nikol\\AppData\\Local\\Programs\\Python\\Python310\\lib\\site-packages\\pybind11\\include\\pybind11\\pybind11.h(1608): note: or       'pybind11::class_<fasttext::DenseMatrix> &pybind11::class_<fasttext::DenseMatrix>::def(pybind11::detail::initimpl::factory<Args...> &&,const Extra &...)'\n",
      "  C:\\Users\\nikol\\AppData\\Local\\Programs\\Python\\Python310\\lib\\site-packages\\pybind11\\include\\pybind11\\pybind11.h(1601): note: or       'pybind11::class_<fasttext::DenseMatrix> &pybind11::class_<fasttext::DenseMatrix>::def(const pybind11::detail::initimpl::alias_constructor<Args...> &,const Extra &...)'\n",
      "  C:\\Users\\nikol\\AppData\\Local\\Programs\\Python\\Python310\\lib\\site-packages\\pybind11\\include\\pybind11\\pybind11.h(1594): note: or       'pybind11::class_<fasttext::DenseMatrix> &pybind11::class_<fasttext::DenseMatrix>::def(const pybind11::detail::initimpl::constructor<Args...> &,const Extra &...)'\n",
      "  C:\\Users\\nikol\\AppData\\Local\\Programs\\Python\\Python310\\lib\\site-packages\\pybind11\\include\\pybind11\\pybind11.h(1582): note: or       'pybind11::class_<fasttext::DenseMatrix> &pybind11::class_<fasttext::DenseMatrix>::def(const pybind11::detail::op_<id,ot,L,R> &,const Extra &...)'\n",
      "  C:\\Users\\nikol\\AppData\\Local\\Programs\\Python\\Python310\\lib\\site-packages\\pybind11\\include\\pybind11\\pybind11.h(1557): note: or       'pybind11::class_<fasttext::DenseMatrix> &pybind11::class_<fasttext::DenseMatrix>::def(const char *,Func &&,const Extra &...)'\n",
      "  python/fasttext_module/fasttext/pybind/fasttext_pybind.cc(185): note: 'pybind11::class_<fasttext::DenseMatrix> &pybind11::class_<fasttext::DenseMatrix>::def(const char *,Func &&,const Extra &...)': expects 3 arguments - 1 provided\n",
      "  C:\\Users\\nikol\\AppData\\Local\\Programs\\Python\\Python310\\lib\\site-packages\\pybind11\\include\\pybind11\\pybind11.h(1557): note: see declaration of 'pybind11::class_<fasttext::DenseMatrix>::def'\n",
      "  error: command 'C:\\\\Program Files (x86)\\\\Microsoft Visual Studio\\\\2022\\\\BuildTools\\\\VC\\\\Tools\\\\MSVC\\\\14.33.31629\\\\bin\\\\HostX86\\\\x64\\\\cl.exe' failed with exit code 2\n",
      "  [end of output]\n",
      "  \n",
      "  note: This error originates from a subprocess, and is likely not a problem with pip.\n",
      "  ERROR: Failed building wheel for fasttext\n",
      "  error: subprocess-exited-with-error\n",
      "  \n",
      "  Running setup.py install for fasttext did not run successfully.\n",
      "  exit code: 1\n",
      "  \n",
      "  [72 lines of output]\n",
      "  C:\\Users\\nikol\\AppData\\Local\\Programs\\Python\\Python310\\lib\\site-packages\\setuptools\\dist.py:771: UserWarning: Usage of dash-separated 'description-file' will not be supported in future versions. Please use the underscore name 'description_file' instead\n",
      "    warnings.warn(\n",
      "  running install\n",
      "  C:\\Users\\nikol\\AppData\\Local\\Programs\\Python\\Python310\\lib\\site-packages\\setuptools\\command\\install.py:34: SetuptoolsDeprecationWarning: setup.py install is deprecated. Use build and pip and other standards-based tools.\n",
      "    warnings.warn(\n",
      "  running build\n",
      "  running build_py\n",
      "  creating build\n",
      "  creating build\\lib.win-amd64-cpython-310\n",
      "  creating build\\lib.win-amd64-cpython-310\\fasttext\n",
      "  copying python\\fasttext_module\\fasttext\\FastText.py -> build\\lib.win-amd64-cpython-310\\fasttext\n",
      "  copying python\\fasttext_module\\fasttext\\__init__.py -> build\\lib.win-amd64-cpython-310\\fasttext\n",
      "  creating build\\lib.win-amd64-cpython-310\\fasttext\\util\n",
      "  copying python\\fasttext_module\\fasttext\\util\\util.py -> build\\lib.win-amd64-cpython-310\\fasttext\\util\n",
      "  copying python\\fasttext_module\\fasttext\\util\\__init__.py -> build\\lib.win-amd64-cpython-310\\fasttext\\util\n",
      "  creating build\\lib.win-amd64-cpython-310\\fasttext\\tests\n",
      "  copying python\\fasttext_module\\fasttext\\tests\\test_configurations.py -> build\\lib.win-amd64-cpython-310\\fasttext\\tests\n",
      "  copying python\\fasttext_module\\fasttext\\tests\\test_script.py -> build\\lib.win-amd64-cpython-310\\fasttext\\tests\n",
      "  copying python\\fasttext_module\\fasttext\\tests\\__init__.py -> build\\lib.win-amd64-cpython-310\\fasttext\\tests\n",
      "  running build_ext\n",
      "  building 'fasttext_pybind' extension\n",
      "  creating build\\temp.win-amd64-cpython-310\n",
      "  creating build\\temp.win-amd64-cpython-310\\Release\n",
      "  creating build\\temp.win-amd64-cpython-310\\Release\\python\n",
      "  creating build\\temp.win-amd64-cpython-310\\Release\\python\\fasttext_module\n",
      "  creating build\\temp.win-amd64-cpython-310\\Release\\python\\fasttext_module\\fasttext\n",
      "  creating build\\temp.win-amd64-cpython-310\\Release\\python\\fasttext_module\\fasttext\\pybind\n",
      "  creating build\\temp.win-amd64-cpython-310\\Release\\src\n",
      "  \"C:\\Program Files (x86)\\Microsoft Visual Studio\\2022\\BuildTools\\VC\\Tools\\MSVC\\14.33.31629\\bin\\HostX86\\x64\\cl.exe\" /c /nologo /O2 /W3 /GL /DNDEBUG /MD -IC:\\Users\\nikol\\AppData\\Local\\Programs\\Python\\Python310\\lib\\site-packages\\pybind11\\include -IC:\\Users\\nikol\\AppData\\Local\\Programs\\Python\\Python310\\lib\\site-packages\\pybind11\\include -Isrc -IC:\\Users\\nikol\\AppData\\Local\\Programs\\Python\\Python310\\include -IC:\\Users\\nikol\\AppData\\Local\\Programs\\Python\\Python310\\Include \"-IC:\\Program Files (x86)\\Microsoft Visual Studio\\2022\\BuildTools\\VC\\Tools\\MSVC\\14.33.31629\\include\" \"-IC:\\Program Files (x86)\\Microsoft Visual Studio\\2022\\BuildTools\\VC\\Auxiliary\\VS\\include\" \"-IC:\\Program Files (x86)\\Windows Kits\\10\\include\\10.0.19041.0\\ucrt\" \"-IC:\\Program Files (x86)\\Windows Kits\\10\\\\include\\10.0.19041.0\\\\um\" \"-IC:\\Program Files (x86)\\Windows Kits\\10\\\\include\\10.0.19041.0\\\\shared\" \"-IC:\\Program Files (x86)\\Windows Kits\\10\\\\include\\10.0.19041.0\\\\winrt\" \"-IC:\\Program Files (x86)\\Windows Kits\\10\\\\include\\10.0.19041.0\\\\cppwinrt\" /EHsc /Tppython/fasttext_module/fasttext/pybind/fasttext_pybind.cc /Fobuild\\temp.win-amd64-cpython-310\\Release\\python/fasttext_module/fasttext/pybind/fasttext_pybind.obj /EHsc /DVERSION_INFO=\\\\\\\"0.9.2\\\\\\\"\n",
      "  fasttext_pybind.cc\n",
      "  python/fasttext_module/fasttext/pybind/fasttext_pybind.cc(171): error C2065: 'ssize_t': undeclared identifier\n",
      "  python/fasttext_module/fasttext/pybind/fasttext_pybind.cc(171): error C2672: 'pybind11::init': no matching overloaded function found\n",
      "  C:\\Users\\nikol\\AppData\\Local\\Programs\\Python\\Python310\\lib\\site-packages\\pybind11\\include\\pybind11\\pybind11.h(1902): note: could be 'Ret pybind11::init(CFunc &&,AFunc &&)'\n",
      "  python/fasttext_module/fasttext/pybind/fasttext_pybind.cc(171): note: 'pybind11::init': invalid template argument for 'CFunc', type expected\n",
      "  C:\\Users\\nikol\\AppData\\Local\\Programs\\Python\\Python310\\lib\\site-packages\\pybind11\\include\\pybind11\\pybind11.h(1902): note: see declaration of 'pybind11::init'\n",
      "  C:\\Users\\nikol\\AppData\\Local\\Programs\\Python\\Python310\\lib\\site-packages\\pybind11\\include\\pybind11\\pybind11.h(1894): note: or       'Ret pybind11::init(Func &&)'\n",
      "  python/fasttext_module/fasttext/pybind/fasttext_pybind.cc(171): note: 'pybind11::init': invalid template argument for 'Func', type expected\n",
      "  C:\\Users\\nikol\\AppData\\Local\\Programs\\Python\\Python310\\lib\\site-packages\\pybind11\\include\\pybind11\\pybind11.h(1894): note: see declaration of 'pybind11::init'\n",
      "  C:\\Users\\nikol\\AppData\\Local\\Programs\\Python\\Python310\\lib\\site-packages\\pybind11\\include\\pybind11\\pybind11.h(1882): note: or       'pybind11::detail::initimpl::constructor<Args...> pybind11::init(void)'\n",
      "  python/fasttext_module/fasttext/pybind/fasttext_pybind.cc(171): note: 'pybind11::init': invalid template argument for 'Args', type expected\n",
      "  C:\\Users\\nikol\\AppData\\Local\\Programs\\Python\\Python310\\lib\\site-packages\\pybind11\\include\\pybind11\\pybind11.h(1882): note: see declaration of 'pybind11::init'\n",
      "  python/fasttext_module/fasttext/pybind/fasttext_pybind.cc(171): error C2672: 'pybind11::class_<fasttext::Vector>::def': no matching overloaded function found\n",
      "  C:\\Users\\nikol\\AppData\\Local\\Programs\\Python\\Python310\\lib\\site-packages\\pybind11\\include\\pybind11\\pybind11.h(1614): note: could be 'pybind11::class_<fasttext::Vector> &pybind11::class_<fasttext::Vector>::def(pybind11::detail::initimpl::pickle_factory<Args...> &&,const Extra &...)'\n",
      "  C:\\Users\\nikol\\AppData\\Local\\Programs\\Python\\Python310\\lib\\site-packages\\pybind11\\include\\pybind11\\pybind11.h(1608): note: or       'pybind11::class_<fasttext::Vector> &pybind11::class_<fasttext::Vector>::def(pybind11::detail::initimpl::factory<Args...> &&,const Extra &...)'\n",
      "  C:\\Users\\nikol\\AppData\\Local\\Programs\\Python\\Python310\\lib\\site-packages\\pybind11\\include\\pybind11\\pybind11.h(1601): note: or       'pybind11::class_<fasttext::Vector> &pybind11::class_<fasttext::Vector>::def(const pybind11::detail::initimpl::alias_constructor<Args...> &,const Extra &...)'\n",
      "  C:\\Users\\nikol\\AppData\\Local\\Programs\\Python\\Python310\\lib\\site-packages\\pybind11\\include\\pybind11\\pybind11.h(1594): note: or       'pybind11::class_<fasttext::Vector> &pybind11::class_<fasttext::Vector>::def(const pybind11::detail::initimpl::constructor<Args...> &,const Extra &...)'\n",
      "  C:\\Users\\nikol\\AppData\\Local\\Programs\\Python\\Python310\\lib\\site-packages\\pybind11\\include\\pybind11\\pybind11.h(1582): note: or       'pybind11::class_<fasttext::Vector> &pybind11::class_<fasttext::Vector>::def(const pybind11::detail::op_<id,ot,L,R> &,const Extra &...)'\n",
      "  C:\\Users\\nikol\\AppData\\Local\\Programs\\Python\\Python310\\lib\\site-packages\\pybind11\\include\\pybind11\\pybind11.h(1557): note: or       'pybind11::class_<fasttext::Vector> &pybind11::class_<fasttext::Vector>::def(const char *,Func &&,const Extra &...)'\n",
      "  python/fasttext_module/fasttext/pybind/fasttext_pybind.cc(171): note: 'pybind11::class_<fasttext::Vector> &pybind11::class_<fasttext::Vector>::def(const char *,Func &&,const Extra &...)': expects 3 arguments - 1 provided\n",
      "  C:\\Users\\nikol\\AppData\\Local\\Programs\\Python\\Python310\\lib\\site-packages\\pybind11\\include\\pybind11\\pybind11.h(1557): note: see declaration of 'pybind11::class_<fasttext::Vector>::def'\n",
      "  python/fasttext_module/fasttext/pybind/fasttext_pybind.cc(185): error C2065: 'ssize_t': undeclared identifier\n",
      "  python/fasttext_module/fasttext/pybind/fasttext_pybind.cc(185): error C2065: 'ssize_t': undeclared identifier\n",
      "  python/fasttext_module/fasttext/pybind/fasttext_pybind.cc(185): error C2672: 'pybind11::init': no matching overloaded function found\n",
      "  C:\\Users\\nikol\\AppData\\Local\\Programs\\Python\\Python310\\lib\\site-packages\\pybind11\\include\\pybind11\\pybind11.h(1902): note: could be 'Ret pybind11::init(CFunc &&,AFunc &&)'\n",
      "  python/fasttext_module/fasttext/pybind/fasttext_pybind.cc(185): note: 'pybind11::init': invalid template argument for 'CFunc', type expected\n",
      "  C:\\Users\\nikol\\AppData\\Local\\Programs\\Python\\Python310\\lib\\site-packages\\pybind11\\include\\pybind11\\pybind11.h(1902): note: see declaration of 'pybind11::init'\n",
      "  C:\\Users\\nikol\\AppData\\Local\\Programs\\Python\\Python310\\lib\\site-packages\\pybind11\\include\\pybind11\\pybind11.h(1894): note: or       'Ret pybind11::init(Func &&)'\n",
      "  python/fasttext_module/fasttext/pybind/fasttext_pybind.cc(185): note: 'pybind11::init': invalid template argument for 'Func', type expected\n",
      "  C:\\Users\\nikol\\AppData\\Local\\Programs\\Python\\Python310\\lib\\site-packages\\pybind11\\include\\pybind11\\pybind11.h(1894): note: see declaration of 'pybind11::init'\n",
      "  C:\\Users\\nikol\\AppData\\Local\\Programs\\Python\\Python310\\lib\\site-packages\\pybind11\\include\\pybind11\\pybind11.h(1882): note: or       'pybind11::detail::initimpl::constructor<Args...> pybind11::init(void)'\n",
      "  python/fasttext_module/fasttext/pybind/fasttext_pybind.cc(185): note: 'pybind11::init': invalid template argument for 'Args', type expected\n",
      "  C:\\Users\\nikol\\AppData\\Local\\Programs\\Python\\Python310\\lib\\site-packages\\pybind11\\include\\pybind11\\pybind11.h(1882): note: see declaration of 'pybind11::init'\n",
      "  python/fasttext_module/fasttext/pybind/fasttext_pybind.cc(185): error C2672: 'pybind11::class_<fasttext::DenseMatrix>::def': no matching overloaded function found\n",
      "  C:\\Users\\nikol\\AppData\\Local\\Programs\\Python\\Python310\\lib\\site-packages\\pybind11\\include\\pybind11\\pybind11.h(1614): note: could be 'pybind11::class_<fasttext::DenseMatrix> &pybind11::class_<fasttext::DenseMatrix>::def(pybind11::detail::initimpl::pickle_factory<Args...> &&,const Extra &...)'\n",
      "  C:\\Users\\nikol\\AppData\\Local\\Programs\\Python\\Python310\\lib\\site-packages\\pybind11\\include\\pybind11\\pybind11.h(1608): note: or       'pybind11::class_<fasttext::DenseMatrix> &pybind11::class_<fasttext::DenseMatrix>::def(pybind11::detail::initimpl::factory<Args...> &&,const Extra &...)'\n",
      "  C:\\Users\\nikol\\AppData\\Local\\Programs\\Python\\Python310\\lib\\site-packages\\pybind11\\include\\pybind11\\pybind11.h(1601): note: or       'pybind11::class_<fasttext::DenseMatrix> &pybind11::class_<fasttext::DenseMatrix>::def(const pybind11::detail::initimpl::alias_constructor<Args...> &,const Extra &...)'\n",
      "  C:\\Users\\nikol\\AppData\\Local\\Programs\\Python\\Python310\\lib\\site-packages\\pybind11\\include\\pybind11\\pybind11.h(1594): note: or       'pybind11::class_<fasttext::DenseMatrix> &pybind11::class_<fasttext::DenseMatrix>::def(const pybind11::detail::initimpl::constructor<Args...> &,const Extra &...)'\n",
      "  C:\\Users\\nikol\\AppData\\Local\\Programs\\Python\\Python310\\lib\\site-packages\\pybind11\\include\\pybind11\\pybind11.h(1582): note: or       'pybind11::class_<fasttext::DenseMatrix> &pybind11::class_<fasttext::DenseMatrix>::def(const pybind11::detail::op_<id,ot,L,R> &,const Extra &...)'\n",
      "  C:\\Users\\nikol\\AppData\\Local\\Programs\\Python\\Python310\\lib\\site-packages\\pybind11\\include\\pybind11\\pybind11.h(1557): note: or       'pybind11::class_<fasttext::DenseMatrix> &pybind11::class_<fasttext::DenseMatrix>::def(const char *,Func &&,const Extra &...)'\n",
      "  python/fasttext_module/fasttext/pybind/fasttext_pybind.cc(185): note: 'pybind11::class_<fasttext::DenseMatrix> &pybind11::class_<fasttext::DenseMatrix>::def(const char *,Func &&,const Extra &...)': expects 3 arguments - 1 provided\n",
      "  C:\\Users\\nikol\\AppData\\Local\\Programs\\Python\\Python310\\lib\\site-packages\\pybind11\\include\\pybind11\\pybind11.h(1557): note: see declaration of 'pybind11::class_<fasttext::DenseMatrix>::def'\n",
      "  error: command 'C:\\\\Program Files (x86)\\\\Microsoft Visual Studio\\\\2022\\\\BuildTools\\\\VC\\\\Tools\\\\MSVC\\\\14.33.31629\\\\bin\\\\HostX86\\\\x64\\\\cl.exe' failed with exit code 2\n",
      "  [end of output]\n",
      "  \n",
      "  note: This error originates from a subprocess, and is likely not a problem with pip.\n",
      "error: legacy-install-failure\n",
      "\n",
      "Encountered error while trying to install package.\n",
      "\n",
      "fasttext\n",
      "\n",
      "note: This is an issue with the package mentioned above, not pip.\n",
      "hint: See above for output from the failure.\n"
     ]
    }
   ],
   "source": [
    "# %pip install --upgrade setuptools\n",
    "%pip install sister"
   ]
  },
  {
   "cell_type": "code",
   "execution_count": 81,
   "id": "74a0c2b2-7bff-419d-a739-9d9e1d6ef72c",
   "metadata": {},
   "outputs": [
    {
     "ename": "ModuleNotFoundError",
     "evalue": "No module named 'sister'",
     "output_type": "error",
     "traceback": [
      "\u001b[1;31m---------------------------------------------------------------------------\u001b[0m",
      "\u001b[1;31mModuleNotFoundError\u001b[0m                       Traceback (most recent call last)",
      "Input \u001b[1;32mIn [81]\u001b[0m, in \u001b[0;36m<cell line: 1>\u001b[1;34m()\u001b[0m\n\u001b[1;32m----> 1\u001b[0m \u001b[38;5;28;01mimport\u001b[39;00m \u001b[38;5;21;01msister\u001b[39;00m\n\u001b[0;32m      2\u001b[0m sentence_embedding \u001b[38;5;241m=\u001b[39m sister\u001b[38;5;241m.\u001b[39mMeanEmbedding(lang\u001b[38;5;241m=\u001b[39m\u001b[38;5;124m\"\u001b[39m\u001b[38;5;124men\u001b[39m\u001b[38;5;124m\"\u001b[39m)\n",
      "\u001b[1;31mModuleNotFoundError\u001b[0m: No module named 'sister'"
     ]
    }
   ],
   "source": [
    "import sister\n",
    "sentence_embedding = sister.MeanEmbedding(lang=\"en\")"
   ]
  },
  {
   "cell_type": "markdown",
   "id": "aa25e47f-0623-463a-87a1-2f8593a1a7ac",
   "metadata": {},
   "source": [
    "# ABT-BUY as vectors"
   ]
  },
  {
   "cell_type": "code",
   "execution_count": 27,
   "id": "6a1244da-6d74-4a1f-b1a4-ff63e4217313",
   "metadata": {},
   "outputs": [],
   "source": [
    "import numpy as np\n",
    "import pandas as pd \n",
    "d1 = pd.read_csv(\"./D2Aemb.csv\", sep='|')\n",
    "d2 = pd.read_csv(\"./D2Bemb.csv\", sep='|')\n",
    "gt = pd.read_csv(\"./D2groundtruth.csv\", sep='|')"
   ]
  },
  {
   "cell_type": "code",
   "execution_count": 69,
   "id": "f989a136-1445-4a0c-bc14-9fc7a0c99a17",
   "metadata": {},
   "outputs": [],
   "source": [
    "d2 = d2.replace('\\n','', regex=True)\n",
    "vectors2 = []\n",
    "for v in d2['Embedded Name']:\n",
    "    # print(v)\n",
    "    v = v.replace('[','').replace(']','')\n",
    "    vv = v.split()\n",
    "    npv = np.array(vv).astype(np.float32)\n",
    "    vectors2.append(npv)\n",
    "vectors2 = np.array(vectors)"
   ]
  },
  {
   "cell_type": "code",
   "execution_count": 70,
   "id": "04e9cc6c-062d-44e6-b57e-0c17f3584f61",
   "metadata": {},
   "outputs": [],
   "source": [
    "d1 = d1.replace('\\n','', regex=True)\n",
    "vectors = []\n",
    "for v in d1['Embedded Name']:\n",
    "    # print(v)\n",
    "    v = v.replace('[','').replace(']','')\n",
    "    vv = v.split()\n",
    "    npv = np.array(vv).astype(np.float64)\n",
    "    vectors.append(npv)\n",
    "vectors = np.array(vectors)"
   ]
  },
  {
   "cell_type": "code",
   "execution_count": 51,
   "id": "31e6308f-e06e-487b-b417-b2e6c28c1a51",
   "metadata": {},
   "outputs": [
    {
     "data": {
      "text/plain": [
       "(1076, 300)"
      ]
     },
     "execution_count": 51,
     "metadata": {},
     "output_type": "execute_result"
    }
   ],
   "source": [
    "vectors.shape"
   ]
  },
  {
   "cell_type": "markdown",
   "id": "457240f7-918a-4fa1-8fde-3641954432ee",
   "metadata": {},
   "source": [
    "# FAISS"
   ]
  },
  {
   "cell_type": "code",
   "execution_count": 2,
   "id": "d7c88f7e-33bb-441f-8632-73188bcf8020",
   "metadata": {},
   "outputs": [
    {
     "name": "stdout",
     "output_type": "stream",
     "text": [
      "Requirement already satisfied: faiss-cpu in c:\\users\\nikol\\appdata\\local\\programs\\python\\python310\\lib\\site-packages (1.7.2)\n",
      "Note: you may need to restart the kernel to use updated packages.\n"
     ]
    }
   ],
   "source": [
    "%pip install faiss-cpu"
   ]
  },
  {
   "cell_type": "code",
   "execution_count": 53,
   "id": "1c3e4074-698b-4edf-9679-7a6cda47c447",
   "metadata": {},
   "outputs": [],
   "source": [
    "import faiss\n",
    "import numpy as np "
   ]
  },
  {
   "cell_type": "code",
   "execution_count": 71,
   "id": "396228b4-911d-4ff3-aa87-e94941c5f9fe",
   "metadata": {},
   "outputs": [],
   "source": [
    "dimension = vectors.shape[1]    # dimensions of each vector                         \n",
    "n = vectors.shape[0]    # number of vectors                   \n",
    "np.random.seed(1)             \n",
    "db_vectors = np.random.random((n, dimension)).astype('float32')"
   ]
  },
  {
   "cell_type": "code",
   "execution_count": 72,
   "id": "470d127b-b023-4c11-9234-11010edb93c1",
   "metadata": {},
   "outputs": [],
   "source": [
    "nlist = 5  # number of clusters\n",
    "quantiser = faiss.IndexFlatL2(dimension)\n",
    "index = faiss.IndexIVFFlat(quantiser, dimension, nlist,   faiss.METRIC_L2)"
   ]
  },
  {
   "cell_type": "code",
   "execution_count": 73,
   "id": "81ef89a7-7a5f-4d63-b347-d14d973fec3c",
   "metadata": {},
   "outputs": [
    {
     "name": "stdout",
     "output_type": "stream",
     "text": [
      "False\n",
      "0\n",
      "True\n",
      "1076\n"
     ]
    }
   ],
   "source": [
    "print(index.is_trained)   # False\n",
    "index.train(db_vectors)  # train on the database vectors\n",
    "print(index.ntotal)   # 0\n",
    "index.add(db_vectors)   # add the vectors and update the index\n",
    "print(index.is_trained)  # True\n",
    "print(index.ntotal)   # 200"
   ]
  },
  {
   "cell_type": "code",
   "execution_count": 74,
   "id": "51478d7c-7d12-47c5-a6f0-0d816bb4cf7e",
   "metadata": {},
   "outputs": [],
   "source": [
    "nprobe = 2  # find 2 most similar clusters\n",
    "n_query = 10  \n",
    "k = 10  # return 3 nearest neighbours\n",
    "np.random.seed(0)   \n",
    "query_vectors = np.random.random((n_query, dimension)).astype('float32')\n",
    "distances, indices = index.search(vectors2, k)"
   ]
  },
  {
   "cell_type": "code",
   "execution_count": 75,
   "id": "043bf677-2edc-48a6-85d2-dec102573941",
   "metadata": {},
   "outputs": [
    {
     "data": {
      "text/plain": [
       "array([[0.5488135 , 0.71518934, 0.60276335, ..., 0.8621915 , 0.97291946,\n",
       "        0.9608347 ],\n",
       "       [0.9065555 , 0.7740473 , 0.33314514, ..., 0.47064894, 0.37824517,\n",
       "        0.97952694],\n",
       "       [0.17465839, 0.327988  , 0.6803487 , ..., 0.6277348 , 0.40142795,\n",
       "        0.41669175],\n",
       "       ...,\n",
       "       [0.23040031, 0.4266914 , 0.6104897 , ..., 0.4358412 , 0.7385922 ,\n",
       "        0.52658427],\n",
       "       [0.8866832 , 0.8309088 , 0.03160544, ..., 0.60916406, 0.7759584 ,\n",
       "        0.07614516],\n",
       "       [0.15805973, 0.6650816 , 0.7384024 , ..., 0.3236137 , 0.813545  ,\n",
       "        0.6974004 ]], dtype=float32)"
      ]
     },
     "execution_count": 75,
     "metadata": {},
     "output_type": "execute_result"
    }
   ],
   "source": [
    "query_vectors"
   ]
  },
  {
   "cell_type": "code",
   "execution_count": 76,
   "id": "d3ee16d4-3902-4b17-a5e5-4413bf5d723c",
   "metadata": {},
   "outputs": [
    {
     "data": {
      "text/plain": [
       "array([[91.65165 , 92.4441  , 93.57521 , ..., 95.98072 , 96.1364  ,\n",
       "        96.48536 ],\n",
       "       [94.56267 , 95.088905, 96.47396 , ..., 98.737305, 98.962   ,\n",
       "        99.2308  ],\n",
       "       [90.785904, 91.561615, 92.49424 , ..., 95.432144, 95.44253 ,\n",
       "        95.54106 ],\n",
       "       ...,\n",
       "       [89.67145 , 91.95996 , 92.3463  , ..., 94.61924 , 94.689   ,\n",
       "        95.30856 ],\n",
       "       [89.366714, 91.7596  , 92.51293 , ..., 94.175644, 94.33939 ,\n",
       "        94.76152 ],\n",
       "       [88.92613 , 90.67951 , 91.15164 , ..., 94.01607 , 94.25579 ,\n",
       "        94.999245]], dtype=float32)"
      ]
     },
     "execution_count": 76,
     "metadata": {},
     "output_type": "execute_result"
    }
   ],
   "source": [
    "distances"
   ]
  },
  {
   "cell_type": "code",
   "execution_count": 77,
   "id": "6fb8ed31-217d-4ead-9568-c037fdcbf958",
   "metadata": {},
   "outputs": [
    {
     "data": {
      "text/plain": [
       "array([[625, 550, 649, ..., 126,  21, 787],\n",
       "       [625, 550, 649, ...,  21, 126,  14],\n",
       "       [625, 550, 649, ..., 724,  14,  21],\n",
       "       ...,\n",
       "       [625, 224, 550, ..., 787,  14,  21],\n",
       "       [625, 224, 550, ..., 126, 787, 724],\n",
       "       [625, 550, 649, ..., 724, 948,  14]], dtype=int64)"
      ]
     },
     "execution_count": 77,
     "metadata": {},
     "output_type": "execute_result"
    }
   ],
   "source": [
    "indices"
   ]
  },
  {
   "cell_type": "code",
   "execution_count": null,
   "id": "891c253c-8d55-4579-b34b-da35e3ad57a2",
   "metadata": {},
   "outputs": [],
   "source": []
  }
 ],
 "metadata": {
  "kernelspec": {
   "display_name": "Python 3",
   "language": "python",
   "name": "python3"
  },
  "language_info": {
   "codemirror_mode": {
    "name": "ipython",
    "version": 3
   },
   "file_extension": ".py",
   "mimetype": "text/x-python",
   "name": "python",
   "nbconvert_exporter": "python",
   "pygments_lexer": "ipython3",
   "version": "3.10.5"
  },
  "vscode": {
   "interpreter": {
    "hash": "cac59bda82d2eee8acda0b767173e62dfe62cb7fb40b3eb8d3fb22b85c150c43"
   }
  }
 },
 "nbformat": 4,
 "nbformat_minor": 5
}
