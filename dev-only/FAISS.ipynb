{
 "cells": [
  {
   "cell_type": "markdown",
   "id": "4efc798a-daa5-49c1-acb9-33538f4ff0f5",
   "metadata": {},
   "source": [
    "## Transform string dataset into vectors with SISTER"
   ]
  },
  {
   "cell_type": "code",
   "execution_count": 15,
   "id": "7899f156-5fa9-4537-b59e-eae07c00c0d0",
   "metadata": {},
   "outputs": [
    {
     "name": "stdout",
     "output_type": "stream",
     "text": [
      "Requirement already satisfied: setuptools in c:\\users\\nikol\\appdata\\local\\programs\\python\\python310\\lib\\site-packages (65.3.0)\n",
      "Note: you may need to restart the kernel to use updated packages.\n",
      "Collecting sisterNote: you may need to restart the kernel to use updated packages.\n",
      "\n",
      "  Using cached sister-0.2.2-py3-none-any.whl (5.3 kB)\n",
      "Collecting transformers==2.11.0\n",
      "  Downloading transformers-2.11.0-py3-none-any.whl (674 kB)\n",
      "     ------------------------------------ 674.8/674.8 kB 134.6 kB/s eta 0:00:00\n",
      "Collecting fasttext==0.9.2\n",
      "  Using cached fasttext-0.9.2.tar.gz (68 kB)\n",
      "  Preparing metadata (setup.py): started\n",
      "  Preparing metadata (setup.py): finished with status 'done'\n",
      "Collecting mecab-python3==0.996.5\n",
      "  Using cached mecab-python3-0.996.5.tar.gz (65 kB)\n",
      "  Preparing metadata (setup.py): started\n",
      "  Preparing metadata (setup.py): finished with status 'error'\n"
     ]
    },
    {
     "name": "stderr",
     "output_type": "stream",
     "text": [
      "  error: subprocess-exited-with-error\n",
      "  \n",
      "  python setup.py egg_info did not run successfully.\n",
      "  exit code: 1\n",
      "  \n",
      "  [46 lines of output]\n",
      "  C:\\Users\\nikol\\AppData\\Local\\Programs\\Python\\Python310\\lib\\site-packages\\setuptools\\installer.py:27: SetuptoolsDeprecationWarning: setuptools.installer is deprecated. Requirements should be satisfied by a PEP 517 installer.\n",
      "    warnings.warn(\n",
      "  running egg_info\n",
      "  creating C:\\Users\\nikol\\AppData\\Local\\Temp\\pip-pip-egg-info-dz36yn9u\\mecab_python3.egg-info\n",
      "  writing C:\\Users\\nikol\\AppData\\Local\\Temp\\pip-pip-egg-info-dz36yn9u\\mecab_python3.egg-info\\PKG-INFO\n",
      "  writing dependency_links to C:\\Users\\nikol\\AppData\\Local\\Temp\\pip-pip-egg-info-dz36yn9u\\mecab_python3.egg-info\\dependency_links.txt\n",
      "  writing top-level names to C:\\Users\\nikol\\AppData\\Local\\Temp\\pip-pip-egg-info-dz36yn9u\\mecab_python3.egg-info\\top_level.txt\n",
      "  writing manifest file 'C:\\Users\\nikol\\AppData\\Local\\Temp\\pip-pip-egg-info-dz36yn9u\\mecab_python3.egg-info\\SOURCES.txt'\n",
      "  Traceback (most recent call last):\n",
      "    File \"<string>\", line 2, in <module>\n",
      "    File \"<pip-setuptools-caller>\", line 34, in <module>\n",
      "    File \"C:\\Users\\nikol\\AppData\\Local\\Temp\\pip-install-ch2v9nq1\\mecab-python3_07712428dd8145ebbde47129f769b216\\setup.py\", line 237, in <module>\n",
      "      setup(name = \"mecab-python3\",\n",
      "    File \"C:\\Users\\nikol\\AppData\\Local\\Programs\\Python\\Python310\\lib\\site-packages\\setuptools\\__init__.py\", line 87, in setup\n",
      "      return distutils.core.setup(**attrs)\n",
      "    File \"C:\\Users\\nikol\\AppData\\Local\\Programs\\Python\\Python310\\lib\\site-packages\\setuptools\\_distutils\\core.py\", line 185, in setup\n",
      "      return run_commands(dist)\n",
      "    File \"C:\\Users\\nikol\\AppData\\Local\\Programs\\Python\\Python310\\lib\\site-packages\\setuptools\\_distutils\\core.py\", line 201, in run_commands\n",
      "      dist.run_commands()\n",
      "    File \"C:\\Users\\nikol\\AppData\\Local\\Programs\\Python\\Python310\\lib\\site-packages\\setuptools\\_distutils\\dist.py\", line 973, in run_commands\n",
      "      self.run_command(cmd)\n",
      "    File \"C:\\Users\\nikol\\AppData\\Local\\Programs\\Python\\Python310\\lib\\site-packages\\setuptools\\dist.py\", line 1217, in run_command\n",
      "      super().run_command(command)\n",
      "    File \"C:\\Users\\nikol\\AppData\\Local\\Programs\\Python\\Python310\\lib\\site-packages\\setuptools\\_distutils\\dist.py\", line 992, in run_command\n",
      "      cmd_obj.run()\n",
      "    File \"C:\\Users\\nikol\\AppData\\Local\\Programs\\Python\\Python310\\lib\\site-packages\\setuptools\\command\\egg_info.py\", line 308, in run\n",
      "      self.find_sources()\n",
      "    File \"C:\\Users\\nikol\\AppData\\Local\\Programs\\Python\\Python310\\lib\\site-packages\\setuptools\\command\\egg_info.py\", line 316, in find_sources\n",
      "      mm.run()\n",
      "    File \"C:\\Users\\nikol\\AppData\\Local\\Programs\\Python\\Python310\\lib\\site-packages\\setuptools\\command\\egg_info.py\", line 560, in run\n",
      "      self.add_defaults()\n",
      "    File \"C:\\Users\\nikol\\AppData\\Local\\Programs\\Python\\Python310\\lib\\site-packages\\setuptools\\command\\egg_info.py\", line 597, in add_defaults\n",
      "      sdist.add_defaults(self)\n",
      "    File \"C:\\Users\\nikol\\AppData\\Local\\Programs\\Python\\Python310\\lib\\site-packages\\setuptools\\command\\sdist.py\", line 106, in add_defaults\n",
      "      super().add_defaults()\n",
      "    File \"C:\\Users\\nikol\\AppData\\Local\\Programs\\Python\\Python310\\lib\\site-packages\\setuptools\\_distutils\\command\\sdist.py\", line 250, in add_defaults\n",
      "      self._add_defaults_python()\n",
      "    File \"C:\\Users\\nikol\\AppData\\Local\\Programs\\Python\\Python310\\lib\\site-packages\\setuptools\\command\\sdist.py\", line 119, in _add_defaults_python\n",
      "      self._add_data_files(self._safe_data_files(build_py))\n",
      "    File \"C:\\Users\\nikol\\AppData\\Local\\Programs\\Python\\Python310\\lib\\site-packages\\setuptools\\command\\sdist.py\", line 146, in _add_data_files\n",
      "      self.filelist.extend(\n",
      "    File \"C:\\Users\\nikol\\AppData\\Local\\Programs\\Python\\Python310\\lib\\site-packages\\setuptools\\command\\egg_info.py\", line 503, in extend\n",
      "      self.files.extend(filter(self._safe_path, paths))\n",
      "    File \"C:\\Users\\nikol\\AppData\\Local\\Programs\\Python\\Python310\\lib\\site-packages\\setuptools\\command\\sdist.py\", line 146, in <genexpr>\n",
      "      self.filelist.extend(\n",
      "  ValueError: not enough values to unpack (expected 4, got 1)\n",
      "  [end of output]\n",
      "  \n",
      "  note: This error originates from a subprocess, and is likely not a problem with pip.\n",
      "error: metadata-generation-failed\n",
      "\n",
      "Encountered error while generating package metadata.\n",
      "\n",
      "See above for output.\n",
      "\n",
      "note: This is an issue with the package mentioned above, not pip.\n",
      "hint: See above for details.\n"
     ]
    }
   ],
   "source": [
    "%pip install --upgrade setuptools\n",
    "%pip install sister"
   ]
  },
  {
   "cell_type": "code",
   "execution_count": null,
   "id": "e8b48949-147f-4752-a9af-218313a2dddb",
   "metadata": {},
   "outputs": [],
   "source": []
  },
  {
   "cell_type": "code",
   "execution_count": 14,
   "id": "74a0c2b2-7bff-419d-a739-9d9e1d6ef72c",
   "metadata": {},
   "outputs": [
    {
     "ename": "ModuleNotFoundError",
     "evalue": "No module named 'sister'",
     "output_type": "error",
     "traceback": [
      "\u001b[1;31m---------------------------------------------------------------------------\u001b[0m",
      "\u001b[1;31mModuleNotFoundError\u001b[0m                       Traceback (most recent call last)",
      "Input \u001b[1;32mIn [14]\u001b[0m, in \u001b[0;36m<cell line: 1>\u001b[1;34m()\u001b[0m\n\u001b[1;32m----> 1\u001b[0m \u001b[38;5;28;01mimport\u001b[39;00m \u001b[38;5;21;01msister\u001b[39;00m\n\u001b[0;32m      3\u001b[0m sentence_embedding \u001b[38;5;241m=\u001b[39m sister\u001b[38;5;241m.\u001b[39mMeanEmbedding(lang\u001b[38;5;241m=\u001b[39m\u001b[38;5;124m\"\u001b[39m\u001b[38;5;124men\u001b[39m\u001b[38;5;124m\"\u001b[39m)\n",
      "\u001b[1;31mModuleNotFoundError\u001b[0m: No module named 'sister'"
     ]
    }
   ],
   "source": [
    "import sister\n",
    "\n",
    "sentence_embedding = sister.MeanEmbedding(lang=\"en\")"
   ]
  },
  {
   "cell_type": "code",
   "execution_count": 13,
   "id": "9e87cda0-8cba-4db9-9573-f2449b4dbf5b",
   "metadata": {},
   "outputs": [
    {
     "name": "stderr",
     "output_type": "stream",
     "text": [
      "UsageError: Line magic function `%python3` not found (But cell magic `%%python3` exists, did you mean that instead?).\n"
     ]
    }
   ],
   "source": [
    "%python --version"
   ]
  },
  {
   "cell_type": "code",
   "execution_count": null,
   "id": "e76b7b89-0dda-4204-afd2-10fa41743e50",
   "metadata": {},
   "outputs": [],
   "source": []
  },
  {
   "cell_type": "markdown",
   "id": "aa25e47f-0623-463a-87a1-2f8593a1a7ac",
   "metadata": {},
   "source": [
    "# ABT-BUY as vectors"
   ]
  },
  {
   "cell_type": "code",
   "execution_count": 27,
   "id": "6a1244da-6d74-4a1f-b1a4-ff63e4217313",
   "metadata": {},
   "outputs": [],
   "source": [
    "import numpy as np\n",
    "import pandas as pd \n",
    "d1 = pd.read_csv(\"./D2Aemb.csv\", sep='|')\n",
    "d2 = pd.read_csv(\"./D2Bemb.csv\", sep='|')\n",
    "gt = pd.read_csv(\"./D2groundtruth.csv\", sep='|')"
   ]
  },
  {
   "cell_type": "code",
   "execution_count": 69,
   "id": "f989a136-1445-4a0c-bc14-9fc7a0c99a17",
   "metadata": {},
   "outputs": [],
   "source": [
    "d2 = d2.replace('\\n','', regex=True)\n",
    "vectors2 = []\n",
    "for v in d2['Embedded Name']:\n",
    "    # print(v)\n",
    "    v = v.replace('[','').replace(']','')\n",
    "    vv = v.split()\n",
    "    npv = np.array(vv).astype(np.float32)\n",
    "    vectors2.append(npv)\n",
    "vectors2 = np.array(vectors)"
   ]
  },
  {
   "cell_type": "code",
   "execution_count": 70,
   "id": "04e9cc6c-062d-44e6-b57e-0c17f3584f61",
   "metadata": {},
   "outputs": [],
   "source": [
    "d1 = d1.replace('\\n','', regex=True)\n",
    "vectors = []\n",
    "for v in d1['Embedded Name']:\n",
    "    # print(v)\n",
    "    v = v.replace('[','').replace(']','')\n",
    "    vv = v.split()\n",
    "    npv = np.array(vv).astype(np.float64)\n",
    "    vectors.append(npv)\n",
    "vectors = np.array(vectors)"
   ]
  },
  {
   "cell_type": "code",
   "execution_count": 51,
   "id": "31e6308f-e06e-487b-b417-b2e6c28c1a51",
   "metadata": {},
   "outputs": [
    {
     "data": {
      "text/plain": [
       "(1076, 300)"
      ]
     },
     "execution_count": 51,
     "metadata": {},
     "output_type": "execute_result"
    }
   ],
   "source": [
    "vectors.shape"
   ]
  },
  {
   "cell_type": "markdown",
   "id": "457240f7-918a-4fa1-8fde-3641954432ee",
   "metadata": {},
   "source": [
    "# FAISS"
   ]
  },
  {
   "cell_type": "code",
   "execution_count": 2,
   "id": "d7c88f7e-33bb-441f-8632-73188bcf8020",
   "metadata": {},
   "outputs": [
    {
     "name": "stdout",
     "output_type": "stream",
     "text": [
      "Requirement already satisfied: faiss-cpu in c:\\users\\nikol\\appdata\\local\\programs\\python\\python310\\lib\\site-packages (1.7.2)\n",
      "Note: you may need to restart the kernel to use updated packages.\n"
     ]
    }
   ],
   "source": [
    "%pip install faiss-cpu"
   ]
  },
  {
   "cell_type": "code",
   "execution_count": 53,
   "id": "1c3e4074-698b-4edf-9679-7a6cda47c447",
   "metadata": {},
   "outputs": [],
   "source": [
    "import faiss\n",
    "import numpy as np "
   ]
  },
  {
   "cell_type": "code",
   "execution_count": 71,
   "id": "396228b4-911d-4ff3-aa87-e94941c5f9fe",
   "metadata": {},
   "outputs": [],
   "source": [
    "dimension = vectors.shape[1]    # dimensions of each vector                         \n",
    "n = vectors.shape[0]    # number of vectors                   \n",
    "np.random.seed(1)             \n",
    "db_vectors = np.random.random((n, dimension)).astype('float32')"
   ]
  },
  {
   "cell_type": "code",
   "execution_count": 72,
   "id": "470d127b-b023-4c11-9234-11010edb93c1",
   "metadata": {},
   "outputs": [],
   "source": [
    "nlist = 5  # number of clusters\n",
    "quantiser = faiss.IndexFlatL2(dimension)\n",
    "index = faiss.IndexIVFFlat(quantiser, dimension, nlist,   faiss.METRIC_L2)"
   ]
  },
  {
   "cell_type": "code",
   "execution_count": 73,
   "id": "81ef89a7-7a5f-4d63-b347-d14d973fec3c",
   "metadata": {},
   "outputs": [
    {
     "name": "stdout",
     "output_type": "stream",
     "text": [
      "False\n",
      "0\n",
      "True\n",
      "1076\n"
     ]
    }
   ],
   "source": [
    "print(index.is_trained)   # False\n",
    "index.train(db_vectors)  # train on the database vectors\n",
    "print(index.ntotal)   # 0\n",
    "index.add(db_vectors)   # add the vectors and update the index\n",
    "print(index.is_trained)  # True\n",
    "print(index.ntotal)   # 200"
   ]
  },
  {
   "cell_type": "code",
   "execution_count": 74,
   "id": "51478d7c-7d12-47c5-a6f0-0d816bb4cf7e",
   "metadata": {},
   "outputs": [],
   "source": [
    "nprobe = 2  # find 2 most similar clusters\n",
    "n_query = 10  \n",
    "k = 10  # return 3 nearest neighbours\n",
    "np.random.seed(0)   \n",
    "query_vectors = np.random.random((n_query, dimension)).astype('float32')\n",
    "distances, indices = index.search(vectors2, k)"
   ]
  },
  {
   "cell_type": "code",
   "execution_count": 75,
   "id": "043bf677-2edc-48a6-85d2-dec102573941",
   "metadata": {},
   "outputs": [
    {
     "data": {
      "text/plain": [
       "array([[0.5488135 , 0.71518934, 0.60276335, ..., 0.8621915 , 0.97291946,\n",
       "        0.9608347 ],\n",
       "       [0.9065555 , 0.7740473 , 0.33314514, ..., 0.47064894, 0.37824517,\n",
       "        0.97952694],\n",
       "       [0.17465839, 0.327988  , 0.6803487 , ..., 0.6277348 , 0.40142795,\n",
       "        0.41669175],\n",
       "       ...,\n",
       "       [0.23040031, 0.4266914 , 0.6104897 , ..., 0.4358412 , 0.7385922 ,\n",
       "        0.52658427],\n",
       "       [0.8866832 , 0.8309088 , 0.03160544, ..., 0.60916406, 0.7759584 ,\n",
       "        0.07614516],\n",
       "       [0.15805973, 0.6650816 , 0.7384024 , ..., 0.3236137 , 0.813545  ,\n",
       "        0.6974004 ]], dtype=float32)"
      ]
     },
     "execution_count": 75,
     "metadata": {},
     "output_type": "execute_result"
    }
   ],
   "source": [
    "query_vectors"
   ]
  },
  {
   "cell_type": "code",
   "execution_count": 76,
   "id": "d3ee16d4-3902-4b17-a5e5-4413bf5d723c",
   "metadata": {},
   "outputs": [
    {
     "data": {
      "text/plain": [
       "array([[91.65165 , 92.4441  , 93.57521 , ..., 95.98072 , 96.1364  ,\n",
       "        96.48536 ],\n",
       "       [94.56267 , 95.088905, 96.47396 , ..., 98.737305, 98.962   ,\n",
       "        99.2308  ],\n",
       "       [90.785904, 91.561615, 92.49424 , ..., 95.432144, 95.44253 ,\n",
       "        95.54106 ],\n",
       "       ...,\n",
       "       [89.67145 , 91.95996 , 92.3463  , ..., 94.61924 , 94.689   ,\n",
       "        95.30856 ],\n",
       "       [89.366714, 91.7596  , 92.51293 , ..., 94.175644, 94.33939 ,\n",
       "        94.76152 ],\n",
       "       [88.92613 , 90.67951 , 91.15164 , ..., 94.01607 , 94.25579 ,\n",
       "        94.999245]], dtype=float32)"
      ]
     },
     "execution_count": 76,
     "metadata": {},
     "output_type": "execute_result"
    }
   ],
   "source": [
    "distances"
   ]
  },
  {
   "cell_type": "code",
   "execution_count": 77,
   "id": "6fb8ed31-217d-4ead-9568-c037fdcbf958",
   "metadata": {},
   "outputs": [
    {
     "data": {
      "text/plain": [
       "array([[625, 550, 649, ..., 126,  21, 787],\n",
       "       [625, 550, 649, ...,  21, 126,  14],\n",
       "       [625, 550, 649, ..., 724,  14,  21],\n",
       "       ...,\n",
       "       [625, 224, 550, ..., 787,  14,  21],\n",
       "       [625, 224, 550, ..., 126, 787, 724],\n",
       "       [625, 550, 649, ..., 724, 948,  14]], dtype=int64)"
      ]
     },
     "execution_count": 77,
     "metadata": {},
     "output_type": "execute_result"
    }
   ],
   "source": [
    "indices"
   ]
  }
 ],
 "metadata": {
  "kernelspec": {
   "display_name": "Python 3",
   "language": "python",
   "name": "python3"
  },
  "language_info": {
   "codemirror_mode": {
    "name": "ipython",
    "version": 3
   },
   "file_extension": ".py",
   "mimetype": "text/x-python",
   "name": "python",
   "nbconvert_exporter": "python",
   "pygments_lexer": "ipython3",
   "version": "3.10.5"
  },
  "vscode": {
   "interpreter": {
    "hash": "cac59bda82d2eee8acda0b767173e62dfe62cb7fb40b3eb8d3fb22b85c150c43"
   }
  }
 },
 "nbformat": 4,
 "nbformat_minor": 5
}
