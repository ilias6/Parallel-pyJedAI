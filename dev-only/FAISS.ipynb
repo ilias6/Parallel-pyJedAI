{
 "cells": [
  {
   "cell_type": "markdown",
   "id": "4efc798a-daa5-49c1-acb9-33538f4ff0f5",
   "metadata": {},
   "source": [
    "## Transform string dataset into vectors with SISTER"
   ]
  },
  {
   "cell_type": "code",
   "execution_count": null,
   "id": "7899f156-5fa9-4537-b59e-eae07c00c0d0",
   "metadata": {},
   "outputs": [],
   "source": [
    "# %pip install --upgrade setuptools\n",
    "%pip install sister"
   ]
  },
  {
   "cell_type": "code",
   "execution_count": null,
   "id": "74a0c2b2-7bff-419d-a739-9d9e1d6ef72c",
   "metadata": {},
   "outputs": [],
   "source": [
    "import sister\n",
    "sentence_embedding = sister.MeanEmbedding(lang=\"en\")"
   ]
  },
  {
   "cell_type": "markdown",
   "id": "aa25e47f-0623-463a-87a1-2f8593a1a7ac",
   "metadata": {},
   "source": [
    "# ABT-BUY as vectors"
   ]
  },
  {
   "cell_type": "code",
   "execution_count": 27,
   "id": "6a1244da-6d74-4a1f-b1a4-ff63e4217313",
   "metadata": {},
   "outputs": [],
   "source": [
    "import numpy as np\n",
    "import pandas as pd\n",
    "d1 = pd.read_csv(\"./D2Aemb.csv\", sep='|')\n",
    "d2 = pd.read_csv(\"./D2Bemb.csv\", sep='|')\n",
    "gt = pd.read_csv(\"./D2groundtruth.csv\", sep='|')"
   ]
  },
  {
   "cell_type": "code",
   "execution_count": 69,
   "id": "f989a136-1445-4a0c-bc14-9fc7a0c99a17",
   "metadata": {},
   "outputs": [],
   "source": [
    "d2 = d2.replace('\\n','', regex=True)\n",
    "vectors2 = []\n",
    "for v in d2['Embedded Name']:\n",
    "    # print(v)\n",
    "    v = v.replace('[','').replace(']','')\n",
    "    vv = v.split()\n",
    "    npv = np.array(vv).astype(np.float32)\n",
    "    vectors2.append(npv)\n",
    "vectors2 = np.array(vectors)"
   ]
  },
  {
   "cell_type": "code",
   "execution_count": 70,
   "id": "04e9cc6c-062d-44e6-b57e-0c17f3584f61",
   "metadata": {},
   "outputs": [],
   "source": [
    "d1 = d1.replace('\\n','', regex=True)\n",
    "vectors = []\n",
    "for v in d1['Embedded Name']:\n",
    "    # print(v)\n",
    "    v = v.replace('[','').replace(']','')\n",
    "    vv = v.split()\n",
    "    npv = np.array(vv).astype(np.float64)\n",
    "    vectors.append(npv)\n",
    "vectors = np.array(vectors)"
   ]
  },
  {
   "cell_type": "code",
   "execution_count": 51,
   "id": "31e6308f-e06e-487b-b417-b2e6c28c1a51",
   "metadata": {},
   "outputs": [
    {
     "data": {
      "text/plain": [
       "(1076, 300)"
      ]
     },
     "execution_count": 51,
     "metadata": {},
     "output_type": "execute_result"
    }
   ],
   "source": [
    "vectors.shape"
   ]
  },
  {
   "cell_type": "markdown",
   "id": "457240f7-918a-4fa1-8fde-3641954432ee",
   "metadata": {},
   "source": [
    "# FAISS"
   ]
  },
  {
   "cell_type": "code",
   "execution_count": 2,
   "id": "d7c88f7e-33bb-441f-8632-73188bcf8020",
   "metadata": {},
   "outputs": [
    {
     "name": "stdout",
     "output_type": "stream",
     "text": [
      "Requirement already satisfied: faiss-cpu in c:\\users\\nikol\\appdata\\local\\programs\\python\\python310\\lib\\site-packages (1.7.2)\n",
      "Note: you may need to restart the kernel to use updated packages.\n"
     ]
    }
   ],
   "source": [
    "%pip install faiss-cpu"
   ]
  },
  {
   "cell_type": "code",
   "execution_count": 53,
   "id": "1c3e4074-698b-4edf-9679-7a6cda47c447",
   "metadata": {},
   "outputs": [],
   "source": [
    "import faiss\n",
    "import numpy as np "
   ]
  },
  {
   "cell_type": "code",
   "execution_count": 71,
   "id": "396228b4-911d-4ff3-aa87-e94941c5f9fe",
   "metadata": {},
   "outputs": [],
   "source": [
    "dimension = vectors.shape[1]    # dimensions of each vector                         \n",
    "n = vectors.shape[0]    # number of vectors                   \n",
    "np.random.seed(1)             \n",
    "db_vectors = np.random.random((n, dimension)).astype('float32')"
   ]
  },
  {
   "cell_type": "code",
   "execution_count": 72,
   "id": "470d127b-b023-4c11-9234-11010edb93c1",
   "metadata": {},
   "outputs": [],
   "source": [
    "nlist = 5  # number of clusters\n",
    "quantiser = faiss.IndexFlatL2(dimension)\n",
    "index = faiss.IndexIVFFlat(quantiser, dimension, nlist,   faiss.METRIC_L2)"
   ]
  },
  {
   "cell_type": "code",
   "execution_count": 73,
   "id": "81ef89a7-7a5f-4d63-b347-d14d973fec3c",
   "metadata": {},
   "outputs": [
    {
     "name": "stdout",
     "output_type": "stream",
     "text": [
      "False\n",
      "0\n",
      "True\n",
      "1076\n"
     ]
    }
   ],
   "source": [
    "print(index.is_trained)   # False\n",
    "index.train(db_vectors)  # train on the database vectors\n",
    "print(index.ntotal)   # 0\n",
    "index.add(db_vectors)   # add the vectors and update the index\n",
    "print(index.is_trained)  # True\n",
    "print(index.ntotal)   # 200"
   ]
  },
  {
   "cell_type": "code",
   "execution_count": 74,
   "id": "51478d7c-7d12-47c5-a6f0-0d816bb4cf7e",
   "metadata": {},
   "outputs": [],
   "source": [
    "nprobe = 2  # find 2 most similar clusters\n",
    "n_query = 10  \n",
    "k = 10  # return 3 nearest neighbours\n",
    "np.random.seed(0)   \n",
    "query_vectors = np.random.random((n_query, dimension)).astype('float32')\n",
    "distances, indices = index.search(vectors2, k)"
   ]
  },
  {
   "cell_type": "code",
   "execution_count": 75,
   "id": "043bf677-2edc-48a6-85d2-dec102573941",
   "metadata": {},
   "outputs": [
    {
     "data": {
      "text/plain": [
       "array([[0.5488135 , 0.71518934, 0.60276335, ..., 0.8621915 , 0.97291946,\n",
       "        0.9608347 ],\n",
       "       [0.9065555 , 0.7740473 , 0.33314514, ..., 0.47064894, 0.37824517,\n",
       "        0.97952694],\n",
       "       [0.17465839, 0.327988  , 0.6803487 , ..., 0.6277348 , 0.40142795,\n",
       "        0.41669175],\n",
       "       ...,\n",
       "       [0.23040031, 0.4266914 , 0.6104897 , ..., 0.4358412 , 0.7385922 ,\n",
       "        0.52658427],\n",
       "       [0.8866832 , 0.8309088 , 0.03160544, ..., 0.60916406, 0.7759584 ,\n",
       "        0.07614516],\n",
       "       [0.15805973, 0.6650816 , 0.7384024 , ..., 0.3236137 , 0.813545  ,\n",
       "        0.6974004 ]], dtype=float32)"
      ]
     },
     "execution_count": 75,
     "metadata": {},
     "output_type": "execute_result"
    }
   ],
   "source": [
    "query_vectors"
   ]
  },
  {
   "cell_type": "code",
   "execution_count": 76,
   "id": "d3ee16d4-3902-4b17-a5e5-4413bf5d723c",
   "metadata": {},
   "outputs": [
    {
     "data": {
      "text/plain": [
       "array([[91.65165 , 92.4441  , 93.57521 , ..., 95.98072 , 96.1364  ,\n",
       "        96.48536 ],\n",
       "       [94.56267 , 95.088905, 96.47396 , ..., 98.737305, 98.962   ,\n",
       "        99.2308  ],\n",
       "       [90.785904, 91.561615, 92.49424 , ..., 95.432144, 95.44253 ,\n",
       "        95.54106 ],\n",
       "       ...,\n",
       "       [89.67145 , 91.95996 , 92.3463  , ..., 94.61924 , 94.689   ,\n",
       "        95.30856 ],\n",
       "       [89.366714, 91.7596  , 92.51293 , ..., 94.175644, 94.33939 ,\n",
       "        94.76152 ],\n",
       "       [88.92613 , 90.67951 , 91.15164 , ..., 94.01607 , 94.25579 ,\n",
       "        94.999245]], dtype=float32)"
      ]
     },
     "execution_count": 76,
     "metadata": {},
     "output_type": "execute_result"
    }
   ],
   "source": [
    "distances"
   ]
  },
  {
   "cell_type": "code",
   "execution_count": 77,
   "id": "6fb8ed31-217d-4ead-9568-c037fdcbf958",
   "metadata": {},
   "outputs": [
    {
     "data": {
      "text/plain": [
       "array([[625, 550, 649, ..., 126,  21, 787],\n",
       "       [625, 550, 649, ...,  21, 126,  14],\n",
       "       [625, 550, 649, ..., 724,  14,  21],\n",
       "       ...,\n",
       "       [625, 224, 550, ..., 787,  14,  21],\n",
       "       [625, 224, 550, ..., 126, 787, 724],\n",
       "       [625, 550, 649, ..., 724, 948,  14]], dtype=int64)"
      ]
     },
     "execution_count": 77,
     "metadata": {},
     "output_type": "execute_result"
    }
   ],
   "source": [
    "indices"
   ]
  },
  {
   "cell_type": "code",
   "execution_count": null,
   "id": "891c253c-8d55-4579-b34b-da35e3ad57a2",
   "metadata": {},
   "outputs": [],
   "source": []
  }
 ],
 "metadata": {
  "kernelspec": {
   "display_name": "Python 3",
   "language": "python",
   "name": "python3"
  },
  "language_info": {
   "codemirror_mode": {
    "name": "ipython",
    "version": 3
   },
   "file_extension": ".py",
   "mimetype": "text/x-python",
   "name": "python",
   "nbconvert_exporter": "python",
   "pygments_lexer": "ipython3",
   "version": "3.10.5"
  },
  "vscode": {
   "interpreter": {
    "hash": "cac59bda82d2eee8acda0b767173e62dfe62cb7fb40b3eb8d3fb22b85c150c43"
   }
  }
 },
 "nbformat": 4,
 "nbformat_minor": 5
}
