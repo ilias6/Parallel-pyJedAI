{
 "cells": [
  {
   "cell_type": "markdown",
   "id": "96ec678e-b20c-4213-8616-542010f46342",
   "metadata": {},
   "source": [
    "<div align=\"center\"> \n",
    "    <hr>\n",
    "  <font size=\"6\"><b>Dev | CCER with Tf-Idf</b> </font>\n",
    "   <hr>\n",
    "</div>"
   ]
  },
  {
   "cell_type": "code",
   "execution_count": 1,
   "id": "eed013bf-c351-43a3-b600-9b35a6adfd83",
   "metadata": {},
   "outputs": [
    {
     "name": "stdout",
     "output_type": "stream",
     "text": [
      "Python 3.9.1\n"
     ]
    }
   ],
   "source": [
    "!python --version"
   ]
  },
  {
   "cell_type": "code",
   "execution_count": 2,
   "id": "6db50d83-51d8-4c95-9f27-30ef867338f2",
   "metadata": {},
   "outputs": [
    {
     "name": "stderr",
     "output_type": "stream",
     "text": [
      "[nltk_data] Downloading package stopwords to\n",
      "[nltk_data]     C:\\Users\\nikol\\AppData\\Roaming\\nltk_data...\n",
      "[nltk_data]   Package stopwords is already up-to-date!\n"
     ]
    }
   ],
   "source": [
    "import os\n",
    "import sys\n",
    "import pandas as pd\n",
    "import networkx\n",
    "from networkx import draw, Graph\n",
    "%load_ext autoreload\n",
    "%autoreload 2\n",
    "%reload_ext autoreload\n",
    "from pyjedai.utils import (\n",
    "    text_cleaning_method,\n",
    "    print_clusters,\n",
    "    print_blocks,\n",
    "    print_candidate_pairs\n",
    ")\n",
    "from pyjedai.evaluation import Evaluation, write\n",
    "from pyjedai.datamodel import Data\n",
    "d1 = pd.read_csv(\"./data/ccer/D2/abt.csv\", sep='|', engine='python')\n",
    "d2 = pd.read_csv(\"./data/ccer/D2/buy.csv\", sep='|', engine='python')\n",
    "gt = pd.read_csv(\"./data/ccer/D2/gt.csv\", sep='|', engine='python')\n",
    "\n",
    "data = Data(\n",
    "    dataset_1=d1,\n",
    "    id_column_name_1='id',\n",
    "    dataset_2=d2,\n",
    "    id_column_name_2='id',\n",
    "    ground_truth=gt\n",
    ")"
   ]
  },
  {
   "cell_type": "markdown",
   "id": "9c068252-4a69-405a-a320-c2875ec08ea5",
   "metadata": {},
   "source": [
    "# Simple workflow"
   ]
  },
  {
   "cell_type": "code",
   "execution_count": 3,
   "id": "9c1b6213-a218-40cf-bc72-801b77d28da9",
   "metadata": {},
   "outputs": [
    {
     "data": {
      "application/vnd.jupyter.widget-view+json": {
       "model_id": "cbebbbc838124091aab08d7aa21f0a92",
       "version_major": 2,
       "version_minor": 0
      },
      "text/plain": [
       "Standard Blocking:   0%|          | 0/2152 [00:00<?, ?it/s]"
      ]
     },
     "metadata": {},
     "output_type": "display_data"
    },
    {
     "name": "stdout",
     "output_type": "stream",
     "text": [
      "***************************************************************************************************************************\n",
      "                                         Μethod:  Standard Blocking\n",
      "***************************************************************************************************************************\n",
      "Method name: Standard Blocking\n",
      "Parameters: \n",
      "Runtime: 0.6540 seconds\n",
      "───────────────────────────────────────────────────────────────────────────────────────────────────────────────────────────\n",
      "Performance:\n",
      "\tPrecision:      0.11% \n",
      "\tRecall:        99.81%\n",
      "\tF1-score:       0.23%\n",
      "───────────────────────────────────────────────────────────────────────────────────────────────────────────────────────────\n",
      "Classification report:\n",
      "\tTrue positives: 1074\n",
      "\tFalse positives: 948081\n",
      "\tTrue negatives: 209693\n",
      "\tFalse negatives: 2\n",
      "\tTotal comparisons: 949155\n",
      "───────────────────────────────────────────────────────────────────────────────────────────────────────────────────────────\n"
     ]
    },
    {
     "data": {
      "application/vnd.jupyter.widget-view+json": {
       "model_id": "9d5f26e1a6c84aa58943e7c3e7fa5137",
       "version_major": 2,
       "version_minor": 0
      },
      "text/plain": [
       "Block Purging:   0%|          | 0/4264 [00:00<?, ?it/s]"
      ]
     },
     "metadata": {},
     "output_type": "display_data"
    },
    {
     "name": "stdout",
     "output_type": "stream",
     "text": [
      "***************************************************************************************************************************\n",
      "                                         Μethod:  Block Purging\n",
      "***************************************************************************************************************************\n",
      "Method name: Block Purging\n",
      "Parameters: \n",
      "\tSmoothing factor: 1.025\n",
      "\tMax Comparisons per Block: 13920.0\n",
      "Runtime: 0.1257 seconds\n",
      "───────────────────────────────────────────────────────────────────────────────────────────────────────────────────────────\n",
      "Performance:\n",
      "\tPrecision:      0.25% \n",
      "\tRecall:        99.81%\n",
      "\tF1-score:       0.49%\n",
      "───────────────────────────────────────────────────────────────────────────────────────────────────────────────────────────\n",
      "Classification report:\n",
      "\tTrue positives: 1074\n",
      "\tFalse positives: 436832\n",
      "\tTrue negatives: 720942\n",
      "\tFalse negatives: 2\n",
      "\tTotal comparisons: 437906\n",
      "───────────────────────────────────────────────────────────────────────────────────────────────────────────────────────────\n"
     ]
    },
    {
     "data": {
      "application/vnd.jupyter.widget-view+json": {
       "model_id": "df01791ca6b845f4a65710d93d86886d",
       "version_major": 2,
       "version_minor": 0
      },
      "text/plain": [
       "Block Filtering:   0%|          | 0/3 [00:00<?, ?it/s]"
      ]
     },
     "metadata": {},
     "output_type": "display_data"
    },
    {
     "data": {
      "application/vnd.jupyter.widget-view+json": {
       "model_id": "59b57facc51d40c980de9a26724f7e30",
       "version_major": 2,
       "version_minor": 0
      },
      "text/plain": [
       "Cardinality Edge Pruning:   0%|          | 0/1076 [00:00<?, ?it/s]"
      ]
     },
     "metadata": {},
     "output_type": "display_data"
    },
    {
     "name": "stdout",
     "output_type": "stream",
     "text": [
      "***************************************************************************************************************************\n",
      "                                         Μethod:  Cardinality Edge Pruning\n",
      "***************************************************************************************************************************\n",
      "Method name: Cardinality Edge Pruning\n",
      "Parameters: \n",
      "\tNode centric: False\n",
      "\tWeighting scheme: X2\n",
      "Runtime: 25.3296 seconds\n",
      "───────────────────────────────────────────────────────────────────────────────────────────────────────────────────────────\n",
      "Performance:\n",
      "\tPrecision:      6.90% \n",
      "\tRecall:        88.29%\n",
      "\tF1-score:      12.80%\n",
      "───────────────────────────────────────────────────────────────────────────────────────────────────────────────────────────\n",
      "Classification report:\n",
      "\tTrue positives: 950\n",
      "\tFalse positives: 12817\n",
      "\tTrue negatives: 1144833\n",
      "\tFalse negatives: 126\n",
      "\tTotal comparisons: 13767\n",
      "───────────────────────────────────────────────────────────────────────────────────────────────────────────────────────────\n"
     ]
    },
    {
     "data": {
      "text/plain": [
       "{'Precision %': 6.900559308491319,\n",
       " 'Recall %': 88.2899628252788,\n",
       " 'F1 %': 12.800646769520984,\n",
       " 'True Positives': 950,\n",
       " 'False Positives': 12817,\n",
       " 'True Negatives': 1144833,\n",
       " 'False Negatives': 126}"
      ]
     },
     "execution_count": 3,
     "metadata": {},
     "output_type": "execute_result"
    }
   ],
   "source": [
    "from pyjedai.block_building import StandardBlocking\n",
    "from pyjedai.block_cleaning import BlockFiltering\n",
    "from pyjedai.block_cleaning import BlockPurging\n",
    "from pyjedai.comparison_cleaning import WeightedEdgePruning, WeightedNodePruning, CardinalityEdgePruning, CardinalityNodePruning\n",
    "from pyjedai.matching import EntityMatching\n",
    "\n",
    "sb = StandardBlocking()\n",
    "blocks = sb.build_blocks(data)\n",
    "sb.evaluate(blocks, with_classification_report=True)\n",
    "\n",
    "cbbp = BlockPurging()\n",
    "blocks = cbbp.process(blocks, data, tqdm_disable=False)\n",
    "cbbp.evaluate(blocks, with_classification_report=True)\n",
    "\n",
    "bf = BlockFiltering(ratio=0.8)\n",
    "blocks = bf.process(blocks, data, tqdm_disable=False)\n",
    "\n",
    "wep = CardinalityEdgePruning(weighting_scheme='X2')\n",
    "candidate_pairs_blocks = wep.process(blocks, data)\n",
    "wep.evaluate(candidate_pairs_blocks, with_classification_report=True)"
   ]
  },
  {
   "cell_type": "code",
   "execution_count": 43,
   "id": "e0de660d-7170-4b4d-96d1-c07c2b36b40d",
   "metadata": {},
   "outputs": [
    {
     "data": {
      "application/vnd.jupyter.widget-view+json": {
       "model_id": "096e45a3451a429ba2a568f5ba54562f",
       "version_major": 2,
       "version_minor": 0
      },
      "text/plain": [
       "Entity Matching (tf-idf, word_qgram_tokenizer):   0%|          | 0/1064 [00:00<?, ?it/s]"
      ]
     },
     "metadata": {},
     "output_type": "display_data"
    },
    {
     "name": "stderr",
     "output_type": "stream",
     "text": [
      "C:\\Users\\nikol\\AppData\\Local\\Programs\\Python\\Python310\\lib\\site-packages\\sklearn\\metrics\\pairwise.py:2008: DataConversionWarning: Data was converted to boolean for metric jaccard\n",
      "  warnings.warn(msg, DataConversionWarning)\n"
     ]
    },
    {
     "name": "stdout",
     "output_type": "stream",
     "text": [
      "***************************************************************************************************************************\n",
      "                                         Μethod:  Entity Matching\n",
      "***************************************************************************************************************************\n",
      "Method name: Entity Matching\n",
      "Parameters: \n",
      "\tMetric: tf-idf\n",
      "\tAttributes: None\n",
      "\tSimilarity threshold: 0.0\n",
      "\tTokenizer: word_qgram_tokenizer\n",
      "\tSimilarity metric: jaccard\n",
      "\tQGram size: 2\n",
      "Runtime: 298.7000 seconds\n",
      "───────────────────────────────────────────────────────────────────────────────────────────────────────────────────────────\n",
      "Performance:\n",
      "\tPrecision:      8.11% \n",
      "\tRecall:        79.55%\n",
      "\tF1-score:      14.72%\n",
      "───────────────────────────────────────────────────────────────────────────────────────────────────────────────────────────\n"
     ]
    },
    {
     "data": {
      "text/plain": [
       "{'Precision %': 8.111437505922487,\n",
       " 'Recall %': 79.5539033457249,\n",
       " 'F1 %': 14.721816149281969,\n",
       " 'True Positives': 856,\n",
       " 'False Positives': 9697,\n",
       " 'True Negatives': 1147859,\n",
       " 'False Negatives': 220}"
      ]
     },
     "execution_count": 43,
     "metadata": {},
     "output_type": "execute_result"
    }
   ],
   "source": [
    "em = EntityMatching(metric='tf-idf', tokenizer = 'word_qgram_tokenizer', qgram=2, tfidf_similarity_metric='jaccard', similarity_threshold=0.0)\n",
    "pairs_graph = em.predict(candidate_pairs_blocks, data)\n",
    "em.evaluate(pairs_graph)"
   ]
  },
  {
   "cell_type": "code",
   "execution_count": 49,
   "id": "7f773307-35d8-4a10-88c0-c6eda7356ec4",
   "metadata": {},
   "outputs": [
    {
     "data": {
      "image/png": "[encoded data removed]",
      "text/plain": [
       "<Figure size 720x432 with 1 Axes>"
      ]
     },
     "metadata": {
      "needs_background": "light"
     },
     "output_type": "display_data"
    }
   ],
   "source": [
    "em.plot_distribution_of_all_weights()"
   ]
  },
  {
   "cell_type": "code",
   "execution_count": 50,
   "id": "19d0eb71-ba9f-4613-9e18-9fd876b9f82d",
   "metadata": {},
   "outputs": [
    {
     "name": "stdout",
     "output_type": "stream",
     "text": [
      "Distribution-% of predicted scores:  [0.31344109151250693, 19.156782004793804, 43.19341159117448, 32.59172761354557, 4.31442443611333, 0.3933378403294204, 0.03687542253088316, 0.0, 0.0, 0.0]\n"
     ]
    },
    {
     "data": {
      "image/png": "[encoded data removed]",
      "text/plain": [
       "<Figure size 720x432 with 1 Axes>"
      ]
     },
     "metadata": {
      "needs_background": "light"
     },
     "output_type": "display_data"
    }
   ],
   "source": [
    "em.plot_distribution_of_scores()"
   ]
  },
  {
   "cell_type": "code",
   "execution_count": 51,
   "id": "6f8efe1d-b981-4fba-b5cf-2b28fb189ee2",
   "metadata": {},
   "outputs": [
    {
     "name": "stdout",
     "output_type": "stream",
     "text": [
      "***************************************************************************************************************************\n",
      "                                         Μethod:  Unique Mapping Clustering\n",
      "***************************************************************************************************************************\n",
      "Method name: Unique Mapping Clustering\n",
      "Parameters: \n",
      "Runtime: 0.2400 seconds\n",
      "───────────────────────────────────────────────────────────────────────────────────────────────────────────────────────────\n",
      "Performance:\n",
      "\tPrecision:     76.15% \n",
      "\tRecall:        67.66%\n",
      "\tF1-score:      71.65%\n",
      "───────────────────────────────────────────────────────────────────────────────────────────────────────────────────────────\n",
      "Classification report:\n",
      "\tTrue positives: 728\n",
      "\tFalse positives: 228\n",
      "\tTrue negatives: 1157200\n",
      "\tFalse negatives: 348\n",
      "\tTotal comparisons: 956\n",
      "───────────────────────────────────────────────────────────────────────────────────────────────────────────────────────────\n"
     ]
    },
    {
     "data": {
      "text/plain": [
       "{'Precision %': 76.15062761506276,\n",
       " 'Recall %': 67.65799256505576,\n",
       " 'F1 %': 71.65354330708661,\n",
       " 'True Positives': 728,\n",
       " 'False Positives': 228,\n",
       " 'True Negatives': 1157200,\n",
       " 'False Negatives': 348}"
      ]
     },
     "execution_count": 51,
     "metadata": {},
     "output_type": "execute_result"
    }
   ],
   "source": [
    "from pyjedai.clustering import UniqueMappingClustering\n",
    "umc = UniqueMappingClustering()\n",
    "clusters = umc.process(pairs_graph, data)\n",
    "umc.evaluate(clusters, with_classification_report=True)"
   ]
  },
  {
   "cell_type": "markdown",
   "id": "f530a074-a921-412d-bd1c-aa9169b8141a",
   "metadata": {},
   "source": [
    "----\n",
    "\n",
    "---\n",
    "\n",
    "# Script with Optuna for fine-tuning tfidf\n",
    "\n"
   ]
  },
  {
   "cell_type": "code",
   "execution_count": null,
   "id": "272e60a7-9311-453d-a088-82f832204b3b",
   "metadata": {},
   "outputs": [
    {
     "name": "stdout",
     "output_type": "stream",
     "text": [
      "\n",
      "\n",
      "Dataset:  D1\n"
     ]
    },
    {
     "name": "stderr",
     "output_type": "stream",
     "text": [
      "\u001b[32m[I 2023-06-14 15:44:31,944]\u001b[0m A new study created in RDB with name: D1_tfidf_entity_matching\u001b[0m\n"
     ]
    },
    {
     "name": "stdout",
     "output_type": "stream",
     "text": [
      "Optuna trials starting\n"
     ]
    },
    {
     "name": "stderr",
     "output_type": "stream",
     "text": [
      "C:\\Users\\nikol\\AppData\\Local\\Programs\\Python\\Python310\\lib\\site-packages\\optuna\\progress_bar.py:49: ExperimentalWarning: Progress bar is experimental (supported from v1.2.0). The interface can change in the future.\n",
      "  self._init_valid()\n"
     ]
    },
    {
     "data": {
      "application/vnd.jupyter.widget-view+json": {
       "model_id": "aef6a13b6628476ebceab6d0c99b24be",
       "version_major": 2,
       "version_minor": 0
      },
      "text/plain": [
       "  0%|          | 0/1 [00:00<?, ?it/s]"
      ]
     },
     "metadata": {},
     "output_type": "display_data"
    },
    {
     "data": {
      "application/vnd.jupyter.widget-view+json": {
       "model_id": "69c4a55d996c4541bec58e1d681e6f7c",
       "version_major": 2,
       "version_minor": 0
      },
      "text/plain": [
       "Standard Blocking:   0%|          | 0/2595 [00:00<?, ?it/s]"
      ]
     },
     "metadata": {},
     "output_type": "display_data"
    },
    {
     "data": {
      "application/vnd.jupyter.widget-view+json": {
       "model_id": "2ad5f646f21c4366bb1410526214934a",
       "version_major": 2,
       "version_minor": 0
      },
      "text/plain": [
       "Block Purging:   0%|          | 0/1214 [00:00<?, ?it/s]"
      ]
     },
     "metadata": {},
     "output_type": "display_data"
    },
    {
     "data": {
      "application/vnd.jupyter.widget-view+json": {
       "model_id": "dcd6fc6eb98540c091ffa97e31a49d1c",
       "version_major": 2,
       "version_minor": 0
      },
      "text/plain": [
       "Block Filtering:   0%|          | 0/3 [00:00<?, ?it/s]"
      ]
     },
     "metadata": {},
     "output_type": "display_data"
    },
    {
     "data": {
      "application/vnd.jupyter.widget-view+json": {
       "model_id": "df264b7b947443708725d6e34095c47c",
       "version_major": 2,
       "version_minor": 0
      },
      "text/plain": [
       "Cardinality Node Pruning:   0%|          | 0/2595 [00:00<?, ?it/s]"
      ]
     },
     "metadata": {},
     "output_type": "display_data"
    },
    {
     "name": "stdout",
     "output_type": "stream",
     "text": [
      "***************************************************************************************************************************\n",
      "                                         Μethod:  Cardinality Node Pruning\n",
      "***************************************************************************************************************************\n",
      "Method name: Cardinality Node Pruning\n",
      "Parameters: \n",
      "\tNode centric: True\n",
      "\tWeighting scheme: JS\n",
      "Runtime: 0.1895 seconds\n",
      "───────────────────────────────────────────────────────────────────────────────────────────────────────────────────────────\n",
      "Performance:\n",
      "\tPrecision:      9.81% \n",
      "\tRecall:       100.00%\n",
      "\tF1-score:      17.87%\n",
      "───────────────────────────────────────────────────────────────────────────────────────────────────────────────────────────\n",
      "Candidate pairs:  907\n"
     ]
    },
    {
     "data": {
      "application/vnd.jupyter.widget-view+json": {
       "model_id": "3b7084e0020944baa17e44385bd6f0d6",
       "version_major": 2,
       "version_minor": 0
      },
      "text/plain": [
       "Entity Matching (tf-idf):   0%|          | 0/907 [00:00<?, ?it/s]"
      ]
     },
     "metadata": {},
     "output_type": "display_data"
    },
    {
     "name": "stderr",
     "output_type": "stream",
     "text": [
      "C:\\Users\\nikol\\AppData\\Local\\Programs\\Python\\Python310\\lib\\site-packages\\sklearn\\metrics\\pairwise.py:2008: DataConversionWarning: Data was converted to boolean for metric jaccard\n",
      "  warnings.warn(msg, DataConversionWarning)\n"
     ]
    },
    {
     "name": "stdout",
     "output_type": "stream",
     "text": [
      "***************************************************************************************************************************\n",
      "                                         Μethod:  Entity Matching\n",
      "***************************************************************************************************************************\n",
      "Method name: Entity Matching\n",
      "Parameters: \n",
      "\tTokenizer: char_qgram_tokenizer\n",
      "\tMetric: tf-idf\n",
      "\tSimilarity Threshold: 0.0\n",
      "Runtime: 316.7172 seconds\n",
      "───────────────────────────────────────────────────────────────────────────────────────────────────────────────────────────\n",
      "Performance:\n",
      "\tPrecision:     10.99% \n",
      "\tRecall:       100.00%\n",
      "\tF1-score:      19.80%\n",
      "───────────────────────────────────────────────────────────────────────────────────────────────────────────────────────────\n",
      "***************************************************************************************************************************\n",
      "                                         Μethod:  Unique Mapping Clustering\n",
      "***************************************************************************************************************************\n",
      "Method name: Unique Mapping Clustering\n",
      "Parameters: \n",
      "Runtime: 0.0132 seconds\n",
      "───────────────────────────────────────────────────────────────────────────────────────────────────────────────────────────\n",
      "Performance:\n",
      "\tPrecision:     36.42% \n",
      "\tRecall:        61.80%\n",
      "\tF1-score:      45.83%\n",
      "───────────────────────────────────────────────────────────────────────────────────────────────────────────────────────────\n",
      "Classification report:\n",
      "\tTrue positives: 55\n",
      "\tFalse positives: 96\n",
      "\tTrue negatives: 764654\n",
      "\tFalse negatives: 34\n",
      "\tTotal comparisons: 151\n",
      "───────────────────────────────────────────────────────────────────────────────────────────────────────────────────────────\n",
      "\u001b[32m[I 2023-06-14 15:49:49,708]\u001b[0m Trial 0 finished with value: 45.83333333333333 and parameters: {'tokenizer': 'char_qgram_tokenizer', 'qgram': 5, 'tfidf_similarity_metric': 'jaccard', 'similarity_threshold': 0.4934827670456634}. Best is trial 0 with value: 45.83333333333333.\u001b[0m\n",
      "Optuna trials finished\n",
      "\n",
      "\n",
      "Dataset:  D2\n"
     ]
    },
    {
     "name": "stderr",
     "output_type": "stream",
     "text": [
      "\u001b[32m[I 2023-06-14 15:49:49,901]\u001b[0m A new study created in RDB with name: D2_tfidf_entity_matching\u001b[0m\n"
     ]
    },
    {
     "name": "stdout",
     "output_type": "stream",
     "text": [
      "Optuna trials starting\n"
     ]
    },
    {
     "name": "stderr",
     "output_type": "stream",
     "text": [
      "C:\\Users\\nikol\\AppData\\Local\\Programs\\Python\\Python310\\lib\\site-packages\\optuna\\progress_bar.py:49: ExperimentalWarning: Progress bar is experimental (supported from v1.2.0). The interface can change in the future.\n",
      "  self._init_valid()\n"
     ]
    },
    {
     "data": {
      "application/vnd.jupyter.widget-view+json": {
       "model_id": "f666c6e2e334466eb4dbb0ea21984f58",
       "version_major": 2,
       "version_minor": 0
      },
      "text/plain": [
       "  0%|          | 0/1 [00:00<?, ?it/s]"
      ]
     },
     "metadata": {},
     "output_type": "display_data"
    },
    {
     "data": {
      "application/vnd.jupyter.widget-view+json": {
       "model_id": "df878c1ce8d14bb9874589030a3833a4",
       "version_major": 2,
       "version_minor": 0
      },
      "text/plain": [
       "Standard Blocking:   0%|          | 0/2152 [00:00<?, ?it/s]"
      ]
     },
     "metadata": {},
     "output_type": "display_data"
    },
    {
     "data": {
      "application/vnd.jupyter.widget-view+json": {
       "model_id": "9dd25d6269e043c69e67575703af921a",
       "version_major": 2,
       "version_minor": 0
      },
      "text/plain": [
       "Block Purging:   0%|          | 0/4264 [00:00<?, ?it/s]"
      ]
     },
     "metadata": {},
     "output_type": "display_data"
    },
    {
     "data": {
      "application/vnd.jupyter.widget-view+json": {
       "model_id": "cbc9f4b4eae8456c8e0413f6f8b81226",
       "version_major": 2,
       "version_minor": 0
      },
      "text/plain": [
       "Block Filtering:   0%|          | 0/3 [00:00<?, ?it/s]"
      ]
     },
     "metadata": {},
     "output_type": "display_data"
    },
    {
     "data": {
      "application/vnd.jupyter.widget-view+json": {
       "model_id": "2ba7dd284bc14685bf2783770a7b2415",
       "version_major": 2,
       "version_minor": 0
      },
      "text/plain": [
       "Cardinality Node Pruning:   0%|          | 0/2152 [00:00<?, ?it/s]"
      ]
     },
     "metadata": {},
     "output_type": "display_data"
    },
    {
     "name": "stdout",
     "output_type": "stream",
     "text": [
      "***************************************************************************************************************************\n",
      "                                         Μethod:  Cardinality Node Pruning\n",
      "***************************************************************************************************************************\n",
      "Method name: Cardinality Node Pruning\n",
      "Parameters: \n",
      "\tNode centric: True\n",
      "\tWeighting scheme: JS\n",
      "Runtime: 1.1767 seconds\n",
      "───────────────────────────────────────────────────────────────────────────────────────────────────────────────────────────\n",
      "Performance:\n",
      "\tPrecision:      7.92% \n",
      "\tRecall:        86.43%\n",
      "\tF1-score:      14.51%\n",
      "───────────────────────────────────────────────────────────────────────────────────────────────────────────────────────────\n",
      "Candidate pairs:  1939\n"
     ]
    },
    {
     "data": {
      "application/vnd.jupyter.widget-view+json": {
       "model_id": "85d24e70b0984a53a7a2954646924219",
       "version_major": 2,
       "version_minor": 0
      },
      "text/plain": [
       "Entity Matching (tf-idf):   0%|          | 0/1939 [00:00<?, ?it/s]"
      ]
     },
     "metadata": {},
     "output_type": "display_data"
    },
    {
     "name": "stderr",
     "output_type": "stream",
     "text": [
      "C:\\Users\\nikol\\AppData\\Local\\Programs\\Python\\Python310\\lib\\site-packages\\sklearn\\metrics\\pairwise.py:2008: DataConversionWarning: Data was converted to boolean for metric jaccard\n",
      "  warnings.warn(msg, DataConversionWarning)\n"
     ]
    },
    {
     "name": "stdout",
     "output_type": "stream",
     "text": [
      "***************************************************************************************************************************\n",
      "                                         Μethod:  Entity Matching\n",
      "***************************************************************************************************************************\n",
      "Method name: Entity Matching\n",
      "Parameters: \n",
      "\tTokenizer: char_qgram_tokenizer\n",
      "\tMetric: tf-idf\n",
      "\tSimilarity Threshold: 0.0\n",
      "Runtime: 94.6061 seconds\n",
      "───────────────────────────────────────────────────────────────────────────────────────────────────────────────────────────\n",
      "Performance:\n",
      "\tPrecision:      7.92% \n",
      "\tRecall:        86.43%\n",
      "\tF1-score:      14.51%\n",
      "───────────────────────────────────────────────────────────────────────────────────────────────────────────────────────────\n",
      "***************************************************************************************************************************\n",
      "                                         Μethod:  Unique Mapping Clustering\n",
      "***************************************************************************************************************************\n",
      "Method name: Unique Mapping Clustering\n",
      "Parameters: \n",
      "Runtime: 0.0928 seconds\n",
      "───────────────────────────────────────────────────────────────────────────────────────────────────────────────────────────\n",
      "Performance:\n",
      "\tPrecision:     83.06% \n",
      "\tRecall:        66.54%\n",
      "\tF1-score:      73.89%\n",
      "───────────────────────────────────────────────────────────────────────────────────────────────────────────────────────────\n",
      "Classification report:\n",
      "\tTrue positives: 716\n",
      "\tFalse positives: 146\n",
      "\tTrue negatives: 1157270\n",
      "\tFalse negatives: 360\n",
      "\tTotal comparisons: 862\n",
      "───────────────────────────────────────────────────────────────────────────────────────────────────────────────────────────\n",
      "\u001b[32m[I 2023-06-14 15:51:27,214]\u001b[0m Trial 0 finished with value: 73.89060887512899 and parameters: {'tokenizer': 'char_qgram_tokenizer', 'qgram': 3, 'tfidf_similarity_metric': 'jaccard', 'similarity_threshold': 0.11184627077311857}. Best is trial 0 with value: 73.89060887512899.\u001b[0m\n",
      "Optuna trials finished\n",
      "\n",
      "\n",
      "Dataset:  D3\n"
     ]
    },
    {
     "name": "stderr",
     "output_type": "stream",
     "text": [
      "\u001b[32m[I 2023-06-14 15:51:27,570]\u001b[0m A new study created in RDB with name: D3_tfidf_entity_matching\u001b[0m\n"
     ]
    },
    {
     "name": "stdout",
     "output_type": "stream",
     "text": [
      "Optuna trials starting\n"
     ]
    },
    {
     "name": "stderr",
     "output_type": "stream",
     "text": [
      "C:\\Users\\nikol\\AppData\\Local\\Programs\\Python\\Python310\\lib\\site-packages\\optuna\\progress_bar.py:49: ExperimentalWarning: Progress bar is experimental (supported from v1.2.0). The interface can change in the future.\n",
      "  self._init_valid()\n"
     ]
    },
    {
     "data": {
      "application/vnd.jupyter.widget-view+json": {
       "model_id": "ae5e6d4b76674f17944093ac84263a2b",
       "version_major": 2,
       "version_minor": 0
      },
      "text/plain": [
       "  0%|          | 0/1 [00:00<?, ?it/s]"
      ]
     },
     "metadata": {},
     "output_type": "display_data"
    },
    {
     "data": {
      "application/vnd.jupyter.widget-view+json": {
       "model_id": "62be62eef6a2477b83c2ec0a4e45b0c5",
       "version_major": 2,
       "version_minor": 0
      },
      "text/plain": [
       "Standard Blocking:   0%|          | 0/4393 [00:00<?, ?it/s]"
      ]
     },
     "metadata": {},
     "output_type": "display_data"
    },
    {
     "data": {
      "application/vnd.jupyter.widget-view+json": {
       "model_id": "ca83196d80ab416681b3ef862fef132f",
       "version_major": 2,
       "version_minor": 0
      },
      "text/plain": [
       "Block Purging:   0%|          | 0/13540 [00:00<?, ?it/s]"
      ]
     },
     "metadata": {},
     "output_type": "display_data"
    },
    {
     "data": {
      "application/vnd.jupyter.widget-view+json": {
       "model_id": "d0eb55c3f07e4b4b9f923f34ab5b5848",
       "version_major": 2,
       "version_minor": 0
      },
      "text/plain": [
       "Block Filtering:   0%|          | 0/3 [00:00<?, ?it/s]"
      ]
     },
     "metadata": {},
     "output_type": "display_data"
    },
    {
     "data": {
      "application/vnd.jupyter.widget-view+json": {
       "model_id": "32815d2842ab43a796e61ac65bb26716",
       "version_major": 2,
       "version_minor": 0
      },
      "text/plain": [
       "Cardinality Node Pruning:   0%|          | 0/4393 [00:00<?, ?it/s]"
      ]
     },
     "metadata": {},
     "output_type": "display_data"
    },
    {
     "name": "stdout",
     "output_type": "stream",
     "text": [
      "***************************************************************************************************************************\n",
      "                                         Μethod:  Cardinality Node Pruning\n",
      "***************************************************************************************************************************\n",
      "Method name: Cardinality Node Pruning\n",
      "Parameters: \n",
      "\tNode centric: True\n",
      "\tWeighting scheme: JS\n",
      "Runtime: 5.3291 seconds\n",
      "───────────────────────────────────────────────────────────────────────────────────────────────────────────────────────────\n",
      "Performance:\n",
      "\tPrecision:      1.72% \n",
      "\tRecall:        81.32%\n",
      "\tF1-score:       3.36%\n",
      "───────────────────────────────────────────────────────────────────────────────────────────────────────────────────────────\n",
      "Candidate pairs:  4359\n"
     ]
    },
    {
     "data": {
      "application/vnd.jupyter.widget-view+json": {
       "model_id": "edce3ceaf7b741e8be23840e2d3b01e6",
       "version_major": 2,
       "version_minor": 0
      },
      "text/plain": [
       "Entity Matching (tf-idf):   0%|          | 0/4359 [00:00<?, ?it/s]"
      ]
     },
     "metadata": {},
     "output_type": "display_data"
    },
    {
     "name": "stdout",
     "output_type": "stream",
     "text": [
      "***************************************************************************************************************************\n",
      "                                         Μethod:  Entity Matching\n",
      "***************************************************************************************************************************\n",
      "Method name: Entity Matching\n",
      "Parameters: \n",
      "\tTokenizer: char_qgram_tokenizer\n",
      "\tMetric: tf-idf\n",
      "\tSimilarity Threshold: 0.0\n",
      "Runtime: 15.2513 seconds\n",
      "───────────────────────────────────────────────────────────────────────────────────────────────────────────────────────────\n",
      "Performance:\n",
      "\tPrecision:      1.72% \n",
      "\tRecall:        81.32%\n",
      "\tF1-score:       3.36%\n",
      "───────────────────────────────────────────────────────────────────────────────────────────────────────────────────────────\n",
      "***************************************************************************************************************************\n",
      "                                         Μethod:  Unique Mapping Clustering\n",
      "***************************************************************************************************************************\n",
      "Method name: Unique Mapping Clustering\n",
      "Parameters: \n",
      "Runtime: 0.4985 seconds\n",
      "───────────────────────────────────────────────────────────────────────────────────────────────────────────────────────────\n",
      "Performance:\n",
      "\tPrecision:     38.83% \n",
      "\tRecall:        46.51%\n",
      "\tF1-score:      42.33%\n",
      "───────────────────────────────────────────────────────────────────────────────────────────────────────────────────────────\n",
      "Classification report:\n",
      "\tTrue positives: 513\n",
      "\tFalse positives: 808\n",
      "\tTrue negatives: 4113408\n",
      "\tFalse negatives: 590\n",
      "\tTotal comparisons: 1321\n",
      "───────────────────────────────────────────────────────────────────────────────────────────────────────────────────────────\n",
      "\u001b[32m[I 2023-06-14 15:51:54,604]\u001b[0m Trial 0 finished with value: 42.32673267326733 and parameters: {'tokenizer': 'char_qgram_tokenizer', 'qgram': 2, 'tfidf_similarity_metric': 'dice', 'similarity_threshold': 0.03789405726785746}. Best is trial 0 with value: 42.32673267326733.\u001b[0m\n",
      "Optuna trials finished\n",
      "\n",
      "\n",
      "Dataset:  D4\n"
     ]
    },
    {
     "name": "stderr",
     "output_type": "stream",
     "text": [
      "\u001b[32m[I 2023-06-14 15:51:54,842]\u001b[0m A new study created in RDB with name: D4_tfidf_entity_matching\u001b[0m\n"
     ]
    },
    {
     "name": "stdout",
     "output_type": "stream",
     "text": [
      "Optuna trials starting\n"
     ]
    },
    {
     "name": "stderr",
     "output_type": "stream",
     "text": [
      "C:\\Users\\nikol\\AppData\\Local\\Programs\\Python\\Python310\\lib\\site-packages\\optuna\\progress_bar.py:49: ExperimentalWarning: Progress bar is experimental (supported from v1.2.0). The interface can change in the future.\n",
      "  self._init_valid()\n"
     ]
    },
    {
     "data": {
      "application/vnd.jupyter.widget-view+json": {
       "model_id": "2482664608a946a9abc30dbdea6eff60",
       "version_major": 2,
       "version_minor": 0
      },
      "text/plain": [
       "  0%|          | 0/1 [00:00<?, ?it/s]"
      ]
     },
     "metadata": {},
     "output_type": "display_data"
    },
    {
     "data": {
      "application/vnd.jupyter.widget-view+json": {
       "model_id": "613a571448bc46e99778c12acb96f96a",
       "version_major": 2,
       "version_minor": 0
      },
      "text/plain": [
       "Standard Blocking:   0%|          | 0/4910 [00:00<?, ?it/s]"
      ]
     },
     "metadata": {},
     "output_type": "display_data"
    },
    {
     "data": {
      "application/vnd.jupyter.widget-view+json": {
       "model_id": "6945f04b530d407ca7231cb3d2d9d926",
       "version_major": 2,
       "version_minor": 0
      },
      "text/plain": [
       "Block Purging:   0%|          | 0/14008 [00:00<?, ?it/s]"
      ]
     },
     "metadata": {},
     "output_type": "display_data"
    },
    {
     "data": {
      "application/vnd.jupyter.widget-view+json": {
       "model_id": "c08d78e49880403b94403dec208e22e4",
       "version_major": 2,
       "version_minor": 0
      },
      "text/plain": [
       "Block Filtering:   0%|          | 0/3 [00:00<?, ?it/s]"
      ]
     },
     "metadata": {},
     "output_type": "display_data"
    },
    {
     "data": {
      "application/vnd.jupyter.widget-view+json": {
       "model_id": "b59831a9e25842ee99b9f60535e651cc",
       "version_major": 2,
       "version_minor": 0
      },
      "text/plain": [
       "Cardinality Node Pruning:   0%|          | 0/4910 [00:00<?, ?it/s]"
      ]
     },
     "metadata": {},
     "output_type": "display_data"
    },
    {
     "name": "stdout",
     "output_type": "stream",
     "text": [
      "***************************************************************************************************************************\n",
      "                                         Μethod:  Cardinality Node Pruning\n",
      "***************************************************************************************************************************\n",
      "Method name: Cardinality Node Pruning\n",
      "Parameters: \n",
      "\tNode centric: True\n",
      "\tWeighting scheme: JS\n",
      "Runtime: 2.2168 seconds\n",
      "───────────────────────────────────────────────────────────────────────────────────────────────────────────────────────────\n",
      "Performance:\n",
      "\tPrecision:     11.16% \n",
      "\tRecall:        99.69%\n",
      "\tF1-score:      20.07%\n",
      "───────────────────────────────────────────────────────────────────────────────────────────────────────────────────────────\n",
      "Candidate pairs:  4361\n"
     ]
    },
    {
     "data": {
      "application/vnd.jupyter.widget-view+json": {
       "model_id": "77b68300b7404f6d8747711db12b1b38",
       "version_major": 2,
       "version_minor": 0
      },
      "text/plain": [
       "Entity Matching (tf-idf):   0%|          | 0/4361 [00:00<?, ?it/s]"
      ]
     },
     "metadata": {},
     "output_type": "display_data"
    },
    {
     "name": "stdout",
     "output_type": "stream",
     "text": [
      "***************************************************************************************************************************\n",
      "                                         Μethod:  Entity Matching\n",
      "***************************************************************************************************************************\n",
      "Method name: Entity Matching\n",
      "Parameters: \n",
      "\tTokenizer: char_qgram_tokenizer\n",
      "\tMetric: tf-idf\n",
      "\tSimilarity Threshold: 0.0\n",
      "Runtime: 5.1695 seconds\n",
      "───────────────────────────────────────────────────────────────────────────────────────────────────────────────────────────\n",
      "Performance:\n",
      "\tPrecision:     11.20% \n",
      "\tRecall:        99.69%\n",
      "\tF1-score:      20.13%\n",
      "───────────────────────────────────────────────────────────────────────────────────────────────────────────────────────────\n",
      "***************************************************************************************************************************\n",
      "                                         Μethod:  Unique Mapping Clustering\n",
      "***************************************************************************************************************************\n",
      "Method name: Unique Mapping Clustering\n",
      "Parameters: \n",
      "Runtime: 0.1111 seconds\n",
      "───────────────────────────────────────────────────────────────────────────────────────────────────────────────────────────\n",
      "Performance:\n",
      "\tPrecision:     98.12% \n",
      "\tRecall:        98.43%\n",
      "\tF1-score:      98.27%\n",
      "───────────────────────────────────────────────────────────────────────────────────────────────────────────────────────────\n",
      "Classification report:\n",
      "\tTrue positives: 2189\n",
      "\tFalse positives: 42\n",
      "\tTrue negatives: 6001027\n",
      "\tFalse negatives: 35\n",
      "\tTotal comparisons: 2231\n",
      "───────────────────────────────────────────────────────────────────────────────────────────────────────────────────────────\n",
      "\u001b[32m[I 2023-06-14 15:52:04,800]\u001b[0m Trial 0 finished with value: 98.27160493827161 and parameters: {'tokenizer': 'char_qgram_tokenizer', 'qgram': 5, 'tfidf_similarity_metric': 'cosine', 'similarity_threshold': 0.30382161692535775}. Best is trial 0 with value: 98.27160493827161.\u001b[0m\n",
      "Optuna trials finished\n",
      "\n",
      "\n",
      "Dataset:  D5\n"
     ]
    },
    {
     "name": "stderr",
     "output_type": "stream",
     "text": [
      "\u001b[32m[I 2023-06-14 15:52:05,157]\u001b[0m A new study created in RDB with name: D5_tfidf_entity_matching\u001b[0m\n"
     ]
    },
    {
     "name": "stdout",
     "output_type": "stream",
     "text": [
      "Optuna trials starting\n"
     ]
    },
    {
     "name": "stderr",
     "output_type": "stream",
     "text": [
      "C:\\Users\\nikol\\AppData\\Local\\Programs\\Python\\Python310\\lib\\site-packages\\optuna\\progress_bar.py:49: ExperimentalWarning: Progress bar is experimental (supported from v1.2.0). The interface can change in the future.\n",
      "  self._init_valid()\n"
     ]
    },
    {
     "data": {
      "application/vnd.jupyter.widget-view+json": {
       "model_id": "bedd5e84fc42412dbe0aa5daa5e3045e",
       "version_major": 2,
       "version_minor": 0
      },
      "text/plain": [
       "  0%|          | 0/1 [00:00<?, ?it/s]"
      ]
     },
     "metadata": {},
     "output_type": "display_data"
    },
    {
     "data": {
      "application/vnd.jupyter.widget-view+json": {
       "model_id": "407fdfbb28bc42f5a3d422a82a7579f3",
       "version_major": 2,
       "version_minor": 0
      },
      "text/plain": [
       "Standard Blocking:   0%|          | 0/11174 [00:00<?, ?it/s]"
      ]
     },
     "metadata": {},
     "output_type": "display_data"
    },
    {
     "data": {
      "application/vnd.jupyter.widget-view+json": {
       "model_id": "b9de058f4ab54253a5362b0ab7a950dc",
       "version_major": 2,
       "version_minor": 0
      },
      "text/plain": [
       "Block Purging:   0%|          | 0/8536 [00:00<?, ?it/s]"
      ]
     },
     "metadata": {},
     "output_type": "display_data"
    },
    {
     "data": {
      "application/vnd.jupyter.widget-view+json": {
       "model_id": "d06c12c7f21d45169f8f2f8f86c57396",
       "version_major": 2,
       "version_minor": 0
      },
      "text/plain": [
       "Block Filtering:   0%|          | 0/3 [00:00<?, ?it/s]"
      ]
     },
     "metadata": {},
     "output_type": "display_data"
    },
    {
     "data": {
      "application/vnd.jupyter.widget-view+json": {
       "model_id": "4d589b97af804aedb4b80151f1f0c72f",
       "version_major": 2,
       "version_minor": 0
      },
      "text/plain": [
       "Cardinality Node Pruning:   0%|          | 0/11174 [00:00<?, ?it/s]"
      ]
     },
     "metadata": {},
     "output_type": "display_data"
    },
    {
     "name": "stdout",
     "output_type": "stream",
     "text": [
      "***************************************************************************************************************************\n",
      "                                         Μethod:  Cardinality Node Pruning\n",
      "***************************************************************************************************************************\n",
      "Method name: Cardinality Node Pruning\n",
      "Parameters: \n",
      "\tNode centric: True\n",
      "\tWeighting scheme: JS\n",
      "Runtime: 3.8776 seconds\n",
      "───────────────────────────────────────────────────────────────────────────────────────────────────────────────────────────\n",
      "Performance:\n",
      "\tPrecision:      7.09% \n",
      "\tRecall:        86.03%\n",
      "\tF1-score:      13.11%\n",
      "───────────────────────────────────────────────────────────────────────────────────────────────────────────────────────────\n",
      "Candidate pairs:  8899\n"
     ]
    },
    {
     "data": {
      "application/vnd.jupyter.widget-view+json": {
       "model_id": "b4171b1ab8f74a698d79ec0d45157e65",
       "version_major": 2,
       "version_minor": 0
      },
      "text/plain": [
       "Entity Matching (tf-idf):   0%|          | 0/8899 [00:00<?, ?it/s]"
      ]
     },
     "metadata": {},
     "output_type": "display_data"
    },
    {
     "name": "stdout",
     "output_type": "stream",
     "text": [
      "***************************************************************************************************************************\n",
      "                                         Μethod:  Entity Matching\n",
      "***************************************************************************************************************************\n",
      "Method name: Entity Matching\n",
      "Parameters: \n",
      "\tTokenizer: word_qgram_tokenizer\n",
      "\tMetric: tf-idf\n",
      "\tSimilarity Threshold: 0.0\n",
      "Runtime: 3.6573 seconds\n",
      "───────────────────────────────────────────────────────────────────────────────────────────────────────────────────────────\n",
      "Performance:\n",
      "\tPrecision:      7.47% \n",
      "\tRecall:        86.03%\n",
      "\tF1-score:      13.75%\n",
      "───────────────────────────────────────────────────────────────────────────────────────────────────────────────────────────\n",
      "***************************************************************************************************************************\n",
      "                                         Μethod:  Unique Mapping Clustering\n",
      "***************************************************************************************************************************\n",
      "Method name: Unique Mapping Clustering\n",
      "Parameters: \n",
      "Runtime: 0.2254 seconds\n",
      "───────────────────────────────────────────────────────────────────────────────────────────────────────────────────────────\n",
      "Performance:\n",
      "\tPrecision:     55.19% \n",
      "\tRecall:        80.84%\n",
      "\tF1-score:      65.59%\n",
      "───────────────────────────────────────────────────────────────────────────────────────────────────────────────────────────\n",
      "Classification report:\n",
      "\tTrue positives: 1591\n",
      "\tFalse positives: 1292\n",
      "\tTrue negatives: 30992939\n",
      "\tFalse negatives: 377\n",
      "\tTotal comparisons: 2883\n",
      "───────────────────────────────────────────────────────────────────────────────────────────────────────────────────────────\n",
      "\u001b[32m[I 2023-06-14 15:52:16,419]\u001b[0m Trial 0 finished with value: 65.59472273757989 and parameters: {'tokenizer': 'word_qgram_tokenizer', 'qgram': 1, 'tfidf_similarity_metric': 'cosine', 'similarity_threshold': 0.2422631964591689}. Best is trial 0 with value: 65.59472273757989.\u001b[0m\n",
      "Optuna trials finished\n",
      "\n",
      "\n",
      "Dataset:  D6\n"
     ]
    },
    {
     "name": "stderr",
     "output_type": "stream",
     "text": [
      "\u001b[32m[I 2023-06-14 15:52:16,811]\u001b[0m A new study created in RDB with name: D6_tfidf_entity_matching\u001b[0m\n"
     ]
    },
    {
     "name": "stdout",
     "output_type": "stream",
     "text": [
      "Optuna trials starting\n"
     ]
    },
    {
     "name": "stderr",
     "output_type": "stream",
     "text": [
      "C:\\Users\\nikol\\AppData\\Local\\Programs\\Python\\Python310\\lib\\site-packages\\optuna\\progress_bar.py:49: ExperimentalWarning: Progress bar is experimental (supported from v1.2.0). The interface can change in the future.\n",
      "  self._init_valid()\n"
     ]
    },
    {
     "data": {
      "application/vnd.jupyter.widget-view+json": {
       "model_id": "5d3f52ea601545e881373e3100504756",
       "version_major": 2,
       "version_minor": 0
      },
      "text/plain": [
       "  0%|          | 0/1 [00:00<?, ?it/s]"
      ]
     },
     "metadata": {},
     "output_type": "display_data"
    },
    {
     "data": {
      "application/vnd.jupyter.widget-view+json": {
       "model_id": "d8a6322b90c84520a373d7ccca41b1a7",
       "version_major": 2,
       "version_minor": 0
      },
      "text/plain": [
       "Standard Blocking:   0%|          | 0/12928 [00:00<?, ?it/s]"
      ]
     },
     "metadata": {},
     "output_type": "display_data"
    },
    {
     "data": {
      "application/vnd.jupyter.widget-view+json": {
       "model_id": "cd9678f81cb94392a6abd98a13351272",
       "version_major": 2,
       "version_minor": 0
      },
      "text/plain": [
       "Block Purging:   0%|          | 0/6796 [00:00<?, ?it/s]"
      ]
     },
     "metadata": {},
     "output_type": "display_data"
    },
    {
     "data": {
      "application/vnd.jupyter.widget-view+json": {
       "model_id": "a3c2924f61c94f14b745bc2610415d18",
       "version_major": 2,
       "version_minor": 0
      },
      "text/plain": [
       "Block Filtering:   0%|          | 0/3 [00:00<?, ?it/s]"
      ]
     },
     "metadata": {},
     "output_type": "display_data"
    },
    {
     "data": {
      "application/vnd.jupyter.widget-view+json": {
       "model_id": "af87410adc48445390eca694e43bae19",
       "version_major": 2,
       "version_minor": 0
      },
      "text/plain": [
       "Cardinality Node Pruning:   0%|          | 0/12928 [00:00<?, ?it/s]"
      ]
     },
     "metadata": {},
     "output_type": "display_data"
    },
    {
     "name": "stdout",
     "output_type": "stream",
     "text": [
      "***************************************************************************************************************************\n",
      "                                         Μethod:  Cardinality Node Pruning\n",
      "***************************************************************************************************************************\n",
      "Method name: Cardinality Node Pruning\n",
      "Parameters: \n",
      "\tNode centric: True\n",
      "\tWeighting scheme: JS\n",
      "Runtime: 3.5760 seconds\n",
      "───────────────────────────────────────────────────────────────────────────────────────────────────────────────────────────\n",
      "Performance:\n",
      "\tPrecision:      3.04% \n",
      "\tRecall:        77.43%\n",
      "\tF1-score:       5.85%\n",
      "───────────────────────────────────────────────────────────────────────────────────────────────────────────────────────────\n",
      "Candidate pairs:  10266\n"
     ]
    },
    {
     "data": {
      "application/vnd.jupyter.widget-view+json": {
       "model_id": "b45860bcfcd14c97b0df321604a61fdf",
       "version_major": 2,
       "version_minor": 0
      },
      "text/plain": [
       "Entity Matching (tf-idf):   0%|          | 0/10266 [00:00<?, ?it/s]"
      ]
     },
     "metadata": {},
     "output_type": "display_data"
    },
    {
     "name": "stderr",
     "output_type": "stream",
     "text": [
      "C:\\Users\\nikol\\AppData\\Local\\Programs\\Python\\Python310\\lib\\site-packages\\sklearn\\metrics\\pairwise.py:2008: DataConversionWarning: Data was converted to boolean for metric jaccard\n",
      "  warnings.warn(msg, DataConversionWarning)\n"
     ]
    }
   ],
   "source": [
    "import time\n",
    "import optuna\n",
    "import os\n",
    "import sys\n",
    "import pandas as pd\n",
    "from pyjedai.datamodel import Data\n",
    "from pyjedai.workflow import WorkFlow, compare_workflows\n",
    "from pyjedai.block_building import StandardBlocking, QGramsBlocking, ExtendedQGramsBlocking, SuffixArraysBlocking, ExtendedSuffixArraysBlocking\n",
    "from pyjedai.block_cleaning import BlockFiltering, BlockPurging\n",
    "from pyjedai.comparison_cleaning import WeightedEdgePruning, WeightedNodePruning, CardinalityEdgePruning, CardinalityNodePruning, BLAST, ReciprocalCardinalityNodePruning, ReciprocalWeightedNodePruning, ComparisonPropagation\n",
    "from pyjedai.matching import EntityMatching\n",
    "from pyjedai.clustering import ConnectedComponentsClustering, UniqueMappingClustering\n",
    "from optuna.study import MaxTrialsCallback\n",
    "from optuna.trial import TrialState\n",
    "\n",
    "db_name = \"pyjedai_tfidf\"\n",
    "storage_name = \"sqlite:///{}.db\".format(db_name)\n",
    "\n",
    "D1CSV = [\n",
    "    \"rest1.csv\", \"abt.csv\", \"amazon.csv\", \"dblp.csv\",  \"imdb.csv\",  \"imdb.csv\",  \"tmdb.csv\",  \"walmart.csv\",   \"dblp.csv\",    \"imdb.csv\"\n",
    "]\n",
    "D2CSV = [\n",
    "    \"rest2.csv\", \"buy.csv\", \"gp.csv\",     \"acm.csv\",   \"tmdb.csv\",  \"tvdb.csv\",  \"tvdb.csv\",  \"amazon.csv\",  \"scholar.csv\", \"dbpedia.csv\"\n",
    "]\n",
    "GTCSV = [\n",
    "    \"gt.csv\",   \"gt.csv\",   \"gt.csv\",     \"gt.csv\",   \"gt.csv\", \"gt.csv\", \"gt.csv\", \"gt.csv\", \"gt.csv\", \"gt.csv\"\n",
    "]\n",
    "D = ['D1', 'D2', 'D3', 'D4', 'D5', 'D6', 'D7', 'D8', 'D9','D10']\n",
    "\n",
    "separator = [\n",
    "    '|', '|', '#', '\\\\%', '|', '|', '|', '|', '>', '|'\n",
    "]\n",
    "engine = [\n",
    "    'python', 'python','python','python','python','python','python','python','python', None\n",
    "]\n",
    "\n",
    "\n",
    "for i in range(0,len(D1CSV)):\n",
    "    print(\"\\n\\nDataset: \", D[i])\n",
    "\n",
    "    d = D[i]\n",
    "    d1 = D1CSV[i]\n",
    "    d2 = D2CSV[i]\n",
    "    gt = GTCSV[i]\n",
    "    s = separator[i]\n",
    "    e = engine[i]\n",
    "\n",
    "    # Create a csv file \n",
    "    with open(d+'_tfidf_optuna_em.csv', 'w') as f:\n",
    "        f.write('trial, metric, threshold, tokenizer, metric, qgram, precision, recall, f1, em_f1, runtime\\n')\n",
    "        data = Data(\n",
    "            dataset_1=pd.read_csv(\"./data/ccer/\" + d + \"/\" + d1 , \n",
    "                                sep=s,\n",
    "                                engine=e,\n",
    "                                na_filter=False).astype(str),\n",
    "            id_column_name_1='id',\n",
    "            dataset_2=pd.read_csv(\"./data/ccer/\" + d + \"/\" + d2 , \n",
    "                                sep=s, \n",
    "                                engine=e, \n",
    "                                na_filter=False).astype(str),\n",
    "            id_column_name_2='id',\n",
    "            ground_truth=pd.read_csv(\"./data/ccer/\" + d + \"/gt.csv\", sep=s, engine=e))\n",
    "\n",
    "        if 'aggregated value' in data.attributes_1:\n",
    "            data.dataset_1 = data.dataset_1.drop(columns=['aggregated value'], inplace=True)\n",
    "        \n",
    "        if 'aggregated value' in data.attributes_2:\n",
    "            data.dataset_2 = data.dataset_2.drop(columns=['aggregated value'], inplace=True)\n",
    "\n",
    "        title = d + \"_tfidf_entity_matching\"\n",
    "        study_name = title  # Unique identifier of the study.\n",
    "\n",
    "        '''\n",
    "        OPTUNA objective function\n",
    "        '''\n",
    "        def objective(trial):\n",
    "            try:\n",
    "                t1 = time.time()\n",
    "                sb = StandardBlocking()\n",
    "                blocks = sb.build_blocks(data, tqdm_disable=False)\n",
    "\n",
    "                cbbp = BlockPurging(smoothing_factor=1.0)\n",
    "                blocks = cbbp.process(blocks, data, tqdm_disable=False)\n",
    "\n",
    "                bf = BlockFiltering(ratio=0.8)\n",
    "                blocks = bf.process(blocks, data, tqdm_disable=False)\n",
    "\n",
    "                wep = CardinalityNodePruning(weighting_scheme='JS')\n",
    "                candidate_pairs_blocks = wep.process(blocks, data, tqdm_disable=False)\n",
    "                wep.evaluate(candidate_pairs_blocks)\n",
    "                \n",
    "                em = EntityMatching(metric='tf-idf', \n",
    "                                    tokenizer = trial.suggest_categorical(\"tokenizer\", [\"char_qgram_tokenizer\", \"word_qgram_tokenizer\"]), \n",
    "                                    qgram=trial.suggest_int(\"qgram\", 1, 5),\n",
    "                                    tfidf_similarity_metric=trial.suggest_categorical(\"tfidf_similarity_metric\", [\"cosine\", \"jaccard\", \"dice\"]), \n",
    "                                    similarity_threshold=0.0\n",
    "                )\n",
    "                pairs_graph = em.predict(candidate_pairs_blocks, data, tqdm_disable=False)\n",
    "                em_results = em.evaluate(pairs_graph, data)\n",
    "                \n",
    "                thresholds = [em.get_weights_avg(), em.get_weights_median(), em.get_weights_avg()+em.get_weights_standard_deviation(), em.get_weights_median()+em.get_weights_standard_deviation()]\n",
    "                \n",
    "                ccc = UniqueMappingClustering()\n",
    "                clusters = ccc.process(pairs_graph, data, similarity_threshold=trial.suggest_categorical(\"similarity_threshold\", thresholds))\n",
    "\n",
    "                results = ccc.evaluate(clusters, with_classification_report=True, verbose=True)\n",
    "\n",
    "                t2 = time.time()\n",
    "                f1, precision, recall = results['F1 %'], results['Precision %'], results['Recall %']\n",
    "\n",
    "                f.write('{}, {}, {}, {}, {}, {},{}\\n'.format(trial.number, em.metric, ccc.similarity_threshold, em.tokenizer, em.tfidf_similarity_metric, em.qgram, precision, recall, f1, em_results['F1 %'], t2-t1))\n",
    "            \n",
    "                return f1\n",
    "\n",
    "            except ValueError as e:\n",
    "                # Handle the exception and force Optuna to continue\n",
    "                \n",
    "                print(e)\n",
    "                trial.set_user_attr(\"failed\", True)\n",
    "                f.write('{}, {}, {}, {}, {}, {},{}\\n'.format(trial.number, str(e), None, None,None,None, None, None, None, None, None))\n",
    "                return optuna.TrialPruned()\n",
    "        \n",
    "        study_name = title  # Unique identifier of the study.\n",
    "        num_of_trials = 1\n",
    "        study = optuna.create_study(\n",
    "            directions=[\"maximize\"],\n",
    "            study_name=study_name,\n",
    "            storage=storage_name,\n",
    "            load_if_exists=False\n",
    "        )\n",
    "        print(\"Optuna trials starting\")\n",
    "        study.optimize(\n",
    "            objective, \n",
    "            n_trials=num_of_trials, \n",
    "            show_progress_bar=True,\n",
    "            callbacks=[MaxTrialsCallback(num_of_trials, states=(TrialState.COMPLETE,))]\n",
    "        )\n",
    "        print(\"Optuna trials finished\")\n",
    "\n",
    "    f.close()"
   ]
  }
 ],
 "metadata": {
  "kernelspec": {
   "display_name": "Python 3 (ipykernel)",
   "language": "python",
   "name": "python3"
  },
  "language_info": {
   "codemirror_mode": {
    "name": "ipython",
    "version": 3
   },
   "file_extension": ".py",
   "mimetype": "text/x-python",
   "name": "python",
   "nbconvert_exporter": "python",
   "pygments_lexer": "ipython3",
   "version": "3.10.5"
  },
  "vscode": {
   "interpreter": {
    "hash": "824e5f4123a1a5b690f910010b2896a5dc6379151ca1c56e0c0465c15ebbd094"
   }
  }
 },
 "nbformat": 4,
 "nbformat_minor": 5
}
