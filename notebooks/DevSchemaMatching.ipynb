{
 "cells": [
  {
   "cell_type": "markdown",
   "metadata": {},
   "source": [
    "<div align=\"center\">\n",
    "    <hr>\n",
    "  <font size=\"6\"><b>Dev | Schema Matching Notebook</b> </font>\n",
    "   <hr>\n",
    "</div>"
   ]
  },
  {
   "cell_type": "code",
   "execution_count": 1,
   "metadata": {
    "pycharm": {
     "is_executing": true
    }
   },
   "outputs": [
    {
     "name": "stdout",
     "output_type": "stream",
     "text": [
      "Python 3.9.16\n"
     ]
    }
   ],
   "source": [
    "!python --version"
   ]
  },
  {
   "cell_type": "code",
   "execution_count": 5,
   "metadata": {
    "pycharm": {
     "is_executing": true
    }
   },
   "outputs": [
    {
     "name": "stdout",
     "output_type": "stream",
     "text": [
      "The autoreload extension is already loaded. To reload it, use:\n",
      "  %reload_ext autoreload\n"
     ]
    }
   ],
   "source": [
    "import os\n",
    "import sys\n",
    "import pandas as pd\n",
    "import networkx\n",
    "from networkx import draw, Graph\n",
    "%load_ext autoreload\n",
    "%autoreload 2\n",
    "%reload_ext autoreload\n",
    "from pyjedai.utils import (\n",
    "    text_cleaning_method,\n",
    "    print_clusters,\n",
    "    print_blocks,\n",
    "    print_candidate_pairs\n",
    ")\n",
    "from pyjedai.evaluation import Evaluation, write\n",
    "from pyjedai.datamodel import Data\n",
    "d1 = pd.read_csv(\"../data/ccer/schema_matching/authors1.csv\")\n",
    "d2 = pd.read_csv(\"../data/ccer/schema_matching/authors2.csv\")\n",
    "gt = pd.read_csv(\"../data/ccer/schema_matching/pairs.csv\")\n",
    "\n",
    "\n",
    "data = Data(\n",
    "    dataset_1=d1,\n",
    "    attributes_1=['EID','Authors','Cited by','Title','Year','Source tittle','DOI'],\n",
    "    id_column_name_1='EID',\n",
    "    dataset_2=d2,\n",
    "    attributes_2=['EID','Authors','Cited by','Country','Document Type','City','Access Type','aggregationType'],\n",
    "    id_column_name_2='EID',\n",
    "    ground_truth=gt,\n",
    ")"
   ]
  },
  {
   "cell_type": "markdown",
   "metadata": {},
   "source": [
    "# Schema Matching based on Valentine"
   ]
  },
  {
   "cell_type": "code",
   "execution_count": 7,
   "metadata": {},
   "outputs": [
    {
     "data": {
      "text/plain": [
       "[['EID', 'Authors', 'Cited by', 'Title', 'Title', 'Source tittle'],\n",
       " ['EID',\n",
       "  'Authors',\n",
       "  'Cited by',\n",
       "  'Access Type',\n",
       "  'Document Type',\n",
       "  'Document Type']]"
      ]
     },
     "execution_count": 7,
     "metadata": {},
     "output_type": "execute_result"
    }
   ],
   "source": [
    "from pyjedai.schema_matching import ValentineMethodBuilder, ValentineSchemaMatching\n",
    "\n",
    "sm = ValentineSchemaMatching(ValentineMethodBuilder.cupid_matcher())\n",
    "sm.process(data)"
   ]
  },
  {
   "cell_type": "code",
   "execution_count": 8,
   "metadata": {},
   "outputs": [
    {
     "name": "stdout",
     "output_type": "stream",
     "text": [
      "{(('table_1', 'EID'), ('table_2', 'EID')): 1.0, (('table_1', 'Authors'), ('table_2', 'Authors')): 1.0, (('table_1', 'Cited by'), ('table_2', 'Cited by')): 1.0, (('table_1', 'Title'), ('table_2', 'Access Type')): 0.8666666666666667, (('table_1', 'Title'), ('table_2', 'Document Type')): 0.8438095238095238, (('table_1', 'Source tittle'), ('table_2', 'Document Type')): 0.7920879120879121}\n"
     ]
    }
   ],
   "source": [
    "sm.print_matches()"
   ]
  },
  {
   "cell_type": "code",
   "execution_count": 9,
   "metadata": {},
   "outputs": [
    {
     "data": {
      "text/plain": [
       "{'precision': 0.75,\n",
       " 'recall': 1.0,\n",
       " 'f1_score': 0.8571428571428571,\n",
       " 'precision_at_10_percent': 1.0,\n",
       " 'precision_at_30_percent': 1.0,\n",
       " 'precision_at_50_percent': 1.0,\n",
       " 'precision_at_70_percent': 0.6,\n",
       " 'precision_at_90_percent': 0.5,\n",
       " 'recall_at_sizeof_ground_truth': 1.0}"
      ]
     },
     "execution_count": 9,
     "metadata": {},
     "output_type": "execute_result"
    }
   ],
   "source": [
    "sm.evaluate()"
   ]
  }
 ],
 "metadata": {
  "kernelspec": {
   "display_name": "Python 3 (ipykernel)",
   "language": "python",
   "name": "python3"
  },
  "language_info": {
   "codemirror_mode": {
    "name": "ipython",
    "version": 3
   },
   "file_extension": ".py",
   "mimetype": "text/x-python",
   "name": "python",
   "nbconvert_exporter": "python",
   "pygments_lexer": "ipython3",
   "version": "3.10.5"
  }
 },
 "nbformat": 4,
 "nbformat_minor": 4
}
