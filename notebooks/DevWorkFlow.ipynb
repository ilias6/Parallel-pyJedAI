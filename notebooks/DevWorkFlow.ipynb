{
 "cells": [
  {
   "cell_type": "markdown",
   "id": "855fdafb-cce9-44ee-bdf9-776a375494ed",
   "metadata": {},
   "source": [
    "<div align=\"center\"> \n",
    "    <hr>\n",
    "  <font size=\"6\"><b>Dev | Workflow (Clean-Clean) Entity Resolution</b> </font>\n",
    "   <hr>\n",
    "</div>"
   ]
  },
  {
   "cell_type": "code",
   "execution_count": 1,
   "id": "4583ae66-fdc5-4e17-a297-83d7b59e79b8",
   "metadata": {},
   "outputs": [],
   "source": [
    "import os\n",
    "import sys\n",
    "import pandas as pd\n",
    "%load_ext autoreload\n",
    "%autoreload 2\n",
    "%reload_ext autoreload"
   ]
  },
  {
   "cell_type": "markdown",
   "id": "d574554b-4712-4a9d-b449-596f91372fda",
   "metadata": {},
   "source": [
    "## Data Reading"
   ]
  },
  {
   "cell_type": "code",
   "execution_count": 2,
   "id": "81b21794-778c-451b-b323-77b47022b915",
   "metadata": {},
   "outputs": [
    {
     "name": "stderr",
     "output_type": "stream",
     "text": [
      "[nltk_data] Downloading package stopwords to /home/jm/nltk_data...\n",
      "[nltk_data]   Package stopwords is already up-to-date!\n"
     ]
    }
   ],
   "source": [
    "from pyjedai.datamodel import Data\n",
    "\n",
    "data = Data(\n",
    "    dataset_1=pd.read_csv(\"../data/ccer/D2/abt.csv\", sep='|', engine='python', na_filter=False).astype(str),\n",
    "    attributes_1=['id','name','description'],\n",
    "    id_column_name_1='id',\n",
    "    dataset_2=pd.read_csv(\"../data/ccer/D2/buy.csv\", sep='|', engine='python', na_filter=False).astype(str),\n",
    "    attributes_2=['id','name','description'],\n",
    "    id_column_name_2='id',\n",
    "    ground_truth=pd.read_csv(\"../data/ccer/D2/gt.csv\", sep='|', engine='python'),\n",
    ")"
   ]
  },
  {
   "cell_type": "markdown",
   "id": "fadab403-9b4c-410f-9112-2264ca299252",
   "metadata": {},
   "source": [
    "## WorkFlow"
   ]
  },
  {
   "cell_type": "code",
   "execution_count": 3,
   "id": "94f6212e-3d0d-4b89-b213-d06cfbb553c9",
   "metadata": {},
   "outputs": [
    {
     "name": "stderr",
     "output_type": "stream",
     "text": [
      "/home/conda/miniconda3/envs/pyjedai-progressive/lib/python3.9/site-packages/tqdm/auto.py:21: TqdmWarning: IProgress not found. Please update jupyter and ipywidgets. See https://ipywidgets.readthedocs.io/en/stable/user_install.html\n",
      "  from .autonotebook import tqdm as notebook_tqdm\n"
     ]
    }
   ],
   "source": [
    "from pyjedai.workflow import BlockingBasedWorkFlow, EmbeddingsNNWorkFlow, compare_workflows\n",
    "from pyjedai.block_building import StandardBlocking, QGramsBlocking, ExtendedQGramsBlocking, SuffixArraysBlocking, ExtendedSuffixArraysBlocking\n",
    "from pyjedai.block_cleaning import BlockFiltering, BlockPurging\n",
    "from pyjedai.comparison_cleaning import WeightedEdgePruning, WeightedNodePruning, CardinalityEdgePruning, CardinalityNodePruning, BLAST, ReciprocalCardinalityNodePruning, ReciprocalWeightedNodePruning, ComparisonPropagation\n",
    "from pyjedai.matching import EntityMatching\n",
    "from pyjedai.clustering import ConnectedComponentsClustering, UniqueMappingClustering\n",
    "from pyjedai.vector_based_blocking import EmbeddingsNNBlockBuilding"
   ]
  },
  {
   "cell_type": "code",
   "execution_count": 4,
   "id": "1a3675c9-a30f-4c20-a91c-affe3e09f14c",
   "metadata": {},
   "outputs": [],
   "source": [
    "w = BlockingBasedWorkFlow(\n",
    "    block_building = dict(\n",
    "        method=QGramsBlocking, \n",
    "        params=dict(qgrams=3)\n",
    "    ),\n",
    "    block_cleaning = [\n",
    "        dict(\n",
    "            method=BlockFiltering, \n",
    "            params=dict(ratio=0.8)\n",
    "        ),\n",
    "        dict(\n",
    "            method=BlockPurging, \n",
    "            params=dict(smoothing_factor=1.025)\n",
    "        )\n",
    "    ],\n",
    "    comparison_cleaning = dict(method=CardinalityEdgePruning),\n",
    "    entity_matching = dict(\n",
    "        method=EntityMatching, \n",
    "        params=dict(\n",
    "            metric='edit_distance',\n",
    "            similarity_threshold=0.5,\n",
    "        )\n",
    "    ),\n",
    "    clustering = dict(method=ConnectedComponentsClustering),\n",
    "    name=\"Worflow-Test\"\n",
    ")"
   ]
  },
  {
   "cell_type": "code",
   "execution_count": 5,
   "id": "1f3f7c12-fcae-4175-bb5c-3d4989372107",
   "metadata": {},
   "outputs": [
    {
     "name": "stdout",
     "output_type": "stream",
     "text": [
      "***************************************************************************************************************************\n",
      "                                         Μethod:  Q-Grams Blocking\n",
      "***************************************************************************************************************************\n",
      "Method name: Q-Grams Blocking\n",
      "Parameters: \n",
      "\tQ-Gramms: 3\n",
      "Runtime: 0.3088 seconds\n",
      "───────────────────────────────────────────────────────────────────────────────────────────────────────────────────────────\n",
      "Performance:\n",
      "\tPrecision:      0.02% \n",
      "\tRecall:       100.00%\n",
      "\tF1-score:       0.04%\n",
      "───────────────────────────────────────────────────────────────────────────────────────────────────────────────────────────\n",
      "***************************************************************************************************************************\n",
      "                                         Μethod:  Block Filtering\n",
      "***************************************************************************************************************************\n",
      "Method name: Block Filtering\n",
      "Parameters: \n",
      "\tRatio: 0.8\n",
      "Runtime: 0.1430 seconds\n",
      "───────────────────────────────────────────────────────────────────────────────────────────────────────────────────────────\n",
      "Performance:\n",
      "\tPrecision:      0.05% \n",
      "\tRecall:       100.00%\n",
      "\tF1-score:       0.10%\n",
      "───────────────────────────────────────────────────────────────────────────────────────────────────────────────────────────\n",
      "***************************************************************************************************************************\n",
      "                                         Μethod:  Block Purging\n",
      "***************************************************************************************************************************\n",
      "Method name: Block Purging\n",
      "Parameters: \n",
      "\tSmoothing factor: 1.025\n",
      "\tMax Comparisons per Block: 13000.0\n",
      "Runtime: 0.0106 seconds\n",
      "───────────────────────────────────────────────────────────────────────────────────────────────────────────────────────────\n",
      "Performance:\n",
      "\tPrecision:      0.05% \n",
      "\tRecall:       100.00%\n",
      "\tF1-score:       0.10%\n",
      "───────────────────────────────────────────────────────────────────────────────────────────────────────────────────────────\n",
      "***************************************************************************************************************************\n",
      "                                         Μethod:  Cardinality Edge Pruning\n",
      "***************************************************************************************************************************\n",
      "Method name: Cardinality Edge Pruning\n",
      "Parameters: \n",
      "\tNode centric: False\n",
      "\tWeighting scheme: JS\n",
      "Runtime: 1.8635 seconds\n",
      "───────────────────────────────────────────────────────────────────────────────────────────────────────────────────────────\n",
      "Performance:\n",
      "\tPrecision:      1.72% \n",
      "\tRecall:        98.88%\n",
      "\tF1-score:       3.38%\n",
      "───────────────────────────────────────────────────────────────────────────────────────────────────────────────────────────\n",
      "***************************************************************************************************************************\n",
      "                                         Μethod:  Entity Matching\n",
      "***************************************************************************************************************************\n",
      "Method name: Entity Matching\n",
      "Parameters: \n",
      "\tMetric: edit_distance\n",
      "\tAttributes: None\n",
      "\tSimilarity threshold: 0.5\n",
      "\tTokenizer: white_space_tokenizer\n",
      "\tVectorizer: None\n",
      "\tQgrams: 1\n",
      "Runtime: 78.8664 seconds\n",
      "───────────────────────────────────────────────────────────────────────────────────────────────────────────────────────────\n",
      "Performance:\n",
      "\tPrecision:    100.00% \n",
      "\tRecall:         0.28%\n",
      "\tF1-score:       0.56%\n",
      "───────────────────────────────────────────────────────────────────────────────────────────────────────────────────────────\n",
      "***************************************************************************************************************************\n",
      "                                         Μethod:  Connected Components Clustering\n",
      "***************************************************************************************************************************\n",
      "Method name: Connected Components Clustering\n",
      "Parameters: \n",
      "Runtime: 0.0002 seconds\n",
      "───────────────────────────────────────────────────────────────────────────────────────────────────────────────────────────\n",
      "Performance:\n",
      "\tPrecision:    100.00% \n",
      "\tRecall:         0.28%\n",
      "\tF1-score:       0.56%\n",
      "───────────────────────────────────────────────────────────────────────────────────────────────────────────────────────────\n"
     ]
    }
   ],
   "source": [
    "w.run(data, verbose=True)"
   ]
  },
  {
   "cell_type": "code",
   "execution_count": 6,
   "id": "f01b9916-c30f-4409-b634-45cbcdb3270f",
   "metadata": {},
   "outputs": [
    {
     "data": {
      "text/html": [
       "<div>\n",
       "<style scoped>\n",
       "    .dataframe tbody tr th:only-of-type {\n",
       "        vertical-align: middle;\n",
       "    }\n",
       "\n",
       "    .dataframe tbody tr th {\n",
       "        vertical-align: top;\n",
       "    }\n",
       "\n",
       "    .dataframe thead th {\n",
       "        text-align: right;\n",
       "    }\n",
       "</style>\n",
       "<table border=\"1\" class=\"dataframe\">\n",
       "  <thead>\n",
       "    <tr style=\"text-align: right;\">\n",
       "      <th></th>\n",
       "      <th>Algorithm</th>\n",
       "      <th>F1</th>\n",
       "      <th>Recall</th>\n",
       "      <th>Precision</th>\n",
       "      <th>Runtime (sec)</th>\n",
       "      <th>Params</th>\n",
       "    </tr>\n",
       "  </thead>\n",
       "  <tbody>\n",
       "    <tr>\n",
       "      <th>0</th>\n",
       "      <td>Q-Grams Blocking</td>\n",
       "      <td>0.041583</td>\n",
       "      <td>100.000000</td>\n",
       "      <td>0.020796</td>\n",
       "      <td>0.308826</td>\n",
       "      <td>{'Q-Gramms': 3}</td>\n",
       "    </tr>\n",
       "    <tr>\n",
       "      <th>1</th>\n",
       "      <td>Block Filtering</td>\n",
       "      <td>0.103805</td>\n",
       "      <td>100.000000</td>\n",
       "      <td>0.051929</td>\n",
       "      <td>0.142960</td>\n",
       "      <td>{'Ratio': 0.8}</td>\n",
       "    </tr>\n",
       "    <tr>\n",
       "      <th>2</th>\n",
       "      <td>Block Purging</td>\n",
       "      <td>0.103805</td>\n",
       "      <td>100.000000</td>\n",
       "      <td>0.051929</td>\n",
       "      <td>0.010554</td>\n",
       "      <td>{'Smoothing factor': 1.025, 'Max Comparisons p...</td>\n",
       "    </tr>\n",
       "    <tr>\n",
       "      <th>3</th>\n",
       "      <td>Cardinality Edge Pruning</td>\n",
       "      <td>3.383094</td>\n",
       "      <td>98.884758</td>\n",
       "      <td>1.720987</td>\n",
       "      <td>1.863479</td>\n",
       "      <td>{'Node centric': False, 'Weighting scheme': 'JS'}</td>\n",
       "    </tr>\n",
       "    <tr>\n",
       "      <th>4</th>\n",
       "      <td>Entity Matching</td>\n",
       "      <td>0.556070</td>\n",
       "      <td>0.278810</td>\n",
       "      <td>100.000000</td>\n",
       "      <td>78.866450</td>\n",
       "      <td>{'Metric': 'edit_distance', 'Attributes': None...</td>\n",
       "    </tr>\n",
       "    <tr>\n",
       "      <th>5</th>\n",
       "      <td>Connected Components Clustering</td>\n",
       "      <td>0.556070</td>\n",
       "      <td>0.278810</td>\n",
       "      <td>100.000000</td>\n",
       "      <td>0.000176</td>\n",
       "      <td>{}</td>\n",
       "    </tr>\n",
       "  </tbody>\n",
       "</table>\n",
       "</div>"
      ],
      "text/plain": [
       "                         Algorithm        F1      Recall   Precision  \\\n",
       "0                 Q-Grams Blocking  0.041583  100.000000    0.020796   \n",
       "1                  Block Filtering  0.103805  100.000000    0.051929   \n",
       "2                    Block Purging  0.103805  100.000000    0.051929   \n",
       "3         Cardinality Edge Pruning  3.383094   98.884758    1.720987   \n",
       "4                  Entity Matching  0.556070    0.278810  100.000000   \n",
       "5  Connected Components Clustering  0.556070    0.278810  100.000000   \n",
       "\n",
       "   Runtime (sec)                                             Params  \n",
       "0       0.308826                                    {'Q-Gramms': 3}  \n",
       "1       0.142960                                     {'Ratio': 0.8}  \n",
       "2       0.010554  {'Smoothing factor': 1.025, 'Max Comparisons p...  \n",
       "3       1.863479  {'Node centric': False, 'Weighting scheme': 'JS'}  \n",
       "4      78.866450  {'Metric': 'edit_distance', 'Attributes': None...  \n",
       "5       0.000176                                                 {}  "
      ]
     },
     "execution_count": 6,
     "metadata": {},
     "output_type": "execute_result"
    }
   ],
   "source": [
    "w.to_df()"
   ]
  },
  {
   "cell_type": "code",
   "execution_count": 7,
   "id": "4dad448b-4871-4064-9ae6-ddab6b6149e9",
   "metadata": {},
   "outputs": [
    {
     "data": {
      "image/png": "[encoded data removed]",
      "text/plain": [
       "<Figure size 720x576 with 2 Axes>"
      ]
     },
     "metadata": {
      "needs_background": "light"
     },
     "output_type": "display_data"
    }
   ],
   "source": [
    "w.visualize()"
   ]
  },
  {
   "cell_type": "code",
   "execution_count": 8,
   "id": "1a726485-9353-4249-b46d-f3b7e23fd6f7",
   "metadata": {},
   "outputs": [
    {
     "data": {
      "image/png": "[encoded data removed]",
      "text/plain": [
       "<Figure size 720x576 with 4 Axes>"
      ]
     },
     "metadata": {
      "needs_background": "light"
     },
     "output_type": "display_data"
    }
   ],
   "source": [
    "w.visualize(separate=True)"
   ]
  },
  {
   "cell_type": "markdown",
   "id": "e26ab10c-c5f4-4d6f-90c1-02700c32bb30",
   "metadata": {},
   "source": [
    "# Predefined workflows (best & default)"
   ]
  },
  {
   "cell_type": "code",
   "execution_count": 9,
   "id": "7ddf5fb7-b765-40ec-9008-e8d097d20e6e",
   "metadata": {},
   "outputs": [
    {
     "name": "stdout",
     "output_type": "stream",
     "text": [
      "***************************************************************************************************************************\n",
      "                                         Μethod:  Standard Blocking\n",
      "***************************************************************************************************************************\n",
      "Method name: Standard Blocking\n",
      "Parameters: \n",
      "Runtime: 0.1625 seconds\n",
      "───────────────────────────────────────────────────────────────────────────────────────────────────────────────────────────\n",
      "Performance:\n",
      "\tPrecision:      0.12% \n",
      "\tRecall:        99.81%\n",
      "\tF1-score:       0.24%\n",
      "───────────────────────────────────────────────────────────────────────────────────────────────────────────────────────────\n",
      "***************************************************************************************************************************\n",
      "                                         Μethod:  Block Purging\n",
      "***************************************************************************************************************************\n",
      "Method name: Block Purging\n",
      "Parameters: \n",
      "\tSmoothing factor: 1.0\n",
      "\tMax Comparisons per Block: 817.0\n",
      "Runtime: 0.0062 seconds\n",
      "───────────────────────────────────────────────────────────────────────────────────────────────────────────────────────────\n",
      "Performance:\n",
      "\tPrecision:      1.16% \n",
      "\tRecall:        98.23%\n",
      "\tF1-score:       2.29%\n",
      "───────────────────────────────────────────────────────────────────────────────────────────────────────────────────────────\n",
      "***************************************************************************************************************************\n",
      "                                         Μethod:  Block Filtering\n",
      "***************************************************************************************************************************\n",
      "Method name: Block Filtering\n",
      "Parameters: \n",
      "\tRatio: 0.8\n",
      "Runtime: 0.0246 seconds\n",
      "───────────────────────────────────────────────────────────────────────────────────────────────────────────────────────────\n",
      "Performance:\n",
      "\tPrecision:      2.37% \n",
      "\tRecall:        94.42%\n",
      "\tF1-score:       4.61%\n",
      "───────────────────────────────────────────────────────────────────────────────────────────────────────────────────────────\n",
      "***************************************************************************************************************************\n",
      "                                         Μethod:  Cardinality Node Pruning\n",
      "***************************************************************************************************************************\n",
      "Method name: Cardinality Node Pruning\n",
      "Parameters: \n",
      "\tNode centric: True\n",
      "\tWeighting scheme: CBS\n",
      "Runtime: 0.1869 seconds\n",
      "───────────────────────────────────────────────────────────────────────────────────────────────────────────────────────────\n",
      "Performance:\n",
      "\tPrecision:      7.31% \n",
      "\tRecall:        87.17%\n",
      "\tF1-score:      13.48%\n",
      "───────────────────────────────────────────────────────────────────────────────────────────────────────────────────────────\n",
      "***************************************************************************************************************************\n",
      "                                         Μethod:  Entity Matching\n",
      "***************************************************************************************************************************\n",
      "Method name: Entity Matching\n",
      "Parameters: \n",
      "\tMetric: dice\n",
      "\tAttributes: None\n",
      "\tSimilarity threshold: 0.5\n",
      "\tTokenizer: white_space_tokenizer\n",
      "\tVectorizer: None\n",
      "\tQgrams: 1\n",
      "Runtime: 0.7076 seconds\n",
      "───────────────────────────────────────────────────────────────────────────────────────────────────────────────────────────\n",
      "Performance:\n",
      "\tPrecision:     77.78% \n",
      "\tRecall:         1.95%\n",
      "\tF1-score:       3.81%\n",
      "───────────────────────────────────────────────────────────────────────────────────────────────────────────────────────────\n",
      "***************************************************************************************************************************\n",
      "                                         Μethod:  Unique Mapping Clustering\n",
      "***************************************************************************************************************************\n",
      "Method name: Unique Mapping Clustering\n",
      "Parameters: \n",
      "Runtime: 0.0002 seconds\n",
      "───────────────────────────────────────────────────────────────────────────────────────────────────────────────────────────\n",
      "Performance:\n",
      "\tPrecision:     91.30% \n",
      "\tRecall:         1.95%\n",
      "\tF1-score:       3.82%\n",
      "───────────────────────────────────────────────────────────────────────────────────────────────────────────────────────────\n"
     ]
    }
   ],
   "source": [
    "w = BlockingBasedWorkFlow()\n",
    "w.default_blocking_workflow_ccer()\n",
    "w.run(data, verbose=True)"
   ]
  },
  {
   "cell_type": "markdown",
   "id": "70f162fd",
   "metadata": {},
   "source": [
    "## Workflow based on pyTorch Embdeddings\n",
    "\n",
    "\n",
    "- `block_building` : \n",
    "    - `method` : EmbeddingsNNBlockBuilding\n",
    "    - `params` : Constructor parameters\n",
    "    - `exec_params` : `build_blocks` parameters\n",
    "- `clustering` : \n",
    "    - `method` : UniqueMappingClustering\n",
    "    - `params` : Constructor parameters (i.e similarity threshold)"
   ]
  },
  {
   "cell_type": "code",
   "execution_count": 10,
   "id": "5f5cd2b2",
   "metadata": {},
   "outputs": [
    {
     "name": "stdout",
     "output_type": "stream",
     "text": [
      "Building blocks via Embeddings-NN Block Building [sminilm, faiss]\n"
     ]
    },
    {
     "name": "stderr",
     "output_type": "stream",
     "text": [
      "Embeddings-NN Block Building [sminilm, faiss]:   0%|          | 0/2152 [00:00<?, ?it/s]"
     ]
    },
    {
     "name": "stdout",
     "output_type": "stream",
     "text": [
      "Device selected:  cuda\n"
     ]
    },
    {
     "name": "stderr",
     "output_type": "stream",
     "text": [
      "Embeddings-NN Block Building [sminilm, faiss]: 100%|██████████| 2152/2152 [00:20<00:00, 103.72it/s]\n"
     ]
    },
    {
     "name": "stdout",
     "output_type": "stream",
     "text": [
      "***************************************************************************************************************************\n",
      "                                         Μethod:  Embeddings-NN Block Building\n",
      "***************************************************************************************************************************\n",
      "Method name: Embeddings-NN Block Building\n",
      "Parameters: \n",
      "\tVectorizer: sminilm\n",
      "\tSimilarity-Search: faiss\n",
      "\tTop-K: 5\n",
      "\tVector size: 384\n",
      "Runtime: 20.7496 seconds\n",
      "───────────────────────────────────────────────────────────────────────────────────────────────────────────────────────────\n",
      "Performance:\n",
      "\tPrecision:      9.17% \n",
      "\tRecall:        91.73%\n",
      "\tF1-score:      16.68%\n",
      "───────────────────────────────────────────────────────────────────────────────────────────────────────────────────────────\n",
      "***************************************************************************************************************************\n",
      "                                         Μethod:  Unique Mapping Clustering\n",
      "***************************************************************************************************************************\n",
      "Method name: Unique Mapping Clustering\n",
      "Parameters: \n",
      "Runtime: 0.0261 seconds\n",
      "───────────────────────────────────────────────────────────────────────────────────────────────────────────────────────────\n",
      "Performance:\n",
      "\tPrecision:     79.44% \n",
      "\tRecall:        73.61%\n",
      "\tF1-score:      76.41%\n",
      "───────────────────────────────────────────────────────────────────────────────────────────────────────────────────────────\n"
     ]
    }
   ],
   "source": [
    "w = EmbeddingsNNWorkFlow(\n",
    "    block_building = dict(\n",
    "        method=EmbeddingsNNBlockBuilding, \n",
    "        params=dict(vectorizer='sminilm', similarity_search='faiss'),\n",
    "        exec_params=dict(top_k=5, \n",
    "                         similarity_distance='euclidean',\n",
    "                         load_embeddings_if_exist=False,\n",
    "                         save_embeddings=False)\n",
    "    ),\n",
    "    clustering = dict(method=UniqueMappingClustering),\n",
    "    name=\"EmbeddingsNNWorkFlow-Test\"\n",
    ")\n",
    "\n",
    "w.run(data, verbose=True)"
   ]
  },
  {
   "cell_type": "markdown",
   "id": "a7a2035f-14af-4499-8dc9-01dd2abe563a",
   "metadata": {},
   "source": [
    "## Multiple workflows - Comparison"
   ]
  },
  {
   "cell_type": "code",
   "execution_count": 11,
   "id": "99758a12-d72b-4c23-9d1f-5a2f453fb7d0",
   "metadata": {},
   "outputs": [
    {
     "name": "stdout",
     "output_type": "stream",
     "text": [
      "***************************************************************************************************************************\n",
      "                                         Μethod:  Q-Grams Blocking\n",
      "***************************************************************************************************************************\n",
      "Method name: Q-Grams Blocking\n",
      "Parameters: \n",
      "\tQ-Gramms: 4\n",
      "Runtime: 0.1699 seconds\n",
      "───────────────────────────────────────────────────────────────────────────────────────────────────────────────────────────\n",
      "Performance:\n",
      "\tPrecision:      0.17% \n",
      "\tRecall:       100.00%\n",
      "\tF1-score:       0.34%\n",
      "───────────────────────────────────────────────────────────────────────────────────────────────────────────────────────────\n",
      "***************************************************************************************************************************\n",
      "                                         Μethod:  Block Filtering\n",
      "***************************************************************************************************************************\n",
      "Method name: Block Filtering\n",
      "Parameters: \n",
      "\tRatio: 0.6\n",
      "Runtime: 0.0385 seconds\n",
      "───────────────────────────────────────────────────────────────────────────────────────────────────────────────────────────\n",
      "Performance:\n",
      "\tPrecision:      1.27% \n",
      "\tRecall:        99.26%\n",
      "\tF1-score:       2.51%\n",
      "───────────────────────────────────────────────────────────────────────────────────────────────────────────────────────────\n",
      "***************************************************************************************************************************\n",
      "                                         Μethod:  Block Purging\n",
      "***************************************************************************************************************************\n",
      "Method name: Block Purging\n",
      "Parameters: \n",
      "\tSmoothing factor: 1.025\n",
      "\tMax Comparisons per Block: 1890.0\n",
      "Runtime: 0.0095 seconds\n",
      "───────────────────────────────────────────────────────────────────────────────────────────────────────────────────────────\n",
      "Performance:\n",
      "\tPrecision:      1.27% \n",
      "\tRecall:        99.26%\n",
      "\tF1-score:       2.51%\n",
      "───────────────────────────────────────────────────────────────────────────────────────────────────────────────────────────\n",
      "***************************************************************************************************************************\n",
      "                                         Μethod:  Cardinality Edge Pruning\n",
      "***************************************************************************************************************************\n",
      "Method name: Cardinality Edge Pruning\n",
      "Parameters: \n",
      "\tNode centric: False\n",
      "\tWeighting scheme: JS\n",
      "Runtime: 0.1284 seconds\n",
      "───────────────────────────────────────────────────────────────────────────────────────────────────────────────────────────\n",
      "Performance:\n",
      "\tPrecision:      8.16% \n",
      "\tRecall:        98.23%\n",
      "\tF1-score:      15.06%\n",
      "───────────────────────────────────────────────────────────────────────────────────────────────────────────────────────────\n",
      "***************************************************************************************************************************\n",
      "                                         Μethod:  Entity Matching\n",
      "***************************************************************************************************************************\n",
      "Method name: Entity Matching\n",
      "Parameters: \n",
      "\tMetric: dice\n",
      "\tAttributes: None\n",
      "\tSimilarity threshold: 0.5\n",
      "\tTokenizer: white_space_tokenizer\n",
      "\tVectorizer: None\n",
      "\tQgrams: 1\n",
      "Runtime: 0.7173 seconds\n",
      "───────────────────────────────────────────────────────────────────────────────────────────────────────────────────────────\n",
      "Performance:\n",
      "\tPrecision:     77.78% \n",
      "\tRecall:         1.95%\n",
      "\tF1-score:       3.81%\n",
      "───────────────────────────────────────────────────────────────────────────────────────────────────────────────────────────\n",
      "***************************************************************************************************************************\n",
      "                                         Μethod:  Connected Components Clustering\n",
      "***************************************************************************************************************************\n",
      "Method name: Connected Components Clustering\n",
      "Parameters: \n",
      "Runtime: 0.0001 seconds\n",
      "───────────────────────────────────────────────────────────────────────────────────────────────────────────────────────────\n",
      "Performance:\n",
      "\tPrecision:     90.48% \n",
      "\tRecall:         1.77%\n",
      "\tF1-score:       3.46%\n",
      "───────────────────────────────────────────────────────────────────────────────────────────────────────────────────────────\n"
     ]
    }
   ],
   "source": [
    "w1 = BlockingBasedWorkFlow(\n",
    "    block_building = dict(\n",
    "        method=QGramsBlocking, \n",
    "        params=dict(qgrams=4),\n",
    "        attributes_1=['name'],\n",
    "        attributes_2=['name']\n",
    "    ),\n",
    "    block_cleaning = [\n",
    "        dict(\n",
    "            method=BlockFiltering, \n",
    "            params=dict(ratio=0.6)\n",
    "        ),\n",
    "        dict(\n",
    "            method=BlockPurging, \n",
    "            params=dict(smoothing_factor=1.025)\n",
    "        )\n",
    "    ],\n",
    "    comparison_cleaning = dict(method=CardinalityEdgePruning),\n",
    "    entity_matching = dict(\n",
    "        method=EntityMatching, \n",
    "        params=dict(\n",
    "            metric='dice',\n",
    "            similarity_threshold=0.5,\n",
    "        )\n",
    "    ),\n",
    "    clustering = dict(method=ConnectedComponentsClustering)\n",
    ")\n",
    "w1.run(data, verbose=True, workflow_tqdm_enable=False)"
   ]
  },
  {
   "cell_type": "code",
   "execution_count": 12,
   "id": "3c5ddada-10d6-46e3-bc1d-ceab0aebd44e",
   "metadata": {},
   "outputs": [
    {
     "name": "stdout",
     "output_type": "stream",
     "text": [
      "***************************************************************************************************************************\n",
      "                                         Μethod:  Q-Grams Blocking\n",
      "***************************************************************************************************************************\n",
      "Method name: Q-Grams Blocking\n",
      "Parameters: \n",
      "\tQ-Gramms: 4\n",
      "Runtime: 0.1754 seconds\n",
      "───────────────────────────────────────────────────────────────────────────────────────────────────────────────────────────\n",
      "Performance:\n",
      "\tPrecision:      0.17% \n",
      "\tRecall:       100.00%\n",
      "\tF1-score:       0.34%\n",
      "───────────────────────────────────────────────────────────────────────────────────────────────────────────────────────────\n",
      "***************************************************************************************************************************\n",
      "                                         Μethod:  Block Filtering\n",
      "***************************************************************************************************************************\n",
      "Method name: Block Filtering\n",
      "Parameters: \n",
      "\tRatio: 0.6\n",
      "Runtime: 0.0385 seconds\n",
      "───────────────────────────────────────────────────────────────────────────────────────────────────────────────────────────\n",
      "Performance:\n",
      "\tPrecision:      1.27% \n",
      "\tRecall:        99.26%\n",
      "\tF1-score:       2.51%\n",
      "───────────────────────────────────────────────────────────────────────────────────────────────────────────────────────────\n",
      "***************************************************************************************************************************\n",
      "                                         Μethod:  Block Purging\n",
      "***************************************************************************************************************************\n",
      "Method name: Block Purging\n",
      "Parameters: \n",
      "\tSmoothing factor: 1.025\n",
      "\tMax Comparisons per Block: 1890.0\n",
      "Runtime: 0.0093 seconds\n",
      "───────────────────────────────────────────────────────────────────────────────────────────────────────────────────────────\n",
      "Performance:\n",
      "\tPrecision:      1.27% \n",
      "\tRecall:        99.26%\n",
      "\tF1-score:       2.51%\n",
      "───────────────────────────────────────────────────────────────────────────────────────────────────────────────────────────\n",
      "***************************************************************************************************************************\n",
      "                                         Μethod:  Cardinality Edge Pruning\n",
      "***************************************************************************************************************************\n",
      "Method name: Cardinality Edge Pruning\n",
      "Parameters: \n",
      "\tNode centric: False\n",
      "\tWeighting scheme: JS\n",
      "Runtime: 0.1296 seconds\n",
      "───────────────────────────────────────────────────────────────────────────────────────────────────────────────────────────\n",
      "Performance:\n",
      "\tPrecision:      8.16% \n",
      "\tRecall:        98.23%\n",
      "\tF1-score:      15.06%\n",
      "───────────────────────────────────────────────────────────────────────────────────────────────────────────────────────────\n",
      "***************************************************************************************************************************\n",
      "                                         Μethod:  Entity Matching\n",
      "***************************************************************************************************************************\n",
      "Method name: Entity Matching\n",
      "Parameters: \n",
      "\tMetric: edit_distance\n",
      "\tAttributes: None\n",
      "\tSimilarity threshold: 0.5\n",
      "\tTokenizer: white_space_tokenizer\n",
      "\tVectorizer: None\n",
      "\tQgrams: 1\n",
      "Runtime: 14.1703 seconds\n",
      "───────────────────────────────────────────────────────────────────────────────────────────────────────────────────────────\n",
      "Performance:\n",
      "\tPrecision:    100.00% \n",
      "\tRecall:         0.28%\n",
      "\tF1-score:       0.56%\n",
      "───────────────────────────────────────────────────────────────────────────────────────────────────────────────────────────\n",
      "***************************************************************************************************************************\n",
      "                                         Μethod:  Connected Components Clustering\n",
      "***************************************************************************************************************************\n",
      "Method name: Connected Components Clustering\n",
      "Parameters: \n",
      "Runtime: 0.0000 seconds\n",
      "───────────────────────────────────────────────────────────────────────────────────────────────────────────────────────────\n",
      "Performance:\n",
      "\tPrecision:    100.00% \n",
      "\tRecall:         0.28%\n",
      "\tF1-score:       0.56%\n",
      "───────────────────────────────────────────────────────────────────────────────────────────────────────────────────────────\n"
     ]
    }
   ],
   "source": [
    "w2 = BlockingBasedWorkFlow(\n",
    "    block_building = dict(\n",
    "        method=QGramsBlocking, \n",
    "        params=dict(qgrams=4),\n",
    "        attributes_1=['name'],\n",
    "        attributes_2=['name']\n",
    "    ),\n",
    "    block_cleaning = [\n",
    "        dict(\n",
    "            method=BlockFiltering, \n",
    "            params=dict(ratio=0.6)\n",
    "        ),\n",
    "        dict(\n",
    "            method=BlockPurging, \n",
    "            params=dict(smoothing_factor=1.025)\n",
    "        )\n",
    "    ],\n",
    "    comparison_cleaning = dict(method=CardinalityEdgePruning),\n",
    "    entity_matching = dict(\n",
    "        method=EntityMatching,\n",
    "        params=dict(\n",
    "            metric='edit_distance',\n",
    "            similarity_threshold=0.5,\n",
    "        )\n",
    "    ),\n",
    "    clustering = dict(method=ConnectedComponentsClustering)\n",
    ")\n",
    "w2.run(data, verbose=True, workflow_tqdm_enable=False)"
   ]
  },
  {
   "cell_type": "code",
   "execution_count": 13,
   "id": "5d3cc423-5ef0-42d3-8607-b34177ecebbe",
   "metadata": {},
   "outputs": [
    {
     "data": {
      "image/png": "[encoded data removed]",
      "text/plain": [
       "<Figure size 720x576 with 4 Axes>"
      ]
     },
     "metadata": {
      "needs_background": "light"
     },
     "output_type": "display_data"
    },
    {
     "data": {
      "text/html": [
       "<div>\n",
       "<style scoped>\n",
       "    .dataframe tbody tr th:only-of-type {\n",
       "        vertical-align: middle;\n",
       "    }\n",
       "\n",
       "    .dataframe tbody tr th {\n",
       "        vertical-align: top;\n",
       "    }\n",
       "\n",
       "    .dataframe thead th {\n",
       "        text-align: right;\n",
       "    }\n",
       "</style>\n",
       "<table border=\"1\" class=\"dataframe\">\n",
       "  <thead>\n",
       "    <tr style=\"text-align: right;\">\n",
       "      <th></th>\n",
       "      <th>Name</th>\n",
       "      <th>F1</th>\n",
       "      <th>Recall</th>\n",
       "      <th>Precision</th>\n",
       "      <th>Runtime (sec)</th>\n",
       "    </tr>\n",
       "  </thead>\n",
       "  <tbody>\n",
       "    <tr>\n",
       "      <th>0</th>\n",
       "      <td>EmbeddingsNNWorkFlow-Test</td>\n",
       "      <td>76.410999</td>\n",
       "      <td>73.605948</td>\n",
       "      <td>79.438315</td>\n",
       "      <td>20.805880</td>\n",
       "    </tr>\n",
       "    <tr>\n",
       "      <th>1</th>\n",
       "      <td>BlockingBasedWorkFlow-3</td>\n",
       "      <td>3.463993</td>\n",
       "      <td>1.765799</td>\n",
       "      <td>90.476190</td>\n",
       "      <td>1.183336</td>\n",
       "    </tr>\n",
       "    <tr>\n",
       "      <th>2</th>\n",
       "      <td>BlockingBasedWorkFlow-4</td>\n",
       "      <td>0.556070</td>\n",
       "      <td>0.278810</td>\n",
       "      <td>100.000000</td>\n",
       "      <td>14.639766</td>\n",
       "    </tr>\n",
       "  </tbody>\n",
       "</table>\n",
       "</div>"
      ],
      "text/plain": [
       "                        Name         F1     Recall   Precision  Runtime (sec)\n",
       "0  EmbeddingsNNWorkFlow-Test  76.410999  73.605948   79.438315      20.805880\n",
       "1    BlockingBasedWorkFlow-3   3.463993   1.765799   90.476190       1.183336\n",
       "2    BlockingBasedWorkFlow-4   0.556070   0.278810  100.000000      14.639766"
      ]
     },
     "execution_count": 13,
     "metadata": {},
     "output_type": "execute_result"
    }
   ],
   "source": [
    "compare_workflows([w, w1, w2], with_visualization=True)"
   ]
  },
  {
   "cell_type": "code",
   "execution_count": 14,
   "id": "dfcf5810-24e7-4ab9-9626-2e487722f342",
   "metadata": {},
   "outputs": [
    {
     "data": {
      "image/png": "[encoded data removed]",
      "text/plain": [
       "<Figure size 720x576 with 4 Axes>"
      ]
     },
     "metadata": {
      "needs_background": "light"
     },
     "output_type": "display_data"
    },
    {
     "data": {
      "text/html": [
       "<div>\n",
       "<style scoped>\n",
       "    .dataframe tbody tr th:only-of-type {\n",
       "        vertical-align: middle;\n",
       "    }\n",
       "\n",
       "    .dataframe tbody tr th {\n",
       "        vertical-align: top;\n",
       "    }\n",
       "\n",
       "    .dataframe thead th {\n",
       "        text-align: right;\n",
       "    }\n",
       "</style>\n",
       "<table border=\"1\" class=\"dataframe\">\n",
       "  <thead>\n",
       "    <tr style=\"text-align: right;\">\n",
       "      <th></th>\n",
       "      <th>Name</th>\n",
       "      <th>F1</th>\n",
       "      <th>Recall</th>\n",
       "      <th>Precision</th>\n",
       "      <th>Runtime (sec)</th>\n",
       "    </tr>\n",
       "  </thead>\n",
       "  <tbody>\n",
       "    <tr>\n",
       "      <th>0</th>\n",
       "      <td>EmbeddingsNNWorkFlow-Test</td>\n",
       "      <td>76.410999</td>\n",
       "      <td>73.605948</td>\n",
       "      <td>79.438315</td>\n",
       "      <td>20.805880</td>\n",
       "    </tr>\n",
       "    <tr>\n",
       "      <th>1</th>\n",
       "      <td>BlockingBasedWorkFlow-3</td>\n",
       "      <td>3.463993</td>\n",
       "      <td>1.765799</td>\n",
       "      <td>90.476190</td>\n",
       "      <td>1.183336</td>\n",
       "    </tr>\n",
       "    <tr>\n",
       "      <th>2</th>\n",
       "      <td>BlockingBasedWorkFlow-4</td>\n",
       "      <td>0.556070</td>\n",
       "      <td>0.278810</td>\n",
       "      <td>100.000000</td>\n",
       "      <td>14.639766</td>\n",
       "    </tr>\n",
       "  </tbody>\n",
       "</table>\n",
       "</div>"
      ],
      "text/plain": [
       "                        Name         F1     Recall   Precision  Runtime (sec)\n",
       "0  EmbeddingsNNWorkFlow-Test  76.410999  73.605948   79.438315      20.805880\n",
       "1    BlockingBasedWorkFlow-3   3.463993   1.765799   90.476190       1.183336\n",
       "2    BlockingBasedWorkFlow-4   0.556070   0.278810  100.000000      14.639766"
      ]
     },
     "execution_count": 14,
     "metadata": {},
     "output_type": "execute_result"
    }
   ],
   "source": [
    "compare_workflows([w, w1, w2], with_visualization=True)"
   ]
  }
 ],
 "metadata": {
  "kernelspec": {
   "display_name": "Python 3",
   "language": "python",
   "name": "python3"
  },
  "language_info": {
   "codemirror_mode": {
    "name": "ipython",
    "version": 3
   },
   "file_extension": ".py",
   "mimetype": "text/x-python",
   "name": "python",
   "nbconvert_exporter": "python",
   "pygments_lexer": "ipython3",
   "version": "3.9.16"
  },
  "vscode": {
   "interpreter": {
    "hash": "824e5f4123a1a5b690f910010b2896a5dc6379151ca1c56e0c0465c15ebbd094"
   }
  }
 },
 "nbformat": 4,
 "nbformat_minor": 5
}
