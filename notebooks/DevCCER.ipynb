{
 "cells": [
  {
   "cell_type": "markdown",
   "id": "96ec678e-b20c-4213-8616-542010f46342",
   "metadata": {},
   "source": [
    "<div align=\"center\"> \n",
    "    <hr>\n",
    "  <font size=\"6\"><b>Dev | Clean-Clean Entity Resolution Notebook</b> </font>\n",
    "   <hr>\n",
    "</div>"
   ]
  },
  {
   "cell_type": "code",
   "execution_count": 5,
   "id": "eed013bf-c351-43a3-b600-9b35a6adfd83",
   "metadata": {},
   "outputs": [
    {
     "name": "stdout",
     "output_type": "stream",
     "text": [
      "Python 3.10.12\n"
     ]
    }
   ],
   "source": [
    "!python --version"
   ]
  },
  {
   "cell_type": "code",
   "execution_count": 2,
   "id": "6db50d83-51d8-4c95-9f27-30ef867338f2",
   "metadata": {},
   "outputs": [
    {
     "name": "stdout",
     "output_type": "stream",
     "text": [
      "The autoreload extension is already loaded. To reload it, use:\n",
      "  %reload_ext autoreload\n"
     ]
    }
   ],
   "source": [
    "import os\n",
    "import sys\n",
    "import pandas as pd\n",
    "import networkx\n",
    "from networkx import draw, Graph\n",
    "%load_ext autoreload\n",
    "%autoreload 2\n",
    "%reload_ext autoreload\n",
    "from pyjedai.utils import (\n",
    "    text_cleaning_method,\n",
    "    print_clusters,\n",
    "    print_blocks,\n",
    "    print_candidate_pairs\n",
    ")\n",
    "from pyjedai.evaluation import Evaluation\n",
    "from pyjedai.datamodel import Data\n",
    "d1 = pd.read_csv(\"../data/ccer/D2/abt.csv\", sep='|', engine='python')\n",
    "d2 = pd.read_csv(\"../data/ccer/D2/buy.csv\", sep='|', engine='python')\n",
    "gt = pd.read_csv(\"../data/ccer/D2/gt.csv\", sep='|', engine='python')\n",
    "\n",
    "\n",
    "if 'aggregate value' in d1.columns.tolist():\n",
    "    d1.drop(columns=['aggregate value'], inplace=True)\n",
    "\n",
    "if 'aggregate value' in d2.columns.tolist():\n",
    "    d2.drop(columns=['aggregate value'], inplace=True)\n",
    "\n",
    "data = Data(\n",
    "    dataset_1=d1,\n",
    "    # attributes_1=['id','name','description'],\n",
    "    id_column_name_1='id',\n",
    "    dataset_2=d2,\n",
    "    # attributes_2=['id','name','description'],\n",
    "    id_column_name_2='id',\n",
    "    ground_truth=gt,\n",
    ")"
   ]
  },
  {
   "cell_type": "code",
   "execution_count": 3,
   "id": "6aaba4fe-18ee-4773-b0b9-e4bac7078780",
   "metadata": {},
   "outputs": [
    {
     "data": {
      "text/plain": [
       "id                                      216\n",
       "name           LG Navy Blue SteamWasher 27'\n",
       "description                                \n",
       "price                                      \n",
       "Name: 216, dtype: object"
      ]
     },
     "execution_count": 3,
     "metadata": {},
     "output_type": "execute_result"
    }
   ],
   "source": [
    "data.dataset_2.iloc[216]"
   ]
  },
  {
   "cell_type": "code",
   "execution_count": 4,
   "id": "4ad0fcdb-dbd2-4493-a519-fc63035ea76d",
   "metadata": {},
   "outputs": [
    {
     "name": "stdout",
     "output_type": "stream",
     "text": [
      "------------------------- Data -------------------------\n",
      "Type of Entity Resolution:  Clean-Clean\n",
      "Dataset-1:\n",
      "\tNumber of entities:  1076\n",
      "\tNumber of NaN values:  0\n",
      "\tAttributes: \n",
      "\t\t ['name', 'description', 'price']\n",
      "Dataset-2:\n",
      "\tNumber of entities:  1076\n",
      "\tNumber of NaN values:  0\n",
      "\tAttributes: \n",
      "\t\t ['name', 'description', 'price']\n",
      "\n",
      "Total number of entities:  2152\n",
      "Number of matching pairs in ground-truth:  1076\n",
      "-------------------------------------------------------- \n",
      "\n"
     ]
    }
   ],
   "source": [
    "data.print_specs()"
   ]
  },
  {
   "cell_type": "code",
   "execution_count": 5,
   "id": "7ba7c289-013d-4d7a-8840-68f811e3076f",
   "metadata": {},
   "outputs": [
    {
     "data": {
      "text/html": [
       "<div>\n",
       "<style scoped>\n",
       "    .dataframe tbody tr th:only-of-type {\n",
       "        vertical-align: middle;\n",
       "    }\n",
       "\n",
       "    .dataframe tbody tr th {\n",
       "        vertical-align: top;\n",
       "    }\n",
       "\n",
       "    .dataframe thead th {\n",
       "        text-align: right;\n",
       "    }\n",
       "</style>\n",
       "<table border=\"1\" class=\"dataframe\">\n",
       "  <thead>\n",
       "    <tr style=\"text-align: right;\">\n",
       "      <th></th>\n",
       "      <th>id</th>\n",
       "      <th>name</th>\n",
       "      <th>description</th>\n",
       "      <th>price</th>\n",
       "    </tr>\n",
       "  </thead>\n",
       "  <tbody>\n",
       "    <tr>\n",
       "      <th>0</th>\n",
       "      <td>0</td>\n",
       "      <td>Sony Turntable - PSLX350H</td>\n",
       "      <td>Sony Turntable - PSLX350H/ Belt Drive System/ ...</td>\n",
       "      <td></td>\n",
       "    </tr>\n",
       "    <tr>\n",
       "      <th>1</th>\n",
       "      <td>1</td>\n",
       "      <td>Bose Acoustimass 5 Series III Speaker System -...</td>\n",
       "      <td>Bose Acoustimass 5 Series III Speaker System -...</td>\n",
       "      <td>399.0</td>\n",
       "    </tr>\n",
       "    <tr>\n",
       "      <th>2</th>\n",
       "      <td>2</td>\n",
       "      <td>Sony Switcher - SBV40S</td>\n",
       "      <td>Sony Switcher - SBV40S/ Eliminates Disconnecti...</td>\n",
       "      <td>49.0</td>\n",
       "    </tr>\n",
       "    <tr>\n",
       "      <th>3</th>\n",
       "      <td>3</td>\n",
       "      <td>Sony 5 Disc CD Player - CDPCE375</td>\n",
       "      <td>Sony 5 Disc CD Player- CDPCE375/ 5 Disc Change...</td>\n",
       "      <td></td>\n",
       "    </tr>\n",
       "    <tr>\n",
       "      <th>4</th>\n",
       "      <td>4</td>\n",
       "      <td>Bose 27028 161 Bookshelf Pair Speakers In Whit...</td>\n",
       "      <td>Bose 161 Bookshelf Speakers In White - 161WH/ ...</td>\n",
       "      <td>158.0</td>\n",
       "    </tr>\n",
       "    <tr>\n",
       "      <th>...</th>\n",
       "      <td>...</td>\n",
       "      <td>...</td>\n",
       "      <td>...</td>\n",
       "      <td>...</td>\n",
       "    </tr>\n",
       "    <tr>\n",
       "      <th>1071</th>\n",
       "      <td>1071</td>\n",
       "      <td>Logitech Cordless Desktop Wave Keyboard And Mo...</td>\n",
       "      <td>Logitech Cordless Desktop Wave Keyboard And Mo...</td>\n",
       "      <td>79.0</td>\n",
       "    </tr>\n",
       "    <tr>\n",
       "      <th>1072</th>\n",
       "      <td>1072</td>\n",
       "      <td>Mitsubishi DLP Black TV Stand - MBS73V</td>\n",
       "      <td>Mitsubishi DLP Black TV Stand - MBS73V/ Matchi...</td>\n",
       "      <td>549.0</td>\n",
       "    </tr>\n",
       "    <tr>\n",
       "      <th>1073</th>\n",
       "      <td>1073</td>\n",
       "      <td>Logitech Digital Precision PC Gaming Headset -...</td>\n",
       "      <td>Logitech Digital Precision PC Gaming Headset -...</td>\n",
       "      <td>49.0</td>\n",
       "    </tr>\n",
       "    <tr>\n",
       "      <th>1074</th>\n",
       "      <td>1074</td>\n",
       "      <td>Logitech 2.1 Multimedia Silver Speaker System ...</td>\n",
       "      <td>Logitech 2.1 Multimedia Silver Speaker System ...</td>\n",
       "      <td></td>\n",
       "    </tr>\n",
       "    <tr>\n",
       "      <th>1075</th>\n",
       "      <td>1075</td>\n",
       "      <td>Linksys Wireless-G Range Expander - WRE54G</td>\n",
       "      <td>Linksys Wireless-G Range Expander - WRE54G/ Su...</td>\n",
       "      <td>99.0</td>\n",
       "    </tr>\n",
       "  </tbody>\n",
       "</table>\n",
       "<p>1076 rows × 4 columns</p>\n",
       "</div>"
      ],
      "text/plain": [
       "        id                                               name  \\\n",
       "0        0                          Sony Turntable - PSLX350H   \n",
       "1        1  Bose Acoustimass 5 Series III Speaker System -...   \n",
       "2        2                             Sony Switcher - SBV40S   \n",
       "3        3                   Sony 5 Disc CD Player - CDPCE375   \n",
       "4        4  Bose 27028 161 Bookshelf Pair Speakers In Whit...   \n",
       "...    ...                                                ...   \n",
       "1071  1071  Logitech Cordless Desktop Wave Keyboard And Mo...   \n",
       "1072  1072             Mitsubishi DLP Black TV Stand - MBS73V   \n",
       "1073  1073  Logitech Digital Precision PC Gaming Headset -...   \n",
       "1074  1074  Logitech 2.1 Multimedia Silver Speaker System ...   \n",
       "1075  1075         Linksys Wireless-G Range Expander - WRE54G   \n",
       "\n",
       "                                            description  price  \n",
       "0     Sony Turntable - PSLX350H/ Belt Drive System/ ...         \n",
       "1     Bose Acoustimass 5 Series III Speaker System -...  399.0  \n",
       "2     Sony Switcher - SBV40S/ Eliminates Disconnecti...   49.0  \n",
       "3     Sony 5 Disc CD Player- CDPCE375/ 5 Disc Change...         \n",
       "4     Bose 161 Bookshelf Speakers In White - 161WH/ ...  158.0  \n",
       "...                                                 ...    ...  \n",
       "1071  Logitech Cordless Desktop Wave Keyboard And Mo...   79.0  \n",
       "1072  Mitsubishi DLP Black TV Stand - MBS73V/ Matchi...  549.0  \n",
       "1073  Logitech Digital Precision PC Gaming Headset -...   49.0  \n",
       "1074  Logitech 2.1 Multimedia Silver Speaker System ...         \n",
       "1075  Linksys Wireless-G Range Expander - WRE54G/ Su...   99.0  \n",
       "\n",
       "[1076 rows x 4 columns]"
      ]
     },
     "execution_count": 5,
     "metadata": {},
     "output_type": "execute_result"
    }
   ],
   "source": [
    "data.dataset_1"
   ]
  },
  {
   "cell_type": "markdown",
   "id": "9c068252-4a69-405a-a320-c2875ec08ea5",
   "metadata": {},
   "source": [
    "# Block Building"
   ]
  },
  {
   "cell_type": "code",
   "execution_count": 6,
   "id": "9c1b6213-a218-40cf-bc72-801b77d28da9",
   "metadata": {},
   "outputs": [
    {
     "name": "stderr",
     "output_type": "stream",
     "text": [
      "c:\\Users\\nikol\\anaconda3\\envs\\r007\\lib\\site-packages\\tqdm\\auto.py:21: TqdmWarning: IProgress not found. Please update jupyter and ipywidgets. See https://ipywidgets.readthedocs.io/en/stable/user_install.html\n",
      "  from .autonotebook import tqdm as notebook_tqdm\n"
     ]
    }
   ],
   "source": [
    "from pyjedai.block_building import (\n",
    "    StandardBlocking,\n",
    "    QGramsBlocking,\n",
    "    ExtendedQGramsBlocking,\n",
    "    SuffixArraysBlocking,\n",
    "    ExtendedSuffixArraysBlocking,\n",
    ")"
   ]
  },
  {
   "cell_type": "code",
   "execution_count": 7,
   "id": "9741f0c4-6250-455f-9c88-b8dc61ab7d4d",
   "metadata": {},
   "outputs": [
    {
     "name": "stderr",
     "output_type": "stream",
     "text": [
      "Standard Blocking: 100%|██████████| 2152/2152 [00:00<00:00, 2196.30it/s]\n"
     ]
    }
   ],
   "source": [
    "qgb = StandardBlocking()\n",
    "blocks = qgb.build_blocks(data)"
   ]
  },
  {
   "cell_type": "code",
   "execution_count": 8,
   "id": "b0ac846d-0f13-4b90-b4c8-688054ed7ffe",
   "metadata": {},
   "outputs": [
    {
     "name": "stdout",
     "output_type": "stream",
     "text": [
      "***************************************************************************************************************************\n",
      "                                         Μethod:  Standard Blocking\n",
      "***************************************************************************************************************************\n",
      "Method name: Standard Blocking\n",
      "Parameters: \n",
      "Runtime: 0.9859 seconds\n",
      "───────────────────────────────────────────────────────────────────────────────────────────────────────────────────────────\n",
      "Performance:\n",
      "\tPrecision:      0.11% \n",
      "\tRecall:        99.81%\n",
      "\tF1-score:       0.23%\n",
      "───────────────────────────────────────────────────────────────────────────────────────────────────────────────────────────\n",
      "Classification report:\n",
      "\tTrue positives: 1074\n",
      "\tFalse positives: 948081\n",
      "\tTrue negatives: 1156698\n",
      "\tFalse negatives: 2\n",
      "\tTotal comparisons: 949155\n",
      "───────────────────────────────────────────────────────────────────────────────────────────────────────────────────────────\n"
     ]
    },
    {
     "data": {
      "text/plain": [
       "{'Precision %': 0.11315327844240403,\n",
       " 'Recall %': 99.81412639405205,\n",
       " 'F1 %': 0.22605029724351236,\n",
       " 'True Positives': 1074,\n",
       " 'False Positives': 948081,\n",
       " 'True Negatives': 1156698,\n",
       " 'False Negatives': 2}"
      ]
     },
     "execution_count": 8,
     "metadata": {},
     "output_type": "execute_result"
    }
   ],
   "source": [
    "qgb.evaluate(blocks, with_classification_report=True)"
   ]
  },
  {
   "cell_type": "code",
   "execution_count": 9,
   "id": "3a155224-1568-4d3f-865d-003485df7619",
   "metadata": {},
   "outputs": [
    {
     "name": "stdout",
     "output_type": "stream",
     "text": [
      "Statistics:\n",
      "\tNumber of blocks: 2132\n",
      "\tAverage block size: 19\n",
      "\tMedian block size: 5\n",
      "\tMax block size: 818\n",
      "\tMin block size: 2\n",
      "\tNumber of blocks dropped: 4516\n",
      "\tNumber of comparisons: 949155\n",
      "\tMax comparisons per block: 94500\n",
      "\tMin comparisons per block: 1\n",
      "\tEntities in blocks: 2152\n",
      "───────────────────────────────────────────────────────────────────────────────────────────────────────────────────────────\n"
     ]
    }
   ],
   "source": [
    "qgb.stats(blocks)"
   ]
  },
  {
   "cell_type": "markdown",
   "id": "9f9e77d5-c906-431a-bdc7-68dc9c00cc31",
   "metadata": {
    "tags": []
   },
   "source": [
    "# Block Cleaning"
   ]
  },
  {
   "cell_type": "code",
   "execution_count": 10,
   "id": "9c2c0e42-485a-444e-9161-975f30d21a02",
   "metadata": {},
   "outputs": [],
   "source": [
    "from pyjedai.block_cleaning import BlockFiltering"
   ]
  },
  {
   "cell_type": "code",
   "execution_count": 11,
   "id": "bf5c20ac-b16a-484d-82b0-61ecb9e7f3ea",
   "metadata": {},
   "outputs": [
    {
     "name": "stderr",
     "output_type": "stream",
     "text": [
      "Block Filtering: 100%|██████████| 3/3 [00:00<00:00, 11.91it/s]\n"
     ]
    }
   ],
   "source": [
    "bf = BlockFiltering(ratio=0.075)\n",
    "filtered_blocks = bf.process(blocks, data, tqdm_disable=False)"
   ]
  },
  {
   "cell_type": "code",
   "execution_count": 12,
   "id": "8ac781af-934d-488e-bcb5-1670b0de294d",
   "metadata": {},
   "outputs": [
    {
     "name": "stdout",
     "output_type": "stream",
     "text": [
      "***************************************************************************************************************************\n",
      "                                         Μethod:  Block Filtering\n",
      "***************************************************************************************************************************\n",
      "Method name: Block Filtering\n",
      "Parameters: \n",
      "\tRatio: 0.075\n",
      "Runtime: 0.2614 seconds\n",
      "───────────────────────────────────────────────────────────────────────────────────────────────────────────────────────────\n",
      "Performance:\n",
      "\tPrecision:     55.01% \n",
      "\tRecall:        58.64%\n",
      "\tF1-score:      56.77%\n",
      "───────────────────────────────────────────────────────────────────────────────────────────────────────────────────────────\n"
     ]
    },
    {
     "data": {
      "text/plain": [
       "{'Precision %': 55.013077593722755,\n",
       " 'Recall %': 58.64312267657993,\n",
       " 'F1 %': 56.770130454340986,\n",
       " 'True Positives': 631,\n",
       " 'False Positives': 516,\n",
       " 'True Negatives': 1156255,\n",
       " 'False Negatives': 445}"
      ]
     },
     "execution_count": 12,
     "metadata": {},
     "output_type": "execute_result"
    }
   ],
   "source": [
    "bf.evaluate(filtered_blocks)"
   ]
  },
  {
   "cell_type": "code",
   "execution_count": null,
   "id": "53bff8db-8b2a-411f-8d9b-733f4f682835",
   "metadata": {},
   "outputs": [],
   "source": [
    "from pyjedai.utils import java_math_round\n",
    "\n",
    "ratio = 0.075\n",
    "for e, b in bf.entity_index.items():\n",
    "    print(e,\",\",java_math_round(ratio*float(len(b))))"
   ]
  },
  {
   "cell_type": "code",
   "execution_count": 38,
   "id": "1ce6afc1-7240-4cc7-95b2-273a7d4bb9bc",
   "metadata": {},
   "outputs": [
    {
     "data": {
      "text/html": [
       "<div>\n",
       "<style scoped>\n",
       "    .dataframe tbody tr th:only-of-type {\n",
       "        vertical-align: middle;\n",
       "    }\n",
       "\n",
       "    .dataframe tbody tr th {\n",
       "        vertical-align: top;\n",
       "    }\n",
       "\n",
       "    .dataframe thead th {\n",
       "        text-align: right;\n",
       "    }\n",
       "</style>\n",
       "<table border=\"1\" class=\"dataframe\">\n",
       "  <thead>\n",
       "    <tr style=\"text-align: right;\">\n",
       "      <th></th>\n",
       "      <th>id1</th>\n",
       "      <th>id2</th>\n",
       "    </tr>\n",
       "  </thead>\n",
       "  <tbody>\n",
       "    <tr>\n",
       "      <th>0</th>\n",
       "      <td>2</td>\n",
       "      <td>33</td>\n",
       "    </tr>\n",
       "    <tr>\n",
       "      <th>1</th>\n",
       "      <td>865</td>\n",
       "      <td>33</td>\n",
       "    </tr>\n",
       "    <tr>\n",
       "      <th>2</th>\n",
       "      <td>40</td>\n",
       "      <td>33</td>\n",
       "    </tr>\n",
       "    <tr>\n",
       "      <th>3</th>\n",
       "      <td>871</td>\n",
       "      <td>33</td>\n",
       "    </tr>\n",
       "    <tr>\n",
       "      <th>4</th>\n",
       "      <td>3</td>\n",
       "      <td>192</td>\n",
       "    </tr>\n",
       "    <tr>\n",
       "      <th>...</th>\n",
       "      <td>...</td>\n",
       "      <td>...</td>\n",
       "    </tr>\n",
       "    <tr>\n",
       "      <th>1142</th>\n",
       "      <td>985</td>\n",
       "      <td>541</td>\n",
       "    </tr>\n",
       "    <tr>\n",
       "      <th>1143</th>\n",
       "      <td>985</td>\n",
       "      <td>563</td>\n",
       "    </tr>\n",
       "    <tr>\n",
       "      <th>1144</th>\n",
       "      <td>1012</td>\n",
       "      <td>541</td>\n",
       "    </tr>\n",
       "    <tr>\n",
       "      <th>1145</th>\n",
       "      <td>1012</td>\n",
       "      <td>563</td>\n",
       "    </tr>\n",
       "    <tr>\n",
       "      <th>1146</th>\n",
       "      <td>11</td>\n",
       "      <td>176</td>\n",
       "    </tr>\n",
       "  </tbody>\n",
       "</table>\n",
       "<p>1147 rows × 2 columns</p>\n",
       "</div>"
      ],
      "text/plain": [
       "       id1  id2\n",
       "0        2   33\n",
       "1      865   33\n",
       "2       40   33\n",
       "3      871   33\n",
       "4        3  192\n",
       "...    ...  ...\n",
       "1142   985  541\n",
       "1143   985  563\n",
       "1144  1012  541\n",
       "1145  1012  563\n",
       "1146    11  176\n",
       "\n",
       "[1147 rows x 2 columns]"
      ]
     },
     "execution_count": 38,
     "metadata": {},
     "output_type": "execute_result"
    }
   ],
   "source": [
    "bf.export_to_df(filtered_blocks)"
   ]
  },
  {
   "cell_type": "code",
   "execution_count": 14,
   "id": "659d237b-13d6-4f41-9871-24cada9c8002",
   "metadata": {},
   "outputs": [
    {
     "name": "stdout",
     "output_type": "stream",
     "text": [
      "Statistics:\n",
      "\tNumber of blocks: 783\n",
      "\tAverage block size: 2\n",
      "\tMedian block size: 2\n",
      "\tMax block size: 9\n",
      "\tMin block size: 2\n",
      "\tNumber of blocks dropped: 1349\n",
      "\tNumber of comparisons: 1147\n",
      "\tMax comparisons per block: 12\n",
      "\tMin comparisons per block: 1\n",
      "\tEntities in blocks: 1562\n",
      "───────────────────────────────────────────────────────────────────────────────────────────────────────────────────────────\n"
     ]
    }
   ],
   "source": [
    "bf.stats(filtered_blocks)"
   ]
  },
  {
   "cell_type": "markdown",
   "id": "9cd12048-bd0c-4571-ba70-488d46afcdd6",
   "metadata": {},
   "source": [
    "# Comparison Cleaning\n"
   ]
  },
  {
   "cell_type": "code",
   "execution_count": 15,
   "id": "725426e2-0af8-4295-baff-92653c841fdd",
   "metadata": {},
   "outputs": [],
   "source": [
    "from pyjedai.block_cleaning import BlockPurging"
   ]
  },
  {
   "cell_type": "code",
   "execution_count": 16,
   "id": "7997b2b6-9629-44f0-a66d-5bc4fea28fb6",
   "metadata": {},
   "outputs": [
    {
     "name": "stderr",
     "output_type": "stream",
     "text": [
      "Block Purging: 100%|██████████| 1566/1566 [00:00<00:00, 64700.01it/s]\n"
     ]
    }
   ],
   "source": [
    "cbbp = BlockPurging()\n",
    "cleaned_blocks = cbbp.process(filtered_blocks, data, tqdm_disable=False)"
   ]
  },
  {
   "cell_type": "code",
   "execution_count": 17,
   "id": "d8842b00-8765-449f-bdb7-f9b2206e91c7",
   "metadata": {},
   "outputs": [
    {
     "name": "stdout",
     "output_type": "stream",
     "text": [
      "***************************************************************************************************************************\n",
      "                                         Μethod:  Block Purging\n",
      "***************************************************************************************************************************\n",
      "Method name: Block Purging\n",
      "Parameters: \n",
      "\tSmoothing factor: 1.025\n",
      "\tMax Comparisons per Block: 12.0\n",
      "Runtime: 0.0467 seconds\n",
      "───────────────────────────────────────────────────────────────────────────────────────────────────────────────────────────\n",
      "Performance:\n",
      "\tPrecision:     55.01% \n",
      "\tRecall:        58.64%\n",
      "\tF1-score:      56.77%\n",
      "───────────────────────────────────────────────────────────────────────────────────────────────────────────────────────────\n",
      "Classification report:\n",
      "\tTrue positives: 631\n",
      "\tFalse positives: 516\n",
      "\tTrue negatives: 1156255\n",
      "\tFalse negatives: 445\n",
      "\tTotal comparisons: 1147\n",
      "───────────────────────────────────────────────────────────────────────────────────────────────────────────────────────────\n"
     ]
    },
    {
     "data": {
      "text/plain": [
       "{'Precision %': 55.013077593722755,\n",
       " 'Recall %': 58.64312267657993,\n",
       " 'F1 %': 56.770130454340986,\n",
       " 'True Positives': 631,\n",
       " 'False Positives': 516,\n",
       " 'True Negatives': 1156255,\n",
       " 'False Negatives': 445}"
      ]
     },
     "execution_count": 17,
     "metadata": {},
     "output_type": "execute_result"
    }
   ],
   "source": [
    "cbbp.evaluate(cleaned_blocks, with_classification_report=True)"
   ]
  },
  {
   "cell_type": "code",
   "execution_count": 37,
   "id": "d705a8bc",
   "metadata": {},
   "outputs": [
    {
     "data": {
      "text/html": [
       "<div>\n",
       "<style scoped>\n",
       "    .dataframe tbody tr th:only-of-type {\n",
       "        vertical-align: middle;\n",
       "    }\n",
       "\n",
       "    .dataframe tbody tr th {\n",
       "        vertical-align: top;\n",
       "    }\n",
       "\n",
       "    .dataframe thead th {\n",
       "        text-align: right;\n",
       "    }\n",
       "</style>\n",
       "<table border=\"1\" class=\"dataframe\">\n",
       "  <thead>\n",
       "    <tr style=\"text-align: right;\">\n",
       "      <th></th>\n",
       "      <th>id1</th>\n",
       "      <th>id2</th>\n",
       "    </tr>\n",
       "  </thead>\n",
       "  <tbody>\n",
       "    <tr>\n",
       "      <th>0</th>\n",
       "      <td>2</td>\n",
       "      <td>33</td>\n",
       "    </tr>\n",
       "    <tr>\n",
       "      <th>1</th>\n",
       "      <td>865</td>\n",
       "      <td>33</td>\n",
       "    </tr>\n",
       "    <tr>\n",
       "      <th>2</th>\n",
       "      <td>40</td>\n",
       "      <td>33</td>\n",
       "    </tr>\n",
       "    <tr>\n",
       "      <th>3</th>\n",
       "      <td>871</td>\n",
       "      <td>33</td>\n",
       "    </tr>\n",
       "    <tr>\n",
       "      <th>4</th>\n",
       "      <td>3</td>\n",
       "      <td>192</td>\n",
       "    </tr>\n",
       "    <tr>\n",
       "      <th>...</th>\n",
       "      <td>...</td>\n",
       "      <td>...</td>\n",
       "    </tr>\n",
       "    <tr>\n",
       "      <th>1142</th>\n",
       "      <td>985</td>\n",
       "      <td>541</td>\n",
       "    </tr>\n",
       "    <tr>\n",
       "      <th>1143</th>\n",
       "      <td>985</td>\n",
       "      <td>563</td>\n",
       "    </tr>\n",
       "    <tr>\n",
       "      <th>1144</th>\n",
       "      <td>1012</td>\n",
       "      <td>541</td>\n",
       "    </tr>\n",
       "    <tr>\n",
       "      <th>1145</th>\n",
       "      <td>1012</td>\n",
       "      <td>563</td>\n",
       "    </tr>\n",
       "    <tr>\n",
       "      <th>1146</th>\n",
       "      <td>11</td>\n",
       "      <td>176</td>\n",
       "    </tr>\n",
       "  </tbody>\n",
       "</table>\n",
       "<p>1147 rows × 2 columns</p>\n",
       "</div>"
      ],
      "text/plain": [
       "       id1  id2\n",
       "0        2   33\n",
       "1      865   33\n",
       "2       40   33\n",
       "3      871   33\n",
       "4        3  192\n",
       "...    ...  ...\n",
       "1142   985  541\n",
       "1143   985  563\n",
       "1144  1012  541\n",
       "1145  1012  563\n",
       "1146    11  176\n",
       "\n",
       "[1147 rows x 2 columns]"
      ]
     },
     "execution_count": 37,
     "metadata": {},
     "output_type": "execute_result"
    }
   ],
   "source": [
    "cbbp.export_to_df(cleaned_blocks)"
   ]
  },
  {
   "cell_type": "markdown",
   "id": "4920ae72-7ad6-42aa-932b-aaae20ace85a",
   "metadata": {},
   "source": [
    "## Meta Blocking"
   ]
  },
  {
   "cell_type": "code",
   "execution_count": 19,
   "id": "1f7d75f3-6bed-482d-a572-c3b4927236a5",
   "metadata": {},
   "outputs": [],
   "source": [
    "from pyjedai.comparison_cleaning import (\n",
    "    WeightedEdgePruning,\n",
    "    WeightedNodePruning,\n",
    "    CardinalityEdgePruning,\n",
    "    CardinalityNodePruning,\n",
    "    BLAST,\n",
    "    ReciprocalCardinalityNodePruning,\n",
    "    ReciprocalWeightedNodePruning,\n",
    "    ComparisonPropagation\n",
    ")"
   ]
  },
  {
   "cell_type": "code",
   "execution_count": 20,
   "id": "c92e0ca3-5591-4620-b3f4-012a23637416",
   "metadata": {},
   "outputs": [
    {
     "name": "stderr",
     "output_type": "stream",
     "text": [
      "Cardinality Edge Pruning:   0%|          | 0/1076 [00:00<?, ?it/s]Cardinality Edge Pruning: 100%|██████████| 1076/1076 [00:00<00:00, 1735.51it/s]\n"
     ]
    }
   ],
   "source": [
    "wep = CardinalityEdgePruning(weighting_scheme='X2')\n",
    "candidate_pairs_blocks = wep.process(filtered_blocks, data)"
   ]
  },
  {
   "cell_type": "code",
   "execution_count": 21,
   "id": "f469e387-e135-4945-b97f-da14d391c6b1",
   "metadata": {},
   "outputs": [
    {
     "name": "stdout",
     "output_type": "stream",
     "text": [
      "***************************************************************************************************************************\n",
      "                                         Μethod:  Cardinality Edge Pruning\n",
      "***************************************************************************************************************************\n",
      "Method name: Cardinality Edge Pruning\n",
      "Parameters: \n",
      "\tNode centric: False\n",
      "\tWeighting scheme: X2\n",
      "Runtime: 0.6303 seconds\n",
      "───────────────────────────────────────────────────────────────────────────────────────────────────────────────────────────\n",
      "Performance:\n",
      "\tPrecision:     64.01% \n",
      "\tRecall:        56.04%\n",
      "\tF1-score:      59.76%\n",
      "───────────────────────────────────────────────────────────────────────────────────────────────────────────────────────────\n",
      "Classification report:\n",
      "\tTrue positives: 603\n",
      "\tFalse positives: 339\n",
      "\tTrue negatives: 1156227\n",
      "\tFalse negatives: 473\n",
      "\tTotal comparisons: 942\n",
      "───────────────────────────────────────────────────────────────────────────────────────────────────────────────────────────\n"
     ]
    },
    {
     "data": {
      "text/plain": [
       "{'Precision %': 64.01273885350318,\n",
       " 'Recall %': 56.040892193308544,\n",
       " 'F1 %': 59.762140733399406,\n",
       " 'True Positives': 603,\n",
       " 'False Positives': 339,\n",
       " 'True Negatives': 1156227,\n",
       " 'False Negatives': 473}"
      ]
     },
     "execution_count": 21,
     "metadata": {},
     "output_type": "execute_result"
    }
   ],
   "source": [
    "wep.evaluate(candidate_pairs_blocks, with_classification_report=True)"
   ]
  },
  {
   "cell_type": "markdown",
   "id": "6aeff39a-b51b-4166-a55b-f8452ec258a7",
   "metadata": {},
   "source": [
    "# Entity Matching\n",
    "\n",
    "It compares pairs of entity profiles, associating every pair with a similarity in [0,1]. Its output comprises the similarity graph, i.e., an undirected, weighted graph where the nodes correspond to entities and the edges connect pairs of compared entities."
   ]
  },
  {
   "cell_type": "code",
   "execution_count": 23,
   "id": "f479d967-8bac-4870-99bd-68c01e75747b",
   "metadata": {},
   "outputs": [],
   "source": [
    "from pyjedai.matching import EntityMatching"
   ]
  },
  {
   "cell_type": "code",
   "execution_count": 24,
   "id": "ae7b1e6a-e937-44fe-bfe5-34696ea1156c",
   "metadata": {},
   "outputs": [],
   "source": [
    "EM = EntityMatching(\n",
    "    metric='jaccard',\n",
    "    tokenizer='word_tokenizer',\n",
    "    qgram=5,\n",
    "    similarity_threshold=0.0\n",
    ")\n",
    "\n",
    "pairs_graph = EM.predict(candidate_pairs_blocks, data, tqdm_disable=True)"
   ]
  },
  {
   "cell_type": "code",
   "execution_count": 25,
   "id": "4a2a5f4a-6ffa-4c16-ae49-ff4fec4c467d",
   "metadata": {},
   "outputs": [
    {
     "name": "stdout",
     "output_type": "stream",
     "text": [
      "***************************************************************************************************************************\n",
      "                                         Μethod:  Entity Matching\n",
      "***************************************************************************************************************************\n",
      "Method name: Entity Matching\n",
      "Parameters: \n",
      "\tMetric: jaccard\n",
      "\tAttributes: None\n",
      "\tSimilarity threshold: 0.0\n",
      "\tTokenizer: word_5gram\n",
      "Runtime: 3.9785 seconds\n",
      "───────────────────────────────────────────────────────────────────────────────────────────────────────────────────────────\n",
      "Performance:\n",
      "\tPrecision:     92.19% \n",
      "\tRecall:        10.97%\n",
      "\tF1-score:      19.60%\n",
      "───────────────────────────────────────────────────────────────────────────────────────────────────────────────────────────\n"
     ]
    },
    {
     "data": {
      "text/plain": [
       "{'Precision %': 92.1875,\n",
       " 'Recall %': 10.966542750929369,\n",
       " 'F1 %': 19.601328903654487,\n",
       " 'True Positives': 118,\n",
       " 'False Positives': 10,\n",
       " 'True Negatives': 1155742,\n",
       " 'False Negatives': 958}"
      ]
     },
     "execution_count": 25,
     "metadata": {},
     "output_type": "execute_result"
    }
   ],
   "source": [
    "EM.evaluate(pairs_graph)"
   ]
  },
  {
   "cell_type": "code",
   "execution_count": 26,
   "id": "7a39792f-e1b2-4ec6-8a0c-e13a9ce898c8",
   "metadata": {},
   "outputs": [
    {
     "data": {
      "text/html": [
       "<div>\n",
       "<style scoped>\n",
       "    .dataframe tbody tr th:only-of-type {\n",
       "        vertical-align: middle;\n",
       "    }\n",
       "\n",
       "    .dataframe tbody tr th {\n",
       "        vertical-align: top;\n",
       "    }\n",
       "\n",
       "    .dataframe thead th {\n",
       "        text-align: right;\n",
       "    }\n",
       "</style>\n",
       "<table border=\"1\" class=\"dataframe\">\n",
       "  <thead>\n",
       "    <tr style=\"text-align: right;\">\n",
       "      <th></th>\n",
       "      <th>id</th>\n",
       "      <th>name</th>\n",
       "      <th>description</th>\n",
       "      <th>price</th>\n",
       "    </tr>\n",
       "  </thead>\n",
       "  <tbody>\n",
       "    <tr>\n",
       "      <th>0</th>\n",
       "      <td>0</td>\n",
       "      <td>Sony Turntable - PSLX350H</td>\n",
       "      <td>Sony Turntable - PSLX350H/ Belt Drive System/ ...</td>\n",
       "      <td></td>\n",
       "    </tr>\n",
       "    <tr>\n",
       "      <th>1</th>\n",
       "      <td>1</td>\n",
       "      <td>Bose Acoustimass 5 Series III Speaker System -...</td>\n",
       "      <td>Bose Acoustimass 5 Series III Speaker System -...</td>\n",
       "      <td>399.0</td>\n",
       "    </tr>\n",
       "    <tr>\n",
       "      <th>2</th>\n",
       "      <td>2</td>\n",
       "      <td>Sony Switcher - SBV40S</td>\n",
       "      <td>Sony Switcher - SBV40S/ Eliminates Disconnecti...</td>\n",
       "      <td>49.0</td>\n",
       "    </tr>\n",
       "    <tr>\n",
       "      <th>3</th>\n",
       "      <td>3</td>\n",
       "      <td>Sony 5 Disc CD Player - CDPCE375</td>\n",
       "      <td>Sony 5 Disc CD Player- CDPCE375/ 5 Disc Change...</td>\n",
       "      <td></td>\n",
       "    </tr>\n",
       "    <tr>\n",
       "      <th>4</th>\n",
       "      <td>4</td>\n",
       "      <td>Bose 27028 161 Bookshelf Pair Speakers In Whit...</td>\n",
       "      <td>Bose 161 Bookshelf Speakers In White - 161WH/ ...</td>\n",
       "      <td>158.0</td>\n",
       "    </tr>\n",
       "    <tr>\n",
       "      <th>...</th>\n",
       "      <td>...</td>\n",
       "      <td>...</td>\n",
       "      <td>...</td>\n",
       "      <td>...</td>\n",
       "    </tr>\n",
       "    <tr>\n",
       "      <th>2147</th>\n",
       "      <td>1071</td>\n",
       "      <td>Sony VAIO FW378J/B Notebook - VGNFW378J/B</td>\n",
       "      <td>Intel Centrino 2 Core 2 Duo P8600 2.4GHz - 16....</td>\n",
       "      <td></td>\n",
       "    </tr>\n",
       "    <tr>\n",
       "      <th>2148</th>\n",
       "      <td>1072</td>\n",
       "      <td>Sennheiser CX380 Sennheiser CX 380 Sport II Gr...</td>\n",
       "      <td></td>\n",
       "      <td></td>\n",
       "    </tr>\n",
       "    <tr>\n",
       "      <th>2149</th>\n",
       "      <td>1073</td>\n",
       "      <td>IWORK 09 RETAIL-INT DVD - MB942Z/A</td>\n",
       "      <td></td>\n",
       "      <td></td>\n",
       "    </tr>\n",
       "    <tr>\n",
       "      <th>2150</th>\n",
       "      <td>1074</td>\n",
       "      <td>IWORK 09 FAMILY PACK-INT DVD - MB943Z/A</td>\n",
       "      <td></td>\n",
       "      <td></td>\n",
       "    </tr>\n",
       "    <tr>\n",
       "      <th>2151</th>\n",
       "      <td>1075</td>\n",
       "      <td>CASE MATE CARBON FIBER IPHONE 3G CASE BLACK - ...</td>\n",
       "      <td></td>\n",
       "      <td>28.08</td>\n",
       "    </tr>\n",
       "  </tbody>\n",
       "</table>\n",
       "<p>2152 rows × 4 columns</p>\n",
       "</div>"
      ],
      "text/plain": [
       "        id                                               name  \\\n",
       "0        0                          Sony Turntable - PSLX350H   \n",
       "1        1  Bose Acoustimass 5 Series III Speaker System -...   \n",
       "2        2                             Sony Switcher - SBV40S   \n",
       "3        3                   Sony 5 Disc CD Player - CDPCE375   \n",
       "4        4  Bose 27028 161 Bookshelf Pair Speakers In Whit...   \n",
       "...    ...                                                ...   \n",
       "2147  1071          Sony VAIO FW378J/B Notebook - VGNFW378J/B   \n",
       "2148  1072  Sennheiser CX380 Sennheiser CX 380 Sport II Gr...   \n",
       "2149  1073                 IWORK 09 RETAIL-INT DVD - MB942Z/A   \n",
       "2150  1074            IWORK 09 FAMILY PACK-INT DVD - MB943Z/A   \n",
       "2151  1075  CASE MATE CARBON FIBER IPHONE 3G CASE BLACK - ...   \n",
       "\n",
       "                                            description  price  \n",
       "0     Sony Turntable - PSLX350H/ Belt Drive System/ ...         \n",
       "1     Bose Acoustimass 5 Series III Speaker System -...  399.0  \n",
       "2     Sony Switcher - SBV40S/ Eliminates Disconnecti...   49.0  \n",
       "3     Sony 5 Disc CD Player- CDPCE375/ 5 Disc Change...         \n",
       "4     Bose 161 Bookshelf Speakers In White - 161WH/ ...  158.0  \n",
       "...                                                 ...    ...  \n",
       "2147  Intel Centrino 2 Core 2 Duo P8600 2.4GHz - 16....         \n",
       "2148                                                            \n",
       "2149                                                            \n",
       "2150                                                            \n",
       "2151                                                     28.08  \n",
       "\n",
       "[2152 rows x 4 columns]"
      ]
     },
     "execution_count": 26,
     "metadata": {},
     "output_type": "execute_result"
    }
   ],
   "source": [
    "data.entities"
   ]
  },
  {
   "cell_type": "code",
   "execution_count": null,
   "id": "ec19e96b-80f7-4833-a8d2-2191d3340ae6",
   "metadata": {},
   "outputs": [],
   "source": [
    "string_metrics = [\n",
    "    'jaro', 'edit_distance'\n",
    "]\n",
    "\n",
    "set_metrics = [\n",
    "    'cosine', 'dice', 'generalized_jaccard', 'jaccard', 'overlap_coefficient'\n",
    "]\n",
    "\n",
    "char_tokenizers = ['char_tokenizer']\n",
    "word_tokenizers = ['word_tokenizer']\n",
    "magellan_tokenizers = ['white_space_tokenizer']\n",
    "tok = char_tokenizers + word_tokenizers + magellan_tokenizers\n",
    "\n",
    "for m in string_metrics+set_metrics:\n",
    "    for t in tok:\n",
    "        for qgram in range(1,6)\n",
    "            print(\"\\nM =\",m,\"\\nT =\",t)\n",
    "            EM = EntityMatching(metric = m, \n",
    "                                tokenizer = t, \n",
    "                                qgram = qgram,\n",
    "                                similarity_threshold = 0.0)\n",
    "\n",
    "            pairs_graph = EM.predict(candidate_pairs_blocks, data)\n",
    "            EM.evaluate(pairs_graph)"
   ]
  },
  {
   "cell_type": "code",
   "execution_count": null,
   "id": "664e4a0a-1140-4a16-942c-0ad8463a704d",
   "metadata": {},
   "outputs": [
    {
     "data": {
      "text/plain": [
       "'lg tromm wm2688hnm 4.2 cu. ft. navy blue front load allergiene steamwasher - wm2688hnbl'"
      ]
     },
     "execution_count": 60,
     "metadata": {},
     "output_type": "execute_result"
    }
   ],
   "source": [
    "EM.corpus[206]"
   ]
  },
  {
   "cell_type": "code",
   "execution_count": null,
   "id": "ca27d66f-4248-43d0-8310-a6cd777961b3",
   "metadata": {},
   "outputs": [
    {
     "data": {
      "text/plain": [
       "\"lg navy blue steamwasher 27'\""
      ]
     },
     "execution_count": 61,
     "metadata": {},
     "output_type": "execute_result"
    }
   ],
   "source": [
    "EM.corpus[data.dataset_limit+216]"
   ]
  },
  {
   "cell_type": "code",
   "execution_count": null,
   "id": "c3d3df56-eff2-4341-9466-6783dfc5459d",
   "metadata": {},
   "outputs": [
    {
     "data": {
      "text/plain": [
       "id                                      216\n",
       "name           LG Navy Blue SteamWasher 27'\n",
       "description                                \n",
       "price                                      \n",
       "Name: 216, dtype: object"
      ]
     },
     "execution_count": 26,
     "metadata": {},
     "output_type": "execute_result"
    }
   ],
   "source": [
    "data.dataset_2.iloc[216]"
   ]
  },
  {
   "cell_type": "code",
   "execution_count": null,
   "id": "3966d893-84b8-4781-a653-2d8f53b984dc",
   "metadata": {},
   "outputs": [],
   "source": [
    "# EM.tfidf_matrix\n",
    "\n",
    "from sklearn.metrics.pairwise import cosine_similarity\n",
    "\n",
    "# Calculate cosine similarity between all pairs of strings in the list\n",
    "similarity_matrix = cosine_similarity(EM.tfidf_matrix)\n"
   ]
  },
  {
   "cell_type": "code",
   "execution_count": null,
   "id": "96a9d592-9f79-4ebd-b986-2294cc346afb",
   "metadata": {},
   "outputs": [],
   "source": [
    "EM._entities_d1"
   ]
  },
  {
   "cell_type": "code",
   "execution_count": null,
   "id": "27b157db-3582-4c5d-a377-152b2d3c88ab",
   "metadata": {},
   "outputs": [
    {
     "data": {
      "text/plain": [
       "array([[1.        , 0.00158171, 0.04005327, ..., 0.00171622, 0.00158923,\n",
       "        0.00147107],\n",
       "       [0.00158171, 1.        , 0.00619731, ..., 0.00119504, 0.00110661,\n",
       "        0.02257776],\n",
       "       [0.04005327, 0.00619731, 1.        , ..., 0.0019111 , 0.00176968,\n",
       "        0.00576379],\n",
       "       ...,\n",
       "       [0.00171622, 0.00119504, 0.0019111 , ..., 1.        , 0.50341936,\n",
       "        0.00111144],\n",
       "       [0.00158923, 0.00110661, 0.00176968, ..., 0.50341936, 1.        ,\n",
       "        0.00519086],\n",
       "       [0.00147107, 0.02257776, 0.00576379, ..., 0.00111144, 0.00519086,\n",
       "        1.        ]])"
      ]
     },
     "execution_count": 62,
     "metadata": {},
     "output_type": "execute_result"
    }
   ],
   "source": [
    "EM.tfidf_similarity_matrix"
   ]
  },
  {
   "cell_type": "code",
   "execution_count": null,
   "id": "fd587509-43e7-4cb0-96df-6103b7bc1864",
   "metadata": {},
   "outputs": [
    {
     "data": {
      "text/plain": [
       "0.12950955755331722"
      ]
     },
     "execution_count": 63,
     "metadata": {},
     "output_type": "execute_result"
    }
   ],
   "source": [
    "similarity_matrix[206][data.dataset_limit+216]\n",
    "# similarity_matrix[206][data.dataset_limit+216]"
   ]
  },
  {
   "cell_type": "code",
   "execution_count": null,
   "id": "4d606bfc-3265-4042-93f3-22a1117c4886",
   "metadata": {},
   "outputs": [
    {
     "data": {
      "image/png": "[encoded data removed]",
      "text/plain": [
       "<Figure size 432x288 with 1 Axes>"
      ]
     },
     "metadata": {},
     "output_type": "display_data"
    }
   ],
   "source": [
    "draw(pairs_graph)"
   ]
  },
  {
   "cell_type": "code",
   "execution_count": null,
   "id": "7f773307-35d8-4a10-88c0-c6eda7356ec4",
   "metadata": {},
   "outputs": [
    {
     "data": {
      "image/png": "[encoded data removed]",
      "text/plain": [
       "<Figure size 720x432 with 1 Axes>"
      ]
     },
     "metadata": {
      "needs_background": "light"
     },
     "output_type": "display_data"
    }
   ],
   "source": [
    "EM.plot_distribution_of_all_weights()"
   ]
  },
  {
   "cell_type": "code",
   "execution_count": null,
   "id": "19d0eb71-ba9f-4613-9e18-9fd876b9f82d",
   "metadata": {},
   "outputs": [
    {
     "name": "stdout",
     "output_type": "stream",
     "text": [
      "Distribution-% of predicted scores:  [27.37298148877511, 19.968491532099254, 19.082315872390705, 14.592359196534069, 9.216226860968886, 4.263489562820008, 2.5600630169358016, 1.5557306025994486, 0.9551004332414336, 0.3052382827884994]\n"
     ]
    },
    {
     "data": {
      "image/png": "[encoded data removed]",
      "text/plain": [
       "<Figure size 720x432 with 1 Axes>"
      ]
     },
     "metadata": {
      "needs_background": "light"
     },
     "output_type": "display_data"
    }
   ],
   "source": [
    "EM.plot_distribution_of_scores()"
   ]
  },
  {
   "cell_type": "code",
   "execution_count": null,
   "id": "764b8b46-2e5e-4417-9252-f5edc5f7dae8",
   "metadata": {},
   "outputs": [
    {
     "name": "stdout",
     "output_type": "stream",
     "text": [
      "***************************************************************************************************************************\n",
      "                                         Μethod:  Entity Matching\n",
      "***************************************************************************************************************************\n",
      "Method name: Entity Matching\n",
      "Parameters: \n",
      "\tTokenizer: word_qgram_tokenizer\n",
      "\tMetric: tf-idf\n",
      "\tSimilarity Threshold: 0.0\n",
      "Runtime: 0.2222 seconds\n",
      "───────────────────────────────────────────────────────────────────────────────────────────────────────────────────────────\n",
      "Performance:\n",
      "\tPrecision:      9.64% \n",
      "\tRecall:        90.99%\n",
      "\tF1-score:      17.43%\n",
      "───────────────────────────────────────────────────────────────────────────────────────────────────────────────────────────\n"
     ]
    },
    {
     "data": {
      "text/plain": [
       "{'Precision %': 9.63962189838519,\n",
       " 'Recall %': 90.98513011152416,\n",
       " 'F1 %': 17.432336182336183,\n",
       " 'True Positives': 979,\n",
       " 'False Positives': 9177,\n",
       " 'True Negatives': 1148502,\n",
       " 'False Negatives': 97}"
      ]
     },
     "execution_count": 21,
     "metadata": {},
     "output_type": "execute_result"
    }
   ],
   "source": [
    "EM.evaluate(pairs_graph)"
   ]
  },
  {
   "cell_type": "code",
   "execution_count": null,
   "id": "540076c0-0f32-4562-b82a-f13847bc2e16",
   "metadata": {},
   "outputs": [
    {
     "ename": "AttributeError",
     "evalue": "'NoneType' object has no attribute 'fillna'",
     "output_type": "error",
     "traceback": [
      "\u001b[1;31m---------------------------------------------------------------------------\u001b[0m",
      "\u001b[1;31mAttributeError\u001b[0m                            Traceback (most recent call last)",
      "\u001b[1;32m~\\AppData\\Local\\Temp/ipykernel_5628/2271748331.py\u001b[0m in \u001b[0;36m<module>\u001b[1;34m\u001b[0m\n\u001b[0;32m      1\u001b[0m \u001b[1;31m# Fill NaN values with empty string\u001b[0m\u001b[1;33m\u001b[0m\u001b[1;33m\u001b[0m\u001b[0m\n\u001b[1;32m----> 2\u001b[1;33m \u001b[0mdata\u001b[0m\u001b[1;33m.\u001b[0m\u001b[0mdataset_1\u001b[0m \u001b[1;33m=\u001b[0m \u001b[0mdata\u001b[0m\u001b[1;33m.\u001b[0m\u001b[0mdataset_1\u001b[0m\u001b[1;33m.\u001b[0m\u001b[0mfillna\u001b[0m\u001b[1;33m(\u001b[0m\u001b[1;34m\"\"\u001b[0m\u001b[1;33m,\u001b[0m \u001b[0minplace\u001b[0m\u001b[1;33m=\u001b[0m\u001b[1;32mTrue\u001b[0m\u001b[1;33m)\u001b[0m\u001b[1;33m\u001b[0m\u001b[1;33m\u001b[0m\u001b[0m\n\u001b[0m\u001b[0;32m      3\u001b[0m \u001b[1;32mif\u001b[0m \u001b[1;32mnot\u001b[0m \u001b[0mdata\u001b[0m\u001b[1;33m.\u001b[0m\u001b[0mis_dirty_er\u001b[0m\u001b[1;33m:\u001b[0m\u001b[1;33m\u001b[0m\u001b[1;33m\u001b[0m\u001b[0m\n\u001b[0;32m      4\u001b[0m     \u001b[0mdata\u001b[0m\u001b[1;33m.\u001b[0m\u001b[0mdataset_2\u001b[0m \u001b[1;33m=\u001b[0m \u001b[0mdata\u001b[0m\u001b[1;33m.\u001b[0m\u001b[0mdataset_2\u001b[0m\u001b[1;33m.\u001b[0m\u001b[0mfillna\u001b[0m\u001b[1;33m(\u001b[0m\u001b[1;34m\"\"\u001b[0m\u001b[1;33m,\u001b[0m \u001b[0minplace\u001b[0m\u001b[1;33m=\u001b[0m\u001b[1;32mTrue\u001b[0m\u001b[1;33m)\u001b[0m\u001b[1;33m\u001b[0m\u001b[1;33m\u001b[0m\u001b[0m\n",
      "\u001b[1;31mAttributeError\u001b[0m: 'NoneType' object has no attribute 'fillna'"
     ]
    }
   ],
   "source": [
    "# Fill NaN values with empty string\n",
    "data.dataset_1 = data.dataset_1.fillna(\"\", inplace=True)\n",
    "if not data.is_dirty_er:\n",
    "    data.dataset_2 = data.dataset_2.fillna(\"\", inplace=True)"
   ]
  },
  {
   "cell_type": "code",
   "execution_count": null,
   "id": "0b1cb5e2-d4db-4376-acdb-5f741868e32d",
   "metadata": {},
   "outputs": [
    {
     "name": "stdout",
     "output_type": "stream",
     "text": [
      "***************************************************************************************************************************\n",
      "                                         Μethod:  Entity Matching\n",
      "***************************************************************************************************************************\n",
      "Method name: Entity Matching\n",
      "Parameters: \n",
      "\tTokenizer: word_qgram_tokenizer\n",
      "\tMetric: tf-idf\n",
      "\tSimilarity Threshold: 0.0\n",
      "Runtime: 0.2222 seconds\n",
      "───────────────────────────────────────────────────────────────────────────────────────────────────────────────────────────\n",
      "Performance:\n",
      "\tPrecision:      9.64% \n",
      "\tRecall:        90.99%\n",
      "\tF1-score:      17.43%\n",
      "───────────────────────────────────────────────────────────────────────────────────────────────────────────────────────────\n"
     ]
    },
    {
     "data": {
      "text/plain": [
       "{'Precision %': 9.63962189838519,\n",
       " 'Recall %': 90.98513011152416,\n",
       " 'F1 %': 17.432336182336183,\n",
       " 'True Positives': 979,\n",
       " 'False Positives': 9177,\n",
       " 'True Negatives': 1148502,\n",
       " 'False Negatives': 97}"
      ]
     },
     "execution_count": 22,
     "metadata": {},
     "output_type": "execute_result"
    }
   ],
   "source": [
    "EM.evaluate(pairs_graph)"
   ]
  },
  {
   "cell_type": "markdown",
   "id": "93b72120-4578-4d5c-a408-a24ee78bf6cb",
   "metadata": {},
   "source": [
    "# Entity Clustering\n",
    "\n",
    "It takes as input the similarity graph produced by Entity Matching and partitions it into a set of equivalence clusters, with every cluster corresponding to a distinct real-world object."
   ]
  },
  {
   "cell_type": "code",
   "execution_count": 28,
   "id": "500d2ef7-7017-4dba-bbea-acdba8abf5b7",
   "metadata": {},
   "outputs": [],
   "source": [
    "from pyjedai.clustering import ConnectedComponentsClustering, UniqueMappingClustering"
   ]
  },
  {
   "cell_type": "code",
   "execution_count": 29,
   "id": "aebd9329-3a4b-48c9-bd05-c7bd4aed3ca9",
   "metadata": {},
   "outputs": [],
   "source": [
    "ccc = ConnectedComponentsClustering()\n",
    "clusters = ccc.process(pairs_graph, data)"
   ]
  },
  {
   "cell_type": "code",
   "execution_count": 30,
   "id": "00bc2e82-9bc1-4119-b8cb-4a1c18afee19",
   "metadata": {},
   "outputs": [
    {
     "name": "stdout",
     "output_type": "stream",
     "text": [
      "***************************************************************************************************************************\n",
      "                                         Μethod:  Connected Components Clustering\n",
      "***************************************************************************************************************************\n",
      "Method name: Connected Components Clustering\n",
      "Parameters: \n",
      "Runtime: 0.0636 seconds\n",
      "───────────────────────────────────────────────────────────────────────────────────────────────────────────────────────────\n",
      "Performance:\n",
      "\tPrecision:     95.31% \n",
      "\tRecall:        41.54%\n",
      "\tF1-score:      57.86%\n",
      "───────────────────────────────────────────────────────────────────────────────────────────────────────────────────────────\n",
      "Classification report:\n",
      "\tTrue positives: 447\n",
      "\tFalse positives: 22\n",
      "\tTrue negatives: 1156071\n",
      "\tFalse negatives: 629\n",
      "\tTotal comparisons: 469\n",
      "───────────────────────────────────────────────────────────────────────────────────────────────────────────────────────────\n"
     ]
    },
    {
     "data": {
      "text/plain": [
       "{'Precision %': 95.3091684434968,\n",
       " 'Recall %': 41.542750929368026,\n",
       " 'F1 %': 57.86407766990291,\n",
       " 'True Positives': 447,\n",
       " 'False Positives': 22,\n",
       " 'True Negatives': 1156071,\n",
       " 'False Negatives': 629}"
      ]
     },
     "execution_count": 30,
     "metadata": {},
     "output_type": "execute_result"
    }
   ],
   "source": [
    "ccc.evaluate(clusters, with_classification_report=True)"
   ]
  },
  {
   "cell_type": "code",
   "execution_count": 31,
   "id": "6f8efe1d-b981-4fba-b5cf-2b28fb189ee2",
   "metadata": {},
   "outputs": [],
   "source": [
    "from pyjedai.clustering import ConnectedComponentsClustering, UniqueMappingClustering\n",
    "umc = UniqueMappingClustering()\n",
    "clusters = umc.process(pairs_graph, data)"
   ]
  },
  {
   "cell_type": "code",
   "execution_count": 32,
   "id": "57bf85f5-296c-4f26-b760-d29da4adbba6",
   "metadata": {},
   "outputs": [
    {
     "name": "stdout",
     "output_type": "stream",
     "text": [
      "***************************************************************************************************************************\n",
      "                                         Μethod:  Unique Mapping Clustering\n",
      "***************************************************************************************************************************\n",
      "Method name: Unique Mapping Clustering\n",
      "Parameters: \n",
      "Runtime: 0.0732 seconds\n",
      "───────────────────────────────────────────────────────────────────────────────────────────────────────────────────────────\n",
      "Performance:\n",
      "\tPrecision:     84.66% \n",
      "\tRecall:        52.32%\n",
      "\tF1-score:      64.68%\n",
      "───────────────────────────────────────────────────────────────────────────────────────────────────────────────────────────\n",
      "Classification report:\n",
      "\tTrue positives: 563\n",
      "\tFalse positives: 102\n",
      "\tTrue negatives: 1156187\n",
      "\tFalse negatives: 513\n",
      "\tTotal comparisons: 665\n",
      "───────────────────────────────────────────────────────────────────────────────────────────────────────────────────────────\n"
     ]
    },
    {
     "data": {
      "text/plain": [
       "{'Precision %': 84.66165413533835,\n",
       " 'Recall %': 52.32342007434945,\n",
       " 'F1 %': 64.67547386559448,\n",
       " 'True Positives': 563,\n",
       " 'False Positives': 102,\n",
       " 'True Negatives': 1156187,\n",
       " 'False Negatives': 513}"
      ]
     },
     "execution_count": 32,
     "metadata": {},
     "output_type": "execute_result"
    }
   ],
   "source": [
    "umc.evaluate(clusters, with_classification_report=True)"
   ]
  },
  {
   "cell_type": "code",
   "execution_count": 36,
   "id": "065cf374",
   "metadata": {},
   "outputs": [
    {
     "data": {
      "text/html": [
       "<div>\n",
       "<style scoped>\n",
       "    .dataframe tbody tr th:only-of-type {\n",
       "        vertical-align: middle;\n",
       "    }\n",
       "\n",
       "    .dataframe tbody tr th {\n",
       "        vertical-align: top;\n",
       "    }\n",
       "\n",
       "    .dataframe thead th {\n",
       "        text-align: right;\n",
       "    }\n",
       "</style>\n",
       "<table border=\"1\" class=\"dataframe\">\n",
       "  <thead>\n",
       "    <tr style=\"text-align: right;\">\n",
       "      <th></th>\n",
       "      <th>id1</th>\n",
       "      <th>id2</th>\n",
       "    </tr>\n",
       "  </thead>\n",
       "  <tbody>\n",
       "    <tr>\n",
       "      <th>0</th>\n",
       "      <td>25</td>\n",
       "      <td>21</td>\n",
       "    </tr>\n",
       "    <tr>\n",
       "      <th>1</th>\n",
       "      <td>746</td>\n",
       "      <td>636</td>\n",
       "    </tr>\n",
       "    <tr>\n",
       "      <th>2</th>\n",
       "      <td>982</td>\n",
       "      <td>977</td>\n",
       "    </tr>\n",
       "    <tr>\n",
       "      <th>3</th>\n",
       "      <td>47</td>\n",
       "      <td>79</td>\n",
       "    </tr>\n",
       "    <tr>\n",
       "      <th>4</th>\n",
       "      <td>879</td>\n",
       "      <td>896</td>\n",
       "    </tr>\n",
       "    <tr>\n",
       "      <th>...</th>\n",
       "      <td>...</td>\n",
       "      <td>...</td>\n",
       "    </tr>\n",
       "    <tr>\n",
       "      <th>660</th>\n",
       "      <td>393</td>\n",
       "      <td>422</td>\n",
       "    </tr>\n",
       "    <tr>\n",
       "      <th>661</th>\n",
       "      <td>867</td>\n",
       "      <td>779</td>\n",
       "    </tr>\n",
       "    <tr>\n",
       "      <th>662</th>\n",
       "      <td>868</td>\n",
       "      <td>780</td>\n",
       "    </tr>\n",
       "    <tr>\n",
       "      <th>663</th>\n",
       "      <td>422</td>\n",
       "      <td>850</td>\n",
       "    </tr>\n",
       "    <tr>\n",
       "      <th>664</th>\n",
       "      <td>947</td>\n",
       "      <td>209</td>\n",
       "    </tr>\n",
       "  </tbody>\n",
       "</table>\n",
       "<p>665 rows × 2 columns</p>\n",
       "</div>"
      ],
      "text/plain": [
       "     id1  id2\n",
       "0     25   21\n",
       "1    746  636\n",
       "2    982  977\n",
       "3     47   79\n",
       "4    879  896\n",
       "..   ...  ...\n",
       "660  393  422\n",
       "661  867  779\n",
       "662  868  780\n",
       "663  422  850\n",
       "664  947  209\n",
       "\n",
       "[665 rows x 2 columns]"
      ]
     },
     "execution_count": 36,
     "metadata": {},
     "output_type": "execute_result"
    }
   ],
   "source": [
    "umc.export_to_df(clusters)"
   ]
  }
 ],
 "metadata": {
  "kernelspec": {
   "display_name": "Python 3",
   "language": "python",
   "name": "python3"
  },
  "language_info": {
   "codemirror_mode": {
    "name": "ipython",
    "version": 3
   },
   "file_extension": ".py",
   "mimetype": "text/x-python",
   "name": "python",
   "nbconvert_exporter": "python",
   "pygments_lexer": "ipython3",
   "version": "3.9.16"
  },
  "vscode": {
   "interpreter": {
    "hash": "824e5f4123a1a5b690f910010b2896a5dc6379151ca1c56e0c0465c15ebbd094"
   }
  }
 },
 "nbformat": 4,
 "nbformat_minor": 5
}
