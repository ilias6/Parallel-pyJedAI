{
 "cells": [
  {
   "cell_type": "markdown",
   "id": "96ec678e-b20c-4213-8616-542010f46342",
   "metadata": {},
   "source": [
    "<div align=\"center\"> \n",
    "    <hr>\n",
    "  <font size=\"6\"><b>Dev | Clean-Clean Entity Resolution Notebook</b> </font>\n",
    "   <hr>\n",
    "</div>"
   ]
  },
  {
   "cell_type": "code",
   "execution_count": 1,
   "id": "eed013bf-c351-43a3-b600-9b35a6adfd83",
   "metadata": {},
   "outputs": [
    {
     "name": "stdout",
     "output_type": "stream",
     "text": [
      "Python 3.9.1\n"
     ]
    }
   ],
   "source": [
    "!python --version"
   ]
  },
  {
   "cell_type": "code",
   "execution_count": 2,
   "id": "6db50d83-51d8-4c95-9f27-30ef867338f2",
   "metadata": {},
   "outputs": [],
   "source": [
    "import os\n",
    "import sys\n",
    "import pandas as pd\n",
    "import networkx\n",
    "from networkx import draw, Graph\n",
    "%load_ext autoreload\n",
    "%autoreload 2\n",
    "%reload_ext autoreload\n",
    "from pyjedai.utils import (\n",
    "    text_cleaning_method,\n",
    "    print_clusters,\n",
    "    print_blocks,\n",
    "    print_candidate_pairs\n",
    ")\n",
    "from pyjedai.evaluation import Evaluation, write\n",
    "from pyjedai.datamodel import Data\n",
    "d1 = pd.read_csv(\"./data/ccer/D2/abt.csv\", sep='|', engine='python', na_filter=False).astype(str)\n",
    "d2 = pd.read_csv(\"./data/ccer/D2/buy.csv\", sep='|', engine='python', na_filter=False).astype(str)\n",
    "\n",
    "data = Data(\n",
    "    dataset_1=d1,\n",
    "    attributes_1=['id','name','description'],\n",
    "    id_column_name_1='id',\n",
    "    dataset_2=d2,\n",
    "    attributes_2=['id','name','description'],\n",
    "    id_column_name_2='id',\n",
    ")"
   ]
  },
  {
   "cell_type": "markdown",
   "id": "9c068252-4a69-405a-a320-c2875ec08ea5",
   "metadata": {},
   "source": [
    "# Block Building"
   ]
  },
  {
   "cell_type": "code",
   "execution_count": 3,
   "id": "9c1b6213-a218-40cf-bc72-801b77d28da9",
   "metadata": {},
   "outputs": [],
   "source": [
    "from pyjedai.block_building import (\n",
    "    StandardBlocking,\n",
    "    QGramsBlocking,\n",
    "    ExtendedQGramsBlocking,\n",
    "    SuffixArraysBlocking,\n",
    "    ExtendedSuffixArraysBlocking,\n",
    ")\n",
    "\n",
    "from pyjedai.vector_based_blocking import EmbeddingsNNBlockBuilding"
   ]
  },
  {
   "cell_type": "code",
   "execution_count": 4,
   "id": "9741f0c4-6250-455f-9c88-b8dc61ab7d4d",
   "metadata": {},
   "outputs": [
    {
     "data": {
      "application/vnd.jupyter.widget-view+json": {
       "model_id": "3722baaecb80492eac019248b5a75dd4",
       "version_major": 2,
       "version_minor": 0
      },
      "text/plain": [
       "Suffix Arrays Blocking:   0%|          | 0/2152 [00:00<?, ?it/s]"
      ]
     },
     "metadata": {},
     "output_type": "display_data"
    }
   ],
   "source": [
    "qgb = SuffixArraysBlocking()\n",
    "blocks = qgb.build_blocks(data, attributes_1=['name'], attributes_2=['name'])"
   ]
  },
  {
   "cell_type": "code",
   "execution_count": 5,
   "id": "d2d9ae46-28fa-4438-87b7-ba901c75bd99",
   "metadata": {},
   "outputs": [
    {
     "name": "stdout",
     "output_type": "stream",
     "text": [
      "Method name: Suffix Arrays Blocking\n",
      "Method info: Creates one block for every suffix that appears in the attribute value tokens of at least two entities.\n",
      "Parameters: \n",
      "\tSuffix length: 6\n",
      "\tMaximum Block Size: 53\n",
      "Attributes from D1:\n",
      "\tname\n",
      "Attributes from D2:\n",
      "\tname\n",
      "Runtime: 0.1611 seconds\n"
     ]
    }
   ],
   "source": [
    "qgb.report()"
   ]
  },
  {
   "cell_type": "markdown",
   "id": "22db13c8-7a5a-40e9-9280-fe28b1b6353f",
   "metadata": {},
   "source": [
    "#### EmbeddingsNNBlockBuilding"
   ]
  },
  {
   "cell_type": "code",
   "execution_count": 6,
   "id": "b25e2601-a871-41dd-a48c-bf72382d0f13",
   "metadata": {},
   "outputs": [
    {
     "data": {
      "application/vnd.jupyter.widget-view+json": {
       "model_id": "4a6089e47a7941b28ad9b4c04f15b53b",
       "version_major": 2,
       "version_minor": 0
      },
      "text/plain": [
       "Embeddings-NN Block Building [bert, faiss]:   0%|          | 0/2152 [00:00<?, ?it/s]"
      ]
     },
     "metadata": {},
     "output_type": "display_data"
    },
    {
     "name": "stdout",
     "output_type": "stream",
     "text": [
      "Device selected:  cpu\n",
      "Vector size:  (1076, 768)\n",
      "Saving embeddings...\n",
      "Saving file:  .embeddings\\d1_1.npy\n",
      "Saving file:  .embeddings\\d2_2.npy\n"
     ]
    }
   ],
   "source": [
    "emb = EmbeddingsNNBlockBuilding(\n",
    "    vectorizer='bert',\n",
    "    similarity_search='faiss'\n",
    ")\n",
    "blocks = emb.build_blocks(data)"
   ]
  },
  {
   "cell_type": "code",
   "execution_count": 7,
   "id": "72d16ae4-bc13-460f-a215-ac85016ded22",
   "metadata": {},
   "outputs": [
    {
     "ename": "AttributeError",
     "evalue": "Can not proceed to evaluation without a ground-truth file. Data object has not been initialized with the ground-truth file",
     "output_type": "error",
     "traceback": [
      "\u001b[1;31m---------------------------------------------------------------------------\u001b[0m",
      "\u001b[1;31mAttributeError\u001b[0m                            Traceback (most recent call last)",
      "\u001b[1;32m~\\AppData\\Local\\Temp/ipykernel_11112/2980546712.py\u001b[0m in \u001b[0;36m<module>\u001b[1;34m\u001b[0m\n\u001b[1;32m----> 1\u001b[1;33m \u001b[0mEvaluation\u001b[0m\u001b[1;33m(\u001b[0m\u001b[0mdata\u001b[0m\u001b[1;33m)\u001b[0m\u001b[1;33m.\u001b[0m\u001b[0mreport\u001b[0m\u001b[1;33m(\u001b[0m\u001b[0mblocks\u001b[0m\u001b[1;33m,\u001b[0m \u001b[0memb\u001b[0m\u001b[1;33m.\u001b[0m\u001b[0mmethod_configuration\u001b[0m\u001b[1;33m(\u001b[0m\u001b[1;33m)\u001b[0m\u001b[1;33m)\u001b[0m\u001b[1;33m\u001b[0m\u001b[1;33m\u001b[0m\u001b[0m\n\u001b[0m",
      "\u001b[1;32m~\\Desktop\\GitHub\\pyJedAI-Dev\\pyjedai\\evaluation.py\u001b[0m in \u001b[0;36m__init__\u001b[1;34m(self, data)\u001b[0m\n\u001b[0;32m     38\u001b[0m \u001b[1;33m\u001b[0m\u001b[0m\n\u001b[0;32m     39\u001b[0m         \u001b[1;32mif\u001b[0m \u001b[0mself\u001b[0m\u001b[1;33m.\u001b[0m\u001b[0mdata\u001b[0m\u001b[1;33m.\u001b[0m\u001b[0mground_truth\u001b[0m \u001b[1;32mis\u001b[0m \u001b[1;32mNone\u001b[0m\u001b[1;33m:\u001b[0m\u001b[1;33m\u001b[0m\u001b[1;33m\u001b[0m\u001b[0m\n\u001b[1;32m---> 40\u001b[1;33m             raise AttributeError(\"Can not proceed to evaluation without a ground-truth file. \" + \n\u001b[0m\u001b[0;32m     41\u001b[0m                     \"Data object has not been initialized with the ground-truth file\")\n\u001b[0;32m     42\u001b[0m \u001b[1;33m\u001b[0m\u001b[0m\n",
      "\u001b[1;31mAttributeError\u001b[0m: Can not proceed to evaluation without a ground-truth file. Data object has not been initialized with the ground-truth file"
     ]
    }
   ],
   "source": [
    "Evaluation(data).report(blocks, emb.method_configuration())"
   ]
  },
  {
   "cell_type": "markdown",
   "id": "9f9e77d5-c906-431a-bdc7-68dc9c00cc31",
   "metadata": {
    "tags": []
   },
   "source": [
    "# Block Cleaning"
   ]
  },
  {
   "cell_type": "code",
   "execution_count": null,
   "id": "9c2c0e42-485a-444e-9161-975f30d21a02",
   "metadata": {},
   "outputs": [],
   "source": [
    "from pyjedai.block_cleaning import BlockFiltering"
   ]
  },
  {
   "cell_type": "code",
   "execution_count": null,
   "id": "bf5c20ac-b16a-484d-82b0-61ecb9e7f3ea",
   "metadata": {},
   "outputs": [],
   "source": [
    "bf = BlockFiltering(ratio=0.8)\n",
    "filtered_blocks = bf.process(blocks, data, tqdm_disable=False)"
   ]
  },
  {
   "cell_type": "markdown",
   "id": "9cd12048-bd0c-4571-ba70-488d46afcdd6",
   "metadata": {},
   "source": [
    "# Comparison Cleaning\n"
   ]
  },
  {
   "cell_type": "code",
   "execution_count": null,
   "id": "725426e2-0af8-4295-baff-92653c841fdd",
   "metadata": {},
   "outputs": [],
   "source": [
    "from pyjedai.block_cleaning import BlockPurging"
   ]
  },
  {
   "cell_type": "code",
   "execution_count": null,
   "id": "7997b2b6-9629-44f0-a66d-5bc4fea28fb6",
   "metadata": {},
   "outputs": [],
   "source": [
    "cbbp = BlockPurging()\n",
    "cleaned_blocks = cbbp.process(filtered_blocks, data, tqdm_disable=False)"
   ]
  },
  {
   "cell_type": "code",
   "execution_count": null,
   "id": "d8842b00-8765-449f-bdb7-f9b2206e91c7",
   "metadata": {},
   "outputs": [],
   "source": [
    "cbbp.report()"
   ]
  },
  {
   "cell_type": "markdown",
   "id": "4920ae72-7ad6-42aa-932b-aaae20ace85a",
   "metadata": {},
   "source": [
    "## Meta Blocking"
   ]
  },
  {
   "cell_type": "code",
   "execution_count": null,
   "id": "1f7d75f3-6bed-482d-a572-c3b4927236a5",
   "metadata": {},
   "outputs": [],
   "source": [
    "from pyjedai.comparison_cleaning import (\n",
    "    WeightedEdgePruning,\n",
    "    WeightedNodePruning,\n",
    "    CardinalityEdgePruning,\n",
    "    CardinalityNodePruning,\n",
    "    BLAST,\n",
    "    ReciprocalCardinalityNodePruning,\n",
    "    ReciprocalWeightedNodePruning,\n",
    "    ComparisonPropagation\n",
    ")"
   ]
  },
  {
   "cell_type": "code",
   "execution_count": null,
   "id": "c92e0ca3-5591-4620-b3f4-012a23637416",
   "metadata": {},
   "outputs": [],
   "source": [
    "wep = CardinalityEdgePruning(weighting_scheme='X2')\n",
    "candidate_pairs_blocks = wep.process(filtered_blocks, data, tqdm_disable=True)"
   ]
  },
  {
   "cell_type": "markdown",
   "id": "6aeff39a-b51b-4166-a55b-f8452ec258a7",
   "metadata": {},
   "source": [
    "# Entity Matching\n",
    "\n",
    "It compares pairs of entity profiles, associating every pair with a similarity in [0,1]. Its output comprises the similarity graph, i.e., an undirected, weighted graph where the nodes correspond to entities and the edges connect pairs of compared entities."
   ]
  },
  {
   "cell_type": "code",
   "execution_count": null,
   "id": "f479d967-8bac-4870-99bd-68c01e75747b",
   "metadata": {},
   "outputs": [],
   "source": [
    "from pyjedai.matching import EntityMatching"
   ]
  },
  {
   "cell_type": "code",
   "execution_count": null,
   "id": "ae7b1e6a-e937-44fe-bfe5-34696ea1156c",
   "metadata": {},
   "outputs": [],
   "source": [
    "EM = EntityMatching(\n",
    "    metric='dice',\n",
    "    similarity_threshold=0.4,\n",
    "    attributes = ['description', 'name']\n",
    ")\n",
    "\n",
    "pairs_graph = EM.predict(candidate_pairs_blocks, data, tqdm_disable=True)"
   ]
  },
  {
   "cell_type": "code",
   "execution_count": null,
   "id": "ec19e96b-80f7-4833-a8d2-2191d3340ae6",
   "metadata": {},
   "outputs": [],
   "source": [
    "# pairs = write(pairs_graph, data)"
   ]
  },
  {
   "cell_type": "code",
   "execution_count": null,
   "id": "4d606bfc-3265-4042-93f3-22a1117c4886",
   "metadata": {},
   "outputs": [],
   "source": [
    "draw(pairs_graph)"
   ]
  },
  {
   "cell_type": "markdown",
   "id": "93b72120-4578-4d5c-a408-a24ee78bf6cb",
   "metadata": {},
   "source": [
    "# Entity Clustering\n",
    "\n",
    "It takes as input the similarity graph produced by Entity Matching and partitions it into a set of equivalence clusters, with every cluster corresponding to a distinct real-world object."
   ]
  },
  {
   "cell_type": "code",
   "execution_count": null,
   "id": "500d2ef7-7017-4dba-bbea-acdba8abf5b7",
   "metadata": {},
   "outputs": [],
   "source": [
    "from pyjedai.clustering import ConnectedComponentsClustering, UniqueMappingClustering"
   ]
  },
  {
   "cell_type": "code",
   "execution_count": null,
   "id": "aebd9329-3a4b-48c9-bd05-c7bd4aed3ca9",
   "metadata": {},
   "outputs": [],
   "source": [
    "ccc = ConnectedComponentsClustering()\n",
    "clusters = ccc.process(pairs_graph)"
   ]
  },
  {
   "cell_type": "code",
   "execution_count": null,
   "id": "5b52a534-691a-48be-b5e9-c073dc04b154",
   "metadata": {},
   "outputs": [],
   "source": [
    "ccc.report()"
   ]
  },
  {
   "cell_type": "code",
   "execution_count": null,
   "id": "6f8efe1d-b981-4fba-b5cf-2b28fb189ee2",
   "metadata": {},
   "outputs": [],
   "source": [
    "from pyjedai.clustering import ConnectedComponentsClustering, UniqueMappingClustering\n",
    "umc = UniqueMappingClustering()\n",
    "clusters = umc.process(pairs_graph)"
   ]
  }
 ],
 "metadata": {
  "kernelspec": {
   "display_name": "Python 3",
   "language": "python",
   "name": "python3"
  },
  "language_info": {
   "codemirror_mode": {
    "name": "ipython",
    "version": 3
   },
   "file_extension": ".py",
   "mimetype": "text/x-python",
   "name": "python",
   "nbconvert_exporter": "python",
   "pygments_lexer": "ipython3",
   "version": "3.9.16"
  }
 },
 "nbformat": 4,
 "nbformat_minor": 5
}
