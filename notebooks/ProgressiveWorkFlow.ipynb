{
 "cells": [
  {
   "cell_type": "markdown",
   "id": "855fdafb-cce9-44ee-bdf9-776a375494ed",
   "metadata": {},
   "source": [
    "# User-Friendly Progressive Workflow Tutorial\n",
    "\n",
    "In this notebook we present the a __user-friendly approach__ in the well-known ABT-BUY dataset. This is a simple approach, specially developed for novice users in Progressive ER."
   ]
  },
  {
   "cell_type": "code",
   "execution_count": 1,
   "id": "0198b707-e230-47b8-992b-d136df1560cf",
   "metadata": {},
   "outputs": [],
   "source": [
    "%load_ext autoreload\n",
    "%autoreload 2\n",
    "%reload_ext autoreload"
   ]
  },
  {
   "cell_type": "markdown",
   "id": "2c43b9af-44cc-4091-8f22-857b15092e76",
   "metadata": {},
   "source": [
    "# How to install?\n",
    "\n",
    "pyJedAI is an open-source library that can be installed from PyPI.\n"
   ]
  },
  {
   "cell_type": "code",
   "execution_count": 2,
   "id": "74187cf8-e496-4c43-a2ab-ef9a0cc57de0",
   "metadata": {},
   "outputs": [
    {
     "name": "stdout",
     "output_type": "stream",
     "text": [
      "Requirement already satisfied: pyjedai in /home/conda/miniconda3/envs/pyjedai-progressive/lib/python3.9/site-packages (0.0.9)\n",
      "Requirement already satisfied: pandas>=0.25.3 in /home/conda/miniconda3/envs/pyjedai-progressive/lib/python3.9/site-packages (from pyjedai) (1.5.3)\n",
      "Requirement already satisfied: PyYAML>=6.0 in /home/conda/miniconda3/envs/pyjedai-progressive/lib/python3.9/site-packages (from pyjedai) (6.0)\n",
      "Requirement already satisfied: matplotlib-inline>=0.1.3 in /home/conda/miniconda3/envs/pyjedai-progressive/lib/python3.9/site-packages (from pyjedai) (0.1.6)\n",
      "Requirement already satisfied: py-stringmatching>=0.4 in /home/conda/miniconda3/envs/pyjedai-progressive/lib/python3.9/site-packages (from pyjedai) (0.4.3)\n",
      "Requirement already satisfied: regex>=2022.6.2 in /home/conda/miniconda3/envs/pyjedai-progressive/lib/python3.9/site-packages (from pyjedai) (2023.6.3)\n",
      "Requirement already satisfied: ordered-set>=4.0 in /home/conda/miniconda3/envs/pyjedai-progressive/lib/python3.9/site-packages (from pyjedai) (4.1.0)\n",
      "Requirement already satisfied: transformers>=4.21 in /home/conda/miniconda3/envs/pyjedai-progressive/lib/python3.9/site-packages (from pyjedai) (4.29.2)\n",
      "Requirement already satisfied: networkx>=2.3 in /home/conda/miniconda3/envs/pyjedai-progressive/lib/python3.9/site-packages (from pyjedai) (3.1)\n",
      "Requirement already satisfied: scipy>=1.7 in /home/conda/miniconda3/envs/pyjedai-progressive/lib/python3.9/site-packages (from pyjedai) (1.10.1)\n",
      "Requirement already satisfied: gensim>=4.2.0 in /home/conda/miniconda3/envs/pyjedai-progressive/lib/python3.9/site-packages (from pyjedai) (4.3.1)\n",
      "Requirement already satisfied: sentence-transformers>=2.2 in /home/conda/miniconda3/envs/pyjedai-progressive/lib/python3.9/site-packages (from pyjedai) (2.2.2)\n",
      "Requirement already satisfied: numpy>=1.21 in /home/conda/miniconda3/envs/pyjedai-progressive/lib/python3.9/site-packages (from pyjedai) (1.23.5)\n",
      "Requirement already satisfied: tomli in /home/conda/miniconda3/envs/pyjedai-progressive/lib/python3.9/site-packages (from pyjedai) (2.0.1)\n",
      "Requirement already satisfied: faiss-cpu>=1.7 in /home/conda/miniconda3/envs/pyjedai-progressive/lib/python3.9/site-packages (from pyjedai) (1.7.4)\n",
      "Requirement already satisfied: pandocfilters>=1.5 in /home/conda/miniconda3/envs/pyjedai-progressive/lib/python3.9/site-packages (from pyjedai) (1.5.0)\n",
      "Requirement already satisfied: rdflib>=6.1.1 in /home/conda/miniconda3/envs/pyjedai-progressive/lib/python3.9/site-packages (from pyjedai) (6.3.2)\n",
      "Requirement already satisfied: pandas-profiling>=3.2 in /home/conda/miniconda3/envs/pyjedai-progressive/lib/python3.9/site-packages (from pyjedai) (3.6.6)\n",
      "Requirement already satisfied: seaborn>=0.11 in /home/conda/miniconda3/envs/pyjedai-progressive/lib/python3.9/site-packages (from pyjedai) (0.12.2)\n",
      "Requirement already satisfied: optuna>=3.0 in /home/conda/miniconda3/envs/pyjedai-progressive/lib/python3.9/site-packages (from pyjedai) (3.2.0)\n",
      "Requirement already satisfied: tqdm>=4.64 in /home/conda/miniconda3/envs/pyjedai-progressive/lib/python3.9/site-packages (from pyjedai) (4.65.0)\n",
      "Requirement already satisfied: rdfpandas>=1.1.5 in /home/conda/miniconda3/envs/pyjedai-progressive/lib/python3.9/site-packages (from pyjedai) (1.1.5)\n",
      "Requirement already satisfied: strsimpy>=0.2.1 in /home/conda/miniconda3/envs/pyjedai-progressive/lib/python3.9/site-packages (from pyjedai) (0.2.1)\n",
      "Requirement already satisfied: matplotlib>=3.1.3 in /home/conda/miniconda3/envs/pyjedai-progressive/lib/python3.9/site-packages (from pyjedai) (3.7.1)\n",
      "Requirement already satisfied: strsim>=0.0.3 in /home/conda/miniconda3/envs/pyjedai-progressive/lib/python3.9/site-packages (from pyjedai) (0.0.3)\n",
      "Requirement already satisfied: valentine>=0.1.5 in /home/conda/miniconda3/envs/pyjedai-progressive/lib/python3.9/site-packages (from pyjedai) (0.1.7)\n",
      "Requirement already satisfied: nltk>=3.7 in /home/conda/miniconda3/envs/pyjedai-progressive/lib/python3.9/site-packages (from pyjedai) (3.8.1)\n",
      "Requirement already satisfied: smart-open>=1.8.1 in /home/conda/miniconda3/envs/pyjedai-progressive/lib/python3.9/site-packages (from gensim>=4.2.0->pyjedai) (6.3.0)\n",
      "Requirement already satisfied: cycler>=0.10 in /home/conda/miniconda3/envs/pyjedai-progressive/lib/python3.9/site-packages (from matplotlib>=3.1.3->pyjedai) (0.11.0)\n",
      "Requirement already satisfied: kiwisolver>=1.0.1 in /home/conda/miniconda3/envs/pyjedai-progressive/lib/python3.9/site-packages (from matplotlib>=3.1.3->pyjedai) (1.4.4)\n",
      "Requirement already satisfied: pillow>=6.2.0 in /home/conda/miniconda3/envs/pyjedai-progressive/lib/python3.9/site-packages (from matplotlib>=3.1.3->pyjedai) (9.5.0)\n",
      "Requirement already satisfied: fonttools>=4.22.0 in /home/conda/miniconda3/envs/pyjedai-progressive/lib/python3.9/site-packages (from matplotlib>=3.1.3->pyjedai) (4.39.4)\n",
      "Requirement already satisfied: importlib-resources>=3.2.0 in /home/conda/miniconda3/envs/pyjedai-progressive/lib/python3.9/site-packages (from matplotlib>=3.1.3->pyjedai) (5.12.0)\n",
      "Requirement already satisfied: contourpy>=1.0.1 in /home/conda/miniconda3/envs/pyjedai-progressive/lib/python3.9/site-packages (from matplotlib>=3.1.3->pyjedai) (1.0.7)\n",
      "Requirement already satisfied: packaging>=20.0 in /home/conda/miniconda3/envs/pyjedai-progressive/lib/python3.9/site-packages (from matplotlib>=3.1.3->pyjedai) (23.1)\n",
      "Requirement already satisfied: pyparsing>=2.3.1 in /home/conda/miniconda3/envs/pyjedai-progressive/lib/python3.9/site-packages (from matplotlib>=3.1.3->pyjedai) (3.0.9)\n",
      "Requirement already satisfied: python-dateutil>=2.7 in /home/conda/miniconda3/envs/pyjedai-progressive/lib/python3.9/site-packages (from matplotlib>=3.1.3->pyjedai) (2.8.2)\n",
      "Requirement already satisfied: traitlets in /home/conda/miniconda3/envs/pyjedai-progressive/lib/python3.9/site-packages (from matplotlib-inline>=0.1.3->pyjedai) (5.9.0)\n",
      "Requirement already satisfied: joblib in /home/conda/miniconda3/envs/pyjedai-progressive/lib/python3.9/site-packages (from nltk>=3.7->pyjedai) (1.2.0)\n",
      "Requirement already satisfied: click in /home/conda/miniconda3/envs/pyjedai-progressive/lib/python3.9/site-packages (from nltk>=3.7->pyjedai) (8.1.3)\n",
      "Requirement already satisfied: alembic>=1.5.0 in /home/conda/miniconda3/envs/pyjedai-progressive/lib/python3.9/site-packages (from optuna>=3.0->pyjedai) (1.11.1)\n",
      "Requirement already satisfied: cmaes>=0.9.1 in /home/conda/miniconda3/envs/pyjedai-progressive/lib/python3.9/site-packages (from optuna>=3.0->pyjedai) (0.9.1)\n",
      "Requirement already satisfied: colorlog in /home/conda/miniconda3/envs/pyjedai-progressive/lib/python3.9/site-packages (from optuna>=3.0->pyjedai) (6.7.0)\n",
      "Requirement already satisfied: sqlalchemy>=1.3.0 in /home/conda/miniconda3/envs/pyjedai-progressive/lib/python3.9/site-packages (from optuna>=3.0->pyjedai) (2.0.15)\n",
      "Requirement already satisfied: pytz>=2020.1 in /home/conda/miniconda3/envs/pyjedai-progressive/lib/python3.9/site-packages (from pandas>=0.25.3->pyjedai) (2023.3)\n",
      "Requirement already satisfied: ydata-profiling in /home/conda/miniconda3/envs/pyjedai-progressive/lib/python3.9/site-packages (from pandas-profiling>=3.2->pyjedai) (4.2.0)\n",
      "Requirement already satisfied: six in /home/conda/miniconda3/envs/pyjedai-progressive/lib/python3.9/site-packages (from py-stringmatching>=0.4->pyjedai) (1.16.0)\n",
      "Requirement already satisfied: isodate<0.7.0,>=0.6.0 in /home/conda/miniconda3/envs/pyjedai-progressive/lib/python3.9/site-packages (from rdflib>=6.1.1->pyjedai) (0.6.1)\n",
      "Requirement already satisfied: huggingface-hub>=0.4.0 in /home/conda/miniconda3/envs/pyjedai-progressive/lib/python3.9/site-packages (from sentence-transformers>=2.2->pyjedai) (0.15.1)\n",
      "Requirement already satisfied: sentencepiece in /home/conda/miniconda3/envs/pyjedai-progressive/lib/python3.9/site-packages (from sentence-transformers>=2.2->pyjedai) (0.1.99)\n",
      "Requirement already satisfied: torch>=1.6.0 in /home/conda/miniconda3/envs/pyjedai-progressive/lib/python3.9/site-packages (from sentence-transformers>=2.2->pyjedai) (2.0.1)\n",
      "Requirement already satisfied: scikit-learn in /home/conda/miniconda3/envs/pyjedai-progressive/lib/python3.9/site-packages (from sentence-transformers>=2.2->pyjedai) (1.2.2)\n",
      "Requirement already satisfied: torchvision in /home/conda/miniconda3/envs/pyjedai-progressive/lib/python3.9/site-packages (from sentence-transformers>=2.2->pyjedai) (0.15.2)\n",
      "Requirement already satisfied: filelock in /home/conda/miniconda3/envs/pyjedai-progressive/lib/python3.9/site-packages (from transformers>=4.21->pyjedai) (3.12.0)\n",
      "Requirement already satisfied: requests in /home/conda/miniconda3/envs/pyjedai-progressive/lib/python3.9/site-packages (from transformers>=4.21->pyjedai) (2.31.0)\n",
      "Requirement already satisfied: tokenizers!=0.11.3,<0.14,>=0.11.1 in /home/conda/miniconda3/envs/pyjedai-progressive/lib/python3.9/site-packages (from transformers>=4.21->pyjedai) (0.13.3)\n",
      "Requirement already satisfied: anytree<2.9,>=2.8 in /home/conda/miniconda3/envs/pyjedai-progressive/lib/python3.9/site-packages (from valentine>=0.1.5->pyjedai) (2.8.0)\n",
      "Requirement already satisfied: chardet<6.0.0,>=5.0.0 in /home/conda/miniconda3/envs/pyjedai-progressive/lib/python3.9/site-packages (from valentine>=0.1.5->pyjedai) (5.1.0)\n",
      "Requirement already satisfied: PuLP<3.0,>=2.5.1 in /home/conda/miniconda3/envs/pyjedai-progressive/lib/python3.9/site-packages (from valentine>=0.1.5->pyjedai) (2.7.0)\n",
      "Requirement already satisfied: pot<1.0,>=0.8.2 in /home/conda/miniconda3/envs/pyjedai-progressive/lib/python3.9/site-packages (from valentine>=0.1.5->pyjedai) (0.9.0)\n",
      "Requirement already satisfied: levenshtein<1.0,>=0.20.7 in /home/conda/miniconda3/envs/pyjedai-progressive/lib/python3.9/site-packages (from valentine>=0.1.5->pyjedai) (0.21.1)\n",
      "Requirement already satisfied: Mako in /home/conda/miniconda3/envs/pyjedai-progressive/lib/python3.9/site-packages (from alembic>=1.5.0->optuna>=3.0->pyjedai) (1.2.4)\n",
      "Requirement already satisfied: typing-extensions>=4 in /home/conda/miniconda3/envs/pyjedai-progressive/lib/python3.9/site-packages (from alembic>=1.5.0->optuna>=3.0->pyjedai) (4.6.3)\n",
      "Requirement already satisfied: fsspec in /home/conda/miniconda3/envs/pyjedai-progressive/lib/python3.9/site-packages (from huggingface-hub>=0.4.0->sentence-transformers>=2.2->pyjedai) (2023.5.0)\n",
      "Requirement already satisfied: zipp>=3.1.0 in /home/conda/miniconda3/envs/pyjedai-progressive/lib/python3.9/site-packages (from importlib-resources>=3.2.0->matplotlib>=3.1.3->pyjedai) (3.15.0)\n",
      "Requirement already satisfied: rapidfuzz<4.0.0,>=2.3.0 in /home/conda/miniconda3/envs/pyjedai-progressive/lib/python3.9/site-packages (from levenshtein<1.0,>=0.20.7->valentine>=0.1.5->pyjedai) (3.1.2)\n",
      "Requirement already satisfied: greenlet!=0.4.17 in /home/conda/miniconda3/envs/pyjedai-progressive/lib/python3.9/site-packages (from sqlalchemy>=1.3.0->optuna>=3.0->pyjedai) (2.0.2)\n",
      "Requirement already satisfied: nvidia-curand-cu11==10.2.10.91 in /home/conda/miniconda3/envs/pyjedai-progressive/lib/python3.9/site-packages (from torch>=1.6.0->sentence-transformers>=2.2->pyjedai) (10.2.10.91)\n",
      "Requirement already satisfied: triton==2.0.0 in /home/conda/miniconda3/envs/pyjedai-progressive/lib/python3.9/site-packages (from torch>=1.6.0->sentence-transformers>=2.2->pyjedai) (2.0.0)\n",
      "Requirement already satisfied: nvidia-nvtx-cu11==11.7.91 in /home/conda/miniconda3/envs/pyjedai-progressive/lib/python3.9/site-packages (from torch>=1.6.0->sentence-transformers>=2.2->pyjedai) (11.7.91)\n",
      "Requirement already satisfied: nvidia-cudnn-cu11==8.5.0.96 in /home/conda/miniconda3/envs/pyjedai-progressive/lib/python3.9/site-packages (from torch>=1.6.0->sentence-transformers>=2.2->pyjedai) (8.5.0.96)\n",
      "Requirement already satisfied: nvidia-cufft-cu11==10.9.0.58 in /home/conda/miniconda3/envs/pyjedai-progressive/lib/python3.9/site-packages (from torch>=1.6.0->sentence-transformers>=2.2->pyjedai) (10.9.0.58)\n",
      "Requirement already satisfied: nvidia-cublas-cu11==11.10.3.66 in /home/conda/miniconda3/envs/pyjedai-progressive/lib/python3.9/site-packages (from torch>=1.6.0->sentence-transformers>=2.2->pyjedai) (11.10.3.66)\n",
      "Requirement already satisfied: sympy in /home/conda/miniconda3/envs/pyjedai-progressive/lib/python3.9/site-packages (from torch>=1.6.0->sentence-transformers>=2.2->pyjedai) (1.12)\n",
      "Requirement already satisfied: nvidia-cuda-nvrtc-cu11==11.7.99 in /home/conda/miniconda3/envs/pyjedai-progressive/lib/python3.9/site-packages (from torch>=1.6.0->sentence-transformers>=2.2->pyjedai) (11.7.99)\n",
      "Requirement already satisfied: nvidia-cuda-cupti-cu11==11.7.101 in /home/conda/miniconda3/envs/pyjedai-progressive/lib/python3.9/site-packages (from torch>=1.6.0->sentence-transformers>=2.2->pyjedai) (11.7.101)\n",
      "Requirement already satisfied: nvidia-cusparse-cu11==11.7.4.91 in /home/conda/miniconda3/envs/pyjedai-progressive/lib/python3.9/site-packages (from torch>=1.6.0->sentence-transformers>=2.2->pyjedai) (11.7.4.91)\n",
      "Requirement already satisfied: nvidia-nccl-cu11==2.14.3 in /home/conda/miniconda3/envs/pyjedai-progressive/lib/python3.9/site-packages (from torch>=1.6.0->sentence-transformers>=2.2->pyjedai) (2.14.3)\n",
      "Requirement already satisfied: nvidia-cuda-runtime-cu11==11.7.99 in /home/conda/miniconda3/envs/pyjedai-progressive/lib/python3.9/site-packages (from torch>=1.6.0->sentence-transformers>=2.2->pyjedai) (11.7.99)\n",
      "Requirement already satisfied: nvidia-cusolver-cu11==11.4.0.1 in /home/conda/miniconda3/envs/pyjedai-progressive/lib/python3.9/site-packages (from torch>=1.6.0->sentence-transformers>=2.2->pyjedai) (11.4.0.1)\n",
      "Requirement already satisfied: jinja2 in /home/conda/miniconda3/envs/pyjedai-progressive/lib/python3.9/site-packages (from torch>=1.6.0->sentence-transformers>=2.2->pyjedai) (3.1.2)\n",
      "Requirement already satisfied: setuptools in /home/conda/miniconda3/envs/pyjedai-progressive/lib/python3.9/site-packages (from nvidia-cublas-cu11==11.10.3.66->torch>=1.6.0->sentence-transformers>=2.2->pyjedai) (67.8.0)\n",
      "Requirement already satisfied: wheel in /home/conda/miniconda3/envs/pyjedai-progressive/lib/python3.9/site-packages (from nvidia-cublas-cu11==11.10.3.66->torch>=1.6.0->sentence-transformers>=2.2->pyjedai) (0.38.4)\n",
      "Requirement already satisfied: lit in /home/conda/miniconda3/envs/pyjedai-progressive/lib/python3.9/site-packages (from triton==2.0.0->torch>=1.6.0->sentence-transformers>=2.2->pyjedai) (16.0.5.post0)\n",
      "Requirement already satisfied: cmake in /home/conda/miniconda3/envs/pyjedai-progressive/lib/python3.9/site-packages (from triton==2.0.0->torch>=1.6.0->sentence-transformers>=2.2->pyjedai) (3.26.3)\n",
      "Requirement already satisfied: charset-normalizer<4,>=2 in /home/conda/miniconda3/envs/pyjedai-progressive/lib/python3.9/site-packages (from requests->transformers>=4.21->pyjedai) (3.1.0)\n",
      "Requirement already satisfied: urllib3<3,>=1.21.1 in /home/conda/miniconda3/envs/pyjedai-progressive/lib/python3.9/site-packages (from requests->transformers>=4.21->pyjedai) (2.0.2)\n",
      "Requirement already satisfied: idna<4,>=2.5 in /home/conda/miniconda3/envs/pyjedai-progressive/lib/python3.9/site-packages (from requests->transformers>=4.21->pyjedai) (3.4)\n",
      "Requirement already satisfied: certifi>=2017.4.17 in /home/conda/miniconda3/envs/pyjedai-progressive/lib/python3.9/site-packages (from requests->transformers>=4.21->pyjedai) (2023.5.7)\n",
      "Requirement already satisfied: threadpoolctl>=2.0.0 in /home/conda/miniconda3/envs/pyjedai-progressive/lib/python3.9/site-packages (from scikit-learn->sentence-transformers>=2.2->pyjedai) (3.1.0)\n",
      "Requirement already satisfied: htmlmin==0.1.12 in /home/conda/miniconda3/envs/pyjedai-progressive/lib/python3.9/site-packages (from ydata-profiling->pandas-profiling>=3.2->pyjedai) (0.1.12)\n",
      "Requirement already satisfied: pydantic<2,>=1.8.1 in /home/conda/miniconda3/envs/pyjedai-progressive/lib/python3.9/site-packages (from ydata-profiling->pandas-profiling>=3.2->pyjedai) (1.10.8)\n",
      "Requirement already satisfied: imagehash==4.3.1 in /home/conda/miniconda3/envs/pyjedai-progressive/lib/python3.9/site-packages (from ydata-profiling->pandas-profiling>=3.2->pyjedai) (4.3.1)\n",
      "Requirement already satisfied: statsmodels<1,>=0.13.2 in /home/conda/miniconda3/envs/pyjedai-progressive/lib/python3.9/site-packages (from ydata-profiling->pandas-profiling>=3.2->pyjedai) (0.14.0)\n",
      "Requirement already satisfied: dacite>=1.8 in /home/conda/miniconda3/envs/pyjedai-progressive/lib/python3.9/site-packages (from ydata-profiling->pandas-profiling>=3.2->pyjedai) (1.8.1)\n",
      "Requirement already satisfied: multimethod<2,>=1.4 in /home/conda/miniconda3/envs/pyjedai-progressive/lib/python3.9/site-packages (from ydata-profiling->pandas-profiling>=3.2->pyjedai) (1.9.1)\n",
      "Requirement already satisfied: wordcloud>=1.9.1 in /home/conda/miniconda3/envs/pyjedai-progressive/lib/python3.9/site-packages (from ydata-profiling->pandas-profiling>=3.2->pyjedai) (1.9.2)\n",
      "Requirement already satisfied: typeguard<3,>=2.13.2 in /home/conda/miniconda3/envs/pyjedai-progressive/lib/python3.9/site-packages (from ydata-profiling->pandas-profiling>=3.2->pyjedai) (2.13.3)\n",
      "Requirement already satisfied: phik<0.13,>=0.11.1 in /home/conda/miniconda3/envs/pyjedai-progressive/lib/python3.9/site-packages (from ydata-profiling->pandas-profiling>=3.2->pyjedai) (0.12.3)\n",
      "Requirement already satisfied: visions[type_image_path]==0.7.5 in /home/conda/miniconda3/envs/pyjedai-progressive/lib/python3.9/site-packages (from ydata-profiling->pandas-profiling>=3.2->pyjedai) (0.7.5)\n",
      "Requirement already satisfied: PyWavelets in /home/conda/miniconda3/envs/pyjedai-progressive/lib/python3.9/site-packages (from imagehash==4.3.1->ydata-profiling->pandas-profiling>=3.2->pyjedai) (1.4.1)\n",
      "Requirement already satisfied: tangled-up-in-unicode>=0.0.4 in /home/conda/miniconda3/envs/pyjedai-progressive/lib/python3.9/site-packages (from visions[type_image_path]==0.7.5->ydata-profiling->pandas-profiling>=3.2->pyjedai) (0.2.0)\n",
      "Requirement already satisfied: attrs>=19.3.0 in /home/conda/miniconda3/envs/pyjedai-progressive/lib/python3.9/site-packages (from visions[type_image_path]==0.7.5->ydata-profiling->pandas-profiling>=3.2->pyjedai) (23.1.0)\n",
      "Requirement already satisfied: MarkupSafe>=2.0 in /home/conda/miniconda3/envs/pyjedai-progressive/lib/python3.9/site-packages (from jinja2->torch>=1.6.0->sentence-transformers>=2.2->pyjedai) (2.1.3)\n",
      "Requirement already satisfied: patsy>=0.5.2 in /home/conda/miniconda3/envs/pyjedai-progressive/lib/python3.9/site-packages (from statsmodels<1,>=0.13.2->ydata-profiling->pandas-profiling>=3.2->pyjedai) (0.5.3)\n",
      "Requirement already satisfied: mpmath>=0.19 in /home/conda/miniconda3/envs/pyjedai-progressive/lib/python3.9/site-packages (from sympy->torch>=1.6.0->sentence-transformers>=2.2->pyjedai) (1.3.0)\n"
     ]
    }
   ],
   "source": [
    "!pip install pyjedai -U"
   ]
  },
  {
   "cell_type": "code",
   "execution_count": 3,
   "id": "b2b0b53e-3fd9-486f-a8aa-dc8be53de12a",
   "metadata": {},
   "outputs": [
    {
     "name": "stdout",
     "output_type": "stream",
     "text": [
      "Name: pyjedai\n",
      "Version: 0.0.9\n",
      "Summary: An open-source library that builds powerful end-to-end Entity Resolution workflows.\n",
      "Home-page: \n",
      "Author: \n",
      "Author-email: Konstantinos Nikoletos <nikoletos.kon@gmail.com>, George Papadakis <gpapadis84@gmail.com>, Jakub Maciejewski <jacobb.maciejewski@gmail.com>\n",
      "License: Apache Software License 2.0\n",
      "Location: /home/conda/miniconda3/envs/pyjedai-progressive/lib/python3.9/site-packages\n",
      "Requires: faiss-cpu, gensim, matplotlib, matplotlib-inline, networkx, nltk, numpy, optuna, ordered-set, pandas, pandas-profiling, pandocfilters, py-stringmatching, PyYAML, rdflib, rdfpandas, regex, scipy, seaborn, sentence-transformers, strsim, strsimpy, tomli, tqdm, transformers, valentine\n",
      "Required-by: \n"
     ]
    }
   ],
   "source": [
    "!pip show pyjedai"
   ]
  },
  {
   "cell_type": "markdown",
   "id": "31da2f6d-830f-4639-9e67-37100c86d49d",
   "metadata": {},
   "source": [
    "Imports"
   ]
  },
  {
   "cell_type": "code",
   "execution_count": 4,
   "id": "4583ae66-fdc5-4e17-a297-83d7b59e79b8",
   "metadata": {},
   "outputs": [],
   "source": [
    "import os\n",
    "import sys\n",
    "import pandas as pd\n",
    "from itertools import product"
   ]
  },
  {
   "cell_type": "markdown",
   "id": "d574554b-4712-4a9d-b449-596f91372fda",
   "metadata": {},
   "source": [
    "## Data Reading"
   ]
  },
  {
   "cell_type": "code",
   "execution_count": 5,
   "id": "81b21794-778c-451b-b323-77b47022b915",
   "metadata": {},
   "outputs": [
    {
     "name": "stderr",
     "output_type": "stream",
     "text": [
      "[nltk_data] Downloading package stopwords to /home/jm/nltk_data...\n",
      "[nltk_data]   Package stopwords is already up-to-date!\n"
     ]
    }
   ],
   "source": [
    "from pyjedai.datamodel import Data\n",
    "\n",
    "# data = Data(\n",
    "#     dataset_1=pd.read_csv(\"../data/test/ccer/abt_100.csv\", sep='|', engine='python', na_filter=False).astype(str),\n",
    "#     attributes_1=['id','name','description'],\n",
    "#     id_column_name_1='id',\n",
    "#     dataset_2=pd.read_csv(\"../data/test/ccer/buy_100.csv\", sep='|', engine='python', na_filter=False).astype(str),\n",
    "#     attributes_2=['id','name','description'],\n",
    "#     id_column_name_2='id',\n",
    "#     ground_truth=pd.read_csv(\"../data/test/ccer/gt_100.csv\", sep='|', engine='python'),\n",
    "# )\n",
    "data = Data(\n",
    "    dataset_1=pd.read_csv(\"../data/ccer/D2/abt.csv\", sep='|', engine='python', na_filter=False).astype(str),\n",
    "    attributes_1=['id','name','description'],\n",
    "    id_column_name_1='id',\n",
    "    dataset_2=pd.read_csv(\"../data/ccer/D2/buy.csv\", sep='|', engine='python', na_filter=False).astype(str),\n",
    "    attributes_2=['id','name','description'],\n",
    "    id_column_name_2='id',\n",
    "    ground_truth=pd.read_csv(\"../data/ccer/D2/gt.csv\", sep='|', engine='python'),\n",
    ")\n",
    "\n",
    "DATASET_NAME = \"D100\""
   ]
  },
  {
   "cell_type": "markdown",
   "id": "fadab403-9b4c-410f-9112-2264ca299252",
   "metadata": {},
   "source": [
    "## Progressive WorkFlows"
   ]
  },
  {
   "cell_type": "code",
   "execution_count": 6,
   "id": "94f6212e-3d0d-4b89-b213-d06cfbb553c9",
   "metadata": {},
   "outputs": [
    {
     "name": "stderr",
     "output_type": "stream",
     "text": [
      "/home/conda/miniconda3/envs/pyjedai-progressive/lib/python3.9/site-packages/tqdm/auto.py:21: TqdmWarning: IProgress not found. Please update jupyter and ipywidgets. See https://ipywidgets.readthedocs.io/en/stable/user_install.html\n",
      "  from .autonotebook import tqdm as notebook_tqdm\n"
     ]
    }
   ],
   "source": [
    "from pyjedai.workflow import ProgressiveWorkFlow\n",
    "from pyjedai.block_building import (\n",
    "    StandardBlocking,\n",
    "    QGramsBlocking,\n",
    "    ExtendedQGramsBlocking,\n",
    "    SuffixArraysBlocking,\n",
    "    ExtendedSuffixArraysBlocking\n",
    ")\n",
    "from pyjedai.block_cleaning import (\n",
    "    BlockFiltering,\n",
    "    BlockPurging\n",
    ")\n",
    "from pyjedai.comparison_cleaning import (\n",
    "    WeightedEdgePruning,\n",
    "    WeightedNodePruning,\n",
    "    CardinalityEdgePruning,\n",
    "    CardinalityNodePruning,\n",
    "    BLAST,\n",
    "    ReciprocalCardinalityNodePruning,\n",
    "    ReciprocalWeightedNodePruning,\n",
    "    ComparisonPropagation\n",
    ")\n",
    "\n",
    "from pyjedai.evaluation import (\n",
    "    Evaluation\n",
    ")"
   ]
  },
  {
   "cell_type": "markdown",
   "id": "d41c1f29",
   "metadata": {},
   "source": [
    "# Budget, Scheduling & Emissions\n",
    "\n",
    "The basic concept that trascends PER (Progressive Entity Scheduling):\n",
    "Budget - The maximum number of pairs that our ER system can suggest for matching \n",
    "\n",
    "\n",
    "Progressive PER Methods execution can be broken up into *Two Phases*:\n",
    "\n",
    "**1. Scheduling** - During this phase we produce a subset of the original fully connected dataset, where each entity could be a possible match candidate for any other entity in the source or target dataset. In this way, we obtain a neighborhood for each entity (group of possible candidates) and each of them is ascribed a score. \n",
    "\n",
    "**2. Emission** - During this phase, we iterate over the previously defined neighborhood with many different approaches (DFS, BFS, Hybrid, Top) and we extract the final candidates for matching within the defined budget."
   ]
  },
  {
   "cell_type": "markdown",
   "id": "58c43861",
   "metadata": {},
   "source": [
    "# Budget Definition\n",
    "In order to compare or evaluate the relative strength of a single or group of PER workflows, we execute them for different budget limits.\n",
    "A popular approach is running the group of workflows we are interested in, for a budget set as multiples of the number of true positive duplicates in our ER task."
   ]
  },
  {
   "cell_type": "code",
   "execution_count": 7,
   "id": "cace1519",
   "metadata": {},
   "outputs": [],
   "source": [
    "#That is why, we will run our experiments in a budget range up to 2 times the number of true positive duplicates\n",
    "BUDGETS = [i * len(data.ground_truth) for i in range(1,3)]"
   ]
  },
  {
   "cell_type": "markdown",
   "id": "96383f9b",
   "metadata": {},
   "source": [
    "## NN Based PER Workflows"
   ]
  },
  {
   "cell_type": "code",
   "execution_count": 8,
   "id": "b379e6c9-c776-4375-8415-1f02492b9c0c",
   "metadata": {},
   "outputs": [],
   "source": [
    "# Those are the arguments that are available for NN based PER workflows\n",
    "# They can be passed to the run function either in the form of an argument dictionary like the one above\n",
    "# or you can simply define the arguments and their proper values in the parameters of the run function\n",
    "available_nn_workflow_arguments = {\n",
    "    \"algorithm\": [\"DFS\", \"BFS\", \"HB\", \"TOP\"],\n",
    "    \"number_of_nearest_neighbors\": [1,2,3,4,5,6,7,8,9,10],\n",
    "    \"indexing\": [\"inorder\", \"reverse\", \"bilateral\"],\n",
    "    \"language_model\": [\"word2vec\", \n",
    "                    \"fasttext\",\n",
    "                    \"glove\", \n",
    "                    \"bert\",\n",
    "                    \"distilbert\",\n",
    "                    \"roberta\",\n",
    "                    \"xlnet\",\n",
    "                    \"albert\",\n",
    "                    \"smpnet\",\n",
    "                    \"st5\",\n",
    "                    \"sent_glove\",\n",
    "                    \"sdistilroberta\", \n",
    "                    \"sminilm\"]\n",
    "}\n",
    "\n",
    "# We choose a group of NN based PER workflows that will be the product of a subset of the original, available arguments and values\n",
    "example_nn_workflows_arguments = {\n",
    "    \"algorithm\": [\"HB\"],\n",
    "    \"number_of_nearest_neighbors\": [2,10],\n",
    "    \"indexing\": [\"inorder\", \"reverse\"],\n",
    "    \"language_model\": [\"sminilm\"]\n",
    "}\n",
    "\n",
    "# The name of our PER module \n",
    "nn_matcher = \"EmbeddingsNNBPM\""
   ]
  },
  {
   "cell_type": "code",
   "execution_count": 9,
   "id": "1a3675c9-a30f-4c20-a91c-affe3e09f14c",
   "metadata": {},
   "outputs": [
    {
     "name": "stdout",
     "output_type": "stream",
     "text": [
      "#### WORKFLOW 1/8 ####\n",
      "{'language_model': 'sminilm', 'number_of_nearest_neighbors': 2}\n",
      "{'budget': 1076, 'algorithm': 'HB', 'indexing': 'inorder'}\n"
     ]
    },
    {
     "name": "stderr",
     "output_type": "stream",
     "text": [
      "Embeddings NN Blocking Based Progressive Matching: 0it [00:00, ?it/s]"
     ]
    },
    {
     "name": "stdout",
     "output_type": "stream",
     "text": [
      "Building blocks via Embeddings-NN Block Building [sminilm, faiss]\n"
     ]
    },
    {
     "name": "stderr",
     "output_type": "stream",
     "text": [
      "\n",
      "Embeddings-NN Block Building [sminilm, faiss]:   0%|          | 0/2152 [00:00<?, ?it/s]\u001b[A"
     ]
    },
    {
     "name": "stdout",
     "output_type": "stream",
     "text": [
      "Device selected:  cuda\n"
     ]
    },
    {
     "name": "stderr",
     "output_type": "stream",
     "text": [
      "\n",
      "Embeddings-NN Block Building [sminilm, faiss]:   0%|          | 1/2152 [00:02<1:27:50,  2.45s/it]\u001b[A\n",
      "Embeddings-NN Block Building [sminilm, faiss]:   1%|          | 17/2152 [00:02<03:52,  9.19it/s] \u001b[A\n",
      "Embeddings-NN Block Building [sminilm, faiss]:   2%|▏         | 33/2152 [00:02<01:45, 20.15it/s]\u001b[A\n",
      "Embeddings-NN Block Building [sminilm, faiss]:   2%|▏         | 49/2152 [00:02<01:03, 33.21it/s]\u001b[A\n",
      "Embeddings-NN Block Building [sminilm, faiss]:   3%|▎         | 65/2152 [00:02<00:43, 48.03it/s]\u001b[A\n",
      "Embeddings-NN Block Building [sminilm, faiss]:   4%|▍         | 81/2152 [00:02<00:32, 63.87it/s]\u001b[A\n",
      "Embeddings-NN Block Building [sminilm, faiss]:   5%|▍         | 97/2152 [00:03<00:25, 79.76it/s]\u001b[A\n",
      "Embeddings-NN Block Building [sminilm, faiss]:   5%|▌         | 113/2152 [00:03<00:21, 94.63it/s]\u001b[A\n",
      "Embeddings-NN Block Building [sminilm, faiss]:   6%|▌         | 129/2152 [00:03<00:18, 107.78it/s]\u001b[A\n",
      "Embeddings-NN Block Building [sminilm, faiss]:   7%|▋         | 145/2152 [00:03<00:16, 118.31it/s]\u001b[A\n",
      "Embeddings-NN Block Building [sminilm, faiss]:   7%|▋         | 161/2152 [00:03<00:15, 126.93it/s]\u001b[A\n",
      "Embeddings-NN Block Building [sminilm, faiss]:   8%|▊         | 177/2152 [00:03<00:14, 134.02it/s]\u001b[A\n",
      "Embeddings-NN Block Building [sminilm, faiss]:   9%|▉         | 193/2152 [00:03<00:14, 139.40it/s]\u001b[A\n",
      "Embeddings-NN Block Building [sminilm, faiss]:  10%|▉         | 209/2152 [00:03<00:13, 143.53it/s]\u001b[A\n",
      "Embeddings-NN Block Building [sminilm, faiss]:  10%|█         | 225/2152 [00:03<00:13, 147.05it/s]\u001b[A\n",
      "Embeddings-NN Block Building [sminilm, faiss]:  11%|█         | 242/2152 [00:04<00:12, 151.34it/s]\u001b[A\n",
      "Embeddings-NN Block Building [sminilm, faiss]:  12%|█▏        | 259/2152 [00:04<00:12, 155.42it/s]\u001b[A\n",
      "Embeddings-NN Block Building [sminilm, faiss]:  13%|█▎        | 276/2152 [00:04<00:11, 158.08it/s]\u001b[A\n",
      "Embeddings-NN Block Building [sminilm, faiss]:  14%|█▎        | 293/2152 [00:04<00:11, 159.64it/s]\u001b[A\n",
      "Embeddings-NN Block Building [sminilm, faiss]:  14%|█▍        | 310/2152 [00:04<00:11, 160.16it/s]\u001b[A\n",
      "Embeddings-NN Block Building [sminilm, faiss]:  15%|█▌        | 327/2152 [00:04<00:11, 161.75it/s]\u001b[A\n",
      "Embeddings-NN Block Building [sminilm, faiss]:  16%|█▌        | 344/2152 [00:04<00:11, 163.28it/s]\u001b[A\n",
      "Embeddings-NN Block Building [sminilm, faiss]:  17%|█▋        | 361/2152 [00:04<00:10, 164.52it/s]\u001b[A\n",
      "Embeddings-NN Block Building [sminilm, faiss]:  18%|█▊        | 378/2152 [00:04<00:10, 165.16it/s]\u001b[A\n",
      "Embeddings-NN Block Building [sminilm, faiss]:  18%|█▊        | 395/2152 [00:04<00:10, 165.01it/s]\u001b[A\n",
      "Embeddings-NN Block Building [sminilm, faiss]:  19%|█▉        | 412/2152 [00:05<00:10, 165.57it/s]\u001b[A\n",
      "Embeddings-NN Block Building [sminilm, faiss]:  20%|█▉        | 429/2152 [00:05<00:10, 166.79it/s]\u001b[A\n",
      "Embeddings-NN Block Building [sminilm, faiss]:  21%|██        | 446/2152 [00:05<00:10, 166.67it/s]\u001b[A\n",
      "Embeddings-NN Block Building [sminilm, faiss]:  22%|██▏       | 463/2152 [00:05<00:10, 163.73it/s]\u001b[A\n",
      "Embeddings-NN Block Building [sminilm, faiss]:  22%|██▏       | 480/2152 [00:05<00:10, 161.14it/s]\u001b[A\n",
      "Embeddings-NN Block Building [sminilm, faiss]:  23%|██▎       | 497/2152 [00:05<00:10, 159.25it/s]\u001b[A\n",
      "Embeddings-NN Block Building [sminilm, faiss]:  24%|██▍       | 513/2152 [00:05<00:10, 158.46it/s]\u001b[A\n",
      "Embeddings-NN Block Building [sminilm, faiss]:  25%|██▍       | 529/2152 [00:05<00:10, 158.14it/s]\u001b[A\n",
      "Embeddings-NN Block Building [sminilm, faiss]:  25%|██▌       | 545/2152 [00:05<00:10, 157.46it/s]\u001b[A\n",
      "Embeddings-NN Block Building [sminilm, faiss]:  26%|██▌       | 561/2152 [00:05<00:10, 156.81it/s]\u001b[A\n",
      "Embeddings-NN Block Building [sminilm, faiss]:  27%|██▋       | 577/2152 [00:06<00:10, 156.39it/s]\u001b[A\n",
      "Embeddings-NN Block Building [sminilm, faiss]:  28%|██▊       | 593/2152 [00:06<00:09, 156.23it/s]\u001b[A\n",
      "Embeddings-NN Block Building [sminilm, faiss]:  28%|██▊       | 609/2152 [00:06<00:09, 156.52it/s]\u001b[A\n",
      "Embeddings-NN Block Building [sminilm, faiss]:  29%|██▉       | 625/2152 [00:06<00:09, 156.51it/s]\u001b[A\n",
      "Embeddings-NN Block Building [sminilm, faiss]:  30%|██▉       | 641/2152 [00:06<00:09, 155.76it/s]\u001b[A\n",
      "Embeddings-NN Block Building [sminilm, faiss]:  31%|███       | 657/2152 [00:06<00:09, 155.69it/s]\u001b[A\n",
      "Embeddings-NN Block Building [sminilm, faiss]:  31%|███▏      | 675/2152 [00:06<00:09, 160.41it/s]\u001b[A\n",
      "Embeddings-NN Block Building [sminilm, faiss]:  32%|███▏      | 692/2152 [00:06<00:09, 160.79it/s]\u001b[A\n",
      "Embeddings-NN Block Building [sminilm, faiss]:  33%|███▎      | 709/2152 [00:06<00:08, 162.52it/s]\u001b[A\n",
      "Embeddings-NN Block Building [sminilm, faiss]:  34%|███▎      | 726/2152 [00:07<00:08, 163.77it/s]\u001b[A\n",
      "Embeddings-NN Block Building [sminilm, faiss]:  35%|███▍      | 743/2152 [00:07<00:08, 159.76it/s]\u001b[A\n",
      "Embeddings-NN Block Building [sminilm, faiss]:  35%|███▌      | 759/2152 [00:07<00:11, 119.55it/s]\u001b[A\n",
      "Embeddings-NN Block Building [sminilm, faiss]:  36%|███▌      | 775/2152 [00:07<00:10, 128.31it/s]\u001b[A\n",
      "Embeddings-NN Block Building [sminilm, faiss]:  37%|███▋      | 791/2152 [00:07<00:10, 135.14it/s]\u001b[A\n",
      "Embeddings-NN Block Building [sminilm, faiss]:  38%|███▊      | 808/2152 [00:07<00:09, 143.98it/s]\u001b[A\n",
      "Embeddings-NN Block Building [sminilm, faiss]:  38%|███▊      | 824/2152 [00:07<00:09, 146.86it/s]\u001b[A\n",
      "Embeddings-NN Block Building [sminilm, faiss]:  39%|███▉      | 840/2152 [00:07<00:08, 150.08it/s]\u001b[A\n",
      "Embeddings-NN Block Building [sminilm, faiss]:  40%|███▉      | 857/2152 [00:07<00:08, 154.68it/s]\u001b[A\n",
      "Embeddings-NN Block Building [sminilm, faiss]:  41%|████      | 874/2152 [00:08<00:08, 158.32it/s]\u001b[A\n",
      "Embeddings-NN Block Building [sminilm, faiss]:  41%|████▏     | 891/2152 [00:08<00:07, 160.86it/s]\u001b[A\n",
      "Embeddings-NN Block Building [sminilm, faiss]:  42%|████▏     | 908/2152 [00:08<00:07, 162.97it/s]\u001b[A\n",
      "Embeddings-NN Block Building [sminilm, faiss]:  43%|████▎     | 927/2152 [00:08<00:07, 168.22it/s]\u001b[A\n",
      "Embeddings-NN Block Building [sminilm, faiss]:  44%|████▍     | 945/2152 [00:08<00:07, 170.98it/s]\u001b[A\n",
      "Embeddings-NN Block Building [sminilm, faiss]:  45%|████▍     | 963/2152 [00:08<00:06, 170.53it/s]\u001b[A\n",
      "Embeddings-NN Block Building [sminilm, faiss]:  46%|████▌     | 981/2152 [00:08<00:06, 169.28it/s]\u001b[A\n",
      "Embeddings-NN Block Building [sminilm, faiss]:  46%|████▋     | 998/2152 [00:08<00:06, 165.76it/s]\u001b[A\n",
      "Embeddings-NN Block Building [sminilm, faiss]:  47%|████▋     | 1015/2152 [00:08<00:07, 162.30it/s]\u001b[A\n",
      "Embeddings-NN Block Building [sminilm, faiss]:  48%|████▊     | 1032/2152 [00:08<00:06, 163.17it/s]\u001b[A\n",
      "Embeddings-NN Block Building [sminilm, faiss]:  49%|████▊     | 1049/2152 [00:09<00:06, 165.07it/s]\u001b[A\n",
      "Embeddings-NN Block Building [sminilm, faiss]:  50%|████▉     | 1066/2152 [00:09<00:06, 166.13it/s]\u001b[A\n",
      "Embeddings-NN Block Building [sminilm, faiss]:  50%|█████     | 1083/2152 [00:09<00:06, 166.39it/s]\u001b[A\n",
      "Embeddings-NN Block Building [sminilm, faiss]:  51%|█████     | 1101/2152 [00:09<00:06, 168.35it/s]\u001b[A\n",
      "Embeddings-NN Block Building [sminilm, faiss]:  52%|█████▏    | 1119/2152 [00:09<00:06, 169.57it/s]\u001b[A\n",
      "Embeddings-NN Block Building [sminilm, faiss]:  53%|█████▎    | 1137/2152 [00:09<00:05, 170.15it/s]\u001b[A\n",
      "Embeddings-NN Block Building [sminilm, faiss]:  54%|█████▎    | 1155/2152 [00:09<00:05, 171.32it/s]\u001b[A\n",
      "Embeddings-NN Block Building [sminilm, faiss]:  55%|█████▍    | 1173/2152 [00:09<00:05, 172.25it/s]\u001b[A\n",
      "Embeddings-NN Block Building [sminilm, faiss]:  55%|█████▌    | 1191/2152 [00:09<00:05, 172.63it/s]\u001b[A\n",
      "Embeddings-NN Block Building [sminilm, faiss]:  56%|█████▌    | 1209/2152 [00:10<00:05, 171.15it/s]\u001b[A\n",
      "Embeddings-NN Block Building [sminilm, faiss]:  57%|█████▋    | 1227/2152 [00:10<00:05, 167.94it/s]\u001b[A\n",
      "Embeddings-NN Block Building [sminilm, faiss]:  58%|█████▊    | 1244/2152 [00:10<00:05, 167.53it/s]\u001b[A\n",
      "Embeddings-NN Block Building [sminilm, faiss]:  59%|█████▊    | 1262/2152 [00:10<00:05, 170.96it/s]\u001b[A\n",
      "Embeddings-NN Block Building [sminilm, faiss]:  59%|█████▉    | 1280/2152 [00:10<00:05, 173.30it/s]\u001b[A\n",
      "Embeddings-NN Block Building [sminilm, faiss]:  60%|██████    | 1299/2152 [00:10<00:04, 175.95it/s]\u001b[A\n",
      "Embeddings-NN Block Building [sminilm, faiss]:  61%|██████    | 1317/2152 [00:10<00:04, 174.15it/s]\u001b[A\n",
      "Embeddings-NN Block Building [sminilm, faiss]:  62%|██████▏   | 1335/2152 [00:10<00:04, 172.35it/s]\u001b[A\n",
      "Embeddings-NN Block Building [sminilm, faiss]:  63%|██████▎   | 1353/2152 [00:10<00:04, 171.43it/s]\u001b[A\n",
      "Embeddings-NN Block Building [sminilm, faiss]:  64%|██████▎   | 1371/2152 [00:10<00:04, 171.15it/s]\u001b[A\n",
      "Embeddings-NN Block Building [sminilm, faiss]:  65%|██████▍   | 1389/2152 [00:11<00:04, 171.42it/s]\u001b[A\n",
      "Embeddings-NN Block Building [sminilm, faiss]:  65%|██████▌   | 1407/2152 [00:11<00:04, 169.32it/s]\u001b[A\n",
      "Embeddings-NN Block Building [sminilm, faiss]:  66%|██████▌   | 1424/2152 [00:11<00:04, 164.10it/s]\u001b[A\n",
      "Embeddings-NN Block Building [sminilm, faiss]:  67%|██████▋   | 1441/2152 [00:11<00:04, 159.58it/s]\u001b[A\n",
      "Embeddings-NN Block Building [sminilm, faiss]:  68%|██████▊   | 1457/2152 [00:11<00:04, 151.94it/s]\u001b[A\n",
      "Embeddings-NN Block Building [sminilm, faiss]:  68%|██████▊   | 1473/2152 [00:11<00:04, 150.91it/s]\u001b[A\n",
      "Embeddings-NN Block Building [sminilm, faiss]:  69%|██████▉   | 1490/2152 [00:11<00:04, 155.22it/s]\u001b[A\n",
      "Embeddings-NN Block Building [sminilm, faiss]:  70%|███████   | 1507/2152 [00:11<00:04, 158.06it/s]\u001b[A\n",
      "Embeddings-NN Block Building [sminilm, faiss]:  71%|███████   | 1523/2152 [00:11<00:03, 157.45it/s]\u001b[A\n",
      "Embeddings-NN Block Building [sminilm, faiss]:  72%|███████▏  | 1539/2152 [00:12<00:03, 157.52it/s]\u001b[A\n",
      "Embeddings-NN Block Building [sminilm, faiss]:  72%|███████▏  | 1556/2152 [00:12<00:03, 160.38it/s]\u001b[A\n",
      "Embeddings-NN Block Building [sminilm, faiss]:  73%|███████▎  | 1573/2152 [00:12<00:03, 152.95it/s]\u001b[A\n",
      "Embeddings-NN Block Building [sminilm, faiss]:  74%|███████▍  | 1589/2152 [00:12<00:03, 145.38it/s]\u001b[A\n",
      "Embeddings-NN Block Building [sminilm, faiss]:  75%|███████▍  | 1604/2152 [00:12<00:03, 138.36it/s]\u001b[A\n",
      "Embeddings-NN Block Building [sminilm, faiss]:  75%|███████▌  | 1618/2152 [00:12<00:04, 122.62it/s]\u001b[A\n",
      "Embeddings-NN Block Building [sminilm, faiss]:  76%|███████▌  | 1636/2152 [00:12<00:03, 136.36it/s]\u001b[A\n",
      "Embeddings-NN Block Building [sminilm, faiss]:  77%|███████▋  | 1653/2152 [00:12<00:03, 143.58it/s]\u001b[A\n",
      "Embeddings-NN Block Building [sminilm, faiss]:  78%|███████▊  | 1670/2152 [00:12<00:03, 148.53it/s]\u001b[A\n",
      "Embeddings-NN Block Building [sminilm, faiss]:  78%|███████▊  | 1687/2152 [00:13<00:03, 152.57it/s]\u001b[A\n",
      "Embeddings-NN Block Building [sminilm, faiss]:  79%|███████▉  | 1704/2152 [00:13<00:02, 155.57it/s]\u001b[A\n",
      "Embeddings-NN Block Building [sminilm, faiss]:  80%|███████▉  | 1721/2152 [00:13<00:02, 157.44it/s]\u001b[A\n",
      "Embeddings-NN Block Building [sminilm, faiss]:  81%|████████  | 1738/2152 [00:13<00:02, 158.88it/s]\u001b[A\n",
      "Embeddings-NN Block Building [sminilm, faiss]:  82%|████████▏ | 1755/2152 [00:13<00:02, 159.97it/s]\u001b[A\n",
      "Embeddings-NN Block Building [sminilm, faiss]:  82%|████████▏ | 1772/2152 [00:13<00:02, 160.77it/s]\u001b[A\n",
      "Embeddings-NN Block Building [sminilm, faiss]:  83%|████████▎ | 1789/2152 [00:13<00:02, 160.98it/s]\u001b[A\n",
      "Embeddings-NN Block Building [sminilm, faiss]:  84%|████████▍ | 1806/2152 [00:13<00:02, 161.47it/s]\u001b[A\n",
      "Embeddings-NN Block Building [sminilm, faiss]:  85%|████████▍ | 1823/2152 [00:13<00:02, 161.94it/s]\u001b[A\n",
      "Embeddings-NN Block Building [sminilm, faiss]:  86%|████████▌ | 1840/2152 [00:14<00:01, 162.43it/s]\u001b[A\n",
      "Embeddings-NN Block Building [sminilm, faiss]:  86%|████████▋ | 1857/2152 [00:14<00:01, 162.92it/s]\u001b[A\n",
      "Embeddings-NN Block Building [sminilm, faiss]:  87%|████████▋ | 1874/2152 [00:14<00:01, 163.29it/s]\u001b[A\n",
      "Embeddings-NN Block Building [sminilm, faiss]:  88%|████████▊ | 1891/2152 [00:14<00:01, 163.61it/s]\u001b[A\n",
      "Embeddings-NN Block Building [sminilm, faiss]:  89%|████████▊ | 1908/2152 [00:14<00:01, 163.79it/s]\u001b[A\n",
      "Embeddings-NN Block Building [sminilm, faiss]:  89%|████████▉ | 1925/2152 [00:14<00:01, 163.98it/s]\u001b[A\n",
      "Embeddings-NN Block Building [sminilm, faiss]:  90%|█████████ | 1942/2152 [00:14<00:01, 164.18it/s]\u001b[A\n",
      "Embeddings-NN Block Building [sminilm, faiss]:  91%|█████████ | 1959/2152 [00:14<00:01, 164.03it/s]\u001b[A\n",
      "Embeddings-NN Block Building [sminilm, faiss]:  92%|█████████▏| 1976/2152 [00:14<00:01, 163.66it/s]\u001b[A\n",
      "Embeddings-NN Block Building [sminilm, faiss]:  93%|█████████▎| 1993/2152 [00:14<00:00, 163.57it/s]\u001b[A\n",
      "Embeddings-NN Block Building [sminilm, faiss]:  93%|█████████▎| 2010/2152 [00:15<00:00, 163.31it/s]\u001b[A\n",
      "Embeddings-NN Block Building [sminilm, faiss]:  94%|█████████▍| 2027/2152 [00:15<00:00, 163.44it/s]\u001b[A\n",
      "Embeddings-NN Block Building [sminilm, faiss]:  95%|█████████▍| 2044/2152 [00:15<00:00, 162.39it/s]\u001b[A\n",
      "Embeddings-NN Block Building [sminilm, faiss]:  96%|█████████▌| 2061/2152 [00:15<00:00, 162.42it/s]\u001b[A\n",
      "Embeddings-NN Block Building [sminilm, faiss]:  97%|█████████▋| 2078/2152 [00:15<00:00, 162.51it/s]\u001b[A\n",
      "Embeddings-NN Block Building [sminilm, faiss]:  97%|█████████▋| 2095/2152 [00:15<00:00, 161.31it/s]\u001b[A\n",
      "Embeddings-NN Block Building [sminilm, faiss]:  98%|█████████▊| 2112/2152 [00:15<00:00, 159.96it/s]\u001b[A\n",
      "Embeddings-NN Block Building [sminilm, faiss]:  99%|█████████▉| 2129/2152 [00:15<00:00, 157.89it/s]\u001b[A\n",
      "Embeddings-NN Block Building [sminilm, faiss]: 100%|██████████| 2152/2152 [00:16<00:00, 133.43it/s]\u001b[A\n",
      "Embeddings NN Blocking Based Progressive Matching: 0it [00:16, ?it/s]\n"
     ]
    },
    {
     "name": "stdout",
     "output_type": "stream",
     "text": [
      "algorithm : HB\n",
      "number_of_nearest_neighbors : 2\n",
      "indexing : inorder\n",
      "language_model : sminilm\n",
      "total_candidates : 1076\n",
      "total_emissions : 1076\n",
      "time : 16.15586543083191\n",
      "name : fb637719-65f1-4cef-85ad-eadbbfb512d2\n",
      "true_positives : 713\n",
      "dataset : D100\n",
      "matcher : EmbeddingsNNBPM\n",
      "#### WORKFLOW 2/8 ####\n",
      "{'language_model': 'sminilm', 'number_of_nearest_neighbors': 2}\n",
      "{'budget': 1076, 'algorithm': 'HB', 'indexing': 'reverse'}\n"
     ]
    },
    {
     "name": "stderr",
     "output_type": "stream",
     "text": [
      "Embeddings NN Blocking Based Progressive Matching: 0it [00:00, ?it/s]"
     ]
    },
    {
     "name": "stdout",
     "output_type": "stream",
     "text": [
      "Building blocks via Embeddings-NN Block Building [sminilm, faiss]\n"
     ]
    },
    {
     "name": "stderr",
     "output_type": "stream",
     "text": [
      "\n",
      "Embeddings-NN Block Building [sminilm, faiss]:   0%|          | 0/2152 [00:00<?, ?it/s]\u001b[A"
     ]
    },
    {
     "name": "stdout",
     "output_type": "stream",
     "text": [
      "Device selected:  cuda\n"
     ]
    },
    {
     "name": "stderr",
     "output_type": "stream",
     "text": [
      "\n",
      "Embeddings-NN Block Building [sminilm, faiss]:   0%|          | 1/2152 [00:00<32:41,  1.10it/s]\u001b[A\n",
      "Embeddings-NN Block Building [sminilm, faiss]:   1%|          | 18/2152 [00:01<01:29, 23.90it/s]\u001b[A\n",
      "Embeddings-NN Block Building [sminilm, faiss]:   2%|▏         | 36/2152 [00:01<00:43, 49.06it/s]\u001b[A\n",
      "Embeddings-NN Block Building [sminilm, faiss]:   3%|▎         | 54/2152 [00:01<00:28, 73.55it/s]\u001b[A\n",
      "Embeddings-NN Block Building [sminilm, faiss]:   3%|▎         | 72/2152 [00:01<00:21, 95.66it/s]\u001b[A\n",
      "Embeddings-NN Block Building [sminilm, faiss]:   4%|▍         | 91/2152 [00:01<00:17, 116.09it/s]\u001b[A\n",
      "Embeddings-NN Block Building [sminilm, faiss]:   5%|▌         | 110/2152 [00:01<00:15, 132.52it/s]\u001b[A\n",
      "Embeddings-NN Block Building [sminilm, faiss]:   6%|▌         | 128/2152 [00:01<00:14, 144.55it/s]\u001b[A\n",
      "Embeddings-NN Block Building [sminilm, faiss]:   7%|▋         | 147/2152 [00:01<00:12, 154.37it/s]\u001b[A\n",
      "Embeddings-NN Block Building [sminilm, faiss]:   8%|▊         | 165/2152 [00:01<00:12, 160.81it/s]\u001b[A\n",
      "Embeddings-NN Block Building [sminilm, faiss]:   9%|▊         | 183/2152 [00:01<00:11, 165.64it/s]\u001b[A\n",
      "Embeddings-NN Block Building [sminilm, faiss]:   9%|▉         | 201/2152 [00:02<00:11, 167.55it/s]\u001b[A\n",
      "Embeddings-NN Block Building [sminilm, faiss]:  10%|█         | 219/2152 [00:02<00:11, 168.60it/s]\u001b[A\n",
      "Embeddings-NN Block Building [sminilm, faiss]:  11%|█         | 237/2152 [00:02<00:11, 169.63it/s]\u001b[A\n",
      "Embeddings-NN Block Building [sminilm, faiss]:  12%|█▏        | 255/2152 [00:02<00:11, 169.33it/s]\u001b[A\n",
      "Embeddings-NN Block Building [sminilm, faiss]:  13%|█▎        | 273/2152 [00:02<00:15, 118.89it/s]\u001b[A\n",
      "Embeddings-NN Block Building [sminilm, faiss]:  13%|█▎        | 290/2152 [00:02<00:14, 129.28it/s]\u001b[A\n",
      "Embeddings-NN Block Building [sminilm, faiss]:  14%|█▍        | 306/2152 [00:02<00:13, 135.64it/s]\u001b[A\n",
      "Embeddings-NN Block Building [sminilm, faiss]:  15%|█▌        | 323/2152 [00:02<00:12, 143.17it/s]\u001b[A\n",
      "Embeddings-NN Block Building [sminilm, faiss]:  16%|█▌        | 339/2152 [00:03<00:12, 145.97it/s]\u001b[A\n",
      "Embeddings-NN Block Building [sminilm, faiss]:  16%|█▋        | 355/2152 [00:03<00:12, 146.71it/s]\u001b[A\n",
      "Embeddings-NN Block Building [sminilm, faiss]:  17%|█▋        | 371/2152 [00:03<00:11, 149.87it/s]\u001b[A\n",
      "Embeddings-NN Block Building [sminilm, faiss]:  18%|█▊        | 387/2152 [00:03<00:11, 152.55it/s]\u001b[A\n",
      "Embeddings-NN Block Building [sminilm, faiss]:  19%|█▊        | 403/2152 [00:03<00:11, 154.49it/s]\u001b[A\n",
      "Embeddings-NN Block Building [sminilm, faiss]:  19%|█▉        | 419/2152 [00:03<00:11, 152.50it/s]\u001b[A\n",
      "Embeddings-NN Block Building [sminilm, faiss]:  20%|██        | 435/2152 [00:03<00:11, 152.50it/s]\u001b[A\n",
      "Embeddings-NN Block Building [sminilm, faiss]:  21%|██        | 452/2152 [00:03<00:10, 156.75it/s]\u001b[A\n",
      "Embeddings-NN Block Building [sminilm, faiss]:  22%|██▏       | 469/2152 [00:03<00:10, 159.55it/s]\u001b[A\n",
      "Embeddings-NN Block Building [sminilm, faiss]:  23%|██▎       | 486/2152 [00:03<00:10, 158.99it/s]\u001b[A\n",
      "Embeddings-NN Block Building [sminilm, faiss]:  23%|██▎       | 502/2152 [00:04<00:10, 158.89it/s]\u001b[A\n",
      "Embeddings-NN Block Building [sminilm, faiss]:  24%|██▍       | 518/2152 [00:04<00:10, 153.85it/s]\u001b[A\n",
      "Embeddings-NN Block Building [sminilm, faiss]:  25%|██▍       | 534/2152 [00:04<00:10, 151.86it/s]\u001b[A\n",
      "Embeddings-NN Block Building [sminilm, faiss]:  26%|██▌       | 550/2152 [00:04<00:10, 150.01it/s]\u001b[A\n",
      "Embeddings-NN Block Building [sminilm, faiss]:  26%|██▋       | 566/2152 [00:04<00:10, 144.21it/s]\u001b[A\n",
      "Embeddings-NN Block Building [sminilm, faiss]:  27%|██▋       | 581/2152 [00:04<00:10, 144.08it/s]\u001b[A\n",
      "Embeddings-NN Block Building [sminilm, faiss]:  28%|██▊       | 597/2152 [00:04<00:10, 147.77it/s]\u001b[A\n",
      "Embeddings-NN Block Building [sminilm, faiss]:  29%|██▊       | 615/2152 [00:04<00:09, 156.42it/s]\u001b[A\n",
      "Embeddings-NN Block Building [sminilm, faiss]:  29%|██▉       | 633/2152 [00:04<00:09, 162.05it/s]\u001b[A\n",
      "Embeddings-NN Block Building [sminilm, faiss]:  30%|███       | 650/2152 [00:05<00:09, 164.15it/s]\u001b[A\n",
      "Embeddings-NN Block Building [sminilm, faiss]:  31%|███       | 667/2152 [00:05<00:09, 164.86it/s]\u001b[A\n",
      "Embeddings-NN Block Building [sminilm, faiss]:  32%|███▏      | 691/2152 [00:05<00:07, 185.63it/s]\u001b[A\n",
      "Embeddings-NN Block Building [sminilm, faiss]:  33%|███▎      | 717/2152 [00:05<00:06, 206.09it/s]\u001b[A\n",
      "Embeddings-NN Block Building [sminilm, faiss]:  34%|███▍      | 742/2152 [00:05<00:06, 216.44it/s]\u001b[A\n",
      "Embeddings-NN Block Building [sminilm, faiss]:  36%|███▌      | 767/2152 [00:05<00:06, 224.94it/s]\u001b[A\n",
      "Embeddings-NN Block Building [sminilm, faiss]:  37%|███▋      | 793/2152 [00:05<00:05, 232.92it/s]\u001b[A\n",
      "Embeddings-NN Block Building [sminilm, faiss]:  38%|███▊      | 819/2152 [00:05<00:05, 238.97it/s]\u001b[A\n",
      "Embeddings-NN Block Building [sminilm, faiss]:  39%|███▉      | 844/2152 [00:05<00:05, 242.13it/s]\u001b[A\n",
      "Embeddings-NN Block Building [sminilm, faiss]:  40%|████      | 869/2152 [00:05<00:05, 238.80it/s]\u001b[A\n",
      "Embeddings-NN Block Building [sminilm, faiss]:  41%|████▏     | 893/2152 [00:06<00:05, 237.86it/s]\u001b[A\n",
      "Embeddings-NN Block Building [sminilm, faiss]:  43%|████▎     | 918/2152 [00:06<00:05, 241.20it/s]\u001b[A\n",
      "Embeddings-NN Block Building [sminilm, faiss]:  44%|████▍     | 944/2152 [00:06<00:04, 243.94it/s]\u001b[A\n",
      "Embeddings-NN Block Building [sminilm, faiss]:  45%|████▌     | 969/2152 [00:06<00:04, 245.15it/s]\u001b[A\n",
      "Embeddings-NN Block Building [sminilm, faiss]:  46%|████▌     | 994/2152 [00:06<00:04, 246.01it/s]\u001b[A\n",
      "Embeddings-NN Block Building [sminilm, faiss]:  47%|████▋     | 1019/2152 [00:06<00:04, 246.75it/s]\u001b[A\n",
      "Embeddings-NN Block Building [sminilm, faiss]:  49%|████▊     | 1044/2152 [00:06<00:04, 247.57it/s]\u001b[A\n",
      "Embeddings-NN Block Building [sminilm, faiss]:  50%|████▉     | 1069/2152 [00:06<00:04, 247.82it/s]\u001b[A\n",
      "Embeddings-NN Block Building [sminilm, faiss]:  51%|█████     | 1094/2152 [00:06<00:04, 244.97it/s]\u001b[A\n",
      "Embeddings-NN Block Building [sminilm, faiss]:  52%|█████▏    | 1119/2152 [00:07<00:04, 217.65it/s]\u001b[A\n",
      "Embeddings-NN Block Building [sminilm, faiss]:  53%|█████▎    | 1142/2152 [00:07<00:04, 204.16it/s]\u001b[A\n",
      "Embeddings-NN Block Building [sminilm, faiss]:  54%|█████▍    | 1163/2152 [00:07<00:05, 192.12it/s]\u001b[A\n",
      "Embeddings-NN Block Building [sminilm, faiss]:  55%|█████▍    | 1183/2152 [00:07<00:05, 182.55it/s]\u001b[A\n",
      "Embeddings-NN Block Building [sminilm, faiss]:  56%|█████▌    | 1202/2152 [00:07<00:05, 178.28it/s]\u001b[A\n",
      "Embeddings-NN Block Building [sminilm, faiss]:  57%|█████▋    | 1221/2152 [00:07<00:05, 172.37it/s]\u001b[A\n",
      "Embeddings-NN Block Building [sminilm, faiss]:  58%|█████▊    | 1239/2152 [00:07<00:05, 168.37it/s]\u001b[A\n",
      "Embeddings-NN Block Building [sminilm, faiss]:  58%|█████▊    | 1256/2152 [00:07<00:05, 167.94it/s]\u001b[A\n",
      "Embeddings-NN Block Building [sminilm, faiss]:  59%|█████▉    | 1274/2152 [00:07<00:05, 169.74it/s]\u001b[A\n",
      "Embeddings-NN Block Building [sminilm, faiss]:  60%|██████    | 1292/2152 [00:08<00:05, 171.49it/s]\u001b[A\n",
      "Embeddings-NN Block Building [sminilm, faiss]:  61%|██████    | 1310/2152 [00:08<00:04, 172.62it/s]\u001b[A\n",
      "Embeddings-NN Block Building [sminilm, faiss]:  62%|██████▏   | 1328/2152 [00:08<00:04, 173.36it/s]\u001b[A\n",
      "Embeddings-NN Block Building [sminilm, faiss]:  63%|██████▎   | 1346/2152 [00:08<00:04, 174.46it/s]\u001b[A\n",
      "Embeddings-NN Block Building [sminilm, faiss]:  63%|██████▎   | 1364/2152 [00:08<00:04, 173.67it/s]\u001b[A\n",
      "Embeddings-NN Block Building [sminilm, faiss]:  64%|██████▍   | 1382/2152 [00:08<00:04, 169.40it/s]\u001b[A\n",
      "Embeddings-NN Block Building [sminilm, faiss]:  65%|██████▌   | 1399/2152 [00:08<00:04, 169.46it/s]\u001b[A\n",
      "Embeddings-NN Block Building [sminilm, faiss]:  66%|██████▌   | 1416/2152 [00:08<00:04, 167.18it/s]\u001b[A\n",
      "Embeddings-NN Block Building [sminilm, faiss]:  67%|██████▋   | 1433/2152 [00:08<00:04, 163.90it/s]\u001b[A\n",
      "Embeddings-NN Block Building [sminilm, faiss]:  67%|██████▋   | 1450/2152 [00:08<00:04, 163.23it/s]\u001b[A\n",
      "Embeddings-NN Block Building [sminilm, faiss]:  68%|██████▊   | 1467/2152 [00:09<00:04, 164.21it/s]\u001b[A\n",
      "Embeddings-NN Block Building [sminilm, faiss]:  69%|██████▉   | 1484/2152 [00:09<00:04, 164.98it/s]\u001b[A\n",
      "Embeddings-NN Block Building [sminilm, faiss]:  70%|██████▉   | 1501/2152 [00:09<00:03, 165.39it/s]\u001b[A\n",
      "Embeddings-NN Block Building [sminilm, faiss]:  71%|███████   | 1518/2152 [00:09<00:03, 165.63it/s]\u001b[A\n",
      "Embeddings-NN Block Building [sminilm, faiss]:  71%|███████▏  | 1535/2152 [00:09<00:03, 166.69it/s]\u001b[A\n",
      "Embeddings-NN Block Building [sminilm, faiss]:  72%|███████▏  | 1553/2152 [00:09<00:03, 168.71it/s]\u001b[A\n",
      "Embeddings-NN Block Building [sminilm, faiss]:  73%|███████▎  | 1571/2152 [00:09<00:03, 169.77it/s]\u001b[A\n",
      "Embeddings-NN Block Building [sminilm, faiss]:  74%|███████▍  | 1589/2152 [00:09<00:03, 172.70it/s]\u001b[A\n",
      "Embeddings-NN Block Building [sminilm, faiss]:  75%|███████▍  | 1607/2152 [00:09<00:03, 170.00it/s]\u001b[A\n",
      "Embeddings-NN Block Building [sminilm, faiss]:  76%|███████▌  | 1625/2152 [00:10<00:03, 172.02it/s]\u001b[A\n",
      "Embeddings-NN Block Building [sminilm, faiss]:  76%|███████▋  | 1643/2152 [00:10<00:02, 172.97it/s]\u001b[A\n",
      "Embeddings-NN Block Building [sminilm, faiss]:  77%|███████▋  | 1661/2152 [00:10<00:02, 172.93it/s]\u001b[A\n",
      "Embeddings-NN Block Building [sminilm, faiss]:  78%|███████▊  | 1679/2152 [00:10<00:02, 170.82it/s]\u001b[A\n",
      "Embeddings-NN Block Building [sminilm, faiss]:  79%|███████▉  | 1697/2152 [00:10<00:02, 165.64it/s]\u001b[A\n",
      "Embeddings-NN Block Building [sminilm, faiss]:  80%|███████▉  | 1714/2152 [00:10<00:02, 162.93it/s]\u001b[A\n",
      "Embeddings-NN Block Building [sminilm, faiss]:  80%|████████  | 1731/2152 [00:10<00:02, 158.70it/s]\u001b[A\n",
      "Embeddings-NN Block Building [sminilm, faiss]:  81%|████████  | 1747/2152 [00:10<00:02, 158.86it/s]\u001b[A\n",
      "Embeddings-NN Block Building [sminilm, faiss]:  82%|████████▏ | 1763/2152 [00:10<00:02, 157.20it/s]\u001b[A\n",
      "Embeddings-NN Block Building [sminilm, faiss]:  83%|████████▎ | 1779/2152 [00:10<00:02, 155.00it/s]\u001b[A\n",
      "Embeddings-NN Block Building [sminilm, faiss]:  83%|████████▎ | 1795/2152 [00:11<00:02, 156.14it/s]\u001b[A\n",
      "Embeddings-NN Block Building [sminilm, faiss]:  84%|████████▍ | 1811/2152 [00:11<00:02, 153.80it/s]\u001b[A\n",
      "Embeddings-NN Block Building [sminilm, faiss]:  85%|████████▍ | 1827/2152 [00:11<00:02, 154.26it/s]\u001b[A\n",
      "Embeddings-NN Block Building [sminilm, faiss]:  86%|████████▌ | 1843/2152 [00:11<00:01, 155.22it/s]\u001b[A\n",
      "Embeddings-NN Block Building [sminilm, faiss]:  86%|████████▋ | 1859/2152 [00:11<00:01, 154.22it/s]\u001b[A\n",
      "Embeddings-NN Block Building [sminilm, faiss]:  87%|████████▋ | 1875/2152 [00:11<00:01, 143.55it/s]\u001b[A\n",
      "Embeddings-NN Block Building [sminilm, faiss]:  88%|████████▊ | 1890/2152 [00:11<00:02, 103.15it/s]\u001b[A\n",
      "Embeddings-NN Block Building [sminilm, faiss]:  89%|████████▊ | 1906/2152 [00:11<00:02, 114.76it/s]\u001b[A\n",
      "Embeddings-NN Block Building [sminilm, faiss]:  89%|████████▉ | 1921/2152 [00:12<00:01, 122.23it/s]\u001b[A\n",
      "Embeddings-NN Block Building [sminilm, faiss]:  90%|████████▉ | 1936/2152 [00:12<00:01, 127.95it/s]\u001b[A\n",
      "Embeddings-NN Block Building [sminilm, faiss]:  91%|█████████ | 1954/2152 [00:12<00:01, 139.37it/s]\u001b[A\n",
      "Embeddings-NN Block Building [sminilm, faiss]:  91%|█████████▏| 1969/2152 [00:12<00:01, 140.60it/s]\u001b[A\n",
      "Embeddings-NN Block Building [sminilm, faiss]:  92%|█████████▏| 1984/2152 [00:12<00:01, 136.59it/s]\u001b[A\n",
      "Embeddings-NN Block Building [sminilm, faiss]:  93%|█████████▎| 2000/2152 [00:12<00:01, 141.00it/s]\u001b[A\n",
      "Embeddings-NN Block Building [sminilm, faiss]:  94%|█████████▎| 2016/2152 [00:12<00:00, 144.76it/s]\u001b[A\n",
      "Embeddings-NN Block Building [sminilm, faiss]:  94%|█████████▍| 2032/2152 [00:12<00:00, 148.11it/s]\u001b[A\n",
      "Embeddings-NN Block Building [sminilm, faiss]:  95%|█████████▌| 2048/2152 [00:12<00:00, 151.47it/s]\u001b[A\n",
      "Embeddings-NN Block Building [sminilm, faiss]:  96%|█████████▌| 2065/2152 [00:13<00:00, 154.65it/s]\u001b[A\n",
      "Embeddings-NN Block Building [sminilm, faiss]:  97%|█████████▋| 2082/2152 [00:13<00:00, 157.93it/s]\u001b[A\n",
      "Embeddings-NN Block Building [sminilm, faiss]:  98%|█████████▊| 2099/2152 [00:13<00:00, 160.58it/s]\u001b[A\n",
      "Embeddings-NN Block Building [sminilm, faiss]:  98%|█████████▊| 2118/2152 [00:13<00:00, 166.87it/s]\u001b[A\n",
      "Embeddings-NN Block Building [sminilm, faiss]:  99%|█████████▉| 2135/2152 [00:13<00:00, 162.76it/s]\u001b[A\n",
      "Embeddings-NN Block Building [sminilm, faiss]: 100%|██████████| 2152/2152 [00:13<00:00, 157.03it/s]\u001b[A\n",
      "Embeddings NN Blocking Based Progressive Matching: 0it [00:13, ?it/s]\n"
     ]
    },
    {
     "name": "stdout",
     "output_type": "stream",
     "text": [
      "algorithm : HB\n",
      "number_of_nearest_neighbors : 2\n",
      "indexing : reverse\n",
      "language_model : sminilm\n",
      "total_candidates : 1076\n",
      "total_emissions : 1076\n",
      "time : 13.753221035003662\n",
      "name : b54051c1-2c00-40a4-8334-01576e0e9e4b\n",
      "true_positives : 709\n",
      "dataset : D100\n",
      "matcher : EmbeddingsNNBPM\n",
      "#### WORKFLOW 3/8 ####\n",
      "{'language_model': 'sminilm', 'number_of_nearest_neighbors': 10}\n",
      "{'budget': 1076, 'algorithm': 'HB', 'indexing': 'inorder'}\n"
     ]
    },
    {
     "name": "stderr",
     "output_type": "stream",
     "text": [
      "Embeddings NN Blocking Based Progressive Matching: 0it [00:00, ?it/s]"
     ]
    },
    {
     "name": "stdout",
     "output_type": "stream",
     "text": [
      "Building blocks via Embeddings-NN Block Building [sminilm, faiss]\n"
     ]
    },
    {
     "name": "stderr",
     "output_type": "stream",
     "text": [
      "\n",
      "Embeddings-NN Block Building [sminilm, faiss]:   0%|          | 0/2152 [00:00<?, ?it/s]\u001b[A"
     ]
    },
    {
     "name": "stdout",
     "output_type": "stream",
     "text": [
      "Device selected:  cuda\n"
     ]
    },
    {
     "name": "stderr",
     "output_type": "stream",
     "text": [
      "\n",
      "Embeddings-NN Block Building [sminilm, faiss]:   0%|          | 1/2152 [00:01<37:16,  1.04s/it]\u001b[A\n",
      "Embeddings-NN Block Building [sminilm, faiss]:   1%|          | 18/2152 [00:01<01:40, 21.25it/s]\u001b[A\n",
      "Embeddings-NN Block Building [sminilm, faiss]:   2%|▏         | 34/2152 [00:01<00:51, 41.35it/s]\u001b[A\n",
      "Embeddings-NN Block Building [sminilm, faiss]:   2%|▏         | 50/2152 [00:01<00:34, 61.72it/s]\u001b[A\n",
      "Embeddings-NN Block Building [sminilm, faiss]:   3%|▎         | 68/2152 [00:01<00:24, 84.24it/s]\u001b[A\n",
      "Embeddings-NN Block Building [sminilm, faiss]:   4%|▍         | 85/2152 [00:01<00:20, 102.16it/s]\u001b[A\n",
      "Embeddings-NN Block Building [sminilm, faiss]:   5%|▍         | 104/2152 [00:01<00:16, 122.37it/s]\u001b[A\n",
      "Embeddings-NN Block Building [sminilm, faiss]:   6%|▌         | 124/2152 [00:01<00:14, 140.44it/s]\u001b[A\n",
      "Embeddings-NN Block Building [sminilm, faiss]:   7%|▋         | 142/2152 [00:01<00:13, 144.25it/s]\u001b[A\n",
      "Embeddings-NN Block Building [sminilm, faiss]:   7%|▋         | 159/2152 [00:01<00:13, 144.23it/s]\u001b[A\n",
      "Embeddings-NN Block Building [sminilm, faiss]:   8%|▊         | 176/2152 [00:02<00:13, 148.70it/s]\u001b[A\n",
      "Embeddings-NN Block Building [sminilm, faiss]:   9%|▉         | 193/2152 [00:02<00:12, 151.60it/s]\u001b[A\n",
      "Embeddings-NN Block Building [sminilm, faiss]:  10%|▉         | 209/2152 [00:02<00:12, 152.62it/s]\u001b[A\n",
      "Embeddings-NN Block Building [sminilm, faiss]:  10%|█         | 225/2152 [00:02<00:12, 152.15it/s]\u001b[A\n",
      "Embeddings-NN Block Building [sminilm, faiss]:  11%|█         | 241/2152 [00:02<00:12, 150.49it/s]\u001b[A\n",
      "Embeddings-NN Block Building [sminilm, faiss]:  12%|█▏        | 258/2152 [00:02<00:12, 154.23it/s]\u001b[A\n",
      "Embeddings-NN Block Building [sminilm, faiss]:  13%|█▎        | 274/2152 [00:02<00:12, 152.54it/s]\u001b[A\n",
      "Embeddings-NN Block Building [sminilm, faiss]:  13%|█▎        | 290/2152 [00:02<00:12, 152.85it/s]\u001b[A\n",
      "Embeddings-NN Block Building [sminilm, faiss]:  14%|█▍        | 306/2152 [00:02<00:12, 153.17it/s]\u001b[A\n",
      "Embeddings-NN Block Building [sminilm, faiss]:  15%|█▍        | 322/2152 [00:03<00:11, 153.60it/s]\u001b[A\n",
      "Embeddings-NN Block Building [sminilm, faiss]:  16%|█▌        | 338/2152 [00:03<00:11, 154.09it/s]\u001b[A\n",
      "Embeddings-NN Block Building [sminilm, faiss]:  16%|█▋        | 354/2152 [00:03<00:11, 151.55it/s]\u001b[A\n",
      "Embeddings-NN Block Building [sminilm, faiss]:  17%|█▋        | 370/2152 [00:03<00:11, 148.70it/s]\u001b[A\n",
      "Embeddings-NN Block Building [sminilm, faiss]:  18%|█▊        | 385/2152 [00:03<00:12, 146.06it/s]\u001b[A\n",
      "Embeddings-NN Block Building [sminilm, faiss]:  19%|█▊        | 400/2152 [00:03<00:12, 141.64it/s]\u001b[A\n",
      "Embeddings-NN Block Building [sminilm, faiss]:  19%|█▉        | 415/2152 [00:03<00:12, 139.96it/s]\u001b[A\n",
      "Embeddings-NN Block Building [sminilm, faiss]:  20%|█▉        | 430/2152 [00:03<00:12, 138.90it/s]\u001b[A\n",
      "Embeddings-NN Block Building [sminilm, faiss]:  21%|██        | 444/2152 [00:03<00:12, 138.71it/s]\u001b[A\n",
      "Embeddings-NN Block Building [sminilm, faiss]:  21%|██▏       | 459/2152 [00:04<00:12, 140.97it/s]\u001b[A\n",
      "Embeddings-NN Block Building [sminilm, faiss]:  22%|██▏       | 475/2152 [00:04<00:11, 144.65it/s]\u001b[A\n",
      "Embeddings-NN Block Building [sminilm, faiss]:  23%|██▎       | 491/2152 [00:04<00:11, 147.24it/s]\u001b[A\n",
      "Embeddings-NN Block Building [sminilm, faiss]:  24%|██▎       | 506/2152 [00:04<00:11, 148.00it/s]\u001b[A\n",
      "Embeddings-NN Block Building [sminilm, faiss]:  24%|██▍       | 521/2152 [00:04<00:11, 142.96it/s]\u001b[A\n",
      "Embeddings-NN Block Building [sminilm, faiss]:  25%|██▍       | 536/2152 [00:04<00:12, 126.53it/s]\u001b[A\n",
      "Embeddings-NN Block Building [sminilm, faiss]:  26%|██▌       | 560/2152 [00:04<00:10, 155.96it/s]\u001b[A\n",
      "Embeddings-NN Block Building [sminilm, faiss]:  27%|██▋       | 584/2152 [00:04<00:08, 178.54it/s]\u001b[A\n",
      "Embeddings-NN Block Building [sminilm, faiss]:  28%|██▊       | 609/2152 [00:04<00:07, 196.60it/s]\u001b[A\n",
      "Embeddings-NN Block Building [sminilm, faiss]:  29%|██▉       | 633/2152 [00:05<00:07, 208.07it/s]\u001b[A\n",
      "Embeddings-NN Block Building [sminilm, faiss]:  31%|███       | 657/2152 [00:05<00:06, 216.78it/s]\u001b[A\n",
      "Embeddings-NN Block Building [sminilm, faiss]:  32%|███▏      | 682/2152 [00:05<00:06, 224.09it/s]\u001b[A\n",
      "Embeddings-NN Block Building [sminilm, faiss]:  33%|███▎      | 705/2152 [00:05<00:06, 211.27it/s]\u001b[A\n",
      "Embeddings-NN Block Building [sminilm, faiss]:  34%|███▍      | 729/2152 [00:05<00:06, 217.24it/s]\u001b[A\n",
      "Embeddings-NN Block Building [sminilm, faiss]:  35%|███▍      | 753/2152 [00:05<00:06, 222.05it/s]\u001b[A\n",
      "Embeddings-NN Block Building [sminilm, faiss]:  36%|███▌      | 777/2152 [00:05<00:06, 225.53it/s]\u001b[A\n",
      "Embeddings-NN Block Building [sminilm, faiss]:  37%|███▋      | 802/2152 [00:05<00:05, 230.43it/s]\u001b[A\n",
      "Embeddings-NN Block Building [sminilm, faiss]:  38%|███▊      | 826/2152 [00:05<00:05, 232.85it/s]\u001b[A\n",
      "Embeddings-NN Block Building [sminilm, faiss]:  39%|███▉      | 850/2152 [00:05<00:05, 233.90it/s]\u001b[A\n",
      "Embeddings-NN Block Building [sminilm, faiss]:  41%|████      | 874/2152 [00:06<00:05, 224.67it/s]\u001b[A\n",
      "Embeddings-NN Block Building [sminilm, faiss]:  42%|████▏     | 898/2152 [00:06<00:05, 227.06it/s]\u001b[A\n",
      "Embeddings-NN Block Building [sminilm, faiss]:  43%|████▎     | 922/2152 [00:06<00:05, 228.66it/s]\u001b[A\n",
      "Embeddings-NN Block Building [sminilm, faiss]:  44%|████▍     | 945/2152 [00:06<00:05, 227.81it/s]\u001b[A\n",
      "Embeddings-NN Block Building [sminilm, faiss]:  45%|████▌     | 969/2152 [00:06<00:05, 230.62it/s]\u001b[A\n",
      "Embeddings-NN Block Building [sminilm, faiss]:  46%|████▌     | 993/2152 [00:06<00:04, 232.92it/s]\u001b[A\n",
      "Embeddings-NN Block Building [sminilm, faiss]:  47%|████▋     | 1018/2152 [00:06<00:04, 235.62it/s]\u001b[A\n",
      "Embeddings-NN Block Building [sminilm, faiss]:  48%|████▊     | 1043/2152 [00:06<00:04, 237.44it/s]\u001b[A\n",
      "Embeddings-NN Block Building [sminilm, faiss]:  50%|████▉     | 1067/2152 [00:06<00:04, 237.64it/s]\u001b[A\n",
      "Embeddings-NN Block Building [sminilm, faiss]:  51%|█████     | 1091/2152 [00:06<00:04, 232.66it/s]\u001b[A\n",
      "Embeddings-NN Block Building [sminilm, faiss]:  52%|█████▏    | 1115/2152 [00:07<00:04, 233.85it/s]\u001b[A\n",
      "Embeddings-NN Block Building [sminilm, faiss]:  53%|█████▎    | 1140/2152 [00:07<00:04, 236.31it/s]\u001b[A\n",
      "Embeddings-NN Block Building [sminilm, faiss]:  54%|█████▍    | 1165/2152 [00:07<00:04, 238.58it/s]\u001b[A\n",
      "Embeddings-NN Block Building [sminilm, faiss]:  55%|█████▌    | 1190/2152 [00:07<00:04, 240.24it/s]\u001b[A\n",
      "Embeddings-NN Block Building [sminilm, faiss]:  56%|█████▋    | 1215/2152 [00:07<00:03, 241.04it/s]\u001b[A\n",
      "Embeddings-NN Block Building [sminilm, faiss]:  58%|█████▊    | 1240/2152 [00:07<00:03, 243.06it/s]\u001b[A\n",
      "Embeddings-NN Block Building [sminilm, faiss]:  59%|█████▉    | 1266/2152 [00:07<00:03, 245.77it/s]\u001b[A\n",
      "Embeddings-NN Block Building [sminilm, faiss]:  60%|██████    | 1292/2152 [00:07<00:03, 247.29it/s]\u001b[A\n",
      "Embeddings-NN Block Building [sminilm, faiss]:  61%|██████    | 1317/2152 [00:07<00:03, 247.77it/s]\u001b[A\n",
      "Embeddings-NN Block Building [sminilm, faiss]:  62%|██████▏   | 1342/2152 [00:08<00:03, 245.87it/s]\u001b[A\n",
      "Embeddings-NN Block Building [sminilm, faiss]:  64%|██████▎   | 1367/2152 [00:08<00:03, 245.51it/s]\u001b[A\n",
      "Embeddings-NN Block Building [sminilm, faiss]:  65%|██████▍   | 1392/2152 [00:08<00:03, 246.21it/s]\u001b[A\n",
      "Embeddings-NN Block Building [sminilm, faiss]:  66%|██████▌   | 1417/2152 [00:08<00:02, 247.29it/s]\u001b[A\n",
      "Embeddings-NN Block Building [sminilm, faiss]:  67%|██████▋   | 1442/2152 [00:08<00:02, 247.78it/s]\u001b[A\n",
      "Embeddings-NN Block Building [sminilm, faiss]:  68%|██████▊   | 1467/2152 [00:08<00:02, 243.95it/s]\u001b[A\n",
      "Embeddings-NN Block Building [sminilm, faiss]:  69%|██████▉   | 1492/2152 [00:08<00:02, 240.97it/s]\u001b[A\n",
      "Embeddings-NN Block Building [sminilm, faiss]:  70%|███████   | 1517/2152 [00:08<00:02, 241.87it/s]\u001b[A\n",
      "Embeddings-NN Block Building [sminilm, faiss]:  72%|███████▏  | 1542/2152 [00:08<00:02, 243.48it/s]\u001b[A\n",
      "Embeddings-NN Block Building [sminilm, faiss]:  73%|███████▎  | 1567/2152 [00:08<00:02, 242.89it/s]\u001b[A\n",
      "Embeddings-NN Block Building [sminilm, faiss]:  74%|███████▍  | 1592/2152 [00:09<00:02, 220.09it/s]\u001b[A\n",
      "Embeddings-NN Block Building [sminilm, faiss]:  75%|███████▌  | 1615/2152 [00:09<00:02, 206.53it/s]\u001b[A\n",
      "Embeddings-NN Block Building [sminilm, faiss]:  76%|███████▌  | 1637/2152 [00:09<00:02, 198.02it/s]\u001b[A\n",
      "Embeddings-NN Block Building [sminilm, faiss]:  77%|███████▋  | 1658/2152 [00:09<00:02, 192.07it/s]\u001b[A\n",
      "Embeddings-NN Block Building [sminilm, faiss]:  78%|███████▊  | 1678/2152 [00:09<00:02, 187.42it/s]\u001b[A\n",
      "Embeddings-NN Block Building [sminilm, faiss]:  79%|███████▉  | 1697/2152 [00:09<00:02, 184.84it/s]\u001b[A\n",
      "Embeddings-NN Block Building [sminilm, faiss]:  80%|███████▉  | 1716/2152 [00:09<00:02, 182.14it/s]\u001b[A\n",
      "Embeddings-NN Block Building [sminilm, faiss]:  81%|████████  | 1735/2152 [00:09<00:02, 180.11it/s]\u001b[A\n",
      "Embeddings-NN Block Building [sminilm, faiss]:  82%|████████▏ | 1754/2152 [00:09<00:02, 179.22it/s]\u001b[A\n",
      "Embeddings-NN Block Building [sminilm, faiss]:  82%|████████▏ | 1772/2152 [00:10<00:02, 179.14it/s]\u001b[A\n",
      "Embeddings-NN Block Building [sminilm, faiss]:  83%|████████▎ | 1790/2152 [00:10<00:02, 165.69it/s]\u001b[A\n",
      "Embeddings-NN Block Building [sminilm, faiss]:  84%|████████▍ | 1807/2152 [00:10<00:02, 157.73it/s]\u001b[A\n",
      "Embeddings-NN Block Building [sminilm, faiss]:  85%|████████▍ | 1823/2152 [00:10<00:02, 158.04it/s]\u001b[A\n",
      "Embeddings-NN Block Building [sminilm, faiss]:  86%|████████▌ | 1840/2152 [00:10<00:01, 161.13it/s]\u001b[A\n",
      "Embeddings-NN Block Building [sminilm, faiss]:  86%|████████▋ | 1859/2152 [00:10<00:01, 167.14it/s]\u001b[A\n",
      "Embeddings-NN Block Building [sminilm, faiss]:  87%|████████▋ | 1879/2152 [00:10<00:01, 174.07it/s]\u001b[A\n",
      "Embeddings-NN Block Building [sminilm, faiss]:  88%|████████▊ | 1897/2152 [00:10<00:01, 170.13it/s]\u001b[A\n",
      "Embeddings-NN Block Building [sminilm, faiss]:  89%|████████▉ | 1915/2152 [00:10<00:01, 169.63it/s]\u001b[A\n",
      "Embeddings-NN Block Building [sminilm, faiss]:  90%|████████▉ | 1934/2152 [00:11<00:01, 174.45it/s]\u001b[A\n",
      "Embeddings-NN Block Building [sminilm, faiss]:  91%|█████████ | 1953/2152 [00:11<00:01, 176.23it/s]\u001b[A\n",
      "Embeddings-NN Block Building [sminilm, faiss]:  92%|█████████▏| 1972/2152 [00:11<00:01, 179.79it/s]\u001b[A\n",
      "Embeddings-NN Block Building [sminilm, faiss]:  93%|█████████▎| 1991/2152 [00:11<00:00, 177.47it/s]\u001b[A\n",
      "Embeddings-NN Block Building [sminilm, faiss]:  93%|█████████▎| 2009/2152 [00:11<00:00, 176.32it/s]\u001b[A\n",
      "Embeddings-NN Block Building [sminilm, faiss]:  94%|█████████▍| 2028/2152 [00:11<00:00, 177.80it/s]\u001b[A\n",
      "Embeddings-NN Block Building [sminilm, faiss]:  95%|█████████▌| 2048/2152 [00:11<00:00, 184.13it/s]\u001b[A\n",
      "Embeddings-NN Block Building [sminilm, faiss]:  96%|█████████▌| 2067/2152 [00:11<00:00, 178.49it/s]\u001b[A\n",
      "Embeddings-NN Block Building [sminilm, faiss]:  97%|█████████▋| 2085/2152 [00:11<00:00, 178.59it/s]\u001b[A\n",
      "Embeddings-NN Block Building [sminilm, faiss]:  98%|█████████▊| 2103/2152 [00:12<00:00, 178.62it/s]\u001b[A\n",
      "Embeddings-NN Block Building [sminilm, faiss]:  99%|█████████▊| 2124/2152 [00:12<00:00, 185.44it/s]\u001b[A\n",
      "Embeddings-NN Block Building [sminilm, faiss]: 100%|██████████| 2152/2152 [00:12<00:00, 172.76it/s]\u001b[A\n",
      "Embeddings NN Blocking Based Progressive Matching: 0it [00:12, ?it/s]\n"
     ]
    },
    {
     "name": "stdout",
     "output_type": "stream",
     "text": [
      "algorithm : HB\n",
      "number_of_nearest_neighbors : 10\n",
      "indexing : inorder\n",
      "language_model : sminilm\n",
      "total_candidates : 1076\n",
      "total_emissions : 1076\n",
      "time : 12.514333486557007\n",
      "name : 08df599b-de5f-47d5-bbff-29ef1df1d79d\n",
      "true_positives : 681\n",
      "dataset : D100\n",
      "matcher : EmbeddingsNNBPM\n",
      "#### WORKFLOW 4/8 ####\n",
      "{'language_model': 'sminilm', 'number_of_nearest_neighbors': 10}\n",
      "{'budget': 1076, 'algorithm': 'HB', 'indexing': 'reverse'}\n"
     ]
    },
    {
     "name": "stderr",
     "output_type": "stream",
     "text": [
      "Embeddings NN Blocking Based Progressive Matching: 0it [00:00, ?it/s]"
     ]
    },
    {
     "name": "stdout",
     "output_type": "stream",
     "text": [
      "Building blocks via Embeddings-NN Block Building [sminilm, faiss]\n"
     ]
    },
    {
     "name": "stderr",
     "output_type": "stream",
     "text": [
      "\n",
      "Embeddings-NN Block Building [sminilm, faiss]:   0%|          | 0/2152 [00:00<?, ?it/s]\u001b[A"
     ]
    },
    {
     "name": "stdout",
     "output_type": "stream",
     "text": [
      "Device selected:  cuda\n"
     ]
    },
    {
     "name": "stderr",
     "output_type": "stream",
     "text": [
      "\n",
      "Embeddings-NN Block Building [sminilm, faiss]:   0%|          | 1/2152 [00:00<33:36,  1.07it/s]\u001b[A\n",
      "Embeddings-NN Block Building [sminilm, faiss]:   1%|▏         | 27/2152 [00:01<01:00, 35.14it/s]\u001b[A\n",
      "Embeddings-NN Block Building [sminilm, faiss]:   2%|▏         | 53/2152 [00:01<00:29, 70.61it/s]\u001b[A\n",
      "Embeddings-NN Block Building [sminilm, faiss]:   4%|▎         | 80/2152 [00:01<00:19, 106.75it/s]\u001b[A\n",
      "Embeddings-NN Block Building [sminilm, faiss]:   5%|▍         | 107/2152 [00:01<00:14, 139.79it/s]\u001b[A\n",
      "Embeddings-NN Block Building [sminilm, faiss]:   6%|▌         | 133/2152 [00:01<00:12, 166.74it/s]\u001b[A\n",
      "Embeddings-NN Block Building [sminilm, faiss]:   7%|▋         | 159/2152 [00:01<00:10, 189.26it/s]\u001b[A\n",
      "Embeddings-NN Block Building [sminilm, faiss]:   9%|▊         | 186/2152 [00:01<00:09, 208.06it/s]\u001b[A\n",
      "Embeddings-NN Block Building [sminilm, faiss]:  10%|▉         | 212/2152 [00:01<00:08, 220.79it/s]\u001b[A\n",
      "Embeddings-NN Block Building [sminilm, faiss]:  11%|█         | 238/2152 [00:01<00:08, 230.31it/s]\u001b[A\n",
      "Embeddings-NN Block Building [sminilm, faiss]:  12%|█▏        | 264/2152 [00:01<00:07, 236.87it/s]\u001b[A\n",
      "Embeddings-NN Block Building [sminilm, faiss]:  13%|█▎        | 290/2152 [00:02<00:07, 242.20it/s]\u001b[A\n",
      "Embeddings-NN Block Building [sminilm, faiss]:  15%|█▍        | 316/2152 [00:02<00:08, 220.60it/s]\u001b[A\n",
      "Embeddings-NN Block Building [sminilm, faiss]:  16%|█▌        | 340/2152 [00:02<00:08, 208.64it/s]\u001b[A\n",
      "Embeddings-NN Block Building [sminilm, faiss]:  17%|█▋        | 362/2152 [00:02<00:09, 194.36it/s]\u001b[A\n",
      "Embeddings-NN Block Building [sminilm, faiss]:  18%|█▊        | 383/2152 [00:02<00:09, 189.20it/s]\u001b[A\n",
      "Embeddings-NN Block Building [sminilm, faiss]:  19%|█▊        | 403/2152 [00:02<00:09, 187.14it/s]\u001b[A\n",
      "Embeddings-NN Block Building [sminilm, faiss]:  20%|█▉        | 423/2152 [00:02<00:09, 185.13it/s]\u001b[A\n",
      "Embeddings-NN Block Building [sminilm, faiss]:  21%|██        | 442/2152 [00:02<00:09, 182.75it/s]\u001b[A\n",
      "Embeddings-NN Block Building [sminilm, faiss]:  21%|██▏       | 461/2152 [00:03<00:09, 180.51it/s]\u001b[A\n",
      "Embeddings-NN Block Building [sminilm, faiss]:  22%|██▏       | 480/2152 [00:03<00:09, 179.94it/s]\u001b[A\n",
      "Embeddings-NN Block Building [sminilm, faiss]:  23%|██▎       | 499/2152 [00:03<00:09, 178.08it/s]\u001b[A\n",
      "Embeddings-NN Block Building [sminilm, faiss]:  24%|██▍       | 517/2152 [00:03<00:09, 169.86it/s]\u001b[A\n",
      "Embeddings-NN Block Building [sminilm, faiss]:  25%|██▍       | 535/2152 [00:03<00:09, 167.26it/s]\u001b[A\n",
      "Embeddings-NN Block Building [sminilm, faiss]:  26%|██▌       | 553/2152 [00:03<00:09, 170.29it/s]\u001b[A\n",
      "Embeddings-NN Block Building [sminilm, faiss]:  27%|██▋       | 571/2152 [00:03<00:09, 169.00it/s]\u001b[A\n",
      "Embeddings-NN Block Building [sminilm, faiss]:  27%|██▋       | 588/2152 [00:03<00:09, 164.81it/s]\u001b[A\n",
      "Embeddings-NN Block Building [sminilm, faiss]:  28%|██▊       | 605/2152 [00:03<00:09, 161.81it/s]\u001b[A\n",
      "Embeddings-NN Block Building [sminilm, faiss]:  29%|██▉       | 623/2152 [00:04<00:09, 164.25it/s]\u001b[A\n",
      "Embeddings-NN Block Building [sminilm, faiss]:  30%|██▉       | 640/2152 [00:04<00:09, 164.00it/s]\u001b[A\n",
      "Embeddings-NN Block Building [sminilm, faiss]:  31%|███       | 657/2152 [00:04<00:09, 162.60it/s]\u001b[A\n",
      "Embeddings-NN Block Building [sminilm, faiss]:  31%|███▏      | 674/2152 [00:04<00:09, 160.38it/s]\u001b[A\n",
      "Embeddings-NN Block Building [sminilm, faiss]:  32%|███▏      | 691/2152 [00:04<00:09, 162.05it/s]\u001b[A\n",
      "Embeddings-NN Block Building [sminilm, faiss]:  33%|███▎      | 708/2152 [00:04<00:11, 124.44it/s]\u001b[A\n",
      "Embeddings-NN Block Building [sminilm, faiss]:  34%|███▎      | 722/2152 [00:04<00:13, 106.52it/s]\u001b[A\n",
      "Embeddings-NN Block Building [sminilm, faiss]:  34%|███▍      | 737/2152 [00:04<00:12, 115.09it/s]\u001b[A\n",
      "Embeddings-NN Block Building [sminilm, faiss]:  35%|███▍      | 753/2152 [00:05<00:11, 124.78it/s]\u001b[A\n",
      "Embeddings-NN Block Building [sminilm, faiss]:  36%|███▌      | 769/2152 [00:05<00:10, 132.67it/s]\u001b[A\n",
      "Embeddings-NN Block Building [sminilm, faiss]:  36%|███▋      | 785/2152 [00:05<00:09, 138.53it/s]\u001b[A\n",
      "Embeddings-NN Block Building [sminilm, faiss]:  37%|███▋      | 801/2152 [00:05<00:09, 142.26it/s]\u001b[A\n",
      "Embeddings-NN Block Building [sminilm, faiss]:  38%|███▊      | 817/2152 [00:05<00:09, 144.77it/s]\u001b[A\n",
      "Embeddings-NN Block Building [sminilm, faiss]:  39%|███▊      | 833/2152 [00:05<00:08, 147.32it/s]\u001b[A\n",
      "Embeddings-NN Block Building [sminilm, faiss]:  39%|███▉      | 849/2152 [00:05<00:08, 149.42it/s]\u001b[A\n",
      "Embeddings-NN Block Building [sminilm, faiss]:  40%|████      | 865/2152 [00:05<00:08, 150.37it/s]\u001b[A\n",
      "Embeddings-NN Block Building [sminilm, faiss]:  41%|████      | 881/2152 [00:05<00:08, 151.68it/s]\u001b[A\n",
      "Embeddings-NN Block Building [sminilm, faiss]:  42%|████▏     | 897/2152 [00:05<00:08, 153.36it/s]\u001b[A\n",
      "Embeddings-NN Block Building [sminilm, faiss]:  42%|████▏     | 913/2152 [00:06<00:08, 153.27it/s]\u001b[A\n",
      "Embeddings-NN Block Building [sminilm, faiss]:  43%|████▎     | 929/2152 [00:06<00:07, 153.90it/s]\u001b[A\n",
      "Embeddings-NN Block Building [sminilm, faiss]:  44%|████▍     | 945/2152 [00:06<00:07, 153.91it/s]\u001b[A\n",
      "Embeddings-NN Block Building [sminilm, faiss]:  45%|████▍     | 961/2152 [00:06<00:07, 151.14it/s]\u001b[A\n",
      "Embeddings-NN Block Building [sminilm, faiss]:  45%|████▌     | 977/2152 [00:06<00:07, 150.72it/s]\u001b[A\n",
      "Embeddings-NN Block Building [sminilm, faiss]:  46%|████▌     | 993/2152 [00:06<00:07, 153.02it/s]\u001b[A\n",
      "Embeddings-NN Block Building [sminilm, faiss]:  47%|████▋     | 1010/2152 [00:06<00:07, 155.81it/s]\u001b[A\n",
      "Embeddings-NN Block Building [sminilm, faiss]:  48%|████▊     | 1027/2152 [00:06<00:07, 158.22it/s]\u001b[A\n",
      "Embeddings-NN Block Building [sminilm, faiss]:  49%|████▊     | 1044/2152 [00:06<00:06, 160.15it/s]\u001b[A\n",
      "Embeddings-NN Block Building [sminilm, faiss]:  49%|████▉     | 1061/2152 [00:07<00:06, 161.73it/s]\u001b[A\n",
      "Embeddings-NN Block Building [sminilm, faiss]:  50%|█████     | 1078/2152 [00:07<00:06, 158.55it/s]\u001b[A\n",
      "Embeddings-NN Block Building [sminilm, faiss]:  51%|█████     | 1094/2152 [00:07<00:06, 157.84it/s]\u001b[A\n",
      "Embeddings-NN Block Building [sminilm, faiss]:  52%|█████▏    | 1111/2152 [00:07<00:06, 158.72it/s]\u001b[A\n",
      "Embeddings-NN Block Building [sminilm, faiss]:  52%|█████▏    | 1128/2152 [00:07<00:06, 159.13it/s]\u001b[A\n",
      "Embeddings-NN Block Building [sminilm, faiss]:  53%|█████▎    | 1144/2152 [00:07<00:06, 154.92it/s]\u001b[A\n",
      "Embeddings-NN Block Building [sminilm, faiss]:  54%|█████▍    | 1160/2152 [00:07<00:06, 151.86it/s]\u001b[A\n",
      "Embeddings-NN Block Building [sminilm, faiss]:  55%|█████▍    | 1176/2152 [00:07<00:06, 150.02it/s]\u001b[A\n",
      "Embeddings-NN Block Building [sminilm, faiss]:  55%|█████▌    | 1192/2152 [00:07<00:06, 145.57it/s]\u001b[A\n",
      "Embeddings-NN Block Building [sminilm, faiss]:  56%|█████▌    | 1207/2152 [00:08<00:07, 120.63it/s]\u001b[A\n",
      "Embeddings-NN Block Building [sminilm, faiss]:  57%|█████▋    | 1220/2152 [00:08<00:08, 110.83it/s]\u001b[A\n",
      "Embeddings-NN Block Building [sminilm, faiss]:  57%|█████▋    | 1232/2152 [00:08<00:09, 94.17it/s] \u001b[A\n",
      "Embeddings-NN Block Building [sminilm, faiss]:  58%|█████▊    | 1243/2152 [00:08<00:10, 86.56it/s]\u001b[A\n",
      "Embeddings-NN Block Building [sminilm, faiss]:  58%|█████▊    | 1253/2152 [00:08<00:10, 82.68it/s]\u001b[A\n",
      "Embeddings-NN Block Building [sminilm, faiss]:  59%|█████▉    | 1268/2152 [00:08<00:09, 97.78it/s]\u001b[A\n",
      "Embeddings-NN Block Building [sminilm, faiss]:  60%|█████▉    | 1282/2152 [00:08<00:08, 107.20it/s]\u001b[A\n",
      "Embeddings-NN Block Building [sminilm, faiss]:  60%|██████    | 1301/2152 [00:08<00:06, 127.80it/s]\u001b[A\n",
      "Embeddings-NN Block Building [sminilm, faiss]:  61%|██████    | 1318/2152 [00:09<00:06, 138.76it/s]\u001b[A\n",
      "Embeddings-NN Block Building [sminilm, faiss]:  62%|██████▏   | 1338/2152 [00:09<00:05, 154.25it/s]\u001b[A\n",
      "Embeddings-NN Block Building [sminilm, faiss]:  63%|██████▎   | 1358/2152 [00:09<00:04, 166.55it/s]\u001b[A\n",
      "Embeddings-NN Block Building [sminilm, faiss]:  64%|██████▍   | 1379/2152 [00:09<00:04, 176.75it/s]\u001b[A\n",
      "Embeddings-NN Block Building [sminilm, faiss]:  65%|██████▌   | 1400/2152 [00:09<00:04, 184.38it/s]\u001b[A\n",
      "Embeddings-NN Block Building [sminilm, faiss]:  66%|██████▌   | 1421/2152 [00:09<00:03, 190.05it/s]\u001b[A\n",
      "Embeddings-NN Block Building [sminilm, faiss]:  67%|██████▋   | 1441/2152 [00:09<00:03, 192.50it/s]\u001b[A\n",
      "Embeddings-NN Block Building [sminilm, faiss]:  68%|██████▊   | 1461/2152 [00:09<00:03, 193.03it/s]\u001b[A\n",
      "Embeddings-NN Block Building [sminilm, faiss]:  69%|██████▉   | 1481/2152 [00:09<00:03, 194.81it/s]\u001b[A\n",
      "Embeddings-NN Block Building [sminilm, faiss]:  70%|██████▉   | 1501/2152 [00:10<00:03, 196.07it/s]\u001b[A\n",
      "Embeddings-NN Block Building [sminilm, faiss]:  71%|███████   | 1521/2152 [00:10<00:03, 196.96it/s]\u001b[A\n",
      "Embeddings-NN Block Building [sminilm, faiss]:  72%|███████▏  | 1543/2152 [00:10<00:02, 203.53it/s]\u001b[A\n",
      "Embeddings-NN Block Building [sminilm, faiss]:  73%|███████▎  | 1566/2152 [00:10<00:02, 208.78it/s]\u001b[A\n",
      "Embeddings-NN Block Building [sminilm, faiss]:  74%|███████▎  | 1587/2152 [00:10<00:02, 195.49it/s]\u001b[A\n",
      "Embeddings-NN Block Building [sminilm, faiss]:  75%|███████▍  | 1607/2152 [00:10<00:02, 195.72it/s]\u001b[A\n",
      "Embeddings-NN Block Building [sminilm, faiss]:  76%|███████▌  | 1627/2152 [00:10<00:02, 182.41it/s]\u001b[A\n",
      "Embeddings-NN Block Building [sminilm, faiss]:  77%|███████▋  | 1647/2152 [00:10<00:02, 185.47it/s]\u001b[A\n",
      "Embeddings-NN Block Building [sminilm, faiss]:  77%|███████▋  | 1667/2152 [00:10<00:02, 187.44it/s]\u001b[A\n",
      "Embeddings-NN Block Building [sminilm, faiss]:  78%|███████▊  | 1687/2152 [00:10<00:02, 189.78it/s]\u001b[A\n",
      "Embeddings-NN Block Building [sminilm, faiss]:  79%|███████▉  | 1708/2152 [00:11<00:02, 195.00it/s]\u001b[A\n",
      "Embeddings-NN Block Building [sminilm, faiss]:  80%|████████  | 1730/2152 [00:11<00:02, 201.39it/s]\u001b[A\n",
      "Embeddings-NN Block Building [sminilm, faiss]:  81%|████████▏ | 1752/2152 [00:11<00:01, 205.57it/s]\u001b[A\n",
      "Embeddings-NN Block Building [sminilm, faiss]:  82%|████████▏ | 1773/2152 [00:11<00:01, 204.25it/s]\u001b[A\n",
      "Embeddings-NN Block Building [sminilm, faiss]:  83%|████████▎ | 1794/2152 [00:11<00:01, 201.55it/s]\u001b[A\n",
      "Embeddings-NN Block Building [sminilm, faiss]:  84%|████████▍ | 1815/2152 [00:11<00:01, 199.79it/s]\u001b[A\n",
      "Embeddings-NN Block Building [sminilm, faiss]:  85%|████████▌ | 1836/2152 [00:11<00:01, 197.29it/s]\u001b[A\n",
      "Embeddings-NN Block Building [sminilm, faiss]:  86%|████████▌ | 1856/2152 [00:11<00:01, 196.16it/s]\u001b[A\n",
      "Embeddings-NN Block Building [sminilm, faiss]:  87%|████████▋ | 1876/2152 [00:11<00:01, 196.18it/s]\u001b[A\n",
      "Embeddings-NN Block Building [sminilm, faiss]:  88%|████████▊ | 1896/2152 [00:12<00:01, 193.87it/s]\u001b[A\n",
      "Embeddings-NN Block Building [sminilm, faiss]:  89%|████████▉ | 1916/2152 [00:12<00:01, 192.65it/s]\u001b[A\n",
      "Embeddings-NN Block Building [sminilm, faiss]:  90%|████████▉ | 1936/2152 [00:12<00:01, 190.90it/s]\u001b[A\n",
      "Embeddings-NN Block Building [sminilm, faiss]:  91%|█████████ | 1956/2152 [00:12<00:01, 190.97it/s]\u001b[A\n",
      "Embeddings-NN Block Building [sminilm, faiss]:  92%|█████████▏| 1976/2152 [00:12<00:00, 188.39it/s]\u001b[A\n",
      "Embeddings-NN Block Building [sminilm, faiss]:  93%|█████████▎| 1995/2152 [00:12<00:00, 170.10it/s]\u001b[A\n",
      "Embeddings-NN Block Building [sminilm, faiss]:  94%|█████████▎| 2013/2152 [00:12<00:00, 159.73it/s]\u001b[A\n",
      "Embeddings-NN Block Building [sminilm, faiss]:  94%|█████████▍| 2030/2152 [00:12<00:00, 158.32it/s]\u001b[A\n",
      "Embeddings-NN Block Building [sminilm, faiss]:  95%|█████████▌| 2047/2152 [00:12<00:00, 158.04it/s]\u001b[A\n",
      "Embeddings-NN Block Building [sminilm, faiss]:  96%|█████████▌| 2063/2152 [00:13<00:00, 157.42it/s]\u001b[A\n",
      "Embeddings-NN Block Building [sminilm, faiss]:  97%|█████████▋| 2079/2152 [00:13<00:00, 155.62it/s]\u001b[A\n",
      "Embeddings-NN Block Building [sminilm, faiss]:  97%|█████████▋| 2095/2152 [00:13<00:00, 154.95it/s]\u001b[A\n",
      "Embeddings-NN Block Building [sminilm, faiss]:  98%|█████████▊| 2111/2152 [00:13<00:00, 154.41it/s]\u001b[A\n",
      "Embeddings-NN Block Building [sminilm, faiss]:  99%|█████████▉| 2127/2152 [00:13<00:00, 153.33it/s]\u001b[A\n",
      "Embeddings-NN Block Building [sminilm, faiss]: 100%|██████████| 2152/2152 [00:13<00:00, 155.30it/s]\u001b[A\n",
      "Embeddings NN Blocking Based Progressive Matching: 0it [00:13, ?it/s]\n"
     ]
    },
    {
     "name": "stdout",
     "output_type": "stream",
     "text": [
      "algorithm : HB\n",
      "number_of_nearest_neighbors : 10\n",
      "indexing : reverse\n",
      "language_model : sminilm\n",
      "total_candidates : 1076\n",
      "total_emissions : 1076\n",
      "time : 13.998786687850952\n",
      "name : f4716024-d72c-4819-a9c8-6e99dc856ad1\n",
      "true_positives : 709\n",
      "dataset : D100\n",
      "matcher : EmbeddingsNNBPM\n",
      "#### WORKFLOW 5/8 ####\n",
      "{'language_model': 'sminilm', 'number_of_nearest_neighbors': 2}\n",
      "{'budget': 2152, 'algorithm': 'HB', 'indexing': 'inorder'}\n"
     ]
    },
    {
     "name": "stderr",
     "output_type": "stream",
     "text": [
      "Embeddings NN Blocking Based Progressive Matching: 0it [00:00, ?it/s]"
     ]
    },
    {
     "name": "stdout",
     "output_type": "stream",
     "text": [
      "Building blocks via Embeddings-NN Block Building [sminilm, faiss]\n"
     ]
    },
    {
     "name": "stderr",
     "output_type": "stream",
     "text": [
      "\n",
      "Embeddings-NN Block Building [sminilm, faiss]:   0%|          | 0/2152 [00:00<?, ?it/s]\u001b[A"
     ]
    },
    {
     "name": "stdout",
     "output_type": "stream",
     "text": [
      "Device selected:  cuda\n"
     ]
    },
    {
     "name": "stderr",
     "output_type": "stream",
     "text": [
      "\n",
      "Embeddings-NN Block Building [sminilm, faiss]:   0%|          | 1/2152 [00:00<29:24,  1.22it/s]\u001b[A\n",
      "Embeddings-NN Block Building [sminilm, faiss]:   1%|          | 16/2152 [00:00<01:32, 23.20it/s]\u001b[A\n",
      "Embeddings-NN Block Building [sminilm, faiss]:   1%|▏         | 29/2152 [00:01<00:50, 41.70it/s]\u001b[A\n",
      "Embeddings-NN Block Building [sminilm, faiss]:   2%|▏         | 42/2152 [00:01<00:35, 59.00it/s]\u001b[A\n",
      "Embeddings-NN Block Building [sminilm, faiss]:   3%|▎         | 56/2152 [00:01<00:27, 75.81it/s]\u001b[A\n",
      "Embeddings-NN Block Building [sminilm, faiss]:   3%|▎         | 69/2152 [00:01<00:23, 87.47it/s]\u001b[A\n",
      "Embeddings-NN Block Building [sminilm, faiss]:   4%|▍         | 82/2152 [00:01<00:21, 97.28it/s]\u001b[A\n",
      "Embeddings-NN Block Building [sminilm, faiss]:   4%|▍         | 95/2152 [00:01<00:19, 104.72it/s]\u001b[A\n",
      "Embeddings-NN Block Building [sminilm, faiss]:   5%|▌         | 108/2152 [00:01<00:18, 110.92it/s]\u001b[A\n",
      "Embeddings-NN Block Building [sminilm, faiss]:   6%|▌         | 121/2152 [00:01<00:17, 114.88it/s]\u001b[A\n",
      "Embeddings-NN Block Building [sminilm, faiss]:   6%|▌         | 134/2152 [00:01<00:17, 117.87it/s]\u001b[A\n",
      "Embeddings-NN Block Building [sminilm, faiss]:   7%|▋         | 147/2152 [00:01<00:16, 120.25it/s]\u001b[A\n",
      "Embeddings-NN Block Building [sminilm, faiss]:   7%|▋         | 160/2152 [00:02<00:16, 121.84it/s]\u001b[A\n",
      "Embeddings-NN Block Building [sminilm, faiss]:   8%|▊         | 173/2152 [00:02<00:16, 122.24it/s]\u001b[A\n",
      "Embeddings-NN Block Building [sminilm, faiss]:   9%|▊         | 186/2152 [00:02<00:15, 123.03it/s]\u001b[A\n",
      "Embeddings-NN Block Building [sminilm, faiss]:   9%|▉         | 199/2152 [00:02<00:15, 122.86it/s]\u001b[A\n",
      "Embeddings-NN Block Building [sminilm, faiss]:  10%|▉         | 212/2152 [00:02<00:15, 123.50it/s]\u001b[A\n",
      "Embeddings-NN Block Building [sminilm, faiss]:  10%|█         | 225/2152 [00:02<00:15, 123.84it/s]\u001b[A\n",
      "Embeddings-NN Block Building [sminilm, faiss]:  11%|█         | 238/2152 [00:02<00:15, 124.36it/s]\u001b[A\n",
      "Embeddings-NN Block Building [sminilm, faiss]:  12%|█▏        | 252/2152 [00:02<00:15, 126.58it/s]\u001b[A\n",
      "Embeddings-NN Block Building [sminilm, faiss]:  12%|█▏        | 267/2152 [00:02<00:14, 132.74it/s]\u001b[A\n",
      "Embeddings-NN Block Building [sminilm, faiss]:  13%|█▎        | 283/2152 [00:03<00:13, 138.33it/s]\u001b[A\n",
      "Embeddings-NN Block Building [sminilm, faiss]:  14%|█▍        | 297/2152 [00:03<00:13, 137.97it/s]\u001b[A\n",
      "Embeddings-NN Block Building [sminilm, faiss]:  14%|█▍        | 311/2152 [00:03<00:13, 137.79it/s]\u001b[A\n",
      "Embeddings-NN Block Building [sminilm, faiss]:  15%|█▌        | 325/2152 [00:03<00:13, 132.86it/s]\u001b[A\n",
      "Embeddings-NN Block Building [sminilm, faiss]:  16%|█▌        | 339/2152 [00:03<00:13, 133.84it/s]\u001b[A\n",
      "Embeddings-NN Block Building [sminilm, faiss]:  16%|█▋        | 353/2152 [00:03<00:13, 135.13it/s]\u001b[A\n",
      "Embeddings-NN Block Building [sminilm, faiss]:  17%|█▋        | 368/2152 [00:03<00:12, 139.04it/s]\u001b[A\n",
      "Embeddings-NN Block Building [sminilm, faiss]:  18%|█▊        | 382/2152 [00:03<00:12, 139.07it/s]\u001b[A\n",
      "Embeddings-NN Block Building [sminilm, faiss]:  18%|█▊        | 397/2152 [00:03<00:12, 140.86it/s]\u001b[A\n",
      "Embeddings-NN Block Building [sminilm, faiss]:  19%|█▉        | 412/2152 [00:03<00:12, 143.21it/s]\u001b[A\n",
      "Embeddings-NN Block Building [sminilm, faiss]:  20%|█▉        | 427/2152 [00:04<00:12, 143.42it/s]\u001b[A\n",
      "Embeddings-NN Block Building [sminilm, faiss]:  21%|██        | 442/2152 [00:04<00:13, 126.45it/s]\u001b[A\n",
      "Embeddings-NN Block Building [sminilm, faiss]:  21%|██        | 456/2152 [00:04<00:13, 126.18it/s]\u001b[A\n",
      "Embeddings-NN Block Building [sminilm, faiss]:  22%|██▏       | 470/2152 [00:04<00:13, 129.30it/s]\u001b[A\n",
      "Embeddings-NN Block Building [sminilm, faiss]:  23%|██▎       | 486/2152 [00:04<00:12, 135.52it/s]\u001b[A\n",
      "Embeddings-NN Block Building [sminilm, faiss]:  23%|██▎       | 502/2152 [00:04<00:11, 140.01it/s]\u001b[A\n",
      "Embeddings-NN Block Building [sminilm, faiss]:  24%|██▍       | 518/2152 [00:04<00:11, 143.70it/s]\u001b[A\n",
      "Embeddings-NN Block Building [sminilm, faiss]:  25%|██▍       | 534/2152 [00:04<00:11, 146.21it/s]\u001b[A\n",
      "Embeddings-NN Block Building [sminilm, faiss]:  26%|██▌       | 550/2152 [00:04<00:10, 147.35it/s]\u001b[A\n",
      "Embeddings-NN Block Building [sminilm, faiss]:  26%|██▋       | 565/2152 [00:05<00:10, 146.53it/s]\u001b[A\n",
      "Embeddings-NN Block Building [sminilm, faiss]:  27%|██▋       | 581/2152 [00:05<00:10, 147.81it/s]\u001b[A\n",
      "Embeddings-NN Block Building [sminilm, faiss]:  28%|██▊       | 597/2152 [00:05<00:10, 149.58it/s]\u001b[A\n",
      "Embeddings-NN Block Building [sminilm, faiss]:  28%|██▊       | 613/2152 [00:05<00:10, 150.82it/s]\u001b[A\n",
      "Embeddings-NN Block Building [sminilm, faiss]:  29%|██▉       | 629/2152 [00:05<00:10, 146.89it/s]\u001b[A\n",
      "Embeddings-NN Block Building [sminilm, faiss]:  30%|██▉       | 644/2152 [00:05<00:10, 145.14it/s]\u001b[A\n",
      "Embeddings-NN Block Building [sminilm, faiss]:  31%|███       | 659/2152 [00:05<00:10, 145.81it/s]\u001b[A\n",
      "Embeddings-NN Block Building [sminilm, faiss]:  31%|███▏      | 675/2152 [00:05<00:09, 148.30it/s]\u001b[A\n",
      "Embeddings-NN Block Building [sminilm, faiss]:  32%|███▏      | 691/2152 [00:05<00:09, 149.57it/s]\u001b[A\n",
      "Embeddings-NN Block Building [sminilm, faiss]:  33%|███▎      | 707/2152 [00:05<00:09, 149.97it/s]\u001b[A\n",
      "Embeddings-NN Block Building [sminilm, faiss]:  34%|███▎      | 723/2152 [00:06<00:09, 150.87it/s]\u001b[A\n",
      "Embeddings-NN Block Building [sminilm, faiss]:  34%|███▍      | 739/2152 [00:06<00:09, 151.05it/s]\u001b[A\n",
      "Embeddings-NN Block Building [sminilm, faiss]:  35%|███▌      | 755/2152 [00:06<00:09, 150.68it/s]\u001b[A\n",
      "Embeddings-NN Block Building [sminilm, faiss]:  36%|███▌      | 771/2152 [00:06<00:09, 150.94it/s]\u001b[A\n",
      "Embeddings-NN Block Building [sminilm, faiss]:  37%|███▋      | 787/2152 [00:06<00:09, 151.08it/s]\u001b[A\n",
      "Embeddings-NN Block Building [sminilm, faiss]:  37%|███▋      | 803/2152 [00:06<00:08, 150.76it/s]\u001b[A\n",
      "Embeddings-NN Block Building [sminilm, faiss]:  38%|███▊      | 819/2152 [00:06<00:08, 150.11it/s]\u001b[A\n",
      "Embeddings-NN Block Building [sminilm, faiss]:  39%|███▉      | 835/2152 [00:06<00:08, 148.55it/s]\u001b[A\n",
      "Embeddings-NN Block Building [sminilm, faiss]:  39%|███▉      | 850/2152 [00:06<00:08, 147.97it/s]\u001b[A\n",
      "Embeddings-NN Block Building [sminilm, faiss]:  40%|████      | 865/2152 [00:07<00:08, 146.69it/s]\u001b[A\n",
      "Embeddings-NN Block Building [sminilm, faiss]:  41%|████      | 880/2152 [00:07<00:09, 137.30it/s]\u001b[A\n",
      "Embeddings-NN Block Building [sminilm, faiss]:  42%|████▏     | 894/2152 [00:07<00:09, 126.61it/s]\u001b[A\n",
      "Embeddings-NN Block Building [sminilm, faiss]:  42%|████▏     | 914/2152 [00:07<00:08, 145.59it/s]\u001b[A\n",
      "Embeddings-NN Block Building [sminilm, faiss]:  43%|████▎     | 936/2152 [00:07<00:07, 163.48it/s]\u001b[A\n",
      "Embeddings-NN Block Building [sminilm, faiss]:  44%|████▍     | 953/2152 [00:07<00:07, 159.78it/s]\u001b[A\n",
      "Embeddings-NN Block Building [sminilm, faiss]:  45%|████▌     | 970/2152 [00:07<00:07, 154.50it/s]\u001b[A\n",
      "Embeddings-NN Block Building [sminilm, faiss]:  46%|████▌     | 986/2152 [00:07<00:07, 154.14it/s]\u001b[A\n",
      "Embeddings-NN Block Building [sminilm, faiss]:  47%|████▋     | 1003/2152 [00:07<00:07, 158.27it/s]\u001b[A\n",
      "Embeddings-NN Block Building [sminilm, faiss]:  47%|████▋     | 1020/2152 [00:08<00:07, 160.08it/s]\u001b[A\n",
      "Embeddings-NN Block Building [sminilm, faiss]:  48%|████▊     | 1037/2152 [00:08<00:06, 160.03it/s]\u001b[A\n",
      "Embeddings-NN Block Building [sminilm, faiss]:  49%|████▉     | 1054/2152 [00:08<00:06, 160.01it/s]\u001b[A\n",
      "Embeddings-NN Block Building [sminilm, faiss]:  50%|████▉     | 1071/2152 [00:08<00:06, 156.14it/s]\u001b[A\n",
      "Embeddings-NN Block Building [sminilm, faiss]:  51%|█████     | 1087/2152 [00:08<00:06, 157.05it/s]\u001b[A\n",
      "Embeddings-NN Block Building [sminilm, faiss]:  51%|█████▏    | 1105/2152 [00:08<00:06, 162.56it/s]\u001b[A\n",
      "Embeddings-NN Block Building [sminilm, faiss]:  52%|█████▏    | 1123/2152 [00:08<00:06, 166.59it/s]\u001b[A\n",
      "Embeddings-NN Block Building [sminilm, faiss]:  53%|█████▎    | 1141/2152 [00:08<00:05, 169.13it/s]\u001b[A\n",
      "Embeddings-NN Block Building [sminilm, faiss]:  54%|█████▍    | 1159/2152 [00:08<00:05, 170.66it/s]\u001b[A\n",
      "Embeddings-NN Block Building [sminilm, faiss]:  55%|█████▍    | 1177/2152 [00:08<00:05, 171.21it/s]\u001b[A\n",
      "Embeddings-NN Block Building [sminilm, faiss]:  56%|█████▌    | 1195/2152 [00:09<00:05, 171.76it/s]\u001b[A\n",
      "Embeddings-NN Block Building [sminilm, faiss]:  56%|█████▋    | 1214/2152 [00:09<00:05, 174.72it/s]\u001b[A\n",
      "Embeddings-NN Block Building [sminilm, faiss]:  57%|█████▋    | 1233/2152 [00:09<00:05, 176.65it/s]\u001b[A\n",
      "Embeddings-NN Block Building [sminilm, faiss]:  58%|█████▊    | 1252/2152 [00:09<00:05, 178.48it/s]\u001b[A\n",
      "Embeddings-NN Block Building [sminilm, faiss]:  59%|█████▉    | 1271/2152 [00:09<00:04, 180.05it/s]\u001b[A\n",
      "Embeddings-NN Block Building [sminilm, faiss]:  60%|█████▉    | 1290/2152 [00:09<00:04, 181.39it/s]\u001b[A\n",
      "Embeddings-NN Block Building [sminilm, faiss]:  61%|██████    | 1309/2152 [00:09<00:04, 181.45it/s]\u001b[A\n",
      "Embeddings-NN Block Building [sminilm, faiss]:  62%|██████▏   | 1328/2152 [00:09<00:04, 180.57it/s]\u001b[A\n",
      "Embeddings-NN Block Building [sminilm, faiss]:  63%|██████▎   | 1347/2152 [00:09<00:04, 180.63it/s]\u001b[A\n",
      "Embeddings-NN Block Building [sminilm, faiss]:  63%|██████▎   | 1366/2152 [00:10<00:04, 181.05it/s]\u001b[A\n",
      "Embeddings-NN Block Building [sminilm, faiss]:  64%|██████▍   | 1385/2152 [00:10<00:04, 180.19it/s]\u001b[A\n",
      "Embeddings-NN Block Building [sminilm, faiss]:  65%|██████▌   | 1404/2152 [00:10<00:04, 172.09it/s]\u001b[A\n",
      "Embeddings-NN Block Building [sminilm, faiss]:  66%|██████▌   | 1422/2152 [00:10<00:04, 146.53it/s]\u001b[A\n",
      "Embeddings-NN Block Building [sminilm, faiss]:  67%|██████▋   | 1440/2152 [00:10<00:04, 153.87it/s]\u001b[A\n",
      "Embeddings-NN Block Building [sminilm, faiss]:  68%|██████▊   | 1456/2152 [00:10<00:04, 142.47it/s]\u001b[A\n",
      "Embeddings-NN Block Building [sminilm, faiss]:  69%|██████▊   | 1475/2152 [00:10<00:04, 153.83it/s]\u001b[A\n",
      "Embeddings-NN Block Building [sminilm, faiss]:  69%|██████▉   | 1494/2152 [00:10<00:04, 162.97it/s]\u001b[A\n",
      "Embeddings-NN Block Building [sminilm, faiss]:  70%|███████   | 1513/2152 [00:10<00:03, 169.54it/s]\u001b[A\n",
      "Embeddings-NN Block Building [sminilm, faiss]:  71%|███████   | 1533/2152 [00:11<00:03, 176.54it/s]\u001b[A\n",
      "Embeddings-NN Block Building [sminilm, faiss]:  72%|███████▏  | 1552/2152 [00:11<00:03, 179.26it/s]\u001b[A\n",
      "Embeddings-NN Block Building [sminilm, faiss]:  73%|███████▎  | 1571/2152 [00:11<00:03, 181.37it/s]\u001b[A\n",
      "Embeddings-NN Block Building [sminilm, faiss]:  74%|███████▍  | 1590/2152 [00:11<00:03, 183.23it/s]\u001b[A\n",
      "Embeddings-NN Block Building [sminilm, faiss]:  75%|███████▍  | 1609/2152 [00:11<00:02, 183.84it/s]\u001b[A\n",
      "Embeddings-NN Block Building [sminilm, faiss]:  76%|███████▌  | 1628/2152 [00:11<00:02, 184.47it/s]\u001b[A\n",
      "Embeddings-NN Block Building [sminilm, faiss]:  77%|███████▋  | 1647/2152 [00:11<00:02, 184.63it/s]\u001b[A\n",
      "Embeddings-NN Block Building [sminilm, faiss]:  77%|███████▋  | 1666/2152 [00:11<00:02, 184.39it/s]\u001b[A\n",
      "Embeddings-NN Block Building [sminilm, faiss]:  78%|███████▊  | 1685/2152 [00:11<00:02, 184.56it/s]\u001b[A\n",
      "Embeddings-NN Block Building [sminilm, faiss]:  79%|███████▉  | 1704/2152 [00:12<00:02, 184.70it/s]\u001b[A\n",
      "Embeddings-NN Block Building [sminilm, faiss]:  80%|████████  | 1723/2152 [00:12<00:02, 184.52it/s]\u001b[A\n",
      "Embeddings-NN Block Building [sminilm, faiss]:  81%|████████  | 1742/2152 [00:12<00:02, 178.04it/s]\u001b[A\n",
      "Embeddings-NN Block Building [sminilm, faiss]:  82%|████████▏ | 1760/2152 [00:12<00:02, 177.91it/s]\u001b[A\n",
      "Embeddings-NN Block Building [sminilm, faiss]:  83%|████████▎ | 1779/2152 [00:12<00:02, 179.20it/s]\u001b[A\n",
      "Embeddings-NN Block Building [sminilm, faiss]:  84%|████████▎ | 1798/2152 [00:12<00:01, 179.61it/s]\u001b[A\n",
      "Embeddings-NN Block Building [sminilm, faiss]:  84%|████████▍ | 1817/2152 [00:12<00:01, 180.48it/s]\u001b[A\n",
      "Embeddings-NN Block Building [sminilm, faiss]:  85%|████████▌ | 1836/2152 [00:12<00:01, 178.47it/s]\u001b[A\n",
      "Embeddings-NN Block Building [sminilm, faiss]:  86%|████████▌ | 1854/2152 [00:12<00:01, 173.06it/s]\u001b[A\n",
      "Embeddings-NN Block Building [sminilm, faiss]:  87%|████████▋ | 1872/2152 [00:12<00:01, 174.48it/s]\u001b[A\n",
      "Embeddings-NN Block Building [sminilm, faiss]:  88%|████████▊ | 1890/2152 [00:13<00:01, 174.76it/s]\u001b[A\n",
      "Embeddings-NN Block Building [sminilm, faiss]:  89%|████████▊ | 1908/2152 [00:13<00:01, 175.24it/s]\u001b[A\n",
      "Embeddings-NN Block Building [sminilm, faiss]:  89%|████████▉ | 1926/2152 [00:13<00:01, 175.40it/s]\u001b[A\n",
      "Embeddings-NN Block Building [sminilm, faiss]:  90%|█████████ | 1944/2152 [00:13<00:01, 174.28it/s]\u001b[A\n",
      "Embeddings-NN Block Building [sminilm, faiss]:  91%|█████████ | 1962/2152 [00:13<00:01, 175.13it/s]\u001b[A\n",
      "Embeddings-NN Block Building [sminilm, faiss]:  92%|█████████▏| 1981/2152 [00:13<00:00, 176.78it/s]\u001b[A\n",
      "Embeddings-NN Block Building [sminilm, faiss]:  93%|█████████▎| 1999/2152 [00:13<00:00, 162.87it/s]\u001b[A\n",
      "Embeddings-NN Block Building [sminilm, faiss]:  94%|█████████▎| 2016/2152 [00:13<00:00, 149.33it/s]\u001b[A\n",
      "Embeddings-NN Block Building [sminilm, faiss]:  94%|█████████▍| 2032/2152 [00:13<00:00, 150.34it/s]\u001b[A\n",
      "Embeddings-NN Block Building [sminilm, faiss]:  95%|█████████▌| 2048/2152 [00:14<00:00, 152.45it/s]\u001b[A\n",
      "Embeddings-NN Block Building [sminilm, faiss]:  96%|█████████▌| 2064/2152 [00:14<00:00, 154.36it/s]\u001b[A\n",
      "Embeddings-NN Block Building [sminilm, faiss]:  97%|█████████▋| 2080/2152 [00:14<00:00, 121.87it/s]\u001b[A\n",
      "Embeddings-NN Block Building [sminilm, faiss]:  97%|█████████▋| 2094/2152 [00:14<00:00, 111.62it/s]\u001b[A\n",
      "Embeddings-NN Block Building [sminilm, faiss]:  98%|█████████▊| 2112/2152 [00:14<00:00, 126.46it/s]\u001b[A\n",
      "Embeddings-NN Block Building [sminilm, faiss]:  99%|█████████▉| 2126/2152 [00:14<00:00, 119.50it/s]\u001b[A\n",
      "Embeddings-NN Block Building [sminilm, faiss]: 100%|██████████| 2152/2152 [00:15<00:00, 142.60it/s]\u001b[A\n",
      "Embeddings NN Blocking Based Progressive Matching: 0it [00:15, ?it/s]\n"
     ]
    },
    {
     "name": "stdout",
     "output_type": "stream",
     "text": [
      "algorithm : HB\n",
      "number_of_nearest_neighbors : 2\n",
      "indexing : inorder\n",
      "language_model : sminilm\n",
      "total_candidates : 2152\n",
      "total_emissions : 2152\n",
      "time : 15.132911443710327\n",
      "name : 14e52b8c-ab66-47c7-b6be-70a63030e43b\n",
      "true_positives : 863\n",
      "dataset : D100\n",
      "matcher : EmbeddingsNNBPM\n",
      "#### WORKFLOW 6/8 ####\n",
      "{'language_model': 'sminilm', 'number_of_nearest_neighbors': 2}\n",
      "{'budget': 2152, 'algorithm': 'HB', 'indexing': 'reverse'}\n"
     ]
    },
    {
     "name": "stderr",
     "output_type": "stream",
     "text": [
      "Embeddings NN Blocking Based Progressive Matching: 0it [00:00, ?it/s]"
     ]
    },
    {
     "name": "stdout",
     "output_type": "stream",
     "text": [
      "Building blocks via Embeddings-NN Block Building [sminilm, faiss]\n"
     ]
    },
    {
     "name": "stderr",
     "output_type": "stream",
     "text": [
      "\n",
      "Embeddings-NN Block Building [sminilm, faiss]:   0%|          | 0/2152 [00:00<?, ?it/s]\u001b[A"
     ]
    },
    {
     "name": "stdout",
     "output_type": "stream",
     "text": [
      "Device selected:  cuda\n"
     ]
    },
    {
     "name": "stderr",
     "output_type": "stream",
     "text": [
      "\n",
      "Embeddings-NN Block Building [sminilm, faiss]:   0%|          | 1/2152 [00:00<31:08,  1.15it/s]\u001b[A\n",
      "Embeddings-NN Block Building [sminilm, faiss]:   1%|          | 18/2152 [00:00<01:25, 24.82it/s]\u001b[A\n",
      "Embeddings-NN Block Building [sminilm, faiss]:   2%|▏         | 34/2152 [00:01<00:44, 47.32it/s]\u001b[A\n",
      "Embeddings-NN Block Building [sminilm, faiss]:   2%|▏         | 51/2152 [00:01<00:29, 70.58it/s]\u001b[A\n",
      "Embeddings-NN Block Building [sminilm, faiss]:   3%|▎         | 68/2152 [00:01<00:22, 91.50it/s]\u001b[A\n",
      "Embeddings-NN Block Building [sminilm, faiss]:   4%|▍         | 86/2152 [00:01<00:18, 111.19it/s]\u001b[A\n",
      "Embeddings-NN Block Building [sminilm, faiss]:   5%|▍         | 104/2152 [00:01<00:16, 126.95it/s]\u001b[A\n",
      "Embeddings-NN Block Building [sminilm, faiss]:   6%|▌         | 122/2152 [00:01<00:14, 138.98it/s]\u001b[A\n",
      "Embeddings-NN Block Building [sminilm, faiss]:   7%|▋         | 140/2152 [00:01<00:13, 148.23it/s]\u001b[A\n",
      "Embeddings-NN Block Building [sminilm, faiss]:   7%|▋         | 158/2152 [00:01<00:12, 155.03it/s]\u001b[A\n",
      "Embeddings-NN Block Building [sminilm, faiss]:   8%|▊         | 176/2152 [00:01<00:12, 160.08it/s]\u001b[A\n",
      "Embeddings-NN Block Building [sminilm, faiss]:   9%|▉         | 194/2152 [00:02<00:11, 163.70it/s]\u001b[A\n",
      "Embeddings-NN Block Building [sminilm, faiss]:  10%|▉         | 212/2152 [00:02<00:11, 166.22it/s]\u001b[A\n",
      "Embeddings-NN Block Building [sminilm, faiss]:  11%|█         | 230/2152 [00:02<00:11, 168.25it/s]\u001b[A\n",
      "Embeddings-NN Block Building [sminilm, faiss]:  12%|█▏        | 248/2152 [00:02<00:11, 169.48it/s]\u001b[A\n",
      "Embeddings-NN Block Building [sminilm, faiss]:  12%|█▏        | 266/2152 [00:02<00:11, 170.32it/s]\u001b[A\n",
      "Embeddings-NN Block Building [sminilm, faiss]:  13%|█▎        | 284/2152 [00:02<00:10, 171.42it/s]\u001b[A\n",
      "Embeddings-NN Block Building [sminilm, faiss]:  14%|█▍        | 302/2152 [00:02<00:10, 170.78it/s]\u001b[A\n",
      "Embeddings-NN Block Building [sminilm, faiss]:  15%|█▍        | 320/2152 [00:02<00:10, 168.67it/s]\u001b[A\n",
      "Embeddings-NN Block Building [sminilm, faiss]:  16%|█▌        | 337/2152 [00:02<00:10, 168.67it/s]\u001b[A\n",
      "Embeddings-NN Block Building [sminilm, faiss]:  16%|█▋        | 354/2152 [00:02<00:10, 168.65it/s]\u001b[A\n",
      "Embeddings-NN Block Building [sminilm, faiss]:  17%|█▋        | 371/2152 [00:03<00:10, 167.77it/s]\u001b[A\n",
      "Embeddings-NN Block Building [sminilm, faiss]:  18%|█▊        | 388/2152 [00:03<00:10, 163.09it/s]\u001b[A\n",
      "Embeddings-NN Block Building [sminilm, faiss]:  19%|█▉        | 405/2152 [00:03<00:10, 164.25it/s]\u001b[A\n",
      "Embeddings-NN Block Building [sminilm, faiss]:  20%|█▉        | 422/2152 [00:03<00:11, 153.47it/s]\u001b[A\n",
      "Embeddings-NN Block Building [sminilm, faiss]:  20%|██        | 438/2152 [00:03<00:12, 133.46it/s]\u001b[A\n",
      "Embeddings-NN Block Building [sminilm, faiss]:  21%|██        | 452/2152 [00:03<00:13, 122.68it/s]\u001b[A\n",
      "Embeddings-NN Block Building [sminilm, faiss]:  22%|██▏       | 468/2152 [00:03<00:12, 131.41it/s]\u001b[A\n",
      "Embeddings-NN Block Building [sminilm, faiss]:  22%|██▏       | 482/2152 [00:03<00:14, 112.35it/s]\u001b[A\n",
      "Embeddings-NN Block Building [sminilm, faiss]:  23%|██▎       | 498/2152 [00:04<00:13, 123.00it/s]\u001b[A\n",
      "Embeddings-NN Block Building [sminilm, faiss]:  24%|██▍       | 512/2152 [00:04<00:14, 110.25it/s]\u001b[A\n",
      "Embeddings-NN Block Building [sminilm, faiss]:  25%|██▍       | 528/2152 [00:04<00:13, 120.66it/s]\u001b[A\n",
      "Embeddings-NN Block Building [sminilm, faiss]:  25%|██▌       | 541/2152 [00:04<00:13, 120.07it/s]\u001b[A\n",
      "Embeddings-NN Block Building [sminilm, faiss]:  26%|██▌       | 554/2152 [00:04<00:15, 102.65it/s]\u001b[A\n",
      "Embeddings-NN Block Building [sminilm, faiss]:  26%|██▋       | 565/2152 [00:04<00:16, 94.40it/s] \u001b[A\n",
      "Embeddings-NN Block Building [sminilm, faiss]:  27%|██▋       | 576/2152 [00:04<00:16, 97.39it/s]\u001b[A\n",
      "Embeddings-NN Block Building [sminilm, faiss]:  28%|██▊       | 593/2152 [00:04<00:13, 114.38it/s]\u001b[A\n",
      "Embeddings-NN Block Building [sminilm, faiss]:  28%|██▊       | 609/2152 [00:05<00:12, 125.39it/s]\u001b[A\n",
      "Embeddings-NN Block Building [sminilm, faiss]:  29%|██▉       | 626/2152 [00:05<00:11, 135.41it/s]\u001b[A\n",
      "Embeddings-NN Block Building [sminilm, faiss]:  30%|██▉       | 643/2152 [00:05<00:10, 142.62it/s]\u001b[A\n",
      "Embeddings-NN Block Building [sminilm, faiss]:  31%|███       | 660/2152 [00:05<00:10, 148.45it/s]\u001b[A\n",
      "Embeddings-NN Block Building [sminilm, faiss]:  31%|███▏      | 676/2152 [00:05<00:09, 150.60it/s]\u001b[A\n",
      "Embeddings-NN Block Building [sminilm, faiss]:  32%|███▏      | 692/2152 [00:05<00:09, 151.71it/s]\u001b[A\n",
      "Embeddings-NN Block Building [sminilm, faiss]:  33%|███▎      | 708/2152 [00:05<00:09, 153.33it/s]\u001b[A\n",
      "Embeddings-NN Block Building [sminilm, faiss]:  34%|███▎      | 724/2152 [00:05<00:09, 153.57it/s]\u001b[A\n",
      "Embeddings-NN Block Building [sminilm, faiss]:  34%|███▍      | 740/2152 [00:05<00:09, 152.27it/s]\u001b[A\n",
      "Embeddings-NN Block Building [sminilm, faiss]:  35%|███▌      | 756/2152 [00:06<00:09, 152.37it/s]\u001b[A\n",
      "Embeddings-NN Block Building [sminilm, faiss]:  36%|███▌      | 772/2152 [00:06<00:08, 154.47it/s]\u001b[A\n",
      "Embeddings-NN Block Building [sminilm, faiss]:  37%|███▋      | 789/2152 [00:06<00:08, 157.44it/s]\u001b[A\n",
      "Embeddings-NN Block Building [sminilm, faiss]:  37%|███▋      | 806/2152 [00:06<00:08, 159.25it/s]\u001b[A\n",
      "Embeddings-NN Block Building [sminilm, faiss]:  38%|███▊      | 823/2152 [00:06<00:08, 160.49it/s]\u001b[A\n",
      "Embeddings-NN Block Building [sminilm, faiss]:  39%|███▉      | 840/2152 [00:06<00:08, 162.41it/s]\u001b[A\n",
      "Embeddings-NN Block Building [sminilm, faiss]:  40%|███▉      | 857/2152 [00:06<00:07, 164.23it/s]\u001b[A\n",
      "Embeddings-NN Block Building [sminilm, faiss]:  41%|████      | 875/2152 [00:06<00:07, 166.00it/s]\u001b[A\n",
      "Embeddings-NN Block Building [sminilm, faiss]:  41%|████▏     | 893/2152 [00:06<00:07, 168.28it/s]\u001b[A\n",
      "Embeddings-NN Block Building [sminilm, faiss]:  42%|████▏     | 912/2152 [00:06<00:07, 172.20it/s]\u001b[A\n",
      "Embeddings-NN Block Building [sminilm, faiss]:  43%|████▎     | 931/2152 [00:07<00:06, 175.76it/s]\u001b[A\n",
      "Embeddings-NN Block Building [sminilm, faiss]:  44%|████▍     | 950/2152 [00:07<00:06, 178.78it/s]\u001b[A\n",
      "Embeddings-NN Block Building [sminilm, faiss]:  45%|████▍     | 968/2152 [00:07<00:06, 178.33it/s]\u001b[A\n",
      "Embeddings-NN Block Building [sminilm, faiss]:  46%|████▌     | 987/2152 [00:07<00:06, 179.17it/s]\u001b[A\n",
      "Embeddings-NN Block Building [sminilm, faiss]:  47%|████▋     | 1006/2152 [00:07<00:06, 180.84it/s]\u001b[A\n",
      "Embeddings-NN Block Building [sminilm, faiss]:  48%|████▊     | 1025/2152 [00:07<00:06, 181.51it/s]\u001b[A\n",
      "Embeddings-NN Block Building [sminilm, faiss]:  49%|████▊     | 1044/2152 [00:07<00:06, 182.40it/s]\u001b[A\n",
      "Embeddings-NN Block Building [sminilm, faiss]:  49%|████▉     | 1063/2152 [00:07<00:05, 182.90it/s]\u001b[A\n",
      "Embeddings-NN Block Building [sminilm, faiss]:  50%|█████     | 1082/2152 [00:07<00:05, 180.17it/s]\u001b[A\n",
      "Embeddings-NN Block Building [sminilm, faiss]:  51%|█████     | 1101/2152 [00:07<00:05, 175.30it/s]\u001b[A\n",
      "Embeddings-NN Block Building [sminilm, faiss]:  52%|█████▏    | 1119/2152 [00:08<00:05, 175.05it/s]\u001b[A\n",
      "Embeddings-NN Block Building [sminilm, faiss]:  53%|█████▎    | 1137/2152 [00:08<00:05, 175.48it/s]\u001b[A\n",
      "Embeddings-NN Block Building [sminilm, faiss]:  54%|█████▎    | 1155/2152 [00:08<00:05, 175.66it/s]\u001b[A\n",
      "Embeddings-NN Block Building [sminilm, faiss]:  55%|█████▍    | 1173/2152 [00:08<00:05, 174.39it/s]\u001b[A\n",
      "Embeddings-NN Block Building [sminilm, faiss]:  55%|█████▌    | 1191/2152 [00:08<00:05, 171.69it/s]\u001b[A\n",
      "Embeddings-NN Block Building [sminilm, faiss]:  56%|█████▌    | 1209/2152 [00:08<00:05, 167.46it/s]\u001b[A\n",
      "Embeddings-NN Block Building [sminilm, faiss]:  57%|█████▋    | 1226/2152 [00:08<00:05, 167.59it/s]\u001b[A\n",
      "Embeddings-NN Block Building [sminilm, faiss]:  58%|█████▊    | 1243/2152 [00:08<00:05, 162.27it/s]\u001b[A\n",
      "Embeddings-NN Block Building [sminilm, faiss]:  59%|█████▊    | 1260/2152 [00:08<00:05, 163.90it/s]\u001b[A\n",
      "Embeddings-NN Block Building [sminilm, faiss]:  59%|█████▉    | 1278/2152 [00:09<00:05, 166.65it/s]\u001b[A\n",
      "Embeddings-NN Block Building [sminilm, faiss]:  60%|██████    | 1296/2152 [00:09<00:05, 168.98it/s]\u001b[A\n",
      "Embeddings-NN Block Building [sminilm, faiss]:  61%|██████    | 1314/2152 [00:09<00:04, 170.85it/s]\u001b[A\n",
      "Embeddings-NN Block Building [sminilm, faiss]:  62%|██████▏   | 1332/2152 [00:09<00:04, 172.15it/s]\u001b[A\n",
      "Embeddings-NN Block Building [sminilm, faiss]:  63%|██████▎   | 1350/2152 [00:09<00:04, 173.33it/s]\u001b[A\n",
      "Embeddings-NN Block Building [sminilm, faiss]:  64%|██████▎   | 1368/2152 [00:09<00:04, 174.90it/s]\u001b[A\n",
      "Embeddings-NN Block Building [sminilm, faiss]:  64%|██████▍   | 1387/2152 [00:09<00:04, 177.19it/s]\u001b[A\n",
      "Embeddings-NN Block Building [sminilm, faiss]:  65%|██████▌   | 1405/2152 [00:09<00:04, 177.78it/s]\u001b[A\n",
      "Embeddings-NN Block Building [sminilm, faiss]:  66%|██████▌   | 1424/2152 [00:09<00:04, 178.93it/s]\u001b[A\n",
      "Embeddings-NN Block Building [sminilm, faiss]:  67%|██████▋   | 1442/2152 [00:09<00:03, 179.21it/s]\u001b[A\n",
      "Embeddings-NN Block Building [sminilm, faiss]:  68%|██████▊   | 1460/2152 [00:10<00:03, 179.39it/s]\u001b[A\n",
      "Embeddings-NN Block Building [sminilm, faiss]:  69%|██████▊   | 1478/2152 [00:10<00:03, 177.04it/s]\u001b[A\n",
      "Embeddings-NN Block Building [sminilm, faiss]:  70%|██████▉   | 1496/2152 [00:10<00:03, 176.22it/s]\u001b[A\n",
      "Embeddings-NN Block Building [sminilm, faiss]:  70%|███████   | 1515/2152 [00:10<00:03, 177.72it/s]\u001b[A\n",
      "Embeddings-NN Block Building [sminilm, faiss]:  71%|███████▏  | 1534/2152 [00:10<00:03, 178.77it/s]\u001b[A\n",
      "Embeddings-NN Block Building [sminilm, faiss]:  72%|███████▏  | 1553/2152 [00:10<00:03, 179.93it/s]\u001b[A\n",
      "Embeddings-NN Block Building [sminilm, faiss]:  73%|███████▎  | 1572/2152 [00:10<00:03, 180.38it/s]\u001b[A\n",
      "Embeddings-NN Block Building [sminilm, faiss]:  74%|███████▍  | 1591/2152 [00:10<00:03, 180.96it/s]\u001b[A\n",
      "Embeddings-NN Block Building [sminilm, faiss]:  75%|███████▍  | 1610/2152 [00:10<00:02, 181.65it/s]\u001b[A\n",
      "Embeddings-NN Block Building [sminilm, faiss]:  76%|███████▌  | 1629/2152 [00:11<00:02, 180.98it/s]\u001b[A\n",
      "Embeddings-NN Block Building [sminilm, faiss]:  77%|███████▋  | 1648/2152 [00:11<00:02, 181.00it/s]\u001b[A\n",
      "Embeddings-NN Block Building [sminilm, faiss]:  77%|███████▋  | 1667/2152 [00:11<00:02, 180.70it/s]\u001b[A\n",
      "Embeddings-NN Block Building [sminilm, faiss]:  78%|███████▊  | 1686/2152 [00:11<00:02, 180.84it/s]\u001b[A\n",
      "Embeddings-NN Block Building [sminilm, faiss]:  79%|███████▉  | 1705/2152 [00:11<00:02, 181.01it/s]\u001b[A\n",
      "Embeddings-NN Block Building [sminilm, faiss]:  80%|████████  | 1724/2152 [00:11<00:02, 177.28it/s]\u001b[A\n",
      "Embeddings-NN Block Building [sminilm, faiss]:  81%|████████  | 1742/2152 [00:11<00:02, 176.09it/s]\u001b[A\n",
      "Embeddings-NN Block Building [sminilm, faiss]:  82%|████████▏ | 1760/2152 [00:11<00:02, 169.02it/s]\u001b[A\n",
      "Embeddings-NN Block Building [sminilm, faiss]:  83%|████████▎ | 1777/2152 [00:11<00:02, 154.51it/s]\u001b[A\n",
      "Embeddings-NN Block Building [sminilm, faiss]:  83%|████████▎ | 1795/2152 [00:11<00:02, 159.97it/s]\u001b[A\n",
      "Embeddings-NN Block Building [sminilm, faiss]:  84%|████████▍ | 1814/2152 [00:12<00:02, 166.03it/s]\u001b[A\n",
      "Embeddings-NN Block Building [sminilm, faiss]:  85%|████████▌ | 1833/2152 [00:12<00:01, 170.73it/s]\u001b[A\n",
      "Embeddings-NN Block Building [sminilm, faiss]:  86%|████████▌ | 1852/2152 [00:12<00:01, 173.79it/s]\u001b[A\n",
      "Embeddings-NN Block Building [sminilm, faiss]:  87%|████████▋ | 1871/2152 [00:12<00:01, 176.78it/s]\u001b[A\n",
      "Embeddings-NN Block Building [sminilm, faiss]:  88%|████████▊ | 1890/2152 [00:12<00:01, 178.65it/s]\u001b[A\n",
      "Embeddings-NN Block Building [sminilm, faiss]:  89%|████████▊ | 1908/2152 [00:12<00:01, 175.05it/s]\u001b[A\n",
      "Embeddings-NN Block Building [sminilm, faiss]:  89%|████████▉ | 1926/2152 [00:12<00:01, 175.29it/s]\u001b[A\n",
      "Embeddings-NN Block Building [sminilm, faiss]:  90%|█████████ | 1944/2152 [00:12<00:01, 175.88it/s]\u001b[A\n",
      "Embeddings-NN Block Building [sminilm, faiss]:  91%|█████████ | 1962/2152 [00:12<00:01, 176.89it/s]\u001b[A\n",
      "Embeddings-NN Block Building [sminilm, faiss]:  92%|█████████▏| 1980/2152 [00:13<00:00, 176.85it/s]\u001b[A\n",
      "Embeddings-NN Block Building [sminilm, faiss]:  93%|█████████▎| 1998/2152 [00:13<00:00, 176.71it/s]\u001b[A\n",
      "Embeddings-NN Block Building [sminilm, faiss]:  94%|█████████▎| 2016/2152 [00:13<00:00, 171.08it/s]\u001b[A\n",
      "Embeddings-NN Block Building [sminilm, faiss]:  95%|█████████▍| 2034/2152 [00:13<00:00, 168.66it/s]\u001b[A\n",
      "Embeddings-NN Block Building [sminilm, faiss]:  95%|█████████▌| 2052/2152 [00:13<00:00, 170.46it/s]\u001b[A\n",
      "Embeddings-NN Block Building [sminilm, faiss]:  96%|█████████▌| 2070/2152 [00:13<00:00, 172.52it/s]\u001b[A\n",
      "Embeddings-NN Block Building [sminilm, faiss]:  97%|█████████▋| 2089/2152 [00:13<00:00, 175.45it/s]\u001b[A\n",
      "Embeddings-NN Block Building [sminilm, faiss]:  98%|█████████▊| 2107/2152 [00:13<00:00, 176.41it/s]\u001b[A\n",
      "Embeddings-NN Block Building [sminilm, faiss]:  99%|█████████▊| 2125/2152 [00:13<00:00, 173.12it/s]\u001b[A\n",
      "Embeddings-NN Block Building [sminilm, faiss]: 100%|██████████| 2152/2152 [00:14<00:00, 151.79it/s]\u001b[A\n",
      "Embeddings NN Blocking Based Progressive Matching: 0it [00:14, ?it/s]\n"
     ]
    },
    {
     "name": "stdout",
     "output_type": "stream",
     "text": [
      "algorithm : HB\n",
      "number_of_nearest_neighbors : 2\n",
      "indexing : reverse\n",
      "language_model : sminilm\n",
      "total_candidates : 2152\n",
      "total_emissions : 2152\n",
      "time : 14.236016750335693\n",
      "name : 75346db7-a352-4af7-a2da-193ecc77b543\n",
      "true_positives : 826\n",
      "dataset : D100\n",
      "matcher : EmbeddingsNNBPM\n",
      "#### WORKFLOW 7/8 ####\n",
      "{'language_model': 'sminilm', 'number_of_nearest_neighbors': 10}\n",
      "{'budget': 2152, 'algorithm': 'HB', 'indexing': 'inorder'}\n"
     ]
    },
    {
     "name": "stderr",
     "output_type": "stream",
     "text": [
      "Embeddings NN Blocking Based Progressive Matching: 0it [00:00, ?it/s]"
     ]
    },
    {
     "name": "stdout",
     "output_type": "stream",
     "text": [
      "Building blocks via Embeddings-NN Block Building [sminilm, faiss]\n"
     ]
    },
    {
     "name": "stderr",
     "output_type": "stream",
     "text": [
      "\n",
      "Embeddings-NN Block Building [sminilm, faiss]:   0%|          | 0/2152 [00:00<?, ?it/s]\u001b[A"
     ]
    },
    {
     "name": "stdout",
     "output_type": "stream",
     "text": [
      "Device selected:  cuda\n"
     ]
    },
    {
     "name": "stderr",
     "output_type": "stream",
     "text": [
      "\n",
      "Embeddings-NN Block Building [sminilm, faiss]:   0%|          | 1/2152 [00:00<33:27,  1.07it/s]\u001b[A\n",
      "Embeddings-NN Block Building [sminilm, faiss]:   1%|          | 13/2152 [00:01<02:07, 16.83it/s]\u001b[A\n",
      "Embeddings-NN Block Building [sminilm, faiss]:   1%|▏         | 32/2152 [00:01<00:47, 44.28it/s]\u001b[A\n",
      "Embeddings-NN Block Building [sminilm, faiss]:   2%|▏         | 51/2152 [00:01<00:29, 71.09it/s]\u001b[A\n",
      "Embeddings-NN Block Building [sminilm, faiss]:   4%|▎         | 77/2152 [00:01<00:18, 109.73it/s]\u001b[A\n",
      "Embeddings-NN Block Building [sminilm, faiss]:   5%|▍         | 102/2152 [00:01<00:14, 141.56it/s]\u001b[A\n",
      "Embeddings-NN Block Building [sminilm, faiss]:   6%|▌         | 123/2152 [00:01<00:12, 157.65it/s]\u001b[A\n",
      "Embeddings-NN Block Building [sminilm, faiss]:   7%|▋         | 149/2152 [00:01<00:10, 183.44it/s]\u001b[A\n",
      "Embeddings-NN Block Building [sminilm, faiss]:   8%|▊         | 175/2152 [00:01<00:09, 203.40it/s]\u001b[A\n",
      "Embeddings-NN Block Building [sminilm, faiss]:   9%|▉         | 200/2152 [00:01<00:09, 215.46it/s]\u001b[A\n",
      "Embeddings-NN Block Building [sminilm, faiss]:  11%|█         | 226/2152 [00:01<00:08, 227.15it/s]\u001b[A\n",
      "Embeddings-NN Block Building [sminilm, faiss]:  12%|█▏        | 252/2152 [00:02<00:08, 235.08it/s]\u001b[A\n",
      "Embeddings-NN Block Building [sminilm, faiss]:  13%|█▎        | 278/2152 [00:02<00:07, 241.17it/s]\u001b[A\n",
      "Embeddings-NN Block Building [sminilm, faiss]:  14%|█▍        | 303/2152 [00:02<00:07, 242.88it/s]\u001b[A\n",
      "Embeddings-NN Block Building [sminilm, faiss]:  15%|█▌        | 329/2152 [00:02<00:07, 247.04it/s]\u001b[A\n",
      "Embeddings-NN Block Building [sminilm, faiss]:  16%|█▋        | 355/2152 [00:02<00:07, 247.70it/s]\u001b[A\n",
      "Embeddings-NN Block Building [sminilm, faiss]:  18%|█▊        | 381/2152 [00:02<00:07, 250.15it/s]\u001b[A\n",
      "Embeddings-NN Block Building [sminilm, faiss]:  19%|█▉        | 407/2152 [00:02<00:07, 248.83it/s]\u001b[A\n",
      "Embeddings-NN Block Building [sminilm, faiss]:  20%|██        | 433/2152 [00:02<00:06, 249.19it/s]\u001b[A\n",
      "Embeddings-NN Block Building [sminilm, faiss]:  21%|██▏       | 459/2152 [00:02<00:06, 247.03it/s]\u001b[A\n",
      "Embeddings-NN Block Building [sminilm, faiss]:  22%|██▏       | 484/2152 [00:02<00:06, 243.28it/s]\u001b[A\n",
      "Embeddings-NN Block Building [sminilm, faiss]:  24%|██▎       | 510/2152 [00:03<00:06, 246.09it/s]\u001b[A\n",
      "Embeddings-NN Block Building [sminilm, faiss]:  25%|██▍       | 536/2152 [00:03<00:06, 248.63it/s]\u001b[A\n",
      "Embeddings-NN Block Building [sminilm, faiss]:  26%|██▌       | 561/2152 [00:03<00:06, 248.24it/s]\u001b[A\n",
      "Embeddings-NN Block Building [sminilm, faiss]:  27%|██▋       | 586/2152 [00:03<00:06, 248.23it/s]\u001b[A\n",
      "Embeddings-NN Block Building [sminilm, faiss]:  28%|██▊       | 611/2152 [00:03<00:06, 247.91it/s]\u001b[A\n",
      "Embeddings-NN Block Building [sminilm, faiss]:  30%|██▉       | 637/2152 [00:03<00:06, 248.83it/s]\u001b[A\n",
      "Embeddings-NN Block Building [sminilm, faiss]:  31%|███       | 663/2152 [00:03<00:05, 250.72it/s]\u001b[A\n",
      "Embeddings-NN Block Building [sminilm, faiss]:  32%|███▏      | 689/2152 [00:03<00:05, 251.20it/s]\u001b[A\n",
      "Embeddings-NN Block Building [sminilm, faiss]:  33%|███▎      | 715/2152 [00:03<00:05, 251.53it/s]\u001b[A\n",
      "Embeddings-NN Block Building [sminilm, faiss]:  34%|███▍      | 741/2152 [00:04<00:05, 252.39it/s]\u001b[A\n",
      "Embeddings-NN Block Building [sminilm, faiss]:  36%|███▌      | 767/2152 [00:04<00:05, 253.13it/s]\u001b[A\n",
      "Embeddings-NN Block Building [sminilm, faiss]:  37%|███▋      | 793/2152 [00:04<00:05, 252.75it/s]\u001b[A\n",
      "Embeddings-NN Block Building [sminilm, faiss]:  38%|███▊      | 819/2152 [00:04<00:05, 253.01it/s]\u001b[A\n",
      "Embeddings-NN Block Building [sminilm, faiss]:  39%|███▉      | 845/2152 [00:04<00:05, 218.84it/s]\u001b[A\n",
      "Embeddings-NN Block Building [sminilm, faiss]:  40%|████      | 868/2152 [00:04<00:10, 123.51it/s]\u001b[A\n",
      "Embeddings-NN Block Building [sminilm, faiss]:  41%|████      | 886/2152 [00:05<00:13, 97.38it/s] \u001b[A\n",
      "Embeddings-NN Block Building [sminilm, faiss]:  42%|████▏     | 901/2152 [00:05<00:13, 93.10it/s]\u001b[A\n",
      "Embeddings-NN Block Building [sminilm, faiss]:  43%|████▎     | 917/2152 [00:05<00:11, 103.41it/s]\u001b[A\n",
      "Embeddings-NN Block Building [sminilm, faiss]:  44%|████▍     | 943/2152 [00:05<00:09, 132.19it/s]\u001b[A\n",
      "Embeddings-NN Block Building [sminilm, faiss]:  45%|████▌     | 969/2152 [00:05<00:07, 158.48it/s]\u001b[A\n",
      "Embeddings-NN Block Building [sminilm, faiss]:  46%|████▌     | 995/2152 [00:05<00:06, 180.25it/s]\u001b[A\n",
      "Embeddings-NN Block Building [sminilm, faiss]:  47%|████▋     | 1021/2152 [00:05<00:05, 198.69it/s]\u001b[A\n",
      "Embeddings-NN Block Building [sminilm, faiss]:  49%|████▊     | 1047/2152 [00:05<00:05, 212.60it/s]\u001b[A\n",
      "Embeddings-NN Block Building [sminilm, faiss]:  50%|████▉     | 1072/2152 [00:06<00:04, 222.32it/s]\u001b[A\n",
      "Embeddings-NN Block Building [sminilm, faiss]:  51%|█████     | 1098/2152 [00:06<00:04, 231.17it/s]\u001b[A\n",
      "Embeddings-NN Block Building [sminilm, faiss]:  52%|█████▏    | 1125/2152 [00:06<00:04, 239.56it/s]\u001b[A\n",
      "Embeddings-NN Block Building [sminilm, faiss]:  53%|█████▎    | 1151/2152 [00:06<00:04, 245.21it/s]\u001b[A\n",
      "Embeddings-NN Block Building [sminilm, faiss]:  55%|█████▍    | 1178/2152 [00:06<00:03, 249.67it/s]\u001b[A\n",
      "Embeddings-NN Block Building [sminilm, faiss]:  56%|█████▌    | 1204/2152 [00:06<00:03, 252.43it/s]\u001b[A\n",
      "Embeddings-NN Block Building [sminilm, faiss]:  57%|█████▋    | 1230/2152 [00:06<00:04, 228.96it/s]\u001b[A\n",
      "Embeddings-NN Block Building [sminilm, faiss]:  58%|█████▊    | 1254/2152 [00:06<00:04, 215.51it/s]\u001b[A\n",
      "Embeddings-NN Block Building [sminilm, faiss]:  59%|█████▉    | 1277/2152 [00:06<00:04, 206.78it/s]\u001b[A\n",
      "Embeddings-NN Block Building [sminilm, faiss]:  60%|██████    | 1299/2152 [00:07<00:04, 200.07it/s]\u001b[A\n",
      "Embeddings-NN Block Building [sminilm, faiss]:  61%|██████▏   | 1320/2152 [00:07<00:04, 195.48it/s]\u001b[A\n",
      "Embeddings-NN Block Building [sminilm, faiss]:  62%|██████▏   | 1340/2152 [00:07<00:04, 193.31it/s]\u001b[A\n",
      "Embeddings-NN Block Building [sminilm, faiss]:  63%|██████▎   | 1360/2152 [00:07<00:04, 187.03it/s]\u001b[A\n",
      "Embeddings-NN Block Building [sminilm, faiss]:  64%|██████▍   | 1379/2152 [00:07<00:04, 184.51it/s]\u001b[A\n",
      "Embeddings-NN Block Building [sminilm, faiss]:  65%|██████▍   | 1398/2152 [00:07<00:04, 183.26it/s]\u001b[A\n",
      "Embeddings-NN Block Building [sminilm, faiss]:  66%|██████▌   | 1417/2152 [00:07<00:04, 180.57it/s]\u001b[A\n",
      "Embeddings-NN Block Building [sminilm, faiss]:  67%|██████▋   | 1436/2152 [00:07<00:03, 181.18it/s]\u001b[A\n",
      "Embeddings-NN Block Building [sminilm, faiss]:  68%|██████▊   | 1455/2152 [00:07<00:03, 181.74it/s]\u001b[A\n",
      "Embeddings-NN Block Building [sminilm, faiss]:  68%|██████▊   | 1474/2152 [00:08<00:03, 181.19it/s]\u001b[A\n",
      "Embeddings-NN Block Building [sminilm, faiss]:  69%|██████▉   | 1493/2152 [00:08<00:03, 178.19it/s]\u001b[A\n",
      "Embeddings-NN Block Building [sminilm, faiss]:  70%|███████   | 1511/2152 [00:08<00:03, 176.93it/s]\u001b[A\n",
      "Embeddings-NN Block Building [sminilm, faiss]:  71%|███████   | 1529/2152 [00:08<00:03, 177.46it/s]\u001b[A\n",
      "Embeddings-NN Block Building [sminilm, faiss]:  72%|███████▏  | 1547/2152 [00:08<00:03, 177.78it/s]\u001b[A\n",
      "Embeddings-NN Block Building [sminilm, faiss]:  73%|███████▎  | 1565/2152 [00:08<00:03, 176.94it/s]\u001b[A\n",
      "Embeddings-NN Block Building [sminilm, faiss]:  74%|███████▎  | 1583/2152 [00:08<00:03, 177.39it/s]\u001b[A\n",
      "Embeddings-NN Block Building [sminilm, faiss]:  74%|███████▍  | 1601/2152 [00:08<00:03, 177.43it/s]\u001b[A\n",
      "Embeddings-NN Block Building [sminilm, faiss]:  75%|███████▌  | 1619/2152 [00:08<00:03, 174.58it/s]\u001b[A\n",
      "Embeddings-NN Block Building [sminilm, faiss]:  76%|███████▌  | 1637/2152 [00:09<00:03, 171.63it/s]\u001b[A\n",
      "Embeddings-NN Block Building [sminilm, faiss]:  77%|███████▋  | 1655/2152 [00:09<00:02, 168.18it/s]\u001b[A\n",
      "Embeddings-NN Block Building [sminilm, faiss]:  78%|███████▊  | 1672/2152 [00:09<00:03, 154.10it/s]\u001b[A\n",
      "Embeddings-NN Block Building [sminilm, faiss]:  78%|███████▊  | 1688/2152 [00:09<00:03, 135.35it/s]\u001b[A\n",
      "Embeddings-NN Block Building [sminilm, faiss]:  79%|███████▉  | 1703/2152 [00:09<00:03, 133.03it/s]\u001b[A\n",
      "Embeddings-NN Block Building [sminilm, faiss]:  80%|███████▉  | 1717/2152 [00:09<00:03, 118.88it/s]\u001b[A\n",
      "Embeddings-NN Block Building [sminilm, faiss]:  80%|████████  | 1730/2152 [00:09<00:03, 110.56it/s]\u001b[A\n",
      "Embeddings-NN Block Building [sminilm, faiss]:  81%|████████  | 1747/2152 [00:09<00:03, 123.88it/s]\u001b[A\n",
      "Embeddings-NN Block Building [sminilm, faiss]:  82%|████████▏ | 1760/2152 [00:10<00:03, 113.19it/s]\u001b[A\n",
      "Embeddings-NN Block Building [sminilm, faiss]:  82%|████████▏ | 1772/2152 [00:10<00:03, 107.54it/s]\u001b[A\n",
      "Embeddings-NN Block Building [sminilm, faiss]:  83%|████████▎ | 1789/2152 [00:10<00:02, 122.03it/s]\u001b[A\n",
      "Embeddings-NN Block Building [sminilm, faiss]:  84%|████████▎ | 1802/2152 [00:10<00:03, 112.69it/s]\u001b[A\n",
      "Embeddings-NN Block Building [sminilm, faiss]:  84%|████████▍ | 1814/2152 [00:10<00:03, 108.07it/s]\u001b[A\n",
      "Embeddings-NN Block Building [sminilm, faiss]:  85%|████████▌ | 1830/2152 [00:10<00:02, 120.27it/s]\u001b[A\n",
      "Embeddings-NN Block Building [sminilm, faiss]:  86%|████████▌ | 1847/2152 [00:10<00:02, 132.64it/s]\u001b[A\n",
      "Embeddings-NN Block Building [sminilm, faiss]:  87%|████████▋ | 1864/2152 [00:10<00:02, 140.77it/s]\u001b[A\n",
      "Embeddings-NN Block Building [sminilm, faiss]:  87%|████████▋ | 1881/2152 [00:10<00:01, 148.43it/s]\u001b[A\n",
      "Embeddings-NN Block Building [sminilm, faiss]:  88%|████████▊ | 1898/2152 [00:11<00:01, 151.94it/s]\u001b[A\n",
      "Embeddings-NN Block Building [sminilm, faiss]:  89%|████████▉ | 1914/2152 [00:11<00:01, 151.07it/s]\u001b[A\n",
      "Embeddings-NN Block Building [sminilm, faiss]:  90%|████████▉ | 1930/2152 [00:11<00:01, 152.87it/s]\u001b[A\n",
      "Embeddings-NN Block Building [sminilm, faiss]:  90%|█████████ | 1946/2152 [00:11<00:01, 151.14it/s]\u001b[A\n",
      "Embeddings-NN Block Building [sminilm, faiss]:  91%|█████████ | 1962/2152 [00:11<00:01, 148.01it/s]\u001b[A\n",
      "Embeddings-NN Block Building [sminilm, faiss]:  92%|█████████▏| 1977/2152 [00:11<00:01, 146.93it/s]\u001b[A\n",
      "Embeddings-NN Block Building [sminilm, faiss]:  93%|█████████▎| 1993/2152 [00:11<00:01, 148.40it/s]\u001b[A\n",
      "Embeddings-NN Block Building [sminilm, faiss]:  93%|█████████▎| 2008/2152 [00:11<00:00, 148.19it/s]\u001b[A\n",
      "Embeddings-NN Block Building [sminilm, faiss]:  94%|█████████▍| 2024/2152 [00:11<00:00, 150.98it/s]\u001b[A\n",
      "Embeddings-NN Block Building [sminilm, faiss]:  95%|█████████▍| 2040/2152 [00:12<00:00, 152.80it/s]\u001b[A\n",
      "Embeddings-NN Block Building [sminilm, faiss]:  96%|█████████▌| 2057/2152 [00:12<00:00, 155.12it/s]\u001b[A\n",
      "Embeddings-NN Block Building [sminilm, faiss]:  96%|█████████▋| 2074/2152 [00:12<00:00, 156.88it/s]\u001b[A\n",
      "Embeddings-NN Block Building [sminilm, faiss]:  97%|█████████▋| 2091/2152 [00:12<00:00, 158.21it/s]\u001b[A\n",
      "Embeddings-NN Block Building [sminilm, faiss]:  98%|█████████▊| 2108/2152 [00:12<00:00, 159.22it/s]\u001b[A\n",
      "Embeddings-NN Block Building [sminilm, faiss]:  99%|█████████▊| 2125/2152 [00:12<00:00, 160.45it/s]\u001b[A\n",
      "Embeddings-NN Block Building [sminilm, faiss]: 100%|██████████| 2152/2152 [00:12<00:00, 167.06it/s]\u001b[A\n",
      "Embeddings NN Blocking Based Progressive Matching: 0it [00:12, ?it/s]\n"
     ]
    },
    {
     "name": "stdout",
     "output_type": "stream",
     "text": [
      "algorithm : HB\n",
      "number_of_nearest_neighbors : 10\n",
      "indexing : inorder\n",
      "language_model : sminilm\n",
      "total_candidates : 2152\n",
      "total_emissions : 2152\n",
      "time : 12.951519250869751\n",
      "name : 913e6765-afdc-4da4-9bbe-562e2e0936e8\n",
      "true_positives : 726\n",
      "dataset : D100\n",
      "matcher : EmbeddingsNNBPM\n",
      "#### WORKFLOW 8/8 ####\n",
      "{'language_model': 'sminilm', 'number_of_nearest_neighbors': 10}\n",
      "{'budget': 2152, 'algorithm': 'HB', 'indexing': 'reverse'}\n"
     ]
    },
    {
     "name": "stderr",
     "output_type": "stream",
     "text": [
      "Embeddings NN Blocking Based Progressive Matching: 0it [00:00, ?it/s]"
     ]
    },
    {
     "name": "stdout",
     "output_type": "stream",
     "text": [
      "Building blocks via Embeddings-NN Block Building [sminilm, faiss]\n"
     ]
    },
    {
     "name": "stderr",
     "output_type": "stream",
     "text": [
      "\n",
      "Embeddings-NN Block Building [sminilm, faiss]:   0%|          | 0/2152 [00:00<?, ?it/s]\u001b[A"
     ]
    },
    {
     "name": "stdout",
     "output_type": "stream",
     "text": [
      "Device selected:  cuda\n"
     ]
    },
    {
     "name": "stderr",
     "output_type": "stream",
     "text": [
      "\n",
      "Embeddings-NN Block Building [sminilm, faiss]:   0%|          | 1/2152 [00:00<30:57,  1.16it/s]\u001b[A\n",
      "Embeddings-NN Block Building [sminilm, faiss]:   1%|          | 17/2152 [00:00<01:30, 23.70it/s]\u001b[A\n",
      "Embeddings-NN Block Building [sminilm, faiss]:   2%|▏         | 33/2152 [00:01<00:45, 46.58it/s]\u001b[A\n",
      "Embeddings-NN Block Building [sminilm, faiss]:   2%|▏         | 47/2152 [00:01<00:32, 64.57it/s]\u001b[A\n",
      "Embeddings-NN Block Building [sminilm, faiss]:   3%|▎         | 62/2152 [00:01<00:25, 82.77it/s]\u001b[A\n",
      "Embeddings-NN Block Building [sminilm, faiss]:   4%|▎         | 78/2152 [00:01<00:20, 100.91it/s]\u001b[A\n",
      "Embeddings-NN Block Building [sminilm, faiss]:   4%|▍         | 94/2152 [00:01<00:17, 115.25it/s]\u001b[A\n",
      "Embeddings-NN Block Building [sminilm, faiss]:   5%|▌         | 110/2152 [00:01<00:16, 126.09it/s]\u001b[A\n",
      "Embeddings-NN Block Building [sminilm, faiss]:   6%|▌         | 126/2152 [00:01<00:15, 134.80it/s]\u001b[A\n",
      "Embeddings-NN Block Building [sminilm, faiss]:   7%|▋         | 142/2152 [00:01<00:14, 140.26it/s]\u001b[A\n",
      "Embeddings-NN Block Building [sminilm, faiss]:   7%|▋         | 158/2152 [00:01<00:14, 142.18it/s]\u001b[A\n",
      "Embeddings-NN Block Building [sminilm, faiss]:   8%|▊         | 174/2152 [00:01<00:13, 142.68it/s]\u001b[A\n",
      "Embeddings-NN Block Building [sminilm, faiss]:   9%|▉         | 189/2152 [00:02<00:13, 143.47it/s]\u001b[A\n",
      "Embeddings-NN Block Building [sminilm, faiss]:   9%|▉         | 204/2152 [00:02<00:13, 144.06it/s]\u001b[A\n",
      "Embeddings-NN Block Building [sminilm, faiss]:  10%|█         | 220/2152 [00:02<00:13, 146.28it/s]\u001b[A\n",
      "Embeddings-NN Block Building [sminilm, faiss]:  11%|█         | 235/2152 [00:02<00:13, 147.21it/s]\u001b[A\n",
      "Embeddings-NN Block Building [sminilm, faiss]:  12%|█▏        | 250/2152 [00:02<00:12, 147.57it/s]\u001b[A\n",
      "Embeddings-NN Block Building [sminilm, faiss]:  12%|█▏        | 265/2152 [00:02<00:12, 148.02it/s]\u001b[A\n",
      "Embeddings-NN Block Building [sminilm, faiss]:  13%|█▎        | 281/2152 [00:02<00:12, 148.88it/s]\u001b[A\n",
      "Embeddings-NN Block Building [sminilm, faiss]:  14%|█▍        | 296/2152 [00:02<00:12, 149.09it/s]\u001b[A\n",
      "Embeddings-NN Block Building [sminilm, faiss]:  14%|█▍        | 311/2152 [00:02<00:12, 149.12it/s]\u001b[A\n",
      "Embeddings-NN Block Building [sminilm, faiss]:  15%|█▌        | 326/2152 [00:03<00:12, 149.16it/s]\u001b[A\n",
      "Embeddings-NN Block Building [sminilm, faiss]:  16%|█▌        | 341/2152 [00:03<00:12, 148.14it/s]\u001b[A\n",
      "Embeddings-NN Block Building [sminilm, faiss]:  17%|█▋        | 356/2152 [00:03<00:12, 147.97it/s]\u001b[A\n",
      "Embeddings-NN Block Building [sminilm, faiss]:  17%|█▋        | 371/2152 [00:03<00:11, 148.47it/s]\u001b[A\n",
      "Embeddings-NN Block Building [sminilm, faiss]:  18%|█▊        | 387/2152 [00:03<00:11, 149.25it/s]\u001b[A\n",
      "Embeddings-NN Block Building [sminilm, faiss]:  19%|█▊        | 403/2152 [00:03<00:11, 149.59it/s]\u001b[A\n",
      "Embeddings-NN Block Building [sminilm, faiss]:  19%|█▉        | 418/2152 [00:03<00:11, 149.68it/s]\u001b[A\n",
      "Embeddings-NN Block Building [sminilm, faiss]:  20%|██        | 433/2152 [00:03<00:11, 149.38it/s]\u001b[A\n",
      "Embeddings-NN Block Building [sminilm, faiss]:  21%|██        | 449/2152 [00:03<00:11, 149.92it/s]\u001b[A\n",
      "Embeddings-NN Block Building [sminilm, faiss]:  22%|██▏       | 464/2152 [00:03<00:11, 149.87it/s]\u001b[A\n",
      "Embeddings-NN Block Building [sminilm, faiss]:  22%|██▏       | 479/2152 [00:04<00:11, 149.62it/s]\u001b[A\n",
      "Embeddings-NN Block Building [sminilm, faiss]:  23%|██▎       | 494/2152 [00:04<00:11, 149.71it/s]\u001b[A\n",
      "Embeddings-NN Block Building [sminilm, faiss]:  24%|██▎       | 509/2152 [00:04<00:10, 149.65it/s]\u001b[A\n",
      "Embeddings-NN Block Building [sminilm, faiss]:  24%|██▍       | 524/2152 [00:04<00:10, 148.29it/s]\u001b[A\n",
      "Embeddings-NN Block Building [sminilm, faiss]:  25%|██▌       | 539/2152 [00:04<00:10, 147.55it/s]\u001b[A\n",
      "Embeddings-NN Block Building [sminilm, faiss]:  26%|██▌       | 554/2152 [00:04<00:11, 144.63it/s]\u001b[A\n",
      "Embeddings-NN Block Building [sminilm, faiss]:  26%|██▋       | 569/2152 [00:04<00:11, 143.69it/s]\u001b[A\n",
      "Embeddings-NN Block Building [sminilm, faiss]:  27%|██▋       | 584/2152 [00:04<00:10, 144.01it/s]\u001b[A\n",
      "Embeddings-NN Block Building [sminilm, faiss]:  28%|██▊       | 599/2152 [00:04<00:10, 144.64it/s]\u001b[A\n",
      "Embeddings-NN Block Building [sminilm, faiss]:  29%|██▊       | 614/2152 [00:04<00:10, 145.92it/s]\u001b[A\n",
      "Embeddings-NN Block Building [sminilm, faiss]:  29%|██▉       | 629/2152 [00:05<00:10, 146.74it/s]\u001b[A\n",
      "Embeddings-NN Block Building [sminilm, faiss]:  30%|██▉       | 644/2152 [00:05<00:10, 147.31it/s]\u001b[A\n",
      "Embeddings-NN Block Building [sminilm, faiss]:  31%|███       | 661/2152 [00:05<00:09, 152.09it/s]\u001b[A\n",
      "Embeddings-NN Block Building [sminilm, faiss]:  31%|███▏      | 677/2152 [00:05<00:09, 151.83it/s]\u001b[A\n",
      "Embeddings-NN Block Building [sminilm, faiss]:  32%|███▏      | 693/2152 [00:05<00:09, 149.15it/s]\u001b[A\n",
      "Embeddings-NN Block Building [sminilm, faiss]:  33%|███▎      | 708/2152 [00:05<00:09, 146.58it/s]\u001b[A\n",
      "Embeddings-NN Block Building [sminilm, faiss]:  34%|███▎      | 724/2152 [00:05<00:09, 148.67it/s]\u001b[A\n",
      "Embeddings-NN Block Building [sminilm, faiss]:  34%|███▍      | 740/2152 [00:05<00:09, 151.85it/s]\u001b[A\n",
      "Embeddings-NN Block Building [sminilm, faiss]:  35%|███▌      | 757/2152 [00:05<00:09, 154.50it/s]\u001b[A\n",
      "Embeddings-NN Block Building [sminilm, faiss]:  36%|███▌      | 773/2152 [00:06<00:08, 154.87it/s]\u001b[A\n",
      "Embeddings-NN Block Building [sminilm, faiss]:  37%|███▋      | 789/2152 [00:06<00:08, 154.82it/s]\u001b[A\n",
      "Embeddings-NN Block Building [sminilm, faiss]:  37%|███▋      | 805/2152 [00:06<00:08, 156.07it/s]\u001b[A\n",
      "Embeddings-NN Block Building [sminilm, faiss]:  38%|███▊      | 821/2152 [00:06<00:08, 155.31it/s]\u001b[A\n",
      "Embeddings-NN Block Building [sminilm, faiss]:  39%|███▉      | 838/2152 [00:06<00:08, 157.54it/s]\u001b[A\n",
      "Embeddings-NN Block Building [sminilm, faiss]:  40%|███▉      | 858/2152 [00:06<00:07, 167.29it/s]\u001b[A\n",
      "Embeddings-NN Block Building [sminilm, faiss]:  41%|████      | 875/2152 [00:06<00:07, 164.72it/s]\u001b[A\n",
      "Embeddings-NN Block Building [sminilm, faiss]:  41%|████▏     | 893/2152 [00:06<00:07, 166.76it/s]\u001b[A\n",
      "Embeddings-NN Block Building [sminilm, faiss]:  42%|████▏     | 912/2152 [00:06<00:07, 171.18it/s]\u001b[A\n",
      "Embeddings-NN Block Building [sminilm, faiss]:  43%|████▎     | 930/2152 [00:06<00:07, 172.74it/s]\u001b[A\n",
      "Embeddings-NN Block Building [sminilm, faiss]:  44%|████▍     | 948/2152 [00:07<00:07, 171.69it/s]\u001b[A\n",
      "Embeddings-NN Block Building [sminilm, faiss]:  45%|████▍     | 966/2152 [00:07<00:06, 171.78it/s]\u001b[A\n",
      "Embeddings-NN Block Building [sminilm, faiss]:  46%|████▌     | 986/2152 [00:07<00:06, 177.55it/s]\u001b[A\n",
      "Embeddings-NN Block Building [sminilm, faiss]:  47%|████▋     | 1005/2152 [00:07<00:06, 178.84it/s]\u001b[A\n",
      "Embeddings-NN Block Building [sminilm, faiss]:  48%|████▊     | 1023/2152 [00:07<00:06, 176.41it/s]\u001b[A\n",
      "Embeddings-NN Block Building [sminilm, faiss]:  48%|████▊     | 1041/2152 [00:07<00:06, 176.03it/s]\u001b[A\n",
      "Embeddings-NN Block Building [sminilm, faiss]:  49%|████▉     | 1059/2152 [00:07<00:06, 175.05it/s]\u001b[A\n",
      "Embeddings-NN Block Building [sminilm, faiss]:  50%|█████     | 1077/2152 [00:07<00:06, 176.49it/s]\u001b[A\n",
      "Embeddings-NN Block Building [sminilm, faiss]:  51%|█████     | 1096/2152 [00:07<00:05, 178.70it/s]\u001b[A\n",
      "Embeddings-NN Block Building [sminilm, faiss]:  52%|█████▏    | 1114/2152 [00:08<00:06, 169.41it/s]\u001b[A\n",
      "Embeddings-NN Block Building [sminilm, faiss]:  53%|█████▎    | 1132/2152 [00:08<00:06, 163.74it/s]\u001b[A\n",
      "Embeddings-NN Block Building [sminilm, faiss]:  53%|█████▎    | 1149/2152 [00:08<00:06, 162.72it/s]\u001b[A\n",
      "Embeddings-NN Block Building [sminilm, faiss]:  54%|█████▍    | 1166/2152 [00:08<00:06, 163.42it/s]\u001b[A\n",
      "Embeddings-NN Block Building [sminilm, faiss]:  55%|█████▍    | 1183/2152 [00:08<00:05, 164.92it/s]\u001b[A\n",
      "Embeddings-NN Block Building [sminilm, faiss]:  56%|█████▌    | 1202/2152 [00:08<00:05, 170.31it/s]\u001b[A\n",
      "Embeddings-NN Block Building [sminilm, faiss]:  57%|█████▋    | 1221/2152 [00:08<00:05, 175.09it/s]\u001b[A\n",
      "Embeddings-NN Block Building [sminilm, faiss]:  58%|█████▊    | 1239/2152 [00:08<00:05, 171.35it/s]\u001b[A\n",
      "Embeddings-NN Block Building [sminilm, faiss]:  58%|█████▊    | 1257/2152 [00:08<00:05, 168.53it/s]\u001b[A\n",
      "Embeddings-NN Block Building [sminilm, faiss]:  59%|█████▉    | 1274/2152 [00:08<00:05, 166.24it/s]\u001b[A\n",
      "Embeddings-NN Block Building [sminilm, faiss]:  60%|█████▉    | 1291/2152 [00:09<00:05, 163.95it/s]\u001b[A\n",
      "Embeddings-NN Block Building [sminilm, faiss]:  61%|██████    | 1308/2152 [00:09<00:05, 163.85it/s]\u001b[A\n",
      "Embeddings-NN Block Building [sminilm, faiss]:  62%|██████▏   | 1325/2152 [00:09<00:05, 163.26it/s]\u001b[A\n",
      "Embeddings-NN Block Building [sminilm, faiss]:  62%|██████▏   | 1342/2152 [00:09<00:04, 163.63it/s]\u001b[A\n",
      "Embeddings-NN Block Building [sminilm, faiss]:  63%|██████▎   | 1359/2152 [00:09<00:04, 165.23it/s]\u001b[A\n",
      "Embeddings-NN Block Building [sminilm, faiss]:  64%|██████▍   | 1378/2152 [00:09<00:04, 171.83it/s]\u001b[A\n",
      "Embeddings-NN Block Building [sminilm, faiss]:  65%|██████▍   | 1396/2152 [00:09<00:04, 165.19it/s]\u001b[A\n",
      "Embeddings-NN Block Building [sminilm, faiss]:  66%|██████▌   | 1413/2152 [00:09<00:04, 160.36it/s]\u001b[A\n",
      "Embeddings-NN Block Building [sminilm, faiss]:  66%|██████▋   | 1430/2152 [00:09<00:04, 161.66it/s]\u001b[A\n",
      "Embeddings-NN Block Building [sminilm, faiss]:  67%|██████▋   | 1448/2152 [00:10<00:04, 166.17it/s]\u001b[A\n",
      "Embeddings-NN Block Building [sminilm, faiss]:  68%|██████▊   | 1465/2152 [00:10<00:04, 167.21it/s]\u001b[A\n",
      "Embeddings-NN Block Building [sminilm, faiss]:  69%|██████▉   | 1483/2152 [00:10<00:03, 169.30it/s]\u001b[A\n",
      "Embeddings-NN Block Building [sminilm, faiss]:  70%|██████▉   | 1501/2152 [00:10<00:03, 171.19it/s]\u001b[A\n",
      "Embeddings-NN Block Building [sminilm, faiss]:  71%|███████   | 1519/2152 [00:10<00:03, 163.14it/s]\u001b[A\n",
      "Embeddings-NN Block Building [sminilm, faiss]:  71%|███████▏  | 1536/2152 [00:10<00:04, 150.83it/s]\u001b[A\n",
      "Embeddings-NN Block Building [sminilm, faiss]:  72%|███████▏  | 1552/2152 [00:10<00:04, 142.73it/s]\u001b[A\n",
      "Embeddings-NN Block Building [sminilm, faiss]:  73%|███████▎  | 1567/2152 [00:10<00:04, 137.76it/s]\u001b[A\n",
      "Embeddings-NN Block Building [sminilm, faiss]:  73%|███████▎  | 1581/2152 [00:10<00:04, 133.76it/s]\u001b[A\n",
      "Embeddings-NN Block Building [sminilm, faiss]:  74%|███████▍  | 1595/2152 [00:11<00:04, 130.24it/s]\u001b[A\n",
      "Embeddings-NN Block Building [sminilm, faiss]:  75%|███████▍  | 1609/2152 [00:11<00:04, 128.49it/s]\u001b[A\n",
      "Embeddings-NN Block Building [sminilm, faiss]:  75%|███████▌  | 1622/2152 [00:11<00:04, 128.60it/s]\u001b[A\n",
      "Embeddings-NN Block Building [sminilm, faiss]:  76%|███████▌  | 1635/2152 [00:11<00:04, 128.83it/s]\u001b[A\n",
      "Embeddings-NN Block Building [sminilm, faiss]:  77%|███████▋  | 1648/2152 [00:11<00:03, 128.78it/s]\u001b[A\n",
      "Embeddings-NN Block Building [sminilm, faiss]:  77%|███████▋  | 1662/2152 [00:11<00:03, 129.23it/s]\u001b[A\n",
      "Embeddings-NN Block Building [sminilm, faiss]:  78%|███████▊  | 1675/2152 [00:11<00:03, 129.42it/s]\u001b[A\n",
      "Embeddings-NN Block Building [sminilm, faiss]:  78%|███████▊  | 1688/2152 [00:11<00:03, 129.39it/s]\u001b[A\n",
      "Embeddings-NN Block Building [sminilm, faiss]:  79%|███████▉  | 1702/2152 [00:11<00:03, 130.72it/s]\u001b[A\n",
      "Embeddings-NN Block Building [sminilm, faiss]:  80%|███████▉  | 1719/2152 [00:11<00:03, 140.96it/s]\u001b[A\n",
      "Embeddings-NN Block Building [sminilm, faiss]:  81%|████████  | 1737/2152 [00:12<00:02, 150.31it/s]\u001b[A\n",
      "Embeddings-NN Block Building [sminilm, faiss]:  81%|████████▏ | 1753/2152 [00:12<00:02, 143.66it/s]\u001b[A\n",
      "Embeddings-NN Block Building [sminilm, faiss]:  82%|████████▏ | 1768/2152 [00:12<00:02, 138.33it/s]\u001b[A\n",
      "Embeddings-NN Block Building [sminilm, faiss]:  83%|████████▎ | 1782/2152 [00:12<00:02, 132.88it/s]\u001b[A\n",
      "Embeddings-NN Block Building [sminilm, faiss]:  83%|████████▎ | 1796/2152 [00:12<00:02, 129.03it/s]\u001b[A\n",
      "Embeddings-NN Block Building [sminilm, faiss]:  84%|████████▍ | 1809/2152 [00:12<00:02, 128.01it/s]\u001b[A\n",
      "Embeddings-NN Block Building [sminilm, faiss]:  85%|████████▍ | 1822/2152 [00:12<00:02, 127.76it/s]\u001b[A\n",
      "Embeddings-NN Block Building [sminilm, faiss]:  85%|████████▌ | 1835/2152 [00:12<00:02, 127.89it/s]\u001b[A\n",
      "Embeddings-NN Block Building [sminilm, faiss]:  86%|████████▌ | 1849/2152 [00:12<00:02, 128.72it/s]\u001b[A\n",
      "Embeddings-NN Block Building [sminilm, faiss]:  87%|████████▋ | 1863/2152 [00:13<00:02, 129.36it/s]\u001b[A\n",
      "Embeddings-NN Block Building [sminilm, faiss]:  87%|████████▋ | 1877/2152 [00:13<00:02, 129.93it/s]\u001b[A\n",
      "Embeddings-NN Block Building [sminilm, faiss]:  88%|████████▊ | 1891/2152 [00:13<00:02, 130.43it/s]\u001b[A\n",
      "Embeddings-NN Block Building [sminilm, faiss]:  89%|████████▊ | 1905/2152 [00:13<00:01, 129.13it/s]\u001b[A\n",
      "Embeddings-NN Block Building [sminilm, faiss]:  89%|████████▉ | 1918/2152 [00:13<00:01, 128.73it/s]\u001b[A\n",
      "Embeddings-NN Block Building [sminilm, faiss]:  90%|████████▉ | 1934/2152 [00:13<00:01, 135.98it/s]\u001b[A\n",
      "Embeddings-NN Block Building [sminilm, faiss]:  91%|█████████ | 1949/2152 [00:13<00:01, 138.97it/s]\u001b[A\n",
      "Embeddings-NN Block Building [sminilm, faiss]:  91%|█████████▏| 1964/2152 [00:13<00:01, 140.25it/s]\u001b[A\n",
      "Embeddings-NN Block Building [sminilm, faiss]:  92%|█████████▏| 1981/2152 [00:13<00:01, 146.47it/s]\u001b[A\n",
      "Embeddings-NN Block Building [sminilm, faiss]:  93%|█████████▎| 1997/2152 [00:14<00:01, 149.45it/s]\u001b[A\n",
      "Embeddings-NN Block Building [sminilm, faiss]:  94%|█████████▎| 2013/2152 [00:14<00:00, 151.85it/s]\u001b[A\n",
      "Embeddings-NN Block Building [sminilm, faiss]:  94%|█████████▍| 2029/2152 [00:14<00:00, 152.79it/s]\u001b[A\n",
      "Embeddings-NN Block Building [sminilm, faiss]:  95%|█████████▌| 2046/2152 [00:14<00:00, 155.20it/s]\u001b[A\n",
      "Embeddings-NN Block Building [sminilm, faiss]:  96%|█████████▌| 2063/2152 [00:14<00:00, 157.79it/s]\u001b[A\n",
      "Embeddings-NN Block Building [sminilm, faiss]:  97%|█████████▋| 2080/2152 [00:14<00:00, 160.12it/s]\u001b[A\n",
      "Embeddings-NN Block Building [sminilm, faiss]:  98%|█████████▊| 2100/2152 [00:14<00:00, 170.47it/s]\u001b[A\n",
      "Embeddings-NN Block Building [sminilm, faiss]:  98%|█████████▊| 2118/2152 [00:14<00:00, 164.73it/s]\u001b[A\n",
      "Embeddings-NN Block Building [sminilm, faiss]:  99%|█████████▉| 2135/2152 [00:14<00:00, 162.22it/s]\u001b[A\n",
      "Embeddings-NN Block Building [sminilm, faiss]: 100%|██████████| 2152/2152 [00:15<00:00, 142.03it/s]\u001b[A\n",
      "Embeddings NN Blocking Based Progressive Matching: 0it [00:15, ?it/s]"
     ]
    },
    {
     "name": "stdout",
     "output_type": "stream",
     "text": [
      "algorithm : HB\n",
      "number_of_nearest_neighbors : 10\n",
      "indexing : reverse\n",
      "language_model : sminilm\n",
      "total_candidates : 2152\n",
      "total_emissions : 2152\n",
      "time : 15.411551237106323\n",
      "name : 735c1bc0-9669-4bad-85e3-a319ff3875bc\n",
      "true_positives : 754\n",
      "dataset : D100\n",
      "matcher : EmbeddingsNNBPM\n"
     ]
    },
    {
     "name": "stderr",
     "output_type": "stream",
     "text": [
      "\n"
     ]
    }
   ],
   "source": [
    "nn_example_parameters = list(example_nn_workflows_arguments.keys())\n",
    "nn_example_values = list(example_nn_workflows_arguments.values())\n",
    "nn_example_workflow_combinations = list(product(*nn_example_values))\n",
    "\n",
    "# total number of workflows that will be executed\n",
    "total_workflows = len(nn_example_workflow_combinations) * len(BUDGETS)\n",
    "\n",
    "\n",
    "nn_workflow_results = {}\n",
    "workflows_count = 0\n",
    "for budget in BUDGETS:\n",
    "    for nn_example_workflow_combination in nn_example_workflow_combinations:\n",
    "        # We setup the current workflow's arguments\n",
    "        nn_example_workflow_arguments = dict(zip(nn_example_parameters, nn_example_workflow_combination))\n",
    "        \n",
    "        # Current workflow is being executed with the given arguments combination\n",
    "        workflows_count += 1\n",
    "        print(f\"#### WORKFLOW {workflows_count}/{total_workflows} ####\")\n",
    "        nn_example_workflow = ProgressiveWorkFlow()\n",
    "        nn_example_workflow.run(data=data,\n",
    "                            block_building=None,\n",
    "                            block_purging=None,\n",
    "                            block_filtering=None,\n",
    "                            matcher=nn_matcher,\n",
    "                            budget=budget,\n",
    "                            dataset=DATASET_NAME,\n",
    "                            **nn_example_workflow_arguments)\n",
    "        \n",
    "        \n",
    "        # We add the last executed workflow into our final results\n",
    "        nn_example_workflow_info = nn_example_workflow.save(arguments=nn_example_workflow_arguments,\n",
    "                                                            results=nn_workflow_results)\n",
    "        \n",
    "        # We print current workflow information\n",
    "        nn_example_workflow.print_info(info=nn_example_workflow_info)"
   ]
  },
  {
   "cell_type": "code",
   "execution_count": 30,
   "id": "1f3f7c12-fcae-4175-bb5c-3d4989372107",
   "metadata": {},
   "outputs": [
    {
     "data": {
      "image/png": "[encoded data removed]",
      "text/plain": [
       "<Figure size 720x432 with 1 Axes>"
      ]
     },
     "metadata": {},
     "output_type": "display_data"
    },
    {
     "name": "stdout",
     "output_type": "stream",
     "text": [
      "{'D100': {'EmbeddingsNNBPM': {'sminilm': [{'algorithm': 'HB', 'number_of_nearest_neighbors': 2, 'indexing': 'inorder', 'language_model': 'sminilm', 'total_candidates': 1076, 'total_emissions': 1076, 'time': 16.15586543083191, 'name': 'fb637719-65f1-4cef-85ad-eadbbfb512d2', 'dataset': 'D100', 'matcher': 'EmbeddingsNNBPM', 'auc': 0.3647609875980712, 'recall': 0.662639405204461}, {'algorithm': 'HB', 'number_of_nearest_neighbors': 2, 'indexing': 'reverse', 'language_model': 'sminilm', 'total_candidates': 1076, 'total_emissions': 1076, 'time': 13.753221035003662, 'name': 'b54051c1-2c00-40a4-8334-01576e0e9e4b', 'dataset': 'D100', 'matcher': 'EmbeddingsNNBPM', 'auc': 0.3660898889590723, 'recall': 0.6589219330855018}, {'algorithm': 'HB', 'number_of_nearest_neighbors': 10, 'indexing': 'inorder', 'language_model': 'sminilm', 'total_candidates': 1076, 'total_emissions': 1076, 'time': 12.514333486557007, 'name': '08df599b-de5f-47d5-bbff-29ef1df1d79d', 'dataset': 'D100', 'matcher': 'EmbeddingsNNBPM', 'auc': 0.30060007662755917, 'recall': 0.6328996282527881}, {'algorithm': 'HB', 'number_of_nearest_neighbors': 10, 'indexing': 'reverse', 'language_model': 'sminilm', 'total_candidates': 1076, 'total_emissions': 1076, 'time': 13.998786687850952, 'name': 'f4716024-d72c-4819-a9c8-6e99dc856ad1', 'dataset': 'D100', 'matcher': 'EmbeddingsNNBPM', 'auc': 0.315865183819849, 'recall': 0.6589219330855018}, {'algorithm': 'HB', 'number_of_nearest_neighbors': 2, 'indexing': 'inorder', 'language_model': 'sminilm', 'total_candidates': 2152, 'total_emissions': 2152, 'time': 15.132911443710327, 'name': '14e52b8c-ab66-47c7-b6be-70a63030e43b', 'dataset': 'D100', 'matcher': 'EmbeddingsNNBPM', 'auc': 0.5509257420699386, 'recall': 0.8020446096654275}, {'algorithm': 'HB', 'number_of_nearest_neighbors': 2, 'indexing': 'reverse', 'language_model': 'sminilm', 'total_candidates': 2152, 'total_emissions': 2152, 'time': 14.236016750335693, 'name': '75346db7-a352-4af7-a2da-193ecc77b543', 'dataset': 'D100', 'matcher': 'EmbeddingsNNBPM', 'auc': 0.541020396887201, 'recall': 0.7676579925650557}, {'algorithm': 'HB', 'number_of_nearest_neighbors': 10, 'indexing': 'inorder', 'language_model': 'sminilm', 'total_candidates': 2152, 'total_emissions': 2152, 'time': 12.951519250869751, 'name': '913e6765-afdc-4da4-9bbe-562e2e0936e8', 'dataset': 'D100', 'matcher': 'EmbeddingsNNBPM', 'auc': 0.478976339748981, 'recall': 0.6747211895910781}, {'algorithm': 'HB', 'number_of_nearest_neighbors': 10, 'indexing': 'reverse', 'language_model': 'sminilm', 'total_candidates': 2152, 'total_emissions': 2152, 'time': 15.411551237106323, 'name': '735c1bc0-9669-4bad-85e3-a319ff3875bc', 'dataset': 'D100', 'matcher': 'EmbeddingsNNBPM', 'auc': 0.4986450133556221, 'recall': 0.7007434944237918}]}}}\n"
     ]
    }
   ],
   "source": [
    "# We can calculate the AUC / visualize the ROC for each of the executed workflows\n",
    "# Bear in mind the curves' legends contain the randomly generated identifier for each workflow\n",
    "evaluator = Evaluation(data)\n",
    "evaluator.visualize_results_roc(results=nn_workflow_results, drop_tp_indices=True)\n",
    "# In order to understand which curve corresponds to which workflow:\n",
    "# Search for the identifier within the workflows results dictionary \n",
    "print(nn_workflow_results)"
   ]
  },
  {
   "cell_type": "markdown",
   "id": "a7a2035f-14af-4499-8dc9-01dd2abe563a",
   "metadata": {},
   "source": [
    "## Sorted Neighborhood PER Workflows"
   ]
  },
  {
   "cell_type": "code",
   "execution_count": 20,
   "id": "99758a12-d72b-4c23-9d1f-5a2f453fb7d0",
   "metadata": {},
   "outputs": [],
   "source": [
    "# Those are the arguments that are available for Neighborhood-based PER workflows\n",
    "# They can be passed to the run function either in the form of an argument dictionary like the one above\n",
    "# or you can simply define the arguments and their proper values in the parameters of the run function\n",
    "available_sn_workflow_arguments = {\n",
    "    \"algorithm\": [\"DFS\", \"BFS\", \"HB\", \"TOP\"],\n",
    "    \"window_size\": [1,2,3,4,5,6,7,8,9,10],\n",
    "    \"indexing\": [\"inorder\"],\n",
    "    \"weighting_scheme\": [\"ACF\", \"ID\"]\n",
    "}\n",
    "\n",
    "# We choose a group of Neighborhood-based PER workflows which will be the product of a subset of the original, available arguments and values\n",
    "example_sn_workflows_arguments = {\n",
    "    \"algorithm\": [\"HB\"],\n",
    "    \"window_size\": [2,10],\n",
    "    \"indexing\": [\"inorder\"],\n",
    "    \"weighting_scheme\": [\"ACF\", \"ID\"]\n",
    "}\n",
    "\n",
    "# The name of our PER module \n",
    "sn_matcher = \"LocalPSNM\""
   ]
  },
  {
   "cell_type": "code",
   "execution_count": 21,
   "id": "7524a038-0bc4-43ac-b423-6e28c7760caf",
   "metadata": {},
   "outputs": [
    {
     "name": "stdout",
     "output_type": "stream",
     "text": [
      "#### WORKFLOW 1/8 ####\n",
      "{'weighting_scheme': 'ACF', 'window_size': 2}\n",
      "{'budget': 1076, 'algorithm': 'HB', 'indexing': 'inorder'}\n"
     ]
    },
    {
     "name": "stderr",
     "output_type": "stream",
     "text": [
      "Global Progressive Sorted Neighborhood Matching:   0%|          | 0/3019 [00:00<?, ?it/s]\n"
     ]
    },
    {
     "name": "stdout",
     "output_type": "stream",
     "text": [
      "algorithm : HB\n",
      "window_size : 2\n",
      "indexing : inorder\n",
      "weighting_scheme : ACF\n",
      "total_candidates : 1076\n",
      "total_emissions : 1076\n",
      "time : 0.6015763282775879\n",
      "name : ff2f8e9d-e48e-442b-a1d3-6c10f9488320\n",
      "true_positives : 289\n",
      "dataset : D100\n",
      "matcher : LocalPSNM\n",
      "#### WORKFLOW 2/8 ####\n",
      "{'weighting_scheme': 'ID', 'window_size': 2}\n",
      "{'budget': 1076, 'algorithm': 'HB', 'indexing': 'inorder'}\n"
     ]
    },
    {
     "name": "stderr",
     "output_type": "stream",
     "text": [
      "Global Progressive Sorted Neighborhood Matching:   0%|          | 0/3019 [00:00<?, ?it/s]\n"
     ]
    },
    {
     "name": "stdout",
     "output_type": "stream",
     "text": [
      "algorithm : HB\n",
      "window_size : 2\n",
      "indexing : inorder\n",
      "weighting_scheme : ID\n",
      "total_candidates : 1076\n",
      "total_emissions : 1076\n",
      "time : 0.3957831859588623\n",
      "name : 8d837f80-66a4-4190-bd15-f0f3e9cfd3c3\n",
      "true_positives : 289\n",
      "dataset : D100\n",
      "matcher : LocalPSNM\n",
      "#### WORKFLOW 3/8 ####\n",
      "{'weighting_scheme': 'ACF', 'window_size': 10}\n",
      "{'budget': 1076, 'algorithm': 'HB', 'indexing': 'inorder'}\n"
     ]
    },
    {
     "name": "stderr",
     "output_type": "stream",
     "text": [
      "Global Progressive Sorted Neighborhood Matching:   0%|          | 0/3019 [00:00<?, ?it/s]\n"
     ]
    },
    {
     "name": "stdout",
     "output_type": "stream",
     "text": [
      "algorithm : HB\n",
      "window_size : 10\n",
      "indexing : inorder\n",
      "weighting_scheme : ACF\n",
      "total_candidates : 1076\n",
      "total_emissions : 1076\n",
      "time : 1.216900110244751\n",
      "name : fcc27185-fc2f-4238-a4f3-04fcec8888d4\n",
      "true_positives : 233\n",
      "dataset : D100\n",
      "matcher : LocalPSNM\n",
      "#### WORKFLOW 4/8 ####\n",
      "{'weighting_scheme': 'ID', 'window_size': 10}\n",
      "{'budget': 1076, 'algorithm': 'HB', 'indexing': 'inorder'}\n"
     ]
    },
    {
     "name": "stderr",
     "output_type": "stream",
     "text": [
      "Global Progressive Sorted Neighborhood Matching:   0%|          | 0/3019 [00:01<?, ?it/s]\n"
     ]
    },
    {
     "name": "stdout",
     "output_type": "stream",
     "text": [
      "algorithm : HB\n",
      "window_size : 10\n",
      "indexing : inorder\n",
      "weighting_scheme : ID\n",
      "total_candidates : 1076\n",
      "total_emissions : 1076\n",
      "time : 1.237194538116455\n",
      "name : 20c24780-1dc8-4e5d-8ab1-7a88870edcca\n",
      "true_positives : 256\n",
      "dataset : D100\n",
      "matcher : LocalPSNM\n",
      "#### WORKFLOW 5/8 ####\n",
      "{'weighting_scheme': 'ACF', 'window_size': 2}\n",
      "{'budget': 2152, 'algorithm': 'HB', 'indexing': 'inorder'}\n"
     ]
    },
    {
     "name": "stderr",
     "output_type": "stream",
     "text": [
      "Global Progressive Sorted Neighborhood Matching:   0%|          | 0/3019 [00:00<?, ?it/s]\n"
     ]
    },
    {
     "name": "stdout",
     "output_type": "stream",
     "text": [
      "algorithm : HB\n",
      "window_size : 2\n",
      "indexing : inorder\n",
      "weighting_scheme : ACF\n",
      "total_candidates : 2152\n",
      "total_emissions : 2152\n",
      "time : 0.405254602432251\n",
      "name : 7a6f8ec1-3d03-40cf-998b-d04a7817ad11\n",
      "true_positives : 303\n",
      "dataset : D100\n",
      "matcher : LocalPSNM\n",
      "#### WORKFLOW 6/8 ####\n",
      "{'weighting_scheme': 'ID', 'window_size': 2}\n",
      "{'budget': 2152, 'algorithm': 'HB', 'indexing': 'inorder'}\n"
     ]
    },
    {
     "name": "stderr",
     "output_type": "stream",
     "text": [
      "Global Progressive Sorted Neighborhood Matching:   0%|          | 0/3019 [00:00<?, ?it/s]\n"
     ]
    },
    {
     "name": "stdout",
     "output_type": "stream",
     "text": [
      "algorithm : HB\n",
      "window_size : 2\n",
      "indexing : inorder\n",
      "weighting_scheme : ID\n",
      "total_candidates : 2152\n",
      "total_emissions : 2152\n",
      "time : 0.5819246768951416\n",
      "name : c7983279-1cc9-4d47-9ed3-358bdca3f42c\n",
      "true_positives : 300\n",
      "dataset : D100\n",
      "matcher : LocalPSNM\n",
      "#### WORKFLOW 7/8 ####\n",
      "{'weighting_scheme': 'ACF', 'window_size': 10}\n",
      "{'budget': 2152, 'algorithm': 'HB', 'indexing': 'inorder'}\n"
     ]
    },
    {
     "name": "stderr",
     "output_type": "stream",
     "text": [
      "Global Progressive Sorted Neighborhood Matching:   0%|          | 0/3019 [00:01<?, ?it/s]\n"
     ]
    },
    {
     "name": "stdout",
     "output_type": "stream",
     "text": [
      "algorithm : HB\n",
      "window_size : 10\n",
      "indexing : inorder\n",
      "weighting_scheme : ACF\n",
      "total_candidates : 2152\n",
      "total_emissions : 2152\n",
      "time : 1.2731971740722656\n",
      "name : 7331d6a3-00f1-4e74-ac9f-1eb13a6a1cd9\n",
      "true_positives : 256\n",
      "dataset : D100\n",
      "matcher : LocalPSNM\n",
      "#### WORKFLOW 8/8 ####\n",
      "{'weighting_scheme': 'ID', 'window_size': 10}\n",
      "{'budget': 2152, 'algorithm': 'HB', 'indexing': 'inorder'}\n"
     ]
    },
    {
     "name": "stderr",
     "output_type": "stream",
     "text": [
      "Global Progressive Sorted Neighborhood Matching:   0%|          | 0/3019 [00:00<?, ?it/s]"
     ]
    },
    {
     "name": "stdout",
     "output_type": "stream",
     "text": [
      "algorithm : HB\n",
      "window_size : 10\n",
      "indexing : inorder\n",
      "weighting_scheme : ID\n",
      "total_candidates : 2152\n",
      "total_emissions : 2152\n",
      "time : 1.089101791381836\n",
      "name : 88d1d25d-50d8-42b4-ab14-14a840b6d6b0\n",
      "true_positives : 273\n",
      "dataset : D100\n",
      "matcher : LocalPSNM\n"
     ]
    },
    {
     "name": "stderr",
     "output_type": "stream",
     "text": [
      "\n"
     ]
    }
   ],
   "source": [
    "sn_example_parameters = list(example_sn_workflows_arguments.keys())\n",
    "sn_example_values = list(example_sn_workflows_arguments.values())\n",
    "sn_example_workflow_combinations = list(product(*sn_example_values))\n",
    "\n",
    "# total number of workflows that will be executed\n",
    "total_workflows = len(sn_example_workflow_combinations) * len(BUDGETS)\n",
    "\n",
    "\n",
    "sn_workflow_results = {}\n",
    "workflows_count = 0\n",
    "for budget in BUDGETS:\n",
    "    for sn_example_workflow_combination in sn_example_workflow_combinations:\n",
    "        # We setup the current workflow's arguments\n",
    "        sn_example_workflow_arguments = dict(zip(sn_example_parameters, sn_example_workflow_combination))\n",
    "        \n",
    "        # Current workflow is being executed with the given arguments combination\n",
    "        workflows_count += 1\n",
    "        print(f\"#### WORKFLOW {workflows_count}/{total_workflows} ####\")\n",
    "        sn_example_workflow = ProgressiveWorkFlow()\n",
    "        sn_example_workflow.run(data=data,\n",
    "                            block_building=None,\n",
    "                            block_purging=None,\n",
    "                            block_filtering=None,\n",
    "                            matcher=sn_matcher,\n",
    "                            budget=budget,\n",
    "                            dataset=DATASET_NAME,\n",
    "                            **sn_example_workflow_arguments)    \n",
    "        \n",
    "        # We add the last executed workflow into our final results\n",
    "        sn_example_workflow_info = sn_example_workflow.save(arguments=sn_example_workflow_arguments,\n",
    "                                                            results=sn_workflow_results)\n",
    "        \n",
    "        # We print current workflow information\n",
    "        sn_example_workflow.print_info(info=sn_example_workflow_info)"
   ]
  },
  {
   "cell_type": "code",
   "execution_count": 29,
   "id": "f4d411d4-580d-4f48-96e8-07f47670414c",
   "metadata": {},
   "outputs": [
    {
     "data": {
      "image/png": "[encoded data removed]",
      "text/plain": [
       "<Figure size 720x432 with 1 Axes>"
      ]
     },
     "metadata": {},
     "output_type": "display_data"
    },
    {
     "name": "stdout",
     "output_type": "stream",
     "text": [
      "{'D100': {'LocalPSNM': [{'algorithm': 'HB', 'window_size': 2, 'indexing': 'inorder', 'weighting_scheme': 'ACF', 'total_candidates': 1076, 'total_emissions': 1076, 'time': 0.6015763282775879, 'name': 'ff2f8e9d-e48e-442b-a1d3-6c10f9488320', 'dataset': 'D100', 'matcher': 'LocalPSNM', 'auc': 0.18259708746242076, 'recall': 0.26858736059479554}, {'algorithm': 'HB', 'window_size': 2, 'indexing': 'inorder', 'weighting_scheme': 'ID', 'total_candidates': 1076, 'total_emissions': 1076, 'time': 0.3957831859588623, 'name': '8d837f80-66a4-4190-bd15-f0f3e9cfd3c3', 'dataset': 'D100', 'matcher': 'LocalPSNM', 'auc': 0.18648714417372006, 'recall': 0.26858736059479554}, {'algorithm': 'HB', 'window_size': 10, 'indexing': 'inorder', 'weighting_scheme': 'ACF', 'total_candidates': 1076, 'total_emissions': 1076, 'time': 1.216900110244751, 'name': 'fcc27185-fc2f-4238-a4f3-04fcec8888d4', 'dataset': 'D100', 'matcher': 'LocalPSNM', 'auc': 0.11882794351651411, 'recall': 0.21654275092936803}, {'algorithm': 'HB', 'window_size': 10, 'indexing': 'inorder', 'weighting_scheme': 'ID', 'total_candidates': 1076, 'total_emissions': 1076, 'time': 1.237194538116455, 'name': '20c24780-1dc8-4e5d-8ab1-7a88870edcca', 'dataset': 'D100', 'matcher': 'LocalPSNM', 'auc': 0.12964727161017905, 'recall': 0.2379182156133829}, {'algorithm': 'HB', 'window_size': 2, 'indexing': 'inorder', 'weighting_scheme': 'ACF', 'total_candidates': 2152, 'total_emissions': 2152, 'time': 0.405254602432251, 'name': '7a6f8ec1-3d03-40cf-998b-d04a7817ad11', 'dataset': 'D100', 'matcher': 'LocalPSNM', 'auc': 0.22385855648813324, 'recall': 0.2815985130111524}, {'algorithm': 'HB', 'window_size': 2, 'indexing': 'inorder', 'weighting_scheme': 'ID', 'total_candidates': 2152, 'total_emissions': 2152, 'time': 0.5819246768951416, 'name': 'c7983279-1cc9-4d47-9ed3-358bdca3f42c', 'dataset': 'D100', 'matcher': 'LocalPSNM', 'auc': 0.22422546908696508, 'recall': 0.2788104089219331}, {'algorithm': 'HB', 'window_size': 10, 'indexing': 'inorder', 'weighting_scheme': 'ACF', 'total_candidates': 2152, 'total_emissions': 2152, 'time': 1.2731971740722656, 'name': '7331d6a3-00f1-4e74-ac9f-1eb13a6a1cd9', 'dataset': 'D100', 'matcher': 'LocalPSNM', 'auc': 0.18058056796343508, 'recall': 0.2379182156133829}, {'algorithm': 'HB', 'window_size': 10, 'indexing': 'inorder', 'weighting_scheme': 'ID', 'total_candidates': 2152, 'total_emissions': 2152, 'time': 1.089101791381836, 'name': '88d1d25d-50d8-42b4-ab14-14a840b6d6b0', 'dataset': 'D100', 'matcher': 'LocalPSNM', 'auc': 0.19329991694825627, 'recall': 0.2537174721189591}]}}\n"
     ]
    }
   ],
   "source": [
    "# We can calculate the AUC / visualize the ROC for each of the executed workflows\n",
    "# Bear in mind the curves' legends contain the randomly generated identifier for each workflow\n",
    "evaluator = Evaluation(data)\n",
    "evaluator.visualize_results_roc(results=sn_workflow_results, drop_tp_indices=True)\n",
    "# In order to understand which curve corresponds to which workflow:\n",
    "# Search for the identifier within the workflows results dictionary \n",
    "print(sn_workflow_results)"
   ]
  },
  {
   "cell_type": "code",
   "execution_count": 14,
   "id": "d2215d5b-44b2-4393-954f-cce41c79f3c3",
   "metadata": {},
   "outputs": [],
   "source": [
    "## MB PER Workflows"
   ]
  },
  {
   "cell_type": "code",
   "execution_count": 23,
   "id": "0f798dd2-6473-4841-ab1d-cb5e8ca5935c",
   "metadata": {},
   "outputs": [],
   "source": [
    "# Those are the arguments that are available for MB-based PER workflows\n",
    "# They can be passed to the run function either in the form of an argument dictionary like the one above\n",
    "# or you can simply define the arguments and their proper values in the parameters of the run function\n",
    "available_mb_workflow_arguments = {\n",
    "    \"algorithm\": [\"DFS\", \"BFS\", \"HB\", \"TOP\"],\n",
    "    \"number_of_nearest_neighbors\": [1,2,3,4,5,6,7,8,9,10],\n",
    "    \"indexing\": [\"inorder\"],\n",
    "    \"weighting_scheme\": [\"CN-CBS\", \"CBS\", \"SN-CBS\", \"CNC\", \"SNC\", \"CND\", \"SND\", \"CNJ\", \"SNJ\", \"COSINE\", \"DICE\", \"ECBS\", \"JS\", \"EJS\", \"X2\"]\n",
    "}\n",
    "\n",
    "# We choose a group of MB-based PER workflows which will be the product of a subset of the original, available arguments and values\n",
    "example_mb_workflows_arguments = {\n",
    "    \"algorithm\": [\"HB\"],\n",
    "    \"number_of_nearest_neighbors\": [2,10],\n",
    "    \"indexing\": [\"inorder\"],\n",
    "    \"weighting_scheme\": [\"SN-CBS\", \"EJS\"]\n",
    "}\n",
    "\n",
    "# MB PER Workflows are based upon the concept of scheduling through block building, filtering and purging\n",
    "# User can define a dictionary with the block building/filtering/purging module of their choice and its corresponding arguments as follows:\n",
    "MB_BLOCK_BUILDING = dict(method=StandardBlocking, \n",
    "                        params=dict())\n",
    "\n",
    "MB_BLOCK_FILTERING = dict(method=BlockFiltering, \n",
    "                        params=dict(ratio=0.8))\n",
    "\n",
    "MB_BLOCK_PURGING = dict(method=BlockPurging, \n",
    "                        params=dict(smoothing_factor=1.0)) \n",
    "\n",
    "# The name of our PER module \n",
    "mb_matcher = \"LocalTopPM\""
   ]
  },
  {
   "cell_type": "code",
   "execution_count": 34,
   "id": "4db327eb-ecf8-49cf-bca4-20254e325694",
   "metadata": {},
   "outputs": [
    {
     "name": "stdout",
     "output_type": "stream",
     "text": [
      "[1076, 2152]\n",
      "#### WORKFLOW 1/8 ####\n",
      "{'weighting_scheme': 'SN_CBS', 'number_of_nearest_neighbors': 2}\n",
      "{'budget': 1076, 'algorithm': 'HB', 'indexing': 'inorder'}\n"
     ]
    },
    {
     "name": "stderr",
     "output_type": "stream",
     "text": [
      "Global Top Progressive Matching:   0%|          | 0/2827 [00:00<?, ?it/s]\n"
     ]
    },
    {
     "name": "stdout",
     "output_type": "stream",
     "text": [
      "algorithm : HB\n",
      "number_of_nearest_neighbors : 2\n",
      "indexing : inorder\n",
      "weighting_scheme : SN_CBS\n",
      "total_candidates : 1076\n",
      "total_emissions : 1076\n",
      "time : 0.7439219951629639\n",
      "name : 3de193ba-c967-4b74-9b4d-44be3add7d25\n",
      "true_positives : 585\n",
      "dataset : D100\n",
      "matcher : LocalTopPM\n",
      "#### WORKFLOW 2/8 ####\n",
      "{'weighting_scheme': 'EJS', 'number_of_nearest_neighbors': 2}\n",
      "{'budget': 1076, 'algorithm': 'HB', 'indexing': 'inorder'}\n"
     ]
    },
    {
     "name": "stderr",
     "output_type": "stream",
     "text": [
      "Global Top Progressive Matching:   0%|          | 0/2827 [00:00<?, ?it/s]\n"
     ]
    },
    {
     "name": "stdout",
     "output_type": "stream",
     "text": [
      "algorithm : HB\n",
      "number_of_nearest_neighbors : 2\n",
      "indexing : inorder\n",
      "weighting_scheme : EJS\n",
      "total_candidates : 1076\n",
      "total_emissions : 1076\n",
      "time : 0.6373767852783203\n",
      "name : af0fd8bc-cb7e-4e2b-a572-32421a822dd0\n",
      "true_positives : 678\n",
      "dataset : D100\n",
      "matcher : LocalTopPM\n",
      "#### WORKFLOW 3/8 ####\n",
      "{'weighting_scheme': 'SN_CBS', 'number_of_nearest_neighbors': 10}\n",
      "{'budget': 1076, 'algorithm': 'HB', 'indexing': 'inorder'}\n"
     ]
    },
    {
     "name": "stderr",
     "output_type": "stream",
     "text": [
      "Global Top Progressive Matching:   0%|          | 0/2827 [00:00<?, ?it/s]\n"
     ]
    },
    {
     "name": "stdout",
     "output_type": "stream",
     "text": [
      "algorithm : HB\n",
      "number_of_nearest_neighbors : 10\n",
      "indexing : inorder\n",
      "weighting_scheme : SN_CBS\n",
      "total_candidates : 1076\n",
      "total_emissions : 1076\n",
      "time : 0.5188391208648682\n",
      "name : 70b5750d-7bb9-49f4-9787-89713c5eac3d\n",
      "true_positives : 563\n",
      "dataset : D100\n",
      "matcher : LocalTopPM\n",
      "#### WORKFLOW 4/8 ####\n",
      "{'weighting_scheme': 'EJS', 'number_of_nearest_neighbors': 10}\n",
      "{'budget': 1076, 'algorithm': 'HB', 'indexing': 'inorder'}\n"
     ]
    },
    {
     "name": "stderr",
     "output_type": "stream",
     "text": [
      "Global Top Progressive Matching:   0%|          | 0/2827 [00:00<?, ?it/s]\n"
     ]
    },
    {
     "name": "stdout",
     "output_type": "stream",
     "text": [
      "algorithm : HB\n",
      "number_of_nearest_neighbors : 10\n",
      "indexing : inorder\n",
      "weighting_scheme : EJS\n",
      "total_candidates : 1076\n",
      "total_emissions : 1076\n",
      "time : 0.8967716693878174\n",
      "name : 44c38357-04ef-4e1a-b8c8-82a5b7bd493e\n",
      "true_positives : 679\n",
      "dataset : D100\n",
      "matcher : LocalTopPM\n",
      "#### WORKFLOW 5/8 ####\n",
      "{'weighting_scheme': 'SN_CBS', 'number_of_nearest_neighbors': 2}\n",
      "{'budget': 2152, 'algorithm': 'HB', 'indexing': 'inorder'}\n"
     ]
    },
    {
     "name": "stderr",
     "output_type": "stream",
     "text": [
      "Global Top Progressive Matching:   0%|          | 0/2827 [00:00<?, ?it/s]\n"
     ]
    },
    {
     "name": "stdout",
     "output_type": "stream",
     "text": [
      "algorithm : HB\n",
      "number_of_nearest_neighbors : 2\n",
      "indexing : inorder\n",
      "weighting_scheme : SN_CBS\n",
      "total_candidates : 2152\n",
      "total_emissions : 2152\n",
      "time : 0.4133322238922119\n",
      "name : 9e01ecaa-aaf9-41c2-9ae7-adfdea175dda\n",
      "true_positives : 728\n",
      "dataset : D100\n",
      "matcher : LocalTopPM\n",
      "#### WORKFLOW 6/8 ####\n",
      "{'weighting_scheme': 'EJS', 'number_of_nearest_neighbors': 2}\n",
      "{'budget': 2152, 'algorithm': 'HB', 'indexing': 'inorder'}\n"
     ]
    },
    {
     "name": "stderr",
     "output_type": "stream",
     "text": [
      "Global Top Progressive Matching:   0%|          | 0/2827 [00:00<?, ?it/s]\n"
     ]
    },
    {
     "name": "stdout",
     "output_type": "stream",
     "text": [
      "algorithm : HB\n",
      "number_of_nearest_neighbors : 2\n",
      "indexing : inorder\n",
      "weighting_scheme : EJS\n",
      "total_candidates : 2152\n",
      "total_emissions : 2152\n",
      "time : 0.6276335716247559\n",
      "name : 91a30812-f746-45ed-87b0-83370fa2489b\n",
      "true_positives : 773\n",
      "dataset : D100\n",
      "matcher : LocalTopPM\n",
      "#### WORKFLOW 7/8 ####\n",
      "{'weighting_scheme': 'SN_CBS', 'number_of_nearest_neighbors': 10}\n",
      "{'budget': 2152, 'algorithm': 'HB', 'indexing': 'inorder'}\n"
     ]
    },
    {
     "name": "stderr",
     "output_type": "stream",
     "text": [
      "Global Top Progressive Matching:   0%|          | 0/2827 [00:00<?, ?it/s]\n"
     ]
    },
    {
     "name": "stdout",
     "output_type": "stream",
     "text": [
      "algorithm : HB\n",
      "number_of_nearest_neighbors : 10\n",
      "indexing : inorder\n",
      "weighting_scheme : SN_CBS\n",
      "total_candidates : 2152\n",
      "total_emissions : 2152\n",
      "time : 0.6860294342041016\n",
      "name : a3aa59dd-dfb0-4b4b-82d6-466f99491b9f\n",
      "true_positives : 602\n",
      "dataset : D100\n",
      "matcher : LocalTopPM\n",
      "#### WORKFLOW 8/8 ####\n",
      "{'weighting_scheme': 'EJS', 'number_of_nearest_neighbors': 10}\n",
      "{'budget': 2152, 'algorithm': 'HB', 'indexing': 'inorder'}\n"
     ]
    },
    {
     "name": "stderr",
     "output_type": "stream",
     "text": [
      "Global Top Progressive Matching:   0%|          | 0/2827 [00:00<?, ?it/s]"
     ]
    },
    {
     "name": "stdout",
     "output_type": "stream",
     "text": [
      "algorithm : HB\n",
      "number_of_nearest_neighbors : 10\n",
      "indexing : inorder\n",
      "weighting_scheme : EJS\n",
      "total_candidates : 2152\n",
      "total_emissions : 2152\n",
      "time : 0.7056057453155518\n",
      "name : c911c0be-060b-4e21-a795-6026508d7a25\n",
      "true_positives : 707\n",
      "dataset : D100\n",
      "matcher : LocalTopPM\n"
     ]
    },
    {
     "name": "stderr",
     "output_type": "stream",
     "text": [
      "\n"
     ]
    }
   ],
   "source": [
    "mb_example_parameters = list(example_mb_workflows_arguments.keys())\n",
    "mb_example_values = list(example_mb_workflows_arguments.values())\n",
    "mb_example_workflow_combinations = list(product(*mb_example_values))\n",
    "\n",
    "# total number of workflows that will be executed\n",
    "total_workflows = len(mb_example_workflow_combinations) * len(BUDGETS)\n",
    "\n",
    "\n",
    "mb_workflow_results = {}\n",
    "workflows_count = 0\n",
    "print(BUDGETS)\n",
    "for budget in BUDGETS:\n",
    "    for mb_example_workflow_combination in mb_example_workflow_combinations:\n",
    "        # We setup the current workflow's arguments\n",
    "        mb_example_workflow_arguments = dict(zip(mb_example_parameters, mb_example_workflow_combination))\n",
    "        \n",
    "        # Current workflow is being executed with the given arguments combination\n",
    "        workflows_count += 1\n",
    "        print(f\"#### WORKFLOW {workflows_count}/{total_workflows} ####\")\n",
    "        mb_example_workflow = ProgressiveWorkFlow()\n",
    "        mb_example_workflow.run(data=data,\n",
    "                            block_building=MB_BLOCK_BUILDING,\n",
    "                            block_purging=MB_BLOCK_FILTERING,\n",
    "                            block_filtering=MB_BLOCK_PURGING,\n",
    "                            matcher=mb_matcher,\n",
    "                            budget=budget,\n",
    "                            dataset=DATASET_NAME,\n",
    "                            **mb_example_workflow_arguments)    \n",
    "        \n",
    "        # We add the last executed workflow into our final results\n",
    "        mb_example_workflow_info = mb_example_workflow.save(arguments=mb_example_workflow_arguments,\n",
    "                                                            results=mb_workflow_results)\n",
    "        \n",
    "        # We print current workflow information\n",
    "        mb_example_workflow.print_info(info=mb_example_workflow_info)"
   ]
  },
  {
   "cell_type": "code",
   "execution_count": 35,
   "id": "0427e8a5-293e-4e47-aed3-17f5a2b940f3",
   "metadata": {},
   "outputs": [
    {
     "data": {
      "image/png": "[encoded data removed]",
      "text/plain": [
       "<Figure size 720x432 with 1 Axes>"
      ]
     },
     "metadata": {},
     "output_type": "display_data"
    },
    {
     "name": "stdout",
     "output_type": "stream",
     "text": [
      "{'D100': {'LocalTopPM': [{'algorithm': 'HB', 'number_of_nearest_neighbors': 2, 'indexing': 'inorder', 'weighting_scheme': 'SN_CBS', 'total_candidates': 1076, 'total_emissions': 1076, 'time': 0.7439219951629639, 'name': '3de193ba-c967-4b74-9b4d-44be3add7d25', 'dataset': 'D100', 'matcher': 'LocalTopPM', 'auc': 0.3009676818092379, 'recall': 0.5436802973977695}, {'algorithm': 'HB', 'number_of_nearest_neighbors': 2, 'indexing': 'inorder', 'weighting_scheme': 'EJS', 'total_candidates': 1076, 'total_emissions': 1076, 'time': 0.6373767852783203, 'name': 'af0fd8bc-cb7e-4e2b-a572-32421a822dd0', 'dataset': 'D100', 'matcher': 'LocalTopPM', 'auc': 0.3541461722463265, 'recall': 0.6301115241635687}, {'algorithm': 'HB', 'number_of_nearest_neighbors': 10, 'indexing': 'inorder', 'weighting_scheme': 'SN_CBS', 'total_candidates': 1076, 'total_emissions': 1076, 'time': 0.5188391208648682, 'name': '70b5750d-7bb9-49f4-9787-89713c5eac3d', 'dataset': 'D100', 'matcher': 'LocalTopPM', 'auc': 0.2755727219696736, 'recall': 0.5232342007434945}, {'algorithm': 'HB', 'number_of_nearest_neighbors': 10, 'indexing': 'inorder', 'weighting_scheme': 'EJS', 'total_candidates': 1076, 'total_emissions': 1076, 'time': 0.8967716693878174, 'name': '44c38357-04ef-4e1a-b8c8-82a5b7bd493e', 'dataset': 'D100', 'matcher': 'LocalTopPM', 'auc': 0.32284191596511036, 'recall': 0.6310408921933085}, {'algorithm': 'HB', 'number_of_nearest_neighbors': 2, 'indexing': 'inorder', 'weighting_scheme': 'SN_CBS', 'total_candidates': 2152, 'total_emissions': 2152, 'time': 0.4133322238922119, 'name': '9e01ecaa-aaf9-41c2-9ae7-adfdea175dda', 'dataset': 'D100', 'matcher': 'LocalTopPM', 'auc': 0.45508126466571314, 'recall': 0.6765799256505576}, {'algorithm': 'HB', 'number_of_nearest_neighbors': 2, 'indexing': 'inorder', 'weighting_scheme': 'EJS', 'total_candidates': 2152, 'total_emissions': 2152, 'time': 0.6276335716247559, 'name': '91a30812-f746-45ed-87b0-83370fa2489b', 'dataset': 'D100', 'matcher': 'LocalTopPM', 'auc': 0.5132097168816053, 'recall': 0.7184014869888475}, {'algorithm': 'HB', 'number_of_nearest_neighbors': 10, 'indexing': 'inorder', 'weighting_scheme': 'SN_CBS', 'total_candidates': 2152, 'total_emissions': 2152, 'time': 0.6860294342041016, 'name': 'a3aa59dd-dfb0-4b4b-82d6-466f99491b9f', 'dataset': 'D100', 'matcher': 'LocalTopPM', 'auc': 0.4085312790832197, 'recall': 0.5594795539033457}, {'algorithm': 'HB', 'number_of_nearest_neighbors': 10, 'indexing': 'inorder', 'weighting_scheme': 'EJS', 'total_candidates': 2152, 'total_emissions': 2152, 'time': 0.7056057453155518, 'name': 'c911c0be-060b-4e21-a795-6026508d7a25', 'dataset': 'D100', 'matcher': 'LocalTopPM', 'auc': 0.48290705283714586, 'recall': 0.6570631970260223}]}}\n"
     ]
    }
   ],
   "source": [
    "# We can calculate the AUC / visualize the ROC for each of the executed workflows\n",
    "# Bear in mind the curves' legends contain the randomly generated identifier for each workflow\n",
    "evaluator = Evaluation(data)\n",
    "evaluator.visualize_results_roc(results=mb_workflow_results, drop_tp_indices=True)\n",
    "# In order to understand which curve corresponds to which workflow:\n",
    "# Search for the identifier within the workflows results dictionary \n",
    "print(mb_workflow_results)"
   ]
  },
  {
   "cell_type": "markdown",
   "id": "a2810b6f",
   "metadata": {},
   "source": [
    "## Join PER Workflows"
   ]
  },
  {
   "cell_type": "code",
   "execution_count": 36,
   "id": "d052343d-70e6-4673-a9dc-42e082d7305e",
   "metadata": {},
   "outputs": [],
   "source": [
    "# Those are the arguments that are available for Join-based PER workflows\n",
    "# They can be passed to the run function either in the form of an argument dictionary like the one above\n",
    "# or you can simply define the arguments and their proper values in the parameters of the run function\n",
    "available_jn_workflow_arguments = {\n",
    "    \"algorithm\": [\"DFS\", \"BFS\", \"HB\", \"TOP\"],\n",
    "    \"number_of_nearest_neighbors\": [1,2,3,4,5,6,7,8,9,10],\n",
    "    \"indexing\": [\"inorder\", \"reverse\", \"bilateral\"],\n",
    "    \"similarity_function\": [\"cosine\", \"dice\", \"jaccard\"],\n",
    "    \"tokenizer\": [\"qgrams\", \"standard\", \"standard_multiset\", \"qgrams_multiset\"],\n",
    "    \"qgram\": [1,2,3,4,5],\n",
    "}\n",
    "\n",
    "# We choose a group of Join-based PER workflows which will be the product of a subset of the original, available arguments and values\n",
    "example_jn_workflows_arguments = {\n",
    "    \"algorithm\": [\"HB\"],\n",
    "    \"number_of_nearest_neighbors\": [2,10],\n",
    "    \"indexing\": [\"inorder\", \"reverse\"],\n",
    "    \"similarity_function\": [\"cosine\"],\n",
    "    \"tokenizer\": [\"qgrams\", \"standard\"],\n",
    "    \"qgram\": [2,5]\n",
    "}\n",
    "\n",
    "# The name of our PER module \n",
    "jn_matcher = \"TopKJoinPM\""
   ]
  },
  {
   "cell_type": "code",
   "execution_count": 37,
   "id": "55053c40-83fb-4374-8751-2fe205ba120a",
   "metadata": {},
   "outputs": [
    {
     "name": "stdout",
     "output_type": "stream",
     "text": [
      "[1076, 2152]\n",
      "#### WORKFLOW 1/32 ####\n",
      "{'similarity_function': 'cosine', 'number_of_nearest_neighbors': 2, 'tokenizer': 'qgrams', 'qgram': 2}\n",
      "{'budget': 1076, 'algorithm': 'HB', 'indexing': 'inorder'}\n"
     ]
    },
    {
     "name": "stderr",
     "output_type": "stream",
     "text": [
      "Top-K Join Progressive Matching:   0%|          | 0/3019 [00:00<?, ?it/s]\n",
      "Top-K Join (cosine):   0%|          | 0/2152 [00:00<?, ?it/s]\u001b[A\n",
      "Top-K Join (cosine):  50%|█████     | 1083/2152 [00:00<00:00, 10346.94it/s]\u001b[A\n",
      "Top-K Join (cosine):  96%|█████████▌| 2069/2152 [00:11<00:00, 146.20it/s]  \u001b[A\n",
      "Top-K Join (cosine):  96%|█████████▌| 2069/2152 [00:11<00:00, 146.20it/s]\u001b[A\n",
      "Top-K Join (cosine): 100%|██████████| 2152/2152 [00:12<00:00, 165.54it/s]\u001b[A\n",
      "Top-K Join Progressive Matching:   0%|          | 0/3019 [00:13<?, ?it/s]\n"
     ]
    },
    {
     "name": "stdout",
     "output_type": "stream",
     "text": [
      "algorithm : HB\n",
      "number_of_nearest_neighbors : 2\n",
      "indexing : inorder\n",
      "similarity_function : cosine\n",
      "tokenizer : qgrams\n",
      "qgram : 2\n",
      "total_candidates : 1076\n",
      "total_emissions : 1076\n",
      "time : 13.497895956039429\n",
      "name : de4fa4e7-b255-44f7-8077-e71d096bc25b\n",
      "true_positives : 734\n",
      "dataset : D100\n",
      "matcher : TopKJoinPM\n",
      "#### WORKFLOW 2/32 ####\n",
      "{'similarity_function': 'cosine', 'number_of_nearest_neighbors': 2, 'tokenizer': 'qgrams', 'qgram': 5}\n",
      "{'budget': 1076, 'algorithm': 'HB', 'indexing': 'inorder'}\n"
     ]
    },
    {
     "name": "stderr",
     "output_type": "stream",
     "text": [
      "Top-K Join Progressive Matching:   0%|          | 0/3019 [00:00<?, ?it/s]\n",
      "Top-K Join (cosine):   0%|          | 0/2152 [00:00<?, ?it/s]\u001b[A\n",
      "Top-K Join (cosine):  43%|████▎     | 917/2152 [00:00<00:00, 9168.83it/s]\u001b[A\n",
      "Top-K Join (cosine): 100%|██████████| 2152/2152 [00:01<00:00, 1126.22it/s]\u001b[A\n",
      "Top-K Join Progressive Matching:   0%|          | 0/3019 [00:02<?, ?it/s]\n"
     ]
    },
    {
     "name": "stdout",
     "output_type": "stream",
     "text": [
      "algorithm : HB\n",
      "number_of_nearest_neighbors : 2\n",
      "indexing : inorder\n",
      "similarity_function : cosine\n",
      "tokenizer : qgrams\n",
      "qgram : 5\n",
      "total_candidates : 1076\n",
      "total_emissions : 1076\n",
      "time : 2.5070173740386963\n",
      "name : 73828cd7-743e-40a4-ab81-41e91c8ebf90\n",
      "true_positives : 742\n",
      "dataset : D100\n",
      "matcher : TopKJoinPM\n",
      "#### WORKFLOW 3/32 ####\n",
      "{'similarity_function': 'cosine', 'number_of_nearest_neighbors': 2, 'tokenizer': 'standard', 'qgram': 2}\n",
      "{'budget': 1076, 'algorithm': 'HB', 'indexing': 'inorder'}\n"
     ]
    },
    {
     "name": "stderr",
     "output_type": "stream",
     "text": [
      "Top-K Join Progressive Matching:   0%|          | 0/3019 [00:00<?, ?it/s]\n",
      "Top-K Join (cosine):   0%|          | 0/2152 [00:00<?, ?it/s]\u001b[A\n",
      "Top-K Join (cosine): 100%|██████████| 2152/2152 [00:01<00:00, 2026.49it/s] \u001b[A\n",
      "Top-K Join Progressive Matching:   0%|          | 0/3019 [00:01<?, ?it/s]\n"
     ]
    },
    {
     "name": "stdout",
     "output_type": "stream",
     "text": [
      "algorithm : HB\n",
      "number_of_nearest_neighbors : 2\n",
      "indexing : inorder\n",
      "similarity_function : cosine\n",
      "tokenizer : standard\n",
      "qgram : 2\n",
      "total_candidates : 1076\n",
      "total_emissions : 1076\n",
      "time : 1.5485179424285889\n",
      "name : 90e986a3-fbf8-4652-9e04-45752fc72bc4\n",
      "true_positives : 735\n",
      "dataset : D100\n",
      "matcher : TopKJoinPM\n",
      "#### WORKFLOW 4/32 ####\n",
      "{'similarity_function': 'cosine', 'number_of_nearest_neighbors': 2, 'tokenizer': 'standard', 'qgram': 5}\n",
      "{'budget': 1076, 'algorithm': 'HB', 'indexing': 'inorder'}\n"
     ]
    },
    {
     "name": "stderr",
     "output_type": "stream",
     "text": [
      "Top-K Join Progressive Matching:   0%|          | 0/3019 [00:00<?, ?it/s]\n",
      "Top-K Join (cosine):   0%|          | 0/2152 [00:00<?, ?it/s]\u001b[A\n",
      "Top-K Join (cosine): 100%|██████████| 2152/2152 [00:01<00:00, 2063.43it/s] \u001b[A\n",
      "Top-K Join Progressive Matching:   0%|          | 0/3019 [00:01<?, ?it/s]\n"
     ]
    },
    {
     "name": "stdout",
     "output_type": "stream",
     "text": [
      "algorithm : HB\n",
      "number_of_nearest_neighbors : 2\n",
      "indexing : inorder\n",
      "similarity_function : cosine\n",
      "tokenizer : standard\n",
      "qgram : 5\n",
      "total_candidates : 1076\n",
      "total_emissions : 1076\n",
      "time : 1.305600881576538\n",
      "name : f631331e-97c2-4d6a-9205-1fbef5328b5b\n",
      "true_positives : 735\n",
      "dataset : D100\n",
      "matcher : TopKJoinPM\n",
      "#### WORKFLOW 5/32 ####\n",
      "{'similarity_function': 'cosine', 'number_of_nearest_neighbors': 2, 'tokenizer': 'qgrams', 'qgram': 2}\n",
      "{'budget': 1076, 'algorithm': 'HB', 'indexing': 'reverse'}\n"
     ]
    },
    {
     "name": "stderr",
     "output_type": "stream",
     "text": [
      "Top-K Join Progressive Matching:   0%|          | 0/3019 [00:00<?, ?it/s]\n",
      "Top-K Join (cosine):   0%|          | 0/2152 [00:00<?, ?it/s]\u001b[A\n",
      "Top-K Join (cosine):  50%|█████     | 1082/2152 [00:00<00:00, 9947.17it/s]\u001b[A\n",
      "Top-K Join (cosine):  97%|█████████▋| 2077/2152 [00:11<00:00, 150.57it/s] \u001b[A\n",
      "Top-K Join (cosine): 100%|██████████| 2152/2152 [00:12<00:00, 169.98it/s]\u001b[A\n",
      "Top-K Join Progressive Matching:   0%|          | 0/3019 [00:12<?, ?it/s]\n"
     ]
    },
    {
     "name": "stdout",
     "output_type": "stream",
     "text": [
      "algorithm : HB\n",
      "number_of_nearest_neighbors : 2\n",
      "indexing : reverse\n",
      "similarity_function : cosine\n",
      "tokenizer : qgrams\n",
      "qgram : 2\n",
      "total_candidates : 1076\n",
      "total_emissions : 1076\n",
      "time : 13.24766230583191\n",
      "name : 1d02b7b0-badb-40b0-9e0e-4fe9e3b31b64\n",
      "true_positives : 740\n",
      "dataset : D100\n",
      "matcher : TopKJoinPM\n",
      "#### WORKFLOW 6/32 ####\n",
      "{'similarity_function': 'cosine', 'number_of_nearest_neighbors': 2, 'tokenizer': 'qgrams', 'qgram': 5}\n",
      "{'budget': 1076, 'algorithm': 'HB', 'indexing': 'reverse'}\n"
     ]
    },
    {
     "name": "stderr",
     "output_type": "stream",
     "text": [
      "Top-K Join Progressive Matching:   0%|          | 0/3019 [00:00<?, ?it/s]\n",
      "Top-K Join (cosine):   0%|          | 0/2152 [00:00<?, ?it/s]\u001b[A\n",
      "Top-K Join (cosine): 100%|██████████| 2152/2152 [00:01<00:00, 1239.44it/s] \u001b[A\n",
      "Top-K Join Progressive Matching:   0%|          | 0/3019 [00:02<?, ?it/s]\n"
     ]
    },
    {
     "name": "stdout",
     "output_type": "stream",
     "text": [
      "algorithm : HB\n",
      "number_of_nearest_neighbors : 2\n",
      "indexing : reverse\n",
      "similarity_function : cosine\n",
      "tokenizer : qgrams\n",
      "qgram : 5\n",
      "total_candidates : 1076\n",
      "total_emissions : 1076\n",
      "time : 2.3243024349212646\n",
      "name : c5b29eb4-b3ab-46b8-8ed1-eb5de4476266\n",
      "true_positives : 733\n",
      "dataset : D100\n",
      "matcher : TopKJoinPM\n",
      "#### WORKFLOW 7/32 ####\n",
      "{'similarity_function': 'cosine', 'number_of_nearest_neighbors': 2, 'tokenizer': 'standard', 'qgram': 2}\n",
      "{'budget': 1076, 'algorithm': 'HB', 'indexing': 'reverse'}\n"
     ]
    },
    {
     "name": "stderr",
     "output_type": "stream",
     "text": [
      "Top-K Join Progressive Matching:   0%|          | 0/3019 [00:00<?, ?it/s]\n",
      "Top-K Join (cosine):   0%|          | 0/2152 [00:00<?, ?it/s]\u001b[A\n",
      "Top-K Join (cosine): 100%|██████████| 2152/2152 [00:00<00:00, 2271.82it/s] \u001b[A\n",
      "Top-K Join Progressive Matching:   0%|          | 0/3019 [00:01<?, ?it/s]\n"
     ]
    },
    {
     "name": "stdout",
     "output_type": "stream",
     "text": [
      "algorithm : HB\n",
      "number_of_nearest_neighbors : 2\n",
      "indexing : reverse\n",
      "similarity_function : cosine\n",
      "tokenizer : standard\n",
      "qgram : 2\n",
      "total_candidates : 1076\n",
      "total_emissions : 1076\n",
      "time : 1.4356060028076172\n",
      "name : 8e4764c7-00fc-4c30-8390-b56bbea1f06e\n",
      "true_positives : 720\n",
      "dataset : D100\n",
      "matcher : TopKJoinPM\n",
      "#### WORKFLOW 8/32 ####\n",
      "{'similarity_function': 'cosine', 'number_of_nearest_neighbors': 2, 'tokenizer': 'standard', 'qgram': 5}\n",
      "{'budget': 1076, 'algorithm': 'HB', 'indexing': 'reverse'}\n"
     ]
    },
    {
     "name": "stderr",
     "output_type": "stream",
     "text": [
      "Top-K Join Progressive Matching:   0%|          | 0/3019 [00:00<?, ?it/s]\n",
      "Top-K Join (cosine):   0%|          | 0/2152 [00:00<?, ?it/s]\u001b[A\n",
      "Top-K Join (cosine):  51%|█████     | 1096/2152 [00:00<00:00, 4084.65it/s]\u001b[A\n",
      "Top-K Join (cosine):  70%|██████▉   | 1505/2152 [00:00<00:00, 2256.01it/s]\u001b[A\n",
      "Top-K Join (cosine):  81%|████████  | 1746/2152 [00:00<00:00, 1675.26it/s]\u001b[A\n",
      "Top-K Join (cosine):  89%|████████▉ | 1918/2152 [00:01<00:00, 1509.64it/s]\u001b[A\n",
      "Top-K Join (cosine): 100%|██████████| 2152/2152 [00:01<00:00, 1672.86it/s]\u001b[A\n",
      "Top-K Join Progressive Matching:   0%|          | 0/3019 [00:01<?, ?it/s]\n"
     ]
    },
    {
     "name": "stdout",
     "output_type": "stream",
     "text": [
      "algorithm : HB\n",
      "number_of_nearest_neighbors : 2\n",
      "indexing : reverse\n",
      "similarity_function : cosine\n",
      "tokenizer : standard\n",
      "qgram : 5\n",
      "total_candidates : 1076\n",
      "total_emissions : 1076\n",
      "time : 1.5821354389190674\n",
      "name : 160e27fa-cc24-4482-8c26-35483cf1361f\n",
      "true_positives : 720\n",
      "dataset : D100\n",
      "matcher : TopKJoinPM\n",
      "#### WORKFLOW 9/32 ####\n",
      "{'similarity_function': 'cosine', 'number_of_nearest_neighbors': 10, 'tokenizer': 'qgrams', 'qgram': 2}\n",
      "{'budget': 1076, 'algorithm': 'HB', 'indexing': 'inorder'}\n"
     ]
    },
    {
     "name": "stderr",
     "output_type": "stream",
     "text": [
      "Top-K Join Progressive Matching:   0%|          | 0/3019 [00:00<?, ?it/s]\n",
      "Top-K Join (cosine):   0%|          | 0/2152 [00:00<?, ?it/s]\u001b[A\n",
      "Top-K Join (cosine):  50%|█████     | 1083/2152 [00:00<00:00, 10340.20it/s]\u001b[A\n",
      "Top-K Join (cosine):  98%|█████████▊| 2118/2152 [00:12<00:00, 143.46it/s]  \u001b[A\n",
      "Top-K Join (cosine): 100%|██████████| 2152/2152 [00:12<00:00, 166.60it/s]\u001b[A\n",
      "Top-K Join Progressive Matching:   0%|          | 0/3019 [00:13<?, ?it/s]\n"
     ]
    },
    {
     "name": "stdout",
     "output_type": "stream",
     "text": [
      "algorithm : HB\n",
      "number_of_nearest_neighbors : 10\n",
      "indexing : inorder\n",
      "similarity_function : cosine\n",
      "tokenizer : qgrams\n",
      "qgram : 2\n",
      "total_candidates : 1076\n",
      "total_emissions : 1076\n",
      "time : 13.244184494018555\n",
      "name : 0d5e00ab-32e2-44ba-8540-440a7ebb087a\n",
      "true_positives : 610\n",
      "dataset : D100\n",
      "matcher : TopKJoinPM\n",
      "#### WORKFLOW 10/32 ####\n",
      "{'similarity_function': 'cosine', 'number_of_nearest_neighbors': 10, 'tokenizer': 'qgrams', 'qgram': 5}\n",
      "{'budget': 1076, 'algorithm': 'HB', 'indexing': 'inorder'}\n"
     ]
    },
    {
     "name": "stderr",
     "output_type": "stream",
     "text": [
      "Top-K Join Progressive Matching:   0%|          | 0/3019 [00:00<?, ?it/s]\n",
      "Top-K Join (cosine):   0%|          | 0/2152 [00:00<?, ?it/s]\u001b[A\n",
      "Top-K Join (cosine): 100%|██████████| 2152/2152 [00:01<00:00, 1215.48it/s] \u001b[A\n",
      "Top-K Join Progressive Matching:   0%|          | 0/3019 [00:01<?, ?it/s]\n"
     ]
    },
    {
     "name": "stdout",
     "output_type": "stream",
     "text": [
      "algorithm : HB\n",
      "number_of_nearest_neighbors : 10\n",
      "indexing : inorder\n",
      "similarity_function : cosine\n",
      "tokenizer : qgrams\n",
      "qgram : 5\n",
      "total_candidates : 1076\n",
      "total_emissions : 1076\n",
      "time : 2.2989444732666016\n",
      "name : 60bd6e3e-6341-470b-a670-c79d691b215f\n",
      "true_positives : 718\n",
      "dataset : D100\n",
      "matcher : TopKJoinPM\n",
      "#### WORKFLOW 11/32 ####\n",
      "{'similarity_function': 'cosine', 'number_of_nearest_neighbors': 10, 'tokenizer': 'standard', 'qgram': 2}\n",
      "{'budget': 1076, 'algorithm': 'HB', 'indexing': 'inorder'}\n"
     ]
    },
    {
     "name": "stderr",
     "output_type": "stream",
     "text": [
      "Top-K Join Progressive Matching:   0%|          | 0/3019 [00:00<?, ?it/s]\n",
      "Top-K Join (cosine):   0%|          | 0/2152 [00:00<?, ?it/s]\u001b[A\n",
      "Top-K Join (cosine): 100%|██████████| 2152/2152 [00:01<00:00, 2036.71it/s] \u001b[A\n",
      "Top-K Join Progressive Matching:   0%|          | 0/3019 [00:01<?, ?it/s]\n"
     ]
    },
    {
     "name": "stdout",
     "output_type": "stream",
     "text": [
      "algorithm : HB\n",
      "number_of_nearest_neighbors : 10\n",
      "indexing : inorder\n",
      "similarity_function : cosine\n",
      "tokenizer : standard\n",
      "qgram : 2\n",
      "total_candidates : 1076\n",
      "total_emissions : 1076\n",
      "time : 1.502495527267456\n",
      "name : 7126bca1-2548-4076-bd6d-643b5bbccba7\n",
      "true_positives : 711\n",
      "dataset : D100\n",
      "matcher : TopKJoinPM\n",
      "#### WORKFLOW 12/32 ####\n",
      "{'similarity_function': 'cosine', 'number_of_nearest_neighbors': 10, 'tokenizer': 'standard', 'qgram': 5}\n",
      "{'budget': 1076, 'algorithm': 'HB', 'indexing': 'inorder'}\n"
     ]
    },
    {
     "name": "stderr",
     "output_type": "stream",
     "text": [
      "Top-K Join Progressive Matching:   0%|          | 0/3019 [00:00<?, ?it/s]\n",
      "Top-K Join (cosine):   0%|          | 0/2152 [00:00<?, ?it/s]\u001b[A\n",
      "Top-K Join (cosine): 100%|██████████| 2152/2152 [00:01<00:00, 1981.66it/s] \u001b[A\n",
      "Top-K Join Progressive Matching:   0%|          | 0/3019 [00:01<?, ?it/s]\n"
     ]
    },
    {
     "name": "stdout",
     "output_type": "stream",
     "text": [
      "algorithm : HB\n",
      "number_of_nearest_neighbors : 10\n",
      "indexing : inorder\n",
      "similarity_function : cosine\n",
      "tokenizer : standard\n",
      "qgram : 5\n",
      "total_candidates : 1076\n",
      "total_emissions : 1076\n",
      "time : 1.3352453708648682\n",
      "name : 35051493-2a9b-4a10-8e7c-5e9973af09a4\n",
      "true_positives : 711\n",
      "dataset : D100\n",
      "matcher : TopKJoinPM\n",
      "#### WORKFLOW 13/32 ####\n",
      "{'similarity_function': 'cosine', 'number_of_nearest_neighbors': 10, 'tokenizer': 'qgrams', 'qgram': 2}\n",
      "{'budget': 1076, 'algorithm': 'HB', 'indexing': 'reverse'}\n"
     ]
    },
    {
     "name": "stderr",
     "output_type": "stream",
     "text": [
      "Top-K Join Progressive Matching:   0%|          | 0/3019 [00:00<?, ?it/s]\n",
      "Top-K Join (cosine):   0%|          | 0/2152 [00:00<?, ?it/s]\u001b[A\n",
      "Top-K Join (cosine): 100%|██████████| 2152/2152 [00:13<00:00, 165.36it/s]  \u001b[A\n",
      "Top-K Join Progressive Matching:   0%|          | 0/3019 [00:13<?, ?it/s]\n"
     ]
    },
    {
     "name": "stdout",
     "output_type": "stream",
     "text": [
      "algorithm : HB\n",
      "number_of_nearest_neighbors : 10\n",
      "indexing : reverse\n",
      "similarity_function : cosine\n",
      "tokenizer : qgrams\n",
      "qgram : 2\n",
      "total_candidates : 1076\n",
      "total_emissions : 1076\n",
      "time : 13.59870433807373\n",
      "name : 7c71046e-e93e-4e3d-9ef3-3dedc88c7db7\n",
      "true_positives : 740\n",
      "dataset : D100\n",
      "matcher : TopKJoinPM\n",
      "#### WORKFLOW 14/32 ####\n",
      "{'similarity_function': 'cosine', 'number_of_nearest_neighbors': 10, 'tokenizer': 'qgrams', 'qgram': 5}\n",
      "{'budget': 1076, 'algorithm': 'HB', 'indexing': 'reverse'}\n"
     ]
    },
    {
     "name": "stderr",
     "output_type": "stream",
     "text": [
      "Top-K Join Progressive Matching:   0%|          | 0/3019 [00:00<?, ?it/s]\n",
      "Top-K Join (cosine):   0%|          | 0/2152 [00:00<?, ?it/s]\u001b[A\n",
      "Top-K Join (cosine):  48%|████▊     | 1041/2152 [00:00<00:00, 10385.35it/s]\u001b[A\n",
      "Top-K Join (cosine): 100%|██████████| 2152/2152 [00:01<00:00, 1102.61it/s] \u001b[A\n",
      "Top-K Join Progressive Matching:   0%|          | 0/3019 [00:02<?, ?it/s]\n"
     ]
    },
    {
     "name": "stdout",
     "output_type": "stream",
     "text": [
      "algorithm : HB\n",
      "number_of_nearest_neighbors : 10\n",
      "indexing : reverse\n",
      "similarity_function : cosine\n",
      "tokenizer : qgrams\n",
      "qgram : 5\n",
      "total_candidates : 1076\n",
      "total_emissions : 1076\n",
      "time : 2.5377771854400635\n",
      "name : 8fe00db0-f62b-4ef0-9ee0-cec6b13c3d43\n",
      "true_positives : 733\n",
      "dataset : D100\n",
      "matcher : TopKJoinPM\n",
      "#### WORKFLOW 15/32 ####\n",
      "{'similarity_function': 'cosine', 'number_of_nearest_neighbors': 10, 'tokenizer': 'standard', 'qgram': 2}\n",
      "{'budget': 1076, 'algorithm': 'HB', 'indexing': 'reverse'}\n"
     ]
    },
    {
     "name": "stderr",
     "output_type": "stream",
     "text": [
      "Top-K Join Progressive Matching:   0%|          | 0/3019 [00:00<?, ?it/s]\n",
      "Top-K Join (cosine):   0%|          | 0/2152 [00:00<?, ?it/s]\u001b[A\n",
      "Top-K Join (cosine): 100%|██████████| 2152/2152 [00:01<00:00, 1923.36it/s] \u001b[A\n",
      "Top-K Join Progressive Matching:   0%|          | 0/3019 [00:01<?, ?it/s]\n"
     ]
    },
    {
     "name": "stdout",
     "output_type": "stream",
     "text": [
      "algorithm : HB\n",
      "number_of_nearest_neighbors : 10\n",
      "indexing : reverse\n",
      "similarity_function : cosine\n",
      "tokenizer : standard\n",
      "qgram : 2\n",
      "total_candidates : 1076\n",
      "total_emissions : 1076\n",
      "time : 1.6483306884765625\n",
      "name : 7f748ed3-0319-4073-9b2d-60bcfc7972be\n",
      "true_positives : 720\n",
      "dataset : D100\n",
      "matcher : TopKJoinPM\n",
      "#### WORKFLOW 16/32 ####\n",
      "{'similarity_function': 'cosine', 'number_of_nearest_neighbors': 10, 'tokenizer': 'standard', 'qgram': 5}\n",
      "{'budget': 1076, 'algorithm': 'HB', 'indexing': 'reverse'}\n"
     ]
    },
    {
     "name": "stderr",
     "output_type": "stream",
     "text": [
      "Top-K Join Progressive Matching:   0%|          | 0/3019 [00:00<?, ?it/s]\n",
      "Top-K Join (cosine):   0%|          | 0/2152 [00:00<?, ?it/s]\u001b[A\n",
      "Top-K Join (cosine): 100%|██████████| 2152/2152 [00:01<00:00, 1922.95it/s] \u001b[A\n",
      "Top-K Join Progressive Matching:   0%|          | 0/3019 [00:01<?, ?it/s]\n"
     ]
    },
    {
     "name": "stdout",
     "output_type": "stream",
     "text": [
      "algorithm : HB\n",
      "number_of_nearest_neighbors : 10\n",
      "indexing : reverse\n",
      "similarity_function : cosine\n",
      "tokenizer : standard\n",
      "qgram : 5\n",
      "total_candidates : 1076\n",
      "total_emissions : 1076\n",
      "time : 1.616624116897583\n",
      "name : dfb31df0-1678-4a4b-b3ff-66c2dd925839\n",
      "true_positives : 720\n",
      "dataset : D100\n",
      "matcher : TopKJoinPM\n",
      "#### WORKFLOW 17/32 ####\n",
      "{'similarity_function': 'cosine', 'number_of_nearest_neighbors': 2, 'tokenizer': 'qgrams', 'qgram': 2}\n",
      "{'budget': 2152, 'algorithm': 'HB', 'indexing': 'inorder'}\n"
     ]
    },
    {
     "name": "stderr",
     "output_type": "stream",
     "text": [
      "Top-K Join Progressive Matching:   0%|          | 0/3019 [00:00<?, ?it/s]\n",
      "Top-K Join (cosine):   0%|          | 0/2152 [00:00<?, ?it/s]\u001b[A\n",
      "Top-K Join (cosine):  50%|█████     | 1084/2152 [00:00<00:00, 9863.83it/s]\u001b[A\n",
      "Top-K Join (cosine):  96%|█████████▌| 2071/2152 [00:12<00:00, 144.15it/s] \u001b[A\n",
      "Top-K Join (cosine): 100%|██████████| 2152/2152 [00:13<00:00, 163.64it/s]\u001b[A\n",
      "Top-K Join Progressive Matching:   0%|          | 0/3019 [00:13<?, ?it/s]\n"
     ]
    },
    {
     "name": "stdout",
     "output_type": "stream",
     "text": [
      "algorithm : HB\n",
      "number_of_nearest_neighbors : 2\n",
      "indexing : inorder\n",
      "similarity_function : cosine\n",
      "tokenizer : qgrams\n",
      "qgram : 2\n",
      "total_candidates : 2152\n",
      "total_emissions : 2152\n",
      "time : 13.44297742843628\n",
      "name : 0aeded0b-ed95-46bc-98e2-0ebad27d3ecd\n",
      "true_positives : 873\n",
      "dataset : D100\n",
      "matcher : TopKJoinPM\n",
      "#### WORKFLOW 18/32 ####\n",
      "{'similarity_function': 'cosine', 'number_of_nearest_neighbors': 2, 'tokenizer': 'qgrams', 'qgram': 5}\n",
      "{'budget': 2152, 'algorithm': 'HB', 'indexing': 'inorder'}\n"
     ]
    },
    {
     "name": "stderr",
     "output_type": "stream",
     "text": [
      "Top-K Join Progressive Matching:   0%|          | 0/3019 [00:00<?, ?it/s]\n",
      "Top-K Join (cosine):   0%|          | 0/2152 [00:00<?, ?it/s]\u001b[A\n",
      "Top-K Join (cosine): 100%|██████████| 2152/2152 [00:01<00:00, 1183.41it/s] \u001b[A\n",
      "Top-K Join Progressive Matching:   0%|          | 0/3019 [00:01<?, ?it/s]\n"
     ]
    },
    {
     "name": "stdout",
     "output_type": "stream",
     "text": [
      "algorithm : HB\n",
      "number_of_nearest_neighbors : 2\n",
      "indexing : inorder\n",
      "similarity_function : cosine\n",
      "tokenizer : qgrams\n",
      "qgram : 5\n",
      "total_candidates : 2152\n",
      "total_emissions : 2152\n",
      "time : 2.3466145992279053\n",
      "name : 014d47c4-140a-4e04-af62-9af12bae735f\n",
      "true_positives : 851\n",
      "dataset : D100\n",
      "matcher : TopKJoinPM\n",
      "#### WORKFLOW 19/32 ####\n",
      "{'similarity_function': 'cosine', 'number_of_nearest_neighbors': 2, 'tokenizer': 'standard', 'qgram': 2}\n",
      "{'budget': 2152, 'algorithm': 'HB', 'indexing': 'inorder'}\n"
     ]
    },
    {
     "name": "stderr",
     "output_type": "stream",
     "text": [
      "Top-K Join Progressive Matching:   0%|          | 0/3019 [00:00<?, ?it/s]\n",
      "Top-K Join (cosine):   0%|          | 0/2152 [00:00<?, ?it/s]\u001b[A\n",
      "Top-K Join (cosine): 100%|██████████| 2152/2152 [00:01<00:00, 2138.97it/s] \u001b[A\n",
      "Top-K Join Progressive Matching:   0%|          | 0/3019 [00:01<?, ?it/s]\n"
     ]
    },
    {
     "name": "stdout",
     "output_type": "stream",
     "text": [
      "algorithm : HB\n",
      "number_of_nearest_neighbors : 2\n",
      "indexing : inorder\n",
      "similarity_function : cosine\n",
      "tokenizer : standard\n",
      "qgram : 2\n",
      "total_candidates : 2152\n",
      "total_emissions : 2152\n",
      "time : 1.4424490928649902\n",
      "name : 8c95720d-b8fd-4575-baf6-20534c1b01a1\n",
      "true_positives : 820\n",
      "dataset : D100\n",
      "matcher : TopKJoinPM\n",
      "#### WORKFLOW 20/32 ####\n",
      "{'similarity_function': 'cosine', 'number_of_nearest_neighbors': 2, 'tokenizer': 'standard', 'qgram': 5}\n",
      "{'budget': 2152, 'algorithm': 'HB', 'indexing': 'inorder'}\n"
     ]
    },
    {
     "name": "stderr",
     "output_type": "stream",
     "text": [
      "Top-K Join Progressive Matching:   0%|          | 0/3019 [00:00<?, ?it/s]\n",
      "Top-K Join (cosine):   0%|          | 0/2152 [00:00<?, ?it/s]\u001b[A\n",
      "Top-K Join (cosine): 100%|██████████| 2152/2152 [00:01<00:00, 2133.23it/s] \u001b[A\n",
      "Top-K Join Progressive Matching:   0%|          | 0/3019 [00:01<?, ?it/s]\n"
     ]
    },
    {
     "name": "stdout",
     "output_type": "stream",
     "text": [
      "algorithm : HB\n",
      "number_of_nearest_neighbors : 2\n",
      "indexing : inorder\n",
      "similarity_function : cosine\n",
      "tokenizer : standard\n",
      "qgram : 5\n",
      "total_candidates : 2152\n",
      "total_emissions : 2152\n",
      "time : 1.2243101596832275\n",
      "name : f34edb81-d7a1-4fe2-89a4-3ab7371ad67f\n",
      "true_positives : 820\n",
      "dataset : D100\n",
      "matcher : TopKJoinPM\n",
      "#### WORKFLOW 21/32 ####\n",
      "{'similarity_function': 'cosine', 'number_of_nearest_neighbors': 2, 'tokenizer': 'qgrams', 'qgram': 2}\n",
      "{'budget': 2152, 'algorithm': 'HB', 'indexing': 'reverse'}\n"
     ]
    },
    {
     "name": "stderr",
     "output_type": "stream",
     "text": [
      "Top-K Join Progressive Matching:   0%|          | 0/3019 [00:00<?, ?it/s]\n",
      "Top-K Join (cosine):   0%|          | 0/2152 [00:00<?, ?it/s]\u001b[A\n",
      "Top-K Join (cosine):  50%|█████     | 1082/2152 [00:00<00:00, 10335.81it/s]\u001b[A\n",
      "Top-K Join (cosine):  98%|█████████▊| 2116/2152 [00:11<00:00, 151.84it/s]  \u001b[A\n",
      "Top-K Join (cosine): 100%|██████████| 2152/2152 [00:12<00:00, 176.67it/s]\u001b[A\n",
      "Top-K Join Progressive Matching:   0%|          | 0/3019 [00:12<?, ?it/s]\n"
     ]
    },
    {
     "name": "stdout",
     "output_type": "stream",
     "text": [
      "algorithm : HB\n",
      "number_of_nearest_neighbors : 2\n",
      "indexing : reverse\n",
      "similarity_function : cosine\n",
      "tokenizer : qgrams\n",
      "qgram : 2\n",
      "total_candidates : 2152\n",
      "total_emissions : 2152\n",
      "time : 12.712459325790405\n",
      "name : 4a50fda3-2788-4c2a-86ae-f67732582fd9\n",
      "true_positives : 875\n",
      "dataset : D100\n",
      "matcher : TopKJoinPM\n",
      "#### WORKFLOW 22/32 ####\n",
      "{'similarity_function': 'cosine', 'number_of_nearest_neighbors': 2, 'tokenizer': 'qgrams', 'qgram': 5}\n",
      "{'budget': 2152, 'algorithm': 'HB', 'indexing': 'reverse'}\n"
     ]
    },
    {
     "name": "stderr",
     "output_type": "stream",
     "text": [
      "Top-K Join Progressive Matching:   0%|          | 0/3019 [00:00<?, ?it/s]\n",
      "Top-K Join (cosine):   0%|          | 0/2152 [00:00<?, ?it/s]\u001b[A\n",
      "Top-K Join (cosine): 100%|██████████| 2152/2152 [00:01<00:00, 1314.93it/s] \u001b[A\n",
      "Top-K Join Progressive Matching:   0%|          | 0/3019 [00:01<?, ?it/s]\n"
     ]
    },
    {
     "name": "stdout",
     "output_type": "stream",
     "text": [
      "algorithm : HB\n",
      "number_of_nearest_neighbors : 2\n",
      "indexing : reverse\n",
      "similarity_function : cosine\n",
      "tokenizer : qgrams\n",
      "qgram : 5\n",
      "total_candidates : 2152\n",
      "total_emissions : 2152\n",
      "time : 2.2145018577575684\n",
      "name : b2d454da-774a-48af-9811-5f0949f44e00\n",
      "true_positives : 858\n",
      "dataset : D100\n",
      "matcher : TopKJoinPM\n",
      "#### WORKFLOW 23/32 ####\n",
      "{'similarity_function': 'cosine', 'number_of_nearest_neighbors': 2, 'tokenizer': 'standard', 'qgram': 2}\n",
      "{'budget': 2152, 'algorithm': 'HB', 'indexing': 'reverse'}\n"
     ]
    },
    {
     "name": "stderr",
     "output_type": "stream",
     "text": [
      "Top-K Join Progressive Matching:   0%|          | 0/3019 [00:00<?, ?it/s]\n",
      "Top-K Join (cosine):   0%|          | 0/2152 [00:00<?, ?it/s]\u001b[A\n",
      "Top-K Join (cosine): 100%|██████████| 2152/2152 [00:00<00:00, 2365.75it/s] \u001b[A\n",
      "Top-K Join Progressive Matching:   0%|          | 0/3019 [00:01<?, ?it/s]\n"
     ]
    },
    {
     "name": "stdout",
     "output_type": "stream",
     "text": [
      "algorithm : HB\n",
      "number_of_nearest_neighbors : 2\n",
      "indexing : reverse\n",
      "similarity_function : cosine\n",
      "tokenizer : standard\n",
      "qgram : 2\n",
      "total_candidates : 2152\n",
      "total_emissions : 2152\n",
      "time : 1.3802013397216797\n",
      "name : 403bb9ec-e533-445c-8d35-2e263e0a411f\n",
      "true_positives : 820\n",
      "dataset : D100\n",
      "matcher : TopKJoinPM\n",
      "#### WORKFLOW 24/32 ####\n",
      "{'similarity_function': 'cosine', 'number_of_nearest_neighbors': 2, 'tokenizer': 'standard', 'qgram': 5}\n",
      "{'budget': 2152, 'algorithm': 'HB', 'indexing': 'reverse'}\n"
     ]
    },
    {
     "name": "stderr",
     "output_type": "stream",
     "text": [
      "Top-K Join Progressive Matching:   0%|          | 0/3019 [00:00<?, ?it/s]\n",
      "Top-K Join (cosine):   0%|          | 0/2152 [00:00<?, ?it/s]\u001b[A\n",
      "Top-K Join (cosine): 100%|██████████| 2152/2152 [00:00<00:00, 2359.60it/s] \u001b[A\n",
      "Top-K Join Progressive Matching:   0%|          | 0/3019 [00:01<?, ?it/s]\n"
     ]
    },
    {
     "name": "stdout",
     "output_type": "stream",
     "text": [
      "algorithm : HB\n",
      "number_of_nearest_neighbors : 2\n",
      "indexing : reverse\n",
      "similarity_function : cosine\n",
      "tokenizer : standard\n",
      "qgram : 5\n",
      "total_candidates : 2152\n",
      "total_emissions : 2152\n",
      "time : 1.386265754699707\n",
      "name : d92c1718-6a81-4b70-9a19-e5b58a550016\n",
      "true_positives : 820\n",
      "dataset : D100\n",
      "matcher : TopKJoinPM\n",
      "#### WORKFLOW 25/32 ####\n",
      "{'similarity_function': 'cosine', 'number_of_nearest_neighbors': 10, 'tokenizer': 'qgrams', 'qgram': 2}\n",
      "{'budget': 2152, 'algorithm': 'HB', 'indexing': 'inorder'}\n"
     ]
    },
    {
     "name": "stderr",
     "output_type": "stream",
     "text": [
      "Top-K Join Progressive Matching:   0%|          | 0/3019 [00:00<?, ?it/s]\n",
      "Top-K Join (cosine):   0%|          | 0/2152 [00:00<?, ?it/s]\u001b[A\n",
      "Top-K Join (cosine):  50%|█████     | 1084/2152 [00:00<00:00, 10481.09it/s]\u001b[A\n",
      "Top-K Join (cosine):  94%|█████████▍| 2023/2152 [00:10<00:00, 160.33it/s]  \u001b[A\n",
      "Top-K Join (cosine):  94%|█████████▍| 2023/2152 [00:10<00:00, 160.33it/s]\u001b[A\n",
      "Top-K Join (cosine): 100%|██████████| 2152/2152 [00:12<00:00, 174.91it/s]\u001b[A\n",
      "Top-K Join Progressive Matching:   0%|          | 0/3019 [00:12<?, ?it/s]\n"
     ]
    },
    {
     "name": "stdout",
     "output_type": "stream",
     "text": [
      "algorithm : HB\n",
      "number_of_nearest_neighbors : 10\n",
      "indexing : inorder\n",
      "similarity_function : cosine\n",
      "tokenizer : qgrams\n",
      "qgram : 2\n",
      "total_candidates : 2152\n",
      "total_emissions : 2152\n",
      "time : 12.794157028198242\n",
      "name : 1ad182fa-d698-4ea1-a7e8-b0c85b500c7e\n",
      "true_positives : 645\n",
      "dataset : D100\n",
      "matcher : TopKJoinPM\n",
      "#### WORKFLOW 26/32 ####\n",
      "{'similarity_function': 'cosine', 'number_of_nearest_neighbors': 10, 'tokenizer': 'qgrams', 'qgram': 5}\n",
      "{'budget': 2152, 'algorithm': 'HB', 'indexing': 'inorder'}\n"
     ]
    },
    {
     "name": "stderr",
     "output_type": "stream",
     "text": [
      "Top-K Join Progressive Matching:   0%|          | 0/3019 [00:00<?, ?it/s]\n",
      "Top-K Join (cosine):   0%|          | 0/2152 [00:00<?, ?it/s]\u001b[A\n",
      "Top-K Join (cosine): 100%|██████████| 2152/2152 [00:02<00:00, 991.89it/s]  \u001b[A\n",
      "Top-K Join Progressive Matching:   0%|          | 0/3019 [00:02<?, ?it/s]\n"
     ]
    },
    {
     "name": "stdout",
     "output_type": "stream",
     "text": [
      "algorithm : HB\n",
      "number_of_nearest_neighbors : 10\n",
      "indexing : inorder\n",
      "similarity_function : cosine\n",
      "tokenizer : qgrams\n",
      "qgram : 5\n",
      "total_candidates : 2152\n",
      "total_emissions : 2152\n",
      "time : 2.518672227859497\n",
      "name : 25d22785-3090-47f7-947c-f114e16cf963\n",
      "true_positives : 760\n",
      "dataset : D100\n",
      "matcher : TopKJoinPM\n",
      "#### WORKFLOW 27/32 ####\n",
      "{'similarity_function': 'cosine', 'number_of_nearest_neighbors': 10, 'tokenizer': 'standard', 'qgram': 2}\n",
      "{'budget': 2152, 'algorithm': 'HB', 'indexing': 'inorder'}\n"
     ]
    },
    {
     "name": "stderr",
     "output_type": "stream",
     "text": [
      "Top-K Join Progressive Matching:   0%|          | 0/3019 [00:00<?, ?it/s]\n",
      "Top-K Join (cosine):   0%|          | 0/2152 [00:00<?, ?it/s]\u001b[A\n",
      "Top-K Join (cosine): 100%|██████████| 2152/2152 [00:01<00:00, 1939.18it/s] \u001b[A\n",
      "Top-K Join Progressive Matching:   0%|          | 0/3019 [00:01<?, ?it/s]\n"
     ]
    },
    {
     "name": "stdout",
     "output_type": "stream",
     "text": [
      "algorithm : HB\n",
      "number_of_nearest_neighbors : 10\n",
      "indexing : inorder\n",
      "similarity_function : cosine\n",
      "tokenizer : standard\n",
      "qgram : 2\n",
      "total_candidates : 2152\n",
      "total_emissions : 2152\n",
      "time : 1.3608503341674805\n",
      "name : b94d14a1-4b8f-4324-ae89-384eb2241399\n",
      "true_positives : 735\n",
      "dataset : D100\n",
      "matcher : TopKJoinPM\n",
      "#### WORKFLOW 28/32 ####\n",
      "{'similarity_function': 'cosine', 'number_of_nearest_neighbors': 10, 'tokenizer': 'standard', 'qgram': 5}\n",
      "{'budget': 2152, 'algorithm': 'HB', 'indexing': 'inorder'}\n"
     ]
    },
    {
     "name": "stderr",
     "output_type": "stream",
     "text": [
      "Top-K Join Progressive Matching:   0%|          | 0/3019 [00:00<?, ?it/s]\n",
      "Top-K Join (cosine):   0%|          | 0/2152 [00:00<?, ?it/s]\u001b[A\n",
      "Top-K Join (cosine): 100%|██████████| 2152/2152 [00:01<00:00, 1975.81it/s] \u001b[A\n",
      "Top-K Join Progressive Matching:   0%|          | 0/3019 [00:01<?, ?it/s]\n"
     ]
    },
    {
     "name": "stdout",
     "output_type": "stream",
     "text": [
      "algorithm : HB\n",
      "number_of_nearest_neighbors : 10\n",
      "indexing : inorder\n",
      "similarity_function : cosine\n",
      "tokenizer : standard\n",
      "qgram : 5\n",
      "total_candidates : 2152\n",
      "total_emissions : 2152\n",
      "time : 1.5844826698303223\n",
      "name : 92a011ce-7369-42ff-8b5e-3d9ed1680424\n",
      "true_positives : 735\n",
      "dataset : D100\n",
      "matcher : TopKJoinPM\n",
      "#### WORKFLOW 29/32 ####\n",
      "{'similarity_function': 'cosine', 'number_of_nearest_neighbors': 10, 'tokenizer': 'qgrams', 'qgram': 2}\n",
      "{'budget': 2152, 'algorithm': 'HB', 'indexing': 'reverse'}\n"
     ]
    },
    {
     "name": "stderr",
     "output_type": "stream",
     "text": [
      "Top-K Join Progressive Matching:   0%|          | 0/3019 [00:00<?, ?it/s]\n",
      "Top-K Join (cosine):   0%|          | 0/2152 [00:00<?, ?it/s]\u001b[A\n",
      "Top-K Join (cosine):  50%|█████     | 1083/2152 [00:00<00:00, 10185.92it/s]\u001b[A\n",
      "Top-K Join (cosine):  97%|█████████▋| 2093/2152 [00:12<00:00, 141.94it/s]  \u001b[A\n",
      "Top-K Join (cosine):  97%|█████████▋| 2093/2152 [00:12<00:00, 141.94it/s]\u001b[A\n",
      "Top-K Join (cosine): 100%|██████████| 2152/2152 [00:13<00:00, 163.03it/s]\u001b[A\n",
      "Top-K Join Progressive Matching:   0%|          | 0/3019 [00:13<?, ?it/s]\n"
     ]
    },
    {
     "name": "stdout",
     "output_type": "stream",
     "text": [
      "algorithm : HB\n",
      "number_of_nearest_neighbors : 10\n",
      "indexing : reverse\n",
      "similarity_function : cosine\n",
      "tokenizer : qgrams\n",
      "qgram : 2\n",
      "total_candidates : 2152\n",
      "total_emissions : 2152\n",
      "time : 13.783488750457764\n",
      "name : a1161b4c-1116-418f-8140-36e62f350246\n",
      "true_positives : 783\n",
      "dataset : D100\n",
      "matcher : TopKJoinPM\n",
      "#### WORKFLOW 30/32 ####\n",
      "{'similarity_function': 'cosine', 'number_of_nearest_neighbors': 10, 'tokenizer': 'qgrams', 'qgram': 5}\n",
      "{'budget': 2152, 'algorithm': 'HB', 'indexing': 'reverse'}\n"
     ]
    },
    {
     "name": "stderr",
     "output_type": "stream",
     "text": [
      "Top-K Join Progressive Matching:   0%|          | 0/3019 [00:00<?, ?it/s]\n",
      "Top-K Join (cosine):   0%|          | 0/2152 [00:00<?, ?it/s]\u001b[A\n",
      "Top-K Join (cosine):  46%|████▌     | 995/2152 [00:00<00:00, 3033.22it/s]\u001b[A\n",
      "Top-K Join (cosine):  60%|██████    | 1299/2152 [00:00<00:00, 1784.64it/s]\u001b[A\n",
      "Top-K Join (cosine):  69%|██████▊   | 1478/2152 [00:00<00:00, 1321.09it/s]\u001b[A\n",
      "Top-K Join (cosine):  75%|███████▍  | 1606/2152 [00:01<00:00, 1088.37it/s]\u001b[A\n",
      "Top-K Join (cosine):  79%|███████▉  | 1707/2152 [00:01<00:00, 871.38it/s] \u001b[A\n",
      "Top-K Join (cosine):  83%|████████▎ | 1787/2152 [00:01<00:00, 758.87it/s]\u001b[A\n",
      "Top-K Join (cosine):  86%|████████▌ | 1855/2152 [00:01<00:00, 726.85it/s]\u001b[A\n",
      "Top-K Join (cosine):  89%|████████▉ | 1923/2152 [00:01<00:00, 716.88it/s]\u001b[A\n",
      "Top-K Join (cosine):  92%|█████████▏| 1989/2152 [00:01<00:00, 668.35it/s]\u001b[A\n",
      "Top-K Join (cosine):  95%|█████████▌| 2051/2152 [00:02<00:00, 616.95it/s]\u001b[A\n",
      "Top-K Join (cosine): 100%|██████████| 2152/2152 [00:02<00:00, 971.01it/s]\u001b[A\n",
      "Top-K Join Progressive Matching:   0%|          | 0/3019 [00:02<?, ?it/s]\n"
     ]
    },
    {
     "name": "stdout",
     "output_type": "stream",
     "text": [
      "algorithm : HB\n",
      "number_of_nearest_neighbors : 10\n",
      "indexing : reverse\n",
      "similarity_function : cosine\n",
      "tokenizer : qgrams\n",
      "qgram : 5\n",
      "total_candidates : 2152\n",
      "total_emissions : 2152\n",
      "time : 2.597332000732422\n",
      "name : c98c918f-bd1e-4b63-8af0-e3029bba1cc1\n",
      "true_positives : 771\n",
      "dataset : D100\n",
      "matcher : TopKJoinPM\n",
      "#### WORKFLOW 31/32 ####\n",
      "{'similarity_function': 'cosine', 'number_of_nearest_neighbors': 10, 'tokenizer': 'standard', 'qgram': 2}\n",
      "{'budget': 2152, 'algorithm': 'HB', 'indexing': 'reverse'}\n"
     ]
    },
    {
     "name": "stderr",
     "output_type": "stream",
     "text": [
      "Top-K Join Progressive Matching:   0%|          | 0/3019 [00:00<?, ?it/s]\n",
      "Top-K Join (cosine):   0%|          | 0/2152 [00:00<?, ?it/s]\u001b[A\n",
      "Top-K Join (cosine): 100%|██████████| 2152/2152 [00:01<00:00, 1921.51it/s] \u001b[A\n",
      "Top-K Join Progressive Matching:   0%|          | 0/3019 [00:01<?, ?it/s]\n"
     ]
    },
    {
     "name": "stdout",
     "output_type": "stream",
     "text": [
      "algorithm : HB\n",
      "number_of_nearest_neighbors : 10\n",
      "indexing : reverse\n",
      "similarity_function : cosine\n",
      "tokenizer : standard\n",
      "qgram : 2\n",
      "total_candidates : 2152\n",
      "total_emissions : 2152\n",
      "time : 1.436697006225586\n",
      "name : 6fdfcc4f-1513-47e1-a940-c1c747a637b5\n",
      "true_positives : 764\n",
      "dataset : D100\n",
      "matcher : TopKJoinPM\n",
      "#### WORKFLOW 32/32 ####\n",
      "{'similarity_function': 'cosine', 'number_of_nearest_neighbors': 10, 'tokenizer': 'standard', 'qgram': 5}\n",
      "{'budget': 2152, 'algorithm': 'HB', 'indexing': 'reverse'}\n"
     ]
    },
    {
     "name": "stderr",
     "output_type": "stream",
     "text": [
      "Top-K Join Progressive Matching:   0%|          | 0/3019 [00:00<?, ?it/s]\n",
      "Top-K Join (cosine):   0%|          | 0/2152 [00:00<?, ?it/s]\u001b[A\n",
      "Top-K Join (cosine): 100%|██████████| 2152/2152 [00:01<00:00, 1916.00it/s] \u001b[A\n",
      "Top-K Join Progressive Matching:   0%|          | 0/3019 [00:01<?, ?it/s]"
     ]
    },
    {
     "name": "stdout",
     "output_type": "stream",
     "text": [
      "algorithm : HB\n",
      "number_of_nearest_neighbors : 10\n",
      "indexing : reverse\n",
      "similarity_function : cosine\n",
      "tokenizer : standard\n",
      "qgram : 5\n",
      "total_candidates : 2152\n",
      "total_emissions : 2152\n",
      "time : 1.641963005065918\n",
      "name : dcb30429-d919-427c-b46e-e6b33bd74414\n",
      "true_positives : 764\n",
      "dataset : D100\n",
      "matcher : TopKJoinPM\n"
     ]
    },
    {
     "name": "stderr",
     "output_type": "stream",
     "text": [
      "\n"
     ]
    }
   ],
   "source": [
    "jn_example_parameters = list(example_jn_workflows_arguments.keys())\n",
    "jn_example_values = list(example_jn_workflows_arguments.values())\n",
    "jn_example_workflow_combinations = list(product(*jn_example_values))\n",
    "\n",
    "# total number of workflows that will be executed\n",
    "total_workflows = len(jn_example_workflow_combinations) * len(BUDGETS)\n",
    "\n",
    "\n",
    "jn_workflow_results = {}\n",
    "workflows_count = 0\n",
    "print(BUDGETS)\n",
    "for budget in BUDGETS:\n",
    "    for jn_example_workflow_combination in jn_example_workflow_combinations:\n",
    "        # We setup the current workflow's arguments\n",
    "        jn_example_workflow_arguments = dict(zip(jn_example_parameters, jn_example_workflow_combination))\n",
    "        \n",
    "        # Current workflow is being executed with the given arguments combination\n",
    "        workflows_count += 1\n",
    "        print(f\"#### WORKFLOW {workflows_count}/{total_workflows} ####\")\n",
    "        jn_example_workflow = ProgressiveWorkFlow()\n",
    "        jn_example_workflow.run(data=data,\n",
    "                            block_building=None,\n",
    "                            block_purging=None,\n",
    "                            block_filtering=None,\n",
    "                            matcher=jn_matcher,\n",
    "                            budget=budget,\n",
    "                            dataset=DATASET_NAME,\n",
    "                            **jn_example_workflow_arguments)    \n",
    "        \n",
    "        # We add the last executed workflow into our final results\n",
    "        jn_example_workflow_info = jn_example_workflow.save(arguments=jn_example_workflow_arguments,\n",
    "                                                            results=jn_workflow_results)\n",
    "        \n",
    "        # We print current workflow information\n",
    "        jn_example_workflow.print_info(info=jn_example_workflow_info)"
   ]
  },
  {
   "cell_type": "code",
   "execution_count": 39,
   "id": "789e5e6e-3c9e-436d-b15c-364251eb7aea",
   "metadata": {},
   "outputs": [
    {
     "data": {
      "image/png": "[encoded data removed]",
      "text/plain": [
       "<Figure size 720x432 with 1 Axes>"
      ]
     },
     "metadata": {},
     "output_type": "display_data"
    },
    {
     "name": "stdout",
     "output_type": "stream",
     "text": [
      "{'D100': {'TopKJoinPM': [{'algorithm': 'HB', 'number_of_nearest_neighbors': 2, 'indexing': 'inorder', 'similarity_function': 'cosine', 'tokenizer': 'qgrams', 'qgram': 2, 'total_candidates': 1076, 'total_emissions': 1076, 'time': 13.497895956039429, 'name': 'de4fa4e7-b255-44f7-8077-e71d096bc25b', 'dataset': 'D100', 'matcher': 'TopKJoinPM', 'auc': 0.3823413170965738, 'recall': 0.6821561338289963}, {'algorithm': 'HB', 'number_of_nearest_neighbors': 2, 'indexing': 'inorder', 'similarity_function': 'cosine', 'tokenizer': 'qgrams', 'qgram': 5, 'total_candidates': 1076, 'total_emissions': 1076, 'time': 2.5070173740386963, 'name': '73828cd7-743e-40a4-ab81-41e91c8ebf90', 'dataset': 'D100', 'matcher': 'TopKJoinPM', 'auc': 0.39318135534132115, 'recall': 0.6895910780669146}, {'algorithm': 'HB', 'number_of_nearest_neighbors': 2, 'indexing': 'inorder', 'similarity_function': 'cosine', 'tokenizer': 'standard', 'qgram': 2, 'total_candidates': 1076, 'total_emissions': 1076, 'time': 1.5485179424285889, 'name': '90e986a3-fbf8-4652-9e04-45752fc72bc4', 'dataset': 'D100', 'matcher': 'TopKJoinPM', 'auc': 0.3903552826417866, 'recall': 0.6830855018587361}, {'algorithm': 'HB', 'number_of_nearest_neighbors': 2, 'indexing': 'inorder', 'similarity_function': 'cosine', 'tokenizer': 'standard', 'qgram': 5, 'total_candidates': 1076, 'total_emissions': 1076, 'time': 1.305600881576538, 'name': 'f631331e-97c2-4d6a-9205-1fbef5328b5b', 'dataset': 'D100', 'matcher': 'TopKJoinPM', 'auc': 0.3903552826417866, 'recall': 0.6830855018587361}, {'algorithm': 'HB', 'number_of_nearest_neighbors': 2, 'indexing': 'reverse', 'similarity_function': 'cosine', 'tokenizer': 'qgrams', 'qgram': 2, 'total_candidates': 1076, 'total_emissions': 1076, 'time': 13.24766230583191, 'name': '1d02b7b0-badb-40b0-9e0e-4fe9e3b31b64', 'dataset': 'D100', 'matcher': 'TopKJoinPM', 'auc': 0.3420712912434027, 'recall': 0.6877323420074349}, {'algorithm': 'HB', 'number_of_nearest_neighbors': 2, 'indexing': 'reverse', 'similarity_function': 'cosine', 'tokenizer': 'qgrams', 'qgram': 5, 'total_candidates': 1076, 'total_emissions': 1076, 'time': 2.3243024349212646, 'name': 'c5b29eb4-b3ab-46b8-8ed1-eb5de4476266', 'dataset': 'D100', 'matcher': 'TopKJoinPM', 'auc': 0.3389181707413887, 'recall': 0.6812267657992565}, {'algorithm': 'HB', 'number_of_nearest_neighbors': 2, 'indexing': 'reverse', 'similarity_function': 'cosine', 'tokenizer': 'standard', 'qgram': 2, 'total_candidates': 1076, 'total_emissions': 1076, 'time': 1.4356060028076172, 'name': '8e4764c7-00fc-4c30-8390-b56bbea1f06e', 'dataset': 'D100', 'matcher': 'TopKJoinPM', 'auc': 0.3371103471366489, 'recall': 0.6691449814126395}, {'algorithm': 'HB', 'number_of_nearest_neighbors': 2, 'indexing': 'reverse', 'similarity_function': 'cosine', 'tokenizer': 'standard', 'qgram': 5, 'total_candidates': 1076, 'total_emissions': 1076, 'time': 1.5821354389190674, 'name': '160e27fa-cc24-4482-8c26-35483cf1361f', 'dataset': 'D100', 'matcher': 'TopKJoinPM', 'auc': 0.3371103471366489, 'recall': 0.6691449814126395}, {'algorithm': 'HB', 'number_of_nearest_neighbors': 10, 'indexing': 'inorder', 'similarity_function': 'cosine', 'tokenizer': 'qgrams', 'qgram': 2, 'total_candidates': 1076, 'total_emissions': 1076, 'time': 13.244184494018555, 'name': '0d5e00ab-32e2-44ba-8540-440a7ebb087a', 'dataset': 'D100', 'matcher': 'TopKJoinPM', 'auc': 0.2860365258031221, 'recall': 0.5669144981412639}, {'algorithm': 'HB', 'number_of_nearest_neighbors': 10, 'indexing': 'inorder', 'similarity_function': 'cosine', 'tokenizer': 'qgrams', 'qgram': 5, 'total_candidates': 1076, 'total_emissions': 1076, 'time': 2.2989444732666016, 'name': '60bd6e3e-6341-470b-a670-c79d691b215f', 'dataset': 'D100', 'matcher': 'TopKJoinPM', 'auc': 0.32323886052748757, 'recall': 0.6672862453531598}, {'algorithm': 'HB', 'number_of_nearest_neighbors': 10, 'indexing': 'inorder', 'similarity_function': 'cosine', 'tokenizer': 'standard', 'qgram': 2, 'total_candidates': 1076, 'total_emissions': 1076, 'time': 1.502495527267456, 'name': '7126bca1-2548-4076-bd6d-643b5bbccba7', 'dataset': 'D100', 'matcher': 'TopKJoinPM', 'auc': 0.3276414934780282, 'recall': 0.6607806691449815}, {'algorithm': 'HB', 'number_of_nearest_neighbors': 10, 'indexing': 'inorder', 'similarity_function': 'cosine', 'tokenizer': 'standard', 'qgram': 5, 'total_candidates': 1076, 'total_emissions': 1076, 'time': 1.3352453708648682, 'name': '35051493-2a9b-4a10-8e7c-5e9973af09a4', 'dataset': 'D100', 'matcher': 'TopKJoinPM', 'auc': 0.3276414934780282, 'recall': 0.6607806691449815}, {'algorithm': 'HB', 'number_of_nearest_neighbors': 10, 'indexing': 'reverse', 'similarity_function': 'cosine', 'tokenizer': 'qgrams', 'qgram': 2, 'total_candidates': 1076, 'total_emissions': 1076, 'time': 13.59870433807373, 'name': '7c71046e-e93e-4e3d-9ef3-3dedc88c7db7', 'dataset': 'D100', 'matcher': 'TopKJoinPM', 'auc': 0.3250561762848059, 'recall': 0.6877323420074349}, {'algorithm': 'HB', 'number_of_nearest_neighbors': 10, 'indexing': 'reverse', 'similarity_function': 'cosine', 'tokenizer': 'qgrams', 'qgram': 5, 'total_candidates': 1076, 'total_emissions': 1076, 'time': 2.5377771854400635, 'name': '8fe00db0-f62b-4ef0-9ee0-cec6b13c3d43', 'dataset': 'D100', 'matcher': 'TopKJoinPM', 'auc': 0.31140214626199003, 'recall': 0.6812267657992565}, {'algorithm': 'HB', 'number_of_nearest_neighbors': 10, 'indexing': 'reverse', 'similarity_function': 'cosine', 'tokenizer': 'standard', 'qgram': 2, 'total_candidates': 1076, 'total_emissions': 1076, 'time': 1.6483306884765625, 'name': '7f748ed3-0319-4073-9b2d-60bcfc7972be', 'dataset': 'D100', 'matcher': 'TopKJoinPM', 'auc': 0.31174645252370453, 'recall': 0.6691449814126395}, {'algorithm': 'HB', 'number_of_nearest_neighbors': 10, 'indexing': 'reverse', 'similarity_function': 'cosine', 'tokenizer': 'standard', 'qgram': 5, 'total_candidates': 1076, 'total_emissions': 1076, 'time': 1.616624116897583, 'name': 'dfb31df0-1678-4a4b-b3ff-66c2dd925839', 'dataset': 'D100', 'matcher': 'TopKJoinPM', 'auc': 0.31174645252370453, 'recall': 0.6691449814126395}, {'algorithm': 'HB', 'number_of_nearest_neighbors': 2, 'indexing': 'inorder', 'similarity_function': 'cosine', 'tokenizer': 'qgrams', 'qgram': 2, 'total_candidates': 2152, 'total_emissions': 2152, 'time': 13.44297742843628, 'name': '0aeded0b-ed95-46bc-98e2-0ebad27d3ecd', 'dataset': 'D100', 'matcher': 'TopKJoinPM', 'auc': 0.5606692140473128, 'recall': 0.8113382899628253}, {'algorithm': 'HB', 'number_of_nearest_neighbors': 2, 'indexing': 'inorder', 'similarity_function': 'cosine', 'tokenizer': 'qgrams', 'qgram': 5, 'total_candidates': 2152, 'total_emissions': 2152, 'time': 2.3466145992279053, 'name': '014d47c4-140a-4e04-af62-9af12bae735f', 'dataset': 'D100', 'matcher': 'TopKJoinPM', 'auc': 0.5648861189625629, 'recall': 0.7908921933085502}, {'algorithm': 'HB', 'number_of_nearest_neighbors': 2, 'indexing': 'inorder', 'similarity_function': 'cosine', 'tokenizer': 'standard', 'qgram': 2, 'total_candidates': 2152, 'total_emissions': 2152, 'time': 1.4424490928649902, 'name': '8c95720d-b8fd-4575-baf6-20534c1b01a1', 'dataset': 'D100', 'matcher': 'TopKJoinPM', 'auc': 0.5542124156316829, 'recall': 0.7620817843866171}, {'algorithm': 'HB', 'number_of_nearest_neighbors': 2, 'indexing': 'inorder', 'similarity_function': 'cosine', 'tokenizer': 'standard', 'qgram': 5, 'total_candidates': 2152, 'total_emissions': 2152, 'time': 1.2243101596832275, 'name': 'f34edb81-d7a1-4fe2-89a4-3ab7371ad67f', 'dataset': 'D100', 'matcher': 'TopKJoinPM', 'auc': 0.5542124156316829, 'recall': 0.7620817843866171}, {'algorithm': 'HB', 'number_of_nearest_neighbors': 2, 'indexing': 'reverse', 'similarity_function': 'cosine', 'tokenizer': 'qgrams', 'qgram': 2, 'total_candidates': 2152, 'total_emissions': 2152, 'time': 12.712459325790405, 'name': '4a50fda3-2788-4c2a-86ae-f67732582fd9', 'dataset': 'D100', 'matcher': 'TopKJoinPM', 'auc': 0.5469889857154472, 'recall': 0.8131970260223048}, {'algorithm': 'HB', 'number_of_nearest_neighbors': 2, 'indexing': 'reverse', 'similarity_function': 'cosine', 'tokenizer': 'qgrams', 'qgram': 5, 'total_candidates': 2152, 'total_emissions': 2152, 'time': 2.2145018577575684, 'name': 'b2d454da-774a-48af-9811-5f0949f44e00', 'dataset': 'D100', 'matcher': 'TopKJoinPM', 'auc': 0.5408490271204515, 'recall': 0.7973977695167286}, {'algorithm': 'HB', 'number_of_nearest_neighbors': 2, 'indexing': 'reverse', 'similarity_function': 'cosine', 'tokenizer': 'standard', 'qgram': 2, 'total_candidates': 2152, 'total_emissions': 2152, 'time': 1.3802013397216797, 'name': '403bb9ec-e533-445c-8d35-2e263e0a411f', 'dataset': 'D100', 'matcher': 'TopKJoinPM', 'auc': 0.5258012939496555, 'recall': 0.7620817843866171}, {'algorithm': 'HB', 'number_of_nearest_neighbors': 2, 'indexing': 'reverse', 'similarity_function': 'cosine', 'tokenizer': 'standard', 'qgram': 5, 'total_candidates': 2152, 'total_emissions': 2152, 'time': 1.386265754699707, 'name': 'd92c1718-6a81-4b70-9a19-e5b58a550016', 'dataset': 'D100', 'matcher': 'TopKJoinPM', 'auc': 0.5258012939496555, 'recall': 0.7620817843866171}, {'algorithm': 'HB', 'number_of_nearest_neighbors': 10, 'indexing': 'inorder', 'similarity_function': 'cosine', 'tokenizer': 'qgrams', 'qgram': 2, 'total_candidates': 2152, 'total_emissions': 2152, 'time': 12.794157028198242, 'name': '1ad182fa-d698-4ea1-a7e8-b0c85b500c7e', 'dataset': 'D100', 'matcher': 'TopKJoinPM', 'auc': 0.4355105783060535, 'recall': 0.5994423791821561}, {'algorithm': 'HB', 'number_of_nearest_neighbors': 10, 'indexing': 'inorder', 'similarity_function': 'cosine', 'tokenizer': 'qgrams', 'qgram': 5, 'total_candidates': 2152, 'total_emissions': 2152, 'time': 2.518672227859497, 'name': '25d22785-3090-47f7-947c-f114e16cf963', 'dataset': 'D100', 'matcher': 'TopKJoinPM', 'auc': 0.5042937407300652, 'recall': 0.7063197026022305}, {'algorithm': 'HB', 'number_of_nearest_neighbors': 10, 'indexing': 'inorder', 'similarity_function': 'cosine', 'tokenizer': 'standard', 'qgram': 2, 'total_candidates': 2152, 'total_emissions': 2152, 'time': 1.3608503341674805, 'name': 'b94d14a1-4b8f-4324-ae89-384eb2241399', 'dataset': 'D100', 'matcher': 'TopKJoinPM', 'auc': 0.4999533805168629, 'recall': 0.6830855018587361}, {'algorithm': 'HB', 'number_of_nearest_neighbors': 10, 'indexing': 'inorder', 'similarity_function': 'cosine', 'tokenizer': 'standard', 'qgram': 5, 'total_candidates': 2152, 'total_emissions': 2152, 'time': 1.5844826698303223, 'name': '92a011ce-7369-42ff-8b5e-3d9ed1680424', 'dataset': 'D100', 'matcher': 'TopKJoinPM', 'auc': 0.4999533805168629, 'recall': 0.6830855018587361}, {'algorithm': 'HB', 'number_of_nearest_neighbors': 10, 'indexing': 'reverse', 'similarity_function': 'cosine', 'tokenizer': 'qgrams', 'qgram': 2, 'total_candidates': 2152, 'total_emissions': 2152, 'time': 13.783488750457764, 'name': 'a1161b4c-1116-418f-8140-36e62f350246', 'dataset': 'D100', 'matcher': 'TopKJoinPM', 'auc': 0.5157124924675002, 'recall': 0.7276951672862454}, {'algorithm': 'HB', 'number_of_nearest_neighbors': 10, 'indexing': 'reverse', 'similarity_function': 'cosine', 'tokenizer': 'qgrams', 'qgram': 5, 'total_candidates': 2152, 'total_emissions': 2152, 'time': 2.597332000732422, 'name': 'c98c918f-bd1e-4b63-8af0-e3029bba1cc1', 'dataset': 'D100', 'matcher': 'TopKJoinPM', 'auc': 0.5062362191944522, 'recall': 0.716542750929368}, {'algorithm': 'HB', 'number_of_nearest_neighbors': 10, 'indexing': 'reverse', 'similarity_function': 'cosine', 'tokenizer': 'standard', 'qgram': 2, 'total_candidates': 2152, 'total_emissions': 2152, 'time': 1.436697006225586, 'name': '6fdfcc4f-1513-47e1-a940-c1c747a637b5', 'dataset': 'D100', 'matcher': 'TopKJoinPM', 'auc': 0.4991686192172404, 'recall': 0.7100371747211895}, {'algorithm': 'HB', 'number_of_nearest_neighbors': 10, 'indexing': 'reverse', 'similarity_function': 'cosine', 'tokenizer': 'standard', 'qgram': 5, 'total_candidates': 2152, 'total_emissions': 2152, 'time': 1.641963005065918, 'name': 'dcb30429-d919-427c-b46e-e6b33bd74414', 'dataset': 'D100', 'matcher': 'TopKJoinPM', 'auc': 0.4991686192172404, 'recall': 0.7100371747211895}]}}\n"
     ]
    }
   ],
   "source": [
    "# We can calculate the AUC / visualize the ROC for each of the executed workflows\n",
    "# Bear in mind the curves' legends contain the randomly generated identifier for each workflow\n",
    "evaluator = Evaluation(data)\n",
    "evaluator.visualize_results_roc(results=jn_workflow_results, drop_tp_indices=True)\n",
    "# In order to understand which curve corresponds to which workflow:\n",
    "# Search for the identifier within the workflows results dictionary \n",
    "print(jn_workflow_results)"
   ]
  },
  {
   "cell_type": "markdown",
   "id": "59fd36f1-68ca-461c-8847-b1a9e485c31b",
   "metadata": {},
   "source": [
    "<hr>\n",
    "<div align=\"right\">\n",
    "K. Nikoletos, J. Maciejewski, G. Papadakis & M. Koubarakis\n",
    "</div>\n",
    "<div align=\"right\">\n",
    "<a href=\"https://github.com/Nikoletos-K/pyJedAI/blob/main/LICENSE\">Apache License 2.0</a>\n",
    "</div>"
   ]
  }
 ],
 "metadata": {
  "kernelspec": {
   "display_name": "Python 3",
   "language": "python",
   "name": "python3"
  },
  "language_info": {
   "codemirror_mode": {
    "name": "ipython",
    "version": 3
   },
   "file_extension": ".py",
   "mimetype": "text/x-python",
   "name": "python",
   "nbconvert_exporter": "python",
   "pygments_lexer": "ipython3",
   "version": "3.9.16"
  }
 },
 "nbformat": 4,
 "nbformat_minor": 5
}
