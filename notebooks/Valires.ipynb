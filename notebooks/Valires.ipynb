{
 "cells": [
  {
   "cell_type": "code",
   "execution_count": 1,
   "id": "62d0d364-9ee6-4bec-9fee-7364f297e028",
   "metadata": {},
   "outputs": [
    {
     "name": "stdout",
     "output_type": "stream",
     "text": [
      "Collecting er-evaluation\n",
      "  Downloading ER_Evaluation-2.1.0-py2.py3-none-any.whl (65.3 MB)\n",
      "     ---------------------------------------- 65.3/65.3 MB 2.3 MB/s eta 0:00:00\n",
      "Requirement already satisfied: pandas in c:\\users\\nikol\\anaconda3\\envs\\r008\\lib\\site-packages (from er-evaluation) (2.0.3)\n",
      "Requirement already satisfied: numpy in c:\\users\\nikol\\anaconda3\\envs\\r008\\lib\\site-packages (from er-evaluation) (1.23.5)\n",
      "Requirement already satisfied: scipy in c:\\users\\nikol\\anaconda3\\envs\\r008\\lib\\site-packages (from er-evaluation) (1.10.1)\n",
      "Collecting plotly (from er-evaluation)\n",
      "  Downloading plotly-5.15.0-py2.py3-none-any.whl (15.5 MB)\n",
      "     ---------------------------------------- 15.5/15.5 MB 9.0 MB/s eta 0:00:00\n",
      "Collecting igraph (from er-evaluation)\n",
      "  Downloading igraph-0.10.6-cp39-abi3-win_amd64.whl (2.9 MB)\n",
      "     ---------------------------------------- 2.9/2.9 MB 7.4 MB/s eta 0:00:00\n",
      "Requirement already satisfied: scikit-learn in c:\\users\\nikol\\anaconda3\\envs\\r008\\lib\\site-packages (from er-evaluation) (1.3.0)\n",
      "Collecting pyarrow (from er-evaluation)\n",
      "  Using cached pyarrow-12.0.1-cp310-cp310-win_amd64.whl (21.5 MB)\n",
      "Requirement already satisfied: urllib3 in c:\\users\\nikol\\anaconda3\\envs\\r008\\lib\\site-packages (from er-evaluation) (2.0.3)\n",
      "Requirement already satisfied: requests in c:\\users\\nikol\\anaconda3\\envs\\r008\\lib\\site-packages (from er-evaluation) (2.31.0)\n",
      "Collecting texttable>=1.6.2 (from igraph->er-evaluation)\n",
      "  Downloading texttable-1.6.7-py2.py3-none-any.whl (10 kB)\n",
      "Requirement already satisfied: python-dateutil>=2.8.2 in c:\\users\\nikol\\anaconda3\\envs\\r008\\lib\\site-packages (from pandas->er-evaluation) (2.8.2)\n",
      "Requirement already satisfied: pytz>=2020.1 in c:\\users\\nikol\\anaconda3\\envs\\r008\\lib\\site-packages (from pandas->er-evaluation) (2023.3)\n",
      "Requirement already satisfied: tzdata>=2022.1 in c:\\users\\nikol\\anaconda3\\envs\\r008\\lib\\site-packages (from pandas->er-evaluation) (2023.3)\n",
      "Collecting tenacity>=6.2.0 (from plotly->er-evaluation)\n",
      "  Downloading tenacity-8.2.2-py3-none-any.whl (24 kB)\n",
      "Requirement already satisfied: packaging in c:\\users\\nikol\\anaconda3\\envs\\r008\\lib\\site-packages (from plotly->er-evaluation) (23.1)\n",
      "Requirement already satisfied: charset-normalizer<4,>=2 in c:\\users\\nikol\\anaconda3\\envs\\r008\\lib\\site-packages (from requests->er-evaluation) (3.1.0)\n",
      "Requirement already satisfied: idna<4,>=2.5 in c:\\users\\nikol\\anaconda3\\envs\\r008\\lib\\site-packages (from requests->er-evaluation) (3.4)\n",
      "Requirement already satisfied: certifi>=2017.4.17 in c:\\users\\nikol\\anaconda3\\envs\\r008\\lib\\site-packages (from requests->er-evaluation) (2023.5.7)\n",
      "Requirement already satisfied: joblib>=1.1.1 in c:\\users\\nikol\\anaconda3\\envs\\r008\\lib\\site-packages (from scikit-learn->er-evaluation) (1.3.1)\n",
      "Requirement already satisfied: threadpoolctl>=2.0.0 in c:\\users\\nikol\\anaconda3\\envs\\r008\\lib\\site-packages (from scikit-learn->er-evaluation) (3.1.0)\n",
      "Requirement already satisfied: six>=1.5 in c:\\users\\nikol\\anaconda3\\envs\\r008\\lib\\site-packages (from python-dateutil>=2.8.2->pandas->er-evaluation) (1.16.0)\n",
      "Installing collected packages: texttable, tenacity, pyarrow, igraph, plotly, er-evaluation\n",
      "Successfully installed er-evaluation-2.1.0 igraph-0.10.6 plotly-5.15.0 pyarrow-12.0.1 tenacity-8.2.2 texttable-1.6.7\n"
     ]
    }
   ],
   "source": [
    "!pip install er-evaluation"
   ]
  },
  {
   "cell_type": "code",
   "execution_count": 2,
   "id": "755cbf50-84bb-44fe-8b21-918c77d8876c",
   "metadata": {},
   "outputs": [
    {
     "ename": "ModuleNotFoundError",
     "evalue": "No module named 'er_evaluation'",
     "output_type": "error",
     "traceback": [
      "\u001b[1;31m---------------------------------------------------------------------------\u001b[0m",
      "\u001b[1;31mModuleNotFoundError\u001b[0m                       Traceback (most recent call last)",
      "\u001b[1;32m~\\AppData\\Local\\Temp/ipykernel_15704/3540856739.py\u001b[0m in \u001b[0;36m<module>\u001b[1;34m\u001b[0m\n\u001b[0;32m      1\u001b[0m \u001b[1;32mimport\u001b[0m \u001b[0mpandas\u001b[0m \u001b[1;32mas\u001b[0m \u001b[0mpd\u001b[0m\u001b[1;33m\u001b[0m\u001b[1;33m\u001b[0m\u001b[0m\n\u001b[1;32m----> 2\u001b[1;33m \u001b[1;32mimport\u001b[0m \u001b[0mer_evaluation\u001b[0m \u001b[1;32mas\u001b[0m \u001b[0mee\u001b[0m\u001b[1;33m\u001b[0m\u001b[1;33m\u001b[0m\u001b[0m\n\u001b[0m\u001b[0;32m      3\u001b[0m \u001b[1;33m\u001b[0m\u001b[0m\n\u001b[0;32m      4\u001b[0m \u001b[0mpredictions\u001b[0m\u001b[1;33m,\u001b[0m \u001b[0mreference\u001b[0m \u001b[1;33m=\u001b[0m \u001b[0mee\u001b[0m\u001b[1;33m.\u001b[0m\u001b[0mload_pv_disambiguations\u001b[0m\u001b[1;33m(\u001b[0m\u001b[1;33m)\u001b[0m\u001b[1;33m\u001b[0m\u001b[1;33m\u001b[0m\u001b[0m\n\u001b[0;32m      5\u001b[0m \u001b[0mprediction\u001b[0m \u001b[1;33m=\u001b[0m \u001b[0mpredictions\u001b[0m\u001b[1;33m[\u001b[0m\u001b[0mpd\u001b[0m\u001b[1;33m.\u001b[0m\u001b[0mTimestamp\u001b[0m\u001b[1;33m(\u001b[0m\u001b[1;34m'2017-08-08'\u001b[0m\u001b[1;33m)\u001b[0m\u001b[1;33m]\u001b[0m\u001b[1;33m\u001b[0m\u001b[1;33m\u001b[0m\u001b[0m\n",
      "\u001b[1;31mModuleNotFoundError\u001b[0m: No module named 'er_evaluation'"
     ]
    }
   ],
   "source": [
    "import pandas as pd\n",
    "import er_evaluation as ee\n",
    "\n",
    "predictions, reference = ee.load_pv_disambiguations()\n",
    "prediction = predictions[pd.Timestamp('2017-08-08')]\n",
    "\n",
    "ee.pairwise_precision_estimator(prediction, reference, weights=\"cluster_size\")"
   ]
  },
  {
   "cell_type": "code",
   "execution_count": null,
   "id": "ca957239-34c6-4d45-8692-1def44abadb1",
   "metadata": {},
   "outputs": [],
   "source": []
  }
 ],
 "metadata": {
  "kernelspec": {
   "display_name": "Python 3 (ipykernel)",
   "language": "python",
   "name": "python3"
  },
  "language_info": {
   "codemirror_mode": {
    "name": "ipython",
    "version": 3
   },
   "file_extension": ".py",
   "mimetype": "text/x-python",
   "name": "python",
   "nbconvert_exporter": "python",
   "pygments_lexer": "ipython3",
   "version": "3.10.5"
  }
 },
 "nbformat": 4,
 "nbformat_minor": 5
}
