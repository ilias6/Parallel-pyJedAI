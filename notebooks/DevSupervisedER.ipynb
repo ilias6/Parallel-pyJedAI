{
 "cells": [
  {
   "cell_type": "markdown",
   "id": "30728426-53c7-4ba6-ba3b-5c6f38ddf2cf",
   "metadata": {},
   "source": [
    "<div align=\"center\"> \n",
    "    <hr>\n",
    "  <font size=\"6\"><b>Dev | Supervised with DL and pyTorch Embeddings ER Notebook</b> </font>\n",
    "   <hr>\n",
    "</div>"
   ]
  },
  {
   "cell_type": "code",
   "execution_count": 1,
   "id": "b5376258-f87b-4738-8ecd-6ab28584a4b0",
   "metadata": {},
   "outputs": [
    {
     "name": "stderr",
     "output_type": "stream",
     "text": [
      "[nltk_data] Downloading package stopwords to /home/jm/nltk_data...\n",
      "[nltk_data]   Package stopwords is already up-to-date!\n"
     ]
    }
   ],
   "source": [
    "import os\n",
    "import sys\n",
    "import pandas as pd\n",
    "import networkx\n",
    "from networkx import draw, Graph\n",
    "%load_ext autoreload\n",
    "%autoreload 2\n",
    "%reload_ext autoreload\n",
    "from pyjedai.utils import (\n",
    "    text_cleaning_method,\n",
    "    print_clusters,\n",
    "    print_blocks,\n",
    "    print_candidate_pairs\n",
    ")\n",
    "from pyjedai.evaluation import Evaluation\n",
    "from pyjedai.datamodel import Data\n",
    "d1 = pd.read_csv(\"../data/ccer/D2/abt.csv\", sep='|', engine='python', na_filter=False).astype(str)\n",
    "d2 = pd.read_csv(\"../data/ccer/D2/buy.csv\", sep='|', engine='python', na_filter=False).astype(str)\n",
    "gt = pd.read_csv(\"../data/ccer/D2/gt.csv\", sep='|', engine='python')\n",
    "\n",
    "data = Data(\n",
    "    dataset_1=d1,\n",
    "    id_column_name_1='id',\n",
    "    dataset_2=d2,\n",
    "    id_column_name_2='id',\n",
    "    ground_truth=gt,\n",
    ")"
   ]
  },
  {
   "cell_type": "code",
   "execution_count": 2,
   "id": "b0329939-dcac-4d9c-b265-9463fdb4ff3a",
   "metadata": {},
   "outputs": [
    {
     "data": {
      "text/html": [
       "<div>\n",
       "<style scoped>\n",
       "    .dataframe tbody tr th:only-of-type {\n",
       "        vertical-align: middle;\n",
       "    }\n",
       "\n",
       "    .dataframe tbody tr th {\n",
       "        vertical-align: top;\n",
       "    }\n",
       "\n",
       "    .dataframe thead th {\n",
       "        text-align: right;\n",
       "    }\n",
       "</style>\n",
       "<table border=\"1\" class=\"dataframe\">\n",
       "  <thead>\n",
       "    <tr style=\"text-align: right;\">\n",
       "      <th></th>\n",
       "      <th>id</th>\n",
       "      <th>name</th>\n",
       "      <th>description</th>\n",
       "      <th>price</th>\n",
       "    </tr>\n",
       "  </thead>\n",
       "  <tbody>\n",
       "    <tr>\n",
       "      <th>0</th>\n",
       "      <td>0</td>\n",
       "      <td>Sony Turntable - PSLX350H</td>\n",
       "      <td>Sony Turntable - PSLX350H/ Belt Drive System/ ...</td>\n",
       "      <td></td>\n",
       "    </tr>\n",
       "    <tr>\n",
       "      <th>1</th>\n",
       "      <td>1</td>\n",
       "      <td>Bose Acoustimass 5 Series III Speaker System -...</td>\n",
       "      <td>Bose Acoustimass 5 Series III Speaker System -...</td>\n",
       "      <td>399</td>\n",
       "    </tr>\n",
       "    <tr>\n",
       "      <th>2</th>\n",
       "      <td>2</td>\n",
       "      <td>Sony Switcher - SBV40S</td>\n",
       "      <td>Sony Switcher - SBV40S/ Eliminates Disconnecti...</td>\n",
       "      <td>49</td>\n",
       "    </tr>\n",
       "    <tr>\n",
       "      <th>3</th>\n",
       "      <td>3</td>\n",
       "      <td>Sony 5 Disc CD Player - CDPCE375</td>\n",
       "      <td>Sony 5 Disc CD Player- CDPCE375/ 5 Disc Change...</td>\n",
       "      <td></td>\n",
       "    </tr>\n",
       "    <tr>\n",
       "      <th>4</th>\n",
       "      <td>4</td>\n",
       "      <td>Bose 27028 161 Bookshelf Pair Speakers In Whit...</td>\n",
       "      <td>Bose 161 Bookshelf Speakers In White - 161WH/ ...</td>\n",
       "      <td>158</td>\n",
       "    </tr>\n",
       "    <tr>\n",
       "      <th>...</th>\n",
       "      <td>...</td>\n",
       "      <td>...</td>\n",
       "      <td>...</td>\n",
       "      <td>...</td>\n",
       "    </tr>\n",
       "    <tr>\n",
       "      <th>2147</th>\n",
       "      <td>1071</td>\n",
       "      <td>Sony VAIO FW378J/B Notebook - VGNFW378J/B</td>\n",
       "      <td>Intel Centrino 2 Core 2 Duo P8600 2.4GHz - 16....</td>\n",
       "      <td></td>\n",
       "    </tr>\n",
       "    <tr>\n",
       "      <th>2148</th>\n",
       "      <td>1072</td>\n",
       "      <td>Sennheiser CX380 Sennheiser CX 380 Sport II Gr...</td>\n",
       "      <td></td>\n",
       "      <td></td>\n",
       "    </tr>\n",
       "    <tr>\n",
       "      <th>2149</th>\n",
       "      <td>1073</td>\n",
       "      <td>IWORK 09 RETAIL-INT DVD - MB942Z/A</td>\n",
       "      <td></td>\n",
       "      <td></td>\n",
       "    </tr>\n",
       "    <tr>\n",
       "      <th>2150</th>\n",
       "      <td>1074</td>\n",
       "      <td>IWORK 09 FAMILY PACK-INT DVD - MB943Z/A</td>\n",
       "      <td></td>\n",
       "      <td></td>\n",
       "    </tr>\n",
       "    <tr>\n",
       "      <th>2151</th>\n",
       "      <td>1075</td>\n",
       "      <td>CASE MATE CARBON FIBER IPHONE 3G CASE BLACK - ...</td>\n",
       "      <td></td>\n",
       "      <td>28.08</td>\n",
       "    </tr>\n",
       "  </tbody>\n",
       "</table>\n",
       "<p>2152 rows × 4 columns</p>\n",
       "</div>"
      ],
      "text/plain": [
       "        id                                               name  \\\n",
       "0        0                          Sony Turntable - PSLX350H   \n",
       "1        1  Bose Acoustimass 5 Series III Speaker System -...   \n",
       "2        2                             Sony Switcher - SBV40S   \n",
       "3        3                   Sony 5 Disc CD Player - CDPCE375   \n",
       "4        4  Bose 27028 161 Bookshelf Pair Speakers In Whit...   \n",
       "...    ...                                                ...   \n",
       "2147  1071          Sony VAIO FW378J/B Notebook - VGNFW378J/B   \n",
       "2148  1072  Sennheiser CX380 Sennheiser CX 380 Sport II Gr...   \n",
       "2149  1073                 IWORK 09 RETAIL-INT DVD - MB942Z/A   \n",
       "2150  1074            IWORK 09 FAMILY PACK-INT DVD - MB943Z/A   \n",
       "2151  1075  CASE MATE CARBON FIBER IPHONE 3G CASE BLACK - ...   \n",
       "\n",
       "                                            description  price  \n",
       "0     Sony Turntable - PSLX350H/ Belt Drive System/ ...         \n",
       "1     Bose Acoustimass 5 Series III Speaker System -...    399  \n",
       "2     Sony Switcher - SBV40S/ Eliminates Disconnecti...     49  \n",
       "3     Sony 5 Disc CD Player- CDPCE375/ 5 Disc Change...         \n",
       "4     Bose 161 Bookshelf Speakers In White - 161WH/ ...    158  \n",
       "...                                                 ...    ...  \n",
       "2147  Intel Centrino 2 Core 2 Duo P8600 2.4GHz - 16....         \n",
       "2148                                                            \n",
       "2149                                                            \n",
       "2150                                                            \n",
       "2151                                                     28.08  \n",
       "\n",
       "[2152 rows x 4 columns]"
      ]
     },
     "execution_count": 2,
     "metadata": {},
     "output_type": "execute_result"
    }
   ],
   "source": [
    "data.entities"
   ]
  },
  {
   "cell_type": "markdown",
   "id": "ff026fd7-f760-4bda-8e61-e378f004b5af",
   "metadata": {},
   "source": [
    "# Block Building"
   ]
  },
  {
   "cell_type": "code",
   "execution_count": 3,
   "id": "c72dca95-52f9-4363-a431-a28f6306505b",
   "metadata": {},
   "outputs": [
    {
     "name": "stderr",
     "output_type": "stream",
     "text": [
      "/home/conda/miniconda3/envs/pyjedai-progressive/lib/python3.9/site-packages/tqdm/auto.py:21: TqdmWarning: IProgress not found. Please update jupyter and ipywidgets. See https://ipywidgets.readthedocs.io/en/stable/user_install.html\n",
      "  from .autonotebook import tqdm as notebook_tqdm\n"
     ]
    }
   ],
   "source": [
    "from pyjedai.block_building import (\n",
    "    StandardBlocking,\n",
    "    QGramsBlocking,\n",
    "    ExtendedQGramsBlocking,\n",
    "    SuffixArraysBlocking,\n",
    "    ExtendedSuffixArraysBlocking,\n",
    ")\n",
    "\n",
    "from pyjedai.vector_based_blocking import EmbeddingsNNBlockBuilding"
   ]
  },
  {
   "cell_type": "code",
   "execution_count": 4,
   "id": "a0bfebb5-8875-47e3-befb-dc5e4ab1ca06",
   "metadata": {},
   "outputs": [
    {
     "name": "stderr",
     "output_type": "stream",
     "text": [
      "Standard Blocking: 100%|██████████| 2152/2152 [00:00<00:00, 14718.39it/s]\n"
     ]
    }
   ],
   "source": [
    "qgb = StandardBlocking()\n",
    "blocks = qgb.build_blocks(data)"
   ]
  },
  {
   "cell_type": "code",
   "execution_count": 5,
   "id": "82ccadd6-4e13-4f50-a736-8b506e2f1893",
   "metadata": {},
   "outputs": [
    {
     "name": "stdout",
     "output_type": "stream",
     "text": [
      "Method name: Standard Blocking\n",
      "Method info: Creates one block for every token in the attribute values of at least two entities.\n",
      "Parameters: Parameter-Free method\n",
      "Attributes from D1:\n",
      "\tid, name, description, price\n",
      "Attributes from D2:\n",
      "\tid, name, description, price\n",
      "Runtime: 0.1473 seconds\n"
     ]
    }
   ],
   "source": [
    "qgb.report()"
   ]
  },
  {
   "cell_type": "code",
   "execution_count": 6,
   "id": "dee611cd-aea5-4d78-aaf7-5829a7e81906",
   "metadata": {},
   "outputs": [
    {
     "name": "stdout",
     "output_type": "stream",
     "text": [
      "***************************************************************************************************************************\n",
      "                                         Μethod:  Standard Blocking\n",
      "***************************************************************************************************************************\n",
      "Method name: Standard Blocking\n",
      "Parameters: \n",
      "Runtime: 0.1473 seconds\n",
      "───────────────────────────────────────────────────────────────────────────────────────────────────────────────────────────\n",
      "Performance:\n",
      "\tPrecision:      0.12% \n",
      "\tRecall:        99.81%\n",
      "\tF1-score:       0.24%\n",
      "───────────────────────────────────────────────────────────────────────────────────────────────────────────────────────────\n"
     ]
    },
    {
     "data": {
      "text/plain": [
       "{'Precision %': 0.11965773875841171,\n",
       " 'Recall %': 99.81412639405205,\n",
       " 'F1 %': 0.2390289282868703,\n",
       " 'True Positives': 1074,\n",
       " 'False Positives': 896486,\n",
       " 'True Negatives': 1156698,\n",
       " 'False Negatives': 2}"
      ]
     },
     "execution_count": 6,
     "metadata": {},
     "output_type": "execute_result"
    }
   ],
   "source": [
    "qgb.evaluate(blocks)"
   ]
  },
  {
   "cell_type": "markdown",
   "id": "2d233e5c-e849-4477-b277-8b590aa0a7cc",
   "metadata": {},
   "source": [
    "# Comparison Cleaning\n"
   ]
  },
  {
   "cell_type": "code",
   "execution_count": 7,
   "id": "3ab9af67-5f1f-456d-8106-4440e3dcc9fa",
   "metadata": {},
   "outputs": [],
   "source": [
    "from pyjedai.block_cleaning import BlockPurging"
   ]
  },
  {
   "cell_type": "code",
   "execution_count": 8,
   "id": "28fba20e-072f-47ff-9a6a-3d6401f1a883",
   "metadata": {},
   "outputs": [
    {
     "name": "stderr",
     "output_type": "stream",
     "text": [
      "Block Purging: 100%|██████████| 4264/4264 [00:00<00:00, 719206.67it/s]\n"
     ]
    }
   ],
   "source": [
    "cbbp = BlockPurging()\n",
    "cleaned_blocks = cbbp.process(blocks, data, tqdm_disable=False)"
   ]
  },
  {
   "cell_type": "code",
   "execution_count": 9,
   "id": "ae320628-0475-42c9-8d85-970a11567987",
   "metadata": {},
   "outputs": [
    {
     "name": "stdout",
     "output_type": "stream",
     "text": [
      "Method name: Block Purging\n",
      "Method info: Discards the blocks exceeding a certain number of comparisons.\n",
      "Parameters: \n",
      "\tSmoothing factor: 1.025\n",
      "\tMax Comparisons per Block: 13920.0\n",
      "Runtime: 0.0069 seconds\n"
     ]
    }
   ],
   "source": [
    "cbbp.report()"
   ]
  },
  {
   "cell_type": "code",
   "execution_count": 10,
   "id": "e51e9c21-0a97-4dfb-939f-96dfde0aada7",
   "metadata": {},
   "outputs": [
    {
     "name": "stdout",
     "output_type": "stream",
     "text": [
      "***************************************************************************************************************************\n",
      "                                         Μethod:  Block Purging\n",
      "***************************************************************************************************************************\n",
      "Method name: Block Purging\n",
      "Parameters: \n",
      "\tSmoothing factor: 1.025\n",
      "\tMax Comparisons per Block: 13920.0\n",
      "Runtime: 0.0069 seconds\n",
      "───────────────────────────────────────────────────────────────────────────────────────────────────────────────────────────\n",
      "Performance:\n",
      "\tPrecision:      0.24% \n",
      "\tRecall:        99.81%\n",
      "\tF1-score:       0.48%\n",
      "───────────────────────────────────────────────────────────────────────────────────────────────────────────────────────────\n"
     ]
    },
    {
     "data": {
      "text/plain": [
       "{'Precision %': 0.24249101947830562,\n",
       " 'Recall %': 99.81412639405205,\n",
       " 'F1 %': 0.4838066665315251,\n",
       " 'True Positives': 1074,\n",
       " 'False Positives': 441829,\n",
       " 'True Negatives': 1156698,\n",
       " 'False Negatives': 2}"
      ]
     },
     "execution_count": 10,
     "metadata": {},
     "output_type": "execute_result"
    }
   ],
   "source": [
    "cbbp.evaluate(cleaned_blocks)"
   ]
  },
  {
   "cell_type": "markdown",
   "id": "c589be69-3e67-44d1-969f-c090f6dff532",
   "metadata": {},
   "source": [
    "## Meta Blocking"
   ]
  },
  {
   "cell_type": "code",
   "execution_count": 11,
   "id": "5c961599-8115-40b9-afe9-3116c43bba79",
   "metadata": {},
   "outputs": [],
   "source": [
    "from pyjedai.comparison_cleaning import (\n",
    "    WeightedEdgePruning,\n",
    "    WeightedNodePruning,\n",
    "    CardinalityEdgePruning,\n",
    "    CardinalityNodePruning,\n",
    "    BLAST,\n",
    "    ReciprocalCardinalityNodePruning,\n",
    "    ReciprocalWeightedNodePruning,\n",
    "    ComparisonPropagation\n",
    ")"
   ]
  },
  {
   "cell_type": "code",
   "execution_count": 12,
   "id": "f4609837-7818-4daf-aa09-d1e4f7c97784",
   "metadata": {},
   "outputs": [],
   "source": [
    "wep = CardinalityEdgePruning(weighting_scheme='X2')\n",
    "candidate_pairs_blocks = wep.process(cleaned_blocks, data, tqdm_disable=True)"
   ]
  },
  {
   "cell_type": "code",
   "execution_count": 13,
   "id": "81c84e00-f8ff-43cd-a558-675c87c0f9cd",
   "metadata": {},
   "outputs": [
    {
     "name": "stdout",
     "output_type": "stream",
     "text": [
      "***************************************************************************************************************************\n",
      "                                         Μethod:  Cardinality Edge Pruning\n",
      "***************************************************************************************************************************\n",
      "Method name: Cardinality Edge Pruning\n",
      "Parameters: \n",
      "\tNode centric: False\n",
      "\tWeighting scheme: X2\n",
      "Runtime: 2.7618 seconds\n",
      "───────────────────────────────────────────────────────────────────────────────────────────────────────────────────────────\n",
      "Performance:\n",
      "\tPrecision:      5.81% \n",
      "\tRecall:        96.28%\n",
      "\tF1-score:      10.96%\n",
      "───────────────────────────────────────────────────────────────────────────────────────────────────────────────────────────\n"
     ]
    },
    {
     "data": {
      "text/html": [
       "<div>\n",
       "<style scoped>\n",
       "    .dataframe tbody tr th:only-of-type {\n",
       "        vertical-align: middle;\n",
       "    }\n",
       "\n",
       "    .dataframe tbody tr th {\n",
       "        vertical-align: top;\n",
       "    }\n",
       "\n",
       "    .dataframe thead th {\n",
       "        text-align: right;\n",
       "    }\n",
       "</style>\n",
       "<table border=\"1\" class=\"dataframe\">\n",
       "  <thead>\n",
       "    <tr style=\"text-align: right;\">\n",
       "      <th></th>\n",
       "      <th>Precision %</th>\n",
       "      <th>Recall %</th>\n",
       "      <th>F1 %</th>\n",
       "      <th>True Positives</th>\n",
       "      <th>False Positives</th>\n",
       "      <th>True Negatives</th>\n",
       "      <th>False Negatives</th>\n",
       "    </tr>\n",
       "  </thead>\n",
       "  <tbody>\n",
       "    <tr>\n",
       "      <th>0</th>\n",
       "      <td>5.81</td>\n",
       "      <td>96.28</td>\n",
       "      <td>10.96</td>\n",
       "      <td>1036.0</td>\n",
       "      <td>16793.0</td>\n",
       "      <td>1.16e+06</td>\n",
       "      <td>40.0</td>\n",
       "    </tr>\n",
       "  </tbody>\n",
       "</table>\n",
       "</div>"
      ],
      "text/plain": [
       "   Precision %  Recall %   F1 %  True Positives  False Positives  \\\n",
       "0         5.81     96.28  10.96          1036.0          16793.0   \n",
       "\n",
       "   True Negatives  False Negatives  \n",
       "0        1.16e+06             40.0  "
      ]
     },
     "execution_count": 13,
     "metadata": {},
     "output_type": "execute_result"
    }
   ],
   "source": [
    "wep.evaluate(candidate_pairs_blocks, wep.method_configuration())"
   ]
  },
  {
   "cell_type": "code",
   "execution_count": 14,
   "id": "58c53fa3-0529-4135-b9b9-8dde9c8d6db7",
   "metadata": {},
   "outputs": [],
   "source": [
    "# print(candidate_pairs_blocks)"
   ]
  },
  {
   "cell_type": "markdown",
   "id": "c6ef5df6-022c-404c-a9a4-ba88fb32d243",
   "metadata": {},
   "source": [
    "# Supervised DL method for matching based on the candidate pairs\n",
    "\n",
    "Candidate pairs are in form (dictionary): \n",
    "\n",
    "> entity_id_1 -> set(entity_id_x, entity_id_y, entity_id_z)\n",
    "\n",
    "- __The split process:__ Given a ratio (0.6 + 0.2 + 0.2 = 1.0) all candiadtes will be splited into train, test, validation accordingly, by concatinating each entity attribute into a lowercase string. For example 60% of comparisons will be used for training, 20% for testing and 20% for validation by using pyTorch.\n",
    "- After the concatenation each string entity will be transformed into an embedding using pre-trained word and sentence embeddings.\n",
    "- The next step will be to create the vocabulary and afterwords train the model. The model will produce a vector of similarities ?? and this vector will be used to determine if a pair of comparison is a match or not"
   ]
  },
  {
   "cell_type": "markdown",
   "id": "5eb04971-bffb-4dba-9e44-ee4620aac728",
   "metadata": {},
   "source": [
    "## Data preparation for train, test, validation"
   ]
  },
  {
   "cell_type": "code",
   "execution_count": 15,
   "id": "d5cab792-51cc-4ffb-acaf-b0a87078e127",
   "metadata": {},
   "outputs": [
    {
     "name": "stdout",
     "output_type": "stream",
     "text": [
      "Collecting tensorboardX\n",
      "  Downloading tensorboardX-2.6.2-py2.py3-none-any.whl (101 kB)\n",
      "\u001b[2K     \u001b[90m━━━━━━━━━━━━━━━━━━━━━━━━━━━━━━━━━━━━━━━\u001b[0m \u001b[32m101.6/101.6 kB\u001b[0m \u001b[31m2.3 MB/s\u001b[0m eta \u001b[36m0:00:00\u001b[0ma \u001b[36m0:00:01\u001b[0m\n",
      "\u001b[?25hRequirement already satisfied: numpy in /home/conda/miniconda3/envs/pyjedai-progressive/lib/python3.9/site-packages (from tensorboardX) (1.23.5)\n",
      "Collecting protobuf\n",
      "  Downloading protobuf-4.24.0-cp37-abi3-manylinux2014_x86_64.whl (311 kB)\n",
      "\u001b[2K     \u001b[90m━━━━━━━━━━━━━━━━━━━━━━━━━━━━━━━━━━━━━━━\u001b[0m \u001b[32m311.6/311.6 kB\u001b[0m \u001b[31m8.3 MB/s\u001b[0m eta \u001b[36m0:00:00\u001b[0ma \u001b[36m0:00:01\u001b[0m\n",
      "\u001b[?25hRequirement already satisfied: packaging in /home/conda/miniconda3/envs/pyjedai-progressive/lib/python3.9/site-packages (from tensorboardX) (23.1)\n",
      "Installing collected packages: protobuf, tensorboardX\n",
      "Successfully installed protobuf-4.24.0 tensorboardX-2.6.2\n",
      "Collecting pytorch_transformers\n",
      "  Downloading pytorch_transformers-1.2.0-py3-none-any.whl (176 kB)\n",
      "\u001b[2K     \u001b[90m━━━━━━━━━━━━━━━━━━━━━━━━━━━━━━━━━━━━━━━\u001b[0m \u001b[32m176.4/176.4 kB\u001b[0m \u001b[31m2.1 MB/s\u001b[0m eta \u001b[36m0:00:00\u001b[0m00:01\u001b[0m00:01\u001b[0m\n",
      "\u001b[?25hRequirement already satisfied: regex in /home/conda/miniconda3/envs/pyjedai-progressive/lib/python3.9/site-packages (from pytorch_transformers) (2023.6.3)\n",
      "Requirement already satisfied: tqdm in /home/conda/miniconda3/envs/pyjedai-progressive/lib/python3.9/site-packages (from pytorch_transformers) (4.65.0)\n",
      "Collecting boto3\n",
      "  Downloading boto3-1.28.25-py3-none-any.whl (135 kB)\n",
      "\u001b[2K     \u001b[90m━━━━━━━━━━━━━━━━━━━━━━━━━━━━━━━━━━━━━━\u001b[0m \u001b[32m135.8/135.8 kB\u001b[0m \u001b[31m16.7 MB/s\u001b[0m eta \u001b[36m0:00:00\u001b[0m\n",
      "\u001b[?25hRequirement already satisfied: numpy in /home/conda/miniconda3/envs/pyjedai-progressive/lib/python3.9/site-packages (from pytorch_transformers) (1.23.5)\n",
      "Requirement already satisfied: requests in /home/conda/miniconda3/envs/pyjedai-progressive/lib/python3.9/site-packages (from pytorch_transformers) (2.31.0)\n",
      "Requirement already satisfied: sentencepiece in /home/conda/miniconda3/envs/pyjedai-progressive/lib/python3.9/site-packages (from pytorch_transformers) (0.1.99)\n",
      "Collecting sacremoses\n",
      "  Downloading sacremoses-0.0.53.tar.gz (880 kB)\n",
      "\u001b[2K     \u001b[90m━━━━━━━━━━━━━━━━━━━━━━━━━━━━━━━━━━━━━━\u001b[0m \u001b[32m880.6/880.6 kB\u001b[0m \u001b[31m16.1 MB/s\u001b[0m eta \u001b[36m0:00:00\u001b[0ma \u001b[36m0:00:01\u001b[0m\n",
      "\u001b[?25h  Preparing metadata (setup.py) ... \u001b[?25ldone\n",
      "\u001b[?25hRequirement already satisfied: torch>=1.0.0 in /home/conda/miniconda3/envs/pyjedai-progressive/lib/python3.9/site-packages (from pytorch_transformers) (2.0.1)\n",
      "Requirement already satisfied: jinja2 in /home/conda/miniconda3/envs/pyjedai-progressive/lib/python3.9/site-packages (from torch>=1.0.0->pytorch_transformers) (3.1.2)\n",
      "Requirement already satisfied: nvidia-curand-cu11==10.2.10.91 in /home/conda/miniconda3/envs/pyjedai-progressive/lib/python3.9/site-packages (from torch>=1.0.0->pytorch_transformers) (10.2.10.91)\n",
      "Requirement already satisfied: nvidia-cusolver-cu11==11.4.0.1 in /home/conda/miniconda3/envs/pyjedai-progressive/lib/python3.9/site-packages (from torch>=1.0.0->pytorch_transformers) (11.4.0.1)\n",
      "Requirement already satisfied: nvidia-nvtx-cu11==11.7.91 in /home/conda/miniconda3/envs/pyjedai-progressive/lib/python3.9/site-packages (from torch>=1.0.0->pytorch_transformers) (11.7.91)\n",
      "Requirement already satisfied: nvidia-cusparse-cu11==11.7.4.91 in /home/conda/miniconda3/envs/pyjedai-progressive/lib/python3.9/site-packages (from torch>=1.0.0->pytorch_transformers) (11.7.4.91)\n",
      "Requirement already satisfied: networkx in /home/conda/miniconda3/envs/pyjedai-progressive/lib/python3.9/site-packages (from torch>=1.0.0->pytorch_transformers) (3.1)\n",
      "Requirement already satisfied: nvidia-cuda-nvrtc-cu11==11.7.99 in /home/conda/miniconda3/envs/pyjedai-progressive/lib/python3.9/site-packages (from torch>=1.0.0->pytorch_transformers) (11.7.99)\n",
      "Requirement already satisfied: typing-extensions in /home/conda/miniconda3/envs/pyjedai-progressive/lib/python3.9/site-packages (from torch>=1.0.0->pytorch_transformers) (4.6.3)\n",
      "Requirement already satisfied: nvidia-cuda-cupti-cu11==11.7.101 in /home/conda/miniconda3/envs/pyjedai-progressive/lib/python3.9/site-packages (from torch>=1.0.0->pytorch_transformers) (11.7.101)\n",
      "Requirement already satisfied: nvidia-cudnn-cu11==8.5.0.96 in /home/conda/miniconda3/envs/pyjedai-progressive/lib/python3.9/site-packages (from torch>=1.0.0->pytorch_transformers) (8.5.0.96)\n",
      "Requirement already satisfied: sympy in /home/conda/miniconda3/envs/pyjedai-progressive/lib/python3.9/site-packages (from torch>=1.0.0->pytorch_transformers) (1.12)\n",
      "Requirement already satisfied: triton==2.0.0 in /home/conda/miniconda3/envs/pyjedai-progressive/lib/python3.9/site-packages (from torch>=1.0.0->pytorch_transformers) (2.0.0)\n",
      "Requirement already satisfied: filelock in /home/conda/miniconda3/envs/pyjedai-progressive/lib/python3.9/site-packages (from torch>=1.0.0->pytorch_transformers) (3.12.0)\n",
      "Requirement already satisfied: nvidia-cuda-runtime-cu11==11.7.99 in /home/conda/miniconda3/envs/pyjedai-progressive/lib/python3.9/site-packages (from torch>=1.0.0->pytorch_transformers) (11.7.99)\n",
      "Requirement already satisfied: nvidia-cublas-cu11==11.10.3.66 in /home/conda/miniconda3/envs/pyjedai-progressive/lib/python3.9/site-packages (from torch>=1.0.0->pytorch_transformers) (11.10.3.66)\n",
      "Requirement already satisfied: nvidia-cufft-cu11==10.9.0.58 in /home/conda/miniconda3/envs/pyjedai-progressive/lib/python3.9/site-packages (from torch>=1.0.0->pytorch_transformers) (10.9.0.58)\n",
      "Requirement already satisfied: nvidia-nccl-cu11==2.14.3 in /home/conda/miniconda3/envs/pyjedai-progressive/lib/python3.9/site-packages (from torch>=1.0.0->pytorch_transformers) (2.14.3)\n",
      "Requirement already satisfied: wheel in /home/conda/miniconda3/envs/pyjedai-progressive/lib/python3.9/site-packages (from nvidia-cublas-cu11==11.10.3.66->torch>=1.0.0->pytorch_transformers) (0.38.4)\n",
      "Requirement already satisfied: setuptools in /home/conda/miniconda3/envs/pyjedai-progressive/lib/python3.9/site-packages (from nvidia-cublas-cu11==11.10.3.66->torch>=1.0.0->pytorch_transformers) (67.8.0)\n",
      "Requirement already satisfied: cmake in /home/conda/miniconda3/envs/pyjedai-progressive/lib/python3.9/site-packages (from triton==2.0.0->torch>=1.0.0->pytorch_transformers) (3.26.3)\n",
      "Requirement already satisfied: lit in /home/conda/miniconda3/envs/pyjedai-progressive/lib/python3.9/site-packages (from triton==2.0.0->torch>=1.0.0->pytorch_transformers) (16.0.5.post0)\n",
      "Collecting jmespath<2.0.0,>=0.7.1\n",
      "  Downloading jmespath-1.0.1-py3-none-any.whl (20 kB)\n",
      "Collecting s3transfer<0.7.0,>=0.6.0\n",
      "  Downloading s3transfer-0.6.1-py3-none-any.whl (79 kB)\n",
      "\u001b[2K     \u001b[90m━━━━━━━━━━━━━━━━━━━━━━━━━━━━━━━━━━━━━━━━\u001b[0m \u001b[32m79.8/79.8 kB\u001b[0m \u001b[31m51.8 MB/s\u001b[0m eta \u001b[36m0:00:00\u001b[0m\n",
      "\u001b[?25hCollecting botocore<1.32.0,>=1.31.25\n",
      "  Downloading botocore-1.31.25-py3-none-any.whl (11.1 MB)\n",
      "\u001b[2K     \u001b[90m━━━━━━━━━━━━━━━━━━━━━━━━━━━━━━━━━━━━━━━━\u001b[0m \u001b[32m11.1/11.1 MB\u001b[0m \u001b[31m59.1 MB/s\u001b[0m eta \u001b[36m0:00:00\u001b[0m00:01\u001b[0m0:01\u001b[0m\n",
      "\u001b[?25hRequirement already satisfied: urllib3<3,>=1.21.1 in /home/conda/miniconda3/envs/pyjedai-progressive/lib/python3.9/site-packages (from requests->pytorch_transformers) (2.0.2)\n",
      "Requirement already satisfied: charset-normalizer<4,>=2 in /home/conda/miniconda3/envs/pyjedai-progressive/lib/python3.9/site-packages (from requests->pytorch_transformers) (3.1.0)\n",
      "Requirement already satisfied: certifi>=2017.4.17 in /home/conda/miniconda3/envs/pyjedai-progressive/lib/python3.9/site-packages (from requests->pytorch_transformers) (2023.5.7)\n",
      "Requirement already satisfied: idna<4,>=2.5 in /home/conda/miniconda3/envs/pyjedai-progressive/lib/python3.9/site-packages (from requests->pytorch_transformers) (3.4)\n",
      "Requirement already satisfied: six in /home/conda/miniconda3/envs/pyjedai-progressive/lib/python3.9/site-packages (from sacremoses->pytorch_transformers) (1.16.0)\n",
      "Requirement already satisfied: click in /home/conda/miniconda3/envs/pyjedai-progressive/lib/python3.9/site-packages (from sacremoses->pytorch_transformers) (8.1.3)\n",
      "Requirement already satisfied: joblib in /home/conda/miniconda3/envs/pyjedai-progressive/lib/python3.9/site-packages (from sacremoses->pytorch_transformers) (1.2.0)\n",
      "Requirement already satisfied: python-dateutil<3.0.0,>=2.1 in /home/conda/miniconda3/envs/pyjedai-progressive/lib/python3.9/site-packages (from botocore<1.32.0,>=1.31.25->boto3->pytorch_transformers) (2.8.2)\n",
      "Collecting urllib3<3,>=1.21.1\n",
      "  Downloading urllib3-1.26.16-py2.py3-none-any.whl (143 kB)\n",
      "\u001b[2K     \u001b[90m━━━━━━━━━━━━━━━━━━━━━━━━━━━━━━━━━━━━━━\u001b[0m \u001b[32m143.1/143.1 kB\u001b[0m \u001b[31m91.9 MB/s\u001b[0m eta \u001b[36m0:00:00\u001b[0m\n",
      "\u001b[?25hRequirement already satisfied: MarkupSafe>=2.0 in /home/conda/miniconda3/envs/pyjedai-progressive/lib/python3.9/site-packages (from jinja2->torch>=1.0.0->pytorch_transformers) (2.1.3)\n",
      "Requirement already satisfied: mpmath>=0.19 in /home/conda/miniconda3/envs/pyjedai-progressive/lib/python3.9/site-packages (from sympy->torch>=1.0.0->pytorch_transformers) (1.3.0)\n",
      "Building wheels for collected packages: sacremoses\n",
      "  Building wheel for sacremoses (setup.py) ... \u001b[?25ldone\n",
      "\u001b[?25h  Created wheel for sacremoses: filename=sacremoses-0.0.53-py3-none-any.whl size=895241 sha256=46d7de993c7ecd13119f49e49fd9fa97400a42c31661abf304b44f120953df0c\n",
      "  Stored in directory: /home/jm/.cache/pip/wheels/12/1c/3d/46cf06718d63a32ff798a89594b61e7f345ab6b36d909ce033\n",
      "Successfully built sacremoses\n",
      "Installing collected packages: urllib3, sacremoses, jmespath, botocore, s3transfer, boto3, pytorch_transformers\n",
      "  Attempting uninstall: urllib3\n",
      "    Found existing installation: urllib3 2.0.2\n",
      "    Uninstalling urllib3-2.0.2:\n",
      "      Successfully uninstalled urllib3-2.0.2\n",
      "Successfully installed boto3-1.28.25 botocore-1.31.25 jmespath-1.0.1 pytorch_transformers-1.2.0 s3transfer-0.6.1 sacremoses-0.0.53 urllib3-1.26.16\n"
     ]
    }
   ],
   "source": [
    "!pip install tensorboardX\n",
    "!pip install pytorch_transformers"
   ]
  },
  {
   "cell_type": "code",
   "execution_count": 20,
   "id": "53cfa1da-717b-4b5b-9209-ff6232909a2d",
   "metadata": {},
   "outputs": [
    {
     "name": "stderr",
     "output_type": "stream",
     "text": [
      "/home/conda/miniconda3/envs/pyjedai-progressive/lib/python3.9/site-packages/ipykernel/ipkernel.py:283: DeprecationWarning: `should_run_async` will not call `transform_cell` automatically in the future. Please pass the result to `transformed_cell` argument and any exception that happen during thetransform in `preprocessing_exc_tuple` in IPython 7.17 and above.\n",
      "  and should_run_async(code)\n"
     ]
    }
   ],
   "source": [
    "from pyjedai.supervised_techniques import PretrainedSupervisedER"
   ]
  },
  {
   "cell_type": "markdown",
   "id": "a9aae33c-707b-46d6-9080-14e4cacd1646",
   "metadata": {},
   "source": [
    "## Pytorch using BERT-like models and pre-trained word and sentence embeddings\n",
    "\n",
    "\n",
    "\n",
    "__Available models:__\n",
    "- 'roberta-base' \n",
    "- 'bert-base-uncased' \n",
    "- 'distilbert-base-uncased' \n",
    "- 'sentence-transformers/all-distilroberta-v1' \n",
    "- 'sentence-transformers/all-MiniLM-L12-v2' \n",
    "- 'albert-base-v2' \n",
    "- 'sentence-transformers/all-mpnet-base-v2' \n",
    "- 'xlnet-base-cased'\n",
    "\n",
    "__Available model types:__ \n",
    "- 'roberta' \n",
    "- 'bert' \n",
    "- 'distilbert' \n",
    "- 'sdistilroberta'\n",
    "- 'sminilm'\n",
    "- 'albert' \n",
    "- 'smpnet'\n",
    "- 'xlnet'"
   ]
  },
  {
   "cell_type": "code",
   "execution_count": 17,
   "id": "c4d88feb-a079-40c8-992d-eba9c82374f5",
   "metadata": {},
   "outputs": [
    {
     "name": "stderr",
     "output_type": "stream",
     "text": [
      "/home/conda/miniconda3/envs/pyjedai-progressive/lib/python3.9/site-packages/ipykernel/ipkernel.py:283: DeprecationWarning: `should_run_async` will not call `transform_cell` automatically in the future. Please pass the result to `transformed_cell` argument and any exception that happen during thetransform in `preprocessing_exc_tuple` in IPython 7.17 and above.\n",
      "  and should_run_async(code)\n"
     ]
    }
   ],
   "source": [
    "pser = PretrainedSupervisedER(model_type='roberta', model_name='roberta-base')"
   ]
  },
  {
   "cell_type": "code",
   "execution_count": 19,
   "id": "416e84a2-7362-4e0c-bd33-8151a0ac4bbe",
   "metadata": {
    "tags": [
     "main"
    ]
   },
   "outputs": [
    {
     "name": "stderr",
     "output_type": "stream",
     "text": [
      "/home/conda/miniconda3/envs/pyjedai-progressive/lib/python3.9/site-packages/ipykernel/ipkernel.py:283: DeprecationWarning: `should_run_async` will not call `transform_cell` automatically in the future. Please pass the result to `transformed_cell` argument and any exception that happen during thetransform in `preprocessing_exc_tuple` in IPython 7.17 and above.\n",
      "  and should_run_async(code)\n"
     ]
    }
   ],
   "source": [
    "prediction, true_labels = pser.fit_blocks(blocks, data)"
   ]
  },
  {
   "cell_type": "code",
   "execution_count": null,
   "id": "d42be6fb-6fbf-4aea-9e14-5043cf001bf2",
   "metadata": {},
   "outputs": [],
   "source": [
    "pser.evaluate(prediction, true_labels)"
   ]
  }
 ],
 "metadata": {
  "kernelspec": {
   "display_name": "Python 3",
   "language": "python",
   "name": "python3"
  },
  "language_info": {
   "codemirror_mode": {
    "name": "ipython",
    "version": 3
   },
   "file_extension": ".py",
   "mimetype": "text/x-python",
   "name": "python",
   "nbconvert_exporter": "python",
   "pygments_lexer": "ipython3",
   "version": "3.9.16"
  }
 },
 "nbformat": 4,
 "nbformat_minor": 5
}
