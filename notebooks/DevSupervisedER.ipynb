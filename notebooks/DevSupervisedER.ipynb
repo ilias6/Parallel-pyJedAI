{
 "cells": [
  {
   "cell_type": "markdown",
   "id": "30728426-53c7-4ba6-ba3b-5c6f38ddf2cf",
   "metadata": {},
   "source": [
    "<div align=\"center\"> \n",
    "    <hr>\n",
    "  <font size=\"6\"><b>Dev | Supervised with DL and pyTorch Embeddings ER Notebook</b> </font>\n",
    "   <hr>\n",
    "</div>"
   ]
  },
  {
   "cell_type": "code",
   "execution_count": 24,
   "id": "b5376258-f87b-4738-8ecd-6ab28584a4b0",
   "metadata": {},
   "outputs": [
    {
     "name": "stdout",
     "output_type": "stream",
     "text": [
      "The autoreload extension is already loaded. To reload it, use:\n",
      "  %reload_ext autoreload\n"
     ]
    }
   ],
   "source": [
    "import os\n",
    "import sys\n",
    "import pandas as pd\n",
    "import networkx\n",
    "from networkx import draw, Graph\n",
    "%load_ext autoreload\n",
    "%autoreload 2\n",
    "%reload_ext autoreload\n",
    "from pyjedai.utils import (\n",
    "    text_cleaning_method,\n",
    "    print_clusters,\n",
    "    print_blocks,\n",
    "    print_candidate_pairs\n",
    ")\n",
    "from pyjedai.evaluation import Evaluation, write\n",
    "from pyjedai.datamodel import Data\n",
    "d1 = pd.read_csv(\"./data/ccer/D2/abt.csv\", sep='|', engine='python', na_filter=False).astype(str)\n",
    "d2 = pd.read_csv(\"./data/ccer/D2/buy.csv\", sep='|', engine='python', na_filter=False).astype(str)\n",
    "gt = pd.read_csv(\"./data/ccer/D2/gt.csv\", sep='|', engine='python')\n",
    "\n",
    "data = Data(\n",
    "    dataset_1=d1,\n",
    "    id_column_name_1='id',\n",
    "    dataset_2=d2,\n",
    "    id_column_name_2='id',\n",
    "    ground_truth=gt,\n",
    ")"
   ]
  },
  {
   "cell_type": "code",
   "execution_count": 2,
   "id": "b0329939-dcac-4d9c-b265-9463fdb4ff3a",
   "metadata": {},
   "outputs": [
    {
     "data": {
      "text/html": [
       "<div>\n",
       "<style scoped>\n",
       "    .dataframe tbody tr th:only-of-type {\n",
       "        vertical-align: middle;\n",
       "    }\n",
       "\n",
       "    .dataframe tbody tr th {\n",
       "        vertical-align: top;\n",
       "    }\n",
       "\n",
       "    .dataframe thead th {\n",
       "        text-align: right;\n",
       "    }\n",
       "</style>\n",
       "<table border=\"1\" class=\"dataframe\">\n",
       "  <thead>\n",
       "    <tr style=\"text-align: right;\">\n",
       "      <th></th>\n",
       "      <th>id</th>\n",
       "      <th>name</th>\n",
       "      <th>description</th>\n",
       "      <th>price</th>\n",
       "    </tr>\n",
       "  </thead>\n",
       "  <tbody>\n",
       "    <tr>\n",
       "      <th>0</th>\n",
       "      <td>0</td>\n",
       "      <td>Sony Turntable - PSLX350H</td>\n",
       "      <td>Sony Turntable - PSLX350H/ Belt Drive System/ ...</td>\n",
       "      <td></td>\n",
       "    </tr>\n",
       "    <tr>\n",
       "      <th>1</th>\n",
       "      <td>1</td>\n",
       "      <td>Bose Acoustimass 5 Series III Speaker System -...</td>\n",
       "      <td>Bose Acoustimass 5 Series III Speaker System -...</td>\n",
       "      <td>399</td>\n",
       "    </tr>\n",
       "    <tr>\n",
       "      <th>2</th>\n",
       "      <td>2</td>\n",
       "      <td>Sony Switcher - SBV40S</td>\n",
       "      <td>Sony Switcher - SBV40S/ Eliminates Disconnecti...</td>\n",
       "      <td>49</td>\n",
       "    </tr>\n",
       "    <tr>\n",
       "      <th>3</th>\n",
       "      <td>3</td>\n",
       "      <td>Sony 5 Disc CD Player - CDPCE375</td>\n",
       "      <td>Sony 5 Disc CD Player- CDPCE375/ 5 Disc Change...</td>\n",
       "      <td></td>\n",
       "    </tr>\n",
       "    <tr>\n",
       "      <th>4</th>\n",
       "      <td>4</td>\n",
       "      <td>Bose 27028 161 Bookshelf Pair Speakers In Whit...</td>\n",
       "      <td>Bose 161 Bookshelf Speakers In White - 161WH/ ...</td>\n",
       "      <td>158</td>\n",
       "    </tr>\n",
       "    <tr>\n",
       "      <th>...</th>\n",
       "      <td>...</td>\n",
       "      <td>...</td>\n",
       "      <td>...</td>\n",
       "      <td>...</td>\n",
       "    </tr>\n",
       "    <tr>\n",
       "      <th>2147</th>\n",
       "      <td>1071</td>\n",
       "      <td>Sony VAIO FW378J/B Notebook - VGNFW378J/B</td>\n",
       "      <td>Intel Centrino 2 Core 2 Duo P8600 2.4GHz - 16....</td>\n",
       "      <td></td>\n",
       "    </tr>\n",
       "    <tr>\n",
       "      <th>2148</th>\n",
       "      <td>1072</td>\n",
       "      <td>Sennheiser CX380 Sennheiser CX 380 Sport II Gr...</td>\n",
       "      <td></td>\n",
       "      <td></td>\n",
       "    </tr>\n",
       "    <tr>\n",
       "      <th>2149</th>\n",
       "      <td>1073</td>\n",
       "      <td>IWORK 09 RETAIL-INT DVD - MB942Z/A</td>\n",
       "      <td></td>\n",
       "      <td></td>\n",
       "    </tr>\n",
       "    <tr>\n",
       "      <th>2150</th>\n",
       "      <td>1074</td>\n",
       "      <td>IWORK 09 FAMILY PACK-INT DVD - MB943Z/A</td>\n",
       "      <td></td>\n",
       "      <td></td>\n",
       "    </tr>\n",
       "    <tr>\n",
       "      <th>2151</th>\n",
       "      <td>1075</td>\n",
       "      <td>CASE MATE CARBON FIBER IPHONE 3G CASE BLACK - ...</td>\n",
       "      <td></td>\n",
       "      <td>28.08</td>\n",
       "    </tr>\n",
       "  </tbody>\n",
       "</table>\n",
       "<p>2152 rows × 4 columns</p>\n",
       "</div>"
      ],
      "text/plain": [
       "        id                                               name  \\\n",
       "0        0                          Sony Turntable - PSLX350H   \n",
       "1        1  Bose Acoustimass 5 Series III Speaker System -...   \n",
       "2        2                             Sony Switcher - SBV40S   \n",
       "3        3                   Sony 5 Disc CD Player - CDPCE375   \n",
       "4        4  Bose 27028 161 Bookshelf Pair Speakers In Whit...   \n",
       "...    ...                                                ...   \n",
       "2147  1071          Sony VAIO FW378J/B Notebook - VGNFW378J/B   \n",
       "2148  1072  Sennheiser CX380 Sennheiser CX 380 Sport II Gr...   \n",
       "2149  1073                 IWORK 09 RETAIL-INT DVD - MB942Z/A   \n",
       "2150  1074            IWORK 09 FAMILY PACK-INT DVD - MB943Z/A   \n",
       "2151  1075  CASE MATE CARBON FIBER IPHONE 3G CASE BLACK - ...   \n",
       "\n",
       "                                            description  price  \n",
       "0     Sony Turntable - PSLX350H/ Belt Drive System/ ...         \n",
       "1     Bose Acoustimass 5 Series III Speaker System -...    399  \n",
       "2     Sony Switcher - SBV40S/ Eliminates Disconnecti...     49  \n",
       "3     Sony 5 Disc CD Player- CDPCE375/ 5 Disc Change...         \n",
       "4     Bose 161 Bookshelf Speakers In White - 161WH/ ...    158  \n",
       "...                                                 ...    ...  \n",
       "2147  Intel Centrino 2 Core 2 Duo P8600 2.4GHz - 16....         \n",
       "2148                                                            \n",
       "2149                                                            \n",
       "2150                                                            \n",
       "2151                                                     28.08  \n",
       "\n",
       "[2152 rows x 4 columns]"
      ]
     },
     "execution_count": 2,
     "metadata": {},
     "output_type": "execute_result"
    }
   ],
   "source": [
    "data.entities"
   ]
  },
  {
   "cell_type": "markdown",
   "id": "ff026fd7-f760-4bda-8e61-e378f004b5af",
   "metadata": {},
   "source": [
    "# Block Building"
   ]
  },
  {
   "cell_type": "code",
   "execution_count": 3,
   "id": "c72dca95-52f9-4363-a431-a28f6306505b",
   "metadata": {},
   "outputs": [
    {
     "name": "stderr",
     "output_type": "stream",
     "text": [
      "C:\\Users\\nikol\\Desktop\\GitHub\\pyJedAI-Dev\\pyjedai\\block_building.py:12: TqdmExperimentalWarning: Using `tqdm.autonotebook.tqdm` in notebook mode. Use `tqdm.tqdm` instead to force console mode (e.g. in jupyter console)\n",
      "  from tqdm.autonotebook import tqdm\n"
     ]
    }
   ],
   "source": [
    "from pyjedai.block_building import (\n",
    "    StandardBlocking,\n",
    "    QGramsBlocking,\n",
    "    ExtendedQGramsBlocking,\n",
    "    SuffixArraysBlocking,\n",
    "    ExtendedSuffixArraysBlocking,\n",
    ")\n",
    "\n",
    "from pyjedai.vector_based_blocking import EmbeddingsNNBlockBuilding"
   ]
  },
  {
   "cell_type": "code",
   "execution_count": 4,
   "id": "a0bfebb5-8875-47e3-befb-dc5e4ab1ca06",
   "metadata": {},
   "outputs": [
    {
     "data": {
      "application/vnd.jupyter.widget-view+json": {
       "model_id": "49531d8cb46b4a5a9669f22630a40a88",
       "version_major": 2,
       "version_minor": 0
      },
      "text/plain": [
       "Standard Blocking:   0%|          | 0/2152 [00:00<?, ?it/s]"
      ]
     },
     "metadata": {},
     "output_type": "display_data"
    }
   ],
   "source": [
    "qgb = StandardBlocking()\n",
    "blocks = qgb.build_blocks(data)"
   ]
  },
  {
   "cell_type": "code",
   "execution_count": 5,
   "id": "82ccadd6-4e13-4f50-a736-8b506e2f1893",
   "metadata": {},
   "outputs": [
    {
     "name": "stdout",
     "output_type": "stream",
     "text": [
      "Method name: Standard Blocking\n",
      "Method info: Creates one block for every token in the attribute values of at least two entities.\n",
      "Parameters: Parameter-Free method\n",
      "Attributes from D1:\n",
      "\tid, name, description, price\n",
      "Attributes from D2:\n",
      "\tid, name, description, price\n",
      "Runtime: 0.3155 seconds\n"
     ]
    }
   ],
   "source": [
    "qgb.report()"
   ]
  },
  {
   "cell_type": "code",
   "execution_count": 8,
   "id": "dee611cd-aea5-4d78-aaf7-5829a7e81906",
   "metadata": {},
   "outputs": [
    {
     "name": "stdout",
     "output_type": "stream",
     "text": [
      "***************************************************************************************************************************\n",
      "                                         Μethod:  Standard Blocking\n",
      "***************************************************************************************************************************\n",
      "Method name: Standard Blocking\n",
      "Parameters: \n",
      "Runtime: 0.3155 seconds\n",
      "───────────────────────────────────────────────────────────────────────────────────────────────────────────────────────────\n",
      "Performance:\n",
      "\tPrecision:      0.12% \n",
      "\tRecall:        99.81%\n",
      "\tF1-score:       0.24%\n",
      "───────────────────────────────────────────────────────────────────────────────────────────────────────────────────────────\n"
     ]
    },
    {
     "data": {
      "text/plain": [
       "{'Precision %': 0.11989350241963842,\n",
       " 'Recall %': 99.81412639405205,\n",
       " 'F1 %': 0.2394993259900253,\n",
       " 'True Positives': 1074,\n",
       " 'False Positives': 894721,\n",
       " 'True Negatives': 263053,\n",
       " 'False Negatives': 2}"
      ]
     },
     "execution_count": 8,
     "metadata": {},
     "output_type": "execute_result"
    }
   ],
   "source": [
    "qgb.evaluate(blocks)"
   ]
  },
  {
   "cell_type": "markdown",
   "id": "2d233e5c-e849-4477-b277-8b590aa0a7cc",
   "metadata": {},
   "source": [
    "# Comparison Cleaning\n"
   ]
  },
  {
   "cell_type": "code",
   "execution_count": 9,
   "id": "3ab9af67-5f1f-456d-8106-4440e3dcc9fa",
   "metadata": {},
   "outputs": [],
   "source": [
    "from pyjedai.block_cleaning import BlockPurging"
   ]
  },
  {
   "cell_type": "code",
   "execution_count": 10,
   "id": "28fba20e-072f-47ff-9a6a-3d6401f1a883",
   "metadata": {},
   "outputs": [
    {
     "data": {
      "application/vnd.jupyter.widget-view+json": {
       "model_id": "d766c7425dd54b16bc6d0cb7c1d6c3cb",
       "version_major": 2,
       "version_minor": 0
      },
      "text/plain": [
       "Block Purging:   0%|          | 0/4264 [00:00<?, ?it/s]"
      ]
     },
     "metadata": {},
     "output_type": "display_data"
    }
   ],
   "source": [
    "cbbp = BlockPurging()\n",
    "cleaned_blocks = cbbp.process(blocks, data, tqdm_disable=False)"
   ]
  },
  {
   "cell_type": "code",
   "execution_count": 11,
   "id": "ae320628-0475-42c9-8d85-970a11567987",
   "metadata": {},
   "outputs": [
    {
     "name": "stdout",
     "output_type": "stream",
     "text": [
      "Method name: Block Purging\n",
      "Method info: Discards the blocks exceeding a certain number of comparisons.\n",
      "Parameters: \n",
      "\tSmoothing factor: 1.025\n",
      "\tMax Comparisons per Block: 13920.0\n",
      "Runtime: 0.0473 seconds\n"
     ]
    }
   ],
   "source": [
    "cbbp.report()"
   ]
  },
  {
   "cell_type": "code",
   "execution_count": 13,
   "id": "e51e9c21-0a97-4dfb-939f-96dfde0aada7",
   "metadata": {},
   "outputs": [
    {
     "name": "stdout",
     "output_type": "stream",
     "text": [
      "***************************************************************************************************************************\n",
      "                                         Μethod:  Block Purging\n",
      "***************************************************************************************************************************\n",
      "Method name: Block Purging\n",
      "Parameters: \n",
      "\tSmoothing factor: 1.025\n",
      "\tMax Comparisons per Block: 13920.0\n",
      "Runtime: 0.0473 seconds\n",
      "───────────────────────────────────────────────────────────────────────────────────────────────────────────────────────────\n",
      "Performance:\n",
      "\tPrecision:      0.24% \n",
      "\tRecall:        99.81%\n",
      "\tF1-score:       0.48%\n",
      "───────────────────────────────────────────────────────────────────────────────────────────────────────────────────────────\n"
     ]
    },
    {
     "data": {
      "text/plain": [
       "{'Precision %': 0.24257043350995353,\n",
       " 'Recall %': 99.81412639405205,\n",
       " 'F1 %': 0.4839647255505437,\n",
       " 'True Positives': 1074,\n",
       " 'False Positives': 441684,\n",
       " 'True Negatives': 716090,\n",
       " 'False Negatives': 2}"
      ]
     },
     "execution_count": 13,
     "metadata": {},
     "output_type": "execute_result"
    }
   ],
   "source": [
    "cbbp.evaluate(cleaned_blocks)"
   ]
  },
  {
   "cell_type": "markdown",
   "id": "c589be69-3e67-44d1-969f-c090f6dff532",
   "metadata": {},
   "source": [
    "## Meta Blocking"
   ]
  },
  {
   "cell_type": "code",
   "execution_count": 14,
   "id": "5c961599-8115-40b9-afe9-3116c43bba79",
   "metadata": {},
   "outputs": [],
   "source": [
    "from pyjedai.comparison_cleaning import (\n",
    "    WeightedEdgePruning,\n",
    "    WeightedNodePruning,\n",
    "    CardinalityEdgePruning,\n",
    "    CardinalityNodePruning,\n",
    "    BLAST,\n",
    "    ReciprocalCardinalityNodePruning,\n",
    "    ReciprocalWeightedNodePruning,\n",
    "    ComparisonPropagation\n",
    ")"
   ]
  },
  {
   "cell_type": "code",
   "execution_count": 15,
   "id": "f4609837-7818-4daf-aa09-d1e4f7c97784",
   "metadata": {},
   "outputs": [],
   "source": [
    "wep = CardinalityEdgePruning(weighting_scheme='X2')\n",
    "candidate_pairs_blocks = wep.process(cleaned_blocks, data, tqdm_disable=True)"
   ]
  },
  {
   "cell_type": "code",
   "execution_count": 16,
   "id": "81c84e00-f8ff-43cd-a558-675c87c0f9cd",
   "metadata": {},
   "outputs": [
    {
     "name": "stdout",
     "output_type": "stream",
     "text": [
      "***************************************************************************************************************************\n",
      "                                         Μethod:  Cardinality Edge Pruning\n",
      "***************************************************************************************************************************\n",
      "Method name: Cardinality Edge Pruning\n",
      "Parameters: \n",
      "\tNode centric: False\n",
      "\tWeighting scheme: X2\n",
      "Runtime: 13.6502 seconds\n",
      "───────────────────────────────────────────────────────────────────────────────────────────────────────────────────────────\n",
      "Performance:\n",
      "\tPrecision:      5.81% \n",
      "\tRecall:        96.19%\n",
      "\tF1-score:      10.96%\n",
      "───────────────────────────────────────────────────────────────────────────────────────────────────────────────────────────\n"
     ]
    },
    {
     "data": {
      "text/html": [
       "<div>\n",
       "<style scoped>\n",
       "    .dataframe tbody tr th:only-of-type {\n",
       "        vertical-align: middle;\n",
       "    }\n",
       "\n",
       "    .dataframe tbody tr th {\n",
       "        vertical-align: top;\n",
       "    }\n",
       "\n",
       "    .dataframe thead th {\n",
       "        text-align: right;\n",
       "    }\n",
       "</style>\n",
       "<table border=\"1\" class=\"dataframe\">\n",
       "  <thead>\n",
       "    <tr style=\"text-align: right;\">\n",
       "      <th></th>\n",
       "      <th>Precision %</th>\n",
       "      <th>Recall %</th>\n",
       "      <th>F1 %</th>\n",
       "      <th>True Positives</th>\n",
       "      <th>False Positives</th>\n",
       "      <th>True Negatives</th>\n",
       "      <th>False Negatives</th>\n",
       "    </tr>\n",
       "  </thead>\n",
       "  <tbody>\n",
       "    <tr>\n",
       "      <th>0</th>\n",
       "      <td>5.81</td>\n",
       "      <td>96.19</td>\n",
       "      <td>10.96</td>\n",
       "      <td>1035.0</td>\n",
       "      <td>16782.0</td>\n",
       "      <td>1.14e+06</td>\n",
       "      <td>41.0</td>\n",
       "    </tr>\n",
       "  </tbody>\n",
       "</table>\n",
       "</div>"
      ],
      "text/plain": [
       "   Precision %  Recall %   F1 %  True Positives  False Positives  \\\n",
       "0         5.81     96.19  10.96          1035.0          16782.0   \n",
       "\n",
       "   True Negatives  False Negatives  \n",
       "0        1.14e+06             41.0  "
      ]
     },
     "execution_count": 16,
     "metadata": {},
     "output_type": "execute_result"
    }
   ],
   "source": [
    "wep.evaluate(candidate_pairs_blocks, wep.method_configuration())"
   ]
  },
  {
   "cell_type": "code",
   "execution_count": 34,
   "id": "58c53fa3-0529-4135-b9b9-8dde9c8d6db7",
   "metadata": {},
   "outputs": [],
   "source": [
    "# print(candidate_pairs_blocks)"
   ]
  },
  {
   "cell_type": "markdown",
   "id": "c6ef5df6-022c-404c-a9a4-ba88fb32d243",
   "metadata": {},
   "source": [
    "# Supervised DL method for matching based on the candidate pairs\n",
    "\n",
    "Candidate pairs are in form (dictionary): \n",
    "\n",
    "> entity_id_1 -> set(entity_id_x, entity_id_y, entity_id_z)\n",
    "\n",
    "- __The split process:__ Given a ratio (0.6 + 0.2 + 0.2 = 1.0) all candiadtes will be splited into train, test, validation accordingly, by concatinating each entity attribute into a lowercase string. For example 60% of comparisons will be used for training, 20% for testing and 20% for validation by using pyTorch.\n",
    "- After the concatenation each string entity will be transformed into an embedding using pre-trained word and sentence embeddings.\n",
    "- The next step will be to create the vocabulary and afterwords train the model. The model will produce a vector of similarities ?? and this vector will be used to determine if a pair of comparison is a match or not"
   ]
  },
  {
   "cell_type": "markdown",
   "id": "5eb04971-bffb-4dba-9e44-ee4620aac728",
   "metadata": {},
   "source": [
    "## Data preparation for train, test, validation"
   ]
  },
  {
   "cell_type": "code",
   "execution_count": 22,
   "id": "d5cab792-51cc-4ffb-acaf-b0a87078e127",
   "metadata": {},
   "outputs": [
    {
     "name": "stdout",
     "output_type": "stream",
     "text": [
      "Requirement already satisfied: tensorboardX in c:\\users\\nikol\\anaconda3\\lib\\site-packages (2.6)\n",
      "Requirement already satisfied: numpy in c:\\users\\nikol\\anaconda3\\lib\\site-packages (from tensorboardX) (1.21.2)\n",
      "Requirement already satisfied: protobuf<4,>=3.8.0 in c:\\users\\nikol\\anaconda3\\lib\\site-packages (from tensorboardX) (3.17.2)\n",
      "Requirement already satisfied: packaging in c:\\users\\nikol\\anaconda3\\lib\\site-packages (from tensorboardX) (21.3)\n",
      "Requirement already satisfied: six>=1.9 in c:\\users\\nikol\\anaconda3\\lib\\site-packages (from protobuf<4,>=3.8.0->tensorboardX) (1.16.0)\n",
      "Requirement already satisfied: pyparsing!=3.0.5,>=2.0.2 in c:\\users\\nikol\\anaconda3\\lib\\site-packages (from packaging->tensorboardX) (3.0.4)\n",
      "Collecting pytorch_transformers\n",
      "  Using cached pytorch_transformers-1.2.0-py3-none-any.whl (176 kB)\n",
      "Requirement already satisfied: torch>=1.0.0 in c:\\users\\nikol\\anaconda3\\lib\\site-packages (from pytorch_transformers) (1.12.1)\n",
      "Requirement already satisfied: sentencepiece in c:\\users\\nikol\\anaconda3\\lib\\site-packages (from pytorch_transformers) (0.1.97)\n",
      "Requirement already satisfied: regex in c:\\users\\nikol\\anaconda3\\lib\\site-packages (from pytorch_transformers) (2022.6.2)\n",
      "Requirement already satisfied: numpy in c:\\users\\nikol\\anaconda3\\lib\\site-packages (from pytorch_transformers) (1.21.2)\n",
      "Requirement already satisfied: boto3 in c:\\users\\nikol\\anaconda3\\lib\\site-packages (from pytorch_transformers) (1.18.21)\n",
      "Requirement already satisfied: tqdm in c:\\users\\nikol\\anaconda3\\lib\\site-packages (from pytorch_transformers) (4.64.0)\n",
      "Collecting sacremoses\n",
      "  Using cached sacremoses-0.0.53.tar.gz (880 kB)\n",
      "Requirement already satisfied: requests in c:\\users\\nikol\\anaconda3\\lib\\site-packages (from pytorch_transformers) (2.26.0)\n",
      "Requirement already satisfied: typing-extensions in c:\\users\\nikol\\anaconda3\\lib\\site-packages (from torch>=1.0.0->pytorch_transformers) (4.3.0)\n",
      "Requirement already satisfied: jmespath<1.0.0,>=0.7.1 in c:\\users\\nikol\\anaconda3\\lib\\site-packages (from boto3->pytorch_transformers) (0.10.0)\n",
      "Requirement already satisfied: s3transfer<0.6.0,>=0.5.0 in c:\\users\\nikol\\anaconda3\\lib\\site-packages (from boto3->pytorch_transformers) (0.5.0)\n",
      "Requirement already satisfied: botocore<1.22.0,>=1.21.21 in c:\\users\\nikol\\anaconda3\\lib\\site-packages (from boto3->pytorch_transformers) (1.21.41)\n",
      "Requirement already satisfied: urllib3<1.27,>=1.25.4 in c:\\users\\nikol\\anaconda3\\lib\\site-packages (from botocore<1.22.0,>=1.21.21->boto3->pytorch_transformers) (1.26.7)\n",
      "Requirement already satisfied: python-dateutil<3.0.0,>=2.1 in c:\\users\\nikol\\anaconda3\\lib\\site-packages (from botocore<1.22.0,>=1.21.21->boto3->pytorch_transformers) (2.8.2)\n",
      "Requirement already satisfied: six>=1.5 in c:\\users\\nikol\\anaconda3\\lib\\site-packages (from python-dateutil<3.0.0,>=2.1->botocore<1.22.0,>=1.21.21->boto3->pytorch_transformers) (1.16.0)\n",
      "Requirement already satisfied: idna<4,>=2.5 in c:\\users\\nikol\\anaconda3\\lib\\site-packages (from requests->pytorch_transformers) (3.3)\n",
      "Requirement already satisfied: certifi>=2017.4.17 in c:\\users\\nikol\\anaconda3\\lib\\site-packages (from requests->pytorch_transformers) (2022.9.14)\n",
      "Requirement already satisfied: charset-normalizer~=2.0.0 in c:\\users\\nikol\\anaconda3\\lib\\site-packages (from requests->pytorch_transformers) (2.0.4)\n",
      "Requirement already satisfied: click in c:\\users\\nikol\\anaconda3\\lib\\site-packages (from sacremoses->pytorch_transformers) (8.0.3)\n",
      "Requirement already satisfied: joblib in c:\\users\\nikol\\anaconda3\\lib\\site-packages (from sacremoses->pytorch_transformers) (1.1.0)\n",
      "Requirement already satisfied: colorama in c:\\users\\nikol\\anaconda3\\lib\\site-packages (from click->sacremoses->pytorch_transformers) (0.4.4)\n",
      "Requirement already satisfied: importlib-metadata in c:\\users\\nikol\\anaconda3\\lib\\site-packages (from click->sacremoses->pytorch_transformers) (4.8.1)\n",
      "Requirement already satisfied: zipp>=0.5 in c:\\users\\nikol\\anaconda3\\lib\\site-packages (from importlib-metadata->click->sacremoses->pytorch_transformers) (3.6.0)\n",
      "Building wheels for collected packages: sacremoses\n",
      "  Building wheel for sacremoses (setup.py): started\n",
      "  Building wheel for sacremoses (setup.py): finished with status 'done'\n",
      "  Created wheel for sacremoses: filename=sacremoses-0.0.53-py3-none-any.whl size=895260 sha256=73c9d1f2468adc2ef8ee2142873050778bc8a35ed1d5844c6c64eed4cdcff22a\n",
      "  Stored in directory: c:\\users\\nikol\\appdata\\local\\pip\\cache\\wheels\\87\\39\\dd\\a83eeef36d0bf98e7a4d1933a4ad2d660295a40613079bafc9\n",
      "Successfully built sacremoses\n",
      "Installing collected packages: sacremoses, pytorch-transformers\n",
      "Successfully installed pytorch-transformers-1.2.0 sacremoses-0.0.53\n"
     ]
    }
   ],
   "source": [
    "!pip install tensorboardX\n",
    "!pip install pytorch_transformers"
   ]
  },
  {
   "cell_type": "code",
   "execution_count": 23,
   "id": "53cfa1da-717b-4b5b-9209-ff6232909a2d",
   "metadata": {},
   "outputs": [],
   "source": [
    "from pyjedai.supervised_techniques import PretrainedSupervisedER"
   ]
  },
  {
   "cell_type": "markdown",
   "id": "a9aae33c-707b-46d6-9080-14e4cacd1646",
   "metadata": {},
   "source": [
    "## Pytorch using BERT-like models and pre-trained word and sentence embeddings\n",
    "\n",
    "\n",
    "\n",
    "__Available models:__\n",
    "- 'roberta-base' \n",
    "- 'bert-base-uncased' \n",
    "- 'distilbert-base-uncased' \n",
    "- 'sentence-transformers/all-distilroberta-v1' \n",
    "- 'sentence-transformers/all-MiniLM-L12-v2' \n",
    "- 'albert-base-v2' \n",
    "- 'sentence-transformers/all-mpnet-base-v2' \n",
    "- 'xlnet-base-cased'\n",
    "\n",
    "__Available model types:__ \n",
    "- 'roberta' \n",
    "- 'bert' \n",
    "- 'distilbert' \n",
    "- 'sdistilroberta'\n",
    "- 'sminilm'\n",
    "- 'albert' \n",
    "- 'smpnet'\n",
    "- 'xlnet'"
   ]
  },
  {
   "cell_type": "code",
   "execution_count": null,
   "id": "c4d88feb-a079-40c8-992d-eba9c82374f5",
   "metadata": {},
   "outputs": [],
   "source": [
    "pser = PretrainedSupervisedER(model_type='roberta', model_name='roberta-base')"
   ]
  },
  {
   "cell_type": "code",
   "execution_count": null,
   "id": "416e84a2-7362-4e0c-bd33-8151a0ac4bbe",
   "metadata": {
    "tags": [
     "main"
    ]
   },
   "outputs": [],
   "source": [
    "prediction, true_labels = pser.fit_blocks(blocks, data)"
   ]
  },
  {
   "cell_type": "code",
   "execution_count": null,
   "id": "d42be6fb-6fbf-4aea-9e14-5043cf001bf2",
   "metadata": {},
   "outputs": [],
   "source": [
    "pser.evaluate(prediction, true_labels)"
   ]
  }
 ],
 "metadata": {
  "kernelspec": {
   "display_name": "Python 3",
   "language": "python",
   "name": "python3"
  },
  "language_info": {
   "codemirror_mode": {
    "name": "ipython",
    "version": 3
   },
   "file_extension": ".py",
   "mimetype": "text/x-python",
   "name": "python",
   "nbconvert_exporter": "python",
   "pygments_lexer": "ipython3",
   "version": "3.9.16"
  }
 },
 "nbformat": 4,
 "nbformat_minor": 5
}
