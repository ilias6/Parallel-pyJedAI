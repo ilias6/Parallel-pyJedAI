{
 "cells": [
  {
   "cell_type": "markdown",
   "id": "96ec678e-b20c-4213-8616-542010f46342",
   "metadata": {},
   "source": [
    "# Clean-Clean Entity Resolution Tutorial\n",
    "\n",
    "\n",
    "In this notebook we present the pyJedAI approach in the well-known ABT-BUY dataset. Clean-Clean ER in the link discovery/deduplication between two sets of entities."
   ]
  },
  {
   "cell_type": "markdown",
   "id": "9c49d2b7-11b5-40b3-9341-de98608dde13",
   "metadata": {},
   "source": [
    "Dataset: __Abt-Buy dataset__ (D1)\n",
    "\n",
    "The Abt-Buy dataset for entity resolution derives from the online retailers Abt.com and Buy.com. The dataset contains 1076 entities from abt.com and 1076 entities from buy.com as well as a gold standard (perfect mapping) with 1076 matching record pairs between the two data sources. The common attributes between the two data sources are: product name, product description and product price."
   ]
  },
  {
   "cell_type": "code",
   "execution_count": 1,
   "id": "74de79ee-5499-4fff-9b1b-319f4ab9a075",
   "metadata": {},
   "outputs": [],
   "source": [
    "%load_ext autoreload\n",
    "%autoreload 2\n",
    "%reload_ext autoreload"
   ]
  },
  {
   "cell_type": "markdown",
   "id": "744b3017-9a5c-4d3c-8e0a-fe39b069b647",
   "metadata": {},
   "source": [
    "## How to install?\n",
    "\n",
    "pyJedAI is an open-source library that can be installed from PyPI.\n",
    "\n",
    "For more: [pypi.org/project/pyjedai/](https://pypi.org/project/pyjedai/)"
   ]
  },
  {
   "cell_type": "code",
   "execution_count": 2,
   "id": "029a5825-799d-4c3f-a6cd-a75e257cadcc",
   "metadata": {},
   "outputs": [
    {
     "name": "stdout",
     "output_type": "stream",
     "text": [
      "Requirement already satisfied: pyjedai in /home/conda/miniconda3/envs/pyjedai-progressive/lib/python3.9/site-packages (0.0.9)\n",
      "Requirement already satisfied: pandocfilters>=1.5 in /home/conda/miniconda3/envs/pyjedai-progressive/lib/python3.9/site-packages (from pyjedai) (1.5.0)\n",
      "Requirement already satisfied: rdflib>=6.1.1 in /home/conda/miniconda3/envs/pyjedai-progressive/lib/python3.9/site-packages (from pyjedai) (6.3.2)\n",
      "Requirement already satisfied: nltk>=3.7 in /home/conda/miniconda3/envs/pyjedai-progressive/lib/python3.9/site-packages (from pyjedai) (3.8.1)\n",
      "Requirement already satisfied: transformers>=4.21 in /home/conda/miniconda3/envs/pyjedai-progressive/lib/python3.9/site-packages (from pyjedai) (4.29.2)\n",
      "Requirement already satisfied: scipy>=1.7 in /home/conda/miniconda3/envs/pyjedai-progressive/lib/python3.9/site-packages (from pyjedai) (1.10.1)\n",
      "Requirement already satisfied: ordered-set>=4.0 in /home/conda/miniconda3/envs/pyjedai-progressive/lib/python3.9/site-packages (from pyjedai) (4.1.0)\n",
      "Requirement already satisfied: tomli in /home/conda/miniconda3/envs/pyjedai-progressive/lib/python3.9/site-packages (from pyjedai) (2.0.1)\n",
      "Requirement already satisfied: networkx>=2.3 in /home/conda/miniconda3/envs/pyjedai-progressive/lib/python3.9/site-packages (from pyjedai) (3.1)\n",
      "Requirement already satisfied: gensim>=4.2.0 in /home/conda/miniconda3/envs/pyjedai-progressive/lib/python3.9/site-packages (from pyjedai) (4.3.1)\n",
      "Requirement already satisfied: strsimpy>=0.2.1 in /home/conda/miniconda3/envs/pyjedai-progressive/lib/python3.9/site-packages (from pyjedai) (0.2.1)\n",
      "Requirement already satisfied: sentence-transformers>=2.2 in /home/conda/miniconda3/envs/pyjedai-progressive/lib/python3.9/site-packages (from pyjedai) (2.2.2)\n",
      "Requirement already satisfied: pandas-profiling>=3.2 in /home/conda/miniconda3/envs/pyjedai-progressive/lib/python3.9/site-packages (from pyjedai) (3.6.6)\n",
      "Requirement already satisfied: matplotlib>=3.1.3 in /home/conda/miniconda3/envs/pyjedai-progressive/lib/python3.9/site-packages (from pyjedai) (3.7.1)\n",
      "Requirement already satisfied: py-stringmatching>=0.4 in /home/conda/miniconda3/envs/pyjedai-progressive/lib/python3.9/site-packages (from pyjedai) (0.4.3)\n",
      "Requirement already satisfied: valentine>=0.1.5 in /home/conda/miniconda3/envs/pyjedai-progressive/lib/python3.9/site-packages (from pyjedai) (0.1.7)\n",
      "Requirement already satisfied: regex>=2022.6.2 in /home/conda/miniconda3/envs/pyjedai-progressive/lib/python3.9/site-packages (from pyjedai) (2023.6.3)\n",
      "Requirement already satisfied: numpy>=1.21 in /home/conda/miniconda3/envs/pyjedai-progressive/lib/python3.9/site-packages (from pyjedai) (1.23.5)\n",
      "Requirement already satisfied: matplotlib-inline>=0.1.3 in /home/conda/miniconda3/envs/pyjedai-progressive/lib/python3.9/site-packages (from pyjedai) (0.1.6)\n",
      "Requirement already satisfied: pandas>=0.25.3 in /home/conda/miniconda3/envs/pyjedai-progressive/lib/python3.9/site-packages (from pyjedai) (1.5.3)\n",
      "Requirement already satisfied: rdfpandas>=1.1.5 in /home/conda/miniconda3/envs/pyjedai-progressive/lib/python3.9/site-packages (from pyjedai) (1.1.5)\n",
      "Requirement already satisfied: seaborn>=0.11 in /home/conda/miniconda3/envs/pyjedai-progressive/lib/python3.9/site-packages (from pyjedai) (0.12.2)\n",
      "Requirement already satisfied: faiss-cpu>=1.7 in /home/conda/miniconda3/envs/pyjedai-progressive/lib/python3.9/site-packages (from pyjedai) (1.7.4)\n",
      "Requirement already satisfied: optuna>=3.0 in /home/conda/miniconda3/envs/pyjedai-progressive/lib/python3.9/site-packages (from pyjedai) (3.2.0)\n",
      "Requirement already satisfied: strsim>=0.0.3 in /home/conda/miniconda3/envs/pyjedai-progressive/lib/python3.9/site-packages (from pyjedai) (0.0.3)\n",
      "Requirement already satisfied: tqdm>=4.64 in /home/conda/miniconda3/envs/pyjedai-progressive/lib/python3.9/site-packages (from pyjedai) (4.65.0)\n",
      "Requirement already satisfied: PyYAML>=6.0 in /home/conda/miniconda3/envs/pyjedai-progressive/lib/python3.9/site-packages (from pyjedai) (6.0)\n",
      "Requirement already satisfied: smart-open>=1.8.1 in /home/conda/miniconda3/envs/pyjedai-progressive/lib/python3.9/site-packages (from gensim>=4.2.0->pyjedai) (6.3.0)\n",
      "Requirement already satisfied: pillow>=6.2.0 in /home/conda/miniconda3/envs/pyjedai-progressive/lib/python3.9/site-packages (from matplotlib>=3.1.3->pyjedai) (9.5.0)\n",
      "Requirement already satisfied: packaging>=20.0 in /home/conda/miniconda3/envs/pyjedai-progressive/lib/python3.9/site-packages (from matplotlib>=3.1.3->pyjedai) (23.1)\n",
      "Requirement already satisfied: pyparsing>=2.3.1 in /home/conda/miniconda3/envs/pyjedai-progressive/lib/python3.9/site-packages (from matplotlib>=3.1.3->pyjedai) (3.0.9)\n",
      "Requirement already satisfied: python-dateutil>=2.7 in /home/conda/miniconda3/envs/pyjedai-progressive/lib/python3.9/site-packages (from matplotlib>=3.1.3->pyjedai) (2.8.2)\n",
      "Requirement already satisfied: importlib-resources>=3.2.0 in /home/conda/miniconda3/envs/pyjedai-progressive/lib/python3.9/site-packages (from matplotlib>=3.1.3->pyjedai) (5.12.0)\n",
      "Requirement already satisfied: cycler>=0.10 in /home/conda/miniconda3/envs/pyjedai-progressive/lib/python3.9/site-packages (from matplotlib>=3.1.3->pyjedai) (0.11.0)\n",
      "Requirement already satisfied: contourpy>=1.0.1 in /home/conda/miniconda3/envs/pyjedai-progressive/lib/python3.9/site-packages (from matplotlib>=3.1.3->pyjedai) (1.0.7)\n",
      "Requirement already satisfied: kiwisolver>=1.0.1 in /home/conda/miniconda3/envs/pyjedai-progressive/lib/python3.9/site-packages (from matplotlib>=3.1.3->pyjedai) (1.4.4)\n",
      "Requirement already satisfied: fonttools>=4.22.0 in /home/conda/miniconda3/envs/pyjedai-progressive/lib/python3.9/site-packages (from matplotlib>=3.1.3->pyjedai) (4.39.4)\n",
      "Requirement already satisfied: traitlets in /home/conda/miniconda3/envs/pyjedai-progressive/lib/python3.9/site-packages (from matplotlib-inline>=0.1.3->pyjedai) (5.9.0)\n",
      "Requirement already satisfied: joblib in /home/conda/miniconda3/envs/pyjedai-progressive/lib/python3.9/site-packages (from nltk>=3.7->pyjedai) (1.2.0)\n",
      "Requirement already satisfied: click in /home/conda/miniconda3/envs/pyjedai-progressive/lib/python3.9/site-packages (from nltk>=3.7->pyjedai) (8.1.3)\n",
      "Requirement already satisfied: cmaes>=0.9.1 in /home/conda/miniconda3/envs/pyjedai-progressive/lib/python3.9/site-packages (from optuna>=3.0->pyjedai) (0.9.1)\n",
      "Requirement already satisfied: sqlalchemy>=1.3.0 in /home/conda/miniconda3/envs/pyjedai-progressive/lib/python3.9/site-packages (from optuna>=3.0->pyjedai) (2.0.15)\n",
      "Requirement already satisfied: alembic>=1.5.0 in /home/conda/miniconda3/envs/pyjedai-progressive/lib/python3.9/site-packages (from optuna>=3.0->pyjedai) (1.11.1)\n",
      "Requirement already satisfied: colorlog in /home/conda/miniconda3/envs/pyjedai-progressive/lib/python3.9/site-packages (from optuna>=3.0->pyjedai) (6.7.0)\n",
      "Requirement already satisfied: pytz>=2020.1 in /home/conda/miniconda3/envs/pyjedai-progressive/lib/python3.9/site-packages (from pandas>=0.25.3->pyjedai) (2023.3)\n",
      "Requirement already satisfied: ydata-profiling in /home/conda/miniconda3/envs/pyjedai-progressive/lib/python3.9/site-packages (from pandas-profiling>=3.2->pyjedai) (4.2.0)\n",
      "Requirement already satisfied: six in /home/conda/miniconda3/envs/pyjedai-progressive/lib/python3.9/site-packages (from py-stringmatching>=0.4->pyjedai) (1.16.0)\n",
      "Requirement already satisfied: isodate<0.7.0,>=0.6.0 in /home/conda/miniconda3/envs/pyjedai-progressive/lib/python3.9/site-packages (from rdflib>=6.1.1->pyjedai) (0.6.1)\n",
      "Requirement already satisfied: huggingface-hub>=0.4.0 in /home/conda/miniconda3/envs/pyjedai-progressive/lib/python3.9/site-packages (from sentence-transformers>=2.2->pyjedai) (0.15.1)\n",
      "Requirement already satisfied: torch>=1.6.0 in /home/conda/miniconda3/envs/pyjedai-progressive/lib/python3.9/site-packages (from sentence-transformers>=2.2->pyjedai) (2.0.1)\n",
      "Requirement already satisfied: sentencepiece in /home/conda/miniconda3/envs/pyjedai-progressive/lib/python3.9/site-packages (from sentence-transformers>=2.2->pyjedai) (0.1.99)\n",
      "Requirement already satisfied: torchvision in /home/conda/miniconda3/envs/pyjedai-progressive/lib/python3.9/site-packages (from sentence-transformers>=2.2->pyjedai) (0.15.2)\n",
      "Requirement already satisfied: scikit-learn in /home/conda/miniconda3/envs/pyjedai-progressive/lib/python3.9/site-packages (from sentence-transformers>=2.2->pyjedai) (1.2.2)\n",
      "Requirement already satisfied: tokenizers!=0.11.3,<0.14,>=0.11.1 in /home/conda/miniconda3/envs/pyjedai-progressive/lib/python3.9/site-packages (from transformers>=4.21->pyjedai) (0.13.3)\n",
      "Requirement already satisfied: requests in /home/conda/miniconda3/envs/pyjedai-progressive/lib/python3.9/site-packages (from transformers>=4.21->pyjedai) (2.31.0)\n",
      "Requirement already satisfied: filelock in /home/conda/miniconda3/envs/pyjedai-progressive/lib/python3.9/site-packages (from transformers>=4.21->pyjedai) (3.12.0)\n",
      "Requirement already satisfied: levenshtein<1.0,>=0.20.7 in /home/conda/miniconda3/envs/pyjedai-progressive/lib/python3.9/site-packages (from valentine>=0.1.5->pyjedai) (0.21.1)\n",
      "Requirement already satisfied: anytree<2.9,>=2.8 in /home/conda/miniconda3/envs/pyjedai-progressive/lib/python3.9/site-packages (from valentine>=0.1.5->pyjedai) (2.8.0)\n",
      "Requirement already satisfied: chardet<6.0.0,>=5.0.0 in /home/conda/miniconda3/envs/pyjedai-progressive/lib/python3.9/site-packages (from valentine>=0.1.5->pyjedai) (5.1.0)\n",
      "Requirement already satisfied: PuLP<3.0,>=2.5.1 in /home/conda/miniconda3/envs/pyjedai-progressive/lib/python3.9/site-packages (from valentine>=0.1.5->pyjedai) (2.7.0)\n",
      "Requirement already satisfied: pot<1.0,>=0.8.2 in /home/conda/miniconda3/envs/pyjedai-progressive/lib/python3.9/site-packages (from valentine>=0.1.5->pyjedai) (0.9.0)\n",
      "Requirement already satisfied: typing-extensions>=4 in /home/conda/miniconda3/envs/pyjedai-progressive/lib/python3.9/site-packages (from alembic>=1.5.0->optuna>=3.0->pyjedai) (4.6.3)\n",
      "Requirement already satisfied: Mako in /home/conda/miniconda3/envs/pyjedai-progressive/lib/python3.9/site-packages (from alembic>=1.5.0->optuna>=3.0->pyjedai) (1.2.4)\n",
      "Requirement already satisfied: fsspec in /home/conda/miniconda3/envs/pyjedai-progressive/lib/python3.9/site-packages (from huggingface-hub>=0.4.0->sentence-transformers>=2.2->pyjedai) (2023.5.0)\n",
      "Requirement already satisfied: zipp>=3.1.0 in /home/conda/miniconda3/envs/pyjedai-progressive/lib/python3.9/site-packages (from importlib-resources>=3.2.0->matplotlib>=3.1.3->pyjedai) (3.15.0)\n",
      "Requirement already satisfied: rapidfuzz<4.0.0,>=2.3.0 in /home/conda/miniconda3/envs/pyjedai-progressive/lib/python3.9/site-packages (from levenshtein<1.0,>=0.20.7->valentine>=0.1.5->pyjedai) (3.1.2)\n",
      "Requirement already satisfied: greenlet!=0.4.17 in /home/conda/miniconda3/envs/pyjedai-progressive/lib/python3.9/site-packages (from sqlalchemy>=1.3.0->optuna>=3.0->pyjedai) (2.0.2)\n",
      "Requirement already satisfied: nvidia-cusolver-cu11==11.4.0.1 in /home/conda/miniconda3/envs/pyjedai-progressive/lib/python3.9/site-packages (from torch>=1.6.0->sentence-transformers>=2.2->pyjedai) (11.4.0.1)\n",
      "Requirement already satisfied: nvidia-cuda-nvrtc-cu11==11.7.99 in /home/conda/miniconda3/envs/pyjedai-progressive/lib/python3.9/site-packages (from torch>=1.6.0->sentence-transformers>=2.2->pyjedai) (11.7.99)\n",
      "Requirement already satisfied: nvidia-cusparse-cu11==11.7.4.91 in /home/conda/miniconda3/envs/pyjedai-progressive/lib/python3.9/site-packages (from torch>=1.6.0->sentence-transformers>=2.2->pyjedai) (11.7.4.91)\n",
      "Requirement already satisfied: sympy in /home/conda/miniconda3/envs/pyjedai-progressive/lib/python3.9/site-packages (from torch>=1.6.0->sentence-transformers>=2.2->pyjedai) (1.12)\n",
      "Requirement already satisfied: nvidia-cudnn-cu11==8.5.0.96 in /home/conda/miniconda3/envs/pyjedai-progressive/lib/python3.9/site-packages (from torch>=1.6.0->sentence-transformers>=2.2->pyjedai) (8.5.0.96)\n",
      "Requirement already satisfied: nvidia-cuda-runtime-cu11==11.7.99 in /home/conda/miniconda3/envs/pyjedai-progressive/lib/python3.9/site-packages (from torch>=1.6.0->sentence-transformers>=2.2->pyjedai) (11.7.99)\n",
      "Requirement already satisfied: nvidia-nvtx-cu11==11.7.91 in /home/conda/miniconda3/envs/pyjedai-progressive/lib/python3.9/site-packages (from torch>=1.6.0->sentence-transformers>=2.2->pyjedai) (11.7.91)\n",
      "Requirement already satisfied: triton==2.0.0 in /home/conda/miniconda3/envs/pyjedai-progressive/lib/python3.9/site-packages (from torch>=1.6.0->sentence-transformers>=2.2->pyjedai) (2.0.0)\n",
      "Requirement already satisfied: nvidia-cuda-cupti-cu11==11.7.101 in /home/conda/miniconda3/envs/pyjedai-progressive/lib/python3.9/site-packages (from torch>=1.6.0->sentence-transformers>=2.2->pyjedai) (11.7.101)\n",
      "Requirement already satisfied: nvidia-cublas-cu11==11.10.3.66 in /home/conda/miniconda3/envs/pyjedai-progressive/lib/python3.9/site-packages (from torch>=1.6.0->sentence-transformers>=2.2->pyjedai) (11.10.3.66)\n",
      "Requirement already satisfied: jinja2 in /home/conda/miniconda3/envs/pyjedai-progressive/lib/python3.9/site-packages (from torch>=1.6.0->sentence-transformers>=2.2->pyjedai) (3.1.2)\n",
      "Requirement already satisfied: nvidia-curand-cu11==10.2.10.91 in /home/conda/miniconda3/envs/pyjedai-progressive/lib/python3.9/site-packages (from torch>=1.6.0->sentence-transformers>=2.2->pyjedai) (10.2.10.91)\n",
      "Requirement already satisfied: nvidia-nccl-cu11==2.14.3 in /home/conda/miniconda3/envs/pyjedai-progressive/lib/python3.9/site-packages (from torch>=1.6.0->sentence-transformers>=2.2->pyjedai) (2.14.3)\n",
      "Requirement already satisfied: nvidia-cufft-cu11==10.9.0.58 in /home/conda/miniconda3/envs/pyjedai-progressive/lib/python3.9/site-packages (from torch>=1.6.0->sentence-transformers>=2.2->pyjedai) (10.9.0.58)\n",
      "Requirement already satisfied: setuptools in /home/conda/miniconda3/envs/pyjedai-progressive/lib/python3.9/site-packages (from nvidia-cublas-cu11==11.10.3.66->torch>=1.6.0->sentence-transformers>=2.2->pyjedai) (67.8.0)\n",
      "Requirement already satisfied: wheel in /home/conda/miniconda3/envs/pyjedai-progressive/lib/python3.9/site-packages (from nvidia-cublas-cu11==11.10.3.66->torch>=1.6.0->sentence-transformers>=2.2->pyjedai) (0.38.4)\n",
      "Requirement already satisfied: cmake in /home/conda/miniconda3/envs/pyjedai-progressive/lib/python3.9/site-packages (from triton==2.0.0->torch>=1.6.0->sentence-transformers>=2.2->pyjedai) (3.26.3)\n",
      "Requirement already satisfied: lit in /home/conda/miniconda3/envs/pyjedai-progressive/lib/python3.9/site-packages (from triton==2.0.0->torch>=1.6.0->sentence-transformers>=2.2->pyjedai) (16.0.5.post0)\n",
      "Requirement already satisfied: charset-normalizer<4,>=2 in /home/conda/miniconda3/envs/pyjedai-progressive/lib/python3.9/site-packages (from requests->transformers>=4.21->pyjedai) (3.1.0)\n",
      "Requirement already satisfied: idna<4,>=2.5 in /home/conda/miniconda3/envs/pyjedai-progressive/lib/python3.9/site-packages (from requests->transformers>=4.21->pyjedai) (3.4)\n",
      "Requirement already satisfied: urllib3<3,>=1.21.1 in /home/conda/miniconda3/envs/pyjedai-progressive/lib/python3.9/site-packages (from requests->transformers>=4.21->pyjedai) (2.0.2)\n",
      "Requirement already satisfied: certifi>=2017.4.17 in /home/conda/miniconda3/envs/pyjedai-progressive/lib/python3.9/site-packages (from requests->transformers>=4.21->pyjedai) (2023.5.7)\n",
      "Requirement already satisfied: threadpoolctl>=2.0.0 in /home/conda/miniconda3/envs/pyjedai-progressive/lib/python3.9/site-packages (from scikit-learn->sentence-transformers>=2.2->pyjedai) (3.1.0)\n",
      "Requirement already satisfied: pydantic<2,>=1.8.1 in /home/conda/miniconda3/envs/pyjedai-progressive/lib/python3.9/site-packages (from ydata-profiling->pandas-profiling>=3.2->pyjedai) (1.10.8)\n",
      "Requirement already satisfied: statsmodels<1,>=0.13.2 in /home/conda/miniconda3/envs/pyjedai-progressive/lib/python3.9/site-packages (from ydata-profiling->pandas-profiling>=3.2->pyjedai) (0.14.0)\n",
      "Requirement already satisfied: dacite>=1.8 in /home/conda/miniconda3/envs/pyjedai-progressive/lib/python3.9/site-packages (from ydata-profiling->pandas-profiling>=3.2->pyjedai) (1.8.1)\n",
      "Requirement already satisfied: visions[type_image_path]==0.7.5 in /home/conda/miniconda3/envs/pyjedai-progressive/lib/python3.9/site-packages (from ydata-profiling->pandas-profiling>=3.2->pyjedai) (0.7.5)\n",
      "Requirement already satisfied: wordcloud>=1.9.1 in /home/conda/miniconda3/envs/pyjedai-progressive/lib/python3.9/site-packages (from ydata-profiling->pandas-profiling>=3.2->pyjedai) (1.9.2)\n",
      "Requirement already satisfied: typeguard<3,>=2.13.2 in /home/conda/miniconda3/envs/pyjedai-progressive/lib/python3.9/site-packages (from ydata-profiling->pandas-profiling>=3.2->pyjedai) (2.13.3)\n",
      "Requirement already satisfied: phik<0.13,>=0.11.1 in /home/conda/miniconda3/envs/pyjedai-progressive/lib/python3.9/site-packages (from ydata-profiling->pandas-profiling>=3.2->pyjedai) (0.12.3)\n",
      "Requirement already satisfied: imagehash==4.3.1 in /home/conda/miniconda3/envs/pyjedai-progressive/lib/python3.9/site-packages (from ydata-profiling->pandas-profiling>=3.2->pyjedai) (4.3.1)\n",
      "Requirement already satisfied: htmlmin==0.1.12 in /home/conda/miniconda3/envs/pyjedai-progressive/lib/python3.9/site-packages (from ydata-profiling->pandas-profiling>=3.2->pyjedai) (0.1.12)\n",
      "Requirement already satisfied: multimethod<2,>=1.4 in /home/conda/miniconda3/envs/pyjedai-progressive/lib/python3.9/site-packages (from ydata-profiling->pandas-profiling>=3.2->pyjedai) (1.9.1)\n",
      "Requirement already satisfied: PyWavelets in /home/conda/miniconda3/envs/pyjedai-progressive/lib/python3.9/site-packages (from imagehash==4.3.1->ydata-profiling->pandas-profiling>=3.2->pyjedai) (1.4.1)\n",
      "Requirement already satisfied: attrs>=19.3.0 in /home/conda/miniconda3/envs/pyjedai-progressive/lib/python3.9/site-packages (from visions[type_image_path]==0.7.5->ydata-profiling->pandas-profiling>=3.2->pyjedai) (23.1.0)\n",
      "Requirement already satisfied: tangled-up-in-unicode>=0.0.4 in /home/conda/miniconda3/envs/pyjedai-progressive/lib/python3.9/site-packages (from visions[type_image_path]==0.7.5->ydata-profiling->pandas-profiling>=3.2->pyjedai) (0.2.0)\n",
      "Requirement already satisfied: MarkupSafe>=2.0 in /home/conda/miniconda3/envs/pyjedai-progressive/lib/python3.9/site-packages (from jinja2->torch>=1.6.0->sentence-transformers>=2.2->pyjedai) (2.1.3)\n",
      "Requirement already satisfied: patsy>=0.5.2 in /home/conda/miniconda3/envs/pyjedai-progressive/lib/python3.9/site-packages (from statsmodels<1,>=0.13.2->ydata-profiling->pandas-profiling>=3.2->pyjedai) (0.5.3)\n",
      "Requirement already satisfied: mpmath>=0.19 in /home/conda/miniconda3/envs/pyjedai-progressive/lib/python3.9/site-packages (from sympy->torch>=1.6.0->sentence-transformers>=2.2->pyjedai) (1.3.0)\n"
     ]
    }
   ],
   "source": [
    "!pip install pyjedai -U"
   ]
  },
  {
   "cell_type": "code",
   "execution_count": 3,
   "id": "462695ec-3af1-4048-9971-9ed0bce0f07b",
   "metadata": {},
   "outputs": [
    {
     "name": "stdout",
     "output_type": "stream",
     "text": [
      "Name: pyjedai\n",
      "Version: 0.0.9\n",
      "Summary: An open-source library that builds powerful end-to-end Entity Resolution workflows.\n",
      "Home-page: \n",
      "Author: \n",
      "Author-email: Konstantinos Nikoletos <nikoletos.kon@gmail.com>, George Papadakis <gpapadis84@gmail.com>, Jakub Maciejewski <jacobb.maciejewski@gmail.com>\n",
      "License: Apache Software License 2.0\n",
      "Location: /home/conda/miniconda3/envs/pyjedai-progressive/lib/python3.9/site-packages\n",
      "Requires: faiss-cpu, gensim, matplotlib, matplotlib-inline, networkx, nltk, numpy, optuna, ordered-set, pandas, pandas-profiling, pandocfilters, py-stringmatching, PyYAML, rdflib, rdfpandas, regex, scipy, seaborn, sentence-transformers, strsim, strsimpy, tomli, tqdm, transformers, valentine\n",
      "Required-by: \n"
     ]
    }
   ],
   "source": [
    "!pip show pyjedai"
   ]
  },
  {
   "cell_type": "markdown",
   "id": "7b4c62c5-6581-4d2e-9d44-c7c02f43d441",
   "metadata": {},
   "source": [
    "Imports"
   ]
  },
  {
   "cell_type": "code",
   "execution_count": 4,
   "id": "6db50d83-51d8-4c95-9f27-30ef867338f2",
   "metadata": {},
   "outputs": [],
   "source": [
    "import os\n",
    "import sys\n",
    "import pandas as pd\n",
    "import networkx\n",
    "from networkx import draw, Graph"
   ]
  },
  {
   "cell_type": "code",
   "execution_count": 5,
   "id": "4d4e6a90-9fd8-4f7a-bf4f-a5b994e0adfb",
   "metadata": {},
   "outputs": [
    {
     "name": "stderr",
     "output_type": "stream",
     "text": [
      "[nltk_data] Downloading package stopwords to /home/jm/nltk_data...\n",
      "[nltk_data]   Package stopwords is already up-to-date!\n"
     ]
    }
   ],
   "source": [
    "import pyjedai\n",
    "from pyjedai.utils import (\n",
    "    text_cleaning_method,\n",
    "    print_clusters,\n",
    "    print_blocks,\n",
    "    print_candidate_pairs\n",
    ")\n",
    "from pyjedai.evaluation import Evaluation"
   ]
  },
  {
   "cell_type": "markdown",
   "id": "af77914f-5e76-4da8-a0ad-1c53e0111a0f",
   "metadata": {},
   "source": [
    "# Data Reading\n",
    "\n",
    "pyJedAI in order to perfrom needs only the tranformation of the initial data into a pandas DataFrame. Hence, pyJedAI can function in every structured or semi-structured data. In this case Abt-Buy dataset is provided as .csv files. \n"
   ]
  },
  {
   "cell_type": "code",
   "execution_count": 6,
   "id": "e6aabec4-ef4f-4267-8c1e-377054e669d2",
   "metadata": {},
   "outputs": [],
   "source": [
    "from pyjedai.datamodel import Data\n",
    "from pyjedai.evaluation import Evaluation"
   ]
  },
  {
   "cell_type": "code",
   "execution_count": 7,
   "id": "3d3feb89-1406-4c90-a1aa-dc2cf4707739",
   "metadata": {},
   "outputs": [],
   "source": [
    "d1 = pd.read_csv(\"./../data/ccer/D2/abt.csv\", sep='|', engine='python', na_filter=False)\n",
    "d2 = pd.read_csv(\"./../data/ccer/D2/buy.csv\", sep='|', engine='python', na_filter=False)\n",
    "gt = pd.read_csv(\"./../data/ccer/D2/gt.csv\", sep='|', engine='python')\n",
    "\n",
    "data = Data(dataset_1=d1,\n",
    "            id_column_name_1='id',\n",
    "            dataset_2=d2,\n",
    "            id_column_name_2='id',\n",
    "            ground_truth=gt)"
   ]
  },
  {
   "cell_type": "markdown",
   "id": "5d8a8a78-858e-4c79-90fe-197a68e95e11",
   "metadata": {},
   "source": [
    "pyJedAI offers also dataset analysis methods (more will be developed)"
   ]
  },
  {
   "cell_type": "code",
   "execution_count": 8,
   "id": "7cb87af2-adda-49e0-82cc-b1a5f7a595ef",
   "metadata": {},
   "outputs": [
    {
     "name": "stdout",
     "output_type": "stream",
     "text": [
      "------------------------- Data -------------------------\n",
      "Type of Entity Resolution:  Clean-Clean\n",
      "Dataset-1:\n",
      "\tNumber of entities:  1076\n",
      "\tNumber of NaN values:  0\n",
      "\tAttributes: \n",
      "\t\t ['name', 'description', 'price']\n",
      "Dataset-2:\n",
      "\tNumber of entities:  1076\n",
      "\tNumber of NaN values:  0\n",
      "\tAttributes: \n",
      "\t\t ['name', 'description', 'price']\n",
      "\n",
      "Total number of entities:  2152\n",
      "Number of matching pairs in ground-truth:  1076\n",
      "-------------------------------------------------------- \n",
      "\n"
     ]
    }
   ],
   "source": [
    "data.print_specs()"
   ]
  },
  {
   "cell_type": "code",
   "execution_count": 9,
   "id": "b822d7c0-19a2-4050-9554-c35a208bb848",
   "metadata": {},
   "outputs": [
    {
     "data": {
      "text/html": [
       "<div>\n",
       "<style scoped>\n",
       "    .dataframe tbody tr th:only-of-type {\n",
       "        vertical-align: middle;\n",
       "    }\n",
       "\n",
       "    .dataframe tbody tr th {\n",
       "        vertical-align: top;\n",
       "    }\n",
       "\n",
       "    .dataframe thead th {\n",
       "        text-align: right;\n",
       "    }\n",
       "</style>\n",
       "<table border=\"1\" class=\"dataframe\">\n",
       "  <thead>\n",
       "    <tr style=\"text-align: right;\">\n",
       "      <th></th>\n",
       "      <th>id</th>\n",
       "      <th>name</th>\n",
       "      <th>description</th>\n",
       "      <th>price</th>\n",
       "    </tr>\n",
       "  </thead>\n",
       "  <tbody>\n",
       "    <tr>\n",
       "      <th>0</th>\n",
       "      <td>0</td>\n",
       "      <td>Sony Turntable - PSLX350H</td>\n",
       "      <td>Sony Turntable - PSLX350H/ Belt Drive System/ ...</td>\n",
       "      <td></td>\n",
       "    </tr>\n",
       "    <tr>\n",
       "      <th>1</th>\n",
       "      <td>1</td>\n",
       "      <td>Bose Acoustimass 5 Series III Speaker System -...</td>\n",
       "      <td>Bose Acoustimass 5 Series III Speaker System -...</td>\n",
       "      <td>399</td>\n",
       "    </tr>\n",
       "    <tr>\n",
       "      <th>2</th>\n",
       "      <td>2</td>\n",
       "      <td>Sony Switcher - SBV40S</td>\n",
       "      <td>Sony Switcher - SBV40S/ Eliminates Disconnecti...</td>\n",
       "      <td>49</td>\n",
       "    </tr>\n",
       "    <tr>\n",
       "      <th>3</th>\n",
       "      <td>3</td>\n",
       "      <td>Sony 5 Disc CD Player - CDPCE375</td>\n",
       "      <td>Sony 5 Disc CD Player- CDPCE375/ 5 Disc Change...</td>\n",
       "      <td></td>\n",
       "    </tr>\n",
       "    <tr>\n",
       "      <th>4</th>\n",
       "      <td>4</td>\n",
       "      <td>Bose 27028 161 Bookshelf Pair Speakers In Whit...</td>\n",
       "      <td>Bose 161 Bookshelf Speakers In White - 161WH/ ...</td>\n",
       "      <td>158</td>\n",
       "    </tr>\n",
       "  </tbody>\n",
       "</table>\n",
       "</div>"
      ],
      "text/plain": [
       "  id                                               name  \\\n",
       "0  0                          Sony Turntable - PSLX350H   \n",
       "1  1  Bose Acoustimass 5 Series III Speaker System -...   \n",
       "2  2                             Sony Switcher - SBV40S   \n",
       "3  3                   Sony 5 Disc CD Player - CDPCE375   \n",
       "4  4  Bose 27028 161 Bookshelf Pair Speakers In Whit...   \n",
       "\n",
       "                                         description price  \n",
       "0  Sony Turntable - PSLX350H/ Belt Drive System/ ...        \n",
       "1  Bose Acoustimass 5 Series III Speaker System -...   399  \n",
       "2  Sony Switcher - SBV40S/ Eliminates Disconnecti...    49  \n",
       "3  Sony 5 Disc CD Player- CDPCE375/ 5 Disc Change...        \n",
       "4  Bose 161 Bookshelf Speakers In White - 161WH/ ...   158  "
      ]
     },
     "execution_count": 9,
     "metadata": {},
     "output_type": "execute_result"
    }
   ],
   "source": [
    "data.dataset_1.head(5)"
   ]
  },
  {
   "cell_type": "code",
   "execution_count": 10,
   "id": "5c26b595-5e02-4bfc-8e79-e476ab2830ef",
   "metadata": {},
   "outputs": [
    {
     "data": {
      "text/html": [
       "<div>\n",
       "<style scoped>\n",
       "    .dataframe tbody tr th:only-of-type {\n",
       "        vertical-align: middle;\n",
       "    }\n",
       "\n",
       "    .dataframe tbody tr th {\n",
       "        vertical-align: top;\n",
       "    }\n",
       "\n",
       "    .dataframe thead th {\n",
       "        text-align: right;\n",
       "    }\n",
       "</style>\n",
       "<table border=\"1\" class=\"dataframe\">\n",
       "  <thead>\n",
       "    <tr style=\"text-align: right;\">\n",
       "      <th></th>\n",
       "      <th>id</th>\n",
       "      <th>name</th>\n",
       "      <th>description</th>\n",
       "      <th>price</th>\n",
       "    </tr>\n",
       "  </thead>\n",
       "  <tbody>\n",
       "    <tr>\n",
       "      <th>0</th>\n",
       "      <td>0</td>\n",
       "      <td>Linksys EtherFast EZXS88W Ethernet Switch - EZ...</td>\n",
       "      <td>Linksys EtherFast 8-Port 10/100 Switch (New/Wo...</td>\n",
       "      <td></td>\n",
       "    </tr>\n",
       "    <tr>\n",
       "      <th>1</th>\n",
       "      <td>1</td>\n",
       "      <td>Linksys EtherFast EZXS55W Ethernet Switch</td>\n",
       "      <td>5 x 10/100Base-TX LAN</td>\n",
       "      <td></td>\n",
       "    </tr>\n",
       "    <tr>\n",
       "      <th>2</th>\n",
       "      <td>2</td>\n",
       "      <td>Netgear ProSafe FS105 Ethernet Switch - FS105NA</td>\n",
       "      <td>NETGEAR FS105 Prosafe 5 Port 10/100 Desktop Sw...</td>\n",
       "      <td></td>\n",
       "    </tr>\n",
       "    <tr>\n",
       "      <th>3</th>\n",
       "      <td>3</td>\n",
       "      <td>Belkin Pro Series High Integrity VGA/SVGA Moni...</td>\n",
       "      <td>1 x HD-15 - 1 x HD-15 - 10ft - Beige</td>\n",
       "      <td></td>\n",
       "    </tr>\n",
       "    <tr>\n",
       "      <th>4</th>\n",
       "      <td>4</td>\n",
       "      <td>Netgear ProSafe JFS516 Ethernet Switch</td>\n",
       "      <td>Netgear ProSafe 16 Port 10/100 Rackmount Switc...</td>\n",
       "      <td></td>\n",
       "    </tr>\n",
       "  </tbody>\n",
       "</table>\n",
       "</div>"
      ],
      "text/plain": [
       "  id                                               name  \\\n",
       "0  0  Linksys EtherFast EZXS88W Ethernet Switch - EZ...   \n",
       "1  1          Linksys EtherFast EZXS55W Ethernet Switch   \n",
       "2  2    Netgear ProSafe FS105 Ethernet Switch - FS105NA   \n",
       "3  3  Belkin Pro Series High Integrity VGA/SVGA Moni...   \n",
       "4  4             Netgear ProSafe JFS516 Ethernet Switch   \n",
       "\n",
       "                                         description price  \n",
       "0  Linksys EtherFast 8-Port 10/100 Switch (New/Wo...        \n",
       "1                              5 x 10/100Base-TX LAN        \n",
       "2  NETGEAR FS105 Prosafe 5 Port 10/100 Desktop Sw...        \n",
       "3               1 x HD-15 - 1 x HD-15 - 10ft - Beige        \n",
       "4  Netgear ProSafe 16 Port 10/100 Rackmount Switc...        "
      ]
     },
     "execution_count": 10,
     "metadata": {},
     "output_type": "execute_result"
    }
   ],
   "source": [
    "data.dataset_2.head(5)"
   ]
  },
  {
   "cell_type": "code",
   "execution_count": 11,
   "id": "b3c9827e-a08a-47b2-a7f2-6f3f72184a17",
   "metadata": {},
   "outputs": [
    {
     "data": {
      "text/html": [
       "<div>\n",
       "<style scoped>\n",
       "    .dataframe tbody tr th:only-of-type {\n",
       "        vertical-align: middle;\n",
       "    }\n",
       "\n",
       "    .dataframe tbody tr th {\n",
       "        vertical-align: top;\n",
       "    }\n",
       "\n",
       "    .dataframe thead th {\n",
       "        text-align: right;\n",
       "    }\n",
       "</style>\n",
       "<table border=\"1\" class=\"dataframe\">\n",
       "  <thead>\n",
       "    <tr style=\"text-align: right;\">\n",
       "      <th></th>\n",
       "      <th>D1</th>\n",
       "      <th>D2</th>\n",
       "    </tr>\n",
       "  </thead>\n",
       "  <tbody>\n",
       "    <tr>\n",
       "      <th>0</th>\n",
       "      <td>206</td>\n",
       "      <td>216</td>\n",
       "    </tr>\n",
       "    <tr>\n",
       "      <th>1</th>\n",
       "      <td>60</td>\n",
       "      <td>46</td>\n",
       "    </tr>\n",
       "    <tr>\n",
       "      <th>2</th>\n",
       "      <td>182</td>\n",
       "      <td>160</td>\n",
       "    </tr>\n",
       "  </tbody>\n",
       "</table>\n",
       "</div>"
      ],
      "text/plain": [
       "    D1   D2\n",
       "0  206  216\n",
       "1   60   46\n",
       "2  182  160"
      ]
     },
     "execution_count": 11,
     "metadata": {},
     "output_type": "execute_result"
    }
   ],
   "source": [
    "data.ground_truth.head(3)"
   ]
  },
  {
   "cell_type": "markdown",
   "id": "19891fc5-960e-4df1-a72a-e4533a74a761",
   "metadata": {},
   "source": [
    "### Data cleaning step (optional)\n",
    "\n",
    "pyJedAI offers 4 types of text cleaning/processing. \n",
    "\n",
    "- Stopwords removal\n",
    "- Punctuation removal\n",
    "- Numbers removal\n",
    "- Unicodes removal"
   ]
  },
  {
   "cell_type": "code",
   "execution_count": 12,
   "id": "e471e48c-c882-4c74-b94f-4c1dff9fa36c",
   "metadata": {},
   "outputs": [],
   "source": [
    "data.clean_dataset(remove_stopwords = False, \n",
    "                   remove_punctuation = False, \n",
    "                   remove_numbers = False,\n",
    "                   remove_unicodes = False)"
   ]
  },
  {
   "cell_type": "markdown",
   "id": "9c068252-4a69-405a-a320-c2875ec08ea5",
   "metadata": {},
   "source": [
    "# Block Building\n",
    "\n",
    "It clusters entities into overlapping blocks in a lazy manner that relies on unsupervised blocking keys: every token in an attribute value forms a key. Blocks are then extracted, possibly using a transformation, based on its equality or on its similarity with other keys.\n",
    "\n",
    "The following methods are currently supported:\n",
    "\n",
    "- Standard/Token Blocking\n",
    "- Sorted Neighborhood\n",
    "- Extended Sorted Neighborhood\n",
    "- Q-Grams Blocking\n",
    "- Extended Q-Grams Blocking\n",
    "- Suffix Arrays Blocking\n",
    "- Extended Suffix Arrays Blocking"
   ]
  },
  {
   "cell_type": "code",
   "execution_count": 13,
   "id": "9c1b6213-a218-40cf-bc72-801b77d28da9",
   "metadata": {},
   "outputs": [
    {
     "name": "stderr",
     "output_type": "stream",
     "text": [
      "/home/conda/miniconda3/envs/pyjedai-progressive/lib/python3.9/site-packages/tqdm/auto.py:21: TqdmWarning: IProgress not found. Please update jupyter and ipywidgets. See https://ipywidgets.readthedocs.io/en/stable/user_install.html\n",
      "  from .autonotebook import tqdm as notebook_tqdm\n"
     ]
    }
   ],
   "source": [
    "from pyjedai.block_building import (\n",
    "    StandardBlocking,\n",
    "    QGramsBlocking,\n",
    "    ExtendedQGramsBlocking,\n",
    "    SuffixArraysBlocking,\n",
    "    ExtendedSuffixArraysBlocking,\n",
    ")"
   ]
  },
  {
   "cell_type": "code",
   "execution_count": 14,
   "id": "9741f0c4-6250-455f-9c88-b8dc61ab7d4d",
   "metadata": {},
   "outputs": [
    {
     "name": "stderr",
     "output_type": "stream",
     "text": [
      "Standard Blocking: 100%|██████████| 2152/2152 [00:00<00:00, 12560.24it/s]\n"
     ]
    }
   ],
   "source": [
    "bb = StandardBlocking()\n",
    "blocks = bb.build_blocks(data, attributes_1=['name', 'description'], attributes_2=['name', 'description'])"
   ]
  },
  {
   "cell_type": "code",
   "execution_count": 15,
   "id": "36fcbb3f",
   "metadata": {},
   "outputs": [
    {
     "name": "stdout",
     "output_type": "stream",
     "text": [
      "Method name: Standard Blocking\n",
      "Method info: Creates one block for every token in the attribute values of at least two entities.\n",
      "Parameters: Parameter-Free method\n",
      "Attributes from D1:\n",
      "\tname, description\n",
      "Attributes from D2:\n",
      "\tname, description\n",
      "Runtime: 0.1723 seconds\n"
     ]
    }
   ],
   "source": [
    "bb.report()"
   ]
  },
  {
   "cell_type": "code",
   "execution_count": 16,
   "id": "ce797c53",
   "metadata": {},
   "outputs": [
    {
     "name": "stdout",
     "output_type": "stream",
     "text": [
      "***************************************************************************************************************************\n",
      "                                         Μethod:  Standard Blocking\n",
      "***************************************************************************************************************************\n",
      "Method name: Standard Blocking\n",
      "Parameters: \n",
      "Runtime: 0.1723 seconds\n",
      "───────────────────────────────────────────────────────────────────────────────────────────────────────────────────────────\n",
      "Performance:\n",
      "\tPrecision:      0.12% \n",
      "\tRecall:        99.81%\n",
      "\tF1-score:       0.25%\n",
      "───────────────────────────────────────────────────────────────────────────────────────────────────────────────────────────\n",
      "Classification report:\n",
      "\tTrue positives: 1074\n",
      "\tFalse positives: 874536\n",
      "\tTrue negatives: 1156698\n",
      "\tFalse negatives: 2\n",
      "\tTotal comparisons: 875610\n",
      "───────────────────────────────────────────────────────────────────────────────────────────────────────────────────────────\n"
     ]
    }
   ],
   "source": [
    "_ = bb.evaluate(blocks, with_classification_report=True)"
   ]
  },
  {
   "cell_type": "markdown",
   "id": "eeb516cf-43cd-4f02-88f8-6dfef7c5e20e",
   "metadata": {},
   "source": [
    "## Block Purging\n",
    "\n",
    "__Optional step__\n",
    "\n",
    "Discards the blocks exceeding a certain number of comparisons. \n"
   ]
  },
  {
   "cell_type": "code",
   "execution_count": 17,
   "id": "725426e2-0af8-4295-baff-92653c841fdd",
   "metadata": {},
   "outputs": [],
   "source": [
    "from pyjedai.block_cleaning import BlockPurging"
   ]
  },
  {
   "cell_type": "code",
   "execution_count": 18,
   "id": "7997b2b6-9629-44f0-a66d-5bc4fea28fb6",
   "metadata": {},
   "outputs": [
    {
     "name": "stderr",
     "output_type": "stream",
     "text": [
      "Block Purging: 100%|██████████| 4096/4096 [00:00<00:00, 395803.92it/s]\n"
     ]
    }
   ],
   "source": [
    "bp = BlockPurging()\n",
    "cleaned_blocks = bp.process(blocks, data, tqdm_disable=False)"
   ]
  },
  {
   "cell_type": "code",
   "execution_count": 19,
   "id": "88888fdc",
   "metadata": {},
   "outputs": [
    {
     "name": "stdout",
     "output_type": "stream",
     "text": [
      "Method name: Block Purging\n",
      "Method info: Discards the blocks exceeding a certain number of comparisons.\n",
      "Parameters: \n",
      "\tSmoothing factor: 1.025\n",
      "\tMax Comparisons per Block: 11845.0\n",
      "Runtime: 0.0117 seconds\n"
     ]
    }
   ],
   "source": [
    "bp.report()"
   ]
  },
  {
   "cell_type": "code",
   "execution_count": 20,
   "id": "4ff69547",
   "metadata": {},
   "outputs": [
    {
     "name": "stdout",
     "output_type": "stream",
     "text": [
      "***************************************************************************************************************************\n",
      "                                         Μethod:  Block Purging\n",
      "***************************************************************************************************************************\n",
      "Method name: Block Purging\n",
      "Parameters: \n",
      "\tSmoothing factor: 1.025\n",
      "\tMax Comparisons per Block: 11845.0\n",
      "Runtime: 0.0117 seconds\n",
      "───────────────────────────────────────────────────────────────────────────────────────────────────────────────────────────\n",
      "Performance:\n",
      "\tPrecision:      0.26% \n",
      "\tRecall:        99.81%\n",
      "\tF1-score:       0.52%\n",
      "───────────────────────────────────────────────────────────────────────────────────────────────────────────────────────────\n"
     ]
    }
   ],
   "source": [
    "_ = bp.evaluate(cleaned_blocks)"
   ]
  },
  {
   "cell_type": "markdown",
   "id": "9f9e77d5-c906-431a-bdc7-68dc9c00cc31",
   "metadata": {
    "tags": []
   },
   "source": [
    "## Block Cleaning\n",
    "\n",
    "___Optional step___\n",
    "\n",
    "Its goal is to clean a set of overlapping blocks from unnecessary comparisons, which can be either redundant (i.e., repeated comparisons that have already been executed in a previously examined block) or superfluous (i.e., comparisons that involve non-matching entities). Its methods operate on the coarse level of individual blocks or entities."
   ]
  },
  {
   "cell_type": "code",
   "execution_count": 21,
   "id": "9c2c0e42-485a-444e-9161-975f30d21a02",
   "metadata": {},
   "outputs": [],
   "source": [
    "from pyjedai.block_cleaning import BlockFiltering"
   ]
  },
  {
   "cell_type": "code",
   "execution_count": 22,
   "id": "bf5c20ac-b16a-484d-82b0-61ecb9e7f3ea",
   "metadata": {},
   "outputs": [
    {
     "name": "stderr",
     "output_type": "stream",
     "text": [
      "Block Filtering: 100%|██████████| 3/3 [00:00<00:00, 46.80it/s]\n"
     ]
    }
   ],
   "source": [
    "bf = BlockFiltering(ratio=0.8)\n",
    "filtered_blocks = bf.process(cleaned_blocks, data, tqdm_disable=False)"
   ]
  },
  {
   "cell_type": "code",
   "execution_count": 23,
   "id": "cdde6eff",
   "metadata": {},
   "outputs": [
    {
     "name": "stdout",
     "output_type": "stream",
     "text": [
      "***************************************************************************************************************************\n",
      "                                         Μethod:  Block Filtering\n",
      "***************************************************************************************************************************\n",
      "Method name: Block Filtering\n",
      "Parameters: \n",
      "\tRatio: 0.8\n",
      "Runtime: 0.0653 seconds\n",
      "───────────────────────────────────────────────────────────────────────────────────────────────────────────────────────────\n",
      "Performance:\n",
      "\tPrecision:      0.68% \n",
      "\tRecall:        99.26%\n",
      "\tF1-score:       1.35%\n",
      "───────────────────────────────────────────────────────────────────────────────────────────────────────────────────────────\n"
     ]
    },
    {
     "data": {
      "text/plain": [
       "{'Precision %': 0.6797958066528331,\n",
       " 'Recall %': 99.25650557620817,\n",
       " 'F1 %': 1.3503432754674995,\n",
       " 'True Positives': 1068,\n",
       " 'False Positives': 156038,\n",
       " 'True Negatives': 1156692,\n",
       " 'False Negatives': 8}"
      ]
     },
     "execution_count": 23,
     "metadata": {},
     "output_type": "execute_result"
    }
   ],
   "source": [
    "bf.evaluate(filtered_blocks)"
   ]
  },
  {
   "cell_type": "markdown",
   "id": "9cd12048-bd0c-4571-ba70-488d46afcdd6",
   "metadata": {},
   "source": [
    "## Progressive Entity Resolution\n",
    "\n",
    "___Scheduling + Emission + Matching___\n",
    "\n",
    "Progressive Entity Resolution (PER) consists of the above three stages. Specifically:\n",
    "\n",
    "**1. Scheduling -** This step is similar to Comparison Cleaning. We extract a subset of the original fully connected dataset in which each entity could be a duplicate candidate for any other entity. This is done by deriving neighborhoods for each entity, which contain its duplicate candidates.\n",
    "\n",
    "**2. Emission -** We iterate over the previously derived neighborhoods following a wide variety of algorithms (BFS, DFS, Hybrid etc.) and we extract the final candidate pairs. The number of emissions is limited by our *budget*.\n",
    "\n",
    "**3. Matching -** The candidate pairs are evaluated on the premise of being true duplicates. PER methods allow for the calculation of cumulative recall and as a result give us the possibility of deriving AUCs and plotting ROCs for different budget limitations.\n",
    "\n",
    "The following workflows are currently supported:\n",
    "\n",
    "\n",
    "* **NN workflows -**\n",
    "Progressive Vector Based BB (EmbeddingsNNBPM)\n",
    "\n",
    "* **Join workflows -**\n",
    "Base/Vector Based Progressive TopKJoin (TopKJoinPM)\n",
    "\n",
    "* **MB (Hash Based) workflows -**\n",
    "Progressive CEP (GlobalTopPM), \n",
    "Progressive CNP (LocalTopPM)\n",
    "\n",
    "* **Sorted Neighborhood workflows -**\n",
    "Global Progressive Sorted Neighborhood (GlobalPSNM), \n",
    "Local Progressive Sorted Neighborhood (LocalPSNM)\n",
    "\n",
    "* **Scheduling workflows -**\n",
    "Progressive Entity Scheduling (PESM)"
   ]
  },
  {
   "cell_type": "code",
   "execution_count": 24,
   "id": "d301c271-eee3-46cd-8793-d1672f8cdc61",
   "metadata": {},
   "outputs": [],
   "source": [
    "from pyjedai.prioritization import (\n",
    "    GlobalTopPM,\n",
    "    LocalTopPM,\n",
    "    EmbeddingsNNBPM,\n",
    "    GlobalPSNM,\n",
    "    LocalPSNM,\n",
    "    RandomPM,\n",
    "    PESM,\n",
    "    TopKJoinPM\n",
    ")"
   ]
  },
  {
   "cell_type": "code",
   "execution_count": 25,
   "id": "0947f01f",
   "metadata": {},
   "outputs": [],
   "source": [
    "# Maximum number of candidate pair emissions that can be parsed to matching\n",
    "BUDGET=10000\n",
    "# Emission Algorithm (DFS/BFS/HB/TOP)\n",
    "ALGORITHM=\"BFS\"\n",
    "# Identification Context - defines which dataset is the source and target one (inorder/reverse/bilateral)\n",
    "# Non-inorder indexing makes sense only in the context of NN and Join PER workflows\n",
    "# The other ones conduct entity identification in both dataset directions\n",
    "INDEXING=\"inorder\""
   ]
  },
  {
   "cell_type": "markdown",
   "id": "411abad8",
   "metadata": {},
   "source": [
    "### NN PER (Vector Based)"
   ]
  },
  {
   "cell_type": "code",
   "execution_count": 26,
   "id": "4cf2b9b5",
   "metadata": {},
   "outputs": [
    {
     "name": "stderr",
     "output_type": "stream",
     "text": [
      "Embeddings NN Blocking Based Progressive Matching: 0it [00:00, ?it/s]"
     ]
    },
    {
     "name": "stdout",
     "output_type": "stream",
     "text": [
      "Building blocks via Embeddings-NN Block Building [sminilm, faiss]\n"
     ]
    },
    {
     "name": "stderr",
     "output_type": "stream",
     "text": [
      "\n",
      "Embeddings-NN Block Building [sminilm, faiss]:   0%|          | 0/2152 [00:00<?, ?it/s]\u001b[A"
     ]
    },
    {
     "name": "stdout",
     "output_type": "stream",
     "text": [
      "Device selected:  cuda\n"
     ]
    },
    {
     "name": "stderr",
     "output_type": "stream",
     "text": [
      "\n",
      "Embeddings-NN Block Building [sminilm, faiss]:   0%|          | 1/2152 [00:02<1:29:28,  2.50s/it]\u001b[A\n",
      "Embeddings-NN Block Building [sminilm, faiss]:   1%|          | 19/2152 [00:02<03:30, 10.11it/s] \u001b[A\n",
      "Embeddings-NN Block Building [sminilm, faiss]:   2%|▏         | 35/2152 [00:02<01:41, 20.82it/s]\u001b[A\n",
      "Embeddings-NN Block Building [sminilm, faiss]:   2%|▏         | 53/2152 [00:02<00:59, 35.48it/s]\u001b[A\n",
      "Embeddings-NN Block Building [sminilm, faiss]:   3%|▎         | 71/2152 [00:02<00:39, 52.19it/s]\u001b[A\n",
      "Embeddings-NN Block Building [sminilm, faiss]:   4%|▍         | 89/2152 [00:03<00:29, 70.14it/s]\u001b[A\n",
      "Embeddings-NN Block Building [sminilm, faiss]:   5%|▌         | 108/2152 [00:03<00:22, 89.63it/s]\u001b[A\n",
      "Embeddings-NN Block Building [sminilm, faiss]:   6%|▌         | 126/2152 [00:03<00:18, 106.98it/s]\u001b[A\n",
      "Embeddings-NN Block Building [sminilm, faiss]:   7%|▋         | 144/2152 [00:03<00:16, 122.74it/s]\u001b[A\n",
      "Embeddings-NN Block Building [sminilm, faiss]:   8%|▊         | 162/2152 [00:03<00:14, 136.20it/s]\u001b[A\n",
      "Embeddings-NN Block Building [sminilm, faiss]:   8%|▊         | 180/2152 [00:03<00:13, 147.15it/s]\u001b[A\n",
      "Embeddings-NN Block Building [sminilm, faiss]:   9%|▉         | 198/2152 [00:03<00:12, 155.62it/s]\u001b[A\n",
      "Embeddings-NN Block Building [sminilm, faiss]:  10%|█         | 216/2152 [00:03<00:11, 162.00it/s]\u001b[A\n",
      "Embeddings-NN Block Building [sminilm, faiss]:  11%|█         | 234/2152 [00:03<00:11, 166.96it/s]\u001b[A\n",
      "Embeddings-NN Block Building [sminilm, faiss]:  12%|█▏        | 252/2152 [00:03<00:11, 170.05it/s]\u001b[A\n",
      "Embeddings-NN Block Building [sminilm, faiss]:  13%|█▎        | 270/2152 [00:04<00:10, 172.00it/s]\u001b[A\n",
      "Embeddings-NN Block Building [sminilm, faiss]:  13%|█▎        | 289/2152 [00:04<00:10, 175.85it/s]\u001b[A\n",
      "Embeddings-NN Block Building [sminilm, faiss]:  14%|█▍        | 307/2152 [00:04<00:10, 171.02it/s]\u001b[A\n",
      "Embeddings-NN Block Building [sminilm, faiss]:  15%|█▌        | 325/2152 [00:04<00:10, 169.12it/s]\u001b[A\n",
      "Embeddings-NN Block Building [sminilm, faiss]:  16%|█▌        | 343/2152 [00:04<00:10, 167.53it/s]\u001b[A\n",
      "Embeddings-NN Block Building [sminilm, faiss]:  17%|█▋        | 360/2152 [00:04<00:10, 167.95it/s]\u001b[A\n",
      "Embeddings-NN Block Building [sminilm, faiss]:  18%|█▊        | 377/2152 [00:04<00:10, 167.52it/s]\u001b[A\n",
      "Embeddings-NN Block Building [sminilm, faiss]:  18%|█▊        | 396/2152 [00:04<00:10, 171.45it/s]\u001b[A\n",
      "Embeddings-NN Block Building [sminilm, faiss]:  19%|█▉        | 416/2152 [00:04<00:09, 177.30it/s]\u001b[A\n",
      "Embeddings-NN Block Building [sminilm, faiss]:  20%|██        | 434/2152 [00:04<00:09, 175.04it/s]\u001b[A\n",
      "Embeddings-NN Block Building [sminilm, faiss]:  21%|██        | 452/2152 [00:05<00:10, 168.36it/s]\u001b[A\n",
      "Embeddings-NN Block Building [sminilm, faiss]:  22%|██▏       | 469/2152 [00:05<00:10, 166.70it/s]\u001b[A\n",
      "Embeddings-NN Block Building [sminilm, faiss]:  23%|██▎       | 486/2152 [00:05<00:10, 164.88it/s]\u001b[A\n",
      "Embeddings-NN Block Building [sminilm, faiss]:  23%|██▎       | 503/2152 [00:05<00:10, 160.78it/s]\u001b[A\n",
      "Embeddings-NN Block Building [sminilm, faiss]:  24%|██▍       | 520/2152 [00:05<00:10, 155.53it/s]\u001b[A\n",
      "Embeddings-NN Block Building [sminilm, faiss]:  25%|██▍       | 536/2152 [00:05<00:10, 151.46it/s]\u001b[A\n",
      "Embeddings-NN Block Building [sminilm, faiss]:  26%|██▌       | 552/2152 [00:05<00:10, 153.52it/s]\u001b[A\n",
      "Embeddings-NN Block Building [sminilm, faiss]:  26%|██▋       | 568/2152 [00:05<00:10, 155.30it/s]\u001b[A\n",
      "Embeddings-NN Block Building [sminilm, faiss]:  27%|██▋       | 584/2152 [00:05<00:10, 154.75it/s]\u001b[A\n",
      "Embeddings-NN Block Building [sminilm, faiss]:  28%|██▊       | 600/2152 [00:06<00:10, 154.16it/s]\u001b[A\n",
      "Embeddings-NN Block Building [sminilm, faiss]:  29%|██▊       | 616/2152 [00:06<00:10, 152.96it/s]\u001b[A\n",
      "Embeddings-NN Block Building [sminilm, faiss]:  29%|██▉       | 632/2152 [00:06<00:09, 154.19it/s]\u001b[A\n",
      "Embeddings-NN Block Building [sminilm, faiss]:  30%|███       | 648/2152 [00:06<00:09, 154.26it/s]\u001b[A\n",
      "Embeddings-NN Block Building [sminilm, faiss]:  31%|███       | 665/2152 [00:06<00:09, 157.11it/s]\u001b[A\n",
      "Embeddings-NN Block Building [sminilm, faiss]:  32%|███▏      | 683/2152 [00:06<00:09, 161.72it/s]\u001b[A\n",
      "Embeddings-NN Block Building [sminilm, faiss]:  33%|███▎      | 700/2152 [00:06<00:09, 161.30it/s]\u001b[A\n",
      "Embeddings-NN Block Building [sminilm, faiss]:  33%|███▎      | 717/2152 [00:06<00:08, 161.58it/s]\u001b[A\n",
      "Embeddings-NN Block Building [sminilm, faiss]:  34%|███▍      | 734/2152 [00:06<00:08, 161.92it/s]\u001b[A\n",
      "Embeddings-NN Block Building [sminilm, faiss]:  35%|███▍      | 751/2152 [00:06<00:08, 160.33it/s]\u001b[A\n",
      "Embeddings-NN Block Building [sminilm, faiss]:  36%|███▌      | 768/2152 [00:07<00:08, 159.52it/s]\u001b[A\n",
      "Embeddings-NN Block Building [sminilm, faiss]:  37%|███▋      | 787/2152 [00:07<00:08, 166.28it/s]\u001b[A\n",
      "Embeddings-NN Block Building [sminilm, faiss]:  37%|███▋      | 805/2152 [00:07<00:07, 169.93it/s]\u001b[A\n",
      "Embeddings-NN Block Building [sminilm, faiss]:  38%|███▊      | 823/2152 [00:07<00:07, 167.80it/s]\u001b[A\n",
      "Embeddings-NN Block Building [sminilm, faiss]:  39%|███▉      | 840/2152 [00:07<00:07, 165.10it/s]\u001b[A\n",
      "Embeddings-NN Block Building [sminilm, faiss]:  40%|███▉      | 857/2152 [00:07<00:07, 163.48it/s]\u001b[A\n",
      "Embeddings-NN Block Building [sminilm, faiss]:  41%|████      | 874/2152 [00:07<00:07, 162.50it/s]\u001b[A\n",
      "Embeddings-NN Block Building [sminilm, faiss]:  41%|████▏     | 891/2152 [00:07<00:07, 162.08it/s]\u001b[A\n",
      "Embeddings-NN Block Building [sminilm, faiss]:  42%|████▏     | 908/2152 [00:07<00:08, 149.32it/s]\u001b[A\n",
      "Embeddings-NN Block Building [sminilm, faiss]:  43%|████▎     | 924/2152 [00:08<00:08, 136.91it/s]\u001b[A\n",
      "Embeddings-NN Block Building [sminilm, faiss]:  44%|████▎     | 938/2152 [00:08<00:10, 120.81it/s]\u001b[A\n",
      "Embeddings-NN Block Building [sminilm, faiss]:  44%|████▍     | 951/2152 [00:08<00:10, 117.36it/s]\u001b[A\n",
      "Embeddings-NN Block Building [sminilm, faiss]:  45%|████▍     | 964/2152 [00:08<00:10, 117.96it/s]\u001b[A\n",
      "Embeddings-NN Block Building [sminilm, faiss]:  45%|████▌     | 977/2152 [00:08<00:11, 103.05it/s]\u001b[A\n",
      "Embeddings-NN Block Building [sminilm, faiss]:  46%|████▌     | 988/2152 [00:08<00:12, 95.22it/s] \u001b[A\n",
      "Embeddings-NN Block Building [sminilm, faiss]:  46%|████▋     | 999/2152 [00:08<00:11, 97.89it/s]\u001b[A\n",
      "Embeddings-NN Block Building [sminilm, faiss]:  47%|████▋     | 1017/2152 [00:09<00:09, 117.17it/s]\u001b[A\n",
      "Embeddings-NN Block Building [sminilm, faiss]:  48%|████▊     | 1030/2152 [00:09<00:10, 111.82it/s]\u001b[A\n",
      "Embeddings-NN Block Building [sminilm, faiss]:  49%|████▊     | 1048/2152 [00:09<00:08, 127.92it/s]\u001b[A\n",
      "Embeddings-NN Block Building [sminilm, faiss]:  49%|████▉     | 1062/2152 [00:09<00:09, 118.90it/s]\u001b[A\n",
      "Embeddings-NN Block Building [sminilm, faiss]:  50%|█████     | 1079/2152 [00:09<00:08, 131.78it/s]\u001b[A\n",
      "Embeddings-NN Block Building [sminilm, faiss]:  51%|█████     | 1094/2152 [00:09<00:08, 132.23it/s]\u001b[A\n",
      "Embeddings-NN Block Building [sminilm, faiss]:  51%|█████▏    | 1108/2152 [00:09<00:09, 115.59it/s]\u001b[A\n",
      "Embeddings-NN Block Building [sminilm, faiss]:  52%|█████▏    | 1121/2152 [00:09<00:09, 107.92it/s]\u001b[A\n",
      "Embeddings-NN Block Building [sminilm, faiss]:  53%|█████▎    | 1133/2152 [00:10<00:10, 99.55it/s] \u001b[A\n",
      "Embeddings-NN Block Building [sminilm, faiss]:  53%|█████▎    | 1144/2152 [00:10<00:10, 95.24it/s]\u001b[A\n",
      "Embeddings-NN Block Building [sminilm, faiss]:  54%|█████▎    | 1154/2152 [00:10<00:10, 94.54it/s]\u001b[A\n",
      "Embeddings-NN Block Building [sminilm, faiss]:  54%|█████▍    | 1164/2152 [00:10<00:10, 92.12it/s]\u001b[A\n",
      "Embeddings-NN Block Building [sminilm, faiss]:  55%|█████▍    | 1174/2152 [00:10<00:10, 89.00it/s]\u001b[A\n",
      "Embeddings-NN Block Building [sminilm, faiss]:  55%|█████▌    | 1184/2152 [00:10<00:10, 89.68it/s]\u001b[A\n",
      "Embeddings-NN Block Building [sminilm, faiss]:  55%|█████▌    | 1194/2152 [00:10<00:10, 91.59it/s]\u001b[A\n",
      "Embeddings-NN Block Building [sminilm, faiss]:  56%|█████▌    | 1204/2152 [00:10<00:10, 90.89it/s]\u001b[A\n",
      "Embeddings-NN Block Building [sminilm, faiss]:  56%|█████▋    | 1214/2152 [00:10<00:10, 91.48it/s]\u001b[A\n",
      "Embeddings-NN Block Building [sminilm, faiss]:  57%|█████▋    | 1224/2152 [00:11<00:10, 92.10it/s]\u001b[A\n",
      "Embeddings-NN Block Building [sminilm, faiss]:  57%|█████▋    | 1237/2152 [00:11<00:09, 101.37it/s]\u001b[A\n",
      "Embeddings-NN Block Building [sminilm, faiss]:  58%|█████▊    | 1255/2152 [00:11<00:07, 123.57it/s]\u001b[A\n",
      "Embeddings-NN Block Building [sminilm, faiss]:  59%|█████▉    | 1268/2152 [00:11<00:07, 116.54it/s]\u001b[A\n",
      "Embeddings-NN Block Building [sminilm, faiss]:  59%|█████▉    | 1280/2152 [00:11<00:08, 108.46it/s]\u001b[A\n",
      "Embeddings-NN Block Building [sminilm, faiss]:  60%|██████    | 1292/2152 [00:11<00:08, 104.93it/s]\u001b[A\n",
      "Embeddings-NN Block Building [sminilm, faiss]:  61%|██████    | 1310/2152 [00:11<00:06, 123.72it/s]\u001b[A\n",
      "Embeddings-NN Block Building [sminilm, faiss]:  62%|██████▏   | 1328/2152 [00:11<00:05, 137.41it/s]\u001b[A\n",
      "Embeddings-NN Block Building [sminilm, faiss]:  62%|██████▎   | 1345/2152 [00:11<00:05, 146.17it/s]\u001b[A\n",
      "Embeddings-NN Block Building [sminilm, faiss]:  63%|██████▎   | 1363/2152 [00:12<00:05, 153.88it/s]\u001b[A\n",
      "Embeddings-NN Block Building [sminilm, faiss]:  64%|██████▍   | 1381/2152 [00:12<00:04, 159.16it/s]\u001b[A\n",
      "Embeddings-NN Block Building [sminilm, faiss]:  65%|██████▌   | 1399/2152 [00:12<00:04, 162.86it/s]\u001b[A\n",
      "Embeddings-NN Block Building [sminilm, faiss]:  66%|██████▌   | 1417/2152 [00:12<00:04, 165.75it/s]\u001b[A\n",
      "Embeddings-NN Block Building [sminilm, faiss]:  67%|██████▋   | 1434/2152 [00:12<00:04, 165.86it/s]\u001b[A\n",
      "Embeddings-NN Block Building [sminilm, faiss]:  67%|██████▋   | 1452/2152 [00:12<00:04, 167.50it/s]\u001b[A\n",
      "Embeddings-NN Block Building [sminilm, faiss]:  68%|██████▊   | 1470/2152 [00:12<00:04, 168.99it/s]\u001b[A\n",
      "Embeddings-NN Block Building [sminilm, faiss]:  69%|██████▉   | 1488/2152 [00:12<00:03, 170.12it/s]\u001b[A\n",
      "Embeddings-NN Block Building [sminilm, faiss]:  70%|██████▉   | 1506/2152 [00:12<00:03, 171.16it/s]\u001b[A\n",
      "Embeddings-NN Block Building [sminilm, faiss]:  71%|███████   | 1524/2152 [00:13<00:03, 171.93it/s]\u001b[A\n",
      "Embeddings-NN Block Building [sminilm, faiss]:  72%|███████▏  | 1542/2152 [00:13<00:03, 172.10it/s]\u001b[A\n",
      "Embeddings-NN Block Building [sminilm, faiss]:  72%|███████▏  | 1560/2152 [00:13<00:03, 171.99it/s]\u001b[A\n",
      "Embeddings-NN Block Building [sminilm, faiss]:  73%|███████▎  | 1578/2152 [00:13<00:03, 173.14it/s]\u001b[A\n",
      "Embeddings-NN Block Building [sminilm, faiss]:  74%|███████▍  | 1596/2152 [00:13<00:03, 175.12it/s]\u001b[A\n",
      "Embeddings-NN Block Building [sminilm, faiss]:  75%|███████▌  | 1616/2152 [00:13<00:02, 181.33it/s]\u001b[A\n",
      "Embeddings-NN Block Building [sminilm, faiss]:  76%|███████▌  | 1635/2152 [00:13<00:02, 177.66it/s]\u001b[A\n",
      "Embeddings-NN Block Building [sminilm, faiss]:  77%|███████▋  | 1653/2152 [00:13<00:02, 176.51it/s]\u001b[A\n",
      "Embeddings-NN Block Building [sminilm, faiss]:  78%|███████▊  | 1671/2152 [00:13<00:02, 173.49it/s]\u001b[A\n",
      "Embeddings-NN Block Building [sminilm, faiss]:  78%|███████▊  | 1689/2152 [00:13<00:02, 173.98it/s]\u001b[A\n",
      "Embeddings-NN Block Building [sminilm, faiss]:  79%|███████▉  | 1708/2152 [00:14<00:02, 178.16it/s]\u001b[A\n",
      "Embeddings-NN Block Building [sminilm, faiss]:  80%|████████  | 1728/2152 [00:14<00:02, 182.10it/s]\u001b[A\n",
      "Embeddings-NN Block Building [sminilm, faiss]:  81%|████████  | 1747/2152 [00:14<00:02, 182.54it/s]\u001b[A\n",
      "Embeddings-NN Block Building [sminilm, faiss]:  82%|████████▏ | 1767/2152 [00:14<00:02, 185.82it/s]\u001b[A\n",
      "Embeddings-NN Block Building [sminilm, faiss]:  83%|████████▎ | 1787/2152 [00:14<00:01, 189.25it/s]\u001b[A\n",
      "Embeddings-NN Block Building [sminilm, faiss]:  84%|████████▍ | 1806/2152 [00:14<00:01, 188.73it/s]\u001b[A\n",
      "Embeddings-NN Block Building [sminilm, faiss]:  85%|████████▍ | 1825/2152 [00:14<00:01, 188.26it/s]\u001b[A\n",
      "Embeddings-NN Block Building [sminilm, faiss]:  86%|████████▌ | 1846/2152 [00:14<00:01, 193.18it/s]\u001b[A\n",
      "Embeddings-NN Block Building [sminilm, faiss]:  87%|████████▋ | 1866/2152 [00:14<00:01, 188.12it/s]\u001b[A\n",
      "Embeddings-NN Block Building [sminilm, faiss]:  88%|████████▊ | 1885/2152 [00:14<00:01, 187.03it/s]\u001b[A\n",
      "Embeddings-NN Block Building [sminilm, faiss]:  88%|████████▊ | 1904/2152 [00:15<00:01, 186.29it/s]\u001b[A\n",
      "Embeddings-NN Block Building [sminilm, faiss]:  89%|████████▉ | 1924/2152 [00:15<00:01, 188.70it/s]\u001b[A\n",
      "Embeddings-NN Block Building [sminilm, faiss]:  90%|█████████ | 1943/2152 [00:15<00:01, 184.41it/s]\u001b[A\n",
      "Embeddings-NN Block Building [sminilm, faiss]:  91%|█████████ | 1962/2152 [00:15<00:01, 177.44it/s]\u001b[A\n",
      "Embeddings-NN Block Building [sminilm, faiss]:  92%|█████████▏| 1980/2152 [00:15<00:00, 172.84it/s]\u001b[A\n",
      "Embeddings-NN Block Building [sminilm, faiss]:  93%|█████████▎| 1998/2152 [00:15<00:00, 171.07it/s]\u001b[A\n",
      "Embeddings-NN Block Building [sminilm, faiss]:  94%|█████████▎| 2016/2152 [00:15<00:00, 169.76it/s]\u001b[A\n",
      "Embeddings-NN Block Building [sminilm, faiss]:  94%|█████████▍| 2033/2152 [00:15<00:00, 169.20it/s]\u001b[A\n",
      "Embeddings-NN Block Building [sminilm, faiss]:  95%|█████████▌| 2050/2152 [00:15<00:00, 162.17it/s]\u001b[A\n",
      "Embeddings-NN Block Building [sminilm, faiss]:  96%|█████████▌| 2067/2152 [00:16<00:00, 151.76it/s]\u001b[A\n",
      "Embeddings-NN Block Building [sminilm, faiss]:  97%|█████████▋| 2083/2152 [00:16<00:00, 145.36it/s]\u001b[A\n",
      "Embeddings-NN Block Building [sminilm, faiss]:  97%|█████████▋| 2098/2152 [00:16<00:00, 141.11it/s]\u001b[A\n",
      "Embeddings-NN Block Building [sminilm, faiss]:  98%|█████████▊| 2113/2152 [00:16<00:00, 138.03it/s]\u001b[A\n",
      "Embeddings-NN Block Building [sminilm, faiss]:  99%|█████████▉| 2127/2152 [00:16<00:00, 136.03it/s]\u001b[A\n",
      "Embeddings-NN Block Building [sminilm, faiss]: 100%|██████████| 2152/2152 [00:16<00:00, 127.62it/s]\u001b[A\n",
      "Embeddings NN Blocking Based Progressive Matching: 0it [00:16, ?it/s]\n"
     ]
    }
   ],
   "source": [
    "ennbpm = EmbeddingsNNBPM(language_model=\"sminilm\",\n",
    "                         number_of_nearest_neighbors=10,\n",
    "                         similarity_search=\"faiss\",\n",
    "                         similarity_function=\"euclidean\",\n",
    "                         similarity_threshold=0.0\n",
    "                        )\n",
    "\n",
    "# NN PER workflows don't require blocks in order to define neighborhoods\n",
    "# Entities are vectorized and similarity function is applied (e.x. faiss)\n",
    "# In an attempt to cluster similar entities into neighborhoods\n",
    "ennbpm_candidates = ennbpm.predict(data=data,\n",
    "                                   blocks=None,\n",
    "                                   budget=BUDGET,\n",
    "                                   algorithm=ALGORITHM,\n",
    "                                   indexing=INDEXING\n",
    "                                   )\n",
    "\n"
   ]
  },
  {
   "cell_type": "markdown",
   "id": "327b689d",
   "metadata": {},
   "source": [
    "### JN PER (Join)"
   ]
  },
  {
   "cell_type": "code",
   "execution_count": 38,
   "id": "803b809a",
   "metadata": {},
   "outputs": [
    {
     "name": "stderr",
     "output_type": "stream",
     "text": [
      "Top-K Join Progressive Matching:   0%|          | 0/2048 [00:00<?, ?it/s]\n",
      "Top-K Join (cosine):   0%|          | 0/2152 [00:00<?, ?it/s]\u001b[A\n",
      "Top-K Join (cosine):  50%|█████     | 1081/2152 [00:00<00:00, 10680.98it/s]\u001b[A\n",
      "Top-K Join (cosine):  99%|█████████▉| 2141/2152 [00:19<00:00, 10680.98it/s]\u001b[A\n",
      "Top-K Join (cosine): 100%|█████████▉| 2142/2152 [00:19<00:00, 94.14it/s]   \u001b[A\n",
      "Top-K Join (cosine): 100%|██████████| 2152/2152 [00:19<00:00, 110.53it/s][A\n",
      "Top-K Join Progressive Matching:   0%|          | 0/2048 [00:24<?, ?it/s]\n"
     ]
    }
   ],
   "source": [
    "tkjpm = TopKJoinPM(number_of_nearest_neighbors=10,\n",
    "                   similarity_function='cosine',\n",
    "                   tokenizer='char_tokenizer',\n",
    "                   weighting_scheme='tfidf',\n",
    "                   qgram=5,\n",
    "                   similarity_threshold=0.0\n",
    "                   )\n",
    "\n",
    "tkjpm_candidates = tkjpm.predict(data=data,\n",
    "                                 blocks=blocks,\n",
    "                                 budget=BUDGET,\n",
    "                                 algorithm=ALGORITHM,\n",
    "                                 indexing=INDEXING\n",
    "                                )"
   ]
  },
  {
   "cell_type": "markdown",
   "id": "cd763dc3",
   "metadata": {},
   "source": [
    "### MB PER (Metablocking Based)"
   ]
  },
  {
   "cell_type": "code",
   "execution_count": 28,
   "id": "2f54fcb4",
   "metadata": {},
   "outputs": [
    {
     "name": "stderr",
     "output_type": "stream",
     "text": [
      "Global Top Progressive Matching:   0%|          | 0/2022 [00:00<?, ?it/s]\n"
     ]
    }
   ],
   "source": [
    "ltpm = LocalTopPM(weighting_scheme=\"SN-CBS\",\n",
    "                   number_of_nearest_neighbors=10,\n",
    "                   similarity_threshold=0.0\n",
    "                   )\n",
    "\n",
    "# Meta Blocking PER workflows allow for the purging and filtering of initial blocks\n",
    "# To limit the search space\n",
    "ltpm_candidates = ltpm.predict(data=data,\n",
    "                  blocks=filtered_blocks,\n",
    "                  budget=BUDGET,\n",
    "                  algorithm=ALGORITHM,\n",
    "                  indexing=INDEXING\n",
    "                  )"
   ]
  },
  {
   "cell_type": "markdown",
   "id": "50d0ec15",
   "metadata": {},
   "source": [
    "### SN PER (Sorted Neighborhood)"
   ]
  },
  {
   "cell_type": "code",
   "execution_count": 29,
   "id": "d48ea7c6",
   "metadata": {},
   "outputs": [
    {
     "name": "stderr",
     "output_type": "stream",
     "text": [
      "Global Progressive Sorted Neighborhood Matching:   0%|          | 0/2048 [00:00<?, ?it/s]\n"
     ]
    }
   ],
   "source": [
    "gpsnm = GlobalPSNM(weighting_scheme='ACF',\n",
    "                   window_size=10,\n",
    "                   similarity_threshold=0.0)\n",
    "\n",
    "gpsnm_candidates = gpsnm.predict(data=data,\n",
    "                                 blocks=blocks,\n",
    "                                 budget=BUDGET,\n",
    "                                 algorithm=ALGORITHM,\n",
    "                                 indexing=INDEXING\n",
    "                                 )"
   ]
  },
  {
   "cell_type": "markdown",
   "id": "ab93018a",
   "metadata": {},
   "source": [
    "## Evaluation (AUC & ROC)\n",
    "\n",
    "An **ROC curve (receiver operating characteristic curve)** is a graph showing the performance of a classification model at all classification thresholds. This curve plots two parameters:\n",
    "\n",
    "* Number of emitted candidate pairs (x Axis)\n",
    "* Cumulative Recall (y Axis)\n",
    "\n",
    "**AUC** stands for *\"Area under the ROC Curve.\"* That is, AUC measures the entire two-dimensional area underneath the entire ROC curve. AUC provides an aggregate measure of performance across the number of emitted pairs. It provides a visual and very intuitive tool to compare different PER workflows and spot patterns across the whole span of emissions."
   ]
  },
  {
   "cell_type": "code",
   "execution_count": 39,
   "id": "2cd8de72",
   "metadata": {},
   "outputs": [],
   "source": [
    "matchers = [ennbpm, tkjpm, ltpm, gpsnm]"
   ]
  },
  {
   "cell_type": "code",
   "execution_count": 40,
   "id": "9a87fe8f",
   "metadata": {},
   "outputs": [
    {
     "data": {
      "image/png": "[encoded data removed]",
      "text/plain": [
       "<Figure size 720x432 with 1 Axes>"
      ]
     },
     "metadata": {},
     "output_type": "display_data"
    },
    {
     "name": "stdout",
     "output_type": "stream",
     "text": [
      "CPU times: user 287 ms, sys: 94.5 ms, total: 382 ms\n",
      "Wall time: 262 ms\n"
     ]
    }
   ],
   "source": [
    "%%time\n",
    "progressive_matchers_evaluator = Evaluation(data)\n",
    "progressive_matchers_evaluator.evaluate_auc_roc(matchers = matchers, proportional = False)"
   ]
  },
  {
   "cell_type": "code",
   "execution_count": 41,
   "id": "608e466d",
   "metadata": {},
   "outputs": [
    {
     "name": "stdout",
     "output_type": "stream",
     "text": [
      "NN WORKFLOW:\n",
      "Total Emissions: 10000\n",
      "Cumulative Recall: 0.9684014869888475\n",
      "Normalized AUC: 0.8500531917068019\n"
     ]
    }
   ],
   "source": [
    "print(\"NN WORKFLOW:\")\n",
    "\n",
    "print(f'Total Emissions: {ennbpm.get_total_emissions()}')\n",
    "print(f'Cumulative Recall: {ennbpm.get_cumulative_recall()}')\n",
    "print(f'Normalized AUC: {ennbpm.get_normalized_auc()}')"
   ]
  },
  {
   "cell_type": "code",
   "execution_count": 42,
   "id": "c6800626",
   "metadata": {},
   "outputs": [
    {
     "name": "stdout",
     "output_type": "stream",
     "text": [
      "JOIN WORKFLOW:\n",
      "Total Emissions: 10000\n",
      "Cumulative Recall: 0.9693308550185874\n",
      "Normalized AUC: 0.8705726081666761\n"
     ]
    }
   ],
   "source": [
    "print(\"JOIN WORKFLOW:\")\n",
    "\n",
    "print(f'Total Emissions: {tkjpm.get_total_emissions()}')\n",
    "print(f'Cumulative Recall: {tkjpm.get_cumulative_recall()}')\n",
    "print(f'Normalized AUC: {tkjpm.get_normalized_auc()}')"
   ]
  },
  {
   "cell_type": "code",
   "execution_count": 43,
   "id": "352a3cb1",
   "metadata": {},
   "outputs": [
    {
     "name": "stdout",
     "output_type": "stream",
     "text": [
      "MB WORKFLOW:\n",
      "Total Emissions: 10000\n",
      "Cumulative Recall: 0.9163568773234201\n",
      "Normalized AUC: 0.8116456941666359\n"
     ]
    }
   ],
   "source": [
    "print(\"MB WORKFLOW:\")\n",
    "\n",
    "print(f'Total Emissions: {ltpm.get_total_emissions()}')\n",
    "print(f'Cumulative Recall: {ltpm.get_cumulative_recall()}')\n",
    "print(f'Normalized AUC: {ltpm.get_normalized_auc()}')"
   ]
  },
  {
   "cell_type": "code",
   "execution_count": 45,
   "id": "edd29dbc",
   "metadata": {},
   "outputs": [
    {
     "name": "stdout",
     "output_type": "stream",
     "text": [
      "SN WORKFLOW:\n",
      "Total Emissions: 10000\n",
      "Cumulative Recall: 0.7639405204460966\n",
      "Normalized AUC: 0.6014663403547951\n"
     ]
    }
   ],
   "source": [
    "print(\"SN WORKFLOW:\")\n",
    "\n",
    "print(f'Total Emissions: {gpsnm.get_total_emissions()}')\n",
    "print(f'Cumulative Recall: {gpsnm.get_cumulative_recall()}')\n",
    "print(f'Normalized AUC: {gpsnm.get_normalized_auc()}')"
   ]
  },
  {
   "cell_type": "markdown",
   "id": "315369d8-6564-44d4-aea0-14034b54cf16",
   "metadata": {},
   "source": [
    "<hr>\n",
    "<div align=\"right\">\n",
    "K. Nikoletos, J. Maciejewski, G. Papadakis & M. Koubarakis\n",
    "</div>\n",
    "<div align=\"right\">\n",
    "<a href=\"https://github.com/Nikoletos-K/pyJedAI/blob/main/LICENSE\">Apache License 2.0</a>\n",
    "</div>"
   ]
  }
 ],
 "metadata": {
  "kernelspec": {
   "display_name": "Python 3",
   "language": "python",
   "name": "python3"
  },
  "language_info": {
   "codemirror_mode": {
    "name": "ipython",
    "version": 3
   },
   "file_extension": ".py",
   "mimetype": "text/x-python",
   "name": "python",
   "nbconvert_exporter": "python",
   "pygments_lexer": "ipython3",
   "version": "3.9.16"
  },
  "vscode": {
   "interpreter": {
    "hash": "824e5f4123a1a5b690f910010b2896a5dc6379151ca1c56e0c0465c15ebbd094"
   }
  }
 },
 "nbformat": 4,
 "nbformat_minor": 5
}
