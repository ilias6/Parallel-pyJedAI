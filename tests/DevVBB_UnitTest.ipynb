{
 "cells": [
  {
   "cell_type": "markdown",
   "id": "96ec678e-b20c-4213-8616-542010f46342",
   "metadata": {},
   "source": [
    "<div align=\"center\"> \n",
    "    <hr>\n",
    "  <font size=\"6\"><b>Dev | Clean-Clean Entity Resolution Notebook <br>with pre-trained embeddings and FAISS</b> </font><br>\n",
    "    <font size=\"6\"><b>Abt - Buy</b> </font>\n",
    "   <hr>\n",
    "</div>"
   ]
  },
  {
   "cell_type": "code",
   "execution_count": 1,
   "id": "eed013bf-c351-43a3-b600-9b35a6adfd83",
   "metadata": {},
   "outputs": [
    {
     "name": "stdout",
     "output_type": "stream",
     "text": [
      "Python 3.9.1\n"
     ]
    }
   ],
   "source": [
    "!python --version"
   ]
  },
  {
   "cell_type": "code",
   "execution_count": 2,
   "id": "6db50d83-51d8-4c95-9f27-30ef867338f2",
   "metadata": {},
   "outputs": [],
   "source": [
    "import os\n",
    "import sys\n",
    "import pandas as pd\n",
    "import networkx\n",
    "from networkx import draw, Graph\n",
    "%load_ext autoreload\n",
    "%autoreload 2\n",
    "%reload_ext autoreload\n",
    "from pyjedai.utils import (\n",
    "    text_cleaning_method,\n",
    "    print_clusters,\n",
    "    print_blocks,\n",
    "    print_candidate_pairs\n",
    ")\n",
    "from pyjedai.evaluation import Evaluation, write\n",
    "from pyjedai.datamodel import Data\n",
    "# d1 = pd.read_csv(\"./data/test/ccer/abt_100.csv\", sep='|', engine='python', na_filter=False).astype(str)\n",
    "# d2 = pd.read_csv(\"./data/test/ccer/buy_100.csv\", sep='|', engine='python', na_filter=False).astype(str)\n",
    "# gt = pd.read_csv(\"./data/test/ccer/gt_100.csv\", sep='|', engine='python')\n",
    "\n",
    "d1 = pd.read_csv(\"./data/ccer/D2/abt.csv\", sep='|', engine='python', na_filter=False).astype(str)\n",
    "d2 = pd.read_csv(\"./data/ccer/D2/buy.csv\", sep='|', engine='python', na_filter=False).astype(str)\n",
    "gt = pd.read_csv(\"./data/ccer/D2/gt.csv\", sep='|', engine='python')\n",
    "\n",
    "attr1 = d1.columns[1:].to_list()\n",
    "attr2 = d2.columns[1:].to_list()\n",
    "\n",
    "\n",
    "data = Data(dataset_1=d1,\n",
    "            attributes_1=attr1,\n",
    "            id_column_name_1='id',\n",
    "            dataset_2=d2,\n",
    "            attributes_2=attr2,\n",
    "            id_column_name_2='id',\n",
    "            ground_truth=gt)\n"
   ]
  },
  {
   "cell_type": "code",
   "execution_count": 3,
   "id": "e274f5cc-fe29-4ff8-adcc-535d77ca48aa",
   "metadata": {},
   "outputs": [
    {
     "data": {
      "text/html": [
       "<div>\n",
       "<style scoped>\n",
       "    .dataframe tbody tr th:only-of-type {\n",
       "        vertical-align: middle;\n",
       "    }\n",
       "\n",
       "    .dataframe tbody tr th {\n",
       "        vertical-align: top;\n",
       "    }\n",
       "\n",
       "    .dataframe thead th {\n",
       "        text-align: right;\n",
       "    }\n",
       "</style>\n",
       "<table border=\"1\" class=\"dataframe\">\n",
       "  <thead>\n",
       "    <tr style=\"text-align: right;\">\n",
       "      <th></th>\n",
       "      <th>id</th>\n",
       "      <th>name</th>\n",
       "      <th>description</th>\n",
       "      <th>price</th>\n",
       "    </tr>\n",
       "  </thead>\n",
       "  <tbody>\n",
       "    <tr>\n",
       "      <th>0</th>\n",
       "      <td>0</td>\n",
       "      <td>Sony Turntable - PSLX350H</td>\n",
       "      <td>Sony Turntable - PSLX350H/ Belt Drive System/ ...</td>\n",
       "      <td></td>\n",
       "    </tr>\n",
       "    <tr>\n",
       "      <th>1</th>\n",
       "      <td>1</td>\n",
       "      <td>Bose Acoustimass 5 Series III Speaker System -...</td>\n",
       "      <td>Bose Acoustimass 5 Series III Speaker System -...</td>\n",
       "      <td>399</td>\n",
       "    </tr>\n",
       "    <tr>\n",
       "      <th>2</th>\n",
       "      <td>2</td>\n",
       "      <td>Sony Switcher - SBV40S</td>\n",
       "      <td>Sony Switcher - SBV40S/ Eliminates Disconnecti...</td>\n",
       "      <td>49</td>\n",
       "    </tr>\n",
       "    <tr>\n",
       "      <th>3</th>\n",
       "      <td>3</td>\n",
       "      <td>Sony 5 Disc CD Player - CDPCE375</td>\n",
       "      <td>Sony 5 Disc CD Player- CDPCE375/ 5 Disc Change...</td>\n",
       "      <td></td>\n",
       "    </tr>\n",
       "    <tr>\n",
       "      <th>4</th>\n",
       "      <td>4</td>\n",
       "      <td>Bose 27028 161 Bookshelf Pair Speakers In Whit...</td>\n",
       "      <td>Bose 161 Bookshelf Speakers In White - 161WH/ ...</td>\n",
       "      <td>158</td>\n",
       "    </tr>\n",
       "    <tr>\n",
       "      <th>...</th>\n",
       "      <td>...</td>\n",
       "      <td>...</td>\n",
       "      <td>...</td>\n",
       "      <td>...</td>\n",
       "    </tr>\n",
       "    <tr>\n",
       "      <th>1071</th>\n",
       "      <td>1071</td>\n",
       "      <td>Logitech Cordless Desktop Wave Keyboard And Mo...</td>\n",
       "      <td>Logitech Cordless Desktop Wave Keyboard And Mo...</td>\n",
       "      <td>79</td>\n",
       "    </tr>\n",
       "    <tr>\n",
       "      <th>1072</th>\n",
       "      <td>1072</td>\n",
       "      <td>Mitsubishi DLP Black TV Stand - MBS73V</td>\n",
       "      <td>Mitsubishi DLP Black TV Stand - MBS73V/ Matchi...</td>\n",
       "      <td>549</td>\n",
       "    </tr>\n",
       "    <tr>\n",
       "      <th>1073</th>\n",
       "      <td>1073</td>\n",
       "      <td>Logitech Digital Precision PC Gaming Headset -...</td>\n",
       "      <td>Logitech Digital Precision PC Gaming Headset -...</td>\n",
       "      <td>49</td>\n",
       "    </tr>\n",
       "    <tr>\n",
       "      <th>1074</th>\n",
       "      <td>1074</td>\n",
       "      <td>Logitech 2.1 Multimedia Silver Speaker System ...</td>\n",
       "      <td>Logitech 2.1 Multimedia Silver Speaker System ...</td>\n",
       "      <td></td>\n",
       "    </tr>\n",
       "    <tr>\n",
       "      <th>1075</th>\n",
       "      <td>1075</td>\n",
       "      <td>Linksys Wireless-G Range Expander - WRE54G</td>\n",
       "      <td>Linksys Wireless-G Range Expander - WRE54G/ Su...</td>\n",
       "      <td>99</td>\n",
       "    </tr>\n",
       "  </tbody>\n",
       "</table>\n",
       "<p>1076 rows × 4 columns</p>\n",
       "</div>"
      ],
      "text/plain": [
       "        id                                               name  \\\n",
       "0        0                          Sony Turntable - PSLX350H   \n",
       "1        1  Bose Acoustimass 5 Series III Speaker System -...   \n",
       "2        2                             Sony Switcher - SBV40S   \n",
       "3        3                   Sony 5 Disc CD Player - CDPCE375   \n",
       "4        4  Bose 27028 161 Bookshelf Pair Speakers In Whit...   \n",
       "...    ...                                                ...   \n",
       "1071  1071  Logitech Cordless Desktop Wave Keyboard And Mo...   \n",
       "1072  1072             Mitsubishi DLP Black TV Stand - MBS73V   \n",
       "1073  1073  Logitech Digital Precision PC Gaming Headset -...   \n",
       "1074  1074  Logitech 2.1 Multimedia Silver Speaker System ...   \n",
       "1075  1075         Linksys Wireless-G Range Expander - WRE54G   \n",
       "\n",
       "                                            description price  \n",
       "0     Sony Turntable - PSLX350H/ Belt Drive System/ ...        \n",
       "1     Bose Acoustimass 5 Series III Speaker System -...   399  \n",
       "2     Sony Switcher - SBV40S/ Eliminates Disconnecti...    49  \n",
       "3     Sony 5 Disc CD Player- CDPCE375/ 5 Disc Change...        \n",
       "4     Bose 161 Bookshelf Speakers In White - 161WH/ ...   158  \n",
       "...                                                 ...   ...  \n",
       "1071  Logitech Cordless Desktop Wave Keyboard And Mo...    79  \n",
       "1072  Mitsubishi DLP Black TV Stand - MBS73V/ Matchi...   549  \n",
       "1073  Logitech Digital Precision PC Gaming Headset -...    49  \n",
       "1074  Logitech 2.1 Multimedia Silver Speaker System ...        \n",
       "1075  Linksys Wireless-G Range Expander - WRE54G/ Su...    99  \n",
       "\n",
       "[1076 rows x 4 columns]"
      ]
     },
     "execution_count": 3,
     "metadata": {},
     "output_type": "execute_result"
    }
   ],
   "source": [
    "d1"
   ]
  },
  {
   "cell_type": "code",
   "execution_count": 25,
   "id": "9d81feb3-60e5-48b4-a162-a15edbec19b5",
   "metadata": {},
   "outputs": [
    {
     "data": {
      "text/html": [
       "<div>\n",
       "<style scoped>\n",
       "    .dataframe tbody tr th:only-of-type {\n",
       "        vertical-align: middle;\n",
       "    }\n",
       "\n",
       "    .dataframe tbody tr th {\n",
       "        vertical-align: top;\n",
       "    }\n",
       "\n",
       "    .dataframe thead th {\n",
       "        text-align: right;\n",
       "    }\n",
       "</style>\n",
       "<table border=\"1\" class=\"dataframe\">\n",
       "  <thead>\n",
       "    <tr style=\"text-align: right;\">\n",
       "      <th></th>\n",
       "      <th>id</th>\n",
       "      <th>name</th>\n",
       "      <th>description</th>\n",
       "      <th>price</th>\n",
       "    </tr>\n",
       "  </thead>\n",
       "  <tbody>\n",
       "    <tr>\n",
       "      <th>0</th>\n",
       "      <td>0</td>\n",
       "      <td>Sony Turntable - PSLX350H</td>\n",
       "      <td>Sony Turntable - PSLX350H/ Belt Drive System/ ...</td>\n",
       "      <td></td>\n",
       "    </tr>\n",
       "    <tr>\n",
       "      <th>1</th>\n",
       "      <td>1</td>\n",
       "      <td>Bose Acoustimass 5 Series III Speaker System -...</td>\n",
       "      <td>Bose Acoustimass 5 Series III Speaker System -...</td>\n",
       "      <td>399</td>\n",
       "    </tr>\n",
       "    <tr>\n",
       "      <th>2</th>\n",
       "      <td>2</td>\n",
       "      <td>Sony Switcher - SBV40S</td>\n",
       "      <td>Sony Switcher - SBV40S/ Eliminates Disconnecti...</td>\n",
       "      <td>49</td>\n",
       "    </tr>\n",
       "    <tr>\n",
       "      <th>3</th>\n",
       "      <td>3</td>\n",
       "      <td>Sony 5 Disc CD Player - CDPCE375</td>\n",
       "      <td>Sony 5 Disc CD Player- CDPCE375/ 5 Disc Change...</td>\n",
       "      <td></td>\n",
       "    </tr>\n",
       "    <tr>\n",
       "      <th>4</th>\n",
       "      <td>4</td>\n",
       "      <td>Bose 27028 161 Bookshelf Pair Speakers In Whit...</td>\n",
       "      <td>Bose 161 Bookshelf Speakers In White - 161WH/ ...</td>\n",
       "      <td>158</td>\n",
       "    </tr>\n",
       "    <tr>\n",
       "      <th>...</th>\n",
       "      <td>...</td>\n",
       "      <td>...</td>\n",
       "      <td>...</td>\n",
       "      <td>...</td>\n",
       "    </tr>\n",
       "    <tr>\n",
       "      <th>1071</th>\n",
       "      <td>1071</td>\n",
       "      <td>Logitech Cordless Desktop Wave Keyboard And Mo...</td>\n",
       "      <td>Logitech Cordless Desktop Wave Keyboard And Mo...</td>\n",
       "      <td>79</td>\n",
       "    </tr>\n",
       "    <tr>\n",
       "      <th>1072</th>\n",
       "      <td>1072</td>\n",
       "      <td>Mitsubishi DLP Black TV Stand - MBS73V</td>\n",
       "      <td>Mitsubishi DLP Black TV Stand - MBS73V/ Matchi...</td>\n",
       "      <td>549</td>\n",
       "    </tr>\n",
       "    <tr>\n",
       "      <th>1073</th>\n",
       "      <td>1073</td>\n",
       "      <td>Logitech Digital Precision PC Gaming Headset -...</td>\n",
       "      <td>Logitech Digital Precision PC Gaming Headset -...</td>\n",
       "      <td>49</td>\n",
       "    </tr>\n",
       "    <tr>\n",
       "      <th>1074</th>\n",
       "      <td>1074</td>\n",
       "      <td>Logitech 2.1 Multimedia Silver Speaker System ...</td>\n",
       "      <td>Logitech 2.1 Multimedia Silver Speaker System ...</td>\n",
       "      <td></td>\n",
       "    </tr>\n",
       "    <tr>\n",
       "      <th>1075</th>\n",
       "      <td>1075</td>\n",
       "      <td>Linksys Wireless-G Range Expander - WRE54G</td>\n",
       "      <td>Linksys Wireless-G Range Expander - WRE54G/ Su...</td>\n",
       "      <td>99</td>\n",
       "    </tr>\n",
       "  </tbody>\n",
       "</table>\n",
       "<p>1076 rows × 4 columns</p>\n",
       "</div>"
      ],
      "text/plain": [
       "        id                                               name  \\\n",
       "0        0                          Sony Turntable - PSLX350H   \n",
       "1        1  Bose Acoustimass 5 Series III Speaker System -...   \n",
       "2        2                             Sony Switcher - SBV40S   \n",
       "3        3                   Sony 5 Disc CD Player - CDPCE375   \n",
       "4        4  Bose 27028 161 Bookshelf Pair Speakers In Whit...   \n",
       "...    ...                                                ...   \n",
       "1071  1071  Logitech Cordless Desktop Wave Keyboard And Mo...   \n",
       "1072  1072             Mitsubishi DLP Black TV Stand - MBS73V   \n",
       "1073  1073  Logitech Digital Precision PC Gaming Headset -...   \n",
       "1074  1074  Logitech 2.1 Multimedia Silver Speaker System ...   \n",
       "1075  1075         Linksys Wireless-G Range Expander - WRE54G   \n",
       "\n",
       "                                            description price  \n",
       "0     Sony Turntable - PSLX350H/ Belt Drive System/ ...        \n",
       "1     Bose Acoustimass 5 Series III Speaker System -...   399  \n",
       "2     Sony Switcher - SBV40S/ Eliminates Disconnecti...    49  \n",
       "3     Sony 5 Disc CD Player- CDPCE375/ 5 Disc Change...        \n",
       "4     Bose 161 Bookshelf Speakers In White - 161WH/ ...   158  \n",
       "...                                                 ...   ...  \n",
       "1071  Logitech Cordless Desktop Wave Keyboard And Mo...    79  \n",
       "1072  Mitsubishi DLP Black TV Stand - MBS73V/ Matchi...   549  \n",
       "1073  Logitech Digital Precision PC Gaming Headset -...    49  \n",
       "1074  Logitech 2.1 Multimedia Silver Speaker System ...        \n",
       "1075  Linksys Wireless-G Range Expander - WRE54G/ Su...    99  \n",
       "\n",
       "[1076 rows x 4 columns]"
      ]
     },
     "execution_count": 25,
     "metadata": {},
     "output_type": "execute_result"
    }
   ],
   "source": [
    "data.dataset_1"
   ]
  },
  {
   "cell_type": "markdown",
   "id": "9c068252-4a69-405a-a320-c2875ec08ea5",
   "metadata": {},
   "source": [
    "# Block Building\n",
    "\n",
    "## FAISS\n",
    "\n",
    "faiss.IndexIVFFlat is an implementation of an inverted file index with coarse quantization. This index is used to efficiently search for nearest neighbors of a query vector in a large dataset of vectors. Here's a brief explanation of the parameters used in this index:\n",
    "\n",
    "- `d`: The dimension of the input vectors. Each input vector should have d elements.\n",
    "- `nlist`: The number of cells (or clusters) to divide the dataset into. This determines the number of inverted lists in the index, and hence the maximum number of vectors that can be stored in the index. Larger values of nlist will generally result in more accurate search results, but may also increase the memory requirements of the index and the time required to perform searches.\n",
    "- `quantizer`: An instance of a quantizer object that is used to compress the vectors before they are added to the index. The quantizer object should implement a train method that learns the quantization function from a set of input vectors, and a compress method that compresses a vector into an integer code. FAISS provides several built-in quantizer objects, such as IndexFlatL2 and IndexScalarQuantizer.\n",
    "- `metric`: The distance metric used to measure the similarity between vectors. The metric should be one of the strings defined in the faiss.METRIC_TYPES list, such as \"l2\" for Euclidean distance or \"ip\" for inner product.\n",
    "- `nprobe`: The number of cells (or clusters) to search during a query. This parameter determines the tradeoff between accuracy and speed during searches. Larger values of nprobe will generally result in more accurate search results, but may also increase the time required to perform searches.\n",
    "\n"
   ]
  },
  {
   "cell_type": "code",
   "execution_count": 3,
   "id": "9c1b6213-a218-40cf-bc72-801b77d28da9",
   "metadata": {},
   "outputs": [],
   "source": [
    "from pyjedai.vector_based_blocking import EmbeddingsNNBlockBuilding"
   ]
  },
  {
   "cell_type": "code",
   "execution_count": 4,
   "id": "b25e2601-a871-41dd-a48c-bf72382d0f13",
   "metadata": {},
   "outputs": [
    {
     "name": "stdout",
     "output_type": "stream",
     "text": [
      "Building blocks via Embeddings-NN Block Building [sminilm, faiss]\n"
     ]
    },
    {
     "data": {
      "application/vnd.jupyter.widget-view+json": {
       "model_id": "ab35c2e47ec14db5bc0c5141aa7e497a",
       "version_major": 2,
       "version_minor": 0
      },
      "text/plain": [
       "Embeddings-NN Block Building [sminilm, faiss]:   0%|          | 0/2152 [00:00<?, ?it/s]"
      ]
     },
     "metadata": {},
     "output_type": "display_data"
    },
    {
     "name": "stdout",
     "output_type": "stream",
     "text": [
      "['name', 'description', 'price']\n",
      "['name', 'description', 'price']\n",
      "Device selected:  cpu\n",
      "Creating sentence embeddings...\n",
      "NORMALIZED\n",
      "NORMALIZED\n",
      "NORMALIZED\n"
     ]
    }
   ],
   "source": [
    "emb = EmbeddingsNNBlockBuilding(vectorizer='sminilm',\n",
    "                                similarity_search='faiss')\n",
    "blocks, g = emb.build_blocks(data, \n",
    "                          top_k=5,\n",
    "                            similarity_distance='cosine',\n",
    "                          load_embeddings_if_exist=False,\n",
    "                          save_embeddings=False,\n",
    "                          with_entity_matching=True)"
   ]
  },
  {
   "cell_type": "code",
   "execution_count": 45,
   "id": "c013adb6-b557-434d-a294-abc7198b4d0f",
   "metadata": {},
   "outputs": [
    {
     "name": "stdout",
     "output_type": "stream",
     "text": [
      "linksys etherfast ezxs88w ethernet switch - ezxs88w linksys etherfast 8-port 10/100 switch (new/workgroup)\n"
     ]
    }
   ],
   "source": [
    "# 1.\n",
    "import torch\n",
    "\n",
    "from sentence_transformers import SentenceTransformer\n",
    "from scipy import spatial, stats\n",
    "\n",
    "device = torch.device(\"cuda\" if torch.cuda.is_available() else \"cpu\")\n",
    "model = SentenceTransformer('all-MiniLM-L12-v2', device=device)\n",
    "\n",
    "e2 = 0\n",
    "print(emb._entities_d2[e2])\n",
    "encoded_2 = model.encode(emb._entities_d2[e2])\n",
    "\n",
    "res = []\n",
    "for e1 in range(0, len(emb._entities_d1)):\n",
    "    encoded_1 = model.encode(emb._entities_d1[e1])\n",
    "    sim_score = 1 - spatial.distance.cosine(encoded_1, encoded_2)\n",
    "    res.append((e1, sim_score))"
   ]
  },
  {
   "cell_type": "code",
   "execution_count": 46,
   "id": "cbce8c1d-ee3e-4676-8e53-fa1bff0a17ac",
   "metadata": {},
   "outputs": [
    {
     "name": "stdout",
     "output_type": "stream",
     "text": [
      "Brute-force:  [(1023, 0.7504152059555054), (1020, 0.6593941450119019), (1022, 0.6422648429870605), (134, 0.6380040049552917), (1021, 0.6196042895317078)]\n",
      "pyJedAI:      [(1023, 0.7504153), (1020, 0.6593942), (1022, 0.64226484), (134, 0.63800395), (1021, 0.6196043)]\n"
     ]
    }
   ],
   "source": [
    "# 2\n",
    "\n",
    "top_k = 5\n",
    "sorted_list = sorted(res, key=lambda x: x[1], reverse=True)\n",
    "print(\"Brute-force: \", sorted_list[:5])\n",
    "print(\"pyJedAI:     \",[(x,y) for x,y in zip(emb.neighbors[0][:top_k], emb.distances[0][:top_k])])"
   ]
  },
  {
   "cell_type": "code",
   "execution_count": 47,
   "id": "661ddf8a-537c-4935-a159-4cfb7bb2325a",
   "metadata": {},
   "outputs": [
    {
     "name": "stdout",
     "output_type": "stream",
     "text": [
      "***************************************************************************************************************************\n",
      "                                         Μethod:  Embeddings-NN Block Building\n",
      "***************************************************************************************************************************\n",
      "Method name: Embeddings-NN Block Building\n",
      "Parameters: \n",
      "\tVectorizer: sminilm\n",
      "\tSimilarity-Search: faiss\n",
      "\tTop-K: 5\n",
      "\tVector size: 384\n",
      "Runtime: 156.5100 seconds\n",
      "───────────────────────────────────────────────────────────────────────────────────────────────────────────────────────────\n",
      "Performance:\n",
      "\tPrecision:      9.38% \n",
      "\tRecall:        93.77%\n",
      "\tF1-score:      17.05%\n",
      "───────────────────────────────────────────────────────────────────────────────────────────────────────────────────────────\n",
      "Classification report:\n",
      "\tTrue positives: 1009\n",
      "\tFalse positives: 9751\n",
      "\tTrue negatives: 1147958\n",
      "\tFalse negatives: 67\n",
      "\tTotal comparisons: 10760\n",
      "───────────────────────────────────────────────────────────────────────────────────────────────────────────────────────────\n",
      "Statistics:\n",
      " FAISS:\n",
      "\tIndices shape returned after search: (1076, 5)\n",
      "───────────────────────────────────────────────────────────────────────────────────────────────────────────────────────────\n"
     ]
    },
    {
     "data": {
      "text/plain": [
       "{'Precision %': 9.37732342007435,\n",
       " 'Recall %': 93.77323420074349,\n",
       " 'F1 %': 17.049678945589726,\n",
       " 'True Positives': 1009,\n",
       " 'False Positives': 9751,\n",
       " 'True Negatives': 1147958,\n",
       " 'False Negatives': 67}"
      ]
     },
     "execution_count": 47,
     "metadata": {},
     "output_type": "execute_result"
    }
   ],
   "source": [
    "emb.evaluate(blocks, with_classification_report=True, with_stats=True)"
   ]
  },
  {
   "cell_type": "markdown",
   "id": "93b72120-4578-4d5c-a408-a24ee78bf6cb",
   "metadata": {},
   "source": [
    "# Entity Clustering"
   ]
  },
  {
   "cell_type": "code",
   "execution_count": 20,
   "id": "500d2ef7-7017-4dba-bbea-acdba8abf5b7",
   "metadata": {},
   "outputs": [],
   "source": [
    "from pyjedai.clustering import ConnectedComponentsClustering, UniqueMappingClustering"
   ]
  },
  {
   "cell_type": "code",
   "execution_count": 27,
   "id": "aebd9329-3a4b-48c9-bd05-c7bd4aed3ca9",
   "metadata": {},
   "outputs": [],
   "source": [
    "ccc = UniqueMappingClustering()\n",
    "clusters = ccc.process(g, data, similarity_threshold=0.7)"
   ]
  },
  {
   "cell_type": "code",
   "execution_count": 28,
   "id": "22ced5c0-0e3c-4a09-a32a-19abbbe2e8d7",
   "metadata": {},
   "outputs": [
    {
     "name": "stdout",
     "output_type": "stream",
     "text": [
      "***************************************************************************************************************************\n",
      "                                         Μethod:  Unique Mapping Clustering\n",
      "***************************************************************************************************************************\n",
      "Method name: Unique Mapping Clustering\n",
      "Parameters: \n",
      "Runtime: 0.0396 seconds\n",
      "───────────────────────────────────────────────────────────────────────────────────────────────────────────────────────────\n",
      "Performance:\n",
      "\tPrecision:     82.78% \n",
      "\tRecall:        67.47%\n",
      "\tF1-score:      74.35%\n",
      "───────────────────────────────────────────────────────────────────────────────────────────────────────────────────────────\n",
      "Classification report:\n",
      "\tTrue positives: 726\n",
      "\tFalse positives: 151\n",
      "\tTrue negatives: 1157275\n",
      "\tFalse negatives: 350\n",
      "\tTotal comparisons: 877\n",
      "───────────────────────────────────────────────────────────────────────────────────────────────────────────────────────────\n"
     ]
    },
    {
     "data": {
      "text/plain": [
       "{'Precision %': 82.78221208665907,\n",
       " 'Recall %': 67.4721189591078,\n",
       " 'F1 %': 74.34715821812597,\n",
       " 'True Positives': 726,\n",
       " 'False Positives': 151,\n",
       " 'True Negatives': 1157275,\n",
       " 'False Negatives': 350}"
      ]
     },
     "execution_count": 28,
     "metadata": {},
     "output_type": "execute_result"
    }
   ],
   "source": [
    "ccc.evaluate(clusters, with_classification_report=True)"
   ]
  }
 ],
 "metadata": {
  "kernelspec": {
   "display_name": "Python 3 (ipykernel)",
   "language": "python",
   "name": "python3"
  },
  "language_info": {
   "codemirror_mode": {
    "name": "ipython",
    "version": 3
   },
   "file_extension": ".py",
   "mimetype": "text/x-python",
   "name": "python",
   "nbconvert_exporter": "python",
   "pygments_lexer": "ipython3",
   "version": "3.10.5"
  },
  "vscode": {
   "interpreter": {
    "hash": "824e5f4123a1a5b690f910010b2896a5dc6379151ca1c56e0c0465c15ebbd094"
   }
  }
 },
 "nbformat": 4,
 "nbformat_minor": 5
}
