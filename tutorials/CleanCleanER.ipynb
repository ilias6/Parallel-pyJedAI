{
 "cells": [
  {
   "cell_type": "markdown",
   "id": "96ec678e-b20c-4213-8616-542010f46342",
   "metadata": {},
   "source": [
    "<div align=\"center\"> \n",
    "    <br><br>\n",
    "    <img src=\"https://raw.githubusercontent.com/AI-team-UoA/pyJedAI/main/documentation/pyjedai.logo.drawio.png?raw=true\" alt=\"drawing\" width=\"400\"/>\n",
    "    <br>\n",
    "    <hr>\n",
    "    <font size=\"3\">Clean-Clean Entity Resolution Tutorial</font>\n",
    "    <br>\n",
    "</div>\n",
    "<hr>\n",
    "\n",
    "\n",
    "In this notebook we present the pyJedAI approach in the well-known ABT-BUY dataset. Clean-Clean ER in the link discovery/deduplication between two sets of entities."
   ]
  },
  {
   "cell_type": "markdown",
   "id": "9c49d2b7-11b5-40b3-9341-de98608dde13",
   "metadata": {},
   "source": [
    "Dataset: __Abt-Buy dataset__\n",
    "\n",
    "The Abt-Buy dataset for entity resolution derives from the online retailers Abt.com and Buy.com. The dataset contains 1076 entities from abt.com and 1076 entities from buy.com as well as a gold standard (perfect mapping) with 1076 matching record pairs between the two data sources. The common attributes between the two data sources are: product name, product description and product price."
   ]
  },
  {
   "cell_type": "markdown",
   "id": "744b3017-9a5c-4d3c-8e0a-fe39b069b647",
   "metadata": {},
   "source": [
    "# Instalation\n",
    "\n",
    "pyJedAI is an open-source library that can be installed from PyPI.\n",
    "\n",
    "For more: [pypi.org/project/pyjedai/](https://pypi.org/project/pyjedai/)"
   ]
  },
  {
   "cell_type": "code",
   "execution_count": 5,
   "id": "029a5825-799d-4c3f-a6cd-a75e257cadcc",
   "metadata": {},
   "outputs": [
    {
     "name": "stdout",
     "output_type": "stream",
     "text": [
      "Requirement already satisfied: pyjedai in c:\\users\\nikol\\anaconda3\\envs\\pyjedai391\\lib\\site-packages (0.0.4)\n",
      "Requirement already satisfied: PyYAML>=6.0 in c:\\users\\nikol\\anaconda3\\envs\\pyjedai391\\lib\\site-packages (from pyjedai) (6.0)\n",
      "Requirement already satisfied: numpy>=1.21 in c:\\users\\nikol\\anaconda3\\envs\\pyjedai391\\lib\\site-packages (from pyjedai) (1.22.4)\n",
      "Requirement already satisfied: networkx>=2.3 in c:\\users\\nikol\\anaconda3\\envs\\pyjedai391\\lib\\site-packages (from pyjedai) (2.8.4)\n",
      "Requirement already satisfied: nltk>=3.7 in c:\\users\\nikol\\anaconda3\\envs\\pyjedai391\\lib\\site-packages (from pyjedai) (3.7)\n",
      "Requirement already satisfied: seaborn>=0.11 in c:\\users\\nikol\\anaconda3\\envs\\pyjedai391\\lib\\site-packages (from pyjedai) (0.11.2)\n",
      "Requirement already satisfied: matplotlib-inline>=0.1.3 in c:\\users\\nikol\\anaconda3\\envs\\pyjedai391\\lib\\site-packages (from pyjedai) (0.1.6)\n",
      "Requirement already satisfied: rdfpandas>=1.1.5 in c:\\users\\nikol\\anaconda3\\envs\\pyjedai391\\lib\\site-packages (from pyjedai) (1.1.5)\n",
      "Requirement already satisfied: faiss-cpu>=1.7 in c:\\users\\nikol\\anaconda3\\envs\\pyjedai391\\lib\\site-packages (from pyjedai) (1.7.2)\n",
      "Requirement already satisfied: rdflib>=6.1.1 in c:\\users\\nikol\\anaconda3\\envs\\pyjedai391\\lib\\site-packages (from pyjedai) (6.1.1)\n",
      "Requirement already satisfied: scipy>=1.7 in c:\\users\\nikol\\anaconda3\\envs\\pyjedai391\\lib\\site-packages (from pyjedai) (1.8.1)\n",
      "Requirement already satisfied: matplotlib>=3.5.2 in c:\\users\\nikol\\anaconda3\\envs\\pyjedai391\\lib\\site-packages (from pyjedai) (3.5.2)\n",
      "Requirement already satisfied: tomli in c:\\users\\nikol\\anaconda3\\envs\\pyjedai391\\lib\\site-packages (from pyjedai) (2.0.1)\n",
      "Requirement already satisfied: tqdm>=4.64 in c:\\users\\nikol\\anaconda3\\envs\\pyjedai391\\lib\\site-packages (from pyjedai) (4.64.0)\n",
      "Requirement already satisfied: gensim>=4.2.0 in c:\\users\\nikol\\anaconda3\\envs\\pyjedai391\\lib\\site-packages (from pyjedai) (4.2.0)\n",
      "Requirement already satisfied: pandas-profiling>=3.2 in c:\\users\\nikol\\anaconda3\\envs\\pyjedai391\\lib\\site-packages (from pyjedai) (3.2.0)\n",
      "Requirement already satisfied: pandocfilters>=1.5 in c:\\users\\nikol\\anaconda3\\envs\\pyjedai391\\lib\\site-packages (from pyjedai) (1.5.0)\n",
      "Requirement already satisfied: strsim>=0.0.3 in c:\\users\\nikol\\anaconda3\\envs\\pyjedai391\\lib\\site-packages (from pyjedai) (0.0.3)\n",
      "Requirement already satisfied: sentence-transformers>=2.2 in c:\\users\\nikol\\anaconda3\\envs\\pyjedai391\\lib\\site-packages (from pyjedai) (2.2.2)\n",
      "Requirement already satisfied: pandas>=0.25.3 in c:\\users\\nikol\\anaconda3\\envs\\pyjedai391\\lib\\site-packages (from pyjedai) (1.4.2)\n",
      "Requirement already satisfied: transformers>=4.21 in c:\\users\\nikol\\anaconda3\\envs\\pyjedai391\\lib\\site-packages (from pyjedai) (4.21.3)\n",
      "Requirement already satisfied: regex>=2022.6.2 in c:\\users\\nikol\\anaconda3\\envs\\pyjedai391\\lib\\site-packages (from pyjedai) (2022.6.2)\n",
      "Requirement already satisfied: optuna>=3.0 in c:\\users\\nikol\\anaconda3\\envs\\pyjedai391\\lib\\site-packages (from pyjedai) (3.0.1)\n",
      "Requirement already satisfied: strsimpy>=0.2.1 in c:\\users\\nikol\\anaconda3\\envs\\pyjedai391\\lib\\site-packages (from pyjedai) (0.2.1)\n",
      "Requirement already satisfied: Cython==0.29.28 in c:\\users\\nikol\\anaconda3\\envs\\pyjedai391\\lib\\site-packages (from gensim>=4.2.0->pyjedai) (0.29.28)\n",
      "Requirement already satisfied: smart-open>=1.8.1 in c:\\users\\nikol\\anaconda3\\envs\\pyjedai391\\lib\\site-packages (from gensim>=4.2.0->pyjedai) (6.2.0)\n",
      "Requirement already satisfied: fonttools>=4.22.0 in c:\\users\\nikol\\anaconda3\\envs\\pyjedai391\\lib\\site-packages (from matplotlib>=3.5.2->pyjedai) (4.37.3)\n",
      "Requirement already satisfied: pillow>=6.2.0 in c:\\users\\nikol\\anaconda3\\envs\\pyjedai391\\lib\\site-packages (from matplotlib>=3.5.2->pyjedai) (9.2.0)\n",
      "Requirement already satisfied: cycler>=0.10 in c:\\users\\nikol\\anaconda3\\envs\\pyjedai391\\lib\\site-packages (from matplotlib>=3.5.2->pyjedai) (0.11.0)\n",
      "Requirement already satisfied: pyparsing>=2.2.1 in c:\\users\\nikol\\anaconda3\\envs\\pyjedai391\\lib\\site-packages (from matplotlib>=3.5.2->pyjedai) (3.0.9)\n",
      "Requirement already satisfied: python-dateutil>=2.7 in c:\\users\\nikol\\anaconda3\\envs\\pyjedai391\\lib\\site-packages (from matplotlib>=3.5.2->pyjedai) (2.8.2)\n",
      "Requirement already satisfied: kiwisolver>=1.0.1 in c:\\users\\nikol\\anaconda3\\envs\\pyjedai391\\lib\\site-packages (from matplotlib>=3.5.2->pyjedai) (1.4.4)\n",
      "Requirement already satisfied: packaging>=20.0 in c:\\users\\nikol\\anaconda3\\envs\\pyjedai391\\lib\\site-packages (from matplotlib>=3.5.2->pyjedai) (21.3)\n",
      "Requirement already satisfied: traitlets in c:\\users\\nikol\\anaconda3\\envs\\pyjedai391\\lib\\site-packages (from matplotlib-inline>=0.1.3->pyjedai) (5.4.0)\n",
      "Requirement already satisfied: click in c:\\users\\nikol\\anaconda3\\envs\\pyjedai391\\lib\\site-packages (from nltk>=3.7->pyjedai) (8.1.3)\n",
      "Requirement already satisfied: joblib in c:\\users\\nikol\\anaconda3\\envs\\pyjedai391\\lib\\site-packages (from nltk>=3.7->pyjedai) (1.1.0)\n",
      "Requirement already satisfied: cmaes>=0.8.2 in c:\\users\\nikol\\anaconda3\\envs\\pyjedai391\\lib\\site-packages (from optuna>=3.0->pyjedai) (0.8.2)\n",
      "Requirement already satisfied: typing-extensions>=3.10.0.0 in c:\\users\\nikol\\anaconda3\\envs\\pyjedai391\\lib\\site-packages (from optuna>=3.0->pyjedai) (4.3.0)\n",
      "Requirement already satisfied: cliff in c:\\users\\nikol\\anaconda3\\envs\\pyjedai391\\lib\\site-packages (from optuna>=3.0->pyjedai) (4.0.0)\n",
      "Requirement already satisfied: colorlog in c:\\users\\nikol\\anaconda3\\envs\\pyjedai391\\lib\\site-packages (from optuna>=3.0->pyjedai) (6.7.0)\n",
      "Requirement already satisfied: sqlalchemy>=1.1.0 in c:\\users\\nikol\\anaconda3\\envs\\pyjedai391\\lib\\site-packages (from optuna>=3.0->pyjedai) (1.4.41)\n",
      "Requirement already satisfied: alembic in c:\\users\\nikol\\anaconda3\\envs\\pyjedai391\\lib\\site-packages (from optuna>=3.0->pyjedai) (1.8.1)\n",
      "Requirement already satisfied: pytz>=2020.1 in c:\\users\\nikol\\anaconda3\\envs\\pyjedai391\\lib\\site-packages (from pandas>=0.25.3->pyjedai) (2022.2.1)\n",
      "Requirement already satisfied: missingno>=0.4.2 in c:\\users\\nikol\\anaconda3\\envs\\pyjedai391\\lib\\site-packages (from pandas-profiling>=3.2->pyjedai) (0.5.1)\n",
      "Requirement already satisfied: markupsafe~=2.1.1 in c:\\users\\nikol\\anaconda3\\envs\\pyjedai391\\lib\\site-packages (from pandas-profiling>=3.2->pyjedai) (2.1.1)\n",
      "Requirement already satisfied: pydantic>=1.8.1 in c:\\users\\nikol\\anaconda3\\envs\\pyjedai391\\lib\\site-packages (from pandas-profiling>=3.2->pyjedai) (1.10.2)\n",
      "Requirement already satisfied: visions[type_image_path]==0.7.4 in c:\\users\\nikol\\anaconda3\\envs\\pyjedai391\\lib\\site-packages (from pandas-profiling>=3.2->pyjedai) (0.7.4)\n",
      "Requirement already satisfied: htmlmin>=0.1.12 in c:\\users\\nikol\\anaconda3\\envs\\pyjedai391\\lib\\site-packages (from pandas-profiling>=3.2->pyjedai) (0.1.12)\n",
      "Requirement already satisfied: tangled-up-in-unicode==0.2.0 in c:\\users\\nikol\\anaconda3\\envs\\pyjedai391\\lib\\site-packages (from pandas-profiling>=3.2->pyjedai) (0.2.0)\n",
      "Requirement already satisfied: requests>=2.24.0 in c:\\users\\nikol\\anaconda3\\envs\\pyjedai391\\lib\\site-packages (from pandas-profiling>=3.2->pyjedai) (2.28.1)\n",
      "Requirement already satisfied: multimethod>=1.4 in c:\\users\\nikol\\anaconda3\\envs\\pyjedai391\\lib\\site-packages (from pandas-profiling>=3.2->pyjedai) (1.9)\n",
      "Requirement already satisfied: phik>=0.11.1 in c:\\users\\nikol\\anaconda3\\envs\\pyjedai391\\lib\\site-packages (from pandas-profiling>=3.2->pyjedai) (0.12.2)\n",
      "Requirement already satisfied: jinja2>=2.11.1 in c:\\users\\nikol\\anaconda3\\envs\\pyjedai391\\lib\\site-packages (from pandas-profiling>=3.2->pyjedai) (3.1.2)\n",
      "Requirement already satisfied: attrs>=19.3.0 in c:\\users\\nikol\\anaconda3\\envs\\pyjedai391\\lib\\site-packages (from visions[type_image_path]==0.7.4->pandas-profiling>=3.2->pyjedai) (21.4.0)\n",
      "Requirement already satisfied: imagehash in c:\\users\\nikol\\anaconda3\\envs\\pyjedai391\\lib\\site-packages (from visions[type_image_path]==0.7.4->pandas-profiling>=3.2->pyjedai) (4.3.0)\n",
      "Requirement already satisfied: setuptools in c:\\users\\nikol\\anaconda3\\envs\\pyjedai391\\lib\\site-packages (from rdflib>=6.1.1->pyjedai) (63.4.1)\n",
      "Requirement already satisfied: isodate in c:\\users\\nikol\\anaconda3\\envs\\pyjedai391\\lib\\site-packages (from rdflib>=6.1.1->pyjedai) (0.6.1)\n",
      "Requirement already satisfied: torchvision in c:\\users\\nikol\\anaconda3\\envs\\pyjedai391\\lib\\site-packages (from sentence-transformers>=2.2->pyjedai) (0.13.1)\n",
      "Requirement already satisfied: torch>=1.6.0 in c:\\users\\nikol\\anaconda3\\envs\\pyjedai391\\lib\\site-packages (from sentence-transformers>=2.2->pyjedai) (1.12.1)\n",
      "Requirement already satisfied: scikit-learn in c:\\users\\nikol\\anaconda3\\envs\\pyjedai391\\lib\\site-packages (from sentence-transformers>=2.2->pyjedai) (1.1.2)\n",
      "Requirement already satisfied: sentencepiece in c:\\users\\nikol\\anaconda3\\envs\\pyjedai391\\lib\\site-packages (from sentence-transformers>=2.2->pyjedai) (0.1.97)\n",
      "Requirement already satisfied: huggingface-hub>=0.4.0 in c:\\users\\nikol\\anaconda3\\envs\\pyjedai391\\lib\\site-packages (from sentence-transformers>=2.2->pyjedai) (0.9.1)\n",
      "Requirement already satisfied: colorama in c:\\users\\nikol\\anaconda3\\envs\\pyjedai391\\lib\\site-packages (from tqdm>=4.64->pyjedai) (0.4.5)\n",
      "Requirement already satisfied: tokenizers!=0.11.3,<0.13,>=0.11.1 in c:\\users\\nikol\\anaconda3\\envs\\pyjedai391\\lib\\site-packages (from transformers>=4.21->pyjedai) (0.12.1)\n",
      "Requirement already satisfied: filelock in c:\\users\\nikol\\anaconda3\\envs\\pyjedai391\\lib\\site-packages (from transformers>=4.21->pyjedai) (3.8.0)\n",
      "Requirement already satisfied: six>=1.5 in c:\\users\\nikol\\anaconda3\\envs\\pyjedai391\\lib\\site-packages (from python-dateutil>=2.7->matplotlib>=3.5.2->pyjedai) (1.16.0)\n",
      "Requirement already satisfied: urllib3<1.27,>=1.21.1 in c:\\users\\nikol\\anaconda3\\envs\\pyjedai391\\lib\\site-packages (from requests>=2.24.0->pandas-profiling>=3.2->pyjedai) (1.26.12)\n",
      "Requirement already satisfied: charset-normalizer<3,>=2 in c:\\users\\nikol\\anaconda3\\envs\\pyjedai391\\lib\\site-packages (from requests>=2.24.0->pandas-profiling>=3.2->pyjedai) (2.1.1)\n",
      "Requirement already satisfied: idna<4,>=2.5 in c:\\users\\nikol\\anaconda3\\envs\\pyjedai391\\lib\\site-packages (from requests>=2.24.0->pandas-profiling>=3.2->pyjedai) (3.4)\n",
      "Requirement already satisfied: certifi>=2017.4.17 in c:\\users\\nikol\\anaconda3\\envs\\pyjedai391\\lib\\site-packages (from requests>=2.24.0->pandas-profiling>=3.2->pyjedai) (2022.9.24)\n",
      "Requirement already satisfied: greenlet!=0.4.17 in c:\\users\\nikol\\anaconda3\\envs\\pyjedai391\\lib\\site-packages (from sqlalchemy>=1.1.0->optuna>=3.0->pyjedai) (1.1.3)\n",
      "Requirement already satisfied: Mako in c:\\users\\nikol\\anaconda3\\envs\\pyjedai391\\lib\\site-packages (from alembic->optuna>=3.0->pyjedai) (1.2.2)\n",
      "Requirement already satisfied: stevedore>=2.0.1 in c:\\users\\nikol\\anaconda3\\envs\\pyjedai391\\lib\\site-packages (from cliff->optuna>=3.0->pyjedai) (4.0.0)\n",
      "Requirement already satisfied: PrettyTable>=0.7.2 in c:\\users\\nikol\\anaconda3\\envs\\pyjedai391\\lib\\site-packages (from cliff->optuna>=3.0->pyjedai) (3.4.1)\n",
      "Requirement already satisfied: cmd2>=1.0.0 in c:\\users\\nikol\\anaconda3\\envs\\pyjedai391\\lib\\site-packages (from cliff->optuna>=3.0->pyjedai) (2.4.2)\n",
      "Requirement already satisfied: importlib-metadata>=4.4 in c:\\users\\nikol\\anaconda3\\envs\\pyjedai391\\lib\\site-packages (from cliff->optuna>=3.0->pyjedai) (4.12.0)\n",
      "Requirement already satisfied: autopage>=0.4.0 in c:\\users\\nikol\\anaconda3\\envs\\pyjedai391\\lib\\site-packages (from cliff->optuna>=3.0->pyjedai) (0.5.1)\n",
      "Requirement already satisfied: threadpoolctl>=2.0.0 in c:\\users\\nikol\\anaconda3\\envs\\pyjedai391\\lib\\site-packages (from scikit-learn->sentence-transformers>=2.2->pyjedai) (3.1.0)\n",
      "Requirement already satisfied: wcwidth>=0.1.7 in c:\\users\\nikol\\anaconda3\\envs\\pyjedai391\\lib\\site-packages (from cmd2>=1.0.0->cliff->optuna>=3.0->pyjedai) (0.2.5)\n",
      "Requirement already satisfied: pyreadline3 in c:\\users\\nikol\\anaconda3\\envs\\pyjedai391\\lib\\site-packages (from cmd2>=1.0.0->cliff->optuna>=3.0->pyjedai) (3.4.1)\n",
      "Requirement already satisfied: pyperclip>=1.6 in c:\\users\\nikol\\anaconda3\\envs\\pyjedai391\\lib\\site-packages (from cmd2>=1.0.0->cliff->optuna>=3.0->pyjedai) (1.8.2)\n",
      "Requirement already satisfied: zipp>=0.5 in c:\\users\\nikol\\anaconda3\\envs\\pyjedai391\\lib\\site-packages (from importlib-metadata>=4.4->cliff->optuna>=3.0->pyjedai) (3.8.1)\n",
      "Requirement already satisfied: pbr!=2.1.0,>=2.0.0 in c:\\users\\nikol\\anaconda3\\envs\\pyjedai391\\lib\\site-packages (from stevedore>=2.0.1->cliff->optuna>=3.0->pyjedai) (5.10.0)\n",
      "Requirement already satisfied: PyWavelets in c:\\users\\nikol\\anaconda3\\envs\\pyjedai391\\lib\\site-packages (from imagehash->visions[type_image_path]==0.7.4->pandas-profiling>=3.2->pyjedai) (1.4.1)\n"
     ]
    }
   ],
   "source": [
    "!pip install pyjedai -U"
   ]
  },
  {
   "cell_type": "code",
   "execution_count": 6,
   "id": "462695ec-3af1-4048-9971-9ed0bce0f07b",
   "metadata": {},
   "outputs": [
    {
     "name": "stdout",
     "output_type": "stream",
     "text": [
      "Name: pyjedai\n",
      "Version: 0.0.4\n",
      "Summary: An open-source library that builds powerful end-to-end Entity Resolution workflows.\n",
      "Home-page: \n",
      "Author: \n",
      "Author-email: Konstantinos Nikoletos <nikoletos.kon@gmail.com>, George Papadakis <gpapadis84@gmail.com>\n",
      "License: Apache Software License 2.0\n",
      "Location: c:\\users\\nikol\\anaconda3\\envs\\pyjedai391\\lib\\site-packages\n",
      "Requires: faiss-cpu, gensim, matplotlib, matplotlib-inline, networkx, nltk, numpy, optuna, pandas, pandas-profiling, pandocfilters, PyYAML, rdflib, rdfpandas, regex, scipy, seaborn, sentence-transformers, strsim, strsimpy, tomli, tqdm, transformers\n",
      "Required-by: \n"
     ]
    }
   ],
   "source": [
    "!pip show pyjedai"
   ]
  },
  {
   "cell_type": "markdown",
   "id": "7b4c62c5-6581-4d2e-9d44-c7c02f43d441",
   "metadata": {},
   "source": [
    "Imports"
   ]
  },
  {
   "cell_type": "code",
   "execution_count": 7,
   "id": "6db50d83-51d8-4c95-9f27-30ef867338f2",
   "metadata": {},
   "outputs": [],
   "source": [
    "import os\n",
    "import sys\n",
    "import pandas as pd\n",
    "import networkx\n",
    "from networkx import draw, Graph"
   ]
  },
  {
   "cell_type": "code",
   "execution_count": 9,
   "id": "4d4e6a90-9fd8-4f7a-bf4f-a5b994e0adfb",
   "metadata": {},
   "outputs": [
    {
     "ename": "ModuleNotFoundError",
     "evalue": "No module named 'pyjedai'",
     "output_type": "error",
     "traceback": [
      "\u001b[1;31m---------------------------------------------------------------------------\u001b[0m",
      "\u001b[1;31mModuleNotFoundError\u001b[0m                       Traceback (most recent call last)",
      "\u001b[1;32m~\\AppData\\Local\\Temp/ipykernel_39604/3715475563.py\u001b[0m in \u001b[0;36m<module>\u001b[1;34m\u001b[0m\n\u001b[1;32m----> 1\u001b[1;33m \u001b[1;32mimport\u001b[0m \u001b[0mpyjedai\u001b[0m\u001b[1;33m\u001b[0m\u001b[1;33m\u001b[0m\u001b[0m\n\u001b[0m\u001b[0;32m      2\u001b[0m from pyjedai.utils import (\n\u001b[0;32m      3\u001b[0m     \u001b[0mtext_cleaning_method\u001b[0m\u001b[1;33m,\u001b[0m\u001b[1;33m\u001b[0m\u001b[1;33m\u001b[0m\u001b[0m\n\u001b[0;32m      4\u001b[0m     \u001b[0mprint_clusters\u001b[0m\u001b[1;33m,\u001b[0m\u001b[1;33m\u001b[0m\u001b[1;33m\u001b[0m\u001b[0m\n\u001b[0;32m      5\u001b[0m     \u001b[0mprint_blocks\u001b[0m\u001b[1;33m,\u001b[0m\u001b[1;33m\u001b[0m\u001b[1;33m\u001b[0m\u001b[0m\n",
      "\u001b[1;31mModuleNotFoundError\u001b[0m: No module named 'pyjedai'"
     ]
    }
   ],
   "source": [
    "import pyjedai\n",
    "from pyjedai.utils import (\n",
    "    text_cleaning_method,\n",
    "    print_clusters,\n",
    "    print_blocks,\n",
    "    print_candidate_pairs\n",
    ")\n",
    "from pyjedai.evaluation import Evaluation, write"
   ]
  },
  {
   "cell_type": "markdown",
   "id": "451bf970-4425-487b-8756-776abb9536ea",
   "metadata": {},
   "source": [
    "# Workflow Architecture\n",
    "\n",
    "![workflow-example.png](https://github.com/AI-team-UoA/pyJedAI/blob/main/documentation/workflow-example.png?raw=true)"
   ]
  },
  {
   "cell_type": "markdown",
   "id": "af77914f-5e76-4da8-a0ad-1c53e0111a0f",
   "metadata": {},
   "source": [
    "# Data Reading\n",
    "\n",
    "pyJedAI in order to perfrom needs only the tranformation of the initial data into a pandas DataFrame. Hence, pyJedAI can function in every structured or semi-structured data. In this case Abt-Buy dataset is provided as .csv files. \n"
   ]
  },
  {
   "cell_type": "code",
   "execution_count": null,
   "id": "e6aabec4-ef4f-4267-8c1e-377054e669d2",
   "metadata": {},
   "outputs": [],
   "source": [
    "from pyjedai.datamodel import Data\n",
    "from pyjedai.evaluation import Evaluation"
   ]
  },
  {
   "cell_type": "code",
   "execution_count": null,
   "id": "3d3feb89-1406-4c90-a1aa-dc2cf4707739",
   "metadata": {},
   "outputs": [],
   "source": [
    "d1 = pd.read_csv(\"./../data/ccer/D2/abt.csv\", sep='|', engine='python', na_filter=False).astype(str)\n",
    "d2 = pd.read_csv(\"./../data/ccer/D2/buy.csv\", sep='|', engine='python', na_filter=False).astype(str)\n",
    "gt = pd.read_csv(\"./../data/ccer/D2/gt.csv\", sep='|', engine='python')\n",
    "\n",
    "data = Data(\n",
    "    dataset_1=d1,\n",
    "    attributes_1=['id','name','description'],\n",
    "    id_column_name_1='id',\n",
    "    dataset_2=d2,\n",
    "    attributes_2=['id','name','description'],\n",
    "    id_column_name_2='id',\n",
    "    ground_truth=gt,\n",
    ")\n",
    "\n",
    "data.process()"
   ]
  },
  {
   "cell_type": "markdown",
   "id": "5d8a8a78-858e-4c79-90fe-197a68e95e11",
   "metadata": {},
   "source": [
    "pyJedAI offers also dataset analysis methods (more will be developed)"
   ]
  },
  {
   "cell_type": "code",
   "execution_count": null,
   "id": "7cb87af2-adda-49e0-82cc-b1a5f7a595ef",
   "metadata": {},
   "outputs": [],
   "source": [
    "data.print_specs()"
   ]
  },
  {
   "cell_type": "code",
   "execution_count": null,
   "id": "b822d7c0-19a2-4050-9554-c35a208bb848",
   "metadata": {},
   "outputs": [],
   "source": [
    "data.dataset_1.head(5)"
   ]
  },
  {
   "cell_type": "code",
   "execution_count": null,
   "id": "5c26b595-5e02-4bfc-8e79-e476ab2830ef",
   "metadata": {},
   "outputs": [],
   "source": [
    "data.dataset_2.head(5)"
   ]
  },
  {
   "cell_type": "code",
   "execution_count": null,
   "id": "b3c9827e-a08a-47b2-a7f2-6f3f72184a17",
   "metadata": {},
   "outputs": [],
   "source": [
    "data.ground_truth.head(3)"
   ]
  },
  {
   "cell_type": "markdown",
   "id": "9c068252-4a69-405a-a320-c2875ec08ea5",
   "metadata": {},
   "source": [
    "# Block Building\n",
    "\n",
    "It clusters entities into overlapping blocks in a lazy manner that relies on unsupervised blocking keys: every token in an attribute value forms a key. Blocks are then extracted, possibly using a transformation, based on its equality or on its similarity with other keys.\n",
    "\n",
    "The following methods are currently supported:\n",
    "\n",
    "- Standard/Token Blocking\n",
    "- Sorted Neighborhood\n",
    "- Extended Sorted Neighborhood\n",
    "- Q-Grams Blocking\n",
    "- Extended Q-Grams Blocking\n",
    "- Suffix Arrays Blocking\n",
    "- Extended Suffix Arrays Blocking"
   ]
  },
  {
   "cell_type": "code",
   "execution_count": null,
   "id": "9c1b6213-a218-40cf-bc72-801b77d28da9",
   "metadata": {},
   "outputs": [],
   "source": [
    "from pyjedai.block_building import (\n",
    "    StandardBlocking,\n",
    "    QGramsBlocking,\n",
    "    ExtendedQGramsBlocking,\n",
    "    SuffixArraysBlocking,\n",
    "    ExtendedSuffixArraysBlocking,\n",
    ")\n",
    "\n",
    "from pyjedai.vector_based_blocking import EmbeddingsNNBlockBuilding"
   ]
  },
  {
   "cell_type": "code",
   "execution_count": null,
   "id": "9741f0c4-6250-455f-9c88-b8dc61ab7d4d",
   "metadata": {},
   "outputs": [],
   "source": [
    "qgb = SuffixArraysBlocking()\n",
    "blocks = qgb.build_blocks(data, attributes_1=['name'], attributes_2=['name'])"
   ]
  },
  {
   "cell_type": "code",
   "execution_count": null,
   "id": "d2d9ae46-28fa-4438-87b7-ba901c75bd99",
   "metadata": {},
   "outputs": [],
   "source": [
    "qgb.report()"
   ]
  },
  {
   "cell_type": "code",
   "execution_count": null,
   "id": "b0ac846d-0f13-4b90-b4c8-688054ed7ffe",
   "metadata": {},
   "outputs": [],
   "source": [
    "e = Evaluation(data)\n",
    "e.report(blocks, qgb.method_configuration())"
   ]
  },
  {
   "cell_type": "markdown",
   "id": "9f9e77d5-c906-431a-bdc7-68dc9c00cc31",
   "metadata": {
    "tags": []
   },
   "source": [
    "# Block Cleaning\n",
    "\n",
    "___Optional step___\n",
    "\n",
    "Its goal is to clean a set of overlapping blocks from unnecessary comparisons, which can be either redundant (i.e., repeated comparisons that have already been executed in a previously examined block) or superfluous (i.e., comparisons that involve non-matching entities). Its methods operate on the coarse level of individual blocks or entities."
   ]
  },
  {
   "cell_type": "code",
   "execution_count": null,
   "id": "9c2c0e42-485a-444e-9161-975f30d21a02",
   "metadata": {},
   "outputs": [],
   "source": [
    "from pyjedai.block_cleaning import BlockFiltering"
   ]
  },
  {
   "cell_type": "code",
   "execution_count": null,
   "id": "bf5c20ac-b16a-484d-82b0-61ecb9e7f3ea",
   "metadata": {},
   "outputs": [],
   "source": [
    "bf = BlockFiltering(ratio=0.8)\n",
    "filtered_blocks = bf.process(blocks, data, tqdm_disable=False)"
   ]
  },
  {
   "cell_type": "code",
   "execution_count": null,
   "id": "25fd0be0-91c3-4d0b-b596-c66dccba3c79",
   "metadata": {},
   "outputs": [],
   "source": [
    "Evaluation(data).report(filtered_blocks, bf.method_configuration())"
   ]
  },
  {
   "cell_type": "markdown",
   "id": "9cd12048-bd0c-4571-ba70-488d46afcdd6",
   "metadata": {},
   "source": [
    "# Comparison Cleaning\n",
    "\n",
    "___Optional step___\n",
    "\n",
    "Similar to Block Cleaning, this step aims to clean a set of blocks from both redundant and superfluous comparisons. Unlike Block Cleaning, its methods operate on the finer granularity of individual comparisons.\n",
    "\n",
    "The following methods are currently supported:\n",
    "\n",
    "- Comparison Propagation\n",
    "- Cardinality Edge Pruning (CEP)\n",
    "- Cardinality Node Pruning (CNP)\n",
    "- Weighed Edge Pruning (WEP)\n",
    "- Weighed Node Pruning (WNP)\n",
    "- Reciprocal Cardinality Node Pruning (ReCNP)\n",
    "- Reciprocal Weighed Node Pruning (ReWNP)\n",
    "- BLAST\n",
    "\n",
    "Most of these methods are Meta-blocking techniques. All methods are optional, but competive, in the sense that only one of them can part of an ER workflow. For more details on the functionality of these methods, see here. They can be combined with one of the following weighting schemes:\n",
    "\n",
    "- Aggregate Reciprocal Comparisons Scheme (ARCS)\n",
    "- Common Blocks Scheme (CBS)\n",
    "- Enhanced Common Blocks Scheme (ECBS)\n",
    "- Jaccard Scheme (JS)\n",
    "- Enhanced Jaccard Scheme (EJS)"
   ]
  },
  {
   "cell_type": "code",
   "execution_count": null,
   "id": "725426e2-0af8-4295-baff-92653c841fdd",
   "metadata": {},
   "outputs": [],
   "source": [
    "from pyjedai.block_cleaning import BlockPurging"
   ]
  },
  {
   "cell_type": "code",
   "execution_count": null,
   "id": "7997b2b6-9629-44f0-a66d-5bc4fea28fb6",
   "metadata": {},
   "outputs": [],
   "source": [
    "cbbp = BlockPurging()\n",
    "cleaned_blocks = cbbp.process(filtered_blocks, data, tqdm_disable=False)"
   ]
  },
  {
   "cell_type": "code",
   "execution_count": null,
   "id": "d8842b00-8765-449f-bdb7-f9b2206e91c7",
   "metadata": {},
   "outputs": [],
   "source": [
    "cbbp.report()"
   ]
  },
  {
   "cell_type": "code",
   "execution_count": null,
   "id": "bfbef308-2ae0-4a2b-aec4-1bac09e426a1",
   "metadata": {},
   "outputs": [],
   "source": [
    "e = Evaluation(data)\n",
    "e.report(cleaned_blocks, cbbp.method_configuration())"
   ]
  },
  {
   "cell_type": "markdown",
   "id": "4920ae72-7ad6-42aa-932b-aaae20ace85a",
   "metadata": {},
   "source": [
    "## Meta Blocking"
   ]
  },
  {
   "cell_type": "code",
   "execution_count": null,
   "id": "1f7d75f3-6bed-482d-a572-c3b4927236a5",
   "metadata": {},
   "outputs": [],
   "source": [
    "from pyjedai.comparison_cleaning import (\n",
    "    WeightedEdgePruning,\n",
    "    WeightedNodePruning,\n",
    "    CardinalityEdgePruning,\n",
    "    CardinalityNodePruning,\n",
    "    BLAST,\n",
    "    ReciprocalCardinalityNodePruning,\n",
    "    ReciprocalWeightedNodePruning,\n",
    "    ComparisonPropagation\n",
    ")"
   ]
  },
  {
   "cell_type": "code",
   "execution_count": null,
   "id": "c92e0ca3-5591-4620-b3f4-012a23637416",
   "metadata": {},
   "outputs": [],
   "source": [
    "wep = CardinalityEdgePruning(weighting_scheme='X2')\n",
    "candidate_pairs_blocks = wep.process(filtered_blocks, data, tqdm_disable=True)"
   ]
  },
  {
   "cell_type": "code",
   "execution_count": null,
   "id": "f469e387-e135-4945-b97f-da14d391c6b1",
   "metadata": {},
   "outputs": [],
   "source": [
    "Evaluation(data).report(candidate_pairs_blocks, wep.method_configuration())"
   ]
  },
  {
   "cell_type": "markdown",
   "id": "6aeff39a-b51b-4166-a55b-f8452ec258a7",
   "metadata": {},
   "source": [
    "# Entity Matching\n",
    "\n",
    "It compares pairs of entity profiles, associating every pair with a similarity in [0,1]. Its output comprises the similarity graph, i.e., an undirected, weighted graph where the nodes correspond to entities and the edges connect pairs of compared entities."
   ]
  },
  {
   "cell_type": "code",
   "execution_count": null,
   "id": "f479d967-8bac-4870-99bd-68c01e75747b",
   "metadata": {},
   "outputs": [],
   "source": [
    "from pyjedai.matching import EntityMatching"
   ]
  },
  {
   "cell_type": "code",
   "execution_count": null,
   "id": "ae7b1e6a-e937-44fe-bfe5-34696ea1156c",
   "metadata": {},
   "outputs": [],
   "source": [
    "EM = EntityMatching(\n",
    "    metric='sorensen_dice',\n",
    "    similarity_threshold=0.5,\n",
    "    attributes = ['description', 'name']\n",
    ")\n",
    "\n",
    "pairs_graph = EM.predict(candidate_pairs_blocks, data, tqdm_disable=True)"
   ]
  },
  {
   "cell_type": "code",
   "execution_count": null,
   "id": "4d606bfc-3265-4042-93f3-22a1117c4886",
   "metadata": {},
   "outputs": [],
   "source": [
    "draw(pairs_graph)"
   ]
  },
  {
   "cell_type": "code",
   "execution_count": null,
   "id": "4a2a5f4a-6ffa-4c16-ae49-ff4fec4c467d",
   "metadata": {},
   "outputs": [],
   "source": [
    "Evaluation(data).report(pairs_graph, EM.method_configuration())"
   ]
  },
  {
   "cell_type": "markdown",
   "id": "93b72120-4578-4d5c-a408-a24ee78bf6cb",
   "metadata": {},
   "source": [
    "# Entity Clustering\n",
    "\n",
    "It takes as input the similarity graph produced by Entity Matching and partitions it into a set of equivalence clusters, with every cluster corresponding to a distinct real-world object."
   ]
  },
  {
   "cell_type": "code",
   "execution_count": null,
   "id": "500d2ef7-7017-4dba-bbea-acdba8abf5b7",
   "metadata": {},
   "outputs": [],
   "source": [
    "from pyjedai.clustering import ConnectedComponentsClustering"
   ]
  },
  {
   "cell_type": "code",
   "execution_count": null,
   "id": "aebd9329-3a4b-48c9-bd05-c7bd4aed3ca9",
   "metadata": {},
   "outputs": [],
   "source": [
    "ccc = ConnectedComponentsClustering()\n",
    "clusters = ccc.process(pairs_graph)"
   ]
  },
  {
   "cell_type": "code",
   "execution_count": null,
   "id": "5b52a534-691a-48be-b5e9-c073dc04b154",
   "metadata": {},
   "outputs": [],
   "source": [
    "ccc.report()"
   ]
  },
  {
   "cell_type": "code",
   "execution_count": null,
   "id": "00bc2e82-9bc1-4119-b8cb-4a1c18afee19",
   "metadata": {},
   "outputs": [],
   "source": [
    "Evaluation(data).report(clusters)"
   ]
  },
  {
   "cell_type": "code",
   "execution_count": null,
   "id": "074019c0-4b30-4270-a0c2-680149e0a345",
   "metadata": {
    "tags": []
   },
   "outputs": [],
   "source": [
    "e.confusion_matrix()"
   ]
  },
  {
   "cell_type": "markdown",
   "id": "315369d8-6564-44d4-aea0-14034b54cf16",
   "metadata": {},
   "source": [
    "<hr>\n",
    "<div align=\"right\">\n",
    "K. Nikoletos, G. Papadakis & M. Koubarakis\n",
    "</div>\n",
    "<div align=\"right\">\n",
    "<a href=\"https://github.com/Nikoletos-K/pyJedAI/blob/main/LICENSE\">Apache License 2.0</a>\n",
    "</div>"
   ]
  }
 ],
 "metadata": {
  "kernelspec": {
   "display_name": "Python 3 (ipykernel)",
   "language": "python",
   "name": "python3"
  },
  "language_info": {
   "codemirror_mode": {
    "name": "ipython",
    "version": 3
   },
   "file_extension": ".py",
   "mimetype": "text/x-python",
   "name": "python",
   "nbconvert_exporter": "python",
   "pygments_lexer": "ipython3",
   "version": "3.10.5"
  },
  "vscode": {
   "interpreter": {
    "hash": "824e5f4123a1a5b690f910010b2896a5dc6379151ca1c56e0c0465c15ebbd094"
   }
  }
 },
 "nbformat": 4,
 "nbformat_minor": 5
}
