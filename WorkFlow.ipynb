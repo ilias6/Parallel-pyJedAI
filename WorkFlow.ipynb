{
 "cells": [
  {
   "cell_type": "markdown",
   "id": "855fdafb-cce9-44ee-bdf9-776a375494ed",
   "metadata": {},
   "source": [
    "# pyjedai WorkFlow module"
   ]
  },
  {
   "cell_type": "code",
   "execution_count": 1,
   "id": "4583ae66-fdc5-4e17-a297-83d7b59e79b8",
   "metadata": {},
   "outputs": [],
   "source": [
    "import os\n",
    "import sys\n",
    "import pandas as pd\n",
    "%load_ext autoreload\n",
    "%autoreload 2\n",
    "%reload_ext autoreload"
   ]
  },
  {
   "cell_type": "markdown",
   "id": "d574554b-4712-4a9d-b449-596f91372fda",
   "metadata": {},
   "source": [
    "## Data Reading"
   ]
  },
  {
   "cell_type": "code",
   "execution_count": 2,
   "id": "81b21794-778c-451b-b323-77b47022b915",
   "metadata": {},
   "outputs": [],
   "source": [
    "from pyjedai.datamodel import Data\n",
    "\n",
    "data = Data(\n",
    "    dataset_1=pd.read_csv(\"./data/D2/abt.csv\", sep='|', engine='python', na_filter=False).astype(str),\n",
    "    attributes_1=['id','name','description'],\n",
    "    id_column_name_1='id',\n",
    "    dataset_2=pd.read_csv(\"./data/D2/buy.csv\", sep='|', engine='python', na_filter=False).astype(str),\n",
    "    attributes_2=['id','name','description'],\n",
    "    id_column_name_2='id',\n",
    "    ground_truth=pd.read_csv(\"./data/D2/gt.csv\", sep='|', engine='python'),\n",
    ")\n",
    "\n",
    "data.process()"
   ]
  },
  {
   "cell_type": "markdown",
   "id": "fadab403-9b4c-410f-9112-2264ca299252",
   "metadata": {},
   "source": [
    "## WorkFlow"
   ]
  },
  {
   "cell_type": "code",
   "execution_count": 3,
   "id": "94f6212e-3d0d-4b89-b213-d06cfbb553c9",
   "metadata": {},
   "outputs": [],
   "source": [
    "from pyjedai.workflow import WorkFlow\n",
    "from pyjedai.block_building import StandardBlocking, QGramsBlocking, ExtendedQGramsBlocking, SuffixArraysBlocking, ExtendedSuffixArraysBlocking\n",
    "from pyjedai.block_cleaning import BlockFiltering, BlockPurging\n",
    "from pyjedai.comparison_cleaning import WeightedEdgePruning, WeightedNodePruning, CardinalityEdgePruning, CardinalityNodePruning, BLAST, ReciprocalCardinalityNodePruning, ReciprocalWeightedNodePruning, ComparisonPropagation\n",
    "from pyjedai.matching import EntityMatching\n",
    "from pyjedai.clustering import ConnectedComponentsClustering"
   ]
  },
  {
   "cell_type": "code",
   "execution_count": 4,
   "id": "1a3675c9-a30f-4c20-a91c-affe3e09f14c",
   "metadata": {},
   "outputs": [],
   "source": [
    "w = WorkFlow(\n",
    "    block_building = dict(\n",
    "        method=QGramsBlocking, \n",
    "        params=dict(qgrams=3),\n",
    "        attributes_1=['name'],\n",
    "        attributes_2=['name']\n",
    "    ),\n",
    "    block_cleaning = [\n",
    "        dict(\n",
    "            method=BlockFiltering, \n",
    "            params=dict(ratio=0.8)\n",
    "        ),\n",
    "        dict(\n",
    "            method=BlockPurging, \n",
    "            params=dict(smoothing_factor=1.025)\n",
    "        )\n",
    "    ],\n",
    "    comparison_cleaning = dict(method=CardinalityEdgePruning),\n",
    "        entity_matching = dict(\n",
    "        method=EntityMatching, \n",
    "        metric='sorensen_dice',\n",
    "        similarity_threshold=0.5,\n",
    "        attributes = ['description', 'name']\n",
    "    ),\n",
    "    clustering = dict(method=ConnectedComponentsClustering)\n",
    ")"
   ]
  },
  {
   "cell_type": "code",
   "execution_count": 9,
   "id": "1f3f7c12-fcae-4175-bb5c-3d4989372107",
   "metadata": {},
   "outputs": [
    {
     "name": "stdout",
     "output_type": "stream",
     "text": [
      "# Q-Grams Blocking Evaluation \n",
      "---\n",
      "Method name: Q-Grams Blocking\n",
      "Parameters: \n",
      "\tQ-Gramms: 3\n",
      "Runtime: 0.2310 seconds\n",
      "Scores:\n",
      "\tPrecision:      0.08% \n",
      "\tRecall:       100.00%\n",
      "\tF1-score:       0.17%\n",
      "Classification report:\n",
      "\tTrue positives: 1076\n",
      "\tFalse positives: 1282428\n",
      "\tTrue negatives: -124652\n",
      "\tFalse negatives: 0\n",
      "\tTotal comparisons: 1283504\n",
      "---\n",
      "# Block Filtering Evaluation \n",
      "---\n",
      "Method name: Block Filtering\n",
      "Parameters: \n",
      "\tRatio: 0.8\n",
      "Runtime: 0.1130 seconds\n",
      "Scores:\n",
      "\tPrecision:      0.06% \n",
      "\tRecall:        99.91%\n",
      "\tF1-score:       0.12%\n",
      "Classification report:\n",
      "\tTrue positives: 1075\n",
      "\tFalse positives: 1757290\n",
      "\tTrue negatives: -599515\n",
      "\tFalse negatives: 1\n",
      "\tTotal comparisons: 1758365\n",
      "---\n",
      "# Block Purging Evaluation \n",
      "---\n",
      "Method name: Block Purging\n",
      "Parameters: \n",
      "\tSmoothing factor: 1.025\n",
      "\tMax Comparisons per Block: 9191.0\n",
      "Runtime: 0.0270 seconds\n",
      "Scores:\n",
      "\tPrecision:      0.05% \n",
      "\tRecall:        99.91%\n",
      "\tF1-score:       0.10%\n",
      "Classification report:\n",
      "\tTrue positives: 1075\n",
      "\tFalse positives: 2232151\n",
      "\tTrue negatives: -1074376\n",
      "\tFalse negatives: 1\n",
      "\tTotal comparisons: 2233226\n",
      "---\n",
      "# Cardinality Edge Pruning Evaluation \n",
      "---\n",
      "Method name: Cardinality Edge Pruning\n",
      "Parameters: \n",
      "\tNode centric: False\n",
      "\tWeighting scheme: JS\n",
      "Runtime: 2.0215 seconds\n",
      "Scores:\n",
      "\tPrecision:      4.58% \n",
      "\tRecall:        98.61%\n",
      "\tF1-score:       8.75%\n",
      "Classification report:\n",
      "\tTrue positives: 1061\n",
      "\tFalse positives: 22121\n",
      "\tTrue negatives: 1135640\n",
      "\tFalse negatives: 15\n",
      "\tTotal comparisons: 23182\n",
      "---\n",
      "# Entity Matching Evaluation \n",
      "---\n",
      "Method name: Entity Matching\n",
      "Parameters: \n",
      "\tMetric: sorensen_dice\n",
      "\tEmbeddings: None\n",
      "\tAttributes: None\n",
      "\tSimilarity threshold: None\n",
      "Runtime: 15.0340 seconds\n",
      "Scores:\n",
      "\tPrecision:      4.58% \n",
      "\tRecall:        98.61%\n",
      "\tF1-score:       8.75%\n",
      "Classification report:\n",
      "\tTrue positives: 1061\n",
      "\tFalse positives: 22121\n",
      "\tTrue negatives: 1135640\n",
      "\tFalse negatives: 15\n",
      "\tTotal comparisons: 23182\n",
      "---\n",
      "# Connected Components Clustering Evaluation \n",
      "---\n",
      "Method name: Connected Components Clustering\n",
      "Parameters: \n",
      "Runtime: 0.0030 seconds\n",
      "Scores:\n",
      "\tPrecision:      0.09% \n",
      "\tRecall:        99.81%\n",
      "\tF1-score:       0.19%\n",
      "Classification report:\n",
      "\tTrue positives: 1074\n",
      "\tFalse positives: 1152097\n",
      "\tTrue negatives: 5677\n",
      "\tFalse negatives: 2\n",
      "\tTotal comparisons: 1153171\n",
      "---\n"
     ]
    }
   ],
   "source": [
    "w.run(data, tqdm_disable=True, verbose=True)"
   ]
  },
  {
   "cell_type": "code",
   "execution_count": 10,
   "id": "f01b9916-c30f-4409-b634-45cbcdb3270f",
   "metadata": {},
   "outputs": [
    {
     "data": {
      "text/html": [
       "<div>\n",
       "<style scoped>\n",
       "    .dataframe tbody tr th:only-of-type {\n",
       "        vertical-align: middle;\n",
       "    }\n",
       "\n",
       "    .dataframe tbody tr th {\n",
       "        vertical-align: top;\n",
       "    }\n",
       "\n",
       "    .dataframe thead th {\n",
       "        text-align: right;\n",
       "    }\n",
       "</style>\n",
       "<table border=\"1\" class=\"dataframe\">\n",
       "  <thead>\n",
       "    <tr style=\"text-align: right;\">\n",
       "      <th></th>\n",
       "      <th>Algorithm</th>\n",
       "      <th>F1</th>\n",
       "      <th>Recall</th>\n",
       "      <th>Precision</th>\n",
       "      <th>Runtime (sec)</th>\n",
       "      <th>Params</th>\n",
       "    </tr>\n",
       "  </thead>\n",
       "  <tbody>\n",
       "    <tr>\n",
       "      <th>0</th>\n",
       "      <td>Q-Grams Blocking</td>\n",
       "      <td>0.167526</td>\n",
       "      <td>100.000000</td>\n",
       "      <td>0.083833</td>\n",
       "      <td>0.231001</td>\n",
       "      <td>{'Q-Gramms': 3}</td>\n",
       "    </tr>\n",
       "    <tr>\n",
       "      <th>1</th>\n",
       "      <td>Block Filtering</td>\n",
       "      <td>0.122198</td>\n",
       "      <td>99.907063</td>\n",
       "      <td>0.061136</td>\n",
       "      <td>0.112996</td>\n",
       "      <td>{'Ratio': 0.8}</td>\n",
       "    </tr>\n",
       "    <tr>\n",
       "      <th>2</th>\n",
       "      <td>Block Purging</td>\n",
       "      <td>0.096227</td>\n",
       "      <td>99.907063</td>\n",
       "      <td>0.048137</td>\n",
       "      <td>0.026999</td>\n",
       "      <td>{'Smoothing factor': 1.025, 'Max Comparisons p...</td>\n",
       "    </tr>\n",
       "    <tr>\n",
       "      <th>3</th>\n",
       "      <td>Cardinality Edge Pruning</td>\n",
       "      <td>8.747630</td>\n",
       "      <td>98.605948</td>\n",
       "      <td>4.576827</td>\n",
       "      <td>2.021520</td>\n",
       "      <td>{'Node centric': False, 'Weighting scheme': 'JS'}</td>\n",
       "    </tr>\n",
       "    <tr>\n",
       "      <th>4</th>\n",
       "      <td>Entity Matching</td>\n",
       "      <td>8.747630</td>\n",
       "      <td>98.605948</td>\n",
       "      <td>4.576827</td>\n",
       "      <td>15.034010</td>\n",
       "      <td>{'Metric': 'sorensen_dice', 'Embeddings': None...</td>\n",
       "    </tr>\n",
       "    <tr>\n",
       "      <th>5</th>\n",
       "      <td>Connected Components Clustering</td>\n",
       "      <td>0.186095</td>\n",
       "      <td>99.814126</td>\n",
       "      <td>0.093134</td>\n",
       "      <td>0.003005</td>\n",
       "      <td>{}</td>\n",
       "    </tr>\n",
       "  </tbody>\n",
       "</table>\n",
       "</div>"
      ],
      "text/plain": [
       "                         Algorithm        F1      Recall  Precision  \\\n",
       "0                 Q-Grams Blocking  0.167526  100.000000   0.083833   \n",
       "1                  Block Filtering  0.122198   99.907063   0.061136   \n",
       "2                    Block Purging  0.096227   99.907063   0.048137   \n",
       "3         Cardinality Edge Pruning  8.747630   98.605948   4.576827   \n",
       "4                  Entity Matching  8.747630   98.605948   4.576827   \n",
       "5  Connected Components Clustering  0.186095   99.814126   0.093134   \n",
       "\n",
       "   Runtime (sec)                                             Params  \n",
       "0       0.231001                                    {'Q-Gramms': 3}  \n",
       "1       0.112996                                     {'Ratio': 0.8}  \n",
       "2       0.026999  {'Smoothing factor': 1.025, 'Max Comparisons p...  \n",
       "3       2.021520  {'Node centric': False, 'Weighting scheme': 'JS'}  \n",
       "4      15.034010  {'Metric': 'sorensen_dice', 'Embeddings': None...  \n",
       "5       0.003005                                                 {}  "
      ]
     },
     "execution_count": 10,
     "metadata": {},
     "output_type": "execute_result"
    }
   ],
   "source": [
    "w.to_df()"
   ]
  },
  {
   "cell_type": "code",
   "execution_count": 11,
   "id": "4dad448b-4871-4064-9ae6-ddab6b6149e9",
   "metadata": {},
   "outputs": [
    {
     "data": {
      "image/png": "[encoded data removed]",
      "text/plain": [
       "<Figure size 720x576 with 2 Axes>"
      ]
     },
     "metadata": {},
     "output_type": "display_data"
    }
   ],
   "source": [
    "w.visualize()"
   ]
  },
  {
   "cell_type": "markdown",
   "id": "a7a2035f-14af-4499-8dc9-01dd2abe563a",
   "metadata": {},
   "source": [
    "## Multiple workflows - Comparison"
   ]
  },
  {
   "cell_type": "code",
   "execution_count": null,
   "id": "5d3cc423-5ef0-42d3-8607-b34177ecebbe",
   "metadata": {},
   "outputs": [],
   "source": []
  }
 ],
 "metadata": {
  "kernelspec": {
   "display_name": "Python 3",
   "language": "python",
   "name": "python3"
  },
  "language_info": {
   "codemirror_mode": {
    "name": "ipython",
    "version": 3
   },
   "file_extension": ".py",
   "mimetype": "text/x-python",
   "name": "python",
   "nbconvert_exporter": "python",
   "pygments_lexer": "ipython3",
   "version": "3.10.5"
  }
 },
 "nbformat": 4,
 "nbformat_minor": 5
}
