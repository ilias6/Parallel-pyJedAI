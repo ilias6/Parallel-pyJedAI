{
 "cells": [
  {
   "cell_type": "markdown",
   "id": "855fdafb-cce9-44ee-bdf9-776a375494ed",
   "metadata": {},
   "source": [
    "# pyjedai WorkFlow module"
   ]
  },
  {
   "cell_type": "markdown",
   "id": "1f847fd2-f06f-4682-a2e1-22549d940a38",
   "metadata": {},
   "source": [
    "__Abt-Buy dataset__\n",
    "\n",
    "The Abt-Buy dataset for entity resolution derives from the online retailers Abt.com and Buy.com. The dataset contains 1076 entities from abt.com and 1076 entities from buy.com as well as a gold standard (perfect mapping) with 1076 matching record pairs between the two data sources. The common attributes between the two data sources are: product name, product description and product price."
   ]
  },
  {
   "cell_type": "code",
   "execution_count": 1,
   "id": "4583ae66-fdc5-4e17-a297-83d7b59e79b8",
   "metadata": {},
   "outputs": [],
   "source": [
    "import os\n",
    "import sys\n",
    "import pandas as pd\n",
    "import networkx\n",
    "from networkx import draw, Graph\n",
    "%load_ext autoreload\n",
    "%autoreload 2\n",
    "%reload_ext autoreload"
   ]
  },
  {
   "cell_type": "markdown",
   "id": "8e1218f0-fc30-4f28-9c8b-5efa234343ed",
   "metadata": {},
   "source": [
    "Import pyjedai"
   ]
  },
  {
   "cell_type": "code",
   "execution_count": 2,
   "id": "fd9141c6-c52a-4e40-9f39-f0a810b5a58a",
   "metadata": {},
   "outputs": [],
   "source": [
    "from pyjedai.utils import (\n",
    "    text_cleaning_method,\n",
    "    print_clusters,\n",
    "    print_blocks,\n",
    "    print_candidate_pairs\n",
    ")\n",
    "from pyjedai.evaluation import Evaluation, write"
   ]
  },
  {
   "cell_type": "markdown",
   "id": "d574554b-4712-4a9d-b449-596f91372fda",
   "metadata": {},
   "source": [
    "## Data Reading\n",
    "\n",
    "pyJedAI in order to perfrom needs only the tranformation of the initial data into a pandas DataFrame. Hence, pyJedAI can function in every structured or semi-structured data. In this case Abt-Buy dataset is provided as .csv files. \n"
   ]
  },
  {
   "cell_type": "code",
   "execution_count": 3,
   "id": "7ec58f4e-b0fa-4307-b5f4-d6a832de066b",
   "metadata": {},
   "outputs": [],
   "source": [
    "from pyjedai.datamodel import Data"
   ]
  },
  {
   "cell_type": "code",
   "execution_count": 4,
   "id": "81b21794-778c-451b-b323-77b47022b915",
   "metadata": {},
   "outputs": [],
   "source": [
    "d1 = pd.read_csv(\"./data/D2/abt.csv\", sep='|', engine='python', na_filter=False).astype(str)\n",
    "d2 = pd.read_csv(\"./data/D2/buy.csv\", sep='|', engine='python', na_filter=False).astype(str)\n",
    "gt = pd.read_csv(\"./data/D2/gt.csv\", sep='|', engine='python')\n",
    "\n",
    "data = Data(\n",
    "    dataset_1=d1,\n",
    "    attributes_1=['id','name','description'],\n",
    "    id_column_name_1='id',\n",
    "    dataset_2=d2,\n",
    "    attributes_2=['id','name','description'],\n",
    "    id_column_name_2='id',\n",
    "    ground_truth=gt,\n",
    ")\n",
    "\n",
    "data.process()"
   ]
  },
  {
   "cell_type": "markdown",
   "id": "24ae201c-5a62-4491-b691-8364334d40b4",
   "metadata": {},
   "source": [
    "pyJedAI offers also dataset analysis methods (more will be developed)"
   ]
  },
  {
   "cell_type": "code",
   "execution_count": 5,
   "id": "dddfc1f4-b5e9-4b94-95fe-9c6c9dc74765",
   "metadata": {},
   "outputs": [
    {
     "name": "stdout",
     "output_type": "stream",
     "text": [
      "Type of Entity Resolution:  Clean-Clean\n",
      "Number of entities in D1:  1076\n",
      "Attributes provided  for D1:  ['id', 'name', 'description']\n",
      "\n",
      "Number of entities in D2:  1076\n",
      "Attributes provided  for D2:  ['id', 'name', 'description']\n",
      "\n",
      "Total number of entities:  2152\n",
      "Number of matching pairs in ground-truth:  1076\n"
     ]
    }
   ],
   "source": [
    "data.print_specs()"
   ]
  },
  {
   "cell_type": "code",
   "execution_count": 6,
   "id": "caa4cb40-d77d-411d-a95a-48f0190c557a",
   "metadata": {},
   "outputs": [
    {
     "data": {
      "text/html": [
       "<div>\n",
       "<style scoped>\n",
       "    .dataframe tbody tr th:only-of-type {\n",
       "        vertical-align: middle;\n",
       "    }\n",
       "\n",
       "    .dataframe tbody tr th {\n",
       "        vertical-align: top;\n",
       "    }\n",
       "\n",
       "    .dataframe thead th {\n",
       "        text-align: right;\n",
       "    }\n",
       "</style>\n",
       "<table border=\"1\" class=\"dataframe\">\n",
       "  <thead>\n",
       "    <tr style=\"text-align: right;\">\n",
       "      <th></th>\n",
       "      <th>id</th>\n",
       "      <th>name</th>\n",
       "      <th>description</th>\n",
       "      <th>price</th>\n",
       "    </tr>\n",
       "  </thead>\n",
       "  <tbody>\n",
       "    <tr>\n",
       "      <th>0</th>\n",
       "      <td>0</td>\n",
       "      <td>Sony Turntable - PSLX350H</td>\n",
       "      <td>Sony Turntable - PSLX350H/ Belt Drive System/ ...</td>\n",
       "      <td></td>\n",
       "    </tr>\n",
       "    <tr>\n",
       "      <th>1</th>\n",
       "      <td>1</td>\n",
       "      <td>Bose Acoustimass 5 Series III Speaker System -...</td>\n",
       "      <td>Bose Acoustimass 5 Series III Speaker System -...</td>\n",
       "      <td>399</td>\n",
       "    </tr>\n",
       "    <tr>\n",
       "      <th>2</th>\n",
       "      <td>2</td>\n",
       "      <td>Sony Switcher - SBV40S</td>\n",
       "      <td>Sony Switcher - SBV40S/ Eliminates Disconnecti...</td>\n",
       "      <td>49</td>\n",
       "    </tr>\n",
       "    <tr>\n",
       "      <th>3</th>\n",
       "      <td>3</td>\n",
       "      <td>Sony 5 Disc CD Player - CDPCE375</td>\n",
       "      <td>Sony 5 Disc CD Player- CDPCE375/ 5 Disc Change...</td>\n",
       "      <td></td>\n",
       "    </tr>\n",
       "    <tr>\n",
       "      <th>4</th>\n",
       "      <td>4</td>\n",
       "      <td>Bose 27028 161 Bookshelf Pair Speakers In Whit...</td>\n",
       "      <td>Bose 161 Bookshelf Speakers In White - 161WH/ ...</td>\n",
       "      <td>158</td>\n",
       "    </tr>\n",
       "  </tbody>\n",
       "</table>\n",
       "</div>"
      ],
      "text/plain": [
       "  id                                               name  \\\n",
       "0  0                          Sony Turntable - PSLX350H   \n",
       "1  1  Bose Acoustimass 5 Series III Speaker System -...   \n",
       "2  2                             Sony Switcher - SBV40S   \n",
       "3  3                   Sony 5 Disc CD Player - CDPCE375   \n",
       "4  4  Bose 27028 161 Bookshelf Pair Speakers In Whit...   \n",
       "\n",
       "                                         description price  \n",
       "0  Sony Turntable - PSLX350H/ Belt Drive System/ ...        \n",
       "1  Bose Acoustimass 5 Series III Speaker System -...   399  \n",
       "2  Sony Switcher - SBV40S/ Eliminates Disconnecti...    49  \n",
       "3  Sony 5 Disc CD Player- CDPCE375/ 5 Disc Change...        \n",
       "4  Bose 161 Bookshelf Speakers In White - 161WH/ ...   158  "
      ]
     },
     "execution_count": 6,
     "metadata": {},
     "output_type": "execute_result"
    }
   ],
   "source": [
    "data.dataset_1.head(5)"
   ]
  },
  {
   "cell_type": "code",
   "execution_count": 7,
   "id": "02f7b72e-7066-4c15-abe6-2f678fb82cc7",
   "metadata": {},
   "outputs": [
    {
     "data": {
      "text/html": [
       "<div>\n",
       "<style scoped>\n",
       "    .dataframe tbody tr th:only-of-type {\n",
       "        vertical-align: middle;\n",
       "    }\n",
       "\n",
       "    .dataframe tbody tr th {\n",
       "        vertical-align: top;\n",
       "    }\n",
       "\n",
       "    .dataframe thead th {\n",
       "        text-align: right;\n",
       "    }\n",
       "</style>\n",
       "<table border=\"1\" class=\"dataframe\">\n",
       "  <thead>\n",
       "    <tr style=\"text-align: right;\">\n",
       "      <th></th>\n",
       "      <th>id</th>\n",
       "      <th>name</th>\n",
       "      <th>description</th>\n",
       "      <th>price</th>\n",
       "    </tr>\n",
       "  </thead>\n",
       "  <tbody>\n",
       "    <tr>\n",
       "      <th>0</th>\n",
       "      <td>0</td>\n",
       "      <td>Linksys EtherFast EZXS88W Ethernet Switch - EZ...</td>\n",
       "      <td>Linksys EtherFast 8-Port 10/100 Switch (New/Wo...</td>\n",
       "      <td></td>\n",
       "    </tr>\n",
       "    <tr>\n",
       "      <th>1</th>\n",
       "      <td>1</td>\n",
       "      <td>Linksys EtherFast EZXS55W Ethernet Switch</td>\n",
       "      <td>5 x 10/100Base-TX LAN</td>\n",
       "      <td></td>\n",
       "    </tr>\n",
       "    <tr>\n",
       "      <th>2</th>\n",
       "      <td>2</td>\n",
       "      <td>Netgear ProSafe FS105 Ethernet Switch - FS105NA</td>\n",
       "      <td>NETGEAR FS105 Prosafe 5 Port 10/100 Desktop Sw...</td>\n",
       "      <td></td>\n",
       "    </tr>\n",
       "    <tr>\n",
       "      <th>3</th>\n",
       "      <td>3</td>\n",
       "      <td>Belkin Pro Series High Integrity VGA/SVGA Moni...</td>\n",
       "      <td>1 x HD-15 - 1 x HD-15 - 10ft - Beige</td>\n",
       "      <td></td>\n",
       "    </tr>\n",
       "    <tr>\n",
       "      <th>4</th>\n",
       "      <td>4</td>\n",
       "      <td>Netgear ProSafe JFS516 Ethernet Switch</td>\n",
       "      <td>Netgear ProSafe 16 Port 10/100 Rackmount Switc...</td>\n",
       "      <td></td>\n",
       "    </tr>\n",
       "  </tbody>\n",
       "</table>\n",
       "</div>"
      ],
      "text/plain": [
       "  id                                               name  \\\n",
       "0  0  Linksys EtherFast EZXS88W Ethernet Switch - EZ...   \n",
       "1  1          Linksys EtherFast EZXS55W Ethernet Switch   \n",
       "2  2    Netgear ProSafe FS105 Ethernet Switch - FS105NA   \n",
       "3  3  Belkin Pro Series High Integrity VGA/SVGA Moni...   \n",
       "4  4             Netgear ProSafe JFS516 Ethernet Switch   \n",
       "\n",
       "                                         description price  \n",
       "0  Linksys EtherFast 8-Port 10/100 Switch (New/Wo...        \n",
       "1                              5 x 10/100Base-TX LAN        \n",
       "2  NETGEAR FS105 Prosafe 5 Port 10/100 Desktop Sw...        \n",
       "3               1 x HD-15 - 1 x HD-15 - 10ft - Beige        \n",
       "4  Netgear ProSafe 16 Port 10/100 Rackmount Switc...        "
      ]
     },
     "execution_count": 7,
     "metadata": {},
     "output_type": "execute_result"
    }
   ],
   "source": [
    "data.dataset_2.head(5)"
   ]
  },
  {
   "cell_type": "code",
   "execution_count": 8,
   "id": "4279017a-2925-447b-b829-29d0aa71f5ba",
   "metadata": {},
   "outputs": [
    {
     "data": {
      "text/html": [
       "<div>\n",
       "<style scoped>\n",
       "    .dataframe tbody tr th:only-of-type {\n",
       "        vertical-align: middle;\n",
       "    }\n",
       "\n",
       "    .dataframe tbody tr th {\n",
       "        vertical-align: top;\n",
       "    }\n",
       "\n",
       "    .dataframe thead th {\n",
       "        text-align: right;\n",
       "    }\n",
       "</style>\n",
       "<table border=\"1\" class=\"dataframe\">\n",
       "  <thead>\n",
       "    <tr style=\"text-align: right;\">\n",
       "      <th></th>\n",
       "      <th>D1</th>\n",
       "      <th>D2</th>\n",
       "    </tr>\n",
       "  </thead>\n",
       "  <tbody>\n",
       "    <tr>\n",
       "      <th>0</th>\n",
       "      <td>206</td>\n",
       "      <td>216</td>\n",
       "    </tr>\n",
       "    <tr>\n",
       "      <th>1</th>\n",
       "      <td>60</td>\n",
       "      <td>46</td>\n",
       "    </tr>\n",
       "    <tr>\n",
       "      <th>2</th>\n",
       "      <td>182</td>\n",
       "      <td>160</td>\n",
       "    </tr>\n",
       "  </tbody>\n",
       "</table>\n",
       "</div>"
      ],
      "text/plain": [
       "    D1   D2\n",
       "0  206  216\n",
       "1   60   46\n",
       "2  182  160"
      ]
     },
     "execution_count": 8,
     "metadata": {},
     "output_type": "execute_result"
    }
   ],
   "source": [
    "data.ground_truth.head(3)"
   ]
  },
  {
   "cell_type": "markdown",
   "id": "fadab403-9b4c-410f-9112-2264ca299252",
   "metadata": {},
   "source": [
    "## WorkFlow"
   ]
  },
  {
   "cell_type": "code",
   "execution_count": 9,
   "id": "94f6212e-3d0d-4b89-b213-d06cfbb553c9",
   "metadata": {},
   "outputs": [],
   "source": [
    "from pyjedai.workflow import WorkFlow"
   ]
  },
  {
   "cell_type": "markdown",
   "id": "65bc5faf-fe29-43e2-bd6c-23ee596085e4",
   "metadata": {},
   "source": [
    "### Block building"
   ]
  },
  {
   "cell_type": "code",
   "execution_count": 27,
   "id": "39869d05-6b83-4b9b-9831-d05d8ed82b3b",
   "metadata": {},
   "outputs": [],
   "source": [
    "from pyjedai.block_building import (\n",
    "    StandardBlocking,\n",
    "    QGramsBlocking,\n",
    "    ExtendedQGramsBlocking,\n",
    "    SuffixArraysBlocking,\n",
    "    ExtendedSuffixArraysBlocking\n",
    ")\n",
    "\n",
    "bb = dict(\n",
    "    method=QGramsBlocking, \n",
    "    params=dict(qgrams=3),\n",
    "    attributes_1=['name'],\n",
    "    attributes_2=['name']\n",
    ")"
   ]
  },
  {
   "cell_type": "markdown",
   "id": "8c96f5b7-2007-4796-aad0-aa707a230856",
   "metadata": {},
   "source": [
    "### Block cleaning"
   ]
  },
  {
   "cell_type": "code",
   "execution_count": 32,
   "id": "bb84d662-a7b1-41aa-a4a4-60c026c4423d",
   "metadata": {},
   "outputs": [],
   "source": [
    "from pyjedai.block_cleaning import BlockFiltering, BlockPurging\n",
    "\n",
    "bc = [\n",
    "    dict(\n",
    "        method=BlockFiltering, \n",
    "        params=dict(ratio=0.8)\n",
    "    ),\n",
    "    dict(\n",
    "        method=BlockPurging, \n",
    "        params=dict(smoothing_factor=1.025)\n",
    "    )\n",
    "]"
   ]
  },
  {
   "cell_type": "markdown",
   "id": "040efcf6-092c-4436-90cf-09dd6a762177",
   "metadata": {},
   "source": [
    "### Comparison Cleaning - META Blocking"
   ]
  },
  {
   "cell_type": "code",
   "execution_count": 44,
   "id": "1825888d-15a0-4bc1-b704-1fb7d9089dd4",
   "metadata": {},
   "outputs": [],
   "source": [
    "from pyjedai.comparison_cleaning import (\n",
    "    WeightedEdgePruning,\n",
    "    WeightedNodePruning,\n",
    "    CardinalityEdgePruning,\n",
    "    CardinalityNodePruning,\n",
    "    BLAST,\n",
    "    ReciprocalCardinalityNodePruning,\n",
    "    ReciprocalWeightedNodePruning,\n",
    "    ComparisonPropagation\n",
    ")\n",
    "\n",
    "cc = dict(method=CardinalityEdgePruning)"
   ]
  },
  {
   "cell_type": "markdown",
   "id": "962cfc16-2e1f-46fc-a3a9-0957e3006f03",
   "metadata": {},
   "source": [
    "### Entity Matching"
   ]
  },
  {
   "cell_type": "code",
   "execution_count": 52,
   "id": "ef1000fb-97d5-4f18-95a0-fa6adb9e332d",
   "metadata": {},
   "outputs": [],
   "source": [
    "from pyjedai.matching import EntityMatching\n",
    "\n",
    "em = dict(\n",
    "    method=EntityMatching, \n",
    "    metric='sorensen_dice',\n",
    "    similarity_threshold=0.5,\n",
    "    attributes = ['description', 'name']\n",
    ")"
   ]
  },
  {
   "cell_type": "markdown",
   "id": "39331788-4ab8-42f3-8b9c-526589335c86",
   "metadata": {},
   "source": [
    "### Clustering"
   ]
  },
  {
   "cell_type": "code",
   "execution_count": 58,
   "id": "7b226780-098a-47f8-b55f-3c2f6a88ae6b",
   "metadata": {},
   "outputs": [],
   "source": [
    "from pyjedai.clustering import ConnectedComponentsClustering\n",
    "\n",
    "c = dict(method=ConnectedComponentsClustering)"
   ]
  },
  {
   "cell_type": "code",
   "execution_count": 61,
   "id": "1a3675c9-a30f-4c20-a91c-affe3e09f14c",
   "metadata": {},
   "outputs": [],
   "source": [
    "w = WorkFlow(\n",
    "    block_building = bb,\n",
    "    block_cleaning = bc,\n",
    "    comparison_cleaning = cc,\n",
    "    entity_matching = em,\n",
    "    clustering = c\n",
    ")"
   ]
  },
  {
   "cell_type": "code",
   "execution_count": 63,
   "id": "1f3f7c12-fcae-4175-bb5c-3d4989372107",
   "metadata": {},
   "outputs": [
    {
     "name": "stdout",
     "output_type": "stream",
     "text": [
      "# Q-Grams Blocking Evaluation \n",
      "---\n",
      "Method name: Q-Grams Blocking\n",
      "Parameters: \n",
      "\tQ-Gramms: 3\n",
      "Runtime: 0.1841 seconds\n",
      "Scores:\n",
      "\tPrecision:      0.08% \n",
      "\tRecall:       100.00%\n",
      "\tF1-score:       0.17%\n",
      "Classification report:\n",
      "\tTrue positives: 1076\n",
      "\tFalse positives: 1282428\n",
      "\tTrue negatives: -124652\n",
      "\tFalse negatives: 0\n",
      "\tTotal comparisons: 1283504\n",
      "---\n",
      "# Block Filtering Evaluation \n",
      "---\n",
      "Method name: Block Filtering\n",
      "Parameters: \n",
      "\tRatio: 0.8\n",
      "Runtime: 0.0661 seconds\n",
      "Scores:\n",
      "\tPrecision:      0.06% \n",
      "\tRecall:        99.91%\n",
      "\tF1-score:       0.12%\n",
      "Classification report:\n",
      "\tTrue positives: 1075\n",
      "\tFalse positives: 1757290\n",
      "\tTrue negatives: -599515\n",
      "\tFalse negatives: 1\n",
      "\tTotal comparisons: 1758365\n",
      "---\n",
      "# Block Purging Evaluation \n",
      "---\n",
      "Method name: Block Purging\n",
      "Parameters: \n",
      "\tSmoothing factor: 1.025\n",
      "\tMax Comparisons per Block: 9191.0\n",
      "Runtime: 0.0190 seconds\n",
      "Scores:\n",
      "\tPrecision:      0.05% \n",
      "\tRecall:        99.91%\n",
      "\tF1-score:       0.10%\n",
      "Classification report:\n",
      "\tTrue positives: 1075\n",
      "\tFalse positives: 2232151\n",
      "\tTrue negatives: -1074376\n",
      "\tFalse negatives: 1\n",
      "\tTotal comparisons: 2233226\n",
      "---\n",
      "# Cardinality Edge Pruning Evaluation \n",
      "---\n",
      "Method name: Cardinality Edge Pruning\n",
      "Parameters: \n",
      "\tNode centric: False\n",
      "\tWeighting scheme: JS\n",
      "Runtime: 1.5052 seconds\n",
      "Scores:\n",
      "\tPrecision:      4.58% \n",
      "\tRecall:        98.61%\n",
      "\tF1-score:       8.75%\n",
      "Classification report:\n",
      "\tTrue positives: 1061\n",
      "\tFalse positives: 22121\n",
      "\tTrue negatives: 1135640\n",
      "\tFalse negatives: 15\n",
      "\tTotal comparisons: 23182\n",
      "---\n",
      "# Entity Matching Evaluation \n",
      "---\n",
      "Method name: Entity Matching\n",
      "Parameters: \n",
      "\tMetric: sorensen_dice\n",
      "\tEmbeddings: None\n",
      "\tAttributes: None\n",
      "\tSimilarity threshold: None\n",
      "Runtime: 14.2666 seconds\n",
      "Scores:\n",
      "\tPrecision:      4.58% \n",
      "\tRecall:        98.61%\n",
      "\tF1-score:       8.75%\n",
      "Classification report:\n",
      "\tTrue positives: 1061\n",
      "\tFalse positives: 22121\n",
      "\tTrue negatives: 1135640\n",
      "\tFalse negatives: 15\n",
      "\tTotal comparisons: 23182\n",
      "---\n",
      "# Connected Components Clustering Evaluation \n",
      "---\n",
      "Method name: Connected Components Clustering\n",
      "Parameters: \n",
      "Runtime: 0.0030 seconds\n",
      "Scores:\n",
      "\tPrecision:      0.09% \n",
      "\tRecall:        99.81%\n",
      "\tF1-score:       0.19%\n",
      "Classification report:\n",
      "\tTrue positives: 1074\n",
      "\tFalse positives: 1152097\n",
      "\tTrue negatives: 5677\n",
      "\tFalse negatives: 2\n",
      "\tTotal comparisons: 1153171\n",
      "---\n"
     ]
    }
   ],
   "source": [
    "w.run(data, tqdm_disable=True)"
   ]
  }
 ],
 "metadata": {
  "kernelspec": {
   "display_name": "Python 3",
   "language": "python",
   "name": "python3"
  },
  "language_info": {
   "codemirror_mode": {
    "name": "ipython",
    "version": 3
   },
   "file_extension": ".py",
   "mimetype": "text/x-python",
   "name": "python",
   "nbconvert_exporter": "python",
   "pygments_lexer": "ipython3",
   "version": "3.10.5"
  }
 },
 "nbformat": 4,
 "nbformat_minor": 5
}
